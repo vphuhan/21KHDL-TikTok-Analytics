{
 "cells": [
  {
   "cell_type": "code",
   "execution_count": 1,
   "id": "9e274e1b",
   "metadata": {},
   "outputs": [],
   "source": [
    "import pandas as pd\n",
    "import json\n",
    "import numpy as np\n",
    "from types import NoneType\n",
    "import re\n",
    "from IPython.display import display, Markdown\n",
    "\n",
    "# !pip install mlxtend\n",
    "# from mlxtend.preprocessing import TransactionEncoder\n",
    "# from mlxtend.frequent_patterns import apriori, association_rules\n",
    "import ast\n",
    "import json\n",
    "from collections import defaultdict\n",
    "from itertools import combinations, chain, product\n",
    "\n",
    "from google import genai\n",
    "from google.genai import types\n",
    "import os\n",
    "os.chdir(\"/Users/vophuhan/Everything/University/Năm 4/Semester 2/Ứng dụng Phân tích dữ liệu thông minh/21KHDL-TikTok-Analytics\")"
   ]
  },
  {
   "cell_type": "code",
   "execution_count": 2,
   "id": "0308392a",
   "metadata": {},
   "outputs": [],
   "source": [
    "features_df = pd.read_parquet(\n",
    "    'data/content-features-dataset/content_features-new-with-stats-top50WeeklyVideos.parquet')\n",
    "# features_df = pd.read_csv('content_features-raw-top50WeeklyVideos.csv')\n",
    "\n",
    "features_df = features_df[features_df['categories']\n",
    "                          != 'Không liên quan ẩm thực']"
   ]
  },
  {
   "cell_type": "code",
   "execution_count": 3,
   "id": "aec27369",
   "metadata": {},
   "outputs": [],
   "source": [
    "features_df['year'] = features_df['createTime'].dt.isocalendar().year\n",
    "features_df['week'] = features_df['createTime'].dt.isocalendar().week"
   ]
  },
  {
   "cell_type": "code",
   "execution_count": null,
   "id": "848454ec",
   "metadata": {},
   "outputs": [],
   "source": [
    "features_df['engagement_rate'] = (features_df['statsV2.diggCount'] + features_df['statsV2.commentCount'] +\n",
    "                                  features_df['statsV2.shareCount'] + features_df['statsV2.collectCount']) / features_df['statsV2.playCount']"
   ]
  },
  {
   "cell_type": "code",
   "execution_count": null,
   "id": "182d1975",
   "metadata": {},
   "outputs": [],
   "source": [
    "features_df['transcript_len'] = features_df['transcript'].apply(len)\n",
    "features_df['cta_count'] = features_df['cta_content'].apply(len)\n",
    "features_df = features_df[features_df['transcript_len'] > 0]\n",
    "\n",
    "features_df['transcript_word_count'] = features_df['transcript'].str.split().str.len()"
   ]
  },
  {
   "cell_type": "code",
   "execution_count": null,
   "id": "5bb3f70c",
   "metadata": {},
   "outputs": [],
   "source": [
    "mean_word_per_second = features_df['transcript_word_count'].mean(\n",
    ") / features_df['video.duration'].mean()\n",
    "\n",
    "features_df.loc[features_df['video.duration'] == 0,\n",
    "                'video.duration'] = features_df['transcript_word_count'] / mean_word_per_second\n",
    "features_df['word_per_second'] = features_df['transcript_word_count'] / \\\n",
    "    features_df['video.duration']\n",
    "\n",
    "features_df = features_df[features_df['word_per_second'] < 8]"
   ]
  },
  {
   "cell_type": "code",
   "execution_count": null,
   "id": "c83f72f1",
   "metadata": {},
   "outputs": [],
   "source": [
    "def parse_list(x):\n",
    "    if isinstance(x, np.ndarray):\n",
    "        return list(x)\n",
    "    if isinstance(x, NoneType):\n",
    "        return []\n",
    "\n",
    "\n",
    "for col in features_df.columns:\n",
    "    str_flag = features_df[col].apply(\n",
    "        lambda x: isinstance(x, np.ndarray)).any()\n",
    "    if str_flag:\n",
    "        features_df[col] = features_df[col].apply(parse_list)"
   ]
  },
  {
   "cell_type": "code",
   "execution_count": null,
   "id": "4711a398",
   "metadata": {},
   "outputs": [],
   "source": [
    "features_df.to_parquet(\n",
    "    'data/ScriptGen-data/script_gendata.parquet', index=False)"
   ]
  },
  {
   "cell_type": "code",
   "execution_count": 9,
   "id": "ccbfabd5",
   "metadata": {},
   "outputs": [
    {
     "name": "stdout",
     "output_type": "stream",
     "text": [
      "<class 'pandas.core.frame.DataFrame'>\n",
      "Index: 2652 entries, 0 to 3003\n",
      "Data columns (total 43 columns):\n",
      " #   Column                      Non-Null Count  Dtype                           \n",
      "---  ------                      --------------  -----                           \n",
      " 0   categories                  2652 non-null   object                          \n",
      " 1   audience_target             2652 non-null   object                          \n",
      " 2   body_analysis               2652 non-null   object                          \n",
      " 3   content_style               2652 non-null   object                          \n",
      " 4   cta_content                 2652 non-null   object                          \n",
      " 5   cta_type                    2652 non-null   object                          \n",
      " 6   emotion_keywords            2652 non-null   object                          \n",
      " 7   has_cta                     2652 non-null   bool                            \n",
      " 8   highlight_sentences         2652 non-null   object                          \n",
      " 9   hook_content                2652 non-null   object                          \n",
      " 10  hook_type                   2652 non-null   object                          \n",
      " 11  pacing                      2652 non-null   object                          \n",
      " 12  structure_style             2652 non-null   object                          \n",
      " 13  summarization               2652 non-null   object                          \n",
      " 14  tone_of_voice               2652 non-null   object                          \n",
      " 15  video.id                    2652 non-null   object                          \n",
      " 16  desc                        2652 non-null   object                          \n",
      " 17  transcript                  2652 non-null   object                          \n",
      " 18  takeaways                   2652 non-null   object                          \n",
      " 19  weekly_score_rank           2652 non-null   float64                         \n",
      " 20  isAd                        2652 non-null   bool                            \n",
      " 21  video.duration              2652 non-null   float64                         \n",
      " 22  statsV2.playCount           2652 non-null   float64                         \n",
      " 23  statsV2.diggCount           2652 non-null   float64                         \n",
      " 24  statsV2.commentCount        2652 non-null   float64                         \n",
      " 25  statsV2.shareCount          2652 non-null   float64                         \n",
      " 26  statsV2.collectCount        2652 non-null   float64                         \n",
      " 27  authorStats.diggCount       2652 non-null   float64                         \n",
      " 28  authorStats.followerCount   2652 non-null   float64                         \n",
      " 29  authorStats.followingCount  2652 non-null   float64                         \n",
      " 30  authorStats.heartCount      2652 non-null   float64                         \n",
      " 31  authorStats.videoCount      2652 non-null   float64                         \n",
      " 32  createTime                  2652 non-null   datetime64[ns, Asia/Ho_Chi_Minh]\n",
      " 33  hashtags                    2652 non-null   object                          \n",
      " 34  hashtag_count               2652 non-null   int64                           \n",
      " 35  highlight_phrases           2652 non-null   object                          \n",
      " 36  year                        2652 non-null   UInt32                          \n",
      " 37  week                        2652 non-null   UInt32                          \n",
      " 38  engagement_rate             2652 non-null   float64                         \n",
      " 39  transcript_len              2652 non-null   int64                           \n",
      " 40  cta_count                   2652 non-null   int64                           \n",
      " 41  transcript_word_count       2652 non-null   int64                           \n",
      " 42  word_per_second             2652 non-null   float64                         \n",
      "dtypes: UInt32(2), bool(2), datetime64[ns, Asia/Ho_Chi_Minh](1), float64(14), int64(4), object(20)\n",
      "memory usage: 859.8+ KB\n"
     ]
    }
   ],
   "source": [
    "features_df.info()"
   ]
  },
  {
   "cell_type": "code",
   "execution_count": 3,
   "id": "1c7ad0bf",
   "metadata": {},
   "outputs": [
    {
     "name": "stdout",
     "output_type": "stream",
     "text": [
      "<class 'pandas.core.frame.DataFrame'>\n",
      "RangeIndex: 2652 entries, 0 to 2651\n",
      "Data columns (total 43 columns):\n",
      " #   Column                      Non-Null Count  Dtype                           \n",
      "---  ------                      --------------  -----                           \n",
      " 0   categories                  2652 non-null   object                          \n",
      " 1   audience_target             2652 non-null   object                          \n",
      " 2   body_analysis               2652 non-null   object                          \n",
      " 3   content_style               2652 non-null   object                          \n",
      " 4   cta_content                 2652 non-null   object                          \n",
      " 5   cta_type                    2652 non-null   object                          \n",
      " 6   emotion_keywords            2652 non-null   object                          \n",
      " 7   has_cta                     2652 non-null   bool                            \n",
      " 8   highlight_sentences         2652 non-null   object                          \n",
      " 9   hook_content                2652 non-null   object                          \n",
      " 10  hook_type                   2652 non-null   object                          \n",
      " 11  pacing                      2652 non-null   object                          \n",
      " 12  structure_style             2652 non-null   object                          \n",
      " 13  summarization               2652 non-null   object                          \n",
      " 14  tone_of_voice               2652 non-null   object                          \n",
      " 15  video.id                    2652 non-null   object                          \n",
      " 16  desc                        2652 non-null   object                          \n",
      " 17  transcript                  2652 non-null   object                          \n",
      " 18  takeaways                   2652 non-null   object                          \n",
      " 19  weekly_score_rank           2652 non-null   float64                         \n",
      " 20  isAd                        2652 non-null   bool                            \n",
      " 21  video.duration              2652 non-null   float64                         \n",
      " 22  statsV2.playCount           2652 non-null   float64                         \n",
      " 23  statsV2.diggCount           2652 non-null   float64                         \n",
      " 24  statsV2.commentCount        2652 non-null   float64                         \n",
      " 25  statsV2.shareCount          2652 non-null   float64                         \n",
      " 26  statsV2.collectCount        2652 non-null   float64                         \n",
      " 27  authorStats.diggCount       2652 non-null   float64                         \n",
      " 28  authorStats.followerCount   2652 non-null   float64                         \n",
      " 29  authorStats.followingCount  2652 non-null   float64                         \n",
      " 30  authorStats.heartCount      2652 non-null   float64                         \n",
      " 31  authorStats.videoCount      2652 non-null   float64                         \n",
      " 32  createTime                  2652 non-null   datetime64[ns, Asia/Ho_Chi_Minh]\n",
      " 33  hashtags                    2652 non-null   object                          \n",
      " 34  hashtag_count               2652 non-null   int64                           \n",
      " 35  highlight_phrases           2652 non-null   object                          \n",
      " 36  year                        2652 non-null   UInt32                          \n",
      " 37  week                        2652 non-null   UInt32                          \n",
      " 38  engagement_rate             2652 non-null   float64                         \n",
      " 39  transcript_len              2652 non-null   int64                           \n",
      " 40  cta_count                   2652 non-null   int64                           \n",
      " 41  transcript_word_count       2652 non-null   int64                           \n",
      " 42  word_per_second             2652 non-null   float64                         \n",
      "dtypes: UInt32(2), bool(2), datetime64[ns, Asia/Ho_Chi_Minh](1), float64(14), int64(4), object(20)\n",
      "memory usage: 839.2+ KB\n"
     ]
    }
   ],
   "source": [
    "df = pd.read_parquet('data/ScriptGen-data/script_gendata.parquet')\n",
    "df.info()"
   ]
  },
  {
   "cell_type": "code",
   "execution_count": null,
   "id": "868ac8ce",
   "metadata": {},
   "outputs": [],
   "source": [
    "def remove_hashtags(text):\n",
    "    return re.sub(r'\\s*#\\w+', '', text).strip()\n",
    "\n",
    "\n",
    "# Tạo cột mới: desc không có hashtag\n",
    "df['desc_clean'] = df['desc'].apply(remove_hashtags)\n",
    "\n",
    "# Tạo cột đếm số từ trong desc_clean\n",
    "df['desc_word_count'] = df['desc_clean'].apply(\n",
    "    lambda x: len(x.split()) if isinstance(x, str) else 0)"
   ]
  },
  {
   "cell_type": "code",
   "execution_count": 7,
   "id": "b2483a7d",
   "metadata": {},
   "outputs": [],
   "source": [
    "df.to_parquet(\n",
    "    'data/ScriptGen-data/script_gendata.parquet', index=False)"
   ]
  }
 ],
 "metadata": {
  "kernelspec": {
   "display_name": ".venv",
   "language": "python",
   "name": "python3"
  },
  "language_info": {
   "codemirror_mode": {
    "name": "ipython",
    "version": 3
   },
   "file_extension": ".py",
   "mimetype": "text/x-python",
   "name": "python",
   "nbconvert_exporter": "python",
   "pygments_lexer": "ipython3",
   "version": "3.10.11"
  }
 },
 "nbformat": 4,
 "nbformat_minor": 5
}
