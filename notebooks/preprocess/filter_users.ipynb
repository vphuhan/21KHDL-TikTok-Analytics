{
 "cells": [
  {
   "cell_type": "markdown",
   "metadata": {},
   "source": [
    "# 1. Import các thư viện cần thiết\n"
   ]
  },
  {
   "cell_type": "code",
   "execution_count": 5,
   "metadata": {},
   "outputs": [],
   "source": [
    "import warnings\n",
    "import os\n",
    "from tqdm import tqdm\n",
    "from typing import List\n",
    "import pandas as pd\n",
    "from unidecode import unidecode\n",
    "import plotly.express as px\n",
    "import unicodedata\n",
    "import math\n",
    "import json\n",
    "import numpy as np\n",
    "os.chdir(\"/Users/vophuhan/Everything/University/Năm 4/Semester 2/Ứng dụng Phân tích dữ liệu thông minh/21KHDL-TikTok-Analytics\")\n",
    "\n",
    "\n",
    "# from langdetect import detect\n",
    "# from langdetect import DetectorFactory\n",
    "\n",
    "warnings.filterwarnings(\"ignore\")\n",
    "\n",
    "pd.set_option('display.max_columns', None)"
   ]
  },
  {
   "cell_type": "markdown",
   "metadata": {},
   "source": [
    "# 2. Tiền xử lý dữ liệu thống kê từ video\n"
   ]
  },
  {
   "cell_type": "markdown",
   "metadata": {},
   "source": [
    "Đọc dữ liệu thống kê video thành DataFrame.\n"
   ]
  },
  {
   "cell_type": "code",
   "execution_count": 6,
   "metadata": {},
   "outputs": [],
   "source": [
    "# raw_df1 = pd.read_csv(\"data/old_users_amthuc.csv\", low_memory=False)\n",
    "# raw_df1.info()"
   ]
  },
  {
   "cell_type": "code",
   "execution_count": 7,
   "metadata": {},
   "outputs": [],
   "source": [
    "# raw_df2 = pd.read_csv(\"data/new_users_amthuc_1_handmade.csv\", low_memory=False)\n",
    "# raw_df2.info()"
   ]
  },
  {
   "cell_type": "code",
   "execution_count": 8,
   "metadata": {},
   "outputs": [],
   "source": [
    "# raw_df3 = pd.read_csv(\"data/new_usrs_amthuc_250319_0033.csv\", low_memory=False)\n",
    "# raw_df3.info()"
   ]
  },
  {
   "cell_type": "code",
   "execution_count": 9,
   "metadata": {},
   "outputs": [
    {
     "name": "stdout",
     "output_type": "stream",
     "text": [
      "<class 'pandas.core.frame.DataFrame'>\n",
      "RangeIndex: 71260 entries, 0 to 71259\n",
      "Columns: 174 entries, stats.diggCount to duetInfo.duetFromId\n",
      "dtypes: float64(90), int64(1), object(83)\n",
      "memory usage: 94.6+ MB\n"
     ]
    }
   ],
   "source": [
    "video_info_df = pd.read_csv(\"data/final_raw_videos.csv\", low_memory=False)\n",
    "video_info_df.info()\n",
    "# video_info_df = pd.concat([raw_df1, raw_df2, raw_df3], ignore_index=True)\n",
    "# video_info_df.info()\n",
    "# video_info_df.to_csv('data/final_raw_videos.csv')"
   ]
  },
  {
   "cell_type": "code",
   "execution_count": 10,
   "metadata": {},
   "outputs": [],
   "source": [
    "# save_df = video_info_df[~video_info_df['author.uniqueId'].isna()]\n",
    "# save_list = list(save_df['author.uniqueId'].unique())\n",
    "# len(save_list)\n",
    "\n",
    "\n",
    "# def write_list_to_file(file_path, data_list):\n",
    "#     try:\n",
    "#         with open(file_path, \"w\", encoding=\"utf-8\") as file:\n",
    "#             for item in data_list:\n",
    "#                 file.write(str(item) + \"\\n\")\n",
    "#         print(f\"Successfully wrote {len(data_list)} items to {file_path}\")\n",
    "#     except Exception as e:\n",
    "#         print(f\"Error writing to file: {e}\")\n",
    "\n",
    "\n",
    "# write_list_to_file(\"data/lists/users_from_new_old_csv.txt\", save_list)"
   ]
  },
  {
   "cell_type": "markdown",
   "metadata": {},
   "source": [
    "Loại bỏ các cột có tỷ lệ thiếu dữ liệu lớn hơn 50%\n"
   ]
  },
  {
   "cell_type": "code",
   "execution_count": 11,
   "metadata": {},
   "outputs": [
    {
     "data": {
      "text/plain": [
       "music.coverLarge                              1.0\n",
       "user.commerceUserInfo.downLoadLink.android    1.0\n",
       "video.encodeUserTag                           1.0\n",
       "poi.country                                   1.0\n",
       "poi.fatherPoiId                               1.0\n",
       "dtype: float64"
      ]
     },
     "execution_count": 11,
     "metadata": {},
     "output_type": "execute_result"
    }
   ],
   "source": [
    "# Calculate the missing ratio\n",
    "missing_ratio = video_info_df.isna().sum() / len(video_info_df)\n",
    "\n",
    "# Sort the missing ratio in descending order\n",
    "missing_ratio = missing_ratio.sort_values(ascending=False)\n",
    "\n",
    "# Display first 5 rows\n",
    "missing_ratio.head()"
   ]
  },
  {
   "cell_type": "code",
   "execution_count": 12,
   "metadata": {},
   "outputs": [],
   "source": [
    "# Remove columns with missing ratios greater than 0.50\n",
    "video_info_df = video_info_df.dropna(\n",
    "    axis='columns', thresh=0.50 * len(video_info_df)\n",
    ")"
   ]
  },
  {
   "cell_type": "code",
   "execution_count": 13,
   "metadata": {},
   "outputs": [
    {
     "name": "stdout",
     "output_type": "stream",
     "text": [
      "video.claInfo.originalLanguageInfo.languageID     :  30.39%\n",
      "video.claInfo.originalLanguageInfo.languageCode   :  30.39%\n",
      "video.claInfo.captionsType                        :  30.39%\n",
      "video.claInfo.originalLanguageInfo.canTranslateRealTimeNoCheck:  30.39%\n",
      "video.claInfo.originalLanguageInfo.language       :  30.39%\n"
     ]
    }
   ],
   "source": [
    "# Calculate the missing ratio\n",
    "missing_ratio = video_info_df.isna().sum() / len(video_info_df)\n",
    "\n",
    "# Sort the missing ratio in descending order\n",
    "missing_ratio = missing_ratio.sort_values(ascending=False)\n",
    "\n",
    "# Display the missing ratio\n",
    "for column, ratio in missing_ratio[:5].items():\n",
    "    print(f\"{column:50}:{ratio:8.2%}\")"
   ]
  },
  {
   "cell_type": "code",
   "execution_count": 14,
   "metadata": {},
   "outputs": [
    {
     "name": "stdout",
     "output_type": "stream",
     "text": [
      "<class 'pandas.core.frame.DataFrame'>\n",
      "RangeIndex: 71260 entries, 0 to 71259\n",
      "Data columns (total 87 columns):\n",
      " #   Column                                                          Non-Null Count  Dtype  \n",
      "---  ------                                                          --------------  -----  \n",
      " 0   stats.diggCount                                                 71260 non-null  int64  \n",
      " 1   CategoryType                                                    70996 non-null  float64\n",
      " 2   author.commentSetting                                           70996 non-null  float64\n",
      " 3   author.downloadSetting                                          70996 non-null  float64\n",
      " 4   author.duetSetting                                              70996 non-null  float64\n",
      " 5   author.ftc                                                      70996 non-null  object \n",
      " 6   author.id                                                       70996 non-null  float64\n",
      " 7   author.isADVirtual                                              70996 non-null  object \n",
      " 8   author.isEmbedBanned                                            70996 non-null  object \n",
      " 9   author.nickname                                                 70996 non-null  object \n",
      " 10  author.openFavorite                                             70996 non-null  object \n",
      " 11  author.privateAccount                                           70996 non-null  object \n",
      " 12  author.relation                                                 70996 non-null  float64\n",
      " 13  author.secUid                                                   70996 non-null  object \n",
      " 14  author.secret                                                   70996 non-null  object \n",
      " 15  author.signature                                                70140 non-null  object \n",
      " 16  author.stitchSetting                                            70996 non-null  float64\n",
      " 17  author.uniqueId                                                 70996 non-null  object \n",
      " 18  author.verified                                                 70996 non-null  object \n",
      " 19  authorStats.diggCount                                           70996 non-null  float64\n",
      " 20  authorStats.followerCount                                       70996 non-null  float64\n",
      " 21  authorStats.followingCount                                      70996 non-null  float64\n",
      " 22  authorStats.friendCount                                         70996 non-null  float64\n",
      " 23  authorStats.heart                                               70996 non-null  float64\n",
      " 24  authorStats.heartCount                                          70996 non-null  float64\n",
      " 25  authorStats.videoCount                                          70996 non-null  float64\n",
      " 26  collected                                                       70996 non-null  object \n",
      " 27  createTime                                                      70996 non-null  float64\n",
      " 28  desc                                                            70936 non-null  object \n",
      " 29  digged                                                          70996 non-null  object \n",
      " 30  diversificationId                                               67013 non-null  float64\n",
      " 31  duetDisplay                                                     70996 non-null  float64\n",
      " 32  forFriend                                                       70996 non-null  object \n",
      " 33  id                                                              70996 non-null  float64\n",
      " 34  isAd                                                            70996 non-null  object \n",
      " 35  itemCommentStatus                                               70996 non-null  float64\n",
      " 36  item_control.can_repost                                         70996 non-null  object \n",
      " 37  music.authorName                                                70855 non-null  object \n",
      " 38  music.duration                                                  70877 non-null  float64\n",
      " 39  music.id                                                        70996 non-null  float64\n",
      " 40  music.isCopyrighted                                             70996 non-null  object \n",
      " 41  music.original                                                  70996 non-null  object \n",
      " 42  music.private                                                   70993 non-null  object \n",
      " 43  music.title                                                     70880 non-null  object \n",
      " 44  officalItem                                                     70996 non-null  object \n",
      " 45  originalItem                                                    70996 non-null  object \n",
      " 46  privateItem                                                     70996 non-null  object \n",
      " 47  secret                                                          70996 non-null  object \n",
      " 48  shareEnabled                                                    70996 non-null  object \n",
      " 49  stats.collectCount                                              70996 non-null  float64\n",
      " 50  stats.commentCount                                              70996 non-null  float64\n",
      " 51  stats.playCount                                                 70996 non-null  float64\n",
      " 52  stats.shareCount                                                70996 non-null  float64\n",
      " 53  statsV2.collectCount                                            70996 non-null  float64\n",
      " 54  statsV2.commentCount                                            70996 non-null  float64\n",
      " 55  statsV2.diggCount                                               70996 non-null  float64\n",
      " 56  statsV2.playCount                                               70996 non-null  float64\n",
      " 57  statsV2.repostCount                                             70996 non-null  float64\n",
      " 58  statsV2.shareCount                                              70996 non-null  float64\n",
      " 59  stitchDisplay                                                   70996 non-null  float64\n",
      " 60  textLanguage                                                    70996 non-null  object \n",
      " 61  textTranslatable                                                70996 non-null  object \n",
      " 62  video.VQScore                                                   65350 non-null  float64\n",
      " 63  video.bitrate                                                   65350 non-null  float64\n",
      " 64  video.claInfo.captionsType                                      49605 non-null  float64\n",
      " 65  video.claInfo.enableAutoCaption                                 65327 non-null  object \n",
      " 66  video.claInfo.hasOriginalAudio                                  65327 non-null  object \n",
      " 67  video.claInfo.originalLanguageInfo.canTranslateRealTimeNoCheck  49605 non-null  object \n",
      " 68  video.claInfo.originalLanguageInfo.language                     49605 non-null  object \n",
      " 69  video.claInfo.originalLanguageInfo.languageCode                 49605 non-null  object \n",
      " 70  video.claInfo.originalLanguageInfo.languageID                   49605 non-null  float64\n",
      " 71  video.codecType                                                 65350 non-null  object \n",
      " 72  video.definition                                                65350 non-null  object \n",
      " 73  video.duration                                                  70996 non-null  float64\n",
      " 74  video.encodedType                                               65350 non-null  object \n",
      " 75  video.format                                                    65350 non-null  object \n",
      " 76  video.height                                                    70996 non-null  float64\n",
      " 77  video.id                                                        70996 non-null  float64\n",
      " 78  video.ratio                                                     65350 non-null  object \n",
      " 79  video.videoID                                                   65350 non-null  object \n",
      " 80  video.videoQuality                                              65350 non-null  object \n",
      " 81  video.volumeInfo.Loudness                                       65342 non-null  float64\n",
      " 82  video.volumeInfo.Peak                                           65342 non-null  float64\n",
      " 83  video.width                                                     70996 non-null  float64\n",
      " 84  collectTime                                                     70996 non-null  float64\n",
      " 85  duetEnabled                                                     57695 non-null  object \n",
      " 86  stitchEnabled                                                   57377 non-null  object \n",
      "dtypes: float64(43), int64(1), object(43)\n",
      "memory usage: 47.3+ MB\n"
     ]
    }
   ],
   "source": [
    "video_info_df.info()"
   ]
  },
  {
   "cell_type": "markdown",
   "metadata": {},
   "source": [
    "Vì các cột có tên bắt đầu với `stats.*` chứa cùng thông tin với các cột có tên bắt đầu với `statsV2.*`, nhưng không có thông tin về `repostCount` như `statsV2.*`. Nên ta sẽ loại bỏ các cột có tên bắt đầu với `stats.*`.\n"
   ]
  },
  {
   "cell_type": "code",
   "execution_count": 15,
   "metadata": {},
   "outputs": [],
   "source": [
    "# Remove columns starting with \"stats.\"\n",
    "video_info_df = video_info_df[\n",
    "    [column for column in video_info_df.columns\n",
    "     if not column.startswith(\"stats.\")]\n",
    "]\n",
    "\n",
    "# video_info_df.info()"
   ]
  },
  {
   "cell_type": "markdown",
   "metadata": {},
   "source": [
    "Xóa các cột bắt đầu với `video.claInfo.originalLanguageInfo.*` vì chúng chứa thông tin không cần thiết.\n"
   ]
  },
  {
   "cell_type": "code",
   "execution_count": 16,
   "metadata": {},
   "outputs": [],
   "source": [
    "# Remove columns starting with \"video.claInfo.originalLanguageInfo.\"\n",
    "video_info_df = video_info_df[\n",
    "    [column for column in video_info_df.columns\n",
    "     if not column.startswith(\"video.claInfo.originalLanguageInfo.\")]\n",
    "]\n",
    "\n",
    "# video_info_df.info()"
   ]
  },
  {
   "cell_type": "markdown",
   "metadata": {},
   "source": [
    "Chuyển timestamp sang datetime và chuyển sang giờ VN.\n"
   ]
  },
  {
   "cell_type": "code",
   "execution_count": 17,
   "metadata": {},
   "outputs": [],
   "source": [
    "# Chuyển timestamp sang dạng datetime UTC\n",
    "video_info_df[\"createTime\"] = pd.to_datetime(\n",
    "    video_info_df[\"createTime\"], unit=\"s\", utc=True)\n",
    "\n",
    "# Chuyển sang múi giờ Việt Nam (UTC+7)\n",
    "video_info_df[\"createTime\"] = video_info_df[\"createTime\"].dt.tz_convert(\n",
    "    \"Asia/Ho_Chi_Minh\")"
   ]
  },
  {
   "cell_type": "markdown",
   "metadata": {},
   "source": [
    "Tạo một cột chứa danh sách các `hashtag` được trích xuất từ mô tả video. Và tính số lượng hashtag trong mỗi video.\n"
   ]
  },
  {
   "cell_type": "code",
   "execution_count": 18,
   "metadata": {},
   "outputs": [
    {
     "name": "stderr",
     "output_type": "stream",
     "text": [
      "100%|██████████| 71260/71260 [00:11<00:00, 6422.45it/s]\n"
     ]
    }
   ],
   "source": [
    "# Replace missing values in \"desc\" column with an empty string\n",
    "video_info_df[\"desc\"] = video_info_df[\"desc\"].fillna(\"\")\n",
    "video_info_df[\"desc\"] = video_info_df[\"desc\"].astype(str)\n",
    "video_info_df[\"desc\"] = video_info_df[\"desc\"].str.strip()\n",
    "\n",
    "# Create a new column for the hashtags\n",
    "# and the number of hashtags in each video\n",
    "video_info_df[\"hashtags\"] = [\"\"] * len(video_info_df)\n",
    "video_info_df[\"num_hashtags\"] = [0] * len(video_info_df)\n",
    "\n",
    "# Extract hashtags from the \"desc\" column\n",
    "# and Get the number of hashtags in each video\n",
    "for index in tqdm(range(len(video_info_df))):\n",
    "    # Get the description of the video\n",
    "    description = video_info_df.loc[index, \"desc\"].strip().lower()\n",
    "\n",
    "    if description:\n",
    "        # # Remove emojis\n",
    "        # description = description.encode('ascii', 'ignore').decode('ascii')\n",
    "        # Chuyển tiếng Việt có dấu thành không dấu\n",
    "        description = unidecode(description)\n",
    "\n",
    "        # Add a space before all \"#\" characters\n",
    "        description = description.replace(\"#\", \" #\")\n",
    "\n",
    "        # Find all strings starting with \"#\" and followed by a word\n",
    "        hashtags = [word[1:] for word in description.split()\n",
    "                    if word.startswith(\"#\")]\n",
    "\n",
    "        # Extract hashtags from the description\n",
    "        video_info_df.loc[index, \"hashtags\"] = \",\".join(hashtags).strip()\n",
    "\n",
    "        # Get the number of hashtags\n",
    "        video_info_df.loc[index, \"num_hashtags\"] = len(hashtags)\n",
    "    else:\n",
    "        video_info_df.loc[index, \"hashtags\"] = \"\"\n",
    "        video_info_df.loc[index, \"num_hashtags\"] = 0"
   ]
  },
  {
   "cell_type": "code",
   "execution_count": 19,
   "metadata": {},
   "outputs": [],
   "source": [
    "# Bước 1: Chuyển hashtags thành danh sách\n",
    "video_info_df[\"hashtags\"] = video_info_df[\"hashtags\"].apply(\n",
    "    lambda x: x.split(\",\") if x else [])"
   ]
  },
  {
   "cell_type": "markdown",
   "metadata": {},
   "source": [
    "### Chọn ra một số cột để kiểm tra thông số.\n"
   ]
  },
  {
   "cell_type": "code",
   "execution_count": 20,
   "metadata": {},
   "outputs": [
    {
     "data": {
      "text/html": [
       "<div>\n",
       "<style scoped>\n",
       "    .dataframe tbody tr th:only-of-type {\n",
       "        vertical-align: middle;\n",
       "    }\n",
       "\n",
       "    .dataframe tbody tr th {\n",
       "        vertical-align: top;\n",
       "    }\n",
       "\n",
       "    .dataframe thead th {\n",
       "        text-align: right;\n",
       "    }\n",
       "</style>\n",
       "<table border=\"1\" class=\"dataframe\">\n",
       "  <thead>\n",
       "    <tr style=\"text-align: right;\">\n",
       "      <th></th>\n",
       "      <th>id</th>\n",
       "      <th>username</th>\n",
       "      <th>views</th>\n",
       "      <th>likes</th>\n",
       "      <th>comments</th>\n",
       "      <th>shares</th>\n",
       "      <th>collects</th>\n",
       "      <th>user.likes</th>\n",
       "      <th>user.followers</th>\n",
       "      <th>user.followings</th>\n",
       "      <th>user.hearts</th>\n",
       "      <th>user.videos</th>\n",
       "      <th>hashtags</th>\n",
       "      <th>createTime</th>\n",
       "      <th>desc</th>\n",
       "      <th>textLang</th>\n",
       "    </tr>\n",
       "  </thead>\n",
       "  <tbody>\n",
       "    <tr>\n",
       "      <th>7865</th>\n",
       "      <td>7.459767e+18</td>\n",
       "      <td>nguyenhimatto</td>\n",
       "      <td>1200000.0</td>\n",
       "      <td>42700.0</td>\n",
       "      <td>185.0</td>\n",
       "      <td>499.0</td>\n",
       "      <td>1545.0</td>\n",
       "      <td>1072.0</td>\n",
       "      <td>597900.0</td>\n",
       "      <td>127.0</td>\n",
       "      <td>27000000.0</td>\n",
       "      <td>803.0</td>\n",
       "      <td>[nguyenhimatto, nguyentainguyen, mukbang, nguy...</td>\n",
       "      <td>2025-01-14 20:45:54+07:00</td>\n",
       "      <td>Trả lời @Thảo Vy Oke uy tín luôn nhá Vy ới 😂😂😂...</td>\n",
       "      <td>vi</td>\n",
       "    </tr>\n",
       "    <tr>\n",
       "      <th>55796</th>\n",
       "      <td>7.428144e+18</td>\n",
       "      <td>dajsytran.92</td>\n",
       "      <td>7774.0</td>\n",
       "      <td>80.0</td>\n",
       "      <td>21.0</td>\n",
       "      <td>11.0</td>\n",
       "      <td>22.0</td>\n",
       "      <td>18400.0</td>\n",
       "      <td>53500.0</td>\n",
       "      <td>195.0</td>\n",
       "      <td>1000000.0</td>\n",
       "      <td>171.0</td>\n",
       "      <td>[laugalae, nauancungtiktok, thinhhanhxuhuong, ...</td>\n",
       "      <td>2024-10-21 15:31:09+07:00</td>\n",
       "      <td>Trời bắt đầu se lạnh với những cơn mưa bắt chợ...</td>\n",
       "      <td>vi</td>\n",
       "    </tr>\n",
       "    <tr>\n",
       "      <th>52546</th>\n",
       "      <td>7.447145e+18</td>\n",
       "      <td>ngaymaibanangi</td>\n",
       "      <td>90900.0</td>\n",
       "      <td>2192.0</td>\n",
       "      <td>16.0</td>\n",
       "      <td>724.0</td>\n",
       "      <td>675.0</td>\n",
       "      <td>1302.0</td>\n",
       "      <td>64100.0</td>\n",
       "      <td>0.0</td>\n",
       "      <td>1100000.0</td>\n",
       "      <td>623.0</td>\n",
       "      <td>[xuhuong, saigonfood, ngaymaibanangi, quananng...</td>\n",
       "      <td>2024-12-11 20:25:51+07:00</td>\n",
       "      <td>Bánh chuối THÁI LAN#xuhuong #saigonfood #ngaym...</td>\n",
       "      <td>vi</td>\n",
       "    </tr>\n",
       "    <tr>\n",
       "      <th>54170</th>\n",
       "      <td>7.320597e+18</td>\n",
       "      <td>ansaphanoi</td>\n",
       "      <td>408000.0</td>\n",
       "      <td>8670.0</td>\n",
       "      <td>50.0</td>\n",
       "      <td>46.0</td>\n",
       "      <td>288.0</td>\n",
       "      <td>3171.0</td>\n",
       "      <td>1600000.0</td>\n",
       "      <td>1.0</td>\n",
       "      <td>46000000.0</td>\n",
       "      <td>848.0</td>\n",
       "      <td>[ansaphanoi, vtmgr, thanhthoiluottet, learnont...</td>\n",
       "      <td>2024-01-05 19:54:03+07:00</td>\n",
       "      <td>Đi ăn nem nướng chứ không phải đi xin việc #an...</td>\n",
       "      <td>vi</td>\n",
       "    </tr>\n",
       "    <tr>\n",
       "      <th>62910</th>\n",
       "      <td>7.366594e+18</td>\n",
       "      <td>nglethuthuy</td>\n",
       "      <td>343600.0</td>\n",
       "      <td>9265.0</td>\n",
       "      <td>95.0</td>\n",
       "      <td>549.0</td>\n",
       "      <td>705.0</td>\n",
       "      <td>2783.0</td>\n",
       "      <td>325600.0</td>\n",
       "      <td>186.0</td>\n",
       "      <td>9900000.0</td>\n",
       "      <td>551.0</td>\n",
       "      <td>[nglethuthuy, learnontiktok, reviewanngon, detox]</td>\n",
       "      <td>2024-05-08 18:48:31+07:00</td>\n",
       "      <td>thử detox 3 ngày giống các chị em và cái kết 💞...</td>\n",
       "      <td>vi</td>\n",
       "    </tr>\n",
       "  </tbody>\n",
       "</table>\n",
       "</div>"
      ],
      "text/plain": [
       "                 id        username      views    likes  comments  shares  \\\n",
       "7865   7.459767e+18   nguyenhimatto  1200000.0  42700.0     185.0   499.0   \n",
       "55796  7.428144e+18    dajsytran.92     7774.0     80.0      21.0    11.0   \n",
       "52546  7.447145e+18  ngaymaibanangi    90900.0   2192.0      16.0   724.0   \n",
       "54170  7.320597e+18      ansaphanoi   408000.0   8670.0      50.0    46.0   \n",
       "62910  7.366594e+18     nglethuthuy   343600.0   9265.0      95.0   549.0   \n",
       "\n",
       "       collects  user.likes  user.followers  user.followings  user.hearts  \\\n",
       "7865     1545.0      1072.0        597900.0            127.0   27000000.0   \n",
       "55796      22.0     18400.0         53500.0            195.0    1000000.0   \n",
       "52546     675.0      1302.0         64100.0              0.0    1100000.0   \n",
       "54170     288.0      3171.0       1600000.0              1.0   46000000.0   \n",
       "62910     705.0      2783.0        325600.0            186.0    9900000.0   \n",
       "\n",
       "       user.videos                                           hashtags  \\\n",
       "7865         803.0  [nguyenhimatto, nguyentainguyen, mukbang, nguy...   \n",
       "55796        171.0  [laugalae, nauancungtiktok, thinhhanhxuhuong, ...   \n",
       "52546        623.0  [xuhuong, saigonfood, ngaymaibanangi, quananng...   \n",
       "54170        848.0  [ansaphanoi, vtmgr, thanhthoiluottet, learnont...   \n",
       "62910        551.0  [nglethuthuy, learnontiktok, reviewanngon, detox]   \n",
       "\n",
       "                     createTime  \\\n",
       "7865  2025-01-14 20:45:54+07:00   \n",
       "55796 2024-10-21 15:31:09+07:00   \n",
       "52546 2024-12-11 20:25:51+07:00   \n",
       "54170 2024-01-05 19:54:03+07:00   \n",
       "62910 2024-05-08 18:48:31+07:00   \n",
       "\n",
       "                                                    desc textLang  \n",
       "7865   Trả lời @Thảo Vy Oke uy tín luôn nhá Vy ới 😂😂😂...       vi  \n",
       "55796  Trời bắt đầu se lạnh với những cơn mưa bắt chợ...       vi  \n",
       "52546  Bánh chuối THÁI LAN#xuhuong #saigonfood #ngaym...       vi  \n",
       "54170  Đi ăn nem nướng chứ không phải đi xin việc #an...       vi  \n",
       "62910  thử detox 3 ngày giống các chị em và cái kết 💞...       vi  "
      ]
     },
     "execution_count": 20,
     "metadata": {},
     "output_type": "execute_result"
    }
   ],
   "source": [
    "selected_cols = {\n",
    "    'id': 'id',\n",
    "    'author.uniqueId': 'username',\n",
    "    \"statsV2.playCount\": \"views\",  # Lượt xem video\n",
    "    \"statsV2.diggCount\": \"likes\",  # Lượt thích video\n",
    "    \"statsV2.commentCount\": \"comments\",  # Lượt bình luận video\n",
    "    \"statsV2.shareCount\": \"shares\",  # Lượt chia sẻ video\n",
    "    'statsV2.collectCount': \"collects\",\n",
    "    'authorStats.diggCount': \"user.likes\",\n",
    "    'authorStats.followerCount': \"user.followers\",\n",
    "    'authorStats.followingCount': \"user.followings\",\n",
    "    # 'authorStats.friendCount': \"user.friends\",\n",
    "    'authorStats.heartCount': \"user.hearts\",\n",
    "    'authorStats.videoCount': \"user.videos\",\n",
    "    'hashtags': 'hashtags',\n",
    "    'createTime': 'createTime',\n",
    "    'desc': 'desc',\n",
    "    'textLanguage': 'textLang'\n",
    "}\n",
    "stats_df = video_info_df[list(selected_cols.keys())].rename(\n",
    "    columns=selected_cols)\n",
    "stats_df.sample(5)"
   ]
  },
  {
   "cell_type": "markdown",
   "metadata": {},
   "source": [
    "Drop các dòng có thiếu hơn 50% số cột.\n"
   ]
  },
  {
   "cell_type": "code",
   "execution_count": 21,
   "metadata": {},
   "outputs": [
    {
     "data": {
      "text/plain": [
       "(70996, 16)"
      ]
     },
     "execution_count": 21,
     "metadata": {},
     "output_type": "execute_result"
    }
   ],
   "source": [
    "stats_df[\"missing_count\"] = stats_df.isnull().sum(axis=1)\n",
    "# Xóa các dòng có hơn 50% giá trị bị thiếu\n",
    "threshold = stats_df.shape[1] * 0.5\n",
    "\n",
    "# Lọc bỏ các dòng có số lượng giá trị thiếu vượt quá ngưỡng\n",
    "stats_df = stats_df[stats_df[\"missing_count\"] <= threshold].drop(\n",
    "    columns=[\"missing_count\"])\n",
    "stats_df.shape"
   ]
  },
  {
   "cell_type": "markdown",
   "metadata": {},
   "source": [
    "# 3. Lọc lại danh sách user\n"
   ]
  },
  {
   "cell_type": "code",
   "execution_count": 22,
   "metadata": {},
   "outputs": [
    {
     "name": "stdout",
     "output_type": "stream",
     "text": [
      "Number of users:  264\n"
     ]
    }
   ],
   "source": [
    "print(\"Number of users: \", stats_df['username'].nunique())"
   ]
  },
  {
   "cell_type": "markdown",
   "metadata": {},
   "source": [
    "Lọc các video đăng trong năm 2025 (loại bỏ người dùng không hoạt động).\n"
   ]
  },
  {
   "cell_type": "code",
   "execution_count": 23,
   "metadata": {},
   "outputs": [
    {
     "name": "stdout",
     "output_type": "stream",
     "text": [
      "Number of users:  264\n"
     ]
    }
   ],
   "source": [
    "# time_thres = pd.to_datetime(\"2025-01-01\").tz_localize(\"Asia/Ho_Chi_Minh\")\n",
    "# users_in_2025 = stats_df[stats_df['createTime']\n",
    "#                          >= time_thres]['username'].unique()\n",
    "# filt_stats_df = stats_df[stats_df['username'].isin(users_in_2025)]\n",
    "\n",
    "time_thres = pd.to_datetime(\"2025-01-01\").tz_localize(\"Asia/Ho_Chi_Minh\")\n",
    "filt_stats_df = stats_df[stats_df['createTime'] >= time_thres]\n",
    "# filt_stats_df = stats_df\n",
    "\n",
    "print(\"Number of users: \", filt_stats_df['username'].nunique())"
   ]
  },
  {
   "cell_type": "markdown",
   "metadata": {},
   "source": [
    "### Các thông số thống kê theo từng user về lượt xem và độ tương tác.\n"
   ]
  },
  {
   "cell_type": "code",
   "execution_count": 24,
   "metadata": {},
   "outputs": [
    {
     "data": {
      "text/html": [
       "<div>\n",
       "<style scoped>\n",
       "    .dataframe tbody tr th:only-of-type {\n",
       "        vertical-align: middle;\n",
       "    }\n",
       "\n",
       "    .dataframe tbody tr th {\n",
       "        vertical-align: top;\n",
       "    }\n",
       "\n",
       "    .dataframe thead th {\n",
       "        text-align: right;\n",
       "    }\n",
       "</style>\n",
       "<table border=\"1\" class=\"dataframe\">\n",
       "  <thead>\n",
       "    <tr style=\"text-align: right;\">\n",
       "      <th></th>\n",
       "      <th>username</th>\n",
       "      <th>total_views</th>\n",
       "      <th>avg_views</th>\n",
       "      <th>total_likes</th>\n",
       "      <th>avg_likes</th>\n",
       "      <th>total_comments</th>\n",
       "      <th>total_shares</th>\n",
       "      <th>total_collects</th>\n",
       "      <th>total_videos</th>\n",
       "      <th>followers</th>\n",
       "      <th>likes</th>\n",
       "      <th>engagement_rate</th>\n",
       "      <th>total_engagement</th>\n",
       "    </tr>\n",
       "  </thead>\n",
       "  <tbody>\n",
       "    <tr>\n",
       "      <th>92</th>\n",
       "      <td>fancywithtrang_</td>\n",
       "      <td>8939366.0</td>\n",
       "      <td>2.793552e+05</td>\n",
       "      <td>242454.0</td>\n",
       "      <td>7576.687500</td>\n",
       "      <td>5811.0</td>\n",
       "      <td>100013.0</td>\n",
       "      <td>102332.0</td>\n",
       "      <td>32</td>\n",
       "      <td>126800.0</td>\n",
       "      <td>5424.0</td>\n",
       "      <td>0.050407</td>\n",
       "      <td>450610.0</td>\n",
       "    </tr>\n",
       "    <tr>\n",
       "      <th>48</th>\n",
       "      <td>bihuyyy</td>\n",
       "      <td>16007000.0</td>\n",
       "      <td>8.424737e+05</td>\n",
       "      <td>588617.0</td>\n",
       "      <td>30979.842105</td>\n",
       "      <td>9684.0</td>\n",
       "      <td>49394.0</td>\n",
       "      <td>49763.0</td>\n",
       "      <td>19</td>\n",
       "      <td>590200.0</td>\n",
       "      <td>7857.0</td>\n",
       "      <td>0.043572</td>\n",
       "      <td>697458.0</td>\n",
       "    </tr>\n",
       "    <tr>\n",
       "      <th>124</th>\n",
       "      <td>huynhanhtuan_dienvien</td>\n",
       "      <td>37371300.0</td>\n",
       "      <td>1.010035e+06</td>\n",
       "      <td>876336.0</td>\n",
       "      <td>23684.756757</td>\n",
       "      <td>9513.0</td>\n",
       "      <td>33441.0</td>\n",
       "      <td>44859.0</td>\n",
       "      <td>37</td>\n",
       "      <td>1400000.0</td>\n",
       "      <td>153.0</td>\n",
       "      <td>0.025799</td>\n",
       "      <td>964149.0</td>\n",
       "    </tr>\n",
       "    <tr>\n",
       "      <th>192</th>\n",
       "      <td>phamtrang.2401</td>\n",
       "      <td>3849943.0</td>\n",
       "      <td>1.166649e+05</td>\n",
       "      <td>174727.0</td>\n",
       "      <td>5294.757576</td>\n",
       "      <td>758.0</td>\n",
       "      <td>13145.0</td>\n",
       "      <td>17900.0</td>\n",
       "      <td>33</td>\n",
       "      <td>304700.0</td>\n",
       "      <td>48600.0</td>\n",
       "      <td>0.053645</td>\n",
       "      <td>206530.0</td>\n",
       "    </tr>\n",
       "    <tr>\n",
       "      <th>171</th>\n",
       "      <td>nghia2302</td>\n",
       "      <td>541559.0</td>\n",
       "      <td>5.415590e+04</td>\n",
       "      <td>10063.0</td>\n",
       "      <td>1006.300000</td>\n",
       "      <td>292.0</td>\n",
       "      <td>5684.0</td>\n",
       "      <td>7459.0</td>\n",
       "      <td>10</td>\n",
       "      <td>114200.0</td>\n",
       "      <td>7375.0</td>\n",
       "      <td>0.043390</td>\n",
       "      <td>23498.0</td>\n",
       "    </tr>\n",
       "  </tbody>\n",
       "</table>\n",
       "</div>"
      ],
      "text/plain": [
       "                  username  total_views     avg_views  total_likes  \\\n",
       "92         fancywithtrang_    8939366.0  2.793552e+05     242454.0   \n",
       "48                 bihuyyy   16007000.0  8.424737e+05     588617.0   \n",
       "124  huynhanhtuan_dienvien   37371300.0  1.010035e+06     876336.0   \n",
       "192         phamtrang.2401    3849943.0  1.166649e+05     174727.0   \n",
       "171              nghia2302     541559.0  5.415590e+04      10063.0   \n",
       "\n",
       "        avg_likes  total_comments  total_shares  total_collects  total_videos  \\\n",
       "92    7576.687500          5811.0      100013.0        102332.0            32   \n",
       "48   30979.842105          9684.0       49394.0         49763.0            19   \n",
       "124  23684.756757          9513.0       33441.0         44859.0            37   \n",
       "192   5294.757576           758.0       13145.0         17900.0            33   \n",
       "171   1006.300000           292.0        5684.0          7459.0            10   \n",
       "\n",
       "     followers    likes  engagement_rate  total_engagement  \n",
       "92    126800.0   5424.0         0.050407          450610.0  \n",
       "48    590200.0   7857.0         0.043572          697458.0  \n",
       "124  1400000.0    153.0         0.025799          964149.0  \n",
       "192   304700.0  48600.0         0.053645          206530.0  \n",
       "171   114200.0   7375.0         0.043390           23498.0  "
      ]
     },
     "metadata": {},
     "output_type": "display_data"
    }
   ],
   "source": [
    "# Lọc lại các cột quan trọng liên quan đến user và các chỉ số tương tác của video\n",
    "df_selected = filt_stats_df[[\n",
    "    # \"author.id\",  # ID của user\n",
    "    \"username\",  # Tên hiển thị của user\n",
    "    \"views\",  # Lượt xem video\n",
    "    \"likes\",  # Lượt thích video\n",
    "    \"comments\",  # Lượt bình luận video\n",
    "    \"shares\",  # Lượt chia sẻ video\n",
    "    'collects',\n",
    "    'user.followers',\n",
    "    'user.likes'\n",
    "]]\n",
    "\n",
    "# Kiểm tra dữ liệu bị thiếu\n",
    "df_selected = df_selected.dropna()\n",
    "\n",
    "# Tổng hợp dữ liệu theo user\n",
    "user_stats_df_0 = df_selected.groupby([\"username\"]).agg(\n",
    "    total_views=(\"views\", \"sum\"),\n",
    "    avg_views=(\"views\", \"mean\"),\n",
    "    total_likes=(\"likes\", \"sum\"),\n",
    "    avg_likes=(\"likes\", \"mean\"),\n",
    "    total_comments=(\"comments\", \"sum\"),\n",
    "    total_shares=(\"shares\", \"sum\"),\n",
    "    total_collects=(\"collects\", \"sum\"),\n",
    "    total_videos=(\"views\", \"count\"),  # Số lượng video của user\n",
    "    followers=('user.followers', 'max'),\n",
    "    likes=('user.likes', 'max'),\n",
    ").reset_index()\n",
    "\n",
    "user_stats_df_0 = user_stats_df_0.rename(columns={'username': 'username'})\n",
    "# Tính Engagement Rate (ER) trung bình\n",
    "user_stats_df_0[\"engagement_rate\"] = (user_stats_df_0[\"total_likes\"] + user_stats_df_0[\"total_comments\"] +\n",
    "                                      user_stats_df_0[\"total_shares\"]+user_stats_df_0[\"total_collects\"]) / user_stats_df_0[\"total_views\"]\n",
    "user_stats_df_0[\"total_engagement\"] = (user_stats_df_0[\"total_likes\"] + user_stats_df_0[\"total_comments\"] +\n",
    "                                       user_stats_df_0[\"total_shares\"]+user_stats_df_0[\"total_collects\"])\n",
    "# user_stats_df_0[\"avg_engagement\"] = user_stats_df_0[\"total_engagement\"] / \\\n",
    "#     user_stats_df_0[\"total_videos\"]\n",
    "# Loại bỏ những user có tổng lượt xem bằng 0 (tránh lỗi chia cho 0)\n",
    "user_stats_df_0 = user_stats_df_0[user_stats_df_0[\"total_views\"] > 0]\n",
    "display(user_stats_df_0.sample(5))\n",
    "# display(user_stats_df_0.describe())"
   ]
  },
  {
   "cell_type": "markdown",
   "metadata": {},
   "source": [
    "### Phần trăm video có caption bằng tiếng Việt\n"
   ]
  },
  {
   "cell_type": "code",
   "execution_count": 25,
   "metadata": {},
   "outputs": [
    {
     "data": {
      "text/html": [
       "<div>\n",
       "<style scoped>\n",
       "    .dataframe tbody tr th:only-of-type {\n",
       "        vertical-align: middle;\n",
       "    }\n",
       "\n",
       "    .dataframe tbody tr th {\n",
       "        vertical-align: top;\n",
       "    }\n",
       "\n",
       "    .dataframe thead th {\n",
       "        text-align: right;\n",
       "    }\n",
       "</style>\n",
       "<table border=\"1\" class=\"dataframe\">\n",
       "  <thead>\n",
       "    <tr style=\"text-align: right;\">\n",
       "      <th></th>\n",
       "      <th>username</th>\n",
       "      <th>vi_video_percentage</th>\n",
       "    </tr>\n",
       "  </thead>\n",
       "  <tbody>\n",
       "    <tr>\n",
       "      <th>132</th>\n",
       "      <td>kun_thich_nauan</td>\n",
       "      <td>1.000000</td>\n",
       "    </tr>\n",
       "    <tr>\n",
       "      <th>147</th>\n",
       "      <td>lyluclac28</td>\n",
       "      <td>1.000000</td>\n",
       "    </tr>\n",
       "    <tr>\n",
       "      <th>136</th>\n",
       "      <td>lenkycungkhoa</td>\n",
       "      <td>1.000000</td>\n",
       "    </tr>\n",
       "    <tr>\n",
       "      <th>137</th>\n",
       "      <td>lethanhtuan4999</td>\n",
       "      <td>1.000000</td>\n",
       "    </tr>\n",
       "    <tr>\n",
       "      <th>138</th>\n",
       "      <td>lieten91th</td>\n",
       "      <td>1.000000</td>\n",
       "    </tr>\n",
       "    <tr>\n",
       "      <th>...</th>\n",
       "      <td>...</td>\n",
       "      <td>...</td>\n",
       "    </tr>\n",
       "    <tr>\n",
       "      <th>199</th>\n",
       "      <td>psynojin</td>\n",
       "      <td>0.925000</td>\n",
       "    </tr>\n",
       "    <tr>\n",
       "      <th>223</th>\n",
       "      <td>thaothao300491</td>\n",
       "      <td>0.923858</td>\n",
       "    </tr>\n",
       "    <tr>\n",
       "      <th>145</th>\n",
       "      <td>lueating</td>\n",
       "      <td>0.920319</td>\n",
       "    </tr>\n",
       "    <tr>\n",
       "      <th>114</th>\n",
       "      <td>hoanganhdeptrailam</td>\n",
       "      <td>0.915094</td>\n",
       "    </tr>\n",
       "    <tr>\n",
       "      <th>0</th>\n",
       "      <td>1108ng</td>\n",
       "      <td>0.902077</td>\n",
       "    </tr>\n",
       "  </tbody>\n",
       "</table>\n",
       "<p>264 rows × 2 columns</p>\n",
       "</div>"
      ],
      "text/plain": [
       "               username  vi_video_percentage\n",
       "132     kun_thich_nauan             1.000000\n",
       "147          lyluclac28             1.000000\n",
       "136       lenkycungkhoa             1.000000\n",
       "137     lethanhtuan4999             1.000000\n",
       "138          lieten91th             1.000000\n",
       "..                  ...                  ...\n",
       "199            psynojin             0.925000\n",
       "223      thaothao300491             0.923858\n",
       "145            lueating             0.920319\n",
       "114  hoanganhdeptrailam             0.915094\n",
       "0                1108ng             0.902077\n",
       "\n",
       "[264 rows x 2 columns]"
      ]
     },
     "execution_count": 25,
     "metadata": {},
     "output_type": "execute_result"
    }
   ],
   "source": [
    "# Tổng số video theo từng user\n",
    "total_videos = stats_df.groupby('username')['textLang'].count()\n",
    "\n",
    "# Số video có textLang là 'vi'\n",
    "vi_videos = stats_df[stats_df['textLang'] == 'vi'].groupby('username')[\n",
    "    'textLang'].count()\n",
    "\n",
    "# Ghép hai bảng, thay NaN bằng 0 (nếu user không có video tiếng Việt)\n",
    "percent_vi = (vi_videos / total_videos).fillna(0).reset_index()\n",
    "\n",
    "# Đổi tên cột\n",
    "percent_vi.columns = ['username', 'vi_video_percentage']\n",
    "percent_vi.sort_values('vi_video_percentage', ascending=False)"
   ]
  },
  {
   "cell_type": "markdown",
   "metadata": {},
   "source": [
    "### Khoảng thời gian giữa 2 bài đăng của user mà 75% bài đăng thoả ngưỡng đó.\n",
    "\n",
    "Tức là 75% các video của có khoảng cách giữa các lần đăng dưới ngưỡng này.\n"
   ]
  },
  {
   "cell_type": "code",
   "execution_count": 26,
   "metadata": {},
   "outputs": [
    {
     "data": {
      "text/html": [
       "<div>\n",
       "<style scoped>\n",
       "    .dataframe tbody tr th:only-of-type {\n",
       "        vertical-align: middle;\n",
       "    }\n",
       "\n",
       "    .dataframe tbody tr th {\n",
       "        vertical-align: top;\n",
       "    }\n",
       "\n",
       "    .dataframe thead th {\n",
       "        text-align: right;\n",
       "    }\n",
       "</style>\n",
       "<table border=\"1\" class=\"dataframe\">\n",
       "  <thead>\n",
       "    <tr style=\"text-align: right;\">\n",
       "      <th></th>\n",
       "      <th>username</th>\n",
       "      <th>days_between_videos</th>\n",
       "      <th>frequency</th>\n",
       "    </tr>\n",
       "  </thead>\n",
       "  <tbody>\n",
       "    <tr>\n",
       "      <th>0</th>\n",
       "      <td>1108ng</td>\n",
       "      <td>1.016840</td>\n",
       "      <td>0.983439</td>\n",
       "    </tr>\n",
       "    <tr>\n",
       "      <th>1</th>\n",
       "      <td>3tl.team</td>\n",
       "      <td>3.734821</td>\n",
       "      <td>0.267750</td>\n",
       "    </tr>\n",
       "    <tr>\n",
       "      <th>2</th>\n",
       "      <td>_helloanan_</td>\n",
       "      <td>2.096204</td>\n",
       "      <td>0.477053</td>\n",
       "    </tr>\n",
       "    <tr>\n",
       "      <th>3</th>\n",
       "      <td>_tidofood</td>\n",
       "      <td>2.000000</td>\n",
       "      <td>0.500000</td>\n",
       "    </tr>\n",
       "    <tr>\n",
       "      <th>4</th>\n",
       "      <td>aan_ne8</td>\n",
       "      <td>5.995972</td>\n",
       "      <td>0.166779</td>\n",
       "    </tr>\n",
       "  </tbody>\n",
       "</table>\n",
       "</div>"
      ],
      "text/plain": [
       "      username  days_between_videos  frequency\n",
       "0       1108ng             1.016840   0.983439\n",
       "1     3tl.team             3.734821   0.267750\n",
       "2  _helloanan_             2.096204   0.477053\n",
       "3    _tidofood             2.000000   0.500000\n",
       "4      aan_ne8             5.995972   0.166779"
      ]
     },
     "execution_count": 26,
     "metadata": {},
     "output_type": "execute_result"
    }
   ],
   "source": [
    "select_df = filt_stats_df\n",
    "select_df = select_df.sort_values(by=[\"username\", \"createTime\"])\n",
    "\n",
    "# Tính khoảng cách thời gian giữa các video liên tiếp của mỗi user\n",
    "select_df[\"time_diff\"] = select_df.groupby(\"username\")[\"createTime\"].diff()\n",
    "\n",
    "# Xử lý trường hợp user chỉ có 1 video, không tính được diff\n",
    "select_df[\"time_diff\"] = select_df[\"time_diff\"].fillna(pd.Timedelta(seconds=0))\n",
    "\n",
    "# Tính trung bình khoảng cách giữa các video cho mỗi user\n",
    "frequency_df = select_df.groupby(\"username\")[\"time_diff\"].quantile(\n",
    "    0.75).dt.total_seconds() / 3600 / 24  # Đổi ra ngày\n",
    "\n",
    "# Nếu chỉ có 1 video, gán giá trị 'inf' cho 'days_between_videos'\n",
    "frequency_df = frequency_df.reset_index(name=\"days_between_videos\")\n",
    "\n",
    "# Xử lý trường hợp user có 1 video\n",
    "single_video_users = frequency_df[frequency_df[\"days_between_videos\"] == 0]\n",
    "frequency_df.loc[single_video_users.index, \"days_between_videos\"] = float(\n",
    "    'inf')  # Gán giá trị 'inf' cho những người chỉ có 1 video\n",
    "frequency_df['frequency'] = 1 / frequency_df['days_between_videos']\n",
    "\n",
    "# Kiểm tra kết quả\n",
    "frequency_df.head()"
   ]
  },
  {
   "cell_type": "markdown",
   "metadata": {},
   "source": [
    "### Tính phần trăm cái bài đăng có liên quan đến ẩm thực (dựa trên hashtag)\n"
   ]
  },
  {
   "cell_type": "markdown",
   "metadata": {},
   "source": [
    "Danh sách các hashtag, số video tương ứng và số user sử dụng hashtag đó.\n"
   ]
  },
  {
   "cell_type": "code",
   "execution_count": 27,
   "metadata": {},
   "outputs": [
    {
     "data": {
      "text/html": [
       "<div>\n",
       "<style scoped>\n",
       "    .dataframe tbody tr th:only-of-type {\n",
       "        vertical-align: middle;\n",
       "    }\n",
       "\n",
       "    .dataframe tbody tr th {\n",
       "        vertical-align: top;\n",
       "    }\n",
       "\n",
       "    .dataframe thead th {\n",
       "        text-align: right;\n",
       "    }\n",
       "</style>\n",
       "<table border=\"1\" class=\"dataframe\">\n",
       "  <thead>\n",
       "    <tr style=\"text-align: right;\">\n",
       "      <th></th>\n",
       "      <th>hashtags</th>\n",
       "      <th>videos_count</th>\n",
       "      <th>users_count</th>\n",
       "      <th>avg_videos_per_user</th>\n",
       "    </tr>\n",
       "  </thead>\n",
       "  <tbody>\n",
       "    <tr>\n",
       "      <th>0</th>\n",
       "      <td>ancungtiktok</td>\n",
       "      <td>50798</td>\n",
       "      <td>241</td>\n",
       "      <td>210.780083</td>\n",
       "    </tr>\n",
       "    <tr>\n",
       "      <th>1</th>\n",
       "      <td>learnontiktok</td>\n",
       "      <td>31046</td>\n",
       "      <td>192</td>\n",
       "      <td>161.697917</td>\n",
       "    </tr>\n",
       "    <tr>\n",
       "      <th>3</th>\n",
       "      <td>xuhuong</td>\n",
       "      <td>21044</td>\n",
       "      <td>169</td>\n",
       "      <td>124.520710</td>\n",
       "    </tr>\n",
       "    <tr>\n",
       "      <th>28</th>\n",
       "      <td></td>\n",
       "      <td>1930</td>\n",
       "      <td>164</td>\n",
       "      <td>11.768293</td>\n",
       "    </tr>\n",
       "    <tr>\n",
       "      <th>19</th>\n",
       "      <td>thanhthoiluottet</td>\n",
       "      <td>2633</td>\n",
       "      <td>153</td>\n",
       "      <td>17.209150</td>\n",
       "    </tr>\n",
       "    <tr>\n",
       "      <th>...</th>\n",
       "      <td>...</td>\n",
       "      <td>...</td>\n",
       "      <td>...</td>\n",
       "      <td>...</td>\n",
       "    </tr>\n",
       "    <tr>\n",
       "      <th>14489</th>\n",
       "      <td>thanheochien</td>\n",
       "      <td>1</td>\n",
       "      <td>1</td>\n",
       "      <td>1.000000</td>\n",
       "    </tr>\n",
       "    <tr>\n",
       "      <th>14488</th>\n",
       "      <td>longnuongchao</td>\n",
       "      <td>1</td>\n",
       "      <td>1</td>\n",
       "      <td>1.000000</td>\n",
       "    </tr>\n",
       "    <tr>\n",
       "      <th>14487</th>\n",
       "      <td>lamkimchinhanhgon</td>\n",
       "      <td>1</td>\n",
       "      <td>1</td>\n",
       "      <td>1.000000</td>\n",
       "    </tr>\n",
       "    <tr>\n",
       "      <th>14486</th>\n",
       "      <td>mientronhaisan</td>\n",
       "      <td>1</td>\n",
       "      <td>1</td>\n",
       "      <td>1.000000</td>\n",
       "    </tr>\n",
       "    <tr>\n",
       "      <th>26983</th>\n",
       "      <td>dangmukbangbo</td>\n",
       "      <td>1</td>\n",
       "      <td>1</td>\n",
       "      <td>1.000000</td>\n",
       "    </tr>\n",
       "  </tbody>\n",
       "</table>\n",
       "<p>26984 rows × 4 columns</p>\n",
       "</div>"
      ],
      "text/plain": [
       "                hashtags  videos_count  users_count  avg_videos_per_user\n",
       "0           ancungtiktok         50798          241           210.780083\n",
       "1          learnontiktok         31046          192           161.697917\n",
       "3                xuhuong         21044          169           124.520710\n",
       "28                                1930          164            11.768293\n",
       "19      thanhthoiluottet          2633          153            17.209150\n",
       "...                  ...           ...          ...                  ...\n",
       "14489       thanheochien             1            1             1.000000\n",
       "14488      longnuongchao             1            1             1.000000\n",
       "14487  lamkimchinhanhgon             1            1             1.000000\n",
       "14486     mientronhaisan             1            1             1.000000\n",
       "26983      dangmukbangbo             1            1             1.000000\n",
       "\n",
       "[26984 rows x 4 columns]"
      ]
     },
     "metadata": {},
     "output_type": "display_data"
    }
   ],
   "source": [
    "# Tách hashtag thành từng dòng riêng biệt\n",
    "exploded_df = stats_df.explode(\"hashtags\")\n",
    "\n",
    "# Đếm số lượng video chứa mỗi hashtag\n",
    "hashtag_video_counts = exploded_df[\"hashtags\"].value_counts().reset_index()\n",
    "hashtag_video_counts.columns = [\"hashtags\", \"videos_count\"]\n",
    "\n",
    "# Đếm số tài khoản sử dụng mỗi hashtag (số user duy nhất)\n",
    "hashtag_user_counts = exploded_df.groupby(\n",
    "    \"hashtags\")[\"username\"].nunique().reset_index()\n",
    "hashtag_user_counts.columns = [\"hashtags\", \"users_count\"]\n",
    "\n",
    "# Gộp cả 2 thông tin vào cùng 1 DataFrame\n",
    "hashtags_df = hashtag_video_counts.merge(hashtag_user_counts, on=\"hashtags\")\n",
    "hashtags_df[\"avg_videos_per_user\"] = hashtags_df[\"videos_count\"] / \\\n",
    "    hashtags_df[\"users_count\"]\n",
    "hashtags_df = hashtags_df.sort_values('users_count', ascending=False)\n",
    "display(hashtags_df)\n",
    "# px.bar(hashtags_df.head(50), x='users_count', y='hashtags')"
   ]
  },
  {
   "cell_type": "markdown",
   "metadata": {},
   "source": [
    "Lọc ra các hashtag có liên quan đến ẩm thực.\n"
   ]
  },
  {
   "cell_type": "code",
   "execution_count": 28,
   "metadata": {},
   "outputs": [
    {
     "data": {
      "text/html": [
       "<div>\n",
       "<style scoped>\n",
       "    .dataframe tbody tr th:only-of-type {\n",
       "        vertical-align: middle;\n",
       "    }\n",
       "\n",
       "    .dataframe tbody tr th {\n",
       "        vertical-align: top;\n",
       "    }\n",
       "\n",
       "    .dataframe thead th {\n",
       "        text-align: right;\n",
       "    }\n",
       "</style>\n",
       "<table border=\"1\" class=\"dataframe\">\n",
       "  <thead>\n",
       "    <tr style=\"text-align: right;\">\n",
       "      <th></th>\n",
       "      <th>hashtags</th>\n",
       "      <th>videos_count</th>\n",
       "      <th>users_count</th>\n",
       "      <th>avg_videos_per_user</th>\n",
       "    </tr>\n",
       "  </thead>\n",
       "  <tbody>\n",
       "    <tr>\n",
       "      <th>0</th>\n",
       "      <td>ancungtiktok</td>\n",
       "      <td>50798</td>\n",
       "      <td>241</td>\n",
       "      <td>210.780083</td>\n",
       "    </tr>\n",
       "    <tr>\n",
       "      <th>1</th>\n",
       "      <td>reviewanngon</td>\n",
       "      <td>22297</td>\n",
       "      <td>127</td>\n",
       "      <td>175.566929</td>\n",
       "    </tr>\n",
       "    <tr>\n",
       "      <th>2</th>\n",
       "      <td>mukbang</td>\n",
       "      <td>9896</td>\n",
       "      <td>97</td>\n",
       "      <td>102.020619</td>\n",
       "    </tr>\n",
       "    <tr>\n",
       "      <th>3</th>\n",
       "      <td>anvat</td>\n",
       "      <td>2941</td>\n",
       "      <td>95</td>\n",
       "      <td>30.957895</td>\n",
       "    </tr>\n",
       "    <tr>\n",
       "      <th>4</th>\n",
       "      <td>food</td>\n",
       "      <td>7627</td>\n",
       "      <td>93</td>\n",
       "      <td>82.010753</td>\n",
       "    </tr>\n",
       "    <tr>\n",
       "      <th>...</th>\n",
       "      <td>...</td>\n",
       "      <td>...</td>\n",
       "      <td>...</td>\n",
       "      <td>...</td>\n",
       "    </tr>\n",
       "    <tr>\n",
       "      <th>5674</th>\n",
       "      <td>quanngonquan4</td>\n",
       "      <td>1</td>\n",
       "      <td>1</td>\n",
       "      <td>1.000000</td>\n",
       "    </tr>\n",
       "    <tr>\n",
       "      <th>5675</th>\n",
       "      <td>lauchanhdayhaisan</td>\n",
       "      <td>1</td>\n",
       "      <td>1</td>\n",
       "      <td>1.000000</td>\n",
       "    </tr>\n",
       "    <tr>\n",
       "      <th>5676</th>\n",
       "      <td>lauhaisanchanhday</td>\n",
       "      <td>1</td>\n",
       "      <td>1</td>\n",
       "      <td>1.000000</td>\n",
       "    </tr>\n",
       "    <tr>\n",
       "      <th>5677</th>\n",
       "      <td>nhahanghopmat</td>\n",
       "      <td>1</td>\n",
       "      <td>1</td>\n",
       "      <td>1.000000</td>\n",
       "    </tr>\n",
       "    <tr>\n",
       "      <th>5678</th>\n",
       "      <td>dangmukbangbo</td>\n",
       "      <td>1</td>\n",
       "      <td>1</td>\n",
       "      <td>1.000000</td>\n",
       "    </tr>\n",
       "  </tbody>\n",
       "</table>\n",
       "<p>5679 rows × 4 columns</p>\n",
       "</div>"
      ],
      "text/plain": [
       "               hashtags  videos_count  users_count  avg_videos_per_user\n",
       "0          ancungtiktok         50798          241           210.780083\n",
       "1          reviewanngon         22297          127           175.566929\n",
       "2               mukbang          9896           97           102.020619\n",
       "3                 anvat          2941           95            30.957895\n",
       "4                  food          7627           93            82.010753\n",
       "...                 ...           ...          ...                  ...\n",
       "5674      quanngonquan4             1            1             1.000000\n",
       "5675  lauchanhdayhaisan             1            1             1.000000\n",
       "5676  lauhaisanchanhday             1            1             1.000000\n",
       "5677      nhahanghopmat             1            1             1.000000\n",
       "5678      dangmukbangbo             1            1             1.000000\n",
       "\n",
       "[5679 rows x 4 columns]"
      ]
     },
     "metadata": {},
     "output_type": "display_data"
    }
   ],
   "source": [
    "food_keywords = [\n",
    "    \"food\", \"eat\", \"drink\", \"chef\", \"cook\", \"cooking\", \"recipe\", \"baking\", \"buffet\", \"steak\", \"grill\", \"vegan\",\n",
    "    \"anvat\",  \"anuong\",  \"angi\",  \"anngon\", \"doan\", \"ancung\", 'nauan', 'anchay',\n",
    "    \"douong\", \"nuocuong\",\n",
    "    \"monngon\", 'monchay',\n",
    "    \"ancom\", \"anvat\",  \"moncom\", \"buacom\", 'comnha', 'buacom', 'comtam', 'comchay',\n",
    "    \"hutieu\", \"banhmi\", \"haisan\", 'micay', 'mituongden', 'mycay', 'mytuongden',\n",
    "    \"trasua\", \"nuoc\", \"caphe\", \"sinhto\", \"ruou\", 'latte', 'cacao', 'caffe', 'bun', 'banh',\n",
    "    \"amthuc\",  \"nhahang\", \"thucdon\", \"dacsan\", \"mukbang\",\n",
    "]\n",
    "\n",
    "# food_keywords = [\n",
    "#     \"food\", \"eat\", \"drink\", \"chef\", \"cook\", \"cooking\", \"recipe\", \"baking\", \"buffet\", \"steak\", \"grill\", \"vegan\",\n",
    "#     \"amthuc\", \"an\",  \"nhahang\", \"mon\", \"ngon\", \"uong\", \"thucdon\", \"dacsan\", \"tiem\",\n",
    "#     # \"ancom\", \"anvat\",  \"moncom\", \"buacom\", 'comnha', 'buacom',\n",
    "#     \"hutieu\", \"banhmi\", \"haisan\", \"com\", 'bun', 'canh',\n",
    "#     \"tra\", \"sua\", \"nuoc\", \"caphe\", \"sinhto\", \"ruou\", 'latte', 'cacao', 'caffe',\n",
    "#     'banh',\n",
    "# ]\n",
    "\n",
    "food_related_hashtags_df = hashtags_df[hashtags_df[\"hashtags\"].apply(\n",
    "    lambda x: any(kw in x for kw in food_keywords))]\n",
    "food_related_hashtags_df = food_related_hashtags_df.sort_values(\n",
    "    'users_count', ascending=False, ignore_index=True)\n",
    "\n",
    "# with pd.option_context(\"display.max_rows\", None):\n",
    "display(food_related_hashtags_df)"
   ]
  },
  {
   "cell_type": "code",
   "execution_count": 29,
   "metadata": {},
   "outputs": [
    {
     "data": {
      "application/vnd.plotly.v1+json": {
       "config": {
        "plotlyServerURL": "https://plot.ly"
       },
       "data": [
        {
         "hovertemplate": "users_count=%{x}<br>hashtags=%{y}<extra></extra>",
         "legendgroup": "",
         "marker": {
          "color": "#636efa",
          "pattern": {
           "shape": ""
          }
         },
         "name": "",
         "orientation": "h",
         "showlegend": false,
         "textposition": "auto",
         "type": "bar",
         "x": {
          "bdata": "8QB/AGEAXwBdAFkAUgBPAEsARQBBADoAOQA3ADcANgA1ADQAMwAyADEALwAuAC4ALQAtAC0AKwArACoA",
          "dtype": "i2"
         },
         "xaxis": "x",
         "y": [
          "ancungtiktok",
          "reviewanngon",
          "mukbang",
          "anvat",
          "food",
          "banhmi",
          "vanmonngonbungvi",
          "micay",
          "trasua",
          "comnha",
          "buffet",
          "nauancungtiktok",
          "banhtrang",
          "banhmichao",
          "foodtiktok",
          "monngonmoingay",
          "bundaumamtom",
          "nauan",
          "bunbohue",
          "foodreview",
          "bunrieu",
          "anchay",
          "mituongden",
          "banhxeo",
          "comtam",
          "banhtrungthu",
          "cooking",
          "banhngot",
          "haisan",
          "banhcanh"
         ],
         "yaxis": "y"
        }
       ],
       "layout": {
        "barmode": "relative",
        "height": 700,
        "legend": {
         "tracegroupgap": 0
        },
        "margin": {
         "t": 60
        },
        "template": {
         "data": {
          "bar": [
           {
            "error_x": {
             "color": "#2a3f5f"
            },
            "error_y": {
             "color": "#2a3f5f"
            },
            "marker": {
             "line": {
              "color": "#E5ECF6",
              "width": 0.5
             },
             "pattern": {
              "fillmode": "overlay",
              "size": 10,
              "solidity": 0.2
             }
            },
            "type": "bar"
           }
          ],
          "barpolar": [
           {
            "marker": {
             "line": {
              "color": "#E5ECF6",
              "width": 0.5
             },
             "pattern": {
              "fillmode": "overlay",
              "size": 10,
              "solidity": 0.2
             }
            },
            "type": "barpolar"
           }
          ],
          "carpet": [
           {
            "aaxis": {
             "endlinecolor": "#2a3f5f",
             "gridcolor": "white",
             "linecolor": "white",
             "minorgridcolor": "white",
             "startlinecolor": "#2a3f5f"
            },
            "baxis": {
             "endlinecolor": "#2a3f5f",
             "gridcolor": "white",
             "linecolor": "white",
             "minorgridcolor": "white",
             "startlinecolor": "#2a3f5f"
            },
            "type": "carpet"
           }
          ],
          "choropleth": [
           {
            "colorbar": {
             "outlinewidth": 0,
             "ticks": ""
            },
            "type": "choropleth"
           }
          ],
          "contour": [
           {
            "colorbar": {
             "outlinewidth": 0,
             "ticks": ""
            },
            "colorscale": [
             [
              0,
              "#0d0887"
             ],
             [
              0.1111111111111111,
              "#46039f"
             ],
             [
              0.2222222222222222,
              "#7201a8"
             ],
             [
              0.3333333333333333,
              "#9c179e"
             ],
             [
              0.4444444444444444,
              "#bd3786"
             ],
             [
              0.5555555555555556,
              "#d8576b"
             ],
             [
              0.6666666666666666,
              "#ed7953"
             ],
             [
              0.7777777777777778,
              "#fb9f3a"
             ],
             [
              0.8888888888888888,
              "#fdca26"
             ],
             [
              1,
              "#f0f921"
             ]
            ],
            "type": "contour"
           }
          ],
          "contourcarpet": [
           {
            "colorbar": {
             "outlinewidth": 0,
             "ticks": ""
            },
            "type": "contourcarpet"
           }
          ],
          "heatmap": [
           {
            "colorbar": {
             "outlinewidth": 0,
             "ticks": ""
            },
            "colorscale": [
             [
              0,
              "#0d0887"
             ],
             [
              0.1111111111111111,
              "#46039f"
             ],
             [
              0.2222222222222222,
              "#7201a8"
             ],
             [
              0.3333333333333333,
              "#9c179e"
             ],
             [
              0.4444444444444444,
              "#bd3786"
             ],
             [
              0.5555555555555556,
              "#d8576b"
             ],
             [
              0.6666666666666666,
              "#ed7953"
             ],
             [
              0.7777777777777778,
              "#fb9f3a"
             ],
             [
              0.8888888888888888,
              "#fdca26"
             ],
             [
              1,
              "#f0f921"
             ]
            ],
            "type": "heatmap"
           }
          ],
          "histogram": [
           {
            "marker": {
             "pattern": {
              "fillmode": "overlay",
              "size": 10,
              "solidity": 0.2
             }
            },
            "type": "histogram"
           }
          ],
          "histogram2d": [
           {
            "colorbar": {
             "outlinewidth": 0,
             "ticks": ""
            },
            "colorscale": [
             [
              0,
              "#0d0887"
             ],
             [
              0.1111111111111111,
              "#46039f"
             ],
             [
              0.2222222222222222,
              "#7201a8"
             ],
             [
              0.3333333333333333,
              "#9c179e"
             ],
             [
              0.4444444444444444,
              "#bd3786"
             ],
             [
              0.5555555555555556,
              "#d8576b"
             ],
             [
              0.6666666666666666,
              "#ed7953"
             ],
             [
              0.7777777777777778,
              "#fb9f3a"
             ],
             [
              0.8888888888888888,
              "#fdca26"
             ],
             [
              1,
              "#f0f921"
             ]
            ],
            "type": "histogram2d"
           }
          ],
          "histogram2dcontour": [
           {
            "colorbar": {
             "outlinewidth": 0,
             "ticks": ""
            },
            "colorscale": [
             [
              0,
              "#0d0887"
             ],
             [
              0.1111111111111111,
              "#46039f"
             ],
             [
              0.2222222222222222,
              "#7201a8"
             ],
             [
              0.3333333333333333,
              "#9c179e"
             ],
             [
              0.4444444444444444,
              "#bd3786"
             ],
             [
              0.5555555555555556,
              "#d8576b"
             ],
             [
              0.6666666666666666,
              "#ed7953"
             ],
             [
              0.7777777777777778,
              "#fb9f3a"
             ],
             [
              0.8888888888888888,
              "#fdca26"
             ],
             [
              1,
              "#f0f921"
             ]
            ],
            "type": "histogram2dcontour"
           }
          ],
          "mesh3d": [
           {
            "colorbar": {
             "outlinewidth": 0,
             "ticks": ""
            },
            "type": "mesh3d"
           }
          ],
          "parcoords": [
           {
            "line": {
             "colorbar": {
              "outlinewidth": 0,
              "ticks": ""
             }
            },
            "type": "parcoords"
           }
          ],
          "pie": [
           {
            "automargin": true,
            "type": "pie"
           }
          ],
          "scatter": [
           {
            "fillpattern": {
             "fillmode": "overlay",
             "size": 10,
             "solidity": 0.2
            },
            "type": "scatter"
           }
          ],
          "scatter3d": [
           {
            "line": {
             "colorbar": {
              "outlinewidth": 0,
              "ticks": ""
             }
            },
            "marker": {
             "colorbar": {
              "outlinewidth": 0,
              "ticks": ""
             }
            },
            "type": "scatter3d"
           }
          ],
          "scattercarpet": [
           {
            "marker": {
             "colorbar": {
              "outlinewidth": 0,
              "ticks": ""
             }
            },
            "type": "scattercarpet"
           }
          ],
          "scattergeo": [
           {
            "marker": {
             "colorbar": {
              "outlinewidth": 0,
              "ticks": ""
             }
            },
            "type": "scattergeo"
           }
          ],
          "scattergl": [
           {
            "marker": {
             "colorbar": {
              "outlinewidth": 0,
              "ticks": ""
             }
            },
            "type": "scattergl"
           }
          ],
          "scattermap": [
           {
            "marker": {
             "colorbar": {
              "outlinewidth": 0,
              "ticks": ""
             }
            },
            "type": "scattermap"
           }
          ],
          "scattermapbox": [
           {
            "marker": {
             "colorbar": {
              "outlinewidth": 0,
              "ticks": ""
             }
            },
            "type": "scattermapbox"
           }
          ],
          "scatterpolar": [
           {
            "marker": {
             "colorbar": {
              "outlinewidth": 0,
              "ticks": ""
             }
            },
            "type": "scatterpolar"
           }
          ],
          "scatterpolargl": [
           {
            "marker": {
             "colorbar": {
              "outlinewidth": 0,
              "ticks": ""
             }
            },
            "type": "scatterpolargl"
           }
          ],
          "scatterternary": [
           {
            "marker": {
             "colorbar": {
              "outlinewidth": 0,
              "ticks": ""
             }
            },
            "type": "scatterternary"
           }
          ],
          "surface": [
           {
            "colorbar": {
             "outlinewidth": 0,
             "ticks": ""
            },
            "colorscale": [
             [
              0,
              "#0d0887"
             ],
             [
              0.1111111111111111,
              "#46039f"
             ],
             [
              0.2222222222222222,
              "#7201a8"
             ],
             [
              0.3333333333333333,
              "#9c179e"
             ],
             [
              0.4444444444444444,
              "#bd3786"
             ],
             [
              0.5555555555555556,
              "#d8576b"
             ],
             [
              0.6666666666666666,
              "#ed7953"
             ],
             [
              0.7777777777777778,
              "#fb9f3a"
             ],
             [
              0.8888888888888888,
              "#fdca26"
             ],
             [
              1,
              "#f0f921"
             ]
            ],
            "type": "surface"
           }
          ],
          "table": [
           {
            "cells": {
             "fill": {
              "color": "#EBF0F8"
             },
             "line": {
              "color": "white"
             }
            },
            "header": {
             "fill": {
              "color": "#C8D4E3"
             },
             "line": {
              "color": "white"
             }
            },
            "type": "table"
           }
          ]
         },
         "layout": {
          "annotationdefaults": {
           "arrowcolor": "#2a3f5f",
           "arrowhead": 0,
           "arrowwidth": 1
          },
          "autotypenumbers": "strict",
          "coloraxis": {
           "colorbar": {
            "outlinewidth": 0,
            "ticks": ""
           }
          },
          "colorscale": {
           "diverging": [
            [
             0,
             "#8e0152"
            ],
            [
             0.1,
             "#c51b7d"
            ],
            [
             0.2,
             "#de77ae"
            ],
            [
             0.3,
             "#f1b6da"
            ],
            [
             0.4,
             "#fde0ef"
            ],
            [
             0.5,
             "#f7f7f7"
            ],
            [
             0.6,
             "#e6f5d0"
            ],
            [
             0.7,
             "#b8e186"
            ],
            [
             0.8,
             "#7fbc41"
            ],
            [
             0.9,
             "#4d9221"
            ],
            [
             1,
             "#276419"
            ]
           ],
           "sequential": [
            [
             0,
             "#0d0887"
            ],
            [
             0.1111111111111111,
             "#46039f"
            ],
            [
             0.2222222222222222,
             "#7201a8"
            ],
            [
             0.3333333333333333,
             "#9c179e"
            ],
            [
             0.4444444444444444,
             "#bd3786"
            ],
            [
             0.5555555555555556,
             "#d8576b"
            ],
            [
             0.6666666666666666,
             "#ed7953"
            ],
            [
             0.7777777777777778,
             "#fb9f3a"
            ],
            [
             0.8888888888888888,
             "#fdca26"
            ],
            [
             1,
             "#f0f921"
            ]
           ],
           "sequentialminus": [
            [
             0,
             "#0d0887"
            ],
            [
             0.1111111111111111,
             "#46039f"
            ],
            [
             0.2222222222222222,
             "#7201a8"
            ],
            [
             0.3333333333333333,
             "#9c179e"
            ],
            [
             0.4444444444444444,
             "#bd3786"
            ],
            [
             0.5555555555555556,
             "#d8576b"
            ],
            [
             0.6666666666666666,
             "#ed7953"
            ],
            [
             0.7777777777777778,
             "#fb9f3a"
            ],
            [
             0.8888888888888888,
             "#fdca26"
            ],
            [
             1,
             "#f0f921"
            ]
           ]
          },
          "colorway": [
           "#636efa",
           "#EF553B",
           "#00cc96",
           "#ab63fa",
           "#FFA15A",
           "#19d3f3",
           "#FF6692",
           "#B6E880",
           "#FF97FF",
           "#FECB52"
          ],
          "font": {
           "color": "#2a3f5f"
          },
          "geo": {
           "bgcolor": "white",
           "lakecolor": "white",
           "landcolor": "#E5ECF6",
           "showlakes": true,
           "showland": true,
           "subunitcolor": "white"
          },
          "hoverlabel": {
           "align": "left"
          },
          "hovermode": "closest",
          "mapbox": {
           "style": "light"
          },
          "paper_bgcolor": "white",
          "plot_bgcolor": "#E5ECF6",
          "polar": {
           "angularaxis": {
            "gridcolor": "white",
            "linecolor": "white",
            "ticks": ""
           },
           "bgcolor": "#E5ECF6",
           "radialaxis": {
            "gridcolor": "white",
            "linecolor": "white",
            "ticks": ""
           }
          },
          "scene": {
           "xaxis": {
            "backgroundcolor": "#E5ECF6",
            "gridcolor": "white",
            "gridwidth": 2,
            "linecolor": "white",
            "showbackground": true,
            "ticks": "",
            "zerolinecolor": "white"
           },
           "yaxis": {
            "backgroundcolor": "#E5ECF6",
            "gridcolor": "white",
            "gridwidth": 2,
            "linecolor": "white",
            "showbackground": true,
            "ticks": "",
            "zerolinecolor": "white"
           },
           "zaxis": {
            "backgroundcolor": "#E5ECF6",
            "gridcolor": "white",
            "gridwidth": 2,
            "linecolor": "white",
            "showbackground": true,
            "ticks": "",
            "zerolinecolor": "white"
           }
          },
          "shapedefaults": {
           "line": {
            "color": "#2a3f5f"
           }
          },
          "ternary": {
           "aaxis": {
            "gridcolor": "white",
            "linecolor": "white",
            "ticks": ""
           },
           "baxis": {
            "gridcolor": "white",
            "linecolor": "white",
            "ticks": ""
           },
           "bgcolor": "#E5ECF6",
           "caxis": {
            "gridcolor": "white",
            "linecolor": "white",
            "ticks": ""
           }
          },
          "title": {
           "x": 0.05
          },
          "xaxis": {
           "automargin": true,
           "gridcolor": "white",
           "linecolor": "white",
           "ticks": "",
           "title": {
            "standoff": 15
           },
           "zerolinecolor": "white",
           "zerolinewidth": 2
          },
          "yaxis": {
           "automargin": true,
           "gridcolor": "white",
           "linecolor": "white",
           "ticks": "",
           "title": {
            "standoff": 15
           },
           "zerolinecolor": "white",
           "zerolinewidth": 2
          }
         }
        },
        "xaxis": {
         "anchor": "y",
         "domain": [
          0,
          1
         ],
         "title": {
          "text": "users_count"
         }
        },
        "yaxis": {
         "anchor": "x",
         "domain": [
          0,
          1
         ],
         "title": {
          "text": "hashtags"
         }
        }
       }
      }
     },
     "metadata": {},
     "output_type": "display_data"
    }
   ],
   "source": [
    "px.bar(food_related_hashtags_df.head(30),\n",
    "       y='hashtags', x='users_count', height=700)"
   ]
  },
  {
   "cell_type": "code",
   "execution_count": 30,
   "metadata": {},
   "outputs": [],
   "source": [
    "# food_related_hashtags_df.to_csv(\"hashtag_list.csv\", index=False)"
   ]
  },
  {
   "cell_type": "markdown",
   "metadata": {},
   "source": [
    "Tính phần trăm các video có hashtag về ẩm thực của từng user.\n"
   ]
  },
  {
   "cell_type": "code",
   "execution_count": 31,
   "metadata": {},
   "outputs": [
    {
     "data": {
      "text/html": [
       "<div>\n",
       "<style scoped>\n",
       "    .dataframe tbody tr th:only-of-type {\n",
       "        vertical-align: middle;\n",
       "    }\n",
       "\n",
       "    .dataframe tbody tr th {\n",
       "        vertical-align: top;\n",
       "    }\n",
       "\n",
       "    .dataframe thead th {\n",
       "        text-align: right;\n",
       "    }\n",
       "</style>\n",
       "<table border=\"1\" class=\"dataframe\">\n",
       "  <thead>\n",
       "    <tr style=\"text-align: right;\">\n",
       "      <th></th>\n",
       "      <th>username</th>\n",
       "      <th>total_videos</th>\n",
       "      <th>food_related_videos</th>\n",
       "      <th>food_video_percentage</th>\n",
       "    </tr>\n",
       "  </thead>\n",
       "  <tbody>\n",
       "    <tr>\n",
       "      <th>0</th>\n",
       "      <td>1108ng</td>\n",
       "      <td>67</td>\n",
       "      <td>67</td>\n",
       "      <td>1.000000</td>\n",
       "    </tr>\n",
       "    <tr>\n",
       "      <th>1</th>\n",
       "      <td>3tl.team</td>\n",
       "      <td>6</td>\n",
       "      <td>6</td>\n",
       "      <td>1.000000</td>\n",
       "    </tr>\n",
       "    <tr>\n",
       "      <th>2</th>\n",
       "      <td>_helloanan_</td>\n",
       "      <td>37</td>\n",
       "      <td>37</td>\n",
       "      <td>1.000000</td>\n",
       "    </tr>\n",
       "    <tr>\n",
       "      <th>3</th>\n",
       "      <td>_tidofood</td>\n",
       "      <td>46</td>\n",
       "      <td>46</td>\n",
       "      <td>1.000000</td>\n",
       "    </tr>\n",
       "    <tr>\n",
       "      <th>4</th>\n",
       "      <td>aan_ne8</td>\n",
       "      <td>9</td>\n",
       "      <td>8</td>\n",
       "      <td>0.888889</td>\n",
       "    </tr>\n",
       "  </tbody>\n",
       "</table>\n",
       "</div>"
      ],
      "text/plain": [
       "      username  total_videos  food_related_videos  food_video_percentage\n",
       "0       1108ng            67                   67               1.000000\n",
       "1     3tl.team             6                    6               1.000000\n",
       "2  _helloanan_            37                   37               1.000000\n",
       "3    _tidofood            46                   46               1.000000\n",
       "4      aan_ne8             9                    8               0.888889"
      ]
     },
     "execution_count": 31,
     "metadata": {},
     "output_type": "execute_result"
    }
   ],
   "source": [
    "# Danh sách các hashtag liên quan đến ẩm thực\n",
    "# food_related_hashtags = {\n",
    "#     \"reviewanngon\", \"ancungtiktok\", \"foodreview\", \"monngon\", \"anvat\",\n",
    "#     \"foodtour\", \"eatclean\", \"buacomgiadinh\", \"amthuc\", \"diadiemanuong\",\n",
    "#     \"reviewanuongsaigon\", \"anvatsaigon\", \"saigonfood\"\n",
    "# }\n",
    "\n",
    "# Bước 1: Lấy ra 100 hashtag ẩm thực có nhiều video nhất\n",
    "food_related_hashtags = food_related_hashtags_df.head(50)[\n",
    "    'hashtags'].to_list()\n",
    "# Bước 2: Tạo cột mới để đánh dấu video có chứa ít nhất một hashtag liên quan đến ẩm thực\n",
    "filt_stats_df[\"is_food_related\"] = filt_stats_df[\"hashtags\"].apply(\n",
    "    lambda tags: any(tag in food_related_hashtags for tag in tags)\n",
    ")\n",
    "\n",
    "# Bước 3: Tính tổng số video & số video liên quan đến ẩm thực của mỗi user\n",
    "food_user_df = filt_stats_df.groupby(\"username\").agg(\n",
    "    total_videos=(\"username\", \"count\"),\n",
    "    food_related_videos=(\"is_food_related\", \"sum\")\n",
    ").reset_index()\n",
    "\n",
    "# Bước 4: Tính phần trăm số video ẩm thực\n",
    "food_user_df[\"food_video_percentage\"] = (\n",
    "    food_user_df[\"food_related_videos\"] / food_user_df[\"total_videos\"])\n",
    "\n",
    "food_user_df = food_user_df.rename(columns={\"username\": \"username\"})\n",
    "food_user_df.head()"
   ]
  },
  {
   "cell_type": "markdown",
   "metadata": {},
   "source": [
    "Merge với `user_stats_df_0`.\n"
   ]
  },
  {
   "cell_type": "code",
   "execution_count": 32,
   "metadata": {},
   "outputs": [
    {
     "data": {
      "text/html": [
       "<div>\n",
       "<style scoped>\n",
       "    .dataframe tbody tr th:only-of-type {\n",
       "        vertical-align: middle;\n",
       "    }\n",
       "\n",
       "    .dataframe tbody tr th {\n",
       "        vertical-align: top;\n",
       "    }\n",
       "\n",
       "    .dataframe thead th {\n",
       "        text-align: right;\n",
       "    }\n",
       "</style>\n",
       "<table border=\"1\" class=\"dataframe\">\n",
       "  <thead>\n",
       "    <tr style=\"text-align: right;\">\n",
       "      <th></th>\n",
       "      <th>username</th>\n",
       "      <th>total_views</th>\n",
       "      <th>avg_views</th>\n",
       "      <th>total_likes</th>\n",
       "      <th>avg_likes</th>\n",
       "      <th>total_comments</th>\n",
       "      <th>total_shares</th>\n",
       "      <th>total_collects</th>\n",
       "      <th>total_videos</th>\n",
       "      <th>followers</th>\n",
       "      <th>likes</th>\n",
       "      <th>engagement_rate</th>\n",
       "      <th>total_engagement</th>\n",
       "      <th>vi_video_percentage</th>\n",
       "      <th>days_between_videos</th>\n",
       "      <th>frequency</th>\n",
       "      <th>food_related_videos</th>\n",
       "      <th>food_video_percentage</th>\n",
       "    </tr>\n",
       "  </thead>\n",
       "  <tbody>\n",
       "    <tr>\n",
       "      <th>152</th>\n",
       "      <td>mhon.vbep</td>\n",
       "      <td>641507.0</td>\n",
       "      <td>42767.133333</td>\n",
       "      <td>17076.0</td>\n",
       "      <td>1138.400000</td>\n",
       "      <td>72.0</td>\n",
       "      <td>1705.0</td>\n",
       "      <td>5754.0</td>\n",
       "      <td>15</td>\n",
       "      <td>22300.0</td>\n",
       "      <td>3823.0</td>\n",
       "      <td>0.038358</td>\n",
       "      <td>24607.0</td>\n",
       "      <td>1.000000</td>\n",
       "      <td>6.079288</td>\n",
       "      <td>0.164493</td>\n",
       "      <td>15</td>\n",
       "      <td>1.000000</td>\n",
       "    </tr>\n",
       "    <tr>\n",
       "      <th>60</th>\n",
       "      <td>cholondowntown</td>\n",
       "      <td>9622232.0</td>\n",
       "      <td>165900.551724</td>\n",
       "      <td>386170.0</td>\n",
       "      <td>6658.103448</td>\n",
       "      <td>5422.0</td>\n",
       "      <td>41465.0</td>\n",
       "      <td>48972.0</td>\n",
       "      <td>58</td>\n",
       "      <td>363700.0</td>\n",
       "      <td>4905.0</td>\n",
       "      <td>0.050095</td>\n",
       "      <td>482029.0</td>\n",
       "      <td>0.996364</td>\n",
       "      <td>1.881942</td>\n",
       "      <td>0.531366</td>\n",
       "      <td>44</td>\n",
       "      <td>0.758621</td>\n",
       "    </tr>\n",
       "    <tr>\n",
       "      <th>96</th>\n",
       "      <td>gauvlogs1997</td>\n",
       "      <td>20427000.0</td>\n",
       "      <td>334868.852459</td>\n",
       "      <td>325770.0</td>\n",
       "      <td>5340.491803</td>\n",
       "      <td>2891.0</td>\n",
       "      <td>6873.0</td>\n",
       "      <td>12700.0</td>\n",
       "      <td>61</td>\n",
       "      <td>329900.0</td>\n",
       "      <td>579.0</td>\n",
       "      <td>0.017048</td>\n",
       "      <td>348234.0</td>\n",
       "      <td>0.986900</td>\n",
       "      <td>1.064861</td>\n",
       "      <td>0.939090</td>\n",
       "      <td>59</td>\n",
       "      <td>0.967213</td>\n",
       "    </tr>\n",
       "    <tr>\n",
       "      <th>212</th>\n",
       "      <td>spicykim9386</td>\n",
       "      <td>39058000.0</td>\n",
       "      <td>685228.070175</td>\n",
       "      <td>1005079.0</td>\n",
       "      <td>17632.964912</td>\n",
       "      <td>9730.0</td>\n",
       "      <td>50191.0</td>\n",
       "      <td>30263.0</td>\n",
       "      <td>57</td>\n",
       "      <td>2900000.0</td>\n",
       "      <td>1382.0</td>\n",
       "      <td>0.028042</td>\n",
       "      <td>1095263.0</td>\n",
       "      <td>0.993289</td>\n",
       "      <td>1.753414</td>\n",
       "      <td>0.570316</td>\n",
       "      <td>55</td>\n",
       "      <td>0.964912</td>\n",
       "    </tr>\n",
       "    <tr>\n",
       "      <th>178</th>\n",
       "      <td>nguoidean_khongdetinh</td>\n",
       "      <td>3312373.0</td>\n",
       "      <td>174335.421053</td>\n",
       "      <td>109843.0</td>\n",
       "      <td>5781.210526</td>\n",
       "      <td>2464.0</td>\n",
       "      <td>33844.0</td>\n",
       "      <td>35437.0</td>\n",
       "      <td>19</td>\n",
       "      <td>71600.0</td>\n",
       "      <td>3304.0</td>\n",
       "      <td>0.054821</td>\n",
       "      <td>181588.0</td>\n",
       "      <td>0.975155</td>\n",
       "      <td>3.927807</td>\n",
       "      <td>0.254595</td>\n",
       "      <td>19</td>\n",
       "      <td>1.000000</td>\n",
       "    </tr>\n",
       "  </tbody>\n",
       "</table>\n",
       "</div>"
      ],
      "text/plain": [
       "                  username  total_views      avg_views  total_likes  \\\n",
       "152              mhon.vbep     641507.0   42767.133333      17076.0   \n",
       "60          cholondowntown    9622232.0  165900.551724     386170.0   \n",
       "96            gauvlogs1997   20427000.0  334868.852459     325770.0   \n",
       "212           spicykim9386   39058000.0  685228.070175    1005079.0   \n",
       "178  nguoidean_khongdetinh    3312373.0  174335.421053     109843.0   \n",
       "\n",
       "        avg_likes  total_comments  total_shares  total_collects  total_videos  \\\n",
       "152   1138.400000            72.0        1705.0          5754.0            15   \n",
       "60    6658.103448          5422.0       41465.0         48972.0            58   \n",
       "96    5340.491803          2891.0        6873.0         12700.0            61   \n",
       "212  17632.964912          9730.0       50191.0         30263.0            57   \n",
       "178   5781.210526          2464.0       33844.0         35437.0            19   \n",
       "\n",
       "     followers   likes  engagement_rate  total_engagement  \\\n",
       "152    22300.0  3823.0         0.038358           24607.0   \n",
       "60    363700.0  4905.0         0.050095          482029.0   \n",
       "96    329900.0   579.0         0.017048          348234.0   \n",
       "212  2900000.0  1382.0         0.028042         1095263.0   \n",
       "178    71600.0  3304.0         0.054821          181588.0   \n",
       "\n",
       "     vi_video_percentage  days_between_videos  frequency  food_related_videos  \\\n",
       "152             1.000000             6.079288   0.164493                   15   \n",
       "60              0.996364             1.881942   0.531366                   44   \n",
       "96              0.986900             1.064861   0.939090                   59   \n",
       "212             0.993289             1.753414   0.570316                   55   \n",
       "178             0.975155             3.927807   0.254595                   19   \n",
       "\n",
       "     food_video_percentage  \n",
       "152               1.000000  \n",
       "60                0.758621  \n",
       "96                0.967213  \n",
       "212               0.964912  \n",
       "178               1.000000  "
      ]
     },
     "metadata": {},
     "output_type": "display_data"
    }
   ],
   "source": [
    "user_stats_df = user_stats_df_0.merge(percent_vi, on='username').merge(frequency_df, on=\"username\").merge(\n",
    "    food_user_df, on=['username', 'total_videos'])\n",
    "user_stats_df = user_stats_df[user_stats_df['frequency'] != 0]\n",
    "user_stats_df.head()\n",
    "\n",
    "display(user_stats_df.sample(5))"
   ]
  },
  {
   "cell_type": "markdown",
   "metadata": {},
   "source": [
    "### Lọc user theo các ngưỡng\n"
   ]
  },
  {
   "cell_type": "markdown",
   "metadata": {},
   "source": [
    "#### Visualization\n"
   ]
  },
  {
   "cell_type": "code",
   "execution_count": 33,
   "metadata": {},
   "outputs": [
    {
     "data": {
      "application/vnd.plotly.v1+json": {
       "config": {
        "plotlyServerURL": "https://plot.ly"
       },
       "data": [
        {
         "bingroup": "x",
         "hovertemplate": "vi_video_percentage=%{x}<br>count=%{y}<extra></extra>",
         "legendgroup": "",
         "marker": {
          "color": "#636efa",
          "pattern": {
           "shape": ""
          }
         },
         "name": "",
         "orientation": "v",
         "showlegend": false,
         "type": "histogram",
         "x": {
          "bdata": "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",
          "dtype": "f8"
         },
         "xaxis": "x",
         "yaxis": "y"
        }
       ],
       "layout": {
        "barmode": "relative",
        "legend": {
         "tracegroupgap": 0
        },
        "template": {
         "data": {
          "bar": [
           {
            "error_x": {
             "color": "#2a3f5f"
            },
            "error_y": {
             "color": "#2a3f5f"
            },
            "marker": {
             "line": {
              "color": "#E5ECF6",
              "width": 0.5
             },
             "pattern": {
              "fillmode": "overlay",
              "size": 10,
              "solidity": 0.2
             }
            },
            "type": "bar"
           }
          ],
          "barpolar": [
           {
            "marker": {
             "line": {
              "color": "#E5ECF6",
              "width": 0.5
             },
             "pattern": {
              "fillmode": "overlay",
              "size": 10,
              "solidity": 0.2
             }
            },
            "type": "barpolar"
           }
          ],
          "carpet": [
           {
            "aaxis": {
             "endlinecolor": "#2a3f5f",
             "gridcolor": "white",
             "linecolor": "white",
             "minorgridcolor": "white",
             "startlinecolor": "#2a3f5f"
            },
            "baxis": {
             "endlinecolor": "#2a3f5f",
             "gridcolor": "white",
             "linecolor": "white",
             "minorgridcolor": "white",
             "startlinecolor": "#2a3f5f"
            },
            "type": "carpet"
           }
          ],
          "choropleth": [
           {
            "colorbar": {
             "outlinewidth": 0,
             "ticks": ""
            },
            "type": "choropleth"
           }
          ],
          "contour": [
           {
            "colorbar": {
             "outlinewidth": 0,
             "ticks": ""
            },
            "colorscale": [
             [
              0,
              "#0d0887"
             ],
             [
              0.1111111111111111,
              "#46039f"
             ],
             [
              0.2222222222222222,
              "#7201a8"
             ],
             [
              0.3333333333333333,
              "#9c179e"
             ],
             [
              0.4444444444444444,
              "#bd3786"
             ],
             [
              0.5555555555555556,
              "#d8576b"
             ],
             [
              0.6666666666666666,
              "#ed7953"
             ],
             [
              0.7777777777777778,
              "#fb9f3a"
             ],
             [
              0.8888888888888888,
              "#fdca26"
             ],
             [
              1,
              "#f0f921"
             ]
            ],
            "type": "contour"
           }
          ],
          "contourcarpet": [
           {
            "colorbar": {
             "outlinewidth": 0,
             "ticks": ""
            },
            "type": "contourcarpet"
           }
          ],
          "heatmap": [
           {
            "colorbar": {
             "outlinewidth": 0,
             "ticks": ""
            },
            "colorscale": [
             [
              0,
              "#0d0887"
             ],
             [
              0.1111111111111111,
              "#46039f"
             ],
             [
              0.2222222222222222,
              "#7201a8"
             ],
             [
              0.3333333333333333,
              "#9c179e"
             ],
             [
              0.4444444444444444,
              "#bd3786"
             ],
             [
              0.5555555555555556,
              "#d8576b"
             ],
             [
              0.6666666666666666,
              "#ed7953"
             ],
             [
              0.7777777777777778,
              "#fb9f3a"
             ],
             [
              0.8888888888888888,
              "#fdca26"
             ],
             [
              1,
              "#f0f921"
             ]
            ],
            "type": "heatmap"
           }
          ],
          "histogram": [
           {
            "marker": {
             "pattern": {
              "fillmode": "overlay",
              "size": 10,
              "solidity": 0.2
             }
            },
            "type": "histogram"
           }
          ],
          "histogram2d": [
           {
            "colorbar": {
             "outlinewidth": 0,
             "ticks": ""
            },
            "colorscale": [
             [
              0,
              "#0d0887"
             ],
             [
              0.1111111111111111,
              "#46039f"
             ],
             [
              0.2222222222222222,
              "#7201a8"
             ],
             [
              0.3333333333333333,
              "#9c179e"
             ],
             [
              0.4444444444444444,
              "#bd3786"
             ],
             [
              0.5555555555555556,
              "#d8576b"
             ],
             [
              0.6666666666666666,
              "#ed7953"
             ],
             [
              0.7777777777777778,
              "#fb9f3a"
             ],
             [
              0.8888888888888888,
              "#fdca26"
             ],
             [
              1,
              "#f0f921"
             ]
            ],
            "type": "histogram2d"
           }
          ],
          "histogram2dcontour": [
           {
            "colorbar": {
             "outlinewidth": 0,
             "ticks": ""
            },
            "colorscale": [
             [
              0,
              "#0d0887"
             ],
             [
              0.1111111111111111,
              "#46039f"
             ],
             [
              0.2222222222222222,
              "#7201a8"
             ],
             [
              0.3333333333333333,
              "#9c179e"
             ],
             [
              0.4444444444444444,
              "#bd3786"
             ],
             [
              0.5555555555555556,
              "#d8576b"
             ],
             [
              0.6666666666666666,
              "#ed7953"
             ],
             [
              0.7777777777777778,
              "#fb9f3a"
             ],
             [
              0.8888888888888888,
              "#fdca26"
             ],
             [
              1,
              "#f0f921"
             ]
            ],
            "type": "histogram2dcontour"
           }
          ],
          "mesh3d": [
           {
            "colorbar": {
             "outlinewidth": 0,
             "ticks": ""
            },
            "type": "mesh3d"
           }
          ],
          "parcoords": [
           {
            "line": {
             "colorbar": {
              "outlinewidth": 0,
              "ticks": ""
             }
            },
            "type": "parcoords"
           }
          ],
          "pie": [
           {
            "automargin": true,
            "type": "pie"
           }
          ],
          "scatter": [
           {
            "fillpattern": {
             "fillmode": "overlay",
             "size": 10,
             "solidity": 0.2
            },
            "type": "scatter"
           }
          ],
          "scatter3d": [
           {
            "line": {
             "colorbar": {
              "outlinewidth": 0,
              "ticks": ""
             }
            },
            "marker": {
             "colorbar": {
              "outlinewidth": 0,
              "ticks": ""
             }
            },
            "type": "scatter3d"
           }
          ],
          "scattercarpet": [
           {
            "marker": {
             "colorbar": {
              "outlinewidth": 0,
              "ticks": ""
             }
            },
            "type": "scattercarpet"
           }
          ],
          "scattergeo": [
           {
            "marker": {
             "colorbar": {
              "outlinewidth": 0,
              "ticks": ""
             }
            },
            "type": "scattergeo"
           }
          ],
          "scattergl": [
           {
            "marker": {
             "colorbar": {
              "outlinewidth": 0,
              "ticks": ""
             }
            },
            "type": "scattergl"
           }
          ],
          "scattermap": [
           {
            "marker": {
             "colorbar": {
              "outlinewidth": 0,
              "ticks": ""
             }
            },
            "type": "scattermap"
           }
          ],
          "scattermapbox": [
           {
            "marker": {
             "colorbar": {
              "outlinewidth": 0,
              "ticks": ""
             }
            },
            "type": "scattermapbox"
           }
          ],
          "scatterpolar": [
           {
            "marker": {
             "colorbar": {
              "outlinewidth": 0,
              "ticks": ""
             }
            },
            "type": "scatterpolar"
           }
          ],
          "scatterpolargl": [
           {
            "marker": {
             "colorbar": {
              "outlinewidth": 0,
              "ticks": ""
             }
            },
            "type": "scatterpolargl"
           }
          ],
          "scatterternary": [
           {
            "marker": {
             "colorbar": {
              "outlinewidth": 0,
              "ticks": ""
             }
            },
            "type": "scatterternary"
           }
          ],
          "surface": [
           {
            "colorbar": {
             "outlinewidth": 0,
             "ticks": ""
            },
            "colorscale": [
             [
              0,
              "#0d0887"
             ],
             [
              0.1111111111111111,
              "#46039f"
             ],
             [
              0.2222222222222222,
              "#7201a8"
             ],
             [
              0.3333333333333333,
              "#9c179e"
             ],
             [
              0.4444444444444444,
              "#bd3786"
             ],
             [
              0.5555555555555556,
              "#d8576b"
             ],
             [
              0.6666666666666666,
              "#ed7953"
             ],
             [
              0.7777777777777778,
              "#fb9f3a"
             ],
             [
              0.8888888888888888,
              "#fdca26"
             ],
             [
              1,
              "#f0f921"
             ]
            ],
            "type": "surface"
           }
          ],
          "table": [
           {
            "cells": {
             "fill": {
              "color": "#EBF0F8"
             },
             "line": {
              "color": "white"
             }
            },
            "header": {
             "fill": {
              "color": "#C8D4E3"
             },
             "line": {
              "color": "white"
             }
            },
            "type": "table"
           }
          ]
         },
         "layout": {
          "annotationdefaults": {
           "arrowcolor": "#2a3f5f",
           "arrowhead": 0,
           "arrowwidth": 1
          },
          "autotypenumbers": "strict",
          "coloraxis": {
           "colorbar": {
            "outlinewidth": 0,
            "ticks": ""
           }
          },
          "colorscale": {
           "diverging": [
            [
             0,
             "#8e0152"
            ],
            [
             0.1,
             "#c51b7d"
            ],
            [
             0.2,
             "#de77ae"
            ],
            [
             0.3,
             "#f1b6da"
            ],
            [
             0.4,
             "#fde0ef"
            ],
            [
             0.5,
             "#f7f7f7"
            ],
            [
             0.6,
             "#e6f5d0"
            ],
            [
             0.7,
             "#b8e186"
            ],
            [
             0.8,
             "#7fbc41"
            ],
            [
             0.9,
             "#4d9221"
            ],
            [
             1,
             "#276419"
            ]
           ],
           "sequential": [
            [
             0,
             "#0d0887"
            ],
            [
             0.1111111111111111,
             "#46039f"
            ],
            [
             0.2222222222222222,
             "#7201a8"
            ],
            [
             0.3333333333333333,
             "#9c179e"
            ],
            [
             0.4444444444444444,
             "#bd3786"
            ],
            [
             0.5555555555555556,
             "#d8576b"
            ],
            [
             0.6666666666666666,
             "#ed7953"
            ],
            [
             0.7777777777777778,
             "#fb9f3a"
            ],
            [
             0.8888888888888888,
             "#fdca26"
            ],
            [
             1,
             "#f0f921"
            ]
           ],
           "sequentialminus": [
            [
             0,
             "#0d0887"
            ],
            [
             0.1111111111111111,
             "#46039f"
            ],
            [
             0.2222222222222222,
             "#7201a8"
            ],
            [
             0.3333333333333333,
             "#9c179e"
            ],
            [
             0.4444444444444444,
             "#bd3786"
            ],
            [
             0.5555555555555556,
             "#d8576b"
            ],
            [
             0.6666666666666666,
             "#ed7953"
            ],
            [
             0.7777777777777778,
             "#fb9f3a"
            ],
            [
             0.8888888888888888,
             "#fdca26"
            ],
            [
             1,
             "#f0f921"
            ]
           ]
          },
          "colorway": [
           "#636efa",
           "#EF553B",
           "#00cc96",
           "#ab63fa",
           "#FFA15A",
           "#19d3f3",
           "#FF6692",
           "#B6E880",
           "#FF97FF",
           "#FECB52"
          ],
          "font": {
           "color": "#2a3f5f"
          },
          "geo": {
           "bgcolor": "white",
           "lakecolor": "white",
           "landcolor": "#E5ECF6",
           "showlakes": true,
           "showland": true,
           "subunitcolor": "white"
          },
          "hoverlabel": {
           "align": "left"
          },
          "hovermode": "closest",
          "mapbox": {
           "style": "light"
          },
          "paper_bgcolor": "white",
          "plot_bgcolor": "#E5ECF6",
          "polar": {
           "angularaxis": {
            "gridcolor": "white",
            "linecolor": "white",
            "ticks": ""
           },
           "bgcolor": "#E5ECF6",
           "radialaxis": {
            "gridcolor": "white",
            "linecolor": "white",
            "ticks": ""
           }
          },
          "scene": {
           "xaxis": {
            "backgroundcolor": "#E5ECF6",
            "gridcolor": "white",
            "gridwidth": 2,
            "linecolor": "white",
            "showbackground": true,
            "ticks": "",
            "zerolinecolor": "white"
           },
           "yaxis": {
            "backgroundcolor": "#E5ECF6",
            "gridcolor": "white",
            "gridwidth": 2,
            "linecolor": "white",
            "showbackground": true,
            "ticks": "",
            "zerolinecolor": "white"
           },
           "zaxis": {
            "backgroundcolor": "#E5ECF6",
            "gridcolor": "white",
            "gridwidth": 2,
            "linecolor": "white",
            "showbackground": true,
            "ticks": "",
            "zerolinecolor": "white"
           }
          },
          "shapedefaults": {
           "line": {
            "color": "#2a3f5f"
           }
          },
          "ternary": {
           "aaxis": {
            "gridcolor": "white",
            "linecolor": "white",
            "ticks": ""
           },
           "baxis": {
            "gridcolor": "white",
            "linecolor": "white",
            "ticks": ""
           },
           "bgcolor": "#E5ECF6",
           "caxis": {
            "gridcolor": "white",
            "linecolor": "white",
            "ticks": ""
           }
          },
          "title": {
           "x": 0.05
          },
          "xaxis": {
           "automargin": true,
           "gridcolor": "white",
           "linecolor": "white",
           "ticks": "",
           "title": {
            "standoff": 15
           },
           "zerolinecolor": "white",
           "zerolinewidth": 2
          },
          "yaxis": {
           "automargin": true,
           "gridcolor": "white",
           "linecolor": "white",
           "ticks": "",
           "title": {
            "standoff": 15
           },
           "zerolinecolor": "white",
           "zerolinewidth": 2
          }
         }
        },
        "title": {
         "text": "Phân phối User theo Phần trăm video có caption tiếng Việt"
        },
        "width": 600,
        "xaxis": {
         "anchor": "y",
         "domain": [
          0,
          1
         ],
         "title": {
          "text": "vi_video_percentage"
         }
        },
        "yaxis": {
         "anchor": "x",
         "domain": [
          0,
          1
         ],
         "title": {
          "text": "count"
         }
        }
       }
      }
     },
     "metadata": {},
     "output_type": "display_data"
    }
   ],
   "source": [
    "px.histogram(user_stats_df, x='vi_video_percentage',\n",
    "             title=\"Phân phối User theo Phần trăm video có caption tiếng Việt\", width=600)"
   ]
  },
  {
   "cell_type": "code",
   "execution_count": 34,
   "metadata": {},
   "outputs": [
    {
     "data": {
      "application/vnd.plotly.v1+json": {
       "config": {
        "plotlyServerURL": "https://plot.ly"
       },
       "data": [
        {
         "bingroup": "x",
         "hovertemplate": "food_video_percentage=%{x}<br>count=%{y}<extra></extra>",
         "legendgroup": "",
         "marker": {
          "color": "#636efa",
          "pattern": {
           "shape": ""
          }
         },
         "name": "",
         "nbinsx": 20,
         "orientation": "v",
         "showlegend": false,
         "type": "histogram",
         "x": {
          "bdata": "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",
          "dtype": "f8"
         },
         "xaxis": "x",
         "yaxis": "y"
        }
       ],
       "layout": {
        "barmode": "relative",
        "legend": {
         "tracegroupgap": 0
        },
        "template": {
         "data": {
          "bar": [
           {
            "error_x": {
             "color": "#2a3f5f"
            },
            "error_y": {
             "color": "#2a3f5f"
            },
            "marker": {
             "line": {
              "color": "#E5ECF6",
              "width": 0.5
             },
             "pattern": {
              "fillmode": "overlay",
              "size": 10,
              "solidity": 0.2
             }
            },
            "type": "bar"
           }
          ],
          "barpolar": [
           {
            "marker": {
             "line": {
              "color": "#E5ECF6",
              "width": 0.5
             },
             "pattern": {
              "fillmode": "overlay",
              "size": 10,
              "solidity": 0.2
             }
            },
            "type": "barpolar"
           }
          ],
          "carpet": [
           {
            "aaxis": {
             "endlinecolor": "#2a3f5f",
             "gridcolor": "white",
             "linecolor": "white",
             "minorgridcolor": "white",
             "startlinecolor": "#2a3f5f"
            },
            "baxis": {
             "endlinecolor": "#2a3f5f",
             "gridcolor": "white",
             "linecolor": "white",
             "minorgridcolor": "white",
             "startlinecolor": "#2a3f5f"
            },
            "type": "carpet"
           }
          ],
          "choropleth": [
           {
            "colorbar": {
             "outlinewidth": 0,
             "ticks": ""
            },
            "type": "choropleth"
           }
          ],
          "contour": [
           {
            "colorbar": {
             "outlinewidth": 0,
             "ticks": ""
            },
            "colorscale": [
             [
              0,
              "#0d0887"
             ],
             [
              0.1111111111111111,
              "#46039f"
             ],
             [
              0.2222222222222222,
              "#7201a8"
             ],
             [
              0.3333333333333333,
              "#9c179e"
             ],
             [
              0.4444444444444444,
              "#bd3786"
             ],
             [
              0.5555555555555556,
              "#d8576b"
             ],
             [
              0.6666666666666666,
              "#ed7953"
             ],
             [
              0.7777777777777778,
              "#fb9f3a"
             ],
             [
              0.8888888888888888,
              "#fdca26"
             ],
             [
              1,
              "#f0f921"
             ]
            ],
            "type": "contour"
           }
          ],
          "contourcarpet": [
           {
            "colorbar": {
             "outlinewidth": 0,
             "ticks": ""
            },
            "type": "contourcarpet"
           }
          ],
          "heatmap": [
           {
            "colorbar": {
             "outlinewidth": 0,
             "ticks": ""
            },
            "colorscale": [
             [
              0,
              "#0d0887"
             ],
             [
              0.1111111111111111,
              "#46039f"
             ],
             [
              0.2222222222222222,
              "#7201a8"
             ],
             [
              0.3333333333333333,
              "#9c179e"
             ],
             [
              0.4444444444444444,
              "#bd3786"
             ],
             [
              0.5555555555555556,
              "#d8576b"
             ],
             [
              0.6666666666666666,
              "#ed7953"
             ],
             [
              0.7777777777777778,
              "#fb9f3a"
             ],
             [
              0.8888888888888888,
              "#fdca26"
             ],
             [
              1,
              "#f0f921"
             ]
            ],
            "type": "heatmap"
           }
          ],
          "histogram": [
           {
            "marker": {
             "pattern": {
              "fillmode": "overlay",
              "size": 10,
              "solidity": 0.2
             }
            },
            "type": "histogram"
           }
          ],
          "histogram2d": [
           {
            "colorbar": {
             "outlinewidth": 0,
             "ticks": ""
            },
            "colorscale": [
             [
              0,
              "#0d0887"
             ],
             [
              0.1111111111111111,
              "#46039f"
             ],
             [
              0.2222222222222222,
              "#7201a8"
             ],
             [
              0.3333333333333333,
              "#9c179e"
             ],
             [
              0.4444444444444444,
              "#bd3786"
             ],
             [
              0.5555555555555556,
              "#d8576b"
             ],
             [
              0.6666666666666666,
              "#ed7953"
             ],
             [
              0.7777777777777778,
              "#fb9f3a"
             ],
             [
              0.8888888888888888,
              "#fdca26"
             ],
             [
              1,
              "#f0f921"
             ]
            ],
            "type": "histogram2d"
           }
          ],
          "histogram2dcontour": [
           {
            "colorbar": {
             "outlinewidth": 0,
             "ticks": ""
            },
            "colorscale": [
             [
              0,
              "#0d0887"
             ],
             [
              0.1111111111111111,
              "#46039f"
             ],
             [
              0.2222222222222222,
              "#7201a8"
             ],
             [
              0.3333333333333333,
              "#9c179e"
             ],
             [
              0.4444444444444444,
              "#bd3786"
             ],
             [
              0.5555555555555556,
              "#d8576b"
             ],
             [
              0.6666666666666666,
              "#ed7953"
             ],
             [
              0.7777777777777778,
              "#fb9f3a"
             ],
             [
              0.8888888888888888,
              "#fdca26"
             ],
             [
              1,
              "#f0f921"
             ]
            ],
            "type": "histogram2dcontour"
           }
          ],
          "mesh3d": [
           {
            "colorbar": {
             "outlinewidth": 0,
             "ticks": ""
            },
            "type": "mesh3d"
           }
          ],
          "parcoords": [
           {
            "line": {
             "colorbar": {
              "outlinewidth": 0,
              "ticks": ""
             }
            },
            "type": "parcoords"
           }
          ],
          "pie": [
           {
            "automargin": true,
            "type": "pie"
           }
          ],
          "scatter": [
           {
            "fillpattern": {
             "fillmode": "overlay",
             "size": 10,
             "solidity": 0.2
            },
            "type": "scatter"
           }
          ],
          "scatter3d": [
           {
            "line": {
             "colorbar": {
              "outlinewidth": 0,
              "ticks": ""
             }
            },
            "marker": {
             "colorbar": {
              "outlinewidth": 0,
              "ticks": ""
             }
            },
            "type": "scatter3d"
           }
          ],
          "scattercarpet": [
           {
            "marker": {
             "colorbar": {
              "outlinewidth": 0,
              "ticks": ""
             }
            },
            "type": "scattercarpet"
           }
          ],
          "scattergeo": [
           {
            "marker": {
             "colorbar": {
              "outlinewidth": 0,
              "ticks": ""
             }
            },
            "type": "scattergeo"
           }
          ],
          "scattergl": [
           {
            "marker": {
             "colorbar": {
              "outlinewidth": 0,
              "ticks": ""
             }
            },
            "type": "scattergl"
           }
          ],
          "scattermap": [
           {
            "marker": {
             "colorbar": {
              "outlinewidth": 0,
              "ticks": ""
             }
            },
            "type": "scattermap"
           }
          ],
          "scattermapbox": [
           {
            "marker": {
             "colorbar": {
              "outlinewidth": 0,
              "ticks": ""
             }
            },
            "type": "scattermapbox"
           }
          ],
          "scatterpolar": [
           {
            "marker": {
             "colorbar": {
              "outlinewidth": 0,
              "ticks": ""
             }
            },
            "type": "scatterpolar"
           }
          ],
          "scatterpolargl": [
           {
            "marker": {
             "colorbar": {
              "outlinewidth": 0,
              "ticks": ""
             }
            },
            "type": "scatterpolargl"
           }
          ],
          "scatterternary": [
           {
            "marker": {
             "colorbar": {
              "outlinewidth": 0,
              "ticks": ""
             }
            },
            "type": "scatterternary"
           }
          ],
          "surface": [
           {
            "colorbar": {
             "outlinewidth": 0,
             "ticks": ""
            },
            "colorscale": [
             [
              0,
              "#0d0887"
             ],
             [
              0.1111111111111111,
              "#46039f"
             ],
             [
              0.2222222222222222,
              "#7201a8"
             ],
             [
              0.3333333333333333,
              "#9c179e"
             ],
             [
              0.4444444444444444,
              "#bd3786"
             ],
             [
              0.5555555555555556,
              "#d8576b"
             ],
             [
              0.6666666666666666,
              "#ed7953"
             ],
             [
              0.7777777777777778,
              "#fb9f3a"
             ],
             [
              0.8888888888888888,
              "#fdca26"
             ],
             [
              1,
              "#f0f921"
             ]
            ],
            "type": "surface"
           }
          ],
          "table": [
           {
            "cells": {
             "fill": {
              "color": "#EBF0F8"
             },
             "line": {
              "color": "white"
             }
            },
            "header": {
             "fill": {
              "color": "#C8D4E3"
             },
             "line": {
              "color": "white"
             }
            },
            "type": "table"
           }
          ]
         },
         "layout": {
          "annotationdefaults": {
           "arrowcolor": "#2a3f5f",
           "arrowhead": 0,
           "arrowwidth": 1
          },
          "autotypenumbers": "strict",
          "coloraxis": {
           "colorbar": {
            "outlinewidth": 0,
            "ticks": ""
           }
          },
          "colorscale": {
           "diverging": [
            [
             0,
             "#8e0152"
            ],
            [
             0.1,
             "#c51b7d"
            ],
            [
             0.2,
             "#de77ae"
            ],
            [
             0.3,
             "#f1b6da"
            ],
            [
             0.4,
             "#fde0ef"
            ],
            [
             0.5,
             "#f7f7f7"
            ],
            [
             0.6,
             "#e6f5d0"
            ],
            [
             0.7,
             "#b8e186"
            ],
            [
             0.8,
             "#7fbc41"
            ],
            [
             0.9,
             "#4d9221"
            ],
            [
             1,
             "#276419"
            ]
           ],
           "sequential": [
            [
             0,
             "#0d0887"
            ],
            [
             0.1111111111111111,
             "#46039f"
            ],
            [
             0.2222222222222222,
             "#7201a8"
            ],
            [
             0.3333333333333333,
             "#9c179e"
            ],
            [
             0.4444444444444444,
             "#bd3786"
            ],
            [
             0.5555555555555556,
             "#d8576b"
            ],
            [
             0.6666666666666666,
             "#ed7953"
            ],
            [
             0.7777777777777778,
             "#fb9f3a"
            ],
            [
             0.8888888888888888,
             "#fdca26"
            ],
            [
             1,
             "#f0f921"
            ]
           ],
           "sequentialminus": [
            [
             0,
             "#0d0887"
            ],
            [
             0.1111111111111111,
             "#46039f"
            ],
            [
             0.2222222222222222,
             "#7201a8"
            ],
            [
             0.3333333333333333,
             "#9c179e"
            ],
            [
             0.4444444444444444,
             "#bd3786"
            ],
            [
             0.5555555555555556,
             "#d8576b"
            ],
            [
             0.6666666666666666,
             "#ed7953"
            ],
            [
             0.7777777777777778,
             "#fb9f3a"
            ],
            [
             0.8888888888888888,
             "#fdca26"
            ],
            [
             1,
             "#f0f921"
            ]
           ]
          },
          "colorway": [
           "#636efa",
           "#EF553B",
           "#00cc96",
           "#ab63fa",
           "#FFA15A",
           "#19d3f3",
           "#FF6692",
           "#B6E880",
           "#FF97FF",
           "#FECB52"
          ],
          "font": {
           "color": "#2a3f5f"
          },
          "geo": {
           "bgcolor": "white",
           "lakecolor": "white",
           "landcolor": "#E5ECF6",
           "showlakes": true,
           "showland": true,
           "subunitcolor": "white"
          },
          "hoverlabel": {
           "align": "left"
          },
          "hovermode": "closest",
          "mapbox": {
           "style": "light"
          },
          "paper_bgcolor": "white",
          "plot_bgcolor": "#E5ECF6",
          "polar": {
           "angularaxis": {
            "gridcolor": "white",
            "linecolor": "white",
            "ticks": ""
           },
           "bgcolor": "#E5ECF6",
           "radialaxis": {
            "gridcolor": "white",
            "linecolor": "white",
            "ticks": ""
           }
          },
          "scene": {
           "xaxis": {
            "backgroundcolor": "#E5ECF6",
            "gridcolor": "white",
            "gridwidth": 2,
            "linecolor": "white",
            "showbackground": true,
            "ticks": "",
            "zerolinecolor": "white"
           },
           "yaxis": {
            "backgroundcolor": "#E5ECF6",
            "gridcolor": "white",
            "gridwidth": 2,
            "linecolor": "white",
            "showbackground": true,
            "ticks": "",
            "zerolinecolor": "white"
           },
           "zaxis": {
            "backgroundcolor": "#E5ECF6",
            "gridcolor": "white",
            "gridwidth": 2,
            "linecolor": "white",
            "showbackground": true,
            "ticks": "",
            "zerolinecolor": "white"
           }
          },
          "shapedefaults": {
           "line": {
            "color": "#2a3f5f"
           }
          },
          "ternary": {
           "aaxis": {
            "gridcolor": "white",
            "linecolor": "white",
            "ticks": ""
           },
           "baxis": {
            "gridcolor": "white",
            "linecolor": "white",
            "ticks": ""
           },
           "bgcolor": "#E5ECF6",
           "caxis": {
            "gridcolor": "white",
            "linecolor": "white",
            "ticks": ""
           }
          },
          "title": {
           "x": 0.05
          },
          "xaxis": {
           "automargin": true,
           "gridcolor": "white",
           "linecolor": "white",
           "ticks": "",
           "title": {
            "standoff": 15
           },
           "zerolinecolor": "white",
           "zerolinewidth": 2
          },
          "yaxis": {
           "automargin": true,
           "gridcolor": "white",
           "linecolor": "white",
           "ticks": "",
           "title": {
            "standoff": 15
           },
           "zerolinecolor": "white",
           "zerolinewidth": 2
          }
         }
        },
        "title": {
         "text": "Phân phối User theo Phần trăm video liên quan đến Ẩm thực"
        },
        "xaxis": {
         "anchor": "y",
         "domain": [
          0,
          1
         ],
         "title": {
          "text": "food_video_percentage"
         }
        },
        "yaxis": {
         "anchor": "x",
         "domain": [
          0,
          1
         ],
         "title": {
          "text": "count"
         }
        }
       }
      }
     },
     "metadata": {},
     "output_type": "display_data"
    }
   ],
   "source": [
    "px.histogram(user_stats_df, x='food_video_percentage',\n",
    "             title=\"Phân phối User theo Phần trăm video liên quan đến Ẩm thực\", nbins=20)"
   ]
  },
  {
   "cell_type": "code",
   "execution_count": 35,
   "metadata": {},
   "outputs": [
    {
     "data": {
      "application/vnd.plotly.v1+json": {
       "config": {
        "plotlyServerURL": "https://plot.ly"
       },
       "data": [
        {
         "bingroup": "x",
         "hovertemplate": "days_between_videos=%{x}<br>count=%{y}<extra></extra>",
         "legendgroup": "",
         "marker": {
          "color": "#636efa",
          "pattern": {
           "shape": ""
          }
         },
         "name": "",
         "orientation": "v",
         "showlegend": false,
         "type": "histogram",
         "x": {
          "bdata": "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",
          "dtype": "f8"
         },
         "xaxis": "x",
         "yaxis": "y"
        }
       ],
       "layout": {
        "barmode": "relative",
        "legend": {
         "tracegroupgap": 0
        },
        "template": {
         "data": {
          "bar": [
           {
            "error_x": {
             "color": "#2a3f5f"
            },
            "error_y": {
             "color": "#2a3f5f"
            },
            "marker": {
             "line": {
              "color": "#E5ECF6",
              "width": 0.5
             },
             "pattern": {
              "fillmode": "overlay",
              "size": 10,
              "solidity": 0.2
             }
            },
            "type": "bar"
           }
          ],
          "barpolar": [
           {
            "marker": {
             "line": {
              "color": "#E5ECF6",
              "width": 0.5
             },
             "pattern": {
              "fillmode": "overlay",
              "size": 10,
              "solidity": 0.2
             }
            },
            "type": "barpolar"
           }
          ],
          "carpet": [
           {
            "aaxis": {
             "endlinecolor": "#2a3f5f",
             "gridcolor": "white",
             "linecolor": "white",
             "minorgridcolor": "white",
             "startlinecolor": "#2a3f5f"
            },
            "baxis": {
             "endlinecolor": "#2a3f5f",
             "gridcolor": "white",
             "linecolor": "white",
             "minorgridcolor": "white",
             "startlinecolor": "#2a3f5f"
            },
            "type": "carpet"
           }
          ],
          "choropleth": [
           {
            "colorbar": {
             "outlinewidth": 0,
             "ticks": ""
            },
            "type": "choropleth"
           }
          ],
          "contour": [
           {
            "colorbar": {
             "outlinewidth": 0,
             "ticks": ""
            },
            "colorscale": [
             [
              0,
              "#0d0887"
             ],
             [
              0.1111111111111111,
              "#46039f"
             ],
             [
              0.2222222222222222,
              "#7201a8"
             ],
             [
              0.3333333333333333,
              "#9c179e"
             ],
             [
              0.4444444444444444,
              "#bd3786"
             ],
             [
              0.5555555555555556,
              "#d8576b"
             ],
             [
              0.6666666666666666,
              "#ed7953"
             ],
             [
              0.7777777777777778,
              "#fb9f3a"
             ],
             [
              0.8888888888888888,
              "#fdca26"
             ],
             [
              1,
              "#f0f921"
             ]
            ],
            "type": "contour"
           }
          ],
          "contourcarpet": [
           {
            "colorbar": {
             "outlinewidth": 0,
             "ticks": ""
            },
            "type": "contourcarpet"
           }
          ],
          "heatmap": [
           {
            "colorbar": {
             "outlinewidth": 0,
             "ticks": ""
            },
            "colorscale": [
             [
              0,
              "#0d0887"
             ],
             [
              0.1111111111111111,
              "#46039f"
             ],
             [
              0.2222222222222222,
              "#7201a8"
             ],
             [
              0.3333333333333333,
              "#9c179e"
             ],
             [
              0.4444444444444444,
              "#bd3786"
             ],
             [
              0.5555555555555556,
              "#d8576b"
             ],
             [
              0.6666666666666666,
              "#ed7953"
             ],
             [
              0.7777777777777778,
              "#fb9f3a"
             ],
             [
              0.8888888888888888,
              "#fdca26"
             ],
             [
              1,
              "#f0f921"
             ]
            ],
            "type": "heatmap"
           }
          ],
          "histogram": [
           {
            "marker": {
             "pattern": {
              "fillmode": "overlay",
              "size": 10,
              "solidity": 0.2
             }
            },
            "type": "histogram"
           }
          ],
          "histogram2d": [
           {
            "colorbar": {
             "outlinewidth": 0,
             "ticks": ""
            },
            "colorscale": [
             [
              0,
              "#0d0887"
             ],
             [
              0.1111111111111111,
              "#46039f"
             ],
             [
              0.2222222222222222,
              "#7201a8"
             ],
             [
              0.3333333333333333,
              "#9c179e"
             ],
             [
              0.4444444444444444,
              "#bd3786"
             ],
             [
              0.5555555555555556,
              "#d8576b"
             ],
             [
              0.6666666666666666,
              "#ed7953"
             ],
             [
              0.7777777777777778,
              "#fb9f3a"
             ],
             [
              0.8888888888888888,
              "#fdca26"
             ],
             [
              1,
              "#f0f921"
             ]
            ],
            "type": "histogram2d"
           }
          ],
          "histogram2dcontour": [
           {
            "colorbar": {
             "outlinewidth": 0,
             "ticks": ""
            },
            "colorscale": [
             [
              0,
              "#0d0887"
             ],
             [
              0.1111111111111111,
              "#46039f"
             ],
             [
              0.2222222222222222,
              "#7201a8"
             ],
             [
              0.3333333333333333,
              "#9c179e"
             ],
             [
              0.4444444444444444,
              "#bd3786"
             ],
             [
              0.5555555555555556,
              "#d8576b"
             ],
             [
              0.6666666666666666,
              "#ed7953"
             ],
             [
              0.7777777777777778,
              "#fb9f3a"
             ],
             [
              0.8888888888888888,
              "#fdca26"
             ],
             [
              1,
              "#f0f921"
             ]
            ],
            "type": "histogram2dcontour"
           }
          ],
          "mesh3d": [
           {
            "colorbar": {
             "outlinewidth": 0,
             "ticks": ""
            },
            "type": "mesh3d"
           }
          ],
          "parcoords": [
           {
            "line": {
             "colorbar": {
              "outlinewidth": 0,
              "ticks": ""
             }
            },
            "type": "parcoords"
           }
          ],
          "pie": [
           {
            "automargin": true,
            "type": "pie"
           }
          ],
          "scatter": [
           {
            "fillpattern": {
             "fillmode": "overlay",
             "size": 10,
             "solidity": 0.2
            },
            "type": "scatter"
           }
          ],
          "scatter3d": [
           {
            "line": {
             "colorbar": {
              "outlinewidth": 0,
              "ticks": ""
             }
            },
            "marker": {
             "colorbar": {
              "outlinewidth": 0,
              "ticks": ""
             }
            },
            "type": "scatter3d"
           }
          ],
          "scattercarpet": [
           {
            "marker": {
             "colorbar": {
              "outlinewidth": 0,
              "ticks": ""
             }
            },
            "type": "scattercarpet"
           }
          ],
          "scattergeo": [
           {
            "marker": {
             "colorbar": {
              "outlinewidth": 0,
              "ticks": ""
             }
            },
            "type": "scattergeo"
           }
          ],
          "scattergl": [
           {
            "marker": {
             "colorbar": {
              "outlinewidth": 0,
              "ticks": ""
             }
            },
            "type": "scattergl"
           }
          ],
          "scattermap": [
           {
            "marker": {
             "colorbar": {
              "outlinewidth": 0,
              "ticks": ""
             }
            },
            "type": "scattermap"
           }
          ],
          "scattermapbox": [
           {
            "marker": {
             "colorbar": {
              "outlinewidth": 0,
              "ticks": ""
             }
            },
            "type": "scattermapbox"
           }
          ],
          "scatterpolar": [
           {
            "marker": {
             "colorbar": {
              "outlinewidth": 0,
              "ticks": ""
             }
            },
            "type": "scatterpolar"
           }
          ],
          "scatterpolargl": [
           {
            "marker": {
             "colorbar": {
              "outlinewidth": 0,
              "ticks": ""
             }
            },
            "type": "scatterpolargl"
           }
          ],
          "scatterternary": [
           {
            "marker": {
             "colorbar": {
              "outlinewidth": 0,
              "ticks": ""
             }
            },
            "type": "scatterternary"
           }
          ],
          "surface": [
           {
            "colorbar": {
             "outlinewidth": 0,
             "ticks": ""
            },
            "colorscale": [
             [
              0,
              "#0d0887"
             ],
             [
              0.1111111111111111,
              "#46039f"
             ],
             [
              0.2222222222222222,
              "#7201a8"
             ],
             [
              0.3333333333333333,
              "#9c179e"
             ],
             [
              0.4444444444444444,
              "#bd3786"
             ],
             [
              0.5555555555555556,
              "#d8576b"
             ],
             [
              0.6666666666666666,
              "#ed7953"
             ],
             [
              0.7777777777777778,
              "#fb9f3a"
             ],
             [
              0.8888888888888888,
              "#fdca26"
             ],
             [
              1,
              "#f0f921"
             ]
            ],
            "type": "surface"
           }
          ],
          "table": [
           {
            "cells": {
             "fill": {
              "color": "#EBF0F8"
             },
             "line": {
              "color": "white"
             }
            },
            "header": {
             "fill": {
              "color": "#C8D4E3"
             },
             "line": {
              "color": "white"
             }
            },
            "type": "table"
           }
          ]
         },
         "layout": {
          "annotationdefaults": {
           "arrowcolor": "#2a3f5f",
           "arrowhead": 0,
           "arrowwidth": 1
          },
          "autotypenumbers": "strict",
          "coloraxis": {
           "colorbar": {
            "outlinewidth": 0,
            "ticks": ""
           }
          },
          "colorscale": {
           "diverging": [
            [
             0,
             "#8e0152"
            ],
            [
             0.1,
             "#c51b7d"
            ],
            [
             0.2,
             "#de77ae"
            ],
            [
             0.3,
             "#f1b6da"
            ],
            [
             0.4,
             "#fde0ef"
            ],
            [
             0.5,
             "#f7f7f7"
            ],
            [
             0.6,
             "#e6f5d0"
            ],
            [
             0.7,
             "#b8e186"
            ],
            [
             0.8,
             "#7fbc41"
            ],
            [
             0.9,
             "#4d9221"
            ],
            [
             1,
             "#276419"
            ]
           ],
           "sequential": [
            [
             0,
             "#0d0887"
            ],
            [
             0.1111111111111111,
             "#46039f"
            ],
            [
             0.2222222222222222,
             "#7201a8"
            ],
            [
             0.3333333333333333,
             "#9c179e"
            ],
            [
             0.4444444444444444,
             "#bd3786"
            ],
            [
             0.5555555555555556,
             "#d8576b"
            ],
            [
             0.6666666666666666,
             "#ed7953"
            ],
            [
             0.7777777777777778,
             "#fb9f3a"
            ],
            [
             0.8888888888888888,
             "#fdca26"
            ],
            [
             1,
             "#f0f921"
            ]
           ],
           "sequentialminus": [
            [
             0,
             "#0d0887"
            ],
            [
             0.1111111111111111,
             "#46039f"
            ],
            [
             0.2222222222222222,
             "#7201a8"
            ],
            [
             0.3333333333333333,
             "#9c179e"
            ],
            [
             0.4444444444444444,
             "#bd3786"
            ],
            [
             0.5555555555555556,
             "#d8576b"
            ],
            [
             0.6666666666666666,
             "#ed7953"
            ],
            [
             0.7777777777777778,
             "#fb9f3a"
            ],
            [
             0.8888888888888888,
             "#fdca26"
            ],
            [
             1,
             "#f0f921"
            ]
           ]
          },
          "colorway": [
           "#636efa",
           "#EF553B",
           "#00cc96",
           "#ab63fa",
           "#FFA15A",
           "#19d3f3",
           "#FF6692",
           "#B6E880",
           "#FF97FF",
           "#FECB52"
          ],
          "font": {
           "color": "#2a3f5f"
          },
          "geo": {
           "bgcolor": "white",
           "lakecolor": "white",
           "landcolor": "#E5ECF6",
           "showlakes": true,
           "showland": true,
           "subunitcolor": "white"
          },
          "hoverlabel": {
           "align": "left"
          },
          "hovermode": "closest",
          "mapbox": {
           "style": "light"
          },
          "paper_bgcolor": "white",
          "plot_bgcolor": "#E5ECF6",
          "polar": {
           "angularaxis": {
            "gridcolor": "white",
            "linecolor": "white",
            "ticks": ""
           },
           "bgcolor": "#E5ECF6",
           "radialaxis": {
            "gridcolor": "white",
            "linecolor": "white",
            "ticks": ""
           }
          },
          "scene": {
           "xaxis": {
            "backgroundcolor": "#E5ECF6",
            "gridcolor": "white",
            "gridwidth": 2,
            "linecolor": "white",
            "showbackground": true,
            "ticks": "",
            "zerolinecolor": "white"
           },
           "yaxis": {
            "backgroundcolor": "#E5ECF6",
            "gridcolor": "white",
            "gridwidth": 2,
            "linecolor": "white",
            "showbackground": true,
            "ticks": "",
            "zerolinecolor": "white"
           },
           "zaxis": {
            "backgroundcolor": "#E5ECF6",
            "gridcolor": "white",
            "gridwidth": 2,
            "linecolor": "white",
            "showbackground": true,
            "ticks": "",
            "zerolinecolor": "white"
           }
          },
          "shapedefaults": {
           "line": {
            "color": "#2a3f5f"
           }
          },
          "ternary": {
           "aaxis": {
            "gridcolor": "white",
            "linecolor": "white",
            "ticks": ""
           },
           "baxis": {
            "gridcolor": "white",
            "linecolor": "white",
            "ticks": ""
           },
           "bgcolor": "#E5ECF6",
           "caxis": {
            "gridcolor": "white",
            "linecolor": "white",
            "ticks": ""
           }
          },
          "title": {
           "x": 0.05
          },
          "xaxis": {
           "automargin": true,
           "gridcolor": "white",
           "linecolor": "white",
           "ticks": "",
           "title": {
            "standoff": 15
           },
           "zerolinecolor": "white",
           "zerolinewidth": 2
          },
          "yaxis": {
           "automargin": true,
           "gridcolor": "white",
           "linecolor": "white",
           "ticks": "",
           "title": {
            "standoff": 15
           },
           "zerolinecolor": "white",
           "zerolinewidth": 2
          }
         }
        },
        "title": {
         "text": "Phân phối User theo Khoảng thời gian giữa các bài đăng"
        },
        "xaxis": {
         "anchor": "y",
         "domain": [
          0,
          1
         ],
         "title": {
          "text": "days_between_videos"
         }
        },
        "yaxis": {
         "anchor": "x",
         "domain": [
          0,
          1
         ],
         "title": {
          "text": "count"
         }
        }
       }
      }
     },
     "metadata": {},
     "output_type": "display_data"
    }
   ],
   "source": [
    "px.histogram(user_stats_df, x='days_between_videos',\n",
    "             title=\"Phân phối User theo Khoảng thời gian giữa các bài đăng\")"
   ]
  },
  {
   "cell_type": "code",
   "execution_count": 36,
   "metadata": {},
   "outputs": [
    {
     "data": {
      "application/vnd.plotly.v1+json": {
       "config": {
        "plotlyServerURL": "https://plot.ly"
       },
       "data": [
        {
         "bingroup": "x",
         "hovertemplate": "engagement_rate=%{x}<br>count=%{y}<extra></extra>",
         "legendgroup": "",
         "marker": {
          "color": "#636efa",
          "pattern": {
           "shape": ""
          }
         },
         "name": "",
         "orientation": "v",
         "showlegend": false,
         "type": "histogram",
         "x": {
          "bdata": "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",
          "dtype": "f8"
         },
         "xaxis": "x",
         "yaxis": "y"
        }
       ],
       "layout": {
        "barmode": "relative",
        "legend": {
         "tracegroupgap": 0
        },
        "template": {
         "data": {
          "bar": [
           {
            "error_x": {
             "color": "#2a3f5f"
            },
            "error_y": {
             "color": "#2a3f5f"
            },
            "marker": {
             "line": {
              "color": "#E5ECF6",
              "width": 0.5
             },
             "pattern": {
              "fillmode": "overlay",
              "size": 10,
              "solidity": 0.2
             }
            },
            "type": "bar"
           }
          ],
          "barpolar": [
           {
            "marker": {
             "line": {
              "color": "#E5ECF6",
              "width": 0.5
             },
             "pattern": {
              "fillmode": "overlay",
              "size": 10,
              "solidity": 0.2
             }
            },
            "type": "barpolar"
           }
          ],
          "carpet": [
           {
            "aaxis": {
             "endlinecolor": "#2a3f5f",
             "gridcolor": "white",
             "linecolor": "white",
             "minorgridcolor": "white",
             "startlinecolor": "#2a3f5f"
            },
            "baxis": {
             "endlinecolor": "#2a3f5f",
             "gridcolor": "white",
             "linecolor": "white",
             "minorgridcolor": "white",
             "startlinecolor": "#2a3f5f"
            },
            "type": "carpet"
           }
          ],
          "choropleth": [
           {
            "colorbar": {
             "outlinewidth": 0,
             "ticks": ""
            },
            "type": "choropleth"
           }
          ],
          "contour": [
           {
            "colorbar": {
             "outlinewidth": 0,
             "ticks": ""
            },
            "colorscale": [
             [
              0,
              "#0d0887"
             ],
             [
              0.1111111111111111,
              "#46039f"
             ],
             [
              0.2222222222222222,
              "#7201a8"
             ],
             [
              0.3333333333333333,
              "#9c179e"
             ],
             [
              0.4444444444444444,
              "#bd3786"
             ],
             [
              0.5555555555555556,
              "#d8576b"
             ],
             [
              0.6666666666666666,
              "#ed7953"
             ],
             [
              0.7777777777777778,
              "#fb9f3a"
             ],
             [
              0.8888888888888888,
              "#fdca26"
             ],
             [
              1,
              "#f0f921"
             ]
            ],
            "type": "contour"
           }
          ],
          "contourcarpet": [
           {
            "colorbar": {
             "outlinewidth": 0,
             "ticks": ""
            },
            "type": "contourcarpet"
           }
          ],
          "heatmap": [
           {
            "colorbar": {
             "outlinewidth": 0,
             "ticks": ""
            },
            "colorscale": [
             [
              0,
              "#0d0887"
             ],
             [
              0.1111111111111111,
              "#46039f"
             ],
             [
              0.2222222222222222,
              "#7201a8"
             ],
             [
              0.3333333333333333,
              "#9c179e"
             ],
             [
              0.4444444444444444,
              "#bd3786"
             ],
             [
              0.5555555555555556,
              "#d8576b"
             ],
             [
              0.6666666666666666,
              "#ed7953"
             ],
             [
              0.7777777777777778,
              "#fb9f3a"
             ],
             [
              0.8888888888888888,
              "#fdca26"
             ],
             [
              1,
              "#f0f921"
             ]
            ],
            "type": "heatmap"
           }
          ],
          "histogram": [
           {
            "marker": {
             "pattern": {
              "fillmode": "overlay",
              "size": 10,
              "solidity": 0.2
             }
            },
            "type": "histogram"
           }
          ],
          "histogram2d": [
           {
            "colorbar": {
             "outlinewidth": 0,
             "ticks": ""
            },
            "colorscale": [
             [
              0,
              "#0d0887"
             ],
             [
              0.1111111111111111,
              "#46039f"
             ],
             [
              0.2222222222222222,
              "#7201a8"
             ],
             [
              0.3333333333333333,
              "#9c179e"
             ],
             [
              0.4444444444444444,
              "#bd3786"
             ],
             [
              0.5555555555555556,
              "#d8576b"
             ],
             [
              0.6666666666666666,
              "#ed7953"
             ],
             [
              0.7777777777777778,
              "#fb9f3a"
             ],
             [
              0.8888888888888888,
              "#fdca26"
             ],
             [
              1,
              "#f0f921"
             ]
            ],
            "type": "histogram2d"
           }
          ],
          "histogram2dcontour": [
           {
            "colorbar": {
             "outlinewidth": 0,
             "ticks": ""
            },
            "colorscale": [
             [
              0,
              "#0d0887"
             ],
             [
              0.1111111111111111,
              "#46039f"
             ],
             [
              0.2222222222222222,
              "#7201a8"
             ],
             [
              0.3333333333333333,
              "#9c179e"
             ],
             [
              0.4444444444444444,
              "#bd3786"
             ],
             [
              0.5555555555555556,
              "#d8576b"
             ],
             [
              0.6666666666666666,
              "#ed7953"
             ],
             [
              0.7777777777777778,
              "#fb9f3a"
             ],
             [
              0.8888888888888888,
              "#fdca26"
             ],
             [
              1,
              "#f0f921"
             ]
            ],
            "type": "histogram2dcontour"
           }
          ],
          "mesh3d": [
           {
            "colorbar": {
             "outlinewidth": 0,
             "ticks": ""
            },
            "type": "mesh3d"
           }
          ],
          "parcoords": [
           {
            "line": {
             "colorbar": {
              "outlinewidth": 0,
              "ticks": ""
             }
            },
            "type": "parcoords"
           }
          ],
          "pie": [
           {
            "automargin": true,
            "type": "pie"
           }
          ],
          "scatter": [
           {
            "fillpattern": {
             "fillmode": "overlay",
             "size": 10,
             "solidity": 0.2
            },
            "type": "scatter"
           }
          ],
          "scatter3d": [
           {
            "line": {
             "colorbar": {
              "outlinewidth": 0,
              "ticks": ""
             }
            },
            "marker": {
             "colorbar": {
              "outlinewidth": 0,
              "ticks": ""
             }
            },
            "type": "scatter3d"
           }
          ],
          "scattercarpet": [
           {
            "marker": {
             "colorbar": {
              "outlinewidth": 0,
              "ticks": ""
             }
            },
            "type": "scattercarpet"
           }
          ],
          "scattergeo": [
           {
            "marker": {
             "colorbar": {
              "outlinewidth": 0,
              "ticks": ""
             }
            },
            "type": "scattergeo"
           }
          ],
          "scattergl": [
           {
            "marker": {
             "colorbar": {
              "outlinewidth": 0,
              "ticks": ""
             }
            },
            "type": "scattergl"
           }
          ],
          "scattermap": [
           {
            "marker": {
             "colorbar": {
              "outlinewidth": 0,
              "ticks": ""
             }
            },
            "type": "scattermap"
           }
          ],
          "scattermapbox": [
           {
            "marker": {
             "colorbar": {
              "outlinewidth": 0,
              "ticks": ""
             }
            },
            "type": "scattermapbox"
           }
          ],
          "scatterpolar": [
           {
            "marker": {
             "colorbar": {
              "outlinewidth": 0,
              "ticks": ""
             }
            },
            "type": "scatterpolar"
           }
          ],
          "scatterpolargl": [
           {
            "marker": {
             "colorbar": {
              "outlinewidth": 0,
              "ticks": ""
             }
            },
            "type": "scatterpolargl"
           }
          ],
          "scatterternary": [
           {
            "marker": {
             "colorbar": {
              "outlinewidth": 0,
              "ticks": ""
             }
            },
            "type": "scatterternary"
           }
          ],
          "surface": [
           {
            "colorbar": {
             "outlinewidth": 0,
             "ticks": ""
            },
            "colorscale": [
             [
              0,
              "#0d0887"
             ],
             [
              0.1111111111111111,
              "#46039f"
             ],
             [
              0.2222222222222222,
              "#7201a8"
             ],
             [
              0.3333333333333333,
              "#9c179e"
             ],
             [
              0.4444444444444444,
              "#bd3786"
             ],
             [
              0.5555555555555556,
              "#d8576b"
             ],
             [
              0.6666666666666666,
              "#ed7953"
             ],
             [
              0.7777777777777778,
              "#fb9f3a"
             ],
             [
              0.8888888888888888,
              "#fdca26"
             ],
             [
              1,
              "#f0f921"
             ]
            ],
            "type": "surface"
           }
          ],
          "table": [
           {
            "cells": {
             "fill": {
              "color": "#EBF0F8"
             },
             "line": {
              "color": "white"
             }
            },
            "header": {
             "fill": {
              "color": "#C8D4E3"
             },
             "line": {
              "color": "white"
             }
            },
            "type": "table"
           }
          ]
         },
         "layout": {
          "annotationdefaults": {
           "arrowcolor": "#2a3f5f",
           "arrowhead": 0,
           "arrowwidth": 1
          },
          "autotypenumbers": "strict",
          "coloraxis": {
           "colorbar": {
            "outlinewidth": 0,
            "ticks": ""
           }
          },
          "colorscale": {
           "diverging": [
            [
             0,
             "#8e0152"
            ],
            [
             0.1,
             "#c51b7d"
            ],
            [
             0.2,
             "#de77ae"
            ],
            [
             0.3,
             "#f1b6da"
            ],
            [
             0.4,
             "#fde0ef"
            ],
            [
             0.5,
             "#f7f7f7"
            ],
            [
             0.6,
             "#e6f5d0"
            ],
            [
             0.7,
             "#b8e186"
            ],
            [
             0.8,
             "#7fbc41"
            ],
            [
             0.9,
             "#4d9221"
            ],
            [
             1,
             "#276419"
            ]
           ],
           "sequential": [
            [
             0,
             "#0d0887"
            ],
            [
             0.1111111111111111,
             "#46039f"
            ],
            [
             0.2222222222222222,
             "#7201a8"
            ],
            [
             0.3333333333333333,
             "#9c179e"
            ],
            [
             0.4444444444444444,
             "#bd3786"
            ],
            [
             0.5555555555555556,
             "#d8576b"
            ],
            [
             0.6666666666666666,
             "#ed7953"
            ],
            [
             0.7777777777777778,
             "#fb9f3a"
            ],
            [
             0.8888888888888888,
             "#fdca26"
            ],
            [
             1,
             "#f0f921"
            ]
           ],
           "sequentialminus": [
            [
             0,
             "#0d0887"
            ],
            [
             0.1111111111111111,
             "#46039f"
            ],
            [
             0.2222222222222222,
             "#7201a8"
            ],
            [
             0.3333333333333333,
             "#9c179e"
            ],
            [
             0.4444444444444444,
             "#bd3786"
            ],
            [
             0.5555555555555556,
             "#d8576b"
            ],
            [
             0.6666666666666666,
             "#ed7953"
            ],
            [
             0.7777777777777778,
             "#fb9f3a"
            ],
            [
             0.8888888888888888,
             "#fdca26"
            ],
            [
             1,
             "#f0f921"
            ]
           ]
          },
          "colorway": [
           "#636efa",
           "#EF553B",
           "#00cc96",
           "#ab63fa",
           "#FFA15A",
           "#19d3f3",
           "#FF6692",
           "#B6E880",
           "#FF97FF",
           "#FECB52"
          ],
          "font": {
           "color": "#2a3f5f"
          },
          "geo": {
           "bgcolor": "white",
           "lakecolor": "white",
           "landcolor": "#E5ECF6",
           "showlakes": true,
           "showland": true,
           "subunitcolor": "white"
          },
          "hoverlabel": {
           "align": "left"
          },
          "hovermode": "closest",
          "mapbox": {
           "style": "light"
          },
          "paper_bgcolor": "white",
          "plot_bgcolor": "#E5ECF6",
          "polar": {
           "angularaxis": {
            "gridcolor": "white",
            "linecolor": "white",
            "ticks": ""
           },
           "bgcolor": "#E5ECF6",
           "radialaxis": {
            "gridcolor": "white",
            "linecolor": "white",
            "ticks": ""
           }
          },
          "scene": {
           "xaxis": {
            "backgroundcolor": "#E5ECF6",
            "gridcolor": "white",
            "gridwidth": 2,
            "linecolor": "white",
            "showbackground": true,
            "ticks": "",
            "zerolinecolor": "white"
           },
           "yaxis": {
            "backgroundcolor": "#E5ECF6",
            "gridcolor": "white",
            "gridwidth": 2,
            "linecolor": "white",
            "showbackground": true,
            "ticks": "",
            "zerolinecolor": "white"
           },
           "zaxis": {
            "backgroundcolor": "#E5ECF6",
            "gridcolor": "white",
            "gridwidth": 2,
            "linecolor": "white",
            "showbackground": true,
            "ticks": "",
            "zerolinecolor": "white"
           }
          },
          "shapedefaults": {
           "line": {
            "color": "#2a3f5f"
           }
          },
          "ternary": {
           "aaxis": {
            "gridcolor": "white",
            "linecolor": "white",
            "ticks": ""
           },
           "baxis": {
            "gridcolor": "white",
            "linecolor": "white",
            "ticks": ""
           },
           "bgcolor": "#E5ECF6",
           "caxis": {
            "gridcolor": "white",
            "linecolor": "white",
            "ticks": ""
           }
          },
          "title": {
           "x": 0.05
          },
          "xaxis": {
           "automargin": true,
           "gridcolor": "white",
           "linecolor": "white",
           "ticks": "",
           "title": {
            "standoff": 15
           },
           "zerolinecolor": "white",
           "zerolinewidth": 2
          },
          "yaxis": {
           "automargin": true,
           "gridcolor": "white",
           "linecolor": "white",
           "ticks": "",
           "title": {
            "standoff": 15
           },
           "zerolinecolor": "white",
           "zerolinewidth": 2
          }
         }
        },
        "title": {
         "text": "Phân phối User theo Tỷ lệ tương tác"
        },
        "xaxis": {
         "anchor": "y",
         "domain": [
          0,
          1
         ],
         "title": {
          "text": "engagement_rate"
         }
        },
        "yaxis": {
         "anchor": "x",
         "domain": [
          0,
          1
         ],
         "title": {
          "text": "count"
         }
        }
       }
      }
     },
     "metadata": {},
     "output_type": "display_data"
    }
   ],
   "source": [
    "px.histogram(user_stats_df, x='engagement_rate',\n",
    "             title=\"Phân phối User theo Tỷ lệ tương tác\")"
   ]
  },
  {
   "cell_type": "code",
   "execution_count": 37,
   "metadata": {},
   "outputs": [
    {
     "data": {
      "application/vnd.plotly.v1+json": {
       "config": {
        "plotlyServerURL": "https://plot.ly"
       },
       "data": [
        {
         "bingroup": "x",
         "hovertemplate": "avg_views=%{x}<br>count=%{y}<extra></extra>",
         "legendgroup": "",
         "marker": {
          "color": "#636efa",
          "pattern": {
           "shape": ""
          }
         },
         "name": "",
         "orientation": "v",
         "showlegend": false,
         "type": "histogram",
         "x": {
          "bdata": "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",
          "dtype": "f8"
         },
         "xaxis": "x",
         "yaxis": "y"
        }
       ],
       "layout": {
        "barmode": "relative",
        "legend": {
         "tracegroupgap": 0
        },
        "template": {
         "data": {
          "bar": [
           {
            "error_x": {
             "color": "#2a3f5f"
            },
            "error_y": {
             "color": "#2a3f5f"
            },
            "marker": {
             "line": {
              "color": "#E5ECF6",
              "width": 0.5
             },
             "pattern": {
              "fillmode": "overlay",
              "size": 10,
              "solidity": 0.2
             }
            },
            "type": "bar"
           }
          ],
          "barpolar": [
           {
            "marker": {
             "line": {
              "color": "#E5ECF6",
              "width": 0.5
             },
             "pattern": {
              "fillmode": "overlay",
              "size": 10,
              "solidity": 0.2
             }
            },
            "type": "barpolar"
           }
          ],
          "carpet": [
           {
            "aaxis": {
             "endlinecolor": "#2a3f5f",
             "gridcolor": "white",
             "linecolor": "white",
             "minorgridcolor": "white",
             "startlinecolor": "#2a3f5f"
            },
            "baxis": {
             "endlinecolor": "#2a3f5f",
             "gridcolor": "white",
             "linecolor": "white",
             "minorgridcolor": "white",
             "startlinecolor": "#2a3f5f"
            },
            "type": "carpet"
           }
          ],
          "choropleth": [
           {
            "colorbar": {
             "outlinewidth": 0,
             "ticks": ""
            },
            "type": "choropleth"
           }
          ],
          "contour": [
           {
            "colorbar": {
             "outlinewidth": 0,
             "ticks": ""
            },
            "colorscale": [
             [
              0,
              "#0d0887"
             ],
             [
              0.1111111111111111,
              "#46039f"
             ],
             [
              0.2222222222222222,
              "#7201a8"
             ],
             [
              0.3333333333333333,
              "#9c179e"
             ],
             [
              0.4444444444444444,
              "#bd3786"
             ],
             [
              0.5555555555555556,
              "#d8576b"
             ],
             [
              0.6666666666666666,
              "#ed7953"
             ],
             [
              0.7777777777777778,
              "#fb9f3a"
             ],
             [
              0.8888888888888888,
              "#fdca26"
             ],
             [
              1,
              "#f0f921"
             ]
            ],
            "type": "contour"
           }
          ],
          "contourcarpet": [
           {
            "colorbar": {
             "outlinewidth": 0,
             "ticks": ""
            },
            "type": "contourcarpet"
           }
          ],
          "heatmap": [
           {
            "colorbar": {
             "outlinewidth": 0,
             "ticks": ""
            },
            "colorscale": [
             [
              0,
              "#0d0887"
             ],
             [
              0.1111111111111111,
              "#46039f"
             ],
             [
              0.2222222222222222,
              "#7201a8"
             ],
             [
              0.3333333333333333,
              "#9c179e"
             ],
             [
              0.4444444444444444,
              "#bd3786"
             ],
             [
              0.5555555555555556,
              "#d8576b"
             ],
             [
              0.6666666666666666,
              "#ed7953"
             ],
             [
              0.7777777777777778,
              "#fb9f3a"
             ],
             [
              0.8888888888888888,
              "#fdca26"
             ],
             [
              1,
              "#f0f921"
             ]
            ],
            "type": "heatmap"
           }
          ],
          "histogram": [
           {
            "marker": {
             "pattern": {
              "fillmode": "overlay",
              "size": 10,
              "solidity": 0.2
             }
            },
            "type": "histogram"
           }
          ],
          "histogram2d": [
           {
            "colorbar": {
             "outlinewidth": 0,
             "ticks": ""
            },
            "colorscale": [
             [
              0,
              "#0d0887"
             ],
             [
              0.1111111111111111,
              "#46039f"
             ],
             [
              0.2222222222222222,
              "#7201a8"
             ],
             [
              0.3333333333333333,
              "#9c179e"
             ],
             [
              0.4444444444444444,
              "#bd3786"
             ],
             [
              0.5555555555555556,
              "#d8576b"
             ],
             [
              0.6666666666666666,
              "#ed7953"
             ],
             [
              0.7777777777777778,
              "#fb9f3a"
             ],
             [
              0.8888888888888888,
              "#fdca26"
             ],
             [
              1,
              "#f0f921"
             ]
            ],
            "type": "histogram2d"
           }
          ],
          "histogram2dcontour": [
           {
            "colorbar": {
             "outlinewidth": 0,
             "ticks": ""
            },
            "colorscale": [
             [
              0,
              "#0d0887"
             ],
             [
              0.1111111111111111,
              "#46039f"
             ],
             [
              0.2222222222222222,
              "#7201a8"
             ],
             [
              0.3333333333333333,
              "#9c179e"
             ],
             [
              0.4444444444444444,
              "#bd3786"
             ],
             [
              0.5555555555555556,
              "#d8576b"
             ],
             [
              0.6666666666666666,
              "#ed7953"
             ],
             [
              0.7777777777777778,
              "#fb9f3a"
             ],
             [
              0.8888888888888888,
              "#fdca26"
             ],
             [
              1,
              "#f0f921"
             ]
            ],
            "type": "histogram2dcontour"
           }
          ],
          "mesh3d": [
           {
            "colorbar": {
             "outlinewidth": 0,
             "ticks": ""
            },
            "type": "mesh3d"
           }
          ],
          "parcoords": [
           {
            "line": {
             "colorbar": {
              "outlinewidth": 0,
              "ticks": ""
             }
            },
            "type": "parcoords"
           }
          ],
          "pie": [
           {
            "automargin": true,
            "type": "pie"
           }
          ],
          "scatter": [
           {
            "fillpattern": {
             "fillmode": "overlay",
             "size": 10,
             "solidity": 0.2
            },
            "type": "scatter"
           }
          ],
          "scatter3d": [
           {
            "line": {
             "colorbar": {
              "outlinewidth": 0,
              "ticks": ""
             }
            },
            "marker": {
             "colorbar": {
              "outlinewidth": 0,
              "ticks": ""
             }
            },
            "type": "scatter3d"
           }
          ],
          "scattercarpet": [
           {
            "marker": {
             "colorbar": {
              "outlinewidth": 0,
              "ticks": ""
             }
            },
            "type": "scattercarpet"
           }
          ],
          "scattergeo": [
           {
            "marker": {
             "colorbar": {
              "outlinewidth": 0,
              "ticks": ""
             }
            },
            "type": "scattergeo"
           }
          ],
          "scattergl": [
           {
            "marker": {
             "colorbar": {
              "outlinewidth": 0,
              "ticks": ""
             }
            },
            "type": "scattergl"
           }
          ],
          "scattermap": [
           {
            "marker": {
             "colorbar": {
              "outlinewidth": 0,
              "ticks": ""
             }
            },
            "type": "scattermap"
           }
          ],
          "scattermapbox": [
           {
            "marker": {
             "colorbar": {
              "outlinewidth": 0,
              "ticks": ""
             }
            },
            "type": "scattermapbox"
           }
          ],
          "scatterpolar": [
           {
            "marker": {
             "colorbar": {
              "outlinewidth": 0,
              "ticks": ""
             }
            },
            "type": "scatterpolar"
           }
          ],
          "scatterpolargl": [
           {
            "marker": {
             "colorbar": {
              "outlinewidth": 0,
              "ticks": ""
             }
            },
            "type": "scatterpolargl"
           }
          ],
          "scatterternary": [
           {
            "marker": {
             "colorbar": {
              "outlinewidth": 0,
              "ticks": ""
             }
            },
            "type": "scatterternary"
           }
          ],
          "surface": [
           {
            "colorbar": {
             "outlinewidth": 0,
             "ticks": ""
            },
            "colorscale": [
             [
              0,
              "#0d0887"
             ],
             [
              0.1111111111111111,
              "#46039f"
             ],
             [
              0.2222222222222222,
              "#7201a8"
             ],
             [
              0.3333333333333333,
              "#9c179e"
             ],
             [
              0.4444444444444444,
              "#bd3786"
             ],
             [
              0.5555555555555556,
              "#d8576b"
             ],
             [
              0.6666666666666666,
              "#ed7953"
             ],
             [
              0.7777777777777778,
              "#fb9f3a"
             ],
             [
              0.8888888888888888,
              "#fdca26"
             ],
             [
              1,
              "#f0f921"
             ]
            ],
            "type": "surface"
           }
          ],
          "table": [
           {
            "cells": {
             "fill": {
              "color": "#EBF0F8"
             },
             "line": {
              "color": "white"
             }
            },
            "header": {
             "fill": {
              "color": "#C8D4E3"
             },
             "line": {
              "color": "white"
             }
            },
            "type": "table"
           }
          ]
         },
         "layout": {
          "annotationdefaults": {
           "arrowcolor": "#2a3f5f",
           "arrowhead": 0,
           "arrowwidth": 1
          },
          "autotypenumbers": "strict",
          "coloraxis": {
           "colorbar": {
            "outlinewidth": 0,
            "ticks": ""
           }
          },
          "colorscale": {
           "diverging": [
            [
             0,
             "#8e0152"
            ],
            [
             0.1,
             "#c51b7d"
            ],
            [
             0.2,
             "#de77ae"
            ],
            [
             0.3,
             "#f1b6da"
            ],
            [
             0.4,
             "#fde0ef"
            ],
            [
             0.5,
             "#f7f7f7"
            ],
            [
             0.6,
             "#e6f5d0"
            ],
            [
             0.7,
             "#b8e186"
            ],
            [
             0.8,
             "#7fbc41"
            ],
            [
             0.9,
             "#4d9221"
            ],
            [
             1,
             "#276419"
            ]
           ],
           "sequential": [
            [
             0,
             "#0d0887"
            ],
            [
             0.1111111111111111,
             "#46039f"
            ],
            [
             0.2222222222222222,
             "#7201a8"
            ],
            [
             0.3333333333333333,
             "#9c179e"
            ],
            [
             0.4444444444444444,
             "#bd3786"
            ],
            [
             0.5555555555555556,
             "#d8576b"
            ],
            [
             0.6666666666666666,
             "#ed7953"
            ],
            [
             0.7777777777777778,
             "#fb9f3a"
            ],
            [
             0.8888888888888888,
             "#fdca26"
            ],
            [
             1,
             "#f0f921"
            ]
           ],
           "sequentialminus": [
            [
             0,
             "#0d0887"
            ],
            [
             0.1111111111111111,
             "#46039f"
            ],
            [
             0.2222222222222222,
             "#7201a8"
            ],
            [
             0.3333333333333333,
             "#9c179e"
            ],
            [
             0.4444444444444444,
             "#bd3786"
            ],
            [
             0.5555555555555556,
             "#d8576b"
            ],
            [
             0.6666666666666666,
             "#ed7953"
            ],
            [
             0.7777777777777778,
             "#fb9f3a"
            ],
            [
             0.8888888888888888,
             "#fdca26"
            ],
            [
             1,
             "#f0f921"
            ]
           ]
          },
          "colorway": [
           "#636efa",
           "#EF553B",
           "#00cc96",
           "#ab63fa",
           "#FFA15A",
           "#19d3f3",
           "#FF6692",
           "#B6E880",
           "#FF97FF",
           "#FECB52"
          ],
          "font": {
           "color": "#2a3f5f"
          },
          "geo": {
           "bgcolor": "white",
           "lakecolor": "white",
           "landcolor": "#E5ECF6",
           "showlakes": true,
           "showland": true,
           "subunitcolor": "white"
          },
          "hoverlabel": {
           "align": "left"
          },
          "hovermode": "closest",
          "mapbox": {
           "style": "light"
          },
          "paper_bgcolor": "white",
          "plot_bgcolor": "#E5ECF6",
          "polar": {
           "angularaxis": {
            "gridcolor": "white",
            "linecolor": "white",
            "ticks": ""
           },
           "bgcolor": "#E5ECF6",
           "radialaxis": {
            "gridcolor": "white",
            "linecolor": "white",
            "ticks": ""
           }
          },
          "scene": {
           "xaxis": {
            "backgroundcolor": "#E5ECF6",
            "gridcolor": "white",
            "gridwidth": 2,
            "linecolor": "white",
            "showbackground": true,
            "ticks": "",
            "zerolinecolor": "white"
           },
           "yaxis": {
            "backgroundcolor": "#E5ECF6",
            "gridcolor": "white",
            "gridwidth": 2,
            "linecolor": "white",
            "showbackground": true,
            "ticks": "",
            "zerolinecolor": "white"
           },
           "zaxis": {
            "backgroundcolor": "#E5ECF6",
            "gridcolor": "white",
            "gridwidth": 2,
            "linecolor": "white",
            "showbackground": true,
            "ticks": "",
            "zerolinecolor": "white"
           }
          },
          "shapedefaults": {
           "line": {
            "color": "#2a3f5f"
           }
          },
          "ternary": {
           "aaxis": {
            "gridcolor": "white",
            "linecolor": "white",
            "ticks": ""
           },
           "baxis": {
            "gridcolor": "white",
            "linecolor": "white",
            "ticks": ""
           },
           "bgcolor": "#E5ECF6",
           "caxis": {
            "gridcolor": "white",
            "linecolor": "white",
            "ticks": ""
           }
          },
          "title": {
           "x": 0.05
          },
          "xaxis": {
           "automargin": true,
           "gridcolor": "white",
           "linecolor": "white",
           "ticks": "",
           "title": {
            "standoff": 15
           },
           "zerolinecolor": "white",
           "zerolinewidth": 2
          },
          "yaxis": {
           "automargin": true,
           "gridcolor": "white",
           "linecolor": "white",
           "ticks": "",
           "title": {
            "standoff": 15
           },
           "zerolinecolor": "white",
           "zerolinewidth": 2
          }
         }
        },
        "title": {
         "text": "Phân phối User theo Lượt xem trung bình"
        },
        "xaxis": {
         "anchor": "y",
         "domain": [
          0,
          1
         ],
         "title": {
          "text": "avg_views"
         }
        },
        "yaxis": {
         "anchor": "x",
         "domain": [
          0,
          1
         ],
         "title": {
          "text": "count"
         }
        }
       }
      }
     },
     "metadata": {},
     "output_type": "display_data"
    }
   ],
   "source": [
    "px.histogram(user_stats_df, x='avg_views',\n",
    "             title=\"Phân phối User theo Lượt xem trung bình\")"
   ]
  },
  {
   "cell_type": "code",
   "execution_count": 38,
   "metadata": {},
   "outputs": [
    {
     "data": {
      "application/vnd.plotly.v1+json": {
       "config": {
        "plotlyServerURL": "https://plot.ly"
       },
       "data": [
        {
         "bingroup": "x",
         "hovertemplate": "followers=%{x}<br>count=%{y}<extra></extra>",
         "legendgroup": "",
         "marker": {
          "color": "#636efa",
          "pattern": {
           "shape": ""
          }
         },
         "name": "",
         "orientation": "v",
         "showlegend": false,
         "type": "histogram",
         "x": {
          "bdata": "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",
          "dtype": "f8"
         },
         "xaxis": "x",
         "yaxis": "y"
        }
       ],
       "layout": {
        "barmode": "relative",
        "legend": {
         "tracegroupgap": 0
        },
        "template": {
         "data": {
          "bar": [
           {
            "error_x": {
             "color": "#2a3f5f"
            },
            "error_y": {
             "color": "#2a3f5f"
            },
            "marker": {
             "line": {
              "color": "#E5ECF6",
              "width": 0.5
             },
             "pattern": {
              "fillmode": "overlay",
              "size": 10,
              "solidity": 0.2
             }
            },
            "type": "bar"
           }
          ],
          "barpolar": [
           {
            "marker": {
             "line": {
              "color": "#E5ECF6",
              "width": 0.5
             },
             "pattern": {
              "fillmode": "overlay",
              "size": 10,
              "solidity": 0.2
             }
            },
            "type": "barpolar"
           }
          ],
          "carpet": [
           {
            "aaxis": {
             "endlinecolor": "#2a3f5f",
             "gridcolor": "white",
             "linecolor": "white",
             "minorgridcolor": "white",
             "startlinecolor": "#2a3f5f"
            },
            "baxis": {
             "endlinecolor": "#2a3f5f",
             "gridcolor": "white",
             "linecolor": "white",
             "minorgridcolor": "white",
             "startlinecolor": "#2a3f5f"
            },
            "type": "carpet"
           }
          ],
          "choropleth": [
           {
            "colorbar": {
             "outlinewidth": 0,
             "ticks": ""
            },
            "type": "choropleth"
           }
          ],
          "contour": [
           {
            "colorbar": {
             "outlinewidth": 0,
             "ticks": ""
            },
            "colorscale": [
             [
              0,
              "#0d0887"
             ],
             [
              0.1111111111111111,
              "#46039f"
             ],
             [
              0.2222222222222222,
              "#7201a8"
             ],
             [
              0.3333333333333333,
              "#9c179e"
             ],
             [
              0.4444444444444444,
              "#bd3786"
             ],
             [
              0.5555555555555556,
              "#d8576b"
             ],
             [
              0.6666666666666666,
              "#ed7953"
             ],
             [
              0.7777777777777778,
              "#fb9f3a"
             ],
             [
              0.8888888888888888,
              "#fdca26"
             ],
             [
              1,
              "#f0f921"
             ]
            ],
            "type": "contour"
           }
          ],
          "contourcarpet": [
           {
            "colorbar": {
             "outlinewidth": 0,
             "ticks": ""
            },
            "type": "contourcarpet"
           }
          ],
          "heatmap": [
           {
            "colorbar": {
             "outlinewidth": 0,
             "ticks": ""
            },
            "colorscale": [
             [
              0,
              "#0d0887"
             ],
             [
              0.1111111111111111,
              "#46039f"
             ],
             [
              0.2222222222222222,
              "#7201a8"
             ],
             [
              0.3333333333333333,
              "#9c179e"
             ],
             [
              0.4444444444444444,
              "#bd3786"
             ],
             [
              0.5555555555555556,
              "#d8576b"
             ],
             [
              0.6666666666666666,
              "#ed7953"
             ],
             [
              0.7777777777777778,
              "#fb9f3a"
             ],
             [
              0.8888888888888888,
              "#fdca26"
             ],
             [
              1,
              "#f0f921"
             ]
            ],
            "type": "heatmap"
           }
          ],
          "histogram": [
           {
            "marker": {
             "pattern": {
              "fillmode": "overlay",
              "size": 10,
              "solidity": 0.2
             }
            },
            "type": "histogram"
           }
          ],
          "histogram2d": [
           {
            "colorbar": {
             "outlinewidth": 0,
             "ticks": ""
            },
            "colorscale": [
             [
              0,
              "#0d0887"
             ],
             [
              0.1111111111111111,
              "#46039f"
             ],
             [
              0.2222222222222222,
              "#7201a8"
             ],
             [
              0.3333333333333333,
              "#9c179e"
             ],
             [
              0.4444444444444444,
              "#bd3786"
             ],
             [
              0.5555555555555556,
              "#d8576b"
             ],
             [
              0.6666666666666666,
              "#ed7953"
             ],
             [
              0.7777777777777778,
              "#fb9f3a"
             ],
             [
              0.8888888888888888,
              "#fdca26"
             ],
             [
              1,
              "#f0f921"
             ]
            ],
            "type": "histogram2d"
           }
          ],
          "histogram2dcontour": [
           {
            "colorbar": {
             "outlinewidth": 0,
             "ticks": ""
            },
            "colorscale": [
             [
              0,
              "#0d0887"
             ],
             [
              0.1111111111111111,
              "#46039f"
             ],
             [
              0.2222222222222222,
              "#7201a8"
             ],
             [
              0.3333333333333333,
              "#9c179e"
             ],
             [
              0.4444444444444444,
              "#bd3786"
             ],
             [
              0.5555555555555556,
              "#d8576b"
             ],
             [
              0.6666666666666666,
              "#ed7953"
             ],
             [
              0.7777777777777778,
              "#fb9f3a"
             ],
             [
              0.8888888888888888,
              "#fdca26"
             ],
             [
              1,
              "#f0f921"
             ]
            ],
            "type": "histogram2dcontour"
           }
          ],
          "mesh3d": [
           {
            "colorbar": {
             "outlinewidth": 0,
             "ticks": ""
            },
            "type": "mesh3d"
           }
          ],
          "parcoords": [
           {
            "line": {
             "colorbar": {
              "outlinewidth": 0,
              "ticks": ""
             }
            },
            "type": "parcoords"
           }
          ],
          "pie": [
           {
            "automargin": true,
            "type": "pie"
           }
          ],
          "scatter": [
           {
            "fillpattern": {
             "fillmode": "overlay",
             "size": 10,
             "solidity": 0.2
            },
            "type": "scatter"
           }
          ],
          "scatter3d": [
           {
            "line": {
             "colorbar": {
              "outlinewidth": 0,
              "ticks": ""
             }
            },
            "marker": {
             "colorbar": {
              "outlinewidth": 0,
              "ticks": ""
             }
            },
            "type": "scatter3d"
           }
          ],
          "scattercarpet": [
           {
            "marker": {
             "colorbar": {
              "outlinewidth": 0,
              "ticks": ""
             }
            },
            "type": "scattercarpet"
           }
          ],
          "scattergeo": [
           {
            "marker": {
             "colorbar": {
              "outlinewidth": 0,
              "ticks": ""
             }
            },
            "type": "scattergeo"
           }
          ],
          "scattergl": [
           {
            "marker": {
             "colorbar": {
              "outlinewidth": 0,
              "ticks": ""
             }
            },
            "type": "scattergl"
           }
          ],
          "scattermap": [
           {
            "marker": {
             "colorbar": {
              "outlinewidth": 0,
              "ticks": ""
             }
            },
            "type": "scattermap"
           }
          ],
          "scattermapbox": [
           {
            "marker": {
             "colorbar": {
              "outlinewidth": 0,
              "ticks": ""
             }
            },
            "type": "scattermapbox"
           }
          ],
          "scatterpolar": [
           {
            "marker": {
             "colorbar": {
              "outlinewidth": 0,
              "ticks": ""
             }
            },
            "type": "scatterpolar"
           }
          ],
          "scatterpolargl": [
           {
            "marker": {
             "colorbar": {
              "outlinewidth": 0,
              "ticks": ""
             }
            },
            "type": "scatterpolargl"
           }
          ],
          "scatterternary": [
           {
            "marker": {
             "colorbar": {
              "outlinewidth": 0,
              "ticks": ""
             }
            },
            "type": "scatterternary"
           }
          ],
          "surface": [
           {
            "colorbar": {
             "outlinewidth": 0,
             "ticks": ""
            },
            "colorscale": [
             [
              0,
              "#0d0887"
             ],
             [
              0.1111111111111111,
              "#46039f"
             ],
             [
              0.2222222222222222,
              "#7201a8"
             ],
             [
              0.3333333333333333,
              "#9c179e"
             ],
             [
              0.4444444444444444,
              "#bd3786"
             ],
             [
              0.5555555555555556,
              "#d8576b"
             ],
             [
              0.6666666666666666,
              "#ed7953"
             ],
             [
              0.7777777777777778,
              "#fb9f3a"
             ],
             [
              0.8888888888888888,
              "#fdca26"
             ],
             [
              1,
              "#f0f921"
             ]
            ],
            "type": "surface"
           }
          ],
          "table": [
           {
            "cells": {
             "fill": {
              "color": "#EBF0F8"
             },
             "line": {
              "color": "white"
             }
            },
            "header": {
             "fill": {
              "color": "#C8D4E3"
             },
             "line": {
              "color": "white"
             }
            },
            "type": "table"
           }
          ]
         },
         "layout": {
          "annotationdefaults": {
           "arrowcolor": "#2a3f5f",
           "arrowhead": 0,
           "arrowwidth": 1
          },
          "autotypenumbers": "strict",
          "coloraxis": {
           "colorbar": {
            "outlinewidth": 0,
            "ticks": ""
           }
          },
          "colorscale": {
           "diverging": [
            [
             0,
             "#8e0152"
            ],
            [
             0.1,
             "#c51b7d"
            ],
            [
             0.2,
             "#de77ae"
            ],
            [
             0.3,
             "#f1b6da"
            ],
            [
             0.4,
             "#fde0ef"
            ],
            [
             0.5,
             "#f7f7f7"
            ],
            [
             0.6,
             "#e6f5d0"
            ],
            [
             0.7,
             "#b8e186"
            ],
            [
             0.8,
             "#7fbc41"
            ],
            [
             0.9,
             "#4d9221"
            ],
            [
             1,
             "#276419"
            ]
           ],
           "sequential": [
            [
             0,
             "#0d0887"
            ],
            [
             0.1111111111111111,
             "#46039f"
            ],
            [
             0.2222222222222222,
             "#7201a8"
            ],
            [
             0.3333333333333333,
             "#9c179e"
            ],
            [
             0.4444444444444444,
             "#bd3786"
            ],
            [
             0.5555555555555556,
             "#d8576b"
            ],
            [
             0.6666666666666666,
             "#ed7953"
            ],
            [
             0.7777777777777778,
             "#fb9f3a"
            ],
            [
             0.8888888888888888,
             "#fdca26"
            ],
            [
             1,
             "#f0f921"
            ]
           ],
           "sequentialminus": [
            [
             0,
             "#0d0887"
            ],
            [
             0.1111111111111111,
             "#46039f"
            ],
            [
             0.2222222222222222,
             "#7201a8"
            ],
            [
             0.3333333333333333,
             "#9c179e"
            ],
            [
             0.4444444444444444,
             "#bd3786"
            ],
            [
             0.5555555555555556,
             "#d8576b"
            ],
            [
             0.6666666666666666,
             "#ed7953"
            ],
            [
             0.7777777777777778,
             "#fb9f3a"
            ],
            [
             0.8888888888888888,
             "#fdca26"
            ],
            [
             1,
             "#f0f921"
            ]
           ]
          },
          "colorway": [
           "#636efa",
           "#EF553B",
           "#00cc96",
           "#ab63fa",
           "#FFA15A",
           "#19d3f3",
           "#FF6692",
           "#B6E880",
           "#FF97FF",
           "#FECB52"
          ],
          "font": {
           "color": "#2a3f5f"
          },
          "geo": {
           "bgcolor": "white",
           "lakecolor": "white",
           "landcolor": "#E5ECF6",
           "showlakes": true,
           "showland": true,
           "subunitcolor": "white"
          },
          "hoverlabel": {
           "align": "left"
          },
          "hovermode": "closest",
          "mapbox": {
           "style": "light"
          },
          "paper_bgcolor": "white",
          "plot_bgcolor": "#E5ECF6",
          "polar": {
           "angularaxis": {
            "gridcolor": "white",
            "linecolor": "white",
            "ticks": ""
           },
           "bgcolor": "#E5ECF6",
           "radialaxis": {
            "gridcolor": "white",
            "linecolor": "white",
            "ticks": ""
           }
          },
          "scene": {
           "xaxis": {
            "backgroundcolor": "#E5ECF6",
            "gridcolor": "white",
            "gridwidth": 2,
            "linecolor": "white",
            "showbackground": true,
            "ticks": "",
            "zerolinecolor": "white"
           },
           "yaxis": {
            "backgroundcolor": "#E5ECF6",
            "gridcolor": "white",
            "gridwidth": 2,
            "linecolor": "white",
            "showbackground": true,
            "ticks": "",
            "zerolinecolor": "white"
           },
           "zaxis": {
            "backgroundcolor": "#E5ECF6",
            "gridcolor": "white",
            "gridwidth": 2,
            "linecolor": "white",
            "showbackground": true,
            "ticks": "",
            "zerolinecolor": "white"
           }
          },
          "shapedefaults": {
           "line": {
            "color": "#2a3f5f"
           }
          },
          "ternary": {
           "aaxis": {
            "gridcolor": "white",
            "linecolor": "white",
            "ticks": ""
           },
           "baxis": {
            "gridcolor": "white",
            "linecolor": "white",
            "ticks": ""
           },
           "bgcolor": "#E5ECF6",
           "caxis": {
            "gridcolor": "white",
            "linecolor": "white",
            "ticks": ""
           }
          },
          "title": {
           "x": 0.05
          },
          "xaxis": {
           "automargin": true,
           "gridcolor": "white",
           "linecolor": "white",
           "ticks": "",
           "title": {
            "standoff": 15
           },
           "zerolinecolor": "white",
           "zerolinewidth": 2
          },
          "yaxis": {
           "automargin": true,
           "gridcolor": "white",
           "linecolor": "white",
           "ticks": "",
           "title": {
            "standoff": 15
           },
           "zerolinecolor": "white",
           "zerolinewidth": 2
          }
         }
        },
        "title": {
         "text": "Phân phối User theo Followers"
        },
        "xaxis": {
         "anchor": "y",
         "domain": [
          0,
          1
         ],
         "title": {
          "text": "followers"
         }
        },
        "yaxis": {
         "anchor": "x",
         "domain": [
          0,
          1
         ],
         "title": {
          "text": "count"
         }
        }
       }
      }
     },
     "metadata": {},
     "output_type": "display_data"
    }
   ],
   "source": [
    "px.histogram(user_stats_df, x='followers',\n",
    "             title=\"Phân phối User theo Followers\")"
   ]
  },
  {
   "cell_type": "code",
   "execution_count": 39,
   "metadata": {},
   "outputs": [
    {
     "data": {
      "application/vnd.plotly.v1+json": {
       "config": {
        "plotlyServerURL": "https://plot.ly"
       },
       "data": [
        {
         "bingroup": "x",
         "hovertemplate": "likes=%{x}<br>count=%{y}<extra></extra>",
         "legendgroup": "",
         "marker": {
          "color": "#636efa",
          "pattern": {
           "shape": ""
          }
         },
         "name": "",
         "orientation": "v",
         "showlegend": false,
         "type": "histogram",
         "x": {
          "bdata": "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",
          "dtype": "f8"
         },
         "xaxis": "x",
         "yaxis": "y"
        }
       ],
       "layout": {
        "barmode": "relative",
        "legend": {
         "tracegroupgap": 0
        },
        "template": {
         "data": {
          "bar": [
           {
            "error_x": {
             "color": "#2a3f5f"
            },
            "error_y": {
             "color": "#2a3f5f"
            },
            "marker": {
             "line": {
              "color": "#E5ECF6",
              "width": 0.5
             },
             "pattern": {
              "fillmode": "overlay",
              "size": 10,
              "solidity": 0.2
             }
            },
            "type": "bar"
           }
          ],
          "barpolar": [
           {
            "marker": {
             "line": {
              "color": "#E5ECF6",
              "width": 0.5
             },
             "pattern": {
              "fillmode": "overlay",
              "size": 10,
              "solidity": 0.2
             }
            },
            "type": "barpolar"
           }
          ],
          "carpet": [
           {
            "aaxis": {
             "endlinecolor": "#2a3f5f",
             "gridcolor": "white",
             "linecolor": "white",
             "minorgridcolor": "white",
             "startlinecolor": "#2a3f5f"
            },
            "baxis": {
             "endlinecolor": "#2a3f5f",
             "gridcolor": "white",
             "linecolor": "white",
             "minorgridcolor": "white",
             "startlinecolor": "#2a3f5f"
            },
            "type": "carpet"
           }
          ],
          "choropleth": [
           {
            "colorbar": {
             "outlinewidth": 0,
             "ticks": ""
            },
            "type": "choropleth"
           }
          ],
          "contour": [
           {
            "colorbar": {
             "outlinewidth": 0,
             "ticks": ""
            },
            "colorscale": [
             [
              0,
              "#0d0887"
             ],
             [
              0.1111111111111111,
              "#46039f"
             ],
             [
              0.2222222222222222,
              "#7201a8"
             ],
             [
              0.3333333333333333,
              "#9c179e"
             ],
             [
              0.4444444444444444,
              "#bd3786"
             ],
             [
              0.5555555555555556,
              "#d8576b"
             ],
             [
              0.6666666666666666,
              "#ed7953"
             ],
             [
              0.7777777777777778,
              "#fb9f3a"
             ],
             [
              0.8888888888888888,
              "#fdca26"
             ],
             [
              1,
              "#f0f921"
             ]
            ],
            "type": "contour"
           }
          ],
          "contourcarpet": [
           {
            "colorbar": {
             "outlinewidth": 0,
             "ticks": ""
            },
            "type": "contourcarpet"
           }
          ],
          "heatmap": [
           {
            "colorbar": {
             "outlinewidth": 0,
             "ticks": ""
            },
            "colorscale": [
             [
              0,
              "#0d0887"
             ],
             [
              0.1111111111111111,
              "#46039f"
             ],
             [
              0.2222222222222222,
              "#7201a8"
             ],
             [
              0.3333333333333333,
              "#9c179e"
             ],
             [
              0.4444444444444444,
              "#bd3786"
             ],
             [
              0.5555555555555556,
              "#d8576b"
             ],
             [
              0.6666666666666666,
              "#ed7953"
             ],
             [
              0.7777777777777778,
              "#fb9f3a"
             ],
             [
              0.8888888888888888,
              "#fdca26"
             ],
             [
              1,
              "#f0f921"
             ]
            ],
            "type": "heatmap"
           }
          ],
          "histogram": [
           {
            "marker": {
             "pattern": {
              "fillmode": "overlay",
              "size": 10,
              "solidity": 0.2
             }
            },
            "type": "histogram"
           }
          ],
          "histogram2d": [
           {
            "colorbar": {
             "outlinewidth": 0,
             "ticks": ""
            },
            "colorscale": [
             [
              0,
              "#0d0887"
             ],
             [
              0.1111111111111111,
              "#46039f"
             ],
             [
              0.2222222222222222,
              "#7201a8"
             ],
             [
              0.3333333333333333,
              "#9c179e"
             ],
             [
              0.4444444444444444,
              "#bd3786"
             ],
             [
              0.5555555555555556,
              "#d8576b"
             ],
             [
              0.6666666666666666,
              "#ed7953"
             ],
             [
              0.7777777777777778,
              "#fb9f3a"
             ],
             [
              0.8888888888888888,
              "#fdca26"
             ],
             [
              1,
              "#f0f921"
             ]
            ],
            "type": "histogram2d"
           }
          ],
          "histogram2dcontour": [
           {
            "colorbar": {
             "outlinewidth": 0,
             "ticks": ""
            },
            "colorscale": [
             [
              0,
              "#0d0887"
             ],
             [
              0.1111111111111111,
              "#46039f"
             ],
             [
              0.2222222222222222,
              "#7201a8"
             ],
             [
              0.3333333333333333,
              "#9c179e"
             ],
             [
              0.4444444444444444,
              "#bd3786"
             ],
             [
              0.5555555555555556,
              "#d8576b"
             ],
             [
              0.6666666666666666,
              "#ed7953"
             ],
             [
              0.7777777777777778,
              "#fb9f3a"
             ],
             [
              0.8888888888888888,
              "#fdca26"
             ],
             [
              1,
              "#f0f921"
             ]
            ],
            "type": "histogram2dcontour"
           }
          ],
          "mesh3d": [
           {
            "colorbar": {
             "outlinewidth": 0,
             "ticks": ""
            },
            "type": "mesh3d"
           }
          ],
          "parcoords": [
           {
            "line": {
             "colorbar": {
              "outlinewidth": 0,
              "ticks": ""
             }
            },
            "type": "parcoords"
           }
          ],
          "pie": [
           {
            "automargin": true,
            "type": "pie"
           }
          ],
          "scatter": [
           {
            "fillpattern": {
             "fillmode": "overlay",
             "size": 10,
             "solidity": 0.2
            },
            "type": "scatter"
           }
          ],
          "scatter3d": [
           {
            "line": {
             "colorbar": {
              "outlinewidth": 0,
              "ticks": ""
             }
            },
            "marker": {
             "colorbar": {
              "outlinewidth": 0,
              "ticks": ""
             }
            },
            "type": "scatter3d"
           }
          ],
          "scattercarpet": [
           {
            "marker": {
             "colorbar": {
              "outlinewidth": 0,
              "ticks": ""
             }
            },
            "type": "scattercarpet"
           }
          ],
          "scattergeo": [
           {
            "marker": {
             "colorbar": {
              "outlinewidth": 0,
              "ticks": ""
             }
            },
            "type": "scattergeo"
           }
          ],
          "scattergl": [
           {
            "marker": {
             "colorbar": {
              "outlinewidth": 0,
              "ticks": ""
             }
            },
            "type": "scattergl"
           }
          ],
          "scattermap": [
           {
            "marker": {
             "colorbar": {
              "outlinewidth": 0,
              "ticks": ""
             }
            },
            "type": "scattermap"
           }
          ],
          "scattermapbox": [
           {
            "marker": {
             "colorbar": {
              "outlinewidth": 0,
              "ticks": ""
             }
            },
            "type": "scattermapbox"
           }
          ],
          "scatterpolar": [
           {
            "marker": {
             "colorbar": {
              "outlinewidth": 0,
              "ticks": ""
             }
            },
            "type": "scatterpolar"
           }
          ],
          "scatterpolargl": [
           {
            "marker": {
             "colorbar": {
              "outlinewidth": 0,
              "ticks": ""
             }
            },
            "type": "scatterpolargl"
           }
          ],
          "scatterternary": [
           {
            "marker": {
             "colorbar": {
              "outlinewidth": 0,
              "ticks": ""
             }
            },
            "type": "scatterternary"
           }
          ],
          "surface": [
           {
            "colorbar": {
             "outlinewidth": 0,
             "ticks": ""
            },
            "colorscale": [
             [
              0,
              "#0d0887"
             ],
             [
              0.1111111111111111,
              "#46039f"
             ],
             [
              0.2222222222222222,
              "#7201a8"
             ],
             [
              0.3333333333333333,
              "#9c179e"
             ],
             [
              0.4444444444444444,
              "#bd3786"
             ],
             [
              0.5555555555555556,
              "#d8576b"
             ],
             [
              0.6666666666666666,
              "#ed7953"
             ],
             [
              0.7777777777777778,
              "#fb9f3a"
             ],
             [
              0.8888888888888888,
              "#fdca26"
             ],
             [
              1,
              "#f0f921"
             ]
            ],
            "type": "surface"
           }
          ],
          "table": [
           {
            "cells": {
             "fill": {
              "color": "#EBF0F8"
             },
             "line": {
              "color": "white"
             }
            },
            "header": {
             "fill": {
              "color": "#C8D4E3"
             },
             "line": {
              "color": "white"
             }
            },
            "type": "table"
           }
          ]
         },
         "layout": {
          "annotationdefaults": {
           "arrowcolor": "#2a3f5f",
           "arrowhead": 0,
           "arrowwidth": 1
          },
          "autotypenumbers": "strict",
          "coloraxis": {
           "colorbar": {
            "outlinewidth": 0,
            "ticks": ""
           }
          },
          "colorscale": {
           "diverging": [
            [
             0,
             "#8e0152"
            ],
            [
             0.1,
             "#c51b7d"
            ],
            [
             0.2,
             "#de77ae"
            ],
            [
             0.3,
             "#f1b6da"
            ],
            [
             0.4,
             "#fde0ef"
            ],
            [
             0.5,
             "#f7f7f7"
            ],
            [
             0.6,
             "#e6f5d0"
            ],
            [
             0.7,
             "#b8e186"
            ],
            [
             0.8,
             "#7fbc41"
            ],
            [
             0.9,
             "#4d9221"
            ],
            [
             1,
             "#276419"
            ]
           ],
           "sequential": [
            [
             0,
             "#0d0887"
            ],
            [
             0.1111111111111111,
             "#46039f"
            ],
            [
             0.2222222222222222,
             "#7201a8"
            ],
            [
             0.3333333333333333,
             "#9c179e"
            ],
            [
             0.4444444444444444,
             "#bd3786"
            ],
            [
             0.5555555555555556,
             "#d8576b"
            ],
            [
             0.6666666666666666,
             "#ed7953"
            ],
            [
             0.7777777777777778,
             "#fb9f3a"
            ],
            [
             0.8888888888888888,
             "#fdca26"
            ],
            [
             1,
             "#f0f921"
            ]
           ],
           "sequentialminus": [
            [
             0,
             "#0d0887"
            ],
            [
             0.1111111111111111,
             "#46039f"
            ],
            [
             0.2222222222222222,
             "#7201a8"
            ],
            [
             0.3333333333333333,
             "#9c179e"
            ],
            [
             0.4444444444444444,
             "#bd3786"
            ],
            [
             0.5555555555555556,
             "#d8576b"
            ],
            [
             0.6666666666666666,
             "#ed7953"
            ],
            [
             0.7777777777777778,
             "#fb9f3a"
            ],
            [
             0.8888888888888888,
             "#fdca26"
            ],
            [
             1,
             "#f0f921"
            ]
           ]
          },
          "colorway": [
           "#636efa",
           "#EF553B",
           "#00cc96",
           "#ab63fa",
           "#FFA15A",
           "#19d3f3",
           "#FF6692",
           "#B6E880",
           "#FF97FF",
           "#FECB52"
          ],
          "font": {
           "color": "#2a3f5f"
          },
          "geo": {
           "bgcolor": "white",
           "lakecolor": "white",
           "landcolor": "#E5ECF6",
           "showlakes": true,
           "showland": true,
           "subunitcolor": "white"
          },
          "hoverlabel": {
           "align": "left"
          },
          "hovermode": "closest",
          "mapbox": {
           "style": "light"
          },
          "paper_bgcolor": "white",
          "plot_bgcolor": "#E5ECF6",
          "polar": {
           "angularaxis": {
            "gridcolor": "white",
            "linecolor": "white",
            "ticks": ""
           },
           "bgcolor": "#E5ECF6",
           "radialaxis": {
            "gridcolor": "white",
            "linecolor": "white",
            "ticks": ""
           }
          },
          "scene": {
           "xaxis": {
            "backgroundcolor": "#E5ECF6",
            "gridcolor": "white",
            "gridwidth": 2,
            "linecolor": "white",
            "showbackground": true,
            "ticks": "",
            "zerolinecolor": "white"
           },
           "yaxis": {
            "backgroundcolor": "#E5ECF6",
            "gridcolor": "white",
            "gridwidth": 2,
            "linecolor": "white",
            "showbackground": true,
            "ticks": "",
            "zerolinecolor": "white"
           },
           "zaxis": {
            "backgroundcolor": "#E5ECF6",
            "gridcolor": "white",
            "gridwidth": 2,
            "linecolor": "white",
            "showbackground": true,
            "ticks": "",
            "zerolinecolor": "white"
           }
          },
          "shapedefaults": {
           "line": {
            "color": "#2a3f5f"
           }
          },
          "ternary": {
           "aaxis": {
            "gridcolor": "white",
            "linecolor": "white",
            "ticks": ""
           },
           "baxis": {
            "gridcolor": "white",
            "linecolor": "white",
            "ticks": ""
           },
           "bgcolor": "#E5ECF6",
           "caxis": {
            "gridcolor": "white",
            "linecolor": "white",
            "ticks": ""
           }
          },
          "title": {
           "x": 0.05
          },
          "xaxis": {
           "automargin": true,
           "gridcolor": "white",
           "linecolor": "white",
           "ticks": "",
           "title": {
            "standoff": 15
           },
           "zerolinecolor": "white",
           "zerolinewidth": 2
          },
          "yaxis": {
           "automargin": true,
           "gridcolor": "white",
           "linecolor": "white",
           "ticks": "",
           "title": {
            "standoff": 15
           },
           "zerolinecolor": "white",
           "zerolinewidth": 2
          }
         }
        },
        "title": {
         "text": "Phân phối User theo Likes"
        },
        "xaxis": {
         "anchor": "y",
         "domain": [
          0,
          1
         ],
         "title": {
          "text": "likes"
         }
        },
        "yaxis": {
         "anchor": "x",
         "domain": [
          0,
          1
         ],
         "title": {
          "text": "count"
         }
        }
       }
      }
     },
     "metadata": {},
     "output_type": "display_data"
    }
   ],
   "source": [
    "px.histogram(user_stats_df, x='likes',\n",
    "             title=\"Phân phối User theo Likes\")"
   ]
  },
  {
   "cell_type": "markdown",
   "metadata": {},
   "source": [
    "#### Các tiêu chuẩn lọc user\n"
   ]
  },
  {
   "cell_type": "code",
   "execution_count": 40,
   "metadata": {},
   "outputs": [
    {
     "name": "stdout",
     "output_type": "stream",
     "text": [
      "(264, 18)\n"
     ]
    },
    {
     "data": {
      "text/html": [
       "<div>\n",
       "<style scoped>\n",
       "    .dataframe tbody tr th:only-of-type {\n",
       "        vertical-align: middle;\n",
       "    }\n",
       "\n",
       "    .dataframe tbody tr th {\n",
       "        vertical-align: top;\n",
       "    }\n",
       "\n",
       "    .dataframe thead th {\n",
       "        text-align: right;\n",
       "    }\n",
       "</style>\n",
       "<table border=\"1\" class=\"dataframe\">\n",
       "  <thead>\n",
       "    <tr style=\"text-align: right;\">\n",
       "      <th></th>\n",
       "      <th>avg_views</th>\n",
       "      <th>total_videos</th>\n",
       "      <th>followers</th>\n",
       "      <th>engagement_rate</th>\n",
       "      <th>frequency</th>\n",
       "      <th>food_video_percentage</th>\n",
       "      <th>vi_video_percentage</th>\n",
       "    </tr>\n",
       "  </thead>\n",
       "  <tbody>\n",
       "    <tr>\n",
       "      <th>count</th>\n",
       "      <td>2.640000e+02</td>\n",
       "      <td>264.000000</td>\n",
       "      <td>2.640000e+02</td>\n",
       "      <td>264.000000</td>\n",
       "      <td>264.000000</td>\n",
       "      <td>264.000000</td>\n",
       "      <td>264.000000</td>\n",
       "    </tr>\n",
       "    <tr>\n",
       "      <th>mean</th>\n",
       "      <td>3.712888e+05</td>\n",
       "      <td>44.734848</td>\n",
       "      <td>3.364726e+05</td>\n",
       "      <td>0.037695</td>\n",
       "      <td>0.529313</td>\n",
       "      <td>0.930200</td>\n",
       "      <td>0.990727</td>\n",
       "    </tr>\n",
       "    <tr>\n",
       "      <th>std</th>\n",
       "      <td>4.329574e+05</td>\n",
       "      <td>34.037970</td>\n",
       "      <td>4.995458e+05</td>\n",
       "      <td>0.016577</td>\n",
       "      <td>0.367324</td>\n",
       "      <td>0.115659</td>\n",
       "      <td>0.016531</td>\n",
       "    </tr>\n",
       "    <tr>\n",
       "      <th>min</th>\n",
       "      <td>1.293000e+03</td>\n",
       "      <td>2.000000</td>\n",
       "      <td>3.927000e+03</td>\n",
       "      <td>0.008474</td>\n",
       "      <td>0.037281</td>\n",
       "      <td>0.000000</td>\n",
       "      <td>0.902077</td>\n",
       "    </tr>\n",
       "    <tr>\n",
       "      <th>25%</th>\n",
       "      <td>9.125341e+04</td>\n",
       "      <td>22.000000</td>\n",
       "      <td>6.442500e+04</td>\n",
       "      <td>0.025235</td>\n",
       "      <td>0.284579</td>\n",
       "      <td>0.894630</td>\n",
       "      <td>0.990377</td>\n",
       "    </tr>\n",
       "    <tr>\n",
       "      <th>50%</th>\n",
       "      <td>2.103005e+05</td>\n",
       "      <td>38.000000</td>\n",
       "      <td>1.469500e+05</td>\n",
       "      <td>0.034959</td>\n",
       "      <td>0.478862</td>\n",
       "      <td>0.966365</td>\n",
       "      <td>0.997174</td>\n",
       "    </tr>\n",
       "    <tr>\n",
       "      <th>75%</th>\n",
       "      <td>4.666074e+05</td>\n",
       "      <td>61.000000</td>\n",
       "      <td>3.458750e+05</td>\n",
       "      <td>0.047538</td>\n",
       "      <td>0.808371</td>\n",
       "      <td>1.000000</td>\n",
       "      <td>1.000000</td>\n",
       "    </tr>\n",
       "    <tr>\n",
       "      <th>max</th>\n",
       "      <td>2.254700e+06</td>\n",
       "      <td>259.000000</td>\n",
       "      <td>3.000000e+06</td>\n",
       "      <td>0.111330</td>\n",
       "      <td>3.050578</td>\n",
       "      <td>1.000000</td>\n",
       "      <td>1.000000</td>\n",
       "    </tr>\n",
       "  </tbody>\n",
       "</table>\n",
       "</div>"
      ],
      "text/plain": [
       "          avg_views  total_videos     followers  engagement_rate   frequency  \\\n",
       "count  2.640000e+02    264.000000  2.640000e+02       264.000000  264.000000   \n",
       "mean   3.712888e+05     44.734848  3.364726e+05         0.037695    0.529313   \n",
       "std    4.329574e+05     34.037970  4.995458e+05         0.016577    0.367324   \n",
       "min    1.293000e+03      2.000000  3.927000e+03         0.008474    0.037281   \n",
       "25%    9.125341e+04     22.000000  6.442500e+04         0.025235    0.284579   \n",
       "50%    2.103005e+05     38.000000  1.469500e+05         0.034959    0.478862   \n",
       "75%    4.666074e+05     61.000000  3.458750e+05         0.047538    0.808371   \n",
       "max    2.254700e+06    259.000000  3.000000e+06         0.111330    3.050578   \n",
       "\n",
       "       food_video_percentage  vi_video_percentage  \n",
       "count             264.000000           264.000000  \n",
       "mean                0.930200             0.990727  \n",
       "std                 0.115659             0.016531  \n",
       "min                 0.000000             0.902077  \n",
       "25%                 0.894630             0.990377  \n",
       "50%                 0.966365             0.997174  \n",
       "75%                 1.000000             1.000000  \n",
       "max                 1.000000             1.000000  "
      ]
     },
     "execution_count": 40,
     "metadata": {},
     "output_type": "execute_result"
    }
   ],
   "source": [
    "print(user_stats_df.shape)\n",
    "user_stats_df[['username', 'avg_views', 'total_videos', 'followers',\n",
    "               'engagement_rate', 'frequency',\n",
    "               'food_video_percentage', 'vi_video_percentage']].describe()"
   ]
  },
  {
   "cell_type": "markdown",
   "metadata": {},
   "source": [
    "**Lọc theo Phần trăm video có caption tiếng Việt và Phần trăm video liên quan sử dụng hashtag ẩm thực của user.**\n"
   ]
  },
  {
   "cell_type": "code",
   "execution_count": 41,
   "metadata": {},
   "outputs": [
    {
     "name": "stdout",
     "output_type": "stream",
     "text": [
      "(264, 18)\n",
      "Min Vietnamese Video Percentage Threshold: 0.9\n",
      "(264, 18)\n",
      "Min Food Video Percentage Threshold: 0.75\n",
      "(257, 18)\n"
     ]
    },
    {
     "data": {
      "text/html": [
       "<div>\n",
       "<style scoped>\n",
       "    .dataframe tbody tr th:only-of-type {\n",
       "        vertical-align: middle;\n",
       "    }\n",
       "\n",
       "    .dataframe tbody tr th {\n",
       "        vertical-align: top;\n",
       "    }\n",
       "\n",
       "    .dataframe thead th {\n",
       "        text-align: right;\n",
       "    }\n",
       "</style>\n",
       "<table border=\"1\" class=\"dataframe\">\n",
       "  <thead>\n",
       "    <tr style=\"text-align: right;\">\n",
       "      <th></th>\n",
       "      <th>username</th>\n",
       "      <th>total_views</th>\n",
       "      <th>avg_views</th>\n",
       "      <th>total_likes</th>\n",
       "      <th>avg_likes</th>\n",
       "      <th>total_comments</th>\n",
       "      <th>total_shares</th>\n",
       "      <th>total_collects</th>\n",
       "      <th>total_videos</th>\n",
       "      <th>followers</th>\n",
       "      <th>likes</th>\n",
       "      <th>engagement_rate</th>\n",
       "      <th>total_engagement</th>\n",
       "      <th>vi_video_percentage</th>\n",
       "      <th>days_between_videos</th>\n",
       "      <th>frequency</th>\n",
       "      <th>food_related_videos</th>\n",
       "      <th>food_video_percentage</th>\n",
       "    </tr>\n",
       "  </thead>\n",
       "  <tbody>\n",
       "    <tr>\n",
       "      <th>218</th>\n",
       "      <td>tebetravelmade</td>\n",
       "      <td>3733.0</td>\n",
       "      <td>1.866500e+03</td>\n",
       "      <td>83.0</td>\n",
       "      <td>41.500000</td>\n",
       "      <td>0.0</td>\n",
       "      <td>13.0</td>\n",
       "      <td>20.0</td>\n",
       "      <td>2</td>\n",
       "      <td>55100.0</td>\n",
       "      <td>398.0</td>\n",
       "      <td>0.031074</td>\n",
       "      <td>116.0</td>\n",
       "      <td>0.983936</td>\n",
       "      <td>7.479332</td>\n",
       "      <td>0.133702</td>\n",
       "      <td>2</td>\n",
       "      <td>1.000000</td>\n",
       "    </tr>\n",
       "    <tr>\n",
       "      <th>210</th>\n",
       "      <td>seonguk_vn</td>\n",
       "      <td>348400.0</td>\n",
       "      <td>1.742000e+05</td>\n",
       "      <td>13050.0</td>\n",
       "      <td>6525.000000</td>\n",
       "      <td>141.0</td>\n",
       "      <td>81.0</td>\n",
       "      <td>180.0</td>\n",
       "      <td>2</td>\n",
       "      <td>310500.0</td>\n",
       "      <td>2449.0</td>\n",
       "      <td>0.038611</td>\n",
       "      <td>13452.0</td>\n",
       "      <td>1.000000</td>\n",
       "      <td>2.166944</td>\n",
       "      <td>0.461479</td>\n",
       "      <td>2</td>\n",
       "      <td>1.000000</td>\n",
       "    </tr>\n",
       "    <tr>\n",
       "      <th>35</th>\n",
       "      <td>be_mup1</td>\n",
       "      <td>2487700.0</td>\n",
       "      <td>1.243850e+06</td>\n",
       "      <td>74200.0</td>\n",
       "      <td>37100.000000</td>\n",
       "      <td>2401.0</td>\n",
       "      <td>6418.0</td>\n",
       "      <td>3815.0</td>\n",
       "      <td>2</td>\n",
       "      <td>23900.0</td>\n",
       "      <td>862.0</td>\n",
       "      <td>0.034905</td>\n",
       "      <td>86834.0</td>\n",
       "      <td>1.000000</td>\n",
       "      <td>15.751172</td>\n",
       "      <td>0.063487</td>\n",
       "      <td>2</td>\n",
       "      <td>1.000000</td>\n",
       "    </tr>\n",
       "    <tr>\n",
       "      <th>116</th>\n",
       "      <td>homnay_tuiangi</td>\n",
       "      <td>165500.0</td>\n",
       "      <td>8.275000e+04</td>\n",
       "      <td>2075.0</td>\n",
       "      <td>1037.500000</td>\n",
       "      <td>48.0</td>\n",
       "      <td>312.0</td>\n",
       "      <td>158.0</td>\n",
       "      <td>2</td>\n",
       "      <td>146900.0</td>\n",
       "      <td>19800.0</td>\n",
       "      <td>0.015668</td>\n",
       "      <td>2593.0</td>\n",
       "      <td>1.000000</td>\n",
       "      <td>24.858767</td>\n",
       "      <td>0.040227</td>\n",
       "      <td>2</td>\n",
       "      <td>1.000000</td>\n",
       "    </tr>\n",
       "    <tr>\n",
       "      <th>74</th>\n",
       "      <td>datvaingang</td>\n",
       "      <td>4501500.0</td>\n",
       "      <td>1.500500e+06</td>\n",
       "      <td>208363.0</td>\n",
       "      <td>69454.333333</td>\n",
       "      <td>1326.0</td>\n",
       "      <td>5285.0</td>\n",
       "      <td>9272.0</td>\n",
       "      <td>3</td>\n",
       "      <td>154300.0</td>\n",
       "      <td>488.0</td>\n",
       "      <td>0.049816</td>\n",
       "      <td>224246.0</td>\n",
       "      <td>1.000000</td>\n",
       "      <td>5.964705</td>\n",
       "      <td>0.167653</td>\n",
       "      <td>3</td>\n",
       "      <td>1.000000</td>\n",
       "    </tr>\n",
       "    <tr>\n",
       "      <th>...</th>\n",
       "      <td>...</td>\n",
       "      <td>...</td>\n",
       "      <td>...</td>\n",
       "      <td>...</td>\n",
       "      <td>...</td>\n",
       "      <td>...</td>\n",
       "      <td>...</td>\n",
       "      <td>...</td>\n",
       "      <td>...</td>\n",
       "      <td>...</td>\n",
       "      <td>...</td>\n",
       "      <td>...</td>\n",
       "      <td>...</td>\n",
       "      <td>...</td>\n",
       "      <td>...</td>\n",
       "      <td>...</td>\n",
       "      <td>...</td>\n",
       "      <td>...</td>\n",
       "    </tr>\n",
       "    <tr>\n",
       "      <th>87</th>\n",
       "      <td>dung.thch.n</td>\n",
       "      <td>47800900.0</td>\n",
       "      <td>3.824072e+05</td>\n",
       "      <td>1296448.0</td>\n",
       "      <td>10371.584000</td>\n",
       "      <td>11757.0</td>\n",
       "      <td>82631.0</td>\n",
       "      <td>54204.0</td>\n",
       "      <td>125</td>\n",
       "      <td>148300.0</td>\n",
       "      <td>416.0</td>\n",
       "      <td>0.030230</td>\n",
       "      <td>1445040.0</td>\n",
       "      <td>0.996117</td>\n",
       "      <td>0.678241</td>\n",
       "      <td>1.474403</td>\n",
       "      <td>122</td>\n",
       "      <td>0.976000</td>\n",
       "    </tr>\n",
       "    <tr>\n",
       "      <th>257</th>\n",
       "      <td>wottueat</td>\n",
       "      <td>34871765.0</td>\n",
       "      <td>2.165948e+05</td>\n",
       "      <td>648678.0</td>\n",
       "      <td>4029.055901</td>\n",
       "      <td>12359.0</td>\n",
       "      <td>106688.0</td>\n",
       "      <td>35061.0</td>\n",
       "      <td>161</td>\n",
       "      <td>37300.0</td>\n",
       "      <td>2622.0</td>\n",
       "      <td>0.023021</td>\n",
       "      <td>802786.0</td>\n",
       "      <td>0.994266</td>\n",
       "      <td>0.690764</td>\n",
       "      <td>1.447673</td>\n",
       "      <td>161</td>\n",
       "      <td>1.000000</td>\n",
       "    </tr>\n",
       "    <tr>\n",
       "      <th>232</th>\n",
       "      <td>tinhtungtangvn</td>\n",
       "      <td>45901933.0</td>\n",
       "      <td>2.638042e+05</td>\n",
       "      <td>1419104.0</td>\n",
       "      <td>8155.770115</td>\n",
       "      <td>34194.0</td>\n",
       "      <td>643654.0</td>\n",
       "      <td>354676.0</td>\n",
       "      <td>174</td>\n",
       "      <td>295300.0</td>\n",
       "      <td>5455.0</td>\n",
       "      <td>0.053410</td>\n",
       "      <td>2451628.0</td>\n",
       "      <td>1.000000</td>\n",
       "      <td>0.650330</td>\n",
       "      <td>1.537681</td>\n",
       "      <td>170</td>\n",
       "      <td>0.977011</td>\n",
       "    </tr>\n",
       "    <tr>\n",
       "      <th>246</th>\n",
       "      <td>tunauan68</td>\n",
       "      <td>76556779.0</td>\n",
       "      <td>3.112064e+05</td>\n",
       "      <td>1902577.0</td>\n",
       "      <td>7734.052846</td>\n",
       "      <td>121802.0</td>\n",
       "      <td>53384.0</td>\n",
       "      <td>131475.0</td>\n",
       "      <td>246</td>\n",
       "      <td>278300.0</td>\n",
       "      <td>18.0</td>\n",
       "      <td>0.028858</td>\n",
       "      <td>2209238.0</td>\n",
       "      <td>0.991946</td>\n",
       "      <td>0.593808</td>\n",
       "      <td>1.684046</td>\n",
       "      <td>235</td>\n",
       "      <td>0.955285</td>\n",
       "    </tr>\n",
       "    <tr>\n",
       "      <th>219</th>\n",
       "      <td>th.gii.gia.v</td>\n",
       "      <td>14014415.0</td>\n",
       "      <td>5.410971e+04</td>\n",
       "      <td>140469.0</td>\n",
       "      <td>542.351351</td>\n",
       "      <td>2132.0</td>\n",
       "      <td>49524.0</td>\n",
       "      <td>57625.0</td>\n",
       "      <td>259</td>\n",
       "      <td>52700.0</td>\n",
       "      <td>94.0</td>\n",
       "      <td>0.017821</td>\n",
       "      <td>249750.0</td>\n",
       "      <td>1.000000</td>\n",
       "      <td>0.327807</td>\n",
       "      <td>3.050578</td>\n",
       "      <td>259</td>\n",
       "      <td>1.000000</td>\n",
       "    </tr>\n",
       "  </tbody>\n",
       "</table>\n",
       "<p>257 rows × 18 columns</p>\n",
       "</div>"
      ],
      "text/plain": [
       "           username  total_views     avg_views  total_likes     avg_likes  \\\n",
       "218  tebetravelmade       3733.0  1.866500e+03         83.0     41.500000   \n",
       "210      seonguk_vn     348400.0  1.742000e+05      13050.0   6525.000000   \n",
       "35          be_mup1    2487700.0  1.243850e+06      74200.0  37100.000000   \n",
       "116  homnay_tuiangi     165500.0  8.275000e+04       2075.0   1037.500000   \n",
       "74      datvaingang    4501500.0  1.500500e+06     208363.0  69454.333333   \n",
       "..              ...          ...           ...          ...           ...   \n",
       "87      dung.thch.n   47800900.0  3.824072e+05    1296448.0  10371.584000   \n",
       "257        wottueat   34871765.0  2.165948e+05     648678.0   4029.055901   \n",
       "232  tinhtungtangvn   45901933.0  2.638042e+05    1419104.0   8155.770115   \n",
       "246       tunauan68   76556779.0  3.112064e+05    1902577.0   7734.052846   \n",
       "219    th.gii.gia.v   14014415.0  5.410971e+04     140469.0    542.351351   \n",
       "\n",
       "     total_comments  total_shares  total_collects  total_videos  followers  \\\n",
       "218             0.0          13.0            20.0             2    55100.0   \n",
       "210           141.0          81.0           180.0             2   310500.0   \n",
       "35           2401.0        6418.0          3815.0             2    23900.0   \n",
       "116            48.0         312.0           158.0             2   146900.0   \n",
       "74           1326.0        5285.0          9272.0             3   154300.0   \n",
       "..              ...           ...             ...           ...        ...   \n",
       "87          11757.0       82631.0         54204.0           125   148300.0   \n",
       "257         12359.0      106688.0         35061.0           161    37300.0   \n",
       "232         34194.0      643654.0        354676.0           174   295300.0   \n",
       "246        121802.0       53384.0        131475.0           246   278300.0   \n",
       "219          2132.0       49524.0         57625.0           259    52700.0   \n",
       "\n",
       "       likes  engagement_rate  total_engagement  vi_video_percentage  \\\n",
       "218    398.0         0.031074             116.0             0.983936   \n",
       "210   2449.0         0.038611           13452.0             1.000000   \n",
       "35     862.0         0.034905           86834.0             1.000000   \n",
       "116  19800.0         0.015668            2593.0             1.000000   \n",
       "74     488.0         0.049816          224246.0             1.000000   \n",
       "..       ...              ...               ...                  ...   \n",
       "87     416.0         0.030230         1445040.0             0.996117   \n",
       "257   2622.0         0.023021          802786.0             0.994266   \n",
       "232   5455.0         0.053410         2451628.0             1.000000   \n",
       "246     18.0         0.028858         2209238.0             0.991946   \n",
       "219     94.0         0.017821          249750.0             1.000000   \n",
       "\n",
       "     days_between_videos  frequency  food_related_videos  \\\n",
       "218             7.479332   0.133702                    2   \n",
       "210             2.166944   0.461479                    2   \n",
       "35             15.751172   0.063487                    2   \n",
       "116            24.858767   0.040227                    2   \n",
       "74              5.964705   0.167653                    3   \n",
       "..                   ...        ...                  ...   \n",
       "87              0.678241   1.474403                  122   \n",
       "257             0.690764   1.447673                  161   \n",
       "232             0.650330   1.537681                  170   \n",
       "246             0.593808   1.684046                  235   \n",
       "219             0.327807   3.050578                  259   \n",
       "\n",
       "     food_video_percentage  \n",
       "218               1.000000  \n",
       "210               1.000000  \n",
       "35                1.000000  \n",
       "116               1.000000  \n",
       "74                1.000000  \n",
       "..                     ...  \n",
       "87                0.976000  \n",
       "257               1.000000  \n",
       "232               0.977011  \n",
       "246               0.955285  \n",
       "219               1.000000  \n",
       "\n",
       "[257 rows x 18 columns]"
      ]
     },
     "execution_count": 41,
     "metadata": {},
     "output_type": "execute_result"
    }
   ],
   "source": [
    "print(user_stats_df.shape)\n",
    "\n",
    "# Bước 0: Lọc theo vi_video_percentage\n",
    "min_vi_perc_threshold = 0.90\n",
    "users_by_threshold = user_stats_df[\n",
    "    user_stats_df[\"vi_video_percentage\"] >= min_vi_perc_threshold\n",
    "]\n",
    "print(f\"Min Vietnamese Video Percentage Threshold: {min_vi_perc_threshold}\")\n",
    "print(users_by_threshold.shape)\n",
    "\n",
    "# Bước 1: Lọc theo food_video_percentage\n",
    "# min_food_perc_threshold = users_by_threshold[\"food_video_percentage\"].quantile(\n",
    "#     0.6)\n",
    "min_food_perc_threshold = 0.75\n",
    "users_by_threshold = users_by_threshold[\n",
    "    users_by_threshold[\"food_video_percentage\"] >= min_food_perc_threshold\n",
    "]\n",
    "print(f\"Min Food Video Percentage Threshold: {min_food_perc_threshold}\")\n",
    "print(users_by_threshold.shape)\n",
    "\n",
    "# # Bước 2: Lọc tiếp theo avg_views\n",
    "# min_avg_views_threshold = users_by_threshold[\"avg_views\"].quantile(0.1)\n",
    "# users_by_threshold = users_by_threshold[\n",
    "#     users_by_threshold[\"avg_views\"] >= min_avg_views_threshold\n",
    "# ]\n",
    "# print(f\"Min Average Views Threshold: {min_avg_views_threshold}\")\n",
    "# print(users_by_threshold.shape)\n",
    "\n",
    "# # Bước 3: Lọc tiếp theo engagement_rate\n",
    "# min_eng_rate_threshold = users_by_threshold[\"engagement_rate\"].quantile(0.1)\n",
    "# users_by_threshold = users_by_threshold[\n",
    "#     users_by_threshold[\"engagement_rate\"] >= min_eng_rate_threshold\n",
    "# ]\n",
    "# print(f\"Min Engagement Rate Threshold: {min_eng_rate_threshold}\")\n",
    "# print(users_by_threshold.shape)\n",
    "\n",
    "# # Bước 4: Lọc cuối cùng theo frequency\n",
    "# min_freq_threshold = users_by_threshold[\"frequency\"].quantile(0.1)\n",
    "# users_by_threshold = users_by_threshold[\n",
    "#     users_by_threshold[\"frequency\"] >= min_freq_threshold\n",
    "# ]\n",
    "# print(f\"Min Frequency Threshold: {min_freq_threshold}\")\n",
    "# print(users_by_threshold.shape)\n",
    "\n",
    "users_by_threshold.sort_values(by=\"total_videos\", ascending=True)"
   ]
  },
  {
   "cell_type": "code",
   "execution_count": 42,
   "metadata": {},
   "outputs": [
    {
     "data": {
      "text/plain": [
       "(69306, 80)"
      ]
     },
     "execution_count": 42,
     "metadata": {},
     "output_type": "execute_result"
    }
   ],
   "source": [
    "video_info_df[video_info_df['author.uniqueId'].isin(\n",
    "    users_by_threshold['username'])].shape"
   ]
  },
  {
   "cell_type": "markdown",
   "metadata": {},
   "source": [
    "Lưu danh sách user cuối cùng để crawl lại tất cả cho đồng bộ.\n"
   ]
  },
  {
   "cell_type": "code",
   "execution_count": 43,
   "metadata": {},
   "outputs": [
    {
     "name": "stdout",
     "output_type": "stream",
     "text": [
      "Successfully wrote 257 items to data/lists/final_users_list.txt\n"
     ]
    }
   ],
   "source": [
    "def write_list_to_file(file_path, data_list):\n",
    "    try:\n",
    "        with open(file_path, \"w\", encoding=\"utf-8\") as file:\n",
    "            for item in data_list:\n",
    "                file.write(str(item) + \"\\n\")\n",
    "        print(f\"Successfully wrote {len(data_list)} items to {file_path}\")\n",
    "    except Exception as e:\n",
    "        print(f\"Error writing to file: {e}\")\n",
    "\n",
    "\n",
    "write_list_to_file('data/lists/final_users_list.txt',\n",
    "                   list(users_by_threshold['username'].unique()))"
   ]
  },
  {
   "cell_type": "markdown",
   "metadata": {},
   "source": [
    "### Lọc bằng cách tính điểm\n"
   ]
  },
  {
   "cell_type": "code",
   "execution_count": 44,
   "metadata": {},
   "outputs": [],
   "source": [
    "\n",
    "# def compute_score(df, columns_weights):\n",
    "#     \"\"\"\n",
    "#     Tính điểm tổng hợp cho DataFrame user_stats_df với các cột và trọng số linh hoạt.\n",
    "\n",
    "#     Công thức tính điểm:\n",
    "#       score = sum(weight_i * norm_column_i)\n",
    "#     \"\"\"\n",
    "#     df_copy = df.copy()\n",
    "\n",
    "#     for col in columns_weights.keys():\n",
    "#         df_copy[col] = df_copy[col].fillna(0).clip(lower=0)\n",
    "\n",
    "#     max_values = {col: df_copy[col].max(\n",
    "#     ) or 1 for col in columns_weights.keys()}\n",
    "\n",
    "#     for col in columns_weights.keys():\n",
    "#         df_copy[f\"norm_{col}\"] = df_copy[col] / max_values[col]\n",
    "\n",
    "#     df_copy[\"score\"] = sum(\n",
    "#         columns_weights[col] * df_copy[f\"norm_{col}\"]*100\n",
    "#         for col in columns_weights.keys()\n",
    "#     )\n",
    "\n",
    "#     return df_copy"
   ]
  },
  {
   "cell_type": "code",
   "execution_count": 45,
   "metadata": {},
   "outputs": [],
   "source": [
    "\n",
    "# # Ví dụ sử dụng:\n",
    "# columns_weights = {\n",
    "#     \"food_video_percentage\": 0.35,\n",
    "#     \"engagement_rate\": 0.05,\n",
    "#     \"avg_views\": 0.35,\n",
    "#     \"frequency\": 0.1,\n",
    "#     \"followers\": 0.35\n",
    "# }\n",
    "# # columns_weights = {\n",
    "# #     \"avg_views\": 0.35,\n",
    "# #     \"engagement_rate\": 0.25,\n",
    "# #     \"followers\": 0.35,\n",
    "# #     \"frequency\": 0.05\n",
    "# # }\n",
    "\n",
    "# # Tính điểm cho DataFrame\n",
    "# # users_by_score = compute_score(\n",
    "# #     user_stats_df[user_stats_df['vi_video_percentage'] >= 0.8], columns_weights)\n",
    "# # users_by_score = compute_score(users_by_threshold, columns_weights)\n",
    "# users_by_score = compute_score(\n",
    "#     users_by_threshold, columns_weights)\n",
    "\n",
    "# # In kết quả\n",
    "# users_by_score.sort_values('score', ascending=False)\n",
    "\n",
    "# # Sau đó bạn có thể:\n",
    "# users_by_score = users_by_score.sort_values(\n",
    "#     \"score\", ascending=False, ignore_index=True)\n",
    "\n",
    "# uesr_by_score_top = users_by_score.head(len(users_by_threshold))\n",
    "# display(users_by_score[[\"username\", \"score\"]].merge(user_stats_df[[\n",
    "#         'followers', 'username', 'avg_views', 'frequency', 'engagement_rate']]))"
   ]
  },
  {
   "cell_type": "code",
   "execution_count": 46,
   "metadata": {},
   "outputs": [],
   "source": [
    "# user_stats_df.columns"
   ]
  },
  {
   "cell_type": "code",
   "execution_count": 47,
   "metadata": {},
   "outputs": [],
   "source": [
    "# import json\n",
    "\n",
    "\n",
    "# def calculate_entropy_weights(df, columns_to_maximize):\n",
    "#     \"\"\"\n",
    "#     Tính trọng số (weights) cho mỗi cột trong DataFrame df dựa trên phương pháp Entropy Weighting.\n",
    "#     \"\"\"\n",
    "#     # 1) Chuẩn hóa dữ liệu về [0..1]\n",
    "#     df_normalized = df[columns_to_maximize].copy()\n",
    "#     for col in columns_to_maximize:\n",
    "#         df_normalized[col] = (df[col] - df[col].min()) / \\\n",
    "#             (df[col].max() - df[col].min())\n",
    "\n",
    "#     # 2) Tính entropy cho mỗi cột\n",
    "#     n = len(df)  # số lượng user\n",
    "#     p = df_normalized / df_normalized.sum(axis=0)  # xác suất\n",
    "#     entropy = - (p * np.log(p + 1e-9)).sum(axis=0) / np.log(n)  # tránh log(0)\n",
    "\n",
    "#     # 3) Tính trọng số (weights) cho mỗi cột\n",
    "#     weights = (1 - entropy) / (1 - entropy).sum()\n",
    "\n",
    "#     # Trả về DataFrame với trọng số\n",
    "#     weights_df = pd.DataFrame(\n",
    "#         weights, columns=['weight'], index=columns_to_maximize)\n",
    "\n",
    "#     return weights_df\n",
    "\n",
    "\n",
    "# columns_to_maximize = ['total_views', 'avg_views', 'total_videos', 'total_engagement', 'followers',\n",
    "#                        # 'total_likes', 'avg_likes', 'total_comments', 'total_shares', 'total_collects', 'cluster', 'days_between_videos',\n",
    "#                        'engagement_rate', 'frequency', 'food_related_videos', 'food_video_percentage']\n",
    "\n",
    "\n",
    "# # Tính trọng số cho mỗi cột\n",
    "# weights_df = calculate_entropy_weights(\n",
    "#     user_stats_df, columns_to_maximize).sort_values(\"weight\")\n",
    "# display(weights_df)\n",
    "# # Xem kết quả\n",
    "# columns_weights = json.loads(weights_df.to_json())['weight']"
   ]
  },
  {
   "cell_type": "code",
   "execution_count": 48,
   "metadata": {},
   "outputs": [],
   "source": [
    "# # Tính điểm cho DataFrame\n",
    "# df_with_scores = compute_score(user_stats_df, columns_weights)\n",
    "\n",
    "# # In kết quả\n",
    "# df_with_scores.sort_values('score', ascending=False)\n",
    "\n",
    "# # Sau đó bạn có thể:\n",
    "# user_stats_df_scored = df_with_scores.sort_values(\n",
    "#     \"score\", ascending=False)\n",
    "# user_stats_df_scored[[\"username\", \"score\"]].head(100)  # Xem top 20"
   ]
  },
  {
   "cell_type": "code",
   "execution_count": 49,
   "metadata": {},
   "outputs": [],
   "source": [
    "# from sklearn.cluster import KMeans\n",
    "# columns_to_consider = ['total_views', 'avg_views', 'total_likes', 'avg_likes',\n",
    "#                        'total_comments', 'total_shares', 'total_collects',\n",
    "#                        'total_videos', 'engagement_rate', 'days_between_videos',\n",
    "#                        'food_related_videos', 'food_video_percentage', 'frequency']\n",
    "# # Sử dụng các cột để phân nhóm (có thể chuẩn hóa dữ liệu nếu cần)\n",
    "# X = user_stats_df[columns_to_consider]\n",
    "\n",
    "# # Áp dụng KMeans (giả sử chia thành 3 nhóm)\n",
    "# kmeans = KMeans(n_clusters=3)\n",
    "# user_stats_df['cluster'] = kmeans.fit_predict(X)\n",
    "\n",
    "# # Lấy các centroid của mỗi nhóm\n",
    "# centroids = kmeans.cluster_centers_\n",
    "\n",
    "# # Các cột quan trọng có thể được xác định từ các giá trị lớn trong centroids\n",
    "# centroid_df = pd.DataFrame(centroids, columns=columns_to_consider)\n",
    "# centroid_df"
   ]
  },
  {
   "cell_type": "code",
   "execution_count": 50,
   "metadata": {},
   "outputs": [],
   "source": [
    "# def get_pareto_front(df, columns_maximize):\n",
    "#     \"\"\"\n",
    "#     Tìm Pareto front trong DataFrame df, coi tất cả cột trong columns_maximize\n",
    "#     đều là \"càng lớn càng tốt\".\n",
    "\n",
    "#     Trả về sub-DataFrame gồm các hàng không bị chi phối bởi bất kỳ hàng nào khác.\n",
    "#     \"\"\"\n",
    "#     dominated = set()\n",
    "#     n = len(df)\n",
    "\n",
    "#     for i in range(n):\n",
    "#         if i in dominated:\n",
    "#             # Hàng này đã bị chi phối, không cần check nữa\n",
    "#             continue\n",
    "\n",
    "#         # Kiểm tra xem có hàng j nào chi phối i không\n",
    "#         for j in range(n):\n",
    "#             if i == j:\n",
    "#                 continue\n",
    "#             # Nếu j >= i trên toàn bộ columns,\n",
    "#             # và j > i trên ít nhất 1 cột => i bị chi phối\n",
    "#             if (df.iloc[j][columns_maximize] >= df.iloc[i][columns_maximize]).all() \\\n",
    "#                and (df.iloc[j][columns_maximize] > df.iloc[i][columns_maximize]).any():\n",
    "#                 dominated.add(i)\n",
    "#                 break\n",
    "\n",
    "#     # Các hàng không bị chi phối -> Pareto front\n",
    "#     indices_front = [idx for idx in range(n) if idx not in dominated]\n",
    "#     return df.iloc[indices_front].copy()"
   ]
  },
  {
   "cell_type": "code",
   "execution_count": 51,
   "metadata": {},
   "outputs": [],
   "source": [
    "# # Tìm Pareto front\n",
    "# pareto_df = get_pareto_front(user_stats_df, columns_to_maximize)\n",
    "\n",
    "# print(f\"Số user trên Pareto front: {len(pareto_df)}\")\n",
    "# pareto_df.head()"
   ]
  },
  {
   "cell_type": "code",
   "execution_count": 52,
   "metadata": {},
   "outputs": [],
   "source": [
    "# pareto_df.columns"
   ]
  }
 ],
 "metadata": {
  "kernelspec": {
   "display_name": ".venv",
   "language": "python",
   "name": "python3"
  },
  "language_info": {
   "codemirror_mode": {
    "name": "ipython",
    "version": 3
   },
   "file_extension": ".py",
   "mimetype": "text/x-python",
   "name": "python",
   "nbconvert_exporter": "python",
   "pygments_lexer": "ipython3",
   "version": "3.10.11"
  }
 },
 "nbformat": 4,
 "nbformat_minor": 2
}
