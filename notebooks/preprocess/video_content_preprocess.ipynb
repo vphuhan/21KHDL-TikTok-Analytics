{
 "cells": [
  {
   "cell_type": "code",
   "execution_count": 1,
   "metadata": {},
   "outputs": [],
   "source": [
    "import pandas as pd\n",
    "import os\n",
    "import json\n",
    "import numpy as np\n",
    "os.chdir(\"/Users/vophuhan/Everything/University/Năm 4/Semester 2/Ứng dụng Phân tích dữ liệu thông minh/21KHDL-TikTok-Analytics\")"
   ]
  },
  {
   "cell_type": "markdown",
   "metadata": {},
   "source": [
    "## Top 20 video mỗi tuần\n"
   ]
  },
  {
   "cell_type": "code",
   "execution_count": 2,
   "metadata": {},
   "outputs": [],
   "source": [
    "# Define data types for some columns\n",
    "dtypes = {\n",
    "    \"id\": np.object_,\n",
    "    \"video.id\": np.object_,\n",
    "    \"video.videoID\": np.object_,\n",
    "    \"user.commerceUserInfo.category\": np.object_,\n",
    "    \"user.commerceUserInfo.categoryButton\": np.object_,\n",
    "    \"BAInfo\": np.object_,\n",
    "    \"user.bioLink.link\": np.object_,\n",
    "}"
   ]
  },
  {
   "cell_type": "code",
   "execution_count": 3,
   "metadata": {},
   "outputs": [
    {
     "name": "stdout",
     "output_type": "stream",
     "text": [
      "<class 'pandas.core.frame.DataFrame'>\n",
      "RangeIndex: 1400 entries, 0 to 1399\n",
      "Data columns (total 18 columns):\n",
      " #   Column                     Non-Null Count  Dtype  \n",
      "---  ------                     --------------  -----  \n",
      " 0   year                       1400 non-null   int64  \n",
      " 1   week                       1400 non-null   int64  \n",
      " 2   weekly_score               1400 non-null   float64\n",
      " 3   weekly_score_rank          1400 non-null   float64\n",
      " 4   author.uniqueId            1400 non-null   object \n",
      " 5   video.id                   1400 non-null   object \n",
      " 6   desc                       1399 non-null   object \n",
      " 7   video.duration             1400 non-null   float64\n",
      " 8   hashtags                   1393 non-null   object \n",
      " 9   num_hashtags               1400 non-null   int64  \n",
      " 10  engagement_rate            1400 non-null   float64\n",
      " 11  video.url                  1400 non-null   object \n",
      " 12  transcript                 1332 non-null   object \n",
      " 13  takeaway_1                 1297 non-null   object \n",
      " 14  takeaway_2                 1297 non-null   object \n",
      " 15  takeaway_3                 1297 non-null   object \n",
      " 16  transcript_call_to_action  1382 non-null   object \n",
      " 17  transcript_curiosity_gap   1382 non-null   object \n",
      "dtypes: float64(4), int64(3), object(11)\n",
      "memory usage: 197.0+ KB\n"
     ]
    }
   ],
   "source": [
    "top_week_df = pd.read_csv(\n",
    "    \"data/weekly_videos_with_transcripts.csv\", dtype=dtypes)  # hoặc đã có sẵn\n",
    "top_week_df.info()"
   ]
  },
  {
   "cell_type": "markdown",
   "metadata": {},
   "source": [
    "## Đọc các file chứa phân tích transcript\n"
   ]
  },
  {
   "cell_type": "code",
   "execution_count": 4,
   "metadata": {},
   "outputs": [
    {
     "name": "stdout",
     "output_type": "stream",
     "text": [
      "❌ Lỗi khi đọc file data/transcripts/7305699777222626578.json: Expecting value: line 1 column 1 (char 0)\n",
      "❌ Lỗi khi đọc file data/transcripts/7377334374360026375.json: Expecting value: line 1 column 1 (char 0)\n",
      "❌ Lỗi khi đọc file data/transcripts/7418147024186445074.json: Expecting value: line 1 column 1 (char 0)\n"
     ]
    }
   ],
   "source": [
    "# Đường dẫn folder chứa JSON\n",
    "json_folder = 'data/transcripts'\n",
    "\n",
    "# Giả sử đây là DataFrame gốc của bạn\n",
    "\n",
    "# Danh sách lưu kết quả\n",
    "json_data_list = []\n",
    "\n",
    "# Lặp qua từng ID trong DataFrame\n",
    "for video_id in top_week_df['video.id']:\n",
    "    file_path = os.path.join(json_folder, f\"{video_id}.json\")\n",
    "    if not os.path.exists(file_path):\n",
    "        print(f\"⚠️ File không tồn tại: {file_path}\")\n",
    "        continue\n",
    "\n",
    "    try:\n",
    "        with open(file_path, 'r', encoding='utf-8') as f:\n",
    "            content = json.load(f)\n",
    "        # Thêm video.id vào nội dung JSON để merge được\n",
    "        content['video.id'] = video_id\n",
    "        json_data_list.append(content)\n",
    "    except Exception as e:\n",
    "        print(f\"❌ Lỗi khi đọc file {file_path}: {e}\")\n",
    "\n",
    "# Chuyển thành DataFrame từ danh sách JSON\n",
    "json_df = pd.DataFrame(json_data_list)"
   ]
  },
  {
   "cell_type": "markdown",
   "metadata": {},
   "source": [
    "## Tiền xử lý video content trích xuất từ transcript\n"
   ]
  },
  {
   "cell_type": "code",
   "execution_count": 5,
   "metadata": {},
   "outputs": [
    {
     "data": {
      "text/plain": [
       "Index(['category', 'hook_type', 'structure_style', 'tone_of_voice', 'pacing',\n",
       "       'has_cta', 'cta_type', 'has_personal_story', 'main_content_focus',\n",
       "       'speaking_style', 'emotion_keywords', 'video.id'],\n",
       "      dtype='object')"
      ]
     },
     "execution_count": 5,
     "metadata": {},
     "output_type": "execute_result"
    }
   ],
   "source": [
    "json_df.columns"
   ]
  },
  {
   "cell_type": "code",
   "execution_count": 6,
   "metadata": {},
   "outputs": [],
   "source": [
    "cleanned_json_df = json_df.copy()"
   ]
  },
  {
   "cell_type": "markdown",
   "metadata": {},
   "source": [
    "### Xử lý `category`.\n"
   ]
  },
  {
   "cell_type": "code",
   "execution_count": 7,
   "metadata": {},
   "outputs": [
    {
     "data": {
      "text/plain": [
       "category\n",
       "Review sản phẩm ăn uống    425\n",
       "Nấu ăn                     318\n",
       "Không liên quan ẩm thực    303\n",
       "Review quán ăn             202\n",
       "Mukbang                    134\n",
       "Thử thách ăn uống           37\n",
       "Mẹo bếp                      3\n",
       "Kể chuyện                    2\n",
       "Review địa điểm ăn uống      2\n",
       "Trải nghiệm cá nhân          1\n",
       "Ăn thử và phản ứng           1\n",
       "Thử sản phẩm ăn uống         1\n",
       "Phản hồi bình luận           1\n",
       "Name: count, dtype: int64"
      ]
     },
     "execution_count": 7,
     "metadata": {},
     "output_type": "execute_result"
    }
   ],
   "source": [
    "json_df['category'].explode().value_counts()"
   ]
  },
  {
   "cell_type": "markdown",
   "metadata": {},
   "source": [
    "Cột `category` có label nhiễu do Gemini tự tạo.\n"
   ]
  },
  {
   "cell_type": "code",
   "execution_count": 8,
   "metadata": {},
   "outputs": [],
   "source": [
    "def normalize_list_column(value, mapping):\n",
    "    try:\n",
    "        parsed = ast.literal_eval(value) if isinstance(\n",
    "            value, str) and value.startswith('[') else value\n",
    "        if isinstance(parsed, list):\n",
    "            return [mapping.get(item, item) for item in parsed]\n",
    "        else:\n",
    "            return [mapping.get(parsed, parsed)]\n",
    "    except:\n",
    "        return [value]"
   ]
  },
  {
   "cell_type": "code",
   "execution_count": 9,
   "metadata": {},
   "outputs": [
    {
     "data": {
      "text/plain": [
       "category\n",
       "Review sản phẩm ăn uống          426\n",
       "Nấu ăn                           321\n",
       "Audio không liên quan ẩm thực    303\n",
       "Review địa điểm ăn uống          204\n",
       "Mukbang                          135\n",
       "Thử thách ăn uống                 37\n",
       "Khác                               4\n",
       "Name: count, dtype: int64"
      ]
     },
     "execution_count": 9,
     "metadata": {},
     "output_type": "execute_result"
    }
   ],
   "source": [
    "# Mapping từ bạn đã định nghĩa\n",
    "category_mapping = {\n",
    "    'Mẹo bếp': 'Nấu ăn',\n",
    "    'Kể chuyện': 'Khác',\n",
    "    'Trải nghiệm cá nhân': 'Khác',\n",
    "    'Phản hồi bình luận': 'Khác',\n",
    "    'Review quán ăn': 'Review địa điểm ăn uống',\n",
    "    'Ăn thử và phản ứng': 'Mukbang',\n",
    "    'Thử sản phẩm ăn uống': 'Review sản phẩm ăn uống',\n",
    "    'Không liên quan ẩm thực': 'Audio không liên quan ẩm thực'\n",
    "}\n",
    "\n",
    "\n",
    "# Áp dụng chuẩn hoá category\n",
    "cleanned_json_df['category'] = cleanned_json_df['category'].apply(\n",
    "    lambda x: normalize_list_column(x, category_mapping))\n",
    "\n",
    "\n",
    "cleanned_json_df['category'].explode().value_counts()"
   ]
  },
  {
   "cell_type": "markdown",
   "metadata": {},
   "source": [
    "### Xử lý cột `hook_type`.\n"
   ]
  },
  {
   "cell_type": "code",
   "execution_count": 10,
   "metadata": {},
   "outputs": [
    {
     "data": {
      "text/plain": [
       "hook_type\n",
       "Gây tò mò             770\n",
       "Vào thẳng món         531\n",
       "Kể chuyện             125\n",
       "Phản hồi bình luận     94\n",
       "Đặt câu hỏi            68\n",
       "Khuyến mãi             15\n",
       "So sánh                 5\n",
       "Cảnh báo                1\n",
       "Name: count, dtype: int64"
      ]
     },
     "execution_count": 10,
     "metadata": {},
     "output_type": "execute_result"
    }
   ],
   "source": [
    "cleanned_json_df['hook_type'].explode().value_counts()"
   ]
  },
  {
   "cell_type": "code",
   "execution_count": 11,
   "metadata": {},
   "outputs": [
    {
     "data": {
      "text/plain": [
       "hook_type\n",
       "Gây tò mò             771\n",
       "Vào thẳng món         531\n",
       "Kể chuyện             125\n",
       "Phản hồi bình luận     94\n",
       "Đặt câu hỏi            68\n",
       "Khuyến mãi             15\n",
       "So sánh                 5\n",
       "Name: count, dtype: int64"
      ]
     },
     "execution_count": 11,
     "metadata": {},
     "output_type": "execute_result"
    }
   ],
   "source": [
    "hook_mapping = {\n",
    "    'Cảnh báo': 'Gây tò mò',\n",
    "    # 'So sánh': 'Khác',\n",
    "    # 'Khuyến mãi': 'Khác'\n",
    "}\n",
    "\n",
    "cleanned_json_df['hook_type'] = cleanned_json_df['hook_type'].apply(\n",
    "    lambda x: normalize_list_column(x, hook_mapping)\n",
    ")\n",
    "\n",
    "cleanned_json_df['hook_type'].explode().value_counts()"
   ]
  },
  {
   "cell_type": "markdown",
   "metadata": {},
   "source": [
    "### Xử lý cột `structure_style`.\n"
   ]
  },
  {
   "cell_type": "code",
   "execution_count": 12,
   "metadata": {},
   "outputs": [
    {
     "data": {
      "text/plain": [
       "structure_style\n",
       "Cảm nhận từng món           466\n",
       "Ăn thử và phản ứng          433\n",
       "Hướng dẫn từng bước         319\n",
       "Kể chuyện kết hợp review    229\n",
       "Mô tả kết hợp tương tác     181\n",
       "Liệt kê món                 111\n",
       "So sánh món                  19\n",
       "Name: count, dtype: int64"
      ]
     },
     "execution_count": 12,
     "metadata": {},
     "output_type": "execute_result"
    }
   ],
   "source": [
    "cleanned_json_df['structure_style'].explode().value_counts()"
   ]
  },
  {
   "cell_type": "code",
   "execution_count": 13,
   "metadata": {},
   "outputs": [
    {
     "data": {
      "text/plain": [
       "tone_of_voice\n",
       "Thân mật      1023\n",
       "Hào hứng       636\n",
       "Hài hước       254\n",
       "Ngạc nhiên      79\n",
       "Chân thành      24\n",
       "Bất mãn         23\n",
       "Trung lập       21\n",
       "Khác             6\n",
       "Thất vọng        3\n",
       "Name: count, dtype: int64"
      ]
     },
     "execution_count": 13,
     "metadata": {},
     "output_type": "execute_result"
    }
   ],
   "source": [
    "tone_mapping = {\n",
    "    'Cảm nhận từng món': 'Ăn thử và phản ứng',\n",
    "    'Bốc phốt': 'Bất mãn',\n",
    "    'Ức chế': 'Bất mãn',\n",
    "    'Bất lực': 'Bất mãn',\n",
    "    'Bức xúc': 'Bất mãn',\n",
    "    'Tiếc nuối': 'Bất mãn',\n",
    "    'Tò mò': 'Khác',\n",
    "    'Cảm xúc': 'Khác',\n",
    "    'Tự tin': 'Hào hứng',\n",
    "    'Nghiêm túc': 'Trung lập',\n",
    "    'Chia sẻ': 'Khác',\n",
    "    'Tự nhiên': 'Thân mật',\n",
    "}\n",
    "\n",
    "cleanned_json_df['tone_of_voice'] = cleanned_json_df['tone_of_voice'].apply(\n",
    "    lambda x: normalize_list_column(x, tone_mapping)\n",
    ")\n",
    "\n",
    "cleanned_json_df['tone_of_voice'].explode().value_counts()"
   ]
  },
  {
   "cell_type": "markdown",
   "metadata": {},
   "source": [
    "### Xử lý cột `tone_of_voice`.\n"
   ]
  },
  {
   "cell_type": "code",
   "execution_count": 14,
   "metadata": {},
   "outputs": [
    {
     "data": {
      "text/plain": [
       "tone_of_voice\n",
       "Thân mật      1023\n",
       "Hào hứng       636\n",
       "Hài hước       254\n",
       "Ngạc nhiên      79\n",
       "Chân thành      24\n",
       "Bất mãn         23\n",
       "Trung lập       21\n",
       "Khác             6\n",
       "Thất vọng        3\n",
       "Name: count, dtype: int64"
      ]
     },
     "execution_count": 14,
     "metadata": {},
     "output_type": "execute_result"
    }
   ],
   "source": [
    "cleanned_json_df['tone_of_voice'].explode().value_counts()"
   ]
  },
  {
   "cell_type": "code",
   "execution_count": 15,
   "metadata": {},
   "outputs": [
    {
     "data": {
      "text/plain": [
       "tone_of_voice\n",
       "Thân mật      1023\n",
       "Hào hứng       636\n",
       "Hài hước       254\n",
       "Ngạc nhiên      79\n",
       "Bất mãn         26\n",
       "Chân thành      24\n",
       "Trung lập       21\n",
       "Khác             6\n",
       "Name: count, dtype: int64"
      ]
     },
     "execution_count": 15,
     "metadata": {},
     "output_type": "execute_result"
    }
   ],
   "source": [
    "tone_mapping = {\n",
    "    'Thất vọng': 'Bất mãn',\n",
    "    'Bốc phốt': 'Bất mãn',\n",
    "    'Ức chế': 'Bất mãn',\n",
    "    'Bất lực': 'Bất mãn',\n",
    "    'Bức xúc': 'Bất mãn',\n",
    "    'Tiếc nuối': 'Bất mãn',\n",
    "    'Tò mò': 'Khác',\n",
    "    'Cảm xúc': 'Khác',\n",
    "    'Tự tin': 'Hào hứng',\n",
    "    'Nghiêm túc': 'Trung lập',\n",
    "    'Chia sẻ': 'Khác',\n",
    "    'Tự nhiên': 'Thân mật',\n",
    "}\n",
    "\n",
    "cleanned_json_df['tone_of_voice'] = cleanned_json_df['tone_of_voice'].apply(\n",
    "    lambda x: normalize_list_column(x, tone_mapping)\n",
    ")\n",
    "\n",
    "cleanned_json_df['tone_of_voice'].explode().value_counts()"
   ]
  },
  {
   "cell_type": "markdown",
   "metadata": {},
   "source": [
    "### Xử lý cột `pacing`.\n"
   ]
  },
  {
   "cell_type": "code",
   "execution_count": 16,
   "metadata": {},
   "outputs": [
    {
     "data": {
      "text/plain": [
       "pacing\n",
       "Thay đổi    660\n",
       "Nhanh       344\n",
       "Chậm         95\n",
       "Name: count, dtype: int64"
      ]
     },
     "execution_count": 16,
     "metadata": {},
     "output_type": "execute_result"
    }
   ],
   "source": [
    "cleanned_json_df['pacing'].explode().value_counts()"
   ]
  },
  {
   "cell_type": "markdown",
   "metadata": {},
   "source": [
    "### Xử lý cột `has_cta`.\n"
   ]
  },
  {
   "cell_type": "code",
   "execution_count": 17,
   "metadata": {},
   "outputs": [
    {
     "data": {
      "text/plain": [
       "has_cta\n",
       "True     872\n",
       "False    222\n",
       "Name: count, dtype: int64"
      ]
     },
     "execution_count": 17,
     "metadata": {},
     "output_type": "execute_result"
    }
   ],
   "source": [
    "cleanned_json_df['has_cta'].explode().value_counts()"
   ]
  },
  {
   "cell_type": "code",
   "execution_count": 18,
   "metadata": {},
   "outputs": [],
   "source": [
    "cleanned_json_df['has_cta'] = cleanned_json_df['has_cta'].astype('bool')"
   ]
  },
  {
   "cell_type": "markdown",
   "metadata": {},
   "source": [
    "### Xử lý cột `cta_type`.\n"
   ]
  },
  {
   "cell_type": "code",
   "execution_count": 19,
   "metadata": {},
   "outputs": [
    {
     "data": {
      "text/plain": [
       "cta_type\n",
       "Follow           376\n",
       "Đến ăn thử       354\n",
       "Comment          236\n",
       "Xem tiếp         128\n",
       "Tag bạn bè       121\n",
       "Lưu công thức    101\n",
       "Ăn thử            80\n",
       "Mời ăn thử         6\n",
       "Tham khảo          3\n",
       "Liên hệ            2\n",
       "Like               1\n",
       "Đặt hàng           1\n",
       "Bình chọn          1\n",
       "Bye bye            1\n",
       "Cmt                1\n",
       "Gọi điện           1\n",
       "Khuyến mãi         1\n",
       "Thử nghiệm         1\n",
       "Mua hàng           1\n",
       "Name: count, dtype: int64"
      ]
     },
     "execution_count": 19,
     "metadata": {},
     "output_type": "execute_result"
    }
   ],
   "source": [
    "cleanned_json_df['cta_type'].explode().value_counts()"
   ]
  },
  {
   "cell_type": "code",
   "execution_count": 20,
   "metadata": {},
   "outputs": [
    {
     "data": {
      "text/plain": [
       "cta_type\n",
       "Ăn thử           440\n",
       "Follow           376\n",
       "Tương tác        359\n",
       "Xem tiếp         128\n",
       "Lưu công thức    104\n",
       "Liên hệ            5\n",
       "Khác               4\n",
       "Name: count, dtype: int64"
      ]
     },
     "execution_count": 20,
     "metadata": {},
     "output_type": "execute_result"
    }
   ],
   "source": [
    "cta_mapping = {\n",
    "    'Đến ăn thử': 'Ăn thử',\n",
    "    'Mời ăn thử': 'Ăn thử',\n",
    "    'Tham khảo': 'Lưu công thức',\n",
    "    'Comment': 'Tương tác',\n",
    "    'Like': 'Tương tác',\n",
    "    'Cmt': 'Tương tác',\n",
    "    'Tag bạn bè': 'Tương tác',\n",
    "    'Đặt hàng': 'Liên hệ',\n",
    "    'Bình chọn': 'Khác',\n",
    "    'Bye bye': 'Khác',\n",
    "    'Gọi điện': 'Liên hệ',\n",
    "    'Khuyến mãi': 'Khác',\n",
    "    'Thử nghiệm': 'Khác',\n",
    "    'Mua hàng': 'Liên hệ',\n",
    "}\n",
    "\n",
    "cleanned_json_df['cta_type'] = cleanned_json_df['cta_type'].apply(\n",
    "    lambda x: normalize_list_column(x, cta_mapping)\n",
    ")\n",
    "\n",
    "cleanned_json_df['cta_type'].explode().value_counts()"
   ]
  },
  {
   "cell_type": "markdown",
   "metadata": {},
   "source": [
    "### Xử lý cột `has_personal_story`.\n"
   ]
  },
  {
   "cell_type": "code",
   "execution_count": 21,
   "metadata": {},
   "outputs": [
    {
     "data": {
      "text/plain": [
       "has_personal_story\n",
       "True     905\n",
       "False    189\n",
       "Name: count, dtype: int64"
      ]
     },
     "execution_count": 21,
     "metadata": {},
     "output_type": "execute_result"
    }
   ],
   "source": [
    "cleanned_json_df['has_personal_story'].explode().value_counts()"
   ]
  },
  {
   "cell_type": "code",
   "execution_count": 22,
   "metadata": {},
   "outputs": [],
   "source": [
    "cleanned_json_df['has_personal_story'] = cleanned_json_df['has_personal_story'].astype(\n",
    "    'bool')"
   ]
  },
  {
   "cell_type": "markdown",
   "metadata": {},
   "source": [
    "### Xử lý cột `main_content_focus`.\n"
   ]
  },
  {
   "cell_type": "code",
   "execution_count": 23,
   "metadata": {},
   "outputs": [
    {
     "data": {
      "text/plain": [
       "main_content_focus\n",
       "Món ăn                 797\n",
       "Cảm nhận khi ăn        708\n",
       "Sản phẩm ăn uống       405\n",
       "Trải nghiệm cá nhân    392\n",
       "Công thức nấu ăn       286\n",
       "Quán ăn                224\n",
       "Kinh nghiệm cá nhân      1\n",
       "Name: count, dtype: int64"
      ]
     },
     "execution_count": 23,
     "metadata": {},
     "output_type": "execute_result"
    }
   ],
   "source": [
    "cleanned_json_df['main_content_focus'].explode().value_counts()"
   ]
  },
  {
   "cell_type": "code",
   "execution_count": 24,
   "metadata": {},
   "outputs": [
    {
     "data": {
      "text/plain": [
       "main_content_focus\n",
       "Món ăn                 797\n",
       "Cảm nhận khi ăn        708\n",
       "Sản phẩm ăn uống       405\n",
       "Trải nghiệm cá nhân    393\n",
       "Công thức nấu ăn       286\n",
       "Quán ăn                224\n",
       "Name: count, dtype: int64"
      ]
     },
     "execution_count": 24,
     "metadata": {},
     "output_type": "execute_result"
    }
   ],
   "source": [
    "cta_mapping = {\n",
    "    'Kinh nghiệm cá nhân': 'Trải nghiệm cá nhân'\n",
    "}\n",
    "\n",
    "cleanned_json_df['main_content_focus'] = cleanned_json_df['main_content_focus'].apply(\n",
    "    lambda x: normalize_list_column(x, cta_mapping)\n",
    ")\n",
    "\n",
    "cleanned_json_df['main_content_focus'].explode().value_counts()"
   ]
  },
  {
   "cell_type": "markdown",
   "metadata": {},
   "source": [
    "### Xử lý cột `speaking_style`.\n"
   ]
  },
  {
   "cell_type": "code",
   "execution_count": 25,
   "metadata": {},
   "outputs": [
    {
     "data": {
      "text/plain": [
       "Index(['category', 'hook_type', 'structure_style', 'tone_of_voice', 'pacing',\n",
       "       'has_cta', 'cta_type', 'has_personal_story', 'main_content_focus',\n",
       "       'speaking_style', 'emotion_keywords', 'video.id'],\n",
       "      dtype='object')"
      ]
     },
     "execution_count": 25,
     "metadata": {},
     "output_type": "execute_result"
    }
   ],
   "source": [
    "cleanned_json_df.columns"
   ]
  },
  {
   "cell_type": "code",
   "execution_count": 26,
   "metadata": {},
   "outputs": [
    {
     "data": {
      "text/plain": [
       "speaking_style\n",
       "Mô tả trực tiếp    907\n",
       "Độc thoại          591\n",
       "Kể chuyện          454\n",
       "Tâm sự              94\n",
       "Đối thoại giả       77\n",
       "Name: count, dtype: int64"
      ]
     },
     "execution_count": 26,
     "metadata": {},
     "output_type": "execute_result"
    }
   ],
   "source": [
    "cleanned_json_df['speaking_style'].explode().value_counts()"
   ]
  },
  {
   "cell_type": "markdown",
   "metadata": {},
   "source": [
    "### Chuyển thành list\n"
   ]
  },
  {
   "cell_type": "code",
   "execution_count": 27,
   "metadata": {},
   "outputs": [],
   "source": [
    "import ast\n",
    "\n",
    "\n",
    "def parse_list_column(value):\n",
    "    try:\n",
    "        # Nếu là string dạng list → ép kiểu\n",
    "        parsed = ast.literal_eval(value) if isinstance(\n",
    "            value, str) and value.startswith('[') else value\n",
    "        return parsed if isinstance(parsed, list) else [parsed]\n",
    "    except:\n",
    "        return [value]"
   ]
  },
  {
   "cell_type": "code",
   "execution_count": 28,
   "metadata": {},
   "outputs": [],
   "source": [
    "list_columns = ['category', 'hook_type', 'structure_style', 'tone_of_voice', 'pacing',\n",
    "                'cta_type', 'main_content_focus', 'speaking_style', 'emotion_keywords']\n",
    "\n",
    "for col in list_columns:\n",
    "    cleanned_json_df[col] = cleanned_json_df[col].apply(parse_list_column)"
   ]
  },
  {
   "cell_type": "markdown",
   "metadata": {},
   "source": [
    "### Merge với `top_week_df`\n"
   ]
  },
  {
   "cell_type": "code",
   "execution_count": 29,
   "metadata": {},
   "outputs": [],
   "source": [
    "# Merge vào DataFrame gốc theo 'video.id'\n",
    "merged_df = top_week_df.merge(cleanned_json_df, on='video.id', how='left')"
   ]
  },
  {
   "cell_type": "code",
   "execution_count": 30,
   "metadata": {},
   "outputs": [
    {
     "data": {
      "text/plain": [
       "Index(['year', 'week', 'weekly_score', 'weekly_score_rank', 'author.uniqueId',\n",
       "       'video.id', 'desc', 'video.duration', 'hashtags', 'num_hashtags',\n",
       "       'engagement_rate', 'video.url', 'transcript', 'takeaway_1',\n",
       "       'takeaway_2', 'takeaway_3', 'transcript_call_to_action',\n",
       "       'transcript_curiosity_gap', 'category', 'hook_type', 'structure_style',\n",
       "       'tone_of_voice', 'pacing', 'has_cta', 'cta_type', 'has_personal_story',\n",
       "       'main_content_focus', 'speaking_style', 'emotion_keywords'],\n",
       "      dtype='object')"
      ]
     },
     "execution_count": 30,
     "metadata": {},
     "output_type": "execute_result"
    }
   ],
   "source": [
    "merged_df.columns"
   ]
  },
  {
   "cell_type": "code",
   "execution_count": 31,
   "metadata": {},
   "outputs": [],
   "source": [
    "merged_df = merged_df.drop(columns=['takeaway_1',\n",
    "                                    'takeaway_2', 'takeaway_3', 'transcript_call_to_action',\n",
    "                                    'transcript_curiosity_gap'])"
   ]
  },
  {
   "cell_type": "markdown",
   "metadata": {},
   "source": [
    "## Lấy các cột thống kê\n"
   ]
  },
  {
   "cell_type": "code",
   "execution_count": 32,
   "metadata": {},
   "outputs": [],
   "source": [
    "renamed_cols = {\n",
    "    'author.uniqueId': 'username',\n",
    "    'video.id': 'video.id',\n",
    "    \"id\": \"id\",\n",
    "    \"video.duration\": \"duration\",\n",
    "    \"statsV2.playCount\": \"views\",  # Lượt xem video\n",
    "    \"statsV2.diggCount\": \"likes\",  # Lượt thích video\n",
    "    \"statsV2.commentCount\": \"comments\",  # Lượt bình luận video\n",
    "    \"statsV2.shareCount\": \"shares\",  # Lượt chia sẻ video\n",
    "    'statsV2.collectCount': \"collects\",\n",
    "    \"statsV2.playCount_rank\": \"views_rank\",  # Lượt xem video\n",
    "    \"statsV2.diggCount_rank\": \"likes_rank\",  # Lượt thích video\n",
    "    \"statsV2.commentCount_rank\": \"comments_rank\",  # Lượt bình luận video\n",
    "    \"statsV2.shareCount_rank\": \"shares_rank\",  # Lượt chia sẻ video\n",
    "    'statsV2.collectCount_rank': \"collects_rank\",\n",
    "    'authorStats.diggCount': \"user.likes\",\n",
    "    'authorStats.followerCount': \"user.followers\",\n",
    "    'authorStats.followingCount': \"user.followings\",\n",
    "    'authorStats.heartCount': \"user.hearts\",\n",
    "    'authorStats.videoCount': \"user.videos\",\n",
    "    'createTime': 'createTime'\n",
    "}"
   ]
  },
  {
   "cell_type": "code",
   "execution_count": 33,
   "metadata": {},
   "outputs": [
    {
     "data": {
      "text/html": [
       "<div>\n",
       "<style scoped>\n",
       "    .dataframe tbody tr th:only-of-type {\n",
       "        vertical-align: middle;\n",
       "    }\n",
       "\n",
       "    .dataframe tbody tr th {\n",
       "        vertical-align: top;\n",
       "    }\n",
       "\n",
       "    .dataframe thead th {\n",
       "        text-align: right;\n",
       "    }\n",
       "</style>\n",
       "<table border=\"1\" class=\"dataframe\">\n",
       "  <thead>\n",
       "    <tr style=\"text-align: right;\">\n",
       "      <th></th>\n",
       "      <th>author.uniqueId</th>\n",
       "      <th>video.id</th>\n",
       "      <th>id</th>\n",
       "      <th>video.duration</th>\n",
       "      <th>statsV2.playCount</th>\n",
       "      <th>statsV2.diggCount</th>\n",
       "      <th>statsV2.commentCount</th>\n",
       "      <th>statsV2.shareCount</th>\n",
       "      <th>statsV2.collectCount</th>\n",
       "      <th>statsV2.playCount_rank</th>\n",
       "      <th>statsV2.diggCount_rank</th>\n",
       "      <th>statsV2.commentCount_rank</th>\n",
       "      <th>statsV2.shareCount_rank</th>\n",
       "      <th>statsV2.collectCount_rank</th>\n",
       "      <th>authorStats.diggCount</th>\n",
       "      <th>authorStats.followerCount</th>\n",
       "      <th>authorStats.followingCount</th>\n",
       "      <th>authorStats.heartCount</th>\n",
       "      <th>authorStats.videoCount</th>\n",
       "      <th>createTime</th>\n",
       "    </tr>\n",
       "  </thead>\n",
       "  <tbody>\n",
       "    <tr>\n",
       "      <th>0</th>\n",
       "      <td>ongduymukbang</td>\n",
       "      <td>7467908960897600775</td>\n",
       "      <td>7467908960897600775</td>\n",
       "      <td>28.0</td>\n",
       "      <td>6900000.0</td>\n",
       "      <td>95300.0</td>\n",
       "      <td>2828.0</td>\n",
       "      <td>878.0</td>\n",
       "      <td>5013.0</td>\n",
       "      <td>3</td>\n",
       "      <td>13</td>\n",
       "      <td>3</td>\n",
       "      <td>190</td>\n",
       "      <td>44</td>\n",
       "      <td>3219.0</td>\n",
       "      <td>411000.0</td>\n",
       "      <td>9398.0</td>\n",
       "      <td>6800000.0</td>\n",
       "      <td>774.0</td>\n",
       "      <td>2025-02-05 19:20:55+07:00</td>\n",
       "    </tr>\n",
       "    <tr>\n",
       "      <th>1</th>\n",
       "      <td>ongduymukbang</td>\n",
       "      <td>7403358416166571282</td>\n",
       "      <td>7403358416166571282</td>\n",
       "      <td>34.0</td>\n",
       "      <td>9000000.0</td>\n",
       "      <td>162200.0</td>\n",
       "      <td>1350.0</td>\n",
       "      <td>589.0</td>\n",
       "      <td>6752.0</td>\n",
       "      <td>5</td>\n",
       "      <td>14</td>\n",
       "      <td>18</td>\n",
       "      <td>257</td>\n",
       "      <td>37</td>\n",
       "      <td>3219.0</td>\n",
       "      <td>411000.0</td>\n",
       "      <td>9398.0</td>\n",
       "      <td>6800000.0</td>\n",
       "      <td>774.0</td>\n",
       "      <td>2024-08-15 20:31:48+07:00</td>\n",
       "    </tr>\n",
       "    <tr>\n",
       "      <th>2</th>\n",
       "      <td>ongduymukbang</td>\n",
       "      <td>7345836549130652946</td>\n",
       "      <td>7345836549130652946</td>\n",
       "      <td>20.0</td>\n",
       "      <td>7400000.0</td>\n",
       "      <td>96800.0</td>\n",
       "      <td>1749.0</td>\n",
       "      <td>577.0</td>\n",
       "      <td>6049.0</td>\n",
       "      <td>8</td>\n",
       "      <td>37</td>\n",
       "      <td>18</td>\n",
       "      <td>214</td>\n",
       "      <td>60</td>\n",
       "      <td>3219.0</td>\n",
       "      <td>411000.0</td>\n",
       "      <td>9398.0</td>\n",
       "      <td>6800000.0</td>\n",
       "      <td>774.0</td>\n",
       "      <td>2024-03-13 20:17:36+07:00</td>\n",
       "    </tr>\n",
       "    <tr>\n",
       "      <th>3</th>\n",
       "      <td>ongduymukbang</td>\n",
       "      <td>7483120059301268744</td>\n",
       "      <td>7483120059301268744</td>\n",
       "      <td>45.0</td>\n",
       "      <td>290900.0</td>\n",
       "      <td>4987.0</td>\n",
       "      <td>287.0</td>\n",
       "      <td>56.0</td>\n",
       "      <td>265.0</td>\n",
       "      <td>51</td>\n",
       "      <td>72</td>\n",
       "      <td>16</td>\n",
       "      <td>158</td>\n",
       "      <td>109</td>\n",
       "      <td>3219.0</td>\n",
       "      <td>411000.0</td>\n",
       "      <td>9398.0</td>\n",
       "      <td>6800000.0</td>\n",
       "      <td>774.0</td>\n",
       "      <td>2025-03-18 19:07:44+07:00</td>\n",
       "    </tr>\n",
       "    <tr>\n",
       "      <th>4</th>\n",
       "      <td>ongduymukbang</td>\n",
       "      <td>7482376120239787271</td>\n",
       "      <td>7482376120239787271</td>\n",
       "      <td>28.0</td>\n",
       "      <td>465300.0</td>\n",
       "      <td>6130.0</td>\n",
       "      <td>274.0</td>\n",
       "      <td>81.0</td>\n",
       "      <td>442.0</td>\n",
       "      <td>118</td>\n",
       "      <td>221</td>\n",
       "      <td>85</td>\n",
       "      <td>488</td>\n",
       "      <td>326</td>\n",
       "      <td>3219.0</td>\n",
       "      <td>411000.0</td>\n",
       "      <td>9398.0</td>\n",
       "      <td>6800000.0</td>\n",
       "      <td>774.0</td>\n",
       "      <td>2025-03-16 19:00:52+07:00</td>\n",
       "    </tr>\n",
       "    <tr>\n",
       "      <th>...</th>\n",
       "      <td>...</td>\n",
       "      <td>...</td>\n",
       "      <td>...</td>\n",
       "      <td>...</td>\n",
       "      <td>...</td>\n",
       "      <td>...</td>\n",
       "      <td>...</td>\n",
       "      <td>...</td>\n",
       "      <td>...</td>\n",
       "      <td>...</td>\n",
       "      <td>...</td>\n",
       "      <td>...</td>\n",
       "      <td>...</td>\n",
       "      <td>...</td>\n",
       "      <td>...</td>\n",
       "      <td>...</td>\n",
       "      <td>...</td>\n",
       "      <td>...</td>\n",
       "      <td>...</td>\n",
       "      <td>...</td>\n",
       "    </tr>\n",
       "    <tr>\n",
       "      <th>70991</th>\n",
       "      <td>dangmukbangbo</td>\n",
       "      <td>7441977141060766996</td>\n",
       "      <td>7441977141060766996</td>\n",
       "      <td>88.0</td>\n",
       "      <td>255100.0</td>\n",
       "      <td>6326.0</td>\n",
       "      <td>67.0</td>\n",
       "      <td>150.0</td>\n",
       "      <td>226.0</td>\n",
       "      <td>323</td>\n",
       "      <td>294</td>\n",
       "      <td>278</td>\n",
       "      <td>493</td>\n",
       "      <td>548</td>\n",
       "      <td>70.0</td>\n",
       "      <td>18200.0</td>\n",
       "      <td>3.0</td>\n",
       "      <td>600900.0</td>\n",
       "      <td>27.0</td>\n",
       "      <td>2024-11-27 22:12:13+07:00</td>\n",
       "    </tr>\n",
       "    <tr>\n",
       "      <th>70992</th>\n",
       "      <td>dangmukbangbo</td>\n",
       "      <td>7441452626845142288</td>\n",
       "      <td>7441452626845142288</td>\n",
       "      <td>8.0</td>\n",
       "      <td>69500.0</td>\n",
       "      <td>571.0</td>\n",
       "      <td>16.0</td>\n",
       "      <td>87.0</td>\n",
       "      <td>20.0</td>\n",
       "      <td>628</td>\n",
       "      <td>821</td>\n",
       "      <td>329</td>\n",
       "      <td>551</td>\n",
       "      <td>717</td>\n",
       "      <td>70.0</td>\n",
       "      <td>18200.0</td>\n",
       "      <td>3.0</td>\n",
       "      <td>600900.0</td>\n",
       "      <td>27.0</td>\n",
       "      <td>2024-11-26 12:17:11+07:00</td>\n",
       "    </tr>\n",
       "    <tr>\n",
       "      <th>70993</th>\n",
       "      <td>dangmukbangbo</td>\n",
       "      <td>7440860844608458005</td>\n",
       "      <td>7440860844608458005</td>\n",
       "      <td>68.0</td>\n",
       "      <td>115200.0</td>\n",
       "      <td>2477.0</td>\n",
       "      <td>18.0</td>\n",
       "      <td>28.0</td>\n",
       "      <td>113.0</td>\n",
       "      <td>462</td>\n",
       "      <td>569</td>\n",
       "      <td>346</td>\n",
       "      <td>631</td>\n",
       "      <td>675</td>\n",
       "      <td>70.0</td>\n",
       "      <td>18200.0</td>\n",
       "      <td>3.0</td>\n",
       "      <td>600900.0</td>\n",
       "      <td>27.0</td>\n",
       "      <td>2024-11-24 22:00:26+07:00</td>\n",
       "    </tr>\n",
       "    <tr>\n",
       "      <th>70994</th>\n",
       "      <td>dangmukbangbo</td>\n",
       "      <td>7440489842275814676</td>\n",
       "      <td>7440489842275814676</td>\n",
       "      <td>71.0</td>\n",
       "      <td>93900.0</td>\n",
       "      <td>2067.0</td>\n",
       "      <td>47.0</td>\n",
       "      <td>193.0</td>\n",
       "      <td>103.0</td>\n",
       "      <td>506</td>\n",
       "      <td>610</td>\n",
       "      <td>317</td>\n",
       "      <td>495</td>\n",
       "      <td>684</td>\n",
       "      <td>70.0</td>\n",
       "      <td>18200.0</td>\n",
       "      <td>3.0</td>\n",
       "      <td>600900.0</td>\n",
       "      <td>27.0</td>\n",
       "      <td>2024-11-23 22:00:47+07:00</td>\n",
       "    </tr>\n",
       "    <tr>\n",
       "      <th>70995</th>\n",
       "      <td>dangmukbangbo</td>\n",
       "      <td>7440120274256792852</td>\n",
       "      <td>7440120274256792852</td>\n",
       "      <td>85.0</td>\n",
       "      <td>35000.0</td>\n",
       "      <td>532.0</td>\n",
       "      <td>19.0</td>\n",
       "      <td>18.0</td>\n",
       "      <td>32.0</td>\n",
       "      <td>722</td>\n",
       "      <td>853</td>\n",
       "      <td>345</td>\n",
       "      <td>641</td>\n",
       "      <td>750</td>\n",
       "      <td>70.0</td>\n",
       "      <td>18200.0</td>\n",
       "      <td>3.0</td>\n",
       "      <td>600900.0</td>\n",
       "      <td>27.0</td>\n",
       "      <td>2024-11-22 22:06:40+07:00</td>\n",
       "    </tr>\n",
       "  </tbody>\n",
       "</table>\n",
       "<p>70996 rows × 20 columns</p>\n",
       "</div>"
      ],
      "text/plain": [
       "      author.uniqueId             video.id                   id  \\\n",
       "0       ongduymukbang  7467908960897600775  7467908960897600775   \n",
       "1       ongduymukbang  7403358416166571282  7403358416166571282   \n",
       "2       ongduymukbang  7345836549130652946  7345836549130652946   \n",
       "3       ongduymukbang  7483120059301268744  7483120059301268744   \n",
       "4       ongduymukbang  7482376120239787271  7482376120239787271   \n",
       "...               ...                  ...                  ...   \n",
       "70991   dangmukbangbo  7441977141060766996  7441977141060766996   \n",
       "70992   dangmukbangbo  7441452626845142288  7441452626845142288   \n",
       "70993   dangmukbangbo  7440860844608458005  7440860844608458005   \n",
       "70994   dangmukbangbo  7440489842275814676  7440489842275814676   \n",
       "70995   dangmukbangbo  7440120274256792852  7440120274256792852   \n",
       "\n",
       "       video.duration  statsV2.playCount  statsV2.diggCount  \\\n",
       "0                28.0          6900000.0            95300.0   \n",
       "1                34.0          9000000.0           162200.0   \n",
       "2                20.0          7400000.0            96800.0   \n",
       "3                45.0           290900.0             4987.0   \n",
       "4                28.0           465300.0             6130.0   \n",
       "...               ...                ...                ...   \n",
       "70991            88.0           255100.0             6326.0   \n",
       "70992             8.0            69500.0              571.0   \n",
       "70993            68.0           115200.0             2477.0   \n",
       "70994            71.0            93900.0             2067.0   \n",
       "70995            85.0            35000.0              532.0   \n",
       "\n",
       "       statsV2.commentCount  statsV2.shareCount  statsV2.collectCount  \\\n",
       "0                    2828.0               878.0                5013.0   \n",
       "1                    1350.0               589.0                6752.0   \n",
       "2                    1749.0               577.0                6049.0   \n",
       "3                     287.0                56.0                 265.0   \n",
       "4                     274.0                81.0                 442.0   \n",
       "...                     ...                 ...                   ...   \n",
       "70991                  67.0               150.0                 226.0   \n",
       "70992                  16.0                87.0                  20.0   \n",
       "70993                  18.0                28.0                 113.0   \n",
       "70994                  47.0               193.0                 103.0   \n",
       "70995                  19.0                18.0                  32.0   \n",
       "\n",
       "       statsV2.playCount_rank  statsV2.diggCount_rank  \\\n",
       "0                           3                      13   \n",
       "1                           5                      14   \n",
       "2                           8                      37   \n",
       "3                          51                      72   \n",
       "4                         118                     221   \n",
       "...                       ...                     ...   \n",
       "70991                     323                     294   \n",
       "70992                     628                     821   \n",
       "70993                     462                     569   \n",
       "70994                     506                     610   \n",
       "70995                     722                     853   \n",
       "\n",
       "       statsV2.commentCount_rank  statsV2.shareCount_rank  \\\n",
       "0                              3                      190   \n",
       "1                             18                      257   \n",
       "2                             18                      214   \n",
       "3                             16                      158   \n",
       "4                             85                      488   \n",
       "...                          ...                      ...   \n",
       "70991                        278                      493   \n",
       "70992                        329                      551   \n",
       "70993                        346                      631   \n",
       "70994                        317                      495   \n",
       "70995                        345                      641   \n",
       "\n",
       "       statsV2.collectCount_rank  authorStats.diggCount  \\\n",
       "0                             44                 3219.0   \n",
       "1                             37                 3219.0   \n",
       "2                             60                 3219.0   \n",
       "3                            109                 3219.0   \n",
       "4                            326                 3219.0   \n",
       "...                          ...                    ...   \n",
       "70991                        548                   70.0   \n",
       "70992                        717                   70.0   \n",
       "70993                        675                   70.0   \n",
       "70994                        684                   70.0   \n",
       "70995                        750                   70.0   \n",
       "\n",
       "       authorStats.followerCount  authorStats.followingCount  \\\n",
       "0                       411000.0                      9398.0   \n",
       "1                       411000.0                      9398.0   \n",
       "2                       411000.0                      9398.0   \n",
       "3                       411000.0                      9398.0   \n",
       "4                       411000.0                      9398.0   \n",
       "...                          ...                         ...   \n",
       "70991                    18200.0                         3.0   \n",
       "70992                    18200.0                         3.0   \n",
       "70993                    18200.0                         3.0   \n",
       "70994                    18200.0                         3.0   \n",
       "70995                    18200.0                         3.0   \n",
       "\n",
       "       authorStats.heartCount  authorStats.videoCount  \\\n",
       "0                   6800000.0                   774.0   \n",
       "1                   6800000.0                   774.0   \n",
       "2                   6800000.0                   774.0   \n",
       "3                   6800000.0                   774.0   \n",
       "4                   6800000.0                   774.0   \n",
       "...                       ...                     ...   \n",
       "70991                600900.0                    27.0   \n",
       "70992                600900.0                    27.0   \n",
       "70993                600900.0                    27.0   \n",
       "70994                600900.0                    27.0   \n",
       "70995                600900.0                    27.0   \n",
       "\n",
       "                      createTime  \n",
       "0      2025-02-05 19:20:55+07:00  \n",
       "1      2024-08-15 20:31:48+07:00  \n",
       "2      2024-03-13 20:17:36+07:00  \n",
       "3      2025-03-18 19:07:44+07:00  \n",
       "4      2025-03-16 19:00:52+07:00  \n",
       "...                          ...  \n",
       "70991  2024-11-27 22:12:13+07:00  \n",
       "70992  2024-11-26 12:17:11+07:00  \n",
       "70993  2024-11-24 22:00:26+07:00  \n",
       "70994  2024-11-23 22:00:47+07:00  \n",
       "70995  2024-11-22 22:06:40+07:00  \n",
       "\n",
       "[70996 rows x 20 columns]"
      ]
     },
     "execution_count": 33,
     "metadata": {},
     "output_type": "execute_result"
    }
   ],
   "source": [
    "full_df = pd.read_csv(\"data/videos_with_weekly_rank.csv\", dtype=dtypes)\n",
    "# full_df = full_df.rename(columns={'id': 'video.id'})\n",
    "full_df['video.id'] = full_df['id']\n",
    "full_df = full_df[renamed_cols.keys()]\n",
    "full_df"
   ]
  },
  {
   "cell_type": "markdown",
   "metadata": {},
   "source": [
    "Dataframe cuối cùng để phân tích:\n"
   ]
  },
  {
   "cell_type": "code",
   "execution_count": 34,
   "metadata": {},
   "outputs": [],
   "source": [
    "# final_df = merged_df.merge(full_df, on=['author.uniqueId', 'video.id', 'video.duration'], how='left').rename(\n",
    "#     columns=renamed_cols)\n",
    "final_df = merged_df.merge(\n",
    "    full_df, on=['author.uniqueId', 'video.id', 'video.duration'], how='left')"
   ]
  },
  {
   "cell_type": "code",
   "execution_count": 35,
   "metadata": {},
   "outputs": [
    {
     "data": {
      "text/plain": [
       "Index(['year', 'week', 'weekly_score', 'weekly_score_rank', 'author.uniqueId',\n",
       "       'video.id', 'desc', 'video.duration', 'hashtags', 'num_hashtags',\n",
       "       'engagement_rate', 'video.url', 'transcript', 'category', 'hook_type',\n",
       "       'structure_style', 'tone_of_voice', 'pacing', 'has_cta', 'cta_type',\n",
       "       'has_personal_story', 'main_content_focus', 'speaking_style',\n",
       "       'emotion_keywords', 'id', 'statsV2.playCount', 'statsV2.diggCount',\n",
       "       'statsV2.commentCount', 'statsV2.shareCount', 'statsV2.collectCount',\n",
       "       'statsV2.playCount_rank', 'statsV2.diggCount_rank',\n",
       "       'statsV2.commentCount_rank', 'statsV2.shareCount_rank',\n",
       "       'statsV2.collectCount_rank', 'authorStats.diggCount',\n",
       "       'authorStats.followerCount', 'authorStats.followingCount',\n",
       "       'authorStats.heartCount', 'authorStats.videoCount', 'createTime'],\n",
       "      dtype='object')"
      ]
     },
     "execution_count": 35,
     "metadata": {},
     "output_type": "execute_result"
    }
   ],
   "source": [
    "final_df.columns"
   ]
  },
  {
   "cell_type": "code",
   "execution_count": 36,
   "metadata": {},
   "outputs": [],
   "source": [
    "final_df.to_csv(\"notebooks/preprocess/content_analyse.csv\", index=False)"
   ]
  }
 ],
 "metadata": {
  "kernelspec": {
   "display_name": ".venv",
   "language": "python",
   "name": "python3"
  },
  "language_info": {
   "codemirror_mode": {
    "name": "ipython",
    "version": 3
   },
   "file_extension": ".py",
   "mimetype": "text/x-python",
   "name": "python",
   "nbconvert_exporter": "python",
   "pygments_lexer": "ipython3",
   "version": "3.10.11"
  }
 },
 "nbformat": 4,
 "nbformat_minor": 2
}
