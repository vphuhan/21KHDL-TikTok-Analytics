{
 "cells": [
  {
   "cell_type": "code",
   "execution_count": 83,
   "metadata": {},
   "outputs": [],
   "source": [
    "import warnings\n",
    "import os\n",
    "from tqdm import tqdm\n",
    "from typing import List\n",
    "import pandas as pd\n",
    "from unidecode import unidecode\n",
    "import plotly.express as px\n",
    "import matplotlib.pyplot as plt\n",
    "\n",
    "import unicodedata\n",
    "import math\n",
    "import json\n",
    "import numpy as np\n",
    "os.chdir(\"/Users/vophuhan/Everything/University/Năm 4/Semester 2/Ứng dụng Phân tích dữ liệu thông minh/21KHDL-TikTok-Analytics\")\n",
    "\n",
    "\n",
    "# from langdetect import detect\n",
    "# from langdetect import DetectorFactory\n",
    "\n",
    "warnings.filterwarnings(\"ignore\")\n",
    "\n",
    "pd.set_option('display.max_columns', None)\n",
    "# Hiển thị 6 chữ số thập phân\n",
    "pd.set_option('display.float_format', '{:.6f}'.format)"
   ]
  },
  {
   "cell_type": "markdown",
   "metadata": {},
   "source": [
    "# Đọc dữ liệu\n"
   ]
  },
  {
   "cell_type": "code",
   "execution_count": 47,
   "metadata": {},
   "outputs": [
    {
     "name": "stdout",
     "output_type": "stream",
     "text": [
      "<class 'pandas.core.frame.DataFrame'>\n",
      "RangeIndex: 70996 entries, 0 to 70995\n",
      "Data columns (total 60 columns):\n",
      " #   Column                           Non-Null Count  Dtype  \n",
      "---  ------                           --------------  -----  \n",
      " 0   author.downloadSetting           70996 non-null  float64\n",
      " 1   author.duetSetting               70996 non-null  float64\n",
      " 2   author.id                        70996 non-null  object \n",
      " 3   author.nickname                  70996 non-null  object \n",
      " 4   author.openFavorite              70996 non-null  bool   \n",
      " 5   author.signature                 70140 non-null  object \n",
      " 6   author.stitchSetting             70996 non-null  float64\n",
      " 7   author.uniqueId                  70996 non-null  object \n",
      " 8   author.verified                  70996 non-null  bool   \n",
      " 9   authorStats.diggCount            70996 non-null  float64\n",
      " 10  authorStats.followerCount        70996 non-null  float64\n",
      " 11  authorStats.followingCount       70996 non-null  float64\n",
      " 12  authorStats.heart                70996 non-null  float64\n",
      " 13  authorStats.heartCount           70996 non-null  float64\n",
      " 14  authorStats.videoCount           70996 non-null  float64\n",
      " 15  createTime                       70996 non-null  object \n",
      " 16  desc                             70936 non-null  object \n",
      " 17  diversificationId                67013 non-null  float64\n",
      " 18  id                               70996 non-null  object \n",
      " 19  isAd                             70996 non-null  bool   \n",
      " 20  music.authorName                 70855 non-null  object \n",
      " 21  music.duration                   70877 non-null  float64\n",
      " 22  music.id                         70996 non-null  object \n",
      " 23  music.isCopyrighted              70996 non-null  bool   \n",
      " 24  music.original                   70996 non-null  bool   \n",
      " 25  music.title                      70880 non-null  object \n",
      " 26  statsV2.collectCount             70996 non-null  float64\n",
      " 27  statsV2.commentCount             70996 non-null  float64\n",
      " 28  statsV2.diggCount                70996 non-null  float64\n",
      " 29  statsV2.playCount                70996 non-null  float64\n",
      " 30  statsV2.shareCount               70996 non-null  float64\n",
      " 31  textLanguage                     70996 non-null  object \n",
      " 32  textTranslatable                 70996 non-null  bool   \n",
      " 33  video.VQScore                    65350 non-null  float64\n",
      " 34  video.bitrate                    65350 non-null  float64\n",
      " 35  video.claInfo.enableAutoCaption  70996 non-null  bool   \n",
      " 36  video.claInfo.hasOriginalAudio   70996 non-null  bool   \n",
      " 37  video.codecType                  65350 non-null  object \n",
      " 38  video.duration                   70996 non-null  float64\n",
      " 39  video.encodedType                65350 non-null  object \n",
      " 40  video.height                     70996 non-null  float64\n",
      " 41  video.ratio                      65350 non-null  object \n",
      " 42  video.videoQuality               65350 non-null  object \n",
      " 43  video.volumeInfo.Loudness        65342 non-null  float64\n",
      " 44  video.volumeInfo.Peak            65342 non-null  float64\n",
      " 45  video.width                      70996 non-null  float64\n",
      " 46  collectTime                      70996 non-null  object \n",
      " 47  hashtags                         70996 non-null  object \n",
      " 48  num_hashtags                     70996 non-null  int64  \n",
      " 49  year                             70996 non-null  int64  \n",
      " 50  week                             70996 non-null  int64  \n",
      " 51  engagement_rate                  70996 non-null  float64\n",
      " 52  weekly_score                     70995 non-null  float64\n",
      " 53  weekly_score_rank                70995 non-null  float64\n",
      " 54  statsV2.playCount_rank           70996 non-null  int64  \n",
      " 55  engagement_rate_rank             70996 non-null  int64  \n",
      " 56  statsV2.shareCount_rank          70996 non-null  int64  \n",
      " 57  statsV2.commentCount_rank        70996 non-null  int64  \n",
      " 58  statsV2.diggCount_rank           70996 non-null  int64  \n",
      " 59  statsV2.collectCount_rank        70996 non-null  int64  \n",
      "dtypes: bool(8), float64(26), int64(9), object(17)\n",
      "memory usage: 28.7+ MB\n"
     ]
    }
   ],
   "source": [
    "file_path = \"data/cleaned_videos_with_weekly_rank.csv\"\n",
    "\n",
    "# Define only string columns\n",
    "string_cols = [\"author.id\", \"id\", \"music.id\"]\n",
    "\n",
    "# Create dtype mapping for string columns\n",
    "dtype_schema = {col: \"object\" for col in string_cols}\n",
    "\n",
    "# Read CSV with specified dtypes only for string columns\n",
    "video_info_df = pd.read_csv(\n",
    "    file_path, low_memory=False, dtype=dtype_schema)\n",
    "video_info_df.info()"
   ]
  },
  {
   "cell_type": "markdown",
   "metadata": {},
   "source": [
    "Convert time cols.\n"
   ]
  },
  {
   "cell_type": "code",
   "execution_count": 48,
   "metadata": {},
   "outputs": [],
   "source": [
    "# Chuyển timestamp sang dạng datetime UTC\n",
    "video_info_df[\"createTime\"] = pd.to_datetime(\n",
    "    video_info_df[\"createTime\"], utc=True)\n",
    "video_info_df[\"collectTime\"] = pd.to_datetime(\n",
    "    video_info_df[\"collectTime\"], utc=True)\n",
    "\n",
    "# Chuyển sang múi giờ Việt Nam (UTC+7)\n",
    "video_info_df[\"createTime\"] = video_info_df[\"createTime\"].dt.tz_convert(\n",
    "    \"Asia/Ho_Chi_Minh\")\n",
    "video_info_df[\"collectTime\"] = video_info_df[\"collectTime\"].dt.tz_convert(\n",
    "    \"Asia/Ho_Chi_Minh\")"
   ]
  },
  {
   "cell_type": "code",
   "execution_count": 49,
   "metadata": {},
   "outputs": [
    {
     "data": {
      "text/html": [
       "<div>\n",
       "<style scoped>\n",
       "    .dataframe tbody tr th:only-of-type {\n",
       "        vertical-align: middle;\n",
       "    }\n",
       "\n",
       "    .dataframe tbody tr th {\n",
       "        vertical-align: top;\n",
       "    }\n",
       "\n",
       "    .dataframe thead th {\n",
       "        text-align: right;\n",
       "    }\n",
       "</style>\n",
       "<table border=\"1\" class=\"dataframe\">\n",
       "  <thead>\n",
       "    <tr style=\"text-align: right;\">\n",
       "      <th></th>\n",
       "      <th>author.downloadSetting</th>\n",
       "      <th>author.duetSetting</th>\n",
       "      <th>author.id</th>\n",
       "      <th>author.nickname</th>\n",
       "      <th>author.openFavorite</th>\n",
       "      <th>author.signature</th>\n",
       "      <th>author.stitchSetting</th>\n",
       "      <th>username</th>\n",
       "      <th>author.verified</th>\n",
       "      <th>user.likes</th>\n",
       "      <th>user.followers</th>\n",
       "      <th>user.followings</th>\n",
       "      <th>authorStats.heart</th>\n",
       "      <th>user.hearts</th>\n",
       "      <th>user.videos</th>\n",
       "      <th>createTime</th>\n",
       "      <th>desc</th>\n",
       "      <th>diversificationId</th>\n",
       "      <th>id</th>\n",
       "      <th>isAd</th>\n",
       "      <th>music.authorName</th>\n",
       "      <th>music.duration</th>\n",
       "      <th>music.id</th>\n",
       "      <th>music.isCopyrighted</th>\n",
       "      <th>music.original</th>\n",
       "      <th>music.title</th>\n",
       "      <th>collects</th>\n",
       "      <th>comments</th>\n",
       "      <th>likes</th>\n",
       "      <th>views</th>\n",
       "      <th>shares</th>\n",
       "      <th>textLanguage</th>\n",
       "      <th>textTranslatable</th>\n",
       "      <th>video.VQScore</th>\n",
       "      <th>video.bitrate</th>\n",
       "      <th>video.claInfo.enableAutoCaption</th>\n",
       "      <th>video.claInfo.hasOriginalAudio</th>\n",
       "      <th>video.codecType</th>\n",
       "      <th>video.duration</th>\n",
       "      <th>video.encodedType</th>\n",
       "      <th>video.height</th>\n",
       "      <th>video.ratio</th>\n",
       "      <th>video.videoQuality</th>\n",
       "      <th>video.volumeInfo.Loudness</th>\n",
       "      <th>video.volumeInfo.Peak</th>\n",
       "      <th>video.width</th>\n",
       "      <th>collectTime</th>\n",
       "      <th>hashtags</th>\n",
       "      <th>num_hashtags</th>\n",
       "      <th>year</th>\n",
       "      <th>week</th>\n",
       "      <th>engagement_rate</th>\n",
       "      <th>weekly_score</th>\n",
       "      <th>weekly_score_rank</th>\n",
       "      <th>views_rank</th>\n",
       "      <th>engagement_rate_rank</th>\n",
       "      <th>shares_rank</th>\n",
       "      <th>comments_rank</th>\n",
       "      <th>likes_rank</th>\n",
       "      <th>collects_rank</th>\n",
       "    </tr>\n",
       "  </thead>\n",
       "  <tbody>\n",
       "    <tr>\n",
       "      <th>54102</th>\n",
       "      <td>0.000000</td>\n",
       "      <td>0.000000</td>\n",
       "      <td>6910409263827862529</td>\n",
       "      <td>Long ăn gì?</td>\n",
       "      <td>False</td>\n",
       "      <td>⭐️Đã ăn lắm còn hay luyên thuyên..\\n🌸Contact f...</td>\n",
       "      <td>0.000000</td>\n",
       "      <td>longlongneee</td>\n",
       "      <td>False</td>\n",
       "      <td>7671.000000</td>\n",
       "      <td>206000.000000</td>\n",
       "      <td>43.000000</td>\n",
       "      <td>7900000.000000</td>\n",
       "      <td>7900000.000000</td>\n",
       "      <td>1089.000000</td>\n",
       "      <td>2024-09-20 18:09:02+07:00</td>\n",
       "      <td>📍xôi cô chung: ngõ 45 hào nam. ⭐️: 10-40 cành....</td>\n",
       "      <td>10085.000000</td>\n",
       "      <td>7416680685332663570</td>\n",
       "      <td>False</td>\n",
       "      <td>Mitsu Sound</td>\n",
       "      <td>121.000000</td>\n",
       "      <td>6849968592285337602</td>\n",
       "      <td>False</td>\n",
       "      <td>False</td>\n",
       "      <td>Very cute melody by marimba tone(39813)</td>\n",
       "      <td>499.000000</td>\n",
       "      <td>23.000000</td>\n",
       "      <td>1522.000000</td>\n",
       "      <td>55700.000000</td>\n",
       "      <td>427.000000</td>\n",
       "      <td>vi</td>\n",
       "      <td>True</td>\n",
       "      <td>68.760000</td>\n",
       "      <td>1816132.000000</td>\n",
       "      <td>True</td>\n",
       "      <td>True</td>\n",
       "      <td>h264</td>\n",
       "      <td>91.000000</td>\n",
       "      <td>normal</td>\n",
       "      <td>1024.000000</td>\n",
       "      <td>540p</td>\n",
       "      <td>normal</td>\n",
       "      <td>-17.500000</td>\n",
       "      <td>0.668340</td>\n",
       "      <td>576.000000</td>\n",
       "      <td>2025-03-19 16:53:41+07:00</td>\n",
       "      <td>['ancungtiktok', 'learnontiktok', 'reviewanngo...</td>\n",
       "      <td>7</td>\n",
       "      <td>2024</td>\n",
       "      <td>38</td>\n",
       "      <td>0.044363</td>\n",
       "      <td>2.367596</td>\n",
       "      <td>564.000000</td>\n",
       "      <td>618</td>\n",
       "      <td>281</td>\n",
       "      <td>319</td>\n",
       "      <td>303</td>\n",
       "      <td>599</td>\n",
       "      <td>387</td>\n",
       "    </tr>\n",
       "  </tbody>\n",
       "</table>\n",
       "</div>"
      ],
      "text/plain": [
       "       author.downloadSetting  author.duetSetting            author.id  \\\n",
       "54102                0.000000            0.000000  6910409263827862529   \n",
       "\n",
       "      author.nickname  author.openFavorite  \\\n",
       "54102     Long ăn gì?                False   \n",
       "\n",
       "                                        author.signature  \\\n",
       "54102  ⭐️Đã ăn lắm còn hay luyên thuyên..\\n🌸Contact f...   \n",
       "\n",
       "       author.stitchSetting      username  author.verified  user.likes  \\\n",
       "54102              0.000000  longlongneee            False 7671.000000   \n",
       "\n",
       "       user.followers  user.followings  authorStats.heart    user.hearts  \\\n",
       "54102   206000.000000        43.000000     7900000.000000 7900000.000000   \n",
       "\n",
       "       user.videos                createTime  \\\n",
       "54102  1089.000000 2024-09-20 18:09:02+07:00   \n",
       "\n",
       "                                                    desc  diversificationId  \\\n",
       "54102  📍xôi cô chung: ngõ 45 hào nam. ⭐️: 10-40 cành....       10085.000000   \n",
       "\n",
       "                        id   isAd music.authorName  music.duration  \\\n",
       "54102  7416680685332663570  False      Mitsu Sound      121.000000   \n",
       "\n",
       "                  music.id  music.isCopyrighted  music.original  \\\n",
       "54102  6849968592285337602                False           False   \n",
       "\n",
       "                                   music.title   collects  comments  \\\n",
       "54102  Very cute melody by marimba tone(39813) 499.000000 23.000000   \n",
       "\n",
       "            likes        views     shares textLanguage  textTranslatable  \\\n",
       "54102 1522.000000 55700.000000 427.000000           vi              True   \n",
       "\n",
       "       video.VQScore  video.bitrate  video.claInfo.enableAutoCaption  \\\n",
       "54102      68.760000 1816132.000000                             True   \n",
       "\n",
       "       video.claInfo.hasOriginalAudio video.codecType  video.duration  \\\n",
       "54102                            True            h264       91.000000   \n",
       "\n",
       "      video.encodedType  video.height video.ratio video.videoQuality  \\\n",
       "54102            normal   1024.000000        540p             normal   \n",
       "\n",
       "       video.volumeInfo.Loudness  video.volumeInfo.Peak  video.width  \\\n",
       "54102                 -17.500000               0.668340   576.000000   \n",
       "\n",
       "                    collectTime  \\\n",
       "54102 2025-03-19 16:53:41+07:00   \n",
       "\n",
       "                                                hashtags  num_hashtags  year  \\\n",
       "54102  ['ancungtiktok', 'learnontiktok', 'reviewanngo...             7  2024   \n",
       "\n",
       "       week  engagement_rate  weekly_score  weekly_score_rank  views_rank  \\\n",
       "54102    38         0.044363      2.367596         564.000000         618   \n",
       "\n",
       "       engagement_rate_rank  shares_rank  comments_rank  likes_rank  \\\n",
       "54102                   281          319            303         599   \n",
       "\n",
       "       collects_rank  \n",
       "54102            387  "
      ]
     },
     "execution_count": 49,
     "metadata": {},
     "output_type": "execute_result"
    }
   ],
   "source": [
    "renamed_cols = {\n",
    "    'author.uniqueId': 'username',\n",
    "    \"statsV2.playCount\": \"views\",  # Lượt xem video\n",
    "    \"statsV2.diggCount\": \"likes\",  # Lượt thích video\n",
    "    \"statsV2.commentCount\": \"comments\",  # Lượt bình luận video\n",
    "    \"statsV2.shareCount\": \"shares\",  # Lượt chia sẻ video\n",
    "    'statsV2.collectCount': \"collects\",\n",
    "    \"statsV2.playCount_rank\": \"views_rank\",  # Lượt xem video\n",
    "    \"statsV2.diggCount_rank\": \"likes_rank\",  # Lượt thích video\n",
    "    \"statsV2.commentCount_rank\": \"comments_rank\",  # Lượt bình luận video\n",
    "    \"statsV2.shareCount_rank\": \"shares_rank\",  # Lượt chia sẻ video\n",
    "    'statsV2.collectCount_rank': \"collects_rank\",\n",
    "    'authorStats.diggCount': \"user.likes\",\n",
    "    'authorStats.followerCount': \"user.followers\",\n",
    "    'authorStats.followingCount': \"user.followings\",\n",
    "    # 'authorStats.friendCount': \"user.friends\",\n",
    "    'authorStats.heartCount': \"user.hearts\",\n",
    "    'authorStats.videoCount': \"user.videos\",\n",
    "}\n",
    "\n",
    "\n",
    "df = video_info_df.rename(columns=renamed_cols)\n",
    "df.sample(1)"
   ]
  },
  {
   "cell_type": "markdown",
   "metadata": {},
   "source": [
    "Drop video duration = 0\n"
   ]
  },
  {
   "cell_type": "code",
   "execution_count": null,
   "metadata": {},
   "outputs": [],
   "source": [
    "df = df[df['video.duration'] > 0]"
   ]
  },
  {
   "cell_type": "code",
   "execution_count": null,
   "metadata": {},
   "outputs": [],
   "source": [
    "time_th = pd.to_datetime(\"2024-01-01\", utc=True)\n",
    "df = df[df['createTime'] > time_th]"
   ]
  },
  {
   "cell_type": "code",
   "execution_count": 53,
   "metadata": {},
   "outputs": [],
   "source": [
    "stats_cols = ['views',\n",
    "              'likes',\n",
    "              'comments',\n",
    "              'shares',\n",
    "              'collects',\n",
    "              'engagement_rate'\n",
    "              ]\n",
    "\n",
    "rank_cols = [col for col in df.columns if col.endswith(\"_rank\")]"
   ]
  },
  {
   "cell_type": "code",
   "execution_count": 113,
   "metadata": {},
   "outputs": [],
   "source": [
    "top_video_weekly_df = df.sort_values(\n",
    "    ['year', 'week', 'weekly_score_rank'], ascending=True).groupby(['year', 'week']).head(50)"
   ]
  },
  {
   "cell_type": "code",
   "execution_count": 146,
   "metadata": {},
   "outputs": [
    {
     "data": {
      "text/plain": [
       "author.downloadSetting               0.000000\n",
       "author.duetSetting                   0.000000\n",
       "author.id                 7377647868423619585\n",
       "author.nickname                 Lê Thanh Tuấn\n",
       "author.openFavorite                     False\n",
       "                                 ...         \n",
       "comments_rank                               1\n",
       "likes_rank                                  1\n",
       "collects_rank                               1\n",
       "video_category                    Long (>30s)\n",
       "video_length_category                 >5 mins\n",
       "Name: 49291, Length: 62, dtype: object"
      ]
     },
     "execution_count": 146,
     "metadata": {},
     "output_type": "execute_result"
    }
   ],
   "source": [
    "max_index = top_video_weekly_df[top_video_weekly_df['year'] != 2025]['views'].idxmax()\n",
    "top_video_weekly_df.loc[max_index]"
   ]
  },
  {
   "cell_type": "code",
   "execution_count": null,
   "metadata": {},
   "outputs": [],
   "source": [
    "# Check necessary columns\n",
    "filt_df = top_video_weekly_df\n",
    "required_columns = ['video.duration', 'views', 'likes', 'comments', 'shares']\n",
    "missing_columns = [\n",
    "    col for col in required_columns if col not in filt_df.columns]\n",
    "if missing_columns:\n",
    "    raise ValueError(f\"Missing columns: {missing_columns}\")"
   ]
  },
  {
   "cell_type": "code",
   "execution_count": null,
   "metadata": {},
   "outputs": [],
   "source": [
    "# Ensure bins are unique and correctly categorized\n",
    "max_duration = filt_df['video.duration'].max()\n",
    "\n",
    "bins = [0, 10, 30, 60, 120, 180, 240, 300, max_duration + 1]\n",
    "labels = ['<10s', '10-30s', '30-60s', '1-2 mins',\n",
    "          '2-3 mins', '3-4 mins', '4-5 mins', '>5 mins']\n",
    "\n",
    "filt_df['video_length_category'] = pd.cut(\n",
    "    filt_df['video.duration'], bins=bins, labels=labels, right=False)"
   ]
  },
  {
   "cell_type": "code",
   "execution_count": 139,
   "metadata": {},
   "outputs": [
    {
     "data": {
      "application/vnd.plotly.v1+json": {
       "config": {
        "plotlyServerURL": "https://plot.ly"
       },
       "data": [
        {
         "hovertemplate": "Video Length Category=%{x}<br>views=%{y}<extra></extra>",
         "legendgroup": "<10s",
         "marker": {
          "color": "#636efa",
          "pattern": {
           "shape": ""
          }
         },
         "name": "<10s",
         "orientation": "v",
         "showlegend": true,
         "textposition": "auto",
         "type": "bar",
         "x": [
          "<10s"
         ],
         "xaxis": "x",
         "y": {
          "bdata": "AAAAANPAQUE=",
          "dtype": "f8"
         },
         "yaxis": "y"
        },
        {
         "hovertemplate": "Video Length Category=%{x}<br>views=%{y}<extra></extra>",
         "legendgroup": "10-30s",
         "marker": {
          "color": "#EF553B",
          "pattern": {
           "shape": ""
          }
         },
         "name": "10-30s",
         "orientation": "v",
         "showlegend": true,
         "textposition": "auto",
         "type": "bar",
         "x": [
          "10-30s"
         ],
         "xaxis": "x",
         "y": {
          "bdata": "P378+BWbS0E=",
          "dtype": "f8"
         },
         "yaxis": "y"
        },
        {
         "hovertemplate": "Video Length Category=%{x}<br>views=%{y}<extra></extra>",
         "legendgroup": "30-60s",
         "marker": {
          "color": "#00cc96",
          "pattern": {
           "shape": ""
          }
         },
         "name": "30-60s",
         "orientation": "v",
         "showlegend": true,
         "textposition": "auto",
         "type": "bar",
         "x": [
          "30-60s"
         ],
         "xaxis": "x",
         "y": {
          "bdata": "yOB8jGdYS0E=",
          "dtype": "f8"
         },
         "yaxis": "y"
        },
        {
         "hovertemplate": "Video Length Category=%{x}<br>views=%{y}<extra></extra>",
         "legendgroup": "1-2 mins",
         "marker": {
          "color": "#ab63fa",
          "pattern": {
           "shape": ""
          }
         },
         "name": "1-2 mins",
         "orientation": "v",
         "showlegend": true,
         "textposition": "auto",
         "type": "bar",
         "x": [
          "1-2 mins"
         ],
         "xaxis": "x",
         "y": {
          "bdata": "y+dS99v+SEE=",
          "dtype": "f8"
         },
         "yaxis": "y"
        },
        {
         "hovertemplate": "Video Length Category=%{x}<br>views=%{y}<extra></extra>",
         "legendgroup": "2-3 mins",
         "marker": {
          "color": "#FFA15A",
          "pattern": {
           "shape": ""
          }
         },
         "name": "2-3 mins",
         "orientation": "v",
         "showlegend": true,
         "textposition": "auto",
         "type": "bar",
         "x": [
          "2-3 mins"
         ],
         "xaxis": "x",
         "y": {
          "bdata": "aRszHi8cSkE=",
          "dtype": "f8"
         },
         "yaxis": "y"
        },
        {
         "hovertemplate": "Video Length Category=%{x}<br>views=%{y}<extra></extra>",
         "legendgroup": "3-4 mins",
         "marker": {
          "color": "#19d3f3",
          "pattern": {
           "shape": ""
          }
         },
         "name": "3-4 mins",
         "orientation": "v",
         "showlegend": true,
         "textposition": "auto",
         "type": "bar",
         "x": [
          "3-4 mins"
         ],
         "xaxis": "x",
         "y": {
          "bdata": "kPKj/Co0SUE=",
          "dtype": "f8"
         },
         "yaxis": "y"
        },
        {
         "hovertemplate": "Video Length Category=%{x}<br>views=%{y}<extra></extra>",
         "legendgroup": "4-5 mins",
         "marker": {
          "color": "#FF6692",
          "pattern": {
           "shape": ""
          }
         },
         "name": "4-5 mins",
         "orientation": "v",
         "showlegend": true,
         "textposition": "auto",
         "type": "bar",
         "x": [
          "4-5 mins"
         ],
         "xaxis": "x",
         "y": {
          "bdata": "dtlllymTRkE=",
          "dtype": "f8"
         },
         "yaxis": "y"
        },
        {
         "hovertemplate": "Video Length Category=%{x}<br>views=%{y}<extra></extra>",
         "legendgroup": ">5 mins",
         "marker": {
          "color": "#B6E880",
          "pattern": {
           "shape": ""
          }
         },
         "name": ">5 mins",
         "orientation": "v",
         "showlegend": true,
         "textposition": "auto",
         "type": "bar",
         "x": [
          ">5 mins"
         ],
         "xaxis": "x",
         "y": {
          "bdata": "27Zt2+isTUE=",
          "dtype": "f8"
         },
         "yaxis": "y"
        }
       ],
       "layout": {
        "barmode": "relative",
        "legend": {
         "title": {
          "text": "Video Length Category"
         },
         "tracegroupgap": 0
        },
        "template": {
         "data": {
          "bar": [
           {
            "error_x": {
             "color": "#2a3f5f"
            },
            "error_y": {
             "color": "#2a3f5f"
            },
            "marker": {
             "line": {
              "color": "#E5ECF6",
              "width": 0.5
             },
             "pattern": {
              "fillmode": "overlay",
              "size": 10,
              "solidity": 0.2
             }
            },
            "type": "bar"
           }
          ],
          "barpolar": [
           {
            "marker": {
             "line": {
              "color": "#E5ECF6",
              "width": 0.5
             },
             "pattern": {
              "fillmode": "overlay",
              "size": 10,
              "solidity": 0.2
             }
            },
            "type": "barpolar"
           }
          ],
          "carpet": [
           {
            "aaxis": {
             "endlinecolor": "#2a3f5f",
             "gridcolor": "white",
             "linecolor": "white",
             "minorgridcolor": "white",
             "startlinecolor": "#2a3f5f"
            },
            "baxis": {
             "endlinecolor": "#2a3f5f",
             "gridcolor": "white",
             "linecolor": "white",
             "minorgridcolor": "white",
             "startlinecolor": "#2a3f5f"
            },
            "type": "carpet"
           }
          ],
          "choropleth": [
           {
            "colorbar": {
             "outlinewidth": 0,
             "ticks": ""
            },
            "type": "choropleth"
           }
          ],
          "contour": [
           {
            "colorbar": {
             "outlinewidth": 0,
             "ticks": ""
            },
            "colorscale": [
             [
              0,
              "#0d0887"
             ],
             [
              0.1111111111111111,
              "#46039f"
             ],
             [
              0.2222222222222222,
              "#7201a8"
             ],
             [
              0.3333333333333333,
              "#9c179e"
             ],
             [
              0.4444444444444444,
              "#bd3786"
             ],
             [
              0.5555555555555556,
              "#d8576b"
             ],
             [
              0.6666666666666666,
              "#ed7953"
             ],
             [
              0.7777777777777778,
              "#fb9f3a"
             ],
             [
              0.8888888888888888,
              "#fdca26"
             ],
             [
              1,
              "#f0f921"
             ]
            ],
            "type": "contour"
           }
          ],
          "contourcarpet": [
           {
            "colorbar": {
             "outlinewidth": 0,
             "ticks": ""
            },
            "type": "contourcarpet"
           }
          ],
          "heatmap": [
           {
            "colorbar": {
             "outlinewidth": 0,
             "ticks": ""
            },
            "colorscale": [
             [
              0,
              "#0d0887"
             ],
             [
              0.1111111111111111,
              "#46039f"
             ],
             [
              0.2222222222222222,
              "#7201a8"
             ],
             [
              0.3333333333333333,
              "#9c179e"
             ],
             [
              0.4444444444444444,
              "#bd3786"
             ],
             [
              0.5555555555555556,
              "#d8576b"
             ],
             [
              0.6666666666666666,
              "#ed7953"
             ],
             [
              0.7777777777777778,
              "#fb9f3a"
             ],
             [
              0.8888888888888888,
              "#fdca26"
             ],
             [
              1,
              "#f0f921"
             ]
            ],
            "type": "heatmap"
           }
          ],
          "histogram": [
           {
            "marker": {
             "pattern": {
              "fillmode": "overlay",
              "size": 10,
              "solidity": 0.2
             }
            },
            "type": "histogram"
           }
          ],
          "histogram2d": [
           {
            "colorbar": {
             "outlinewidth": 0,
             "ticks": ""
            },
            "colorscale": [
             [
              0,
              "#0d0887"
             ],
             [
              0.1111111111111111,
              "#46039f"
             ],
             [
              0.2222222222222222,
              "#7201a8"
             ],
             [
              0.3333333333333333,
              "#9c179e"
             ],
             [
              0.4444444444444444,
              "#bd3786"
             ],
             [
              0.5555555555555556,
              "#d8576b"
             ],
             [
              0.6666666666666666,
              "#ed7953"
             ],
             [
              0.7777777777777778,
              "#fb9f3a"
             ],
             [
              0.8888888888888888,
              "#fdca26"
             ],
             [
              1,
              "#f0f921"
             ]
            ],
            "type": "histogram2d"
           }
          ],
          "histogram2dcontour": [
           {
            "colorbar": {
             "outlinewidth": 0,
             "ticks": ""
            },
            "colorscale": [
             [
              0,
              "#0d0887"
             ],
             [
              0.1111111111111111,
              "#46039f"
             ],
             [
              0.2222222222222222,
              "#7201a8"
             ],
             [
              0.3333333333333333,
              "#9c179e"
             ],
             [
              0.4444444444444444,
              "#bd3786"
             ],
             [
              0.5555555555555556,
              "#d8576b"
             ],
             [
              0.6666666666666666,
              "#ed7953"
             ],
             [
              0.7777777777777778,
              "#fb9f3a"
             ],
             [
              0.8888888888888888,
              "#fdca26"
             ],
             [
              1,
              "#f0f921"
             ]
            ],
            "type": "histogram2dcontour"
           }
          ],
          "mesh3d": [
           {
            "colorbar": {
             "outlinewidth": 0,
             "ticks": ""
            },
            "type": "mesh3d"
           }
          ],
          "parcoords": [
           {
            "line": {
             "colorbar": {
              "outlinewidth": 0,
              "ticks": ""
             }
            },
            "type": "parcoords"
           }
          ],
          "pie": [
           {
            "automargin": true,
            "type": "pie"
           }
          ],
          "scatter": [
           {
            "fillpattern": {
             "fillmode": "overlay",
             "size": 10,
             "solidity": 0.2
            },
            "type": "scatter"
           }
          ],
          "scatter3d": [
           {
            "line": {
             "colorbar": {
              "outlinewidth": 0,
              "ticks": ""
             }
            },
            "marker": {
             "colorbar": {
              "outlinewidth": 0,
              "ticks": ""
             }
            },
            "type": "scatter3d"
           }
          ],
          "scattercarpet": [
           {
            "marker": {
             "colorbar": {
              "outlinewidth": 0,
              "ticks": ""
             }
            },
            "type": "scattercarpet"
           }
          ],
          "scattergeo": [
           {
            "marker": {
             "colorbar": {
              "outlinewidth": 0,
              "ticks": ""
             }
            },
            "type": "scattergeo"
           }
          ],
          "scattergl": [
           {
            "marker": {
             "colorbar": {
              "outlinewidth": 0,
              "ticks": ""
             }
            },
            "type": "scattergl"
           }
          ],
          "scattermap": [
           {
            "marker": {
             "colorbar": {
              "outlinewidth": 0,
              "ticks": ""
             }
            },
            "type": "scattermap"
           }
          ],
          "scattermapbox": [
           {
            "marker": {
             "colorbar": {
              "outlinewidth": 0,
              "ticks": ""
             }
            },
            "type": "scattermapbox"
           }
          ],
          "scatterpolar": [
           {
            "marker": {
             "colorbar": {
              "outlinewidth": 0,
              "ticks": ""
             }
            },
            "type": "scatterpolar"
           }
          ],
          "scatterpolargl": [
           {
            "marker": {
             "colorbar": {
              "outlinewidth": 0,
              "ticks": ""
             }
            },
            "type": "scatterpolargl"
           }
          ],
          "scatterternary": [
           {
            "marker": {
             "colorbar": {
              "outlinewidth": 0,
              "ticks": ""
             }
            },
            "type": "scatterternary"
           }
          ],
          "surface": [
           {
            "colorbar": {
             "outlinewidth": 0,
             "ticks": ""
            },
            "colorscale": [
             [
              0,
              "#0d0887"
             ],
             [
              0.1111111111111111,
              "#46039f"
             ],
             [
              0.2222222222222222,
              "#7201a8"
             ],
             [
              0.3333333333333333,
              "#9c179e"
             ],
             [
              0.4444444444444444,
              "#bd3786"
             ],
             [
              0.5555555555555556,
              "#d8576b"
             ],
             [
              0.6666666666666666,
              "#ed7953"
             ],
             [
              0.7777777777777778,
              "#fb9f3a"
             ],
             [
              0.8888888888888888,
              "#fdca26"
             ],
             [
              1,
              "#f0f921"
             ]
            ],
            "type": "surface"
           }
          ],
          "table": [
           {
            "cells": {
             "fill": {
              "color": "#EBF0F8"
             },
             "line": {
              "color": "white"
             }
            },
            "header": {
             "fill": {
              "color": "#C8D4E3"
             },
             "line": {
              "color": "white"
             }
            },
            "type": "table"
           }
          ]
         },
         "layout": {
          "annotationdefaults": {
           "arrowcolor": "#2a3f5f",
           "arrowhead": 0,
           "arrowwidth": 1
          },
          "autotypenumbers": "strict",
          "coloraxis": {
           "colorbar": {
            "outlinewidth": 0,
            "ticks": ""
           }
          },
          "colorscale": {
           "diverging": [
            [
             0,
             "#8e0152"
            ],
            [
             0.1,
             "#c51b7d"
            ],
            [
             0.2,
             "#de77ae"
            ],
            [
             0.3,
             "#f1b6da"
            ],
            [
             0.4,
             "#fde0ef"
            ],
            [
             0.5,
             "#f7f7f7"
            ],
            [
             0.6,
             "#e6f5d0"
            ],
            [
             0.7,
             "#b8e186"
            ],
            [
             0.8,
             "#7fbc41"
            ],
            [
             0.9,
             "#4d9221"
            ],
            [
             1,
             "#276419"
            ]
           ],
           "sequential": [
            [
             0,
             "#0d0887"
            ],
            [
             0.1111111111111111,
             "#46039f"
            ],
            [
             0.2222222222222222,
             "#7201a8"
            ],
            [
             0.3333333333333333,
             "#9c179e"
            ],
            [
             0.4444444444444444,
             "#bd3786"
            ],
            [
             0.5555555555555556,
             "#d8576b"
            ],
            [
             0.6666666666666666,
             "#ed7953"
            ],
            [
             0.7777777777777778,
             "#fb9f3a"
            ],
            [
             0.8888888888888888,
             "#fdca26"
            ],
            [
             1,
             "#f0f921"
            ]
           ],
           "sequentialminus": [
            [
             0,
             "#0d0887"
            ],
            [
             0.1111111111111111,
             "#46039f"
            ],
            [
             0.2222222222222222,
             "#7201a8"
            ],
            [
             0.3333333333333333,
             "#9c179e"
            ],
            [
             0.4444444444444444,
             "#bd3786"
            ],
            [
             0.5555555555555556,
             "#d8576b"
            ],
            [
             0.6666666666666666,
             "#ed7953"
            ],
            [
             0.7777777777777778,
             "#fb9f3a"
            ],
            [
             0.8888888888888888,
             "#fdca26"
            ],
            [
             1,
             "#f0f921"
            ]
           ]
          },
          "colorway": [
           "#636efa",
           "#EF553B",
           "#00cc96",
           "#ab63fa",
           "#FFA15A",
           "#19d3f3",
           "#FF6692",
           "#B6E880",
           "#FF97FF",
           "#FECB52"
          ],
          "font": {
           "color": "#2a3f5f"
          },
          "geo": {
           "bgcolor": "white",
           "lakecolor": "white",
           "landcolor": "#E5ECF6",
           "showlakes": true,
           "showland": true,
           "subunitcolor": "white"
          },
          "hoverlabel": {
           "align": "left"
          },
          "hovermode": "closest",
          "mapbox": {
           "style": "light"
          },
          "paper_bgcolor": "white",
          "plot_bgcolor": "#E5ECF6",
          "polar": {
           "angularaxis": {
            "gridcolor": "white",
            "linecolor": "white",
            "ticks": ""
           },
           "bgcolor": "#E5ECF6",
           "radialaxis": {
            "gridcolor": "white",
            "linecolor": "white",
            "ticks": ""
           }
          },
          "scene": {
           "xaxis": {
            "backgroundcolor": "#E5ECF6",
            "gridcolor": "white",
            "gridwidth": 2,
            "linecolor": "white",
            "showbackground": true,
            "ticks": "",
            "zerolinecolor": "white"
           },
           "yaxis": {
            "backgroundcolor": "#E5ECF6",
            "gridcolor": "white",
            "gridwidth": 2,
            "linecolor": "white",
            "showbackground": true,
            "ticks": "",
            "zerolinecolor": "white"
           },
           "zaxis": {
            "backgroundcolor": "#E5ECF6",
            "gridcolor": "white",
            "gridwidth": 2,
            "linecolor": "white",
            "showbackground": true,
            "ticks": "",
            "zerolinecolor": "white"
           }
          },
          "shapedefaults": {
           "line": {
            "color": "#2a3f5f"
           }
          },
          "ternary": {
           "aaxis": {
            "gridcolor": "white",
            "linecolor": "white",
            "ticks": ""
           },
           "baxis": {
            "gridcolor": "white",
            "linecolor": "white",
            "ticks": ""
           },
           "bgcolor": "#E5ECF6",
           "caxis": {
            "gridcolor": "white",
            "linecolor": "white",
            "ticks": ""
           }
          },
          "title": {
           "x": 0.05
          },
          "xaxis": {
           "automargin": true,
           "gridcolor": "white",
           "linecolor": "white",
           "ticks": "",
           "title": {
            "standoff": 15
           },
           "zerolinecolor": "white",
           "zerolinewidth": 2
          },
          "yaxis": {
           "automargin": true,
           "gridcolor": "white",
           "linecolor": "white",
           "ticks": "",
           "title": {
            "standoff": 15
           },
           "zerolinecolor": "white",
           "zerolinewidth": 2
          }
         }
        },
        "title": {
         "text": "Average Views by Video Length Category"
        },
        "xaxis": {
         "anchor": "y",
         "categoryarray": [
          "<10s",
          "10-30s",
          "30-60s",
          "1-2 mins",
          "2-3 mins",
          "3-4 mins",
          "4-5 mins",
          ">5 mins"
         ],
         "categoryorder": "array",
         "domain": [
          0,
          1
         ],
         "title": {
          "text": "Video Length Category"
         }
        },
        "yaxis": {
         "anchor": "x",
         "domain": [
          0,
          1
         ],
         "title": {
          "text": "views"
         }
        }
       }
      }
     },
     "metadata": {},
     "output_type": "display_data"
    }
   ],
   "source": [
    "# Insight 1.1: Views by Video Length Category\n",
    "views_by_length = filt_df.groupby('video_length_category')[\n",
    "    'views'].mean().reset_index()\n",
    "fig1 = px.bar(views_by_length, x='video_length_category', y='views',\n",
    "              title=\"Average Views by Video Length Category\",\n",
    "              labels={'statsV2.playCount': 'Average Views',\n",
    "                      'video_length_category': 'Video Length Category'},\n",
    "              color='video_length_category')\n",
    "fig1.show()"
   ]
  }
 ],
 "metadata": {
  "kernelspec": {
   "display_name": ".venv",
   "language": "python",
   "name": "python3"
  },
  "language_info": {
   "codemirror_mode": {
    "name": "ipython",
    "version": 3
   },
   "file_extension": ".py",
   "mimetype": "text/x-python",
   "name": "python",
   "nbconvert_exporter": "python",
   "pygments_lexer": "ipython3",
   "version": "3.10.11"
  }
 },
 "nbformat": 4,
 "nbformat_minor": 2
}
