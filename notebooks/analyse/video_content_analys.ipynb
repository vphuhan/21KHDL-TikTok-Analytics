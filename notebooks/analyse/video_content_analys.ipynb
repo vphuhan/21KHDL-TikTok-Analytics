{
 "cells": [
  {
   "cell_type": "markdown",
   "metadata": {},
   "source": [
    "# Đọc\n"
   ]
  },
  {
   "cell_type": "code",
   "execution_count": 5,
   "metadata": {},
   "outputs": [],
   "source": [
    "import pandas as pd\n",
    "import os\n",
    "import json\n",
    "import numpy as np\n",
    "import matplotlib.pyplot as plt\n",
    "import seaborn as sns\n",
    "import ast\n",
    "\n",
    "os.chdir(\"/Users/vophuhan/Everything/University/Năm 4/Semester 2/Ứng dụng Phân tích dữ liệu thông minh/21KHDL-TikTok-Analytics\")"
   ]
  },
  {
   "cell_type": "code",
   "execution_count": 6,
   "metadata": {},
   "outputs": [],
   "source": [
    "# Define data types for some columns\n",
    "dtypes = {\n",
    "    \"id\": np.object_,\n",
    "    \"video.id\": np.object_,\n",
    "    \"video.videoID\": np.object_,\n",
    "    \"user.commerceUserInfo.category\": np.object_,\n",
    "    \"user.commerceUserInfo.categoryButton\": np.object_,\n",
    "    \"BAInfo\": np.object_,\n",
    "    \"user.bioLink.link\": np.object_,\n",
    "}"
   ]
  },
  {
   "cell_type": "code",
   "execution_count": 7,
   "metadata": {},
   "outputs": [
    {
     "name": "stdout",
     "output_type": "stream",
     "text": [
      "<class 'pandas.core.frame.DataFrame'>\n",
      "RangeIndex: 1400 entries, 0 to 1399\n",
      "Data columns (total 40 columns):\n",
      " #   Column              Non-Null Count  Dtype  \n",
      "---  ------              --------------  -----  \n",
      " 0   year                1400 non-null   int64  \n",
      " 1   week                1400 non-null   int64  \n",
      " 2   weekly_score        1400 non-null   float64\n",
      " 3   weekly_score_rank   1400 non-null   float64\n",
      " 4   username            1400 non-null   object \n",
      " 5   video.id            1400 non-null   object \n",
      " 6   desc                1399 non-null   object \n",
      " 7   video.duration_x    1400 non-null   float64\n",
      " 8   hashtags            1393 non-null   object \n",
      " 9   num_hashtags        1400 non-null   int64  \n",
      " 10  engagement_rate     1400 non-null   float64\n",
      " 11  video.url           1400 non-null   object \n",
      " 12  transcript          1332 non-null   object \n",
      " 13  category            1397 non-null   object \n",
      " 14  hook_type           1397 non-null   object \n",
      " 15  structure_style     1094 non-null   object \n",
      " 16  tone_of_voice       1397 non-null   object \n",
      " 17  pacing              1094 non-null   object \n",
      " 18  has_cta             1397 non-null   object \n",
      " 19  cta_type            1397 non-null   object \n",
      " 20  has_personal_story  1397 non-null   object \n",
      " 21  main_content_focus  1397 non-null   object \n",
      " 22  speaking_style      1094 non-null   object \n",
      " 23  emotion_keywords    1094 non-null   object \n",
      " 24  video.duration_y    1400 non-null   float64\n",
      " 25  views               1400 non-null   float64\n",
      " 26  likes               1400 non-null   float64\n",
      " 27  comments            1400 non-null   float64\n",
      " 28  shares              1400 non-null   float64\n",
      " 29  collects            1400 non-null   float64\n",
      " 30  views_rank          1400 non-null   int64  \n",
      " 31  likes_rank          1400 non-null   int64  \n",
      " 32  comments_rank       1400 non-null   int64  \n",
      " 33  shares_rank         1400 non-null   int64  \n",
      " 34  collects_rank       1400 non-null   int64  \n",
      " 35  user.likes          1400 non-null   float64\n",
      " 36  user.followers      1400 non-null   float64\n",
      " 37  user.followings     1400 non-null   float64\n",
      " 38  user.hearts         1400 non-null   float64\n",
      " 39  user.videos         1400 non-null   float64\n",
      "dtypes: float64(15), int64(8), object(17)\n",
      "memory usage: 437.6+ KB\n"
     ]
    }
   ],
   "source": [
    "df = pd.read_csv(\n",
    "    \"notebooks/analyse/content_analyse.csv\", dtype=dtypes)  # hoặc đã có sẵn\n",
    "df.info()"
   ]
  },
  {
   "cell_type": "code",
   "execution_count": 8,
   "metadata": {},
   "outputs": [
    {
     "data": {
      "text/plain": [
       "has_cta\n",
       "True     1175\n",
       "False     222\n",
       "Name: count, dtype: int64"
      ]
     },
     "execution_count": 8,
     "metadata": {},
     "output_type": "execute_result"
    }
   ],
   "source": [
    "df['has_cta'].value_counts()"
   ]
  },
  {
   "cell_type": "code",
   "execution_count": 23,
   "metadata": {},
   "outputs": [
    {
     "name": "stderr",
     "output_type": "stream",
     "text": [
      "/var/folders/5s/3t7kh6rn1_5_jk7f9tjf_zrh0000gn/T/ipykernel_71928/607229068.py:1: SettingWithCopyWarning: \n",
      "A value is trying to be set on a copy of a slice from a DataFrame\n",
      "\n",
      "See the caveats in the documentation: https://pandas.pydata.org/pandas-docs/stable/user_guide/indexing.html#returning-a-view-versus-a-copy\n",
      "  df['cta_type'][df['cta_type'] == \"[nan]\"] = []\n"
     ]
    }
   ],
   "source": [
    "df['cta_type'][df['cta_type'] == \"[nan]\"] = []"
   ]
  },
  {
   "cell_type": "markdown",
   "metadata": {},
   "source": [
    "# Visual\n"
   ]
  },
  {
   "cell_type": "code",
   "execution_count": 4,
   "metadata": {},
   "outputs": [
    {
     "data": {
      "image/png": "[encoded data removed]",
      "text/plain": [
       "<Figure size 2000x800 with 10 Axes>"
      ]
     },
     "metadata": {},
     "output_type": "display_data"
    }
   ],
   "source": [
    "# Danh sách các cột cần phân tích\n",
    "list_columns = [\n",
    "    'category', 'hook_type', 'structure_style', 'tone_of_voice', 'pacing',\n",
    "    'has_cta', 'cta_type', 'has_personal_story', 'main_content_focus',\n",
    "    'speaking_style'\n",
    "]\n",
    "\n",
    "# Hàm xử lý chuyển chuỗi list -> list thực sự\n",
    "\n",
    "\n",
    "def parse_list_column(value):\n",
    "    try:\n",
    "        parsed = ast.literal_eval(value) if isinstance(\n",
    "            value, str) and value.startswith('[') else value\n",
    "        return parsed if isinstance(parsed, list) else [parsed]\n",
    "    except:\n",
    "        return [value]\n",
    "\n",
    "\n",
    "# Áp dụng parse cho các cột list\n",
    "for col in list_columns:\n",
    "    df[col] = df[col].apply(parse_list_column)\n",
    "\n",
    "# Vẽ biểu đồ lượt xem trung bình cho từng nhãn trong mỗi cột\n",
    "num_cols = 5\n",
    "num_rows = (len(list_columns) + num_cols - 1) // num_cols\n",
    "fig, axes = plt.subplots(num_rows, num_cols, figsize=(20, 4 * num_rows))\n",
    "axes = axes.flatten()\n",
    "\n",
    "for i, col in enumerate(list_columns):\n",
    "    exploded = df[['views', col]].explode(col)\n",
    "    grouped = exploded.groupby(\n",
    "        col)['views'].mean().sort_values(ascending=False)\n",
    "    sns.barplot(x=grouped.values, y=grouped.index, ax=axes[i])\n",
    "    axes[i].set_title(f'Avg Views by {col}')\n",
    "    axes[i].set_xlabel('Average Views')\n",
    "    axes[i].set_ylabel(None)\n",
    "\n",
    "# Ẩn subplot thừa nếu có\n",
    "for j in range(i+1, len(axes)):\n",
    "    axes[j].set_visible(False)\n",
    "\n",
    "plt.tight_layout()\n",
    "plt.show()"
   ]
  },
  {
   "cell_type": "code",
   "execution_count": 25,
   "metadata": {},
   "outputs": [
    {
     "name": "stdout",
     "output_type": "stream",
     "text": [
      "Top 5 combo hook-tone:\n",
      "hook_tone_combos\n",
      "(Khuyến mãi, Thân mật)    7520000.0\n",
      "(Khuyến mãi, Hào hứng)    7520000.0\n",
      "(Kể chuyện, Trung lập)    6600000.0\n",
      "(Gây tò mò, Khác)         6375000.0\n",
      "(Gây tò mò, Trung lập)    6062500.0\n",
      "Name: views, dtype: float64\n"
     ]
    }
   ],
   "source": [
    "def parse_list_field(val):\n",
    "    if pd.isna(val):\n",
    "        return []\n",
    "    try:\n",
    "        parsed = ast.literal_eval(val)\n",
    "        if isinstance(parsed, list):\n",
    "            return [x for x in parsed if pd.notna(x)]\n",
    "    except:\n",
    "        pass\n",
    "    # Nếu không parse được (ví dụ chuỗi \"nan\"), trả về rỗng\n",
    "    return []\n",
    "\n",
    "\n",
    "# Tạo danh sách kết hợp (hook, tone) cho mỗi video\n",
    "df['hook_list'] = df['hook_type'].apply(parse_list_field)\n",
    "df['tone_list'] = df['tone_of_voice'].apply(parse_list_field)\n",
    "\n",
    "# Tạo cột các cặp (hook, tone) cho mỗi video\n",
    "df['hook_tone_combos'] = df.apply(\n",
    "    lambda row: [(h, t) for h in row['hook_list'] for t in row['tone_list']], axis=1)\n",
    "\n",
    "# Explode các combo\n",
    "combo_exploded = df.explode('hook_tone_combos')\n",
    "combo_exploded = combo_exploded[combo_exploded['hook_tone_combos'].notna()]\n",
    "\n",
    "# Tính trung bình views theo combo (hook, tone)\n",
    "combo_avg = combo_exploded.groupby('hook_tone_combos')[\n",
    "    'views'].mean().sort_values(ascending=False)\n",
    "print(\"Top 5 combo hook-tone:\")\n",
    "print(combo_avg.head(5))"
   ]
  },
  {
   "cell_type": "code",
   "execution_count": 26,
   "metadata": {},
   "outputs": [
    {
     "data": {
      "application/vnd.plotly.v1+json": {
       "config": {
        "plotlyServerURL": "https://plot.ly"
       },
       "data": [
        {
         "coloraxis": "coloraxis",
         "hovertemplate": "Hook Type: %{x}<br>Tone of Voice: %{y}<br>Avg Views: %{z}<extra></extra>",
         "name": "0",
         "texttemplate": "%{z}",
         "type": "heatmap",
         "x": [
          "Gây tò mò",
          "Khuyến mãi",
          "Kể chuyện",
          "Phản hồi bình luận",
          "So sánh",
          "Vào thẳng món",
          "Đặt câu hỏi"
         ],
         "xaxis": "x",
         "y": [
          "Bất mãn",
          "Chân thành",
          "Hài hước",
          "Hào hứng",
          "Khác",
          "Ngạc nhiên",
          "Thân mật",
          "Trung lập"
         ],
         "yaxis": "y",
         "z": {
          "bdata": "q6qqqos8VkEAAAAAAAD4fwAAAACYM1ZBkiRJknyLVEEAAAAAAAD4fwAAAAAosVJBAAAAAAAA+H/RRRddfJxQQQAAAAAAAPh/AAAAAJhRUUGMLrroUmtPQQAAAAAAAPh/q6qqqupTU0EAAAAAAAD4fwOjzjSm3VVBAAAAAAAA+H8jn3WDWjJSQTaU11COwlRBAAAAAAAA+H8AAAAA+BVVQaalpaU8LlVBt+QmJf8pVEEAAAAAwK9cQQAAAICxqVJBjbDc0wgqU0FVVVVV7QNXQby7u7sc8VRB9aY3vWKQU0EAAAAAllFYQQAAAAAAAPh/AAAAANASU0EAAAAAiCpRQQAAAAAAAPh/AAAAAKDwSUEAAAAAAAD4f6PEzyiZUVZBAAAAAAAA+H9VVVVVTX1VQTmO4zhGy1NBAAAAAAAA+H8lSZIkD69WQQAAAACsHlJBWchC5lGsVEEAAAAAwK9cQTMzMzNbSVJBSZIkSUKQU0EAAAAAsDVVQfM+xYXTCFVB9UDl7DUqU0EAAAAAaSBXQQAAAAAAAPh/AAAAAFAtWUGrqqqqmsVOQQAAAAAAAPh/AAAAAJzZVkEAAAAA8kJRQQ==",
          "dtype": "f8",
          "shape": "8, 7"
         }
        }
       ],
       "layout": {
        "autosize": false,
        "coloraxis": {
         "colorbar": {
          "title": {
           "text": "Avg Views"
          }
         },
         "colorscale": [
          [
           0,
           "#440154"
          ],
          [
           0.1111111111111111,
           "#482878"
          ],
          [
           0.2222222222222222,
           "#3e4989"
          ],
          [
           0.3333333333333333,
           "#31688e"
          ],
          [
           0.4444444444444444,
           "#26828e"
          ],
          [
           0.5555555555555556,
           "#1f9e89"
          ],
          [
           0.6666666666666666,
           "#35b779"
          ],
          [
           0.7777777777777778,
           "#6ece58"
          ],
          [
           0.8888888888888888,
           "#b5de2b"
          ],
          [
           1,
           "#fde725"
          ]
         ]
        },
        "height": 600,
        "template": {
         "data": {
          "bar": [
           {
            "error_x": {
             "color": "#2a3f5f"
            },
            "error_y": {
             "color": "#2a3f5f"
            },
            "marker": {
             "line": {
              "color": "#E5ECF6",
              "width": 0.5
             },
             "pattern": {
              "fillmode": "overlay",
              "size": 10,
              "solidity": 0.2
             }
            },
            "type": "bar"
           }
          ],
          "barpolar": [
           {
            "marker": {
             "line": {
              "color": "#E5ECF6",
              "width": 0.5
             },
             "pattern": {
              "fillmode": "overlay",
              "size": 10,
              "solidity": 0.2
             }
            },
            "type": "barpolar"
           }
          ],
          "carpet": [
           {
            "aaxis": {
             "endlinecolor": "#2a3f5f",
             "gridcolor": "white",
             "linecolor": "white",
             "minorgridcolor": "white",
             "startlinecolor": "#2a3f5f"
            },
            "baxis": {
             "endlinecolor": "#2a3f5f",
             "gridcolor": "white",
             "linecolor": "white",
             "minorgridcolor": "white",
             "startlinecolor": "#2a3f5f"
            },
            "type": "carpet"
           }
          ],
          "choropleth": [
           {
            "colorbar": {
             "outlinewidth": 0,
             "ticks": ""
            },
            "type": "choropleth"
           }
          ],
          "contour": [
           {
            "colorbar": {
             "outlinewidth": 0,
             "ticks": ""
            },
            "colorscale": [
             [
              0,
              "#0d0887"
             ],
             [
              0.1111111111111111,
              "#46039f"
             ],
             [
              0.2222222222222222,
              "#7201a8"
             ],
             [
              0.3333333333333333,
              "#9c179e"
             ],
             [
              0.4444444444444444,
              "#bd3786"
             ],
             [
              0.5555555555555556,
              "#d8576b"
             ],
             [
              0.6666666666666666,
              "#ed7953"
             ],
             [
              0.7777777777777778,
              "#fb9f3a"
             ],
             [
              0.8888888888888888,
              "#fdca26"
             ],
             [
              1,
              "#f0f921"
             ]
            ],
            "type": "contour"
           }
          ],
          "contourcarpet": [
           {
            "colorbar": {
             "outlinewidth": 0,
             "ticks": ""
            },
            "type": "contourcarpet"
           }
          ],
          "heatmap": [
           {
            "colorbar": {
             "outlinewidth": 0,
             "ticks": ""
            },
            "colorscale": [
             [
              0,
              "#0d0887"
             ],
             [
              0.1111111111111111,
              "#46039f"
             ],
             [
              0.2222222222222222,
              "#7201a8"
             ],
             [
              0.3333333333333333,
              "#9c179e"
             ],
             [
              0.4444444444444444,
              "#bd3786"
             ],
             [
              0.5555555555555556,
              "#d8576b"
             ],
             [
              0.6666666666666666,
              "#ed7953"
             ],
             [
              0.7777777777777778,
              "#fb9f3a"
             ],
             [
              0.8888888888888888,
              "#fdca26"
             ],
             [
              1,
              "#f0f921"
             ]
            ],
            "type": "heatmap"
           }
          ],
          "histogram": [
           {
            "marker": {
             "pattern": {
              "fillmode": "overlay",
              "size": 10,
              "solidity": 0.2
             }
            },
            "type": "histogram"
           }
          ],
          "histogram2d": [
           {
            "colorbar": {
             "outlinewidth": 0,
             "ticks": ""
            },
            "colorscale": [
             [
              0,
              "#0d0887"
             ],
             [
              0.1111111111111111,
              "#46039f"
             ],
             [
              0.2222222222222222,
              "#7201a8"
             ],
             [
              0.3333333333333333,
              "#9c179e"
             ],
             [
              0.4444444444444444,
              "#bd3786"
             ],
             [
              0.5555555555555556,
              "#d8576b"
             ],
             [
              0.6666666666666666,
              "#ed7953"
             ],
             [
              0.7777777777777778,
              "#fb9f3a"
             ],
             [
              0.8888888888888888,
              "#fdca26"
             ],
             [
              1,
              "#f0f921"
             ]
            ],
            "type": "histogram2d"
           }
          ],
          "histogram2dcontour": [
           {
            "colorbar": {
             "outlinewidth": 0,
             "ticks": ""
            },
            "colorscale": [
             [
              0,
              "#0d0887"
             ],
             [
              0.1111111111111111,
              "#46039f"
             ],
             [
              0.2222222222222222,
              "#7201a8"
             ],
             [
              0.3333333333333333,
              "#9c179e"
             ],
             [
              0.4444444444444444,
              "#bd3786"
             ],
             [
              0.5555555555555556,
              "#d8576b"
             ],
             [
              0.6666666666666666,
              "#ed7953"
             ],
             [
              0.7777777777777778,
              "#fb9f3a"
             ],
             [
              0.8888888888888888,
              "#fdca26"
             ],
             [
              1,
              "#f0f921"
             ]
            ],
            "type": "histogram2dcontour"
           }
          ],
          "mesh3d": [
           {
            "colorbar": {
             "outlinewidth": 0,
             "ticks": ""
            },
            "type": "mesh3d"
           }
          ],
          "parcoords": [
           {
            "line": {
             "colorbar": {
              "outlinewidth": 0,
              "ticks": ""
             }
            },
            "type": "parcoords"
           }
          ],
          "pie": [
           {
            "automargin": true,
            "type": "pie"
           }
          ],
          "scatter": [
           {
            "fillpattern": {
             "fillmode": "overlay",
             "size": 10,
             "solidity": 0.2
            },
            "type": "scatter"
           }
          ],
          "scatter3d": [
           {
            "line": {
             "colorbar": {
              "outlinewidth": 0,
              "ticks": ""
             }
            },
            "marker": {
             "colorbar": {
              "outlinewidth": 0,
              "ticks": ""
             }
            },
            "type": "scatter3d"
           }
          ],
          "scattercarpet": [
           {
            "marker": {
             "colorbar": {
              "outlinewidth": 0,
              "ticks": ""
             }
            },
            "type": "scattercarpet"
           }
          ],
          "scattergeo": [
           {
            "marker": {
             "colorbar": {
              "outlinewidth": 0,
              "ticks": ""
             }
            },
            "type": "scattergeo"
           }
          ],
          "scattergl": [
           {
            "marker": {
             "colorbar": {
              "outlinewidth": 0,
              "ticks": ""
             }
            },
            "type": "scattergl"
           }
          ],
          "scattermap": [
           {
            "marker": {
             "colorbar": {
              "outlinewidth": 0,
              "ticks": ""
             }
            },
            "type": "scattermap"
           }
          ],
          "scattermapbox": [
           {
            "marker": {
             "colorbar": {
              "outlinewidth": 0,
              "ticks": ""
             }
            },
            "type": "scattermapbox"
           }
          ],
          "scatterpolar": [
           {
            "marker": {
             "colorbar": {
              "outlinewidth": 0,
              "ticks": ""
             }
            },
            "type": "scatterpolar"
           }
          ],
          "scatterpolargl": [
           {
            "marker": {
             "colorbar": {
              "outlinewidth": 0,
              "ticks": ""
             }
            },
            "type": "scatterpolargl"
           }
          ],
          "scatterternary": [
           {
            "marker": {
             "colorbar": {
              "outlinewidth": 0,
              "ticks": ""
             }
            },
            "type": "scatterternary"
           }
          ],
          "surface": [
           {
            "colorbar": {
             "outlinewidth": 0,
             "ticks": ""
            },
            "colorscale": [
             [
              0,
              "#0d0887"
             ],
             [
              0.1111111111111111,
              "#46039f"
             ],
             [
              0.2222222222222222,
              "#7201a8"
             ],
             [
              0.3333333333333333,
              "#9c179e"
             ],
             [
              0.4444444444444444,
              "#bd3786"
             ],
             [
              0.5555555555555556,
              "#d8576b"
             ],
             [
              0.6666666666666666,
              "#ed7953"
             ],
             [
              0.7777777777777778,
              "#fb9f3a"
             ],
             [
              0.8888888888888888,
              "#fdca26"
             ],
             [
              1,
              "#f0f921"
             ]
            ],
            "type": "surface"
           }
          ],
          "table": [
           {
            "cells": {
             "fill": {
              "color": "#EBF0F8"
             },
             "line": {
              "color": "white"
             }
            },
            "header": {
             "fill": {
              "color": "#C8D4E3"
             },
             "line": {
              "color": "white"
             }
            },
            "type": "table"
           }
          ]
         },
         "layout": {
          "annotationdefaults": {
           "arrowcolor": "#2a3f5f",
           "arrowhead": 0,
           "arrowwidth": 1
          },
          "autotypenumbers": "strict",
          "coloraxis": {
           "colorbar": {
            "outlinewidth": 0,
            "ticks": ""
           }
          },
          "colorscale": {
           "diverging": [
            [
             0,
             "#8e0152"
            ],
            [
             0.1,
             "#c51b7d"
            ],
            [
             0.2,
             "#de77ae"
            ],
            [
             0.3,
             "#f1b6da"
            ],
            [
             0.4,
             "#fde0ef"
            ],
            [
             0.5,
             "#f7f7f7"
            ],
            [
             0.6,
             "#e6f5d0"
            ],
            [
             0.7,
             "#b8e186"
            ],
            [
             0.8,
             "#7fbc41"
            ],
            [
             0.9,
             "#4d9221"
            ],
            [
             1,
             "#276419"
            ]
           ],
           "sequential": [
            [
             0,
             "#0d0887"
            ],
            [
             0.1111111111111111,
             "#46039f"
            ],
            [
             0.2222222222222222,
             "#7201a8"
            ],
            [
             0.3333333333333333,
             "#9c179e"
            ],
            [
             0.4444444444444444,
             "#bd3786"
            ],
            [
             0.5555555555555556,
             "#d8576b"
            ],
            [
             0.6666666666666666,
             "#ed7953"
            ],
            [
             0.7777777777777778,
             "#fb9f3a"
            ],
            [
             0.8888888888888888,
             "#fdca26"
            ],
            [
             1,
             "#f0f921"
            ]
           ],
           "sequentialminus": [
            [
             0,
             "#0d0887"
            ],
            [
             0.1111111111111111,
             "#46039f"
            ],
            [
             0.2222222222222222,
             "#7201a8"
            ],
            [
             0.3333333333333333,
             "#9c179e"
            ],
            [
             0.4444444444444444,
             "#bd3786"
            ],
            [
             0.5555555555555556,
             "#d8576b"
            ],
            [
             0.6666666666666666,
             "#ed7953"
            ],
            [
             0.7777777777777778,
             "#fb9f3a"
            ],
            [
             0.8888888888888888,
             "#fdca26"
            ],
            [
             1,
             "#f0f921"
            ]
           ]
          },
          "colorway": [
           "#636efa",
           "#EF553B",
           "#00cc96",
           "#ab63fa",
           "#FFA15A",
           "#19d3f3",
           "#FF6692",
           "#B6E880",
           "#FF97FF",
           "#FECB52"
          ],
          "font": {
           "color": "#2a3f5f"
          },
          "geo": {
           "bgcolor": "white",
           "lakecolor": "white",
           "landcolor": "#E5ECF6",
           "showlakes": true,
           "showland": true,
           "subunitcolor": "white"
          },
          "hoverlabel": {
           "align": "left"
          },
          "hovermode": "closest",
          "mapbox": {
           "style": "light"
          },
          "paper_bgcolor": "white",
          "plot_bgcolor": "#E5ECF6",
          "polar": {
           "angularaxis": {
            "gridcolor": "white",
            "linecolor": "white",
            "ticks": ""
           },
           "bgcolor": "#E5ECF6",
           "radialaxis": {
            "gridcolor": "white",
            "linecolor": "white",
            "ticks": ""
           }
          },
          "scene": {
           "xaxis": {
            "backgroundcolor": "#E5ECF6",
            "gridcolor": "white",
            "gridwidth": 2,
            "linecolor": "white",
            "showbackground": true,
            "ticks": "",
            "zerolinecolor": "white"
           },
           "yaxis": {
            "backgroundcolor": "#E5ECF6",
            "gridcolor": "white",
            "gridwidth": 2,
            "linecolor": "white",
            "showbackground": true,
            "ticks": "",
            "zerolinecolor": "white"
           },
           "zaxis": {
            "backgroundcolor": "#E5ECF6",
            "gridcolor": "white",
            "gridwidth": 2,
            "linecolor": "white",
            "showbackground": true,
            "ticks": "",
            "zerolinecolor": "white"
           }
          },
          "shapedefaults": {
           "line": {
            "color": "#2a3f5f"
           }
          },
          "ternary": {
           "aaxis": {
            "gridcolor": "white",
            "linecolor": "white",
            "ticks": ""
           },
           "baxis": {
            "gridcolor": "white",
            "linecolor": "white",
            "ticks": ""
           },
           "bgcolor": "#E5ECF6",
           "caxis": {
            "gridcolor": "white",
            "linecolor": "white",
            "ticks": ""
           }
          },
          "title": {
           "x": 0.05
          },
          "xaxis": {
           "automargin": true,
           "gridcolor": "white",
           "linecolor": "white",
           "ticks": "",
           "title": {
            "standoff": 15
           },
           "zerolinecolor": "white",
           "zerolinewidth": 2
          },
          "yaxis": {
           "automargin": true,
           "gridcolor": "white",
           "linecolor": "white",
           "ticks": "",
           "title": {
            "standoff": 15
           },
           "zerolinecolor": "white",
           "zerolinewidth": 2
          }
         }
        },
        "title": {
         "text": "Heatmap: Average Views theo Combo (Hook - Tone)"
        },
        "width": 800,
        "xaxis": {
         "anchor": "y",
         "constrain": "domain",
         "domain": [
          0,
          1
         ],
         "scaleanchor": "y",
         "title": {
          "text": "Hook Type"
         }
        },
        "yaxis": {
         "anchor": "x",
         "autorange": "reversed",
         "constrain": "domain",
         "domain": [
          0,
          1
         ],
         "title": {
          "text": "Tone of Voice"
         }
        }
       }
      }
     },
     "metadata": {},
     "output_type": "display_data"
    }
   ],
   "source": [
    "import pandas as pd\n",
    "import plotly.express as px\n",
    "\n",
    "# Chuyển combo_avg (index là tuple) thành DataFrame\n",
    "combo_df = combo_avg.reset_index()\n",
    "combo_df[['hook', 'tone']] = pd.DataFrame(\n",
    "    combo_df['hook_tone_combos'].tolist(), index=combo_df.index)\n",
    "combo_df = combo_df.rename(columns={'views': 'avg_views'})\n",
    "\n",
    "# Pivot thành dạng ma trận cho heatmap\n",
    "heatmap_data = combo_df.pivot(index='tone', columns='hook', values='avg_views')\n",
    "\n",
    "# Vẽ heatmap\n",
    "fig = px.imshow(\n",
    "    heatmap_data,\n",
    "    text_auto=True,\n",
    "    color_continuous_scale='Viridis',\n",
    "    labels=dict(x=\"Hook Type\", y=\"Tone of Voice\", color=\"Avg Views\"),\n",
    "    title=\"Heatmap: Average Views theo Combo (Hook - Tone)\"\n",
    ")\n",
    "\n",
    "fig.update_layout(\n",
    "    xaxis_title=\"Hook Type\",\n",
    "    yaxis_title=\"Tone of Voice\",\n",
    "    autosize=False,\n",
    "    width=800,\n",
    "    height=600\n",
    ")\n",
    "\n",
    "fig.show()"
   ]
  }
 ],
 "metadata": {
  "kernelspec": {
   "display_name": ".venv",
   "language": "python",
   "name": "python3"
  },
  "language_info": {
   "codemirror_mode": {
    "name": "ipython",
    "version": 3
   },
   "file_extension": ".py",
   "mimetype": "text/x-python",
   "name": "python",
   "nbconvert_exporter": "python",
   "pygments_lexer": "ipython3",
   "version": "3.10.11"
  }
 },
 "nbformat": 4,
 "nbformat_minor": 2
}
