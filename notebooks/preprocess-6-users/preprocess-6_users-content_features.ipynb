{
 "cells": [
  {
   "cell_type": "code",
   "execution_count": 1,
   "metadata": {},
   "outputs": [],
   "source": [
    "import pandas as pd\n",
    "import os\n",
    "import json\n",
    "import numpy as np\n",
    "from IPython.display import Markdown, display\n",
    "import ast\n",
    "# Cho phép hiển thị toàn bộ nội dung transcript\n",
    "# pd.set_option('display.max_colwidth', None)\n",
    "\n",
    "# Explode cột category để mỗi\n",
    "\n",
    "os.chdir(\"/Users/vophuhan/Everything/University/Năm 4/Semester 2/Ứng dụng Phân tích dữ liệu thông minh/21KHDL-TikTok-Analytics\")"
   ]
  },
  {
   "cell_type": "markdown",
   "metadata": {},
   "source": [
    "## Full dataset\n"
   ]
  },
  {
   "cell_type": "code",
   "execution_count": 2,
   "metadata": {},
   "outputs": [],
   "source": [
    "full_df = pd.read_parquet('data/preprocessed_videos.parquet')\n",
    "# full_df.info()"
   ]
  },
  {
   "cell_type": "markdown",
   "metadata": {},
   "source": [
    "## Transcript dataset\n"
   ]
  },
  {
   "cell_type": "code",
   "execution_count": 3,
   "metadata": {},
   "outputs": [
    {
     "name": "stdout",
     "output_type": "stream",
     "text": [
      "<class 'pandas.core.frame.DataFrame'>\n",
      "RangeIndex: 1335 entries, 0 to 1334\n",
      "Data columns (total 11 columns):\n",
      " #   Column                     Non-Null Count  Dtype \n",
      "---  ------                     --------------  ----- \n",
      " 0   author.uniqueId            1335 non-null   object\n",
      " 1   desc                       1335 non-null   object\n",
      " 2   hashtags                   1335 non-null   object\n",
      " 3   hashtag_count              1335 non-null   int64 \n",
      " 4   video.id                   1335 non-null   object\n",
      " 5   transcript                 1318 non-null   object\n",
      " 6   takeaway_1                 1315 non-null   object\n",
      " 7   takeaway_2                 1315 non-null   object\n",
      " 8   takeaway_3                 1315 non-null   object\n",
      " 9   transcript_call_to_action  1327 non-null   object\n",
      " 10  transcript_curiosity_gap   1327 non-null   object\n",
      "dtypes: int64(1), object(10)\n",
      "memory usage: 114.9+ KB\n"
     ]
    }
   ],
   "source": [
    "transcript_df = pd.read_parquet('data/transcript_video_6_authors.parquet')\n",
    "transcript_df.info()"
   ]
  },
  {
   "cell_type": "markdown",
   "metadata": {},
   "source": [
    "## Đọc các file chứa phân tích transcript\n"
   ]
  },
  {
   "cell_type": "code",
   "execution_count": 4,
   "metadata": {},
   "outputs": [
    {
     "name": "stdout",
     "output_type": "stream",
     "text": [
      "<class 'pandas.core.frame.DataFrame'>\n",
      "RangeIndex: 1335 entries, 0 to 1334\n",
      "Data columns (total 15 columns):\n",
      " #   Column              Non-Null Count  Dtype \n",
      "---  ------              --------------  ----- \n",
      " 0   category            1335 non-null   object\n",
      " 1   main_content_focus  1255 non-null   object\n",
      " 2   structure_style     1255 non-null   object\n",
      " 3   hook_type           1255 non-null   object\n",
      " 4   tone_of_voice       1255 non-null   object\n",
      " 5   pacing              1255 non-null   object\n",
      " 6   has_cta             1255 non-null   object\n",
      " 7   cta_type            1255 non-null   object\n",
      " 8   emotion_keywords    1255 non-null   object\n",
      " 9   hook_content        1255 non-null   object\n",
      " 10  cta_phrases         1255 non-null   object\n",
      " 11  highlight_phrases   1255 non-null   object\n",
      " 12  notable_elements    1255 non-null   object\n",
      " 13  gemini_analysis     1254 non-null   object\n",
      " 14  video.id            1335 non-null   object\n",
      "dtypes: object(15)\n",
      "memory usage: 156.6+ KB\n"
     ]
    }
   ],
   "source": [
    "# Đường dẫn folder chứa JSON\n",
    "json_folder = 'data/transcript-6-users'\n",
    "\n",
    "# Danh sách lưu kết quả\n",
    "json_data_list = []\n",
    "\n",
    "# Lặp qua từng ID trong DataFrame\n",
    "for video_id in transcript_df['video.id']:\n",
    "    file_path = os.path.join(json_folder, f\"{video_id}.json\")\n",
    "    if not os.path.exists(file_path):\n",
    "        print(f\"⚠️ File không tồn tại: {file_path}\")\n",
    "        continue\n",
    "\n",
    "    try:\n",
    "        with open(file_path, 'r', encoding='utf-8') as f:\n",
    "            content = json.load(f)\n",
    "        # Thêm video.id vào nội dung JSON để merge được\n",
    "        content['video.id'] = video_id\n",
    "        json_data_list.append(content)\n",
    "    except Exception as e:\n",
    "        print(f\"❌ Lỗi khi đọc file {file_path}: {e}\")\n",
    "\n",
    "# Chuyển thành DataFrame từ danh sách JSON\n",
    "json_df = pd.DataFrame(json_data_list)\n",
    "# json_df = json_df.merge(\n",
    "#     transcript_df[['video.id', 'transcript']], on='video.id')\n",
    "json_df.info()"
   ]
  },
  {
   "cell_type": "code",
   "execution_count": 5,
   "metadata": {},
   "outputs": [],
   "source": [
    "# json_df[json_df['category'] == \"Không liên quan ẩm thực\"]"
   ]
  },
  {
   "cell_type": "markdown",
   "metadata": {},
   "source": [
    "## Tiền xử lý content features trích xuất từ transcript\n"
   ]
  },
  {
   "cell_type": "code",
   "execution_count": 6,
   "metadata": {},
   "outputs": [
    {
     "data": {
      "text/plain": [
       "Index(['category', 'main_content_focus', 'structure_style', 'hook_type',\n",
       "       'tone_of_voice', 'pacing', 'has_cta', 'cta_type', 'emotion_keywords',\n",
       "       'hook_content', 'cta_phrases', 'highlight_phrases', 'notable_elements',\n",
       "       'gemini_analysis', 'video.id'],\n",
       "      dtype='object')"
      ]
     },
     "execution_count": 6,
     "metadata": {},
     "output_type": "execute_result"
    }
   ],
   "source": [
    "json_df.columns"
   ]
  },
  {
   "cell_type": "code",
   "execution_count": 7,
   "metadata": {},
   "outputs": [],
   "source": [
    "cleanned_json_df = json_df.copy()"
   ]
  },
  {
   "cell_type": "markdown",
   "metadata": {},
   "source": [
    "### Hàm để tiền xử ly\n"
   ]
  },
  {
   "cell_type": "code",
   "execution_count": 8,
   "metadata": {},
   "outputs": [],
   "source": [
    "valid_labels_dict = {\n",
    "    \"category\": [\n",
    "        \"Review quán ăn\",\n",
    "        \"Review sản phẩm ăn uống\",\n",
    "        \"Mukbang\",\n",
    "        \"Nấu ăn\",\n",
    "        \"Không liên quan ẩm thực\"\n",
    "    ],\n",
    "    \"main_content_focus\": [\n",
    "        \"Món ăn\",\n",
    "        \"Quán ăn\",\n",
    "        \"Sản phẩm ăn uống\",\n",
    "        \"Công thức nấu ăn\",\n",
    "        \"Cảm nhận trải nghiệm\"\n",
    "    ],\n",
    "    \"structure_style\": [\n",
    "        \"Review mô tả\",\n",
    "        \"Review trải nghiệm\",\n",
    "        \"Kể chuyện\",\n",
    "        \"Hướng dẫn\",\n",
    "        \"So sánh\",\n",
    "        \"Kịch hóa\",\n",
    "        \"Phỏng vấn\",\n",
    "        \"Chia sẻ thông tin\"\n",
    "    ],\n",
    "    \"hook_type\": [\n",
    "        \"Gây tò mò\",\n",
    "        \"Kể chuyện\",\n",
    "        \"Vào thẳng vấn đề\",\n",
    "        \"Đặt câu hỏi\",\n",
    "        \"Phản hồi bình luận\",\n",
    "        \"Khuyến mãi\",\n",
    "        \"So sánh\",\n",
    "        \"Giật tít\",\n",
    "        \"Gây tranh cãi\"\n",
    "    ],\n",
    "    \"tone_of_voice\": [\n",
    "        \"Hào hứng\",\n",
    "        \"Hài hước\",\n",
    "        \"Thân mật\",\n",
    "        \"Ngọt ngào\",\n",
    "        \"Ngạc nhiên\",\n",
    "        \"Trung lập\",\n",
    "        \"Nghiêm túc\",\n",
    "        \"Khó chịu\",\n",
    "        \"Giận dữ\",\n",
    "        \"Bốc phốt\"\n",
    "    ],\n",
    "    \"pacing\": [\n",
    "        \"Nhanh\",\n",
    "        \"Chậm\",\n",
    "        \"Thay đổi\"\n",
    "    ],\n",
    "    \"cta_type\": [\n",
    "        \"Follow\",\n",
    "        \"Like\",\n",
    "        \"Share\",\n",
    "        \"Comment\",\n",
    "        \"Lưu lại\",\n",
    "        \"Mời trải nghiệm\",\n",
    "        \"Xem tiếp\",\n",
    "        \"Liên hệ\",\n",
    "        \"Khác\"\n",
    "    ]\n",
    "}"
   ]
  },
  {
   "cell_type": "code",
   "execution_count": 9,
   "metadata": {},
   "outputs": [],
   "source": [
    "def filter_valid_labels(df, column_name, valid_labels, default_label=None):\n",
    "    \"\"\"\n",
    "    Lọc và chuẩn hóa cột chứa list nhãn:\n",
    "    - Nếu default_label được chỉ định: mọi nhãn không hợp lệ sẽ được thay bằng default_label\n",
    "    - Nếu default_label = None: chỉ giữ lại các nhãn hợp lệ, bỏ nhãn sai\n",
    "    - Nếu sau khi lọc mà danh sách rỗng → giữ rỗng hoặc gán [default_label] nếu có\n",
    "\n",
    "    Args:\n",
    "        df (pd.DataFrame): DataFrame gốc\n",
    "        column_name (str): Tên cột cần xử lý\n",
    "        valid_labels (list): Danh sách các nhãn hợp lệ\n",
    "        default_label (str or None): Nhãn thay thế cho nhãn không hợp lệ, hoặc gán nếu list rỗng\n",
    "\n",
    "    Returns:\n",
    "        pd.DataFrame: DataFrame đã xử lý\n",
    "    \"\"\"\n",
    "    def clean_labels(x):\n",
    "        if isinstance(x, list):\n",
    "            if default_label is not None:\n",
    "                # Thay mọi nhãn không hợp lệ bằng default_label\n",
    "                return [label if label in valid_labels else default_label for label in x]\n",
    "            else:\n",
    "                # Giữ lại nhãn hợp lệ, bỏ nhãn sai\n",
    "                return [label for label in x if label in valid_labels]\n",
    "        return x  # Nếu không phải list → giữ nguyên\n",
    "\n",
    "    df[column_name] = df[column_name].apply(clean_labels)\n",
    "    return df"
   ]
  },
  {
   "cell_type": "code",
   "execution_count": 10,
   "metadata": {},
   "outputs": [
    {
     "name": "stdout",
     "output_type": "stream",
     "text": [
      "\n",
      "📊 Value counts for: category\n",
      "category\n",
      "Nấu ăn                     526\n",
      "Review sản phẩm ăn uống    458\n",
      "Review quán ăn             286\n",
      "Không liên quan ẩm thực    108\n",
      "Mukbang                     15\n",
      "Review trải nghiệm          10\n",
      "Kể chuyện                    3\n",
      "Kịch hóa                     3\n",
      "Làm đẹp                      2\n",
      "Sinh hoạt                    1\n",
      "Khuyến mãi                   1\n",
      "So sánh                      1\n",
      "Chia sẻ thông tin            1\n",
      "Name: count, dtype: int64\n",
      "\n",
      "📊 Value counts for: main_content_focus\n",
      "main_content_focus\n",
      "Cảm nhận trải nghiệm    880\n",
      "Món ăn                  767\n",
      "Sản phẩm ăn uống        426\n",
      "Công thức nấu ăn        395\n",
      "Quán ăn                 282\n",
      "Name: count, dtype: int64\n",
      "\n",
      "📊 Value counts for: structure_style\n",
      "structure_style\n",
      "Review trải nghiệm    885\n",
      "Hướng dẫn             442\n",
      "Kể chuyện             254\n",
      "Review mô tả          112\n",
      "Kịch hóa               14\n",
      "Phỏng vấn              12\n",
      "So sánh                10\n",
      "Chia sẻ thông tin       7\n",
      "Name: count, dtype: int64\n",
      "\n",
      "📊 Value counts for: hook_type\n",
      "hook_type\n",
      "Vào thẳng vấn đề      793\n",
      "Gây tò mò             195\n",
      "Kể chuyện             157\n",
      "Đặt câu hỏi            92\n",
      "Phản hồi bình luận     30\n",
      "Khuyến mãi              9\n",
      "Giật tít                4\n",
      "So sánh                 2\n",
      "Gây tranh cãi           1\n",
      "                        1\n",
      "Name: count, dtype: int64\n",
      "\n",
      "📊 Value counts for: tone_of_voice\n",
      "tone_of_voice\n",
      "Thân mật      1137\n",
      "Hào hứng       708\n",
      "Hài hước       292\n",
      "Ngạc nhiên      62\n",
      "Trung lập       23\n",
      "Khó chịu         9\n",
      "Ngọt ngào        6\n",
      "Bốc phốt         1\n",
      "Thẳng thắn       1\n",
      "Tự tin           1\n",
      "Tò mò            1\n",
      "Thất vọng        1\n",
      "Name: count, dtype: int64\n",
      "\n",
      "📊 Value counts for: pacing\n",
      "pacing\n",
      "Thay đổi      527\n",
      "Nhanh         510\n",
      "Chậm          177\n",
      "Trung bình      2\n",
      "Name: count, dtype: int64\n",
      "\n",
      "📊 Value counts for: cta_type\n",
      "cta_type\n",
      "Mời trải nghiệm    465\n",
      "Comment             88\n",
      "Khác                67\n",
      "Xem tiếp            63\n",
      "Follow              52\n",
      "Liên hệ             52\n",
      "Lưu lại             20\n",
      "Khuyến mãi           6\n",
      "Share                5\n",
      "Like                 4\n",
      "Bình luận            1\n",
      "Rủ bạn bè            1\n",
      "Tạm biệt             1\n",
      "Ủng hộ               1\n",
      "Name: count, dtype: int64\n"
     ]
    }
   ],
   "source": [
    "for field, valid_labels in valid_labels_dict.items():\n",
    "    print(f\"\\n📊 Value counts for: {field}\")\n",
    "\n",
    "    # Flatten danh sách trong từng dòng thành 1 list duy nhất\n",
    "    all_labels = cleanned_json_df[field].explode()\n",
    "\n",
    "    # Tính value_counts và in ra\n",
    "    print(all_labels.value_counts())"
   ]
  },
  {
   "cell_type": "code",
   "execution_count": 11,
   "metadata": {},
   "outputs": [],
   "source": [
    "# Nhãn mặc định nếu cần (tuỳ chỉnh theo từng trường nếu muốn)\n",
    "default_label = \"Khác\"\n",
    "\n",
    "# Xử lý tất cả các trường\n",
    "for column_name, valid_labels in valid_labels_dict.items():\n",
    "    cleanned_json_df = filter_valid_labels(\n",
    "        cleanned_json_df, column_name, valid_labels, default_label=default_label)"
   ]
  },
  {
   "cell_type": "code",
   "execution_count": 12,
   "metadata": {},
   "outputs": [
    {
     "name": "stdout",
     "output_type": "stream",
     "text": [
      "\n",
      "📊 Value counts for: category\n",
      "category\n",
      "Nấu ăn                     526\n",
      "Review sản phẩm ăn uống    458\n",
      "Review quán ăn             286\n",
      "Không liên quan ẩm thực    108\n",
      "Khác                        22\n",
      "Mukbang                     15\n",
      "Name: count, dtype: int64\n",
      "\n",
      "📊 Value counts for: main_content_focus\n",
      "main_content_focus\n",
      "Cảm nhận trải nghiệm    880\n",
      "Món ăn                  767\n",
      "Sản phẩm ăn uống        426\n",
      "Công thức nấu ăn        395\n",
      "Quán ăn                 282\n",
      "Name: count, dtype: int64\n",
      "\n",
      "📊 Value counts for: structure_style\n",
      "structure_style\n",
      "Review trải nghiệm    885\n",
      "Hướng dẫn             442\n",
      "Kể chuyện             254\n",
      "Review mô tả          112\n",
      "Kịch hóa               14\n",
      "Phỏng vấn              12\n",
      "So sánh                10\n",
      "Chia sẻ thông tin       7\n",
      "Name: count, dtype: int64\n",
      "\n",
      "📊 Value counts for: hook_type\n",
      "hook_type\n",
      "Vào thẳng vấn đề      793\n",
      "Gây tò mò             195\n",
      "Kể chuyện             157\n",
      "Đặt câu hỏi            92\n",
      "Phản hồi bình luận     30\n",
      "Khuyến mãi              9\n",
      "Giật tít                4\n",
      "So sánh                 2\n",
      "Gây tranh cãi           1\n",
      "Khác                    1\n",
      "Name: count, dtype: int64\n",
      "\n",
      "📊 Value counts for: tone_of_voice\n",
      "tone_of_voice\n",
      "Thân mật      1137\n",
      "Hào hứng       708\n",
      "Hài hước       292\n",
      "Ngạc nhiên      62\n",
      "Trung lập       23\n",
      "Khó chịu         9\n",
      "Ngọt ngào        6\n",
      "Khác             4\n",
      "Bốc phốt         1\n",
      "Name: count, dtype: int64\n",
      "\n",
      "📊 Value counts for: pacing\n",
      "pacing\n",
      "Thay đổi    527\n",
      "Nhanh       510\n",
      "Chậm        177\n",
      "Khác          2\n",
      "Name: count, dtype: int64\n",
      "\n",
      "📊 Value counts for: cta_type\n",
      "cta_type\n",
      "Mời trải nghiệm    465\n",
      "Comment             88\n",
      "Khác                77\n",
      "Xem tiếp            63\n",
      "Follow              52\n",
      "Liên hệ             52\n",
      "Lưu lại             20\n",
      "Share                5\n",
      "Like                 4\n",
      "Name: count, dtype: int64\n"
     ]
    }
   ],
   "source": [
    "for field, valid_labels in valid_labels_dict.items():\n",
    "    print(f\"\\n📊 Value counts for: {field}\")\n",
    "\n",
    "    # Flatten danh sách trong từng dòng thành 1 list duy nhất\n",
    "    all_labels = cleanned_json_df[field].explode()\n",
    "\n",
    "    # Tính value_counts và in ra\n",
    "    print(all_labels.value_counts())"
   ]
  },
  {
   "cell_type": "code",
   "execution_count": 13,
   "metadata": {},
   "outputs": [
    {
     "data": {
      "text/html": [
       "<div>\n",
       "<style scoped>\n",
       "    .dataframe tbody tr th:only-of-type {\n",
       "        vertical-align: middle;\n",
       "    }\n",
       "\n",
       "    .dataframe tbody tr th {\n",
       "        vertical-align: top;\n",
       "    }\n",
       "\n",
       "    .dataframe thead th {\n",
       "        text-align: right;\n",
       "    }\n",
       "</style>\n",
       "<table border=\"1\" class=\"dataframe\">\n",
       "  <thead>\n",
       "    <tr style=\"text-align: right;\">\n",
       "      <th></th>\n",
       "      <th>video.id</th>\n",
       "      <th>main_content_focus</th>\n",
       "      <th>structure_style</th>\n",
       "      <th>hook_type</th>\n",
       "      <th>tone_of_voice</th>\n",
       "      <th>pacing</th>\n",
       "      <th>cta_type</th>\n",
       "      <th>category</th>\n",
       "    </tr>\n",
       "  </thead>\n",
       "  <tbody>\n",
       "  </tbody>\n",
       "</table>\n",
       "</div>"
      ],
      "text/plain": [
       "Empty DataFrame\n",
       "Columns: [video.id, main_content_focus, structure_style, hook_type, tone_of_voice, pacing, cta_type, category]\n",
       "Index: []"
      ]
     },
     "execution_count": 13,
     "metadata": {},
     "output_type": "execute_result"
    }
   ],
   "source": [
    "# 1. Các cột cần kiểm tra thiếu dữ liệu (trừ 'category')\n",
    "columns_to_check = [col for col in valid_labels_dict.keys()\n",
    "                    if col != \"category\"]\n",
    "\n",
    "# 2. Lọc dòng có category không chứa \"Không liên quan ẩm thực\"\n",
    "mask_valid_category = cleanned_json_df['category'].apply(\n",
    "    lambda x: isinstance(x, list) and \"Không liên quan ẩm thực\" not in x\n",
    ")\n",
    "\n",
    "# 3. Lọc dòng có ít nhất một cột khác bị None (hoặc NaN nếu có thể)\n",
    "mask_has_none = cleanned_json_df[columns_to_check].isnull().any(axis=1)\n",
    "\n",
    "# 4. Kết hợp 2 điều kiện\n",
    "rows_with_issues = cleanned_json_df[mask_valid_category & mask_has_none]\n",
    "\n",
    "# 5. Xem kết quả\n",
    "rows_with_issues[['video.id'] + columns_to_check + ['category']]"
   ]
  },
  {
   "cell_type": "markdown",
   "metadata": {},
   "source": [
    "### Chuyển các dòng \"Không liên quan ẩm thực\" thành NaN\n"
   ]
  },
  {
   "cell_type": "code",
   "execution_count": 14,
   "metadata": {},
   "outputs": [],
   "source": [
    "# Tạo mask cho các dòng có category chứa \"Không liên quan ẩm thực\"\n",
    "mask_ko_lien_quan = cleanned_json_df['category'].apply(\n",
    "    lambda x: isinstance(x, list) and \"Không liên quan ẩm thực\" in x)\n",
    "\n",
    "# Lấy danh sách các cột cần gán NaN (trừ 'video.id' và 'category')\n",
    "cols_to_null = [col for col in cleanned_json_df.columns if col not in [\n",
    "    'video.id', 'category']]\n",
    "\n",
    "# Gán NaN cho các dòng được chọn\n",
    "cleanned_json_df.loc[mask_ko_lien_quan, cols_to_null] = np.nan"
   ]
  },
  {
   "cell_type": "markdown",
   "metadata": {},
   "source": [
    "### Chuyển thành list và Đồng bộ các cột có list/string rỗng\n"
   ]
  },
  {
   "cell_type": "code",
   "execution_count": 15,
   "metadata": {},
   "outputs": [],
   "source": [
    "def parse_list_column(value):\n",
    "    # Nếu là None hoặc NaN hoặc list toàn NaN → trả về []\n",
    "    if value is None or (isinstance(value, float) and pd.isna(value)):\n",
    "        return []\n",
    "    if isinstance(value, list) and all(isinstance(v, float) and pd.isna(v) for v in value):\n",
    "        return []\n",
    "\n",
    "    try:\n",
    "        parsed = ast.literal_eval(value) if isinstance(\n",
    "            value, str) and value.startswith('[') else value\n",
    "        if isinstance(parsed, list):\n",
    "            return parsed\n",
    "        else:\n",
    "            return [parsed]\n",
    "    except:\n",
    "        return []\n",
    "\n",
    "\n",
    "# def parse_list_column(value):\n",
    "#     try:\n",
    "#         # Nếu là string dạng list → ép kiểu\n",
    "#         parsed = ast.literal_eval(value) if isinstance(\n",
    "#             value, str) and value.startswith('[') else value\n",
    "#         return parsed if isinstance(parsed, list) else [parsed]\n",
    "#     except:\n",
    "#         return [value]\n",
    "\n",
    "\n",
    "def fill_none_string_column(value):\n",
    "    if value is None or (isinstance(value, float) and pd.isna(value)):\n",
    "        return \"\"\n",
    "    try:\n",
    "        if pd.isna(value):\n",
    "            return \"\"\n",
    "    except:\n",
    "        pass\n",
    "    return value"
   ]
  },
  {
   "cell_type": "code",
   "execution_count": 16,
   "metadata": {},
   "outputs": [],
   "source": [
    "\n",
    "# Các cột có dạng list (multi-label)\n",
    "list_columns = ['category', 'hook_type', 'structure_style', 'tone_of_voice', 'emotion_keywords',\n",
    "                'cta_type', 'main_content_focus', 'pacing', 'cta_phrases', 'highlight_phrases', 'notable_elements']\n",
    "\n",
    "# Các cột dạng string\n",
    "string_columns = ['hook_content', 'gemini_analysis']\n",
    "\n",
    "# Áp dụng hàm xử lý list\n",
    "for col in list_columns:\n",
    "    if col in cleanned_json_df.columns:\n",
    "        cleanned_json_df[col] = cleanned_json_df[col].apply(parse_list_column)\n",
    "        cleanned_json_df[col] = cleanned_json_df[col].apply(lambda x: list(\n",
    "            x) if isinstance(x, (list, np.ndarray, pd.Series)) else [])\n",
    "\n",
    "\n",
    "# Áp dụng hàm xử lý string\n",
    "for col in string_columns:\n",
    "    if col in cleanned_json_df.columns:\n",
    "        cleanned_json_df[col] = cleanned_json_df[col].apply(\n",
    "            fill_none_string_column)"
   ]
  },
  {
   "cell_type": "markdown",
   "metadata": {},
   "source": [
    "### Đổi tên `category` thành `categories` cho chuẩn.\n"
   ]
  },
  {
   "cell_type": "code",
   "execution_count": 17,
   "metadata": {},
   "outputs": [],
   "source": [
    "cleanned_json_df = cleanned_json_df.rename(columns={'category': 'categories'})"
   ]
  },
  {
   "cell_type": "markdown",
   "metadata": {},
   "source": [
    "### Merge với `transcript_df`\n"
   ]
  },
  {
   "cell_type": "code",
   "execution_count": 18,
   "metadata": {},
   "outputs": [],
   "source": [
    "# Merge vào DataFrame gốc theo 'video.id'\n",
    "merged_df = transcript_df.merge(cleanned_json_df, on='video.id', how='left')"
   ]
  },
  {
   "cell_type": "code",
   "execution_count": 19,
   "metadata": {},
   "outputs": [
    {
     "data": {
      "text/plain": [
       "Index(['author.uniqueId', 'desc', 'hashtags', 'hashtag_count', 'video.id',\n",
       "       'transcript', 'takeaway_1', 'takeaway_2', 'takeaway_3',\n",
       "       'transcript_call_to_action', 'transcript_curiosity_gap', 'categories',\n",
       "       'main_content_focus', 'structure_style', 'hook_type', 'tone_of_voice',\n",
       "       'pacing', 'has_cta', 'cta_type', 'emotion_keywords', 'hook_content',\n",
       "       'cta_phrases', 'highlight_phrases', 'notable_elements',\n",
       "       'gemini_analysis'],\n",
       "      dtype='object')"
      ]
     },
     "execution_count": 19,
     "metadata": {},
     "output_type": "execute_result"
    }
   ],
   "source": [
    "merged_df.columns"
   ]
  },
  {
   "cell_type": "code",
   "execution_count": 20,
   "metadata": {},
   "outputs": [],
   "source": [
    "merged_df = merged_df.drop(columns=['takeaway_1',\n",
    "                                    'takeaway_2', 'takeaway_3', 'transcript_call_to_action',\n",
    "                                    'transcript_curiosity_gap'])"
   ]
  },
  {
   "cell_type": "markdown",
   "metadata": {},
   "source": [
    "## Lấy các cột thống kê\n"
   ]
  },
  {
   "cell_type": "code",
   "execution_count": 21,
   "metadata": {},
   "outputs": [],
   "source": [
    "renamed_cols = {\n",
    "    # 'author.uniqueId': 'username',\n",
    "    'video.id': 'video.id',\n",
    "    # \"id\": \"id\",\n",
    "    \"isAd\": \"isAd\",\n",
    "    \"video.duration\": \"duration\",\n",
    "    \"statsV2.playCount\": \"views\",  # Lượt xem video\n",
    "    \"statsV2.diggCount\": \"likes\",  # Lượt thích video\n",
    "    \"statsV2.commentCount\": \"comments\",  # Lượt bình luận video\n",
    "    \"statsV2.shareCount\": \"shares\",  # Lượt chia sẻ video\n",
    "    'statsV2.collectCount': \"collects\",\n",
    "    # \"statsV2.playCount_rank\": \"views_rank\",  # Lượt xem video\n",
    "    # \"statsV2.diggCount_rank\": \"likes_rank\",  # Lượt thích video\n",
    "    # \"statsV2.commentCount_rank\": \"comments_rank\",  # Lượt bình luận video\n",
    "    # \"statsV2.shareCount_rank\": \"shares_rank\",  # Lượt chia sẻ video\n",
    "    # 'statsV2.collectCount_rank': \"collects_rank\",\n",
    "    'authorStats.diggCount': \"user.likes\",\n",
    "    'authorStats.followerCount': \"user.followers\",\n",
    "    'authorStats.followingCount': \"user.followings\",\n",
    "    'authorStats.heartCount': \"user.hearts\",\n",
    "    'authorStats.videoCount': \"user.videos\",\n",
    "    'createTime': 'createTime'\n",
    "}"
   ]
  },
  {
   "cell_type": "code",
   "execution_count": 22,
   "metadata": {},
   "outputs": [],
   "source": [
    "stats_df = full_df[renamed_cols.keys()]"
   ]
  },
  {
   "cell_type": "markdown",
   "metadata": {},
   "source": [
    "Dataframe cuối cùng để phân tích:\n"
   ]
  },
  {
   "cell_type": "code",
   "execution_count": 23,
   "metadata": {},
   "outputs": [
    {
     "data": {
      "text/plain": [
       "Index(['author.uniqueId', 'desc', 'hashtags', 'hashtag_count', 'video.id',\n",
       "       'transcript', 'categories', 'main_content_focus', 'structure_style',\n",
       "       'hook_type', 'tone_of_voice', 'pacing', 'has_cta', 'cta_type',\n",
       "       'emotion_keywords', 'hook_content', 'cta_phrases', 'highlight_phrases',\n",
       "       'notable_elements', 'gemini_analysis'],\n",
       "      dtype='object')"
      ]
     },
     "execution_count": 23,
     "metadata": {},
     "output_type": "execute_result"
    }
   ],
   "source": [
    "merged_df.columns"
   ]
  },
  {
   "cell_type": "code",
   "execution_count": 24,
   "metadata": {},
   "outputs": [],
   "source": [
    "# final_df = merged_df.merge(full_df, on=['author.uniqueId', 'video.id', 'video.duration'], how='left').rename(\n",
    "#     columns=renamed_cols)\n",
    "\n",
    "final_df = merged_df.merge(\n",
    "    stats_df, on='video.id', how='left')"
   ]
  },
  {
   "cell_type": "code",
   "execution_count": 25,
   "metadata": {},
   "outputs": [
    {
     "data": {
      "text/plain": [
       "Index(['author.uniqueId', 'desc', 'hashtags', 'hashtag_count', 'video.id',\n",
       "       'transcript', 'categories', 'main_content_focus', 'structure_style',\n",
       "       'hook_type', 'tone_of_voice', 'pacing', 'has_cta', 'cta_type',\n",
       "       'emotion_keywords', 'hook_content', 'cta_phrases', 'highlight_phrases',\n",
       "       'notable_elements', 'gemini_analysis', 'isAd', 'video.duration',\n",
       "       'statsV2.playCount', 'statsV2.diggCount', 'statsV2.commentCount',\n",
       "       'statsV2.shareCount', 'statsV2.collectCount', 'authorStats.diggCount',\n",
       "       'authorStats.followerCount', 'authorStats.followingCount',\n",
       "       'authorStats.heartCount', 'authorStats.videoCount', 'createTime'],\n",
       "      dtype='object')"
      ]
     },
     "execution_count": 25,
     "metadata": {},
     "output_type": "execute_result"
    }
   ],
   "source": [
    "final_df.columns"
   ]
  },
  {
   "cell_type": "code",
   "execution_count": 26,
   "metadata": {},
   "outputs": [],
   "source": [
    "final_df.to_parquet(\n",
    "    \"data/content_features_6_users.parquet\", index=False)"
   ]
  }
 ],
 "metadata": {
  "kernelspec": {
   "display_name": ".venv",
   "language": "python",
   "name": "python3"
  },
  "language_info": {
   "codemirror_mode": {
    "name": "ipython",
    "version": 3
   },
   "file_extension": ".py",
   "mimetype": "text/x-python",
   "name": "python",
   "nbconvert_exporter": "python",
   "pygments_lexer": "ipython3",
   "version": "3.10.11"
  }
 },
 "nbformat": 4,
 "nbformat_minor": 2
}
