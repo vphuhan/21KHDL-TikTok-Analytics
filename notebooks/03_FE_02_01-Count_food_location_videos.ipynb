{
 "cells": [
  {
   "cell_type": "markdown",
   "id": "db172f9f",
   "metadata": {},
   "source": [
    "# Tìm ra các file JSON trong thư mục\n"
   ]
  },
  {
   "cell_type": "code",
   "execution_count": 1,
   "id": "04ff24f6",
   "metadata": {},
   "outputs": [],
   "source": [
    "from typing import List\n",
    "import os\n",
    "\n",
    "\n",
    "def list_file_types(directory: str, file_extension: str) -> List[str]:\n",
    "    \"\"\" List all files with a specific extension in a directory.\n",
    "\n",
    "    Args:\n",
    "        directory (str): Directory path.\n",
    "        file_extension (str): File extension.\n",
    "\n",
    "    Returns:\n",
    "        List[str]: List of file paths.\n",
    "    \"\"\"\n",
    "\n",
    "    file_list: List[str] = []\n",
    "    for root, dirs, files in os.walk(directory):\n",
    "        for file in files:\n",
    "            if file.endswith(file_extension):\n",
    "                file_list.append(os.path.join(root, file))\n",
    "    return file_list"
   ]
  },
  {
   "cell_type": "code",
   "execution_count": 2,
   "id": "b24055d3",
   "metadata": {},
   "outputs": [
    {
     "name": "stdout",
     "output_type": "stream",
     "text": [
      "Number of JSON files found: 14252\n"
     ]
    }
   ],
   "source": [
    "json_files = list_file_types(\"../data/foods-and-locations\", \".json\")\n",
    "print(f\"Number of JSON files found: {len(json_files)}\")\n",
    "# print(json_files[:5])"
   ]
  },
  {
   "cell_type": "code",
   "execution_count": 3,
   "id": "db2b9ee8",
   "metadata": {},
   "outputs": [
    {
     "name": "stderr",
     "output_type": "stream",
     "text": [
      "100%|██████████| 14252/14252 [00:00<00:00, 1509258.98it/s]\n"
     ]
    }
   ],
   "source": [
    "from tqdm import tqdm\n",
    "\n",
    "# Set of filenames\n",
    "file_names = set()\n",
    "\n",
    "# Get a list of JSON files\n",
    "for json_file in tqdm(json_files):\n",
    "    # Extract base name of the file\n",
    "    # remove file extension\n",
    "    file_name = os.path.basename(json_file).replace(\".json\", \"\")\n",
    "    # print(f\"Processing file: {file_name}\")\n",
    "\n",
    "    # Append to the set\n",
    "    file_names.add(file_name)\n",
    "\n",
    "assert len(file_names) == len(json_files), \"Duplicate file names found!\""
   ]
  },
  {
   "cell_type": "code",
   "execution_count": 4,
   "id": "5063ebd1",
   "metadata": {},
   "outputs": [],
   "source": [
    "# Write the set of filenames to a text file\n",
    "with open(\"preprocessed_video_ids.txt\", \"w\") as f:\n",
    "    for file_name in file_names:\n",
    "        f.write(f\"{file_name}\\n\")"
   ]
  },
  {
   "cell_type": "markdown",
   "id": "72767893",
   "metadata": {},
   "source": [
    "# Giảm kích thước file Parquet"
   ]
  },
  {
   "cell_type": "code",
   "execution_count": 5,
   "id": "202de2c2",
   "metadata": {},
   "outputs": [],
   "source": [
    "# import pandas as pd\n",
    "# df = pd.read_parquet(\"top_20_percent_weekly_videos_transcripts.parquet\")\n",
    "# df[[\"video.id\", \"desc\", \"transcript\"]].to_parquet(\n",
    "#     \"small_weekly_videos_transcripts.parquet\", index=False)"
   ]
  }
 ],
 "metadata": {
  "kernelspec": {
   "display_name": ".venv",
   "language": "python",
   "name": "python3"
  },
  "language_info": {
   "codemirror_mode": {
    "name": "ipython",
    "version": 3
   },
   "file_extension": ".py",
   "mimetype": "text/x-python",
   "name": "python",
   "nbconvert_exporter": "python",
   "pygments_lexer": "ipython3",
   "version": "3.11.10"
  }
 },
 "nbformat": 4,
 "nbformat_minor": 5
}
