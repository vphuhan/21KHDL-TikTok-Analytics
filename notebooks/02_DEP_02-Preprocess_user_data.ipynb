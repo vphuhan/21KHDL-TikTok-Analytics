{
 "cells": [
  {
   "cell_type": "markdown",
   "id": "9c59bca7",
   "metadata": {},
   "source": [
    "# Import thư viện cần thiết"
   ]
  },
  {
   "cell_type": "code",
   "execution_count": 1,
   "id": "9c91777d",
   "metadata": {},
   "outputs": [],
   "source": [
    "import pandas as pd\n",
    "import numpy as np\n",
    "import os\n",
    "import sys"
   ]
  },
  {
   "cell_type": "markdown",
   "id": "7f40b1a1",
   "metadata": {},
   "source": [
    "# Khám phá dữ liệu về video"
   ]
  },
  {
   "cell_type": "markdown",
   "id": "68858ac9",
   "metadata": {},
   "source": [
    "## Đọc dữ liệu video sau khi đã được xử lý"
   ]
  },
  {
   "cell_type": "code",
   "execution_count": 2,
   "id": "0189dc91",
   "metadata": {},
   "outputs": [
    {
     "name": "stdout",
     "output_type": "stream",
     "text": [
      "<class 'pandas.core.frame.DataFrame'>\n",
      "RangeIndex: 70996 entries, 0 to 70995\n",
      "Data columns (total 55 columns):\n",
      " #   Column                           Non-Null Count  Dtype                           \n",
      "---  ------                           --------------  -----                           \n",
      " 0   CategoryType                     70996 non-null  object                          \n",
      " 1   author.downloadSetting           70996 non-null  object                          \n",
      " 2   author.duetSetting               70996 non-null  object                          \n",
      " 3   author.id                        70996 non-null  object                          \n",
      " 4   author.nickname                  70996 non-null  object                          \n",
      " 5   author.openFavorite              70996 non-null  object                          \n",
      " 6   author.secUid                    70996 non-null  object                          \n",
      " 7   author.signature                 70996 non-null  object                          \n",
      " 8   author.stitchSetting             70996 non-null  object                          \n",
      " 9   author.uniqueId                  70996 non-null  object                          \n",
      " 10  author.verified                  70996 non-null  object                          \n",
      " 11  authorStats.diggCount            70996 non-null  float64                         \n",
      " 12  authorStats.followerCount        70996 non-null  float64                         \n",
      " 13  authorStats.followingCount       70996 non-null  float64                         \n",
      " 14  authorStats.heartCount           70996 non-null  float64                         \n",
      " 15  authorStats.videoCount           70996 non-null  float64                         \n",
      " 16  createTime                       70996 non-null  datetime64[ns, Asia/Ho_Chi_Minh]\n",
      " 17  desc                             70996 non-null  object                          \n",
      " 18  diversificationId                70996 non-null  object                          \n",
      " 19  isAd                             70996 non-null  object                          \n",
      " 20  itemCommentStatus                70996 non-null  object                          \n",
      " 21  music.authorName                 70996 non-null  object                          \n",
      " 22  music.duration                   70996 non-null  float64                         \n",
      " 23  music.id                         70996 non-null  object                          \n",
      " 24  music.isCopyrighted              70996 non-null  object                          \n",
      " 25  music.original                   70996 non-null  object                          \n",
      " 26  music.title                      70996 non-null  object                          \n",
      " 27  statsV2.collectCount             70996 non-null  float64                         \n",
      " 28  statsV2.commentCount             70996 non-null  float64                         \n",
      " 29  statsV2.diggCount                70996 non-null  float64                         \n",
      " 30  statsV2.playCount                70996 non-null  float64                         \n",
      " 31  statsV2.shareCount               70996 non-null  float64                         \n",
      " 32  textLanguage                     70996 non-null  object                          \n",
      " 33  textTranslatable                 70996 non-null  object                          \n",
      " 34  video.VQScore                    70996 non-null  float64                         \n",
      " 35  video.bitrate                    70996 non-null  float64                         \n",
      " 36  video.claInfo.enableAutoCaption  70996 non-null  object                          \n",
      " 37  video.claInfo.hasOriginalAudio   70996 non-null  object                          \n",
      " 38  video.codecType                  70996 non-null  object                          \n",
      " 39  video.definition                 70996 non-null  object                          \n",
      " 40  video.duration                   70996 non-null  float64                         \n",
      " 41  video.encodedType                70996 non-null  object                          \n",
      " 42  video.height                     70996 non-null  float64                         \n",
      " 43  video.id                         70996 non-null  object                          \n",
      " 44  video.ratio                      70996 non-null  object                          \n",
      " 45  video.videoQuality               70996 non-null  object                          \n",
      " 46  video.volumeInfo.Loudness        70996 non-null  float64                         \n",
      " 47  video.volumeInfo.Peak            70996 non-null  float64                         \n",
      " 48  video.width                      70996 non-null  float64                         \n",
      " 49  collectTime                      70996 non-null  datetime64[ns, Asia/Ho_Chi_Minh]\n",
      " 50  hashtags                         70996 non-null  object                          \n",
      " 51  hashtag_count                    70996 non-null  int64                           \n",
      " 52  createTime_year                  70996 non-null  int32                           \n",
      " 53  createTime_week                  70996 non-null  UInt32                          \n",
      " 54  year_week                        70996 non-null  object                          \n",
      "dtypes: UInt32(1), datetime64[ns, Asia/Ho_Chi_Minh](2), float64(18), int32(1), int64(1), object(32)\n",
      "memory usage: 29.3+ MB\n"
     ]
    }
   ],
   "source": [
    "video_df = pd.read_parquet(\"preprocessed_videos.parquet\")\n",
    "video_df.info()"
   ]
  },
  {
   "cell_type": "markdown",
   "id": "61b88298",
   "metadata": {},
   "source": [
    "## Danh sách các user được đề cập trong dữ liệu về video"
   ]
  },
  {
   "cell_type": "code",
   "execution_count": 3,
   "id": "12259af7",
   "metadata": {},
   "outputs": [
    {
     "name": "stdout",
     "output_type": "stream",
     "text": [
      "Number of unique author ids: 264\n"
     ]
    }
   ],
   "source": [
    "unique_author_ids = video_df[\"author.id\"].unique()\n",
    "print(f\"Number of unique author ids: {len(unique_author_ids)}\")"
   ]
  },
  {
   "cell_type": "markdown",
   "id": "137817c6",
   "metadata": {},
   "source": [
    "# Tiền xử lý dữ liệu về user"
   ]
  },
  {
   "cell_type": "markdown",
   "id": "d823102a",
   "metadata": {},
   "source": [
    "## Đọc dữ liệu user"
   ]
  },
  {
   "cell_type": "markdown",
   "id": "1cb12d6d",
   "metadata": {},
   "source": [
    "Xác định trước kiểu dữ liệu phù hợp cho các cột trong dữ liệu về người dùng"
   ]
  },
  {
   "cell_type": "code",
   "execution_count": 4,
   "id": "f53abef0",
   "metadata": {},
   "outputs": [],
   "source": [
    "user_dtypes = {\n",
    "    \"user.bioLink.risk\": np.object_,\n",
    "    \"user.commerceUserInfo.category\": np.object_,\n",
    "    \"user.commerceUserInfo.categoryButton\": np.object_,\n",
    "    \"user.downloadSetting\": np.object_,\n",
    "    \"user.duetSetting\": np.object_,\n",
    "    \"user.followingVisibility\": np.object_,\n",
    "    \"user.id\": np.object_,\n",
    "    \"user.nickNameModifyTime\": np.object_,\n",
    "    \"user.nickname\": np.object_,\n",
    "    \"user.profileEmbedPermission\": np.object_,\n",
    "    \"user.profileTab.showQuestionTab\": np.object_,\n",
    "    \"user.relation\": np.object_,\n",
    "    \"user.secUid\": np.object_,\n",
    "    \"user.signature\": np.object_,\n",
    "    \"user.stitchSetting\": np.object_,\n",
    "    \"user.uniqueId\": np.object_,\n",
    "    \"user.bioLink.link\": np.object_,\n",
    "    \"user.roomId\": np.object_,\n",
    "}"
   ]
  },
  {
   "cell_type": "code",
   "execution_count": 5,
   "id": "6ef4886e",
   "metadata": {},
   "outputs": [
    {
     "name": "stdout",
     "output_type": "stream",
     "text": [
      "<class 'pandas.core.frame.DataFrame'>\n",
      "RangeIndex: 264 entries, 0 to 263\n",
      "Data columns (total 39 columns):\n",
      " #   Column                                      Non-Null Count  Dtype  \n",
      "---  ------                                      --------------  -----  \n",
      " 0   stats.diggCount                             264 non-null    int64  \n",
      " 1   stats.followerCount                         264 non-null    int64  \n",
      " 2   stats.followingCount                        264 non-null    int64  \n",
      " 3   stats.friendCount                           264 non-null    int64  \n",
      " 4   stats.heart                                 264 non-null    int64  \n",
      " 5   stats.heartCount                            264 non-null    int64  \n",
      " 6   stats.videoCount                            264 non-null    int64  \n",
      " 7   user.bioLink.risk                           119 non-null    object \n",
      " 8   user.canExpPlaylist                         264 non-null    bool   \n",
      " 9   user.commentSetting                         264 non-null    int64  \n",
      " 10  user.commerceUserInfo.category              44 non-null     object \n",
      " 11  user.commerceUserInfo.categoryButton        44 non-null     object \n",
      " 12  user.commerceUserInfo.commerceUser          264 non-null    bool   \n",
      " 13  user.commerceUserInfo.downLoadLink.android  0 non-null      float64\n",
      " 14  user.commerceUserInfo.downLoadLink.ios      0 non-null      float64\n",
      " 15  user.downloadSetting                        264 non-null    object \n",
      " 16  user.duetSetting                            264 non-null    object \n",
      " 17  user.followingVisibility                    264 non-null    object \n",
      " 18  user.ftc                                    264 non-null    bool   \n",
      " 19  user.id                                     264 non-null    object \n",
      " 20  user.isADVirtual                            264 non-null    bool   \n",
      " 21  user.isEmbedBanned                          264 non-null    bool   \n",
      " 22  user.nickNameModifyTime                     247 non-null    object \n",
      " 23  user.nickname                               264 non-null    object \n",
      " 24  user.openFavorite                           264 non-null    bool   \n",
      " 25  user.privateAccount                         264 non-null    bool   \n",
      " 26  user.profileEmbedPermission                 264 non-null    object \n",
      " 27  user.profileTab.showPlayListTab             264 non-null    bool   \n",
      " 28  user.profileTab.showQuestionTab             77 non-null     object \n",
      " 29  user.relation                               264 non-null    object \n",
      " 30  user.secUid                                 264 non-null    object \n",
      " 31  user.secret                                 264 non-null    bool   \n",
      " 32  user.signature                              259 non-null    object \n",
      " 33  user.stitchSetting                          264 non-null    object \n",
      " 34  user.ttSeller                               264 non-null    bool   \n",
      " 35  user.uniqueId                               264 non-null    object \n",
      " 36  user.verified                               264 non-null    bool   \n",
      " 37  user.bioLink.link                           12 non-null     object \n",
      " 38  user.roomId                                 1 non-null      object \n",
      "dtypes: bool(11), float64(2), int64(8), object(18)\n",
      "memory usage: 60.7+ KB\n"
     ]
    }
   ],
   "source": [
    "user_df = pd.read_csv(\"data/interim/final_raw_users.csv\", dtype=user_dtypes)\n",
    "user_df.info()"
   ]
  },
  {
   "cell_type": "markdown",
   "id": "5f7ef6f3",
   "metadata": {},
   "source": [
    "## Chỉ giữ lại các user có trong dữ liệu về video"
   ]
  },
  {
   "cell_type": "code",
   "execution_count": 6,
   "id": "ee06f171",
   "metadata": {},
   "outputs": [
    {
     "name": "stdout",
     "output_type": "stream",
     "text": [
      "All user ids in video_df are present in user_df.\n"
     ]
    }
   ],
   "source": [
    "# Check if the user ids in the video_df are present in the user_df\n",
    "missing_user_ids = set(video_df[\"author.id\"]) - set(user_df[\"user.id\"])\n",
    "if missing_user_ids:\n",
    "    print(f\"Missing user ids in user_df: {missing_user_ids}\")\n",
    "else:\n",
    "    print(\"All user ids in video_df are present in user_df.\")"
   ]
  },
  {
   "cell_type": "markdown",
   "id": "52c67165",
   "metadata": {},
   "source": [
    "## Loại bỏ các cột bị thiếu quá nhiều dữ liệu"
   ]
  },
  {
   "cell_type": "markdown",
   "id": "d66bd365",
   "metadata": {},
   "source": [
    "Tính tỷ lệ thiếu giá trị của các cột"
   ]
  },
  {
   "cell_type": "code",
   "execution_count": 7,
   "id": "a40dd811",
   "metadata": {},
   "outputs": [
    {
     "name": "stdout",
     "output_type": "stream",
     "text": [
      "Missing rate for each column in user_df:\n"
     ]
    },
    {
     "data": {
      "text/html": [
       "<div>\n",
       "<style scoped>\n",
       "    .dataframe tbody tr th:only-of-type {\n",
       "        vertical-align: middle;\n",
       "    }\n",
       "\n",
       "    .dataframe tbody tr th {\n",
       "        vertical-align: top;\n",
       "    }\n",
       "\n",
       "    .dataframe thead th {\n",
       "        text-align: right;\n",
       "    }\n",
       "</style>\n",
       "<table border=\"1\" class=\"dataframe\">\n",
       "  <thead>\n",
       "    <tr style=\"text-align: right;\">\n",
       "      <th></th>\n",
       "      <th>missing_rate</th>\n",
       "    </tr>\n",
       "    <tr>\n",
       "      <th>column_name</th>\n",
       "      <th></th>\n",
       "    </tr>\n",
       "  </thead>\n",
       "  <tbody>\n",
       "    <tr>\n",
       "      <th>user.commerceUserInfo.downLoadLink.ios</th>\n",
       "      <td>100.00%</td>\n",
       "    </tr>\n",
       "    <tr>\n",
       "      <th>user.commerceUserInfo.downLoadLink.android</th>\n",
       "      <td>100.00%</td>\n",
       "    </tr>\n",
       "    <tr>\n",
       "      <th>user.roomId</th>\n",
       "      <td>99.62%</td>\n",
       "    </tr>\n",
       "    <tr>\n",
       "      <th>user.bioLink.link</th>\n",
       "      <td>95.45%</td>\n",
       "    </tr>\n",
       "    <tr>\n",
       "      <th>user.commerceUserInfo.categoryButton</th>\n",
       "      <td>83.33%</td>\n",
       "    </tr>\n",
       "    <tr>\n",
       "      <th>user.commerceUserInfo.category</th>\n",
       "      <td>83.33%</td>\n",
       "    </tr>\n",
       "    <tr>\n",
       "      <th>user.profileTab.showQuestionTab</th>\n",
       "      <td>70.83%</td>\n",
       "    </tr>\n",
       "    <tr>\n",
       "      <th>user.bioLink.risk</th>\n",
       "      <td>54.92%</td>\n",
       "    </tr>\n",
       "    <tr>\n",
       "      <th>user.nickNameModifyTime</th>\n",
       "      <td>6.44%</td>\n",
       "    </tr>\n",
       "    <tr>\n",
       "      <th>user.signature</th>\n",
       "      <td>1.89%</td>\n",
       "    </tr>\n",
       "  </tbody>\n",
       "</table>\n",
       "</div>"
      ],
      "text/plain": [
       "                                           missing_rate\n",
       "column_name                                            \n",
       "user.commerceUserInfo.downLoadLink.ios          100.00%\n",
       "user.commerceUserInfo.downLoadLink.android      100.00%\n",
       "user.roomId                                      99.62%\n",
       "user.bioLink.link                                95.45%\n",
       "user.commerceUserInfo.categoryButton             83.33%\n",
       "user.commerceUserInfo.category                   83.33%\n",
       "user.profileTab.showQuestionTab                  70.83%\n",
       "user.bioLink.risk                                54.92%\n",
       "user.nickNameModifyTime                           6.44%\n",
       "user.signature                                    1.89%"
      ]
     },
     "execution_count": 7,
     "metadata": {},
     "output_type": "execute_result"
    }
   ],
   "source": [
    "# Calculate the missing rate for each column in user_df\n",
    "missing_rate = user_df.isnull().mean()\n",
    "missing_rate = missing_rate[missing_rate > 0].sort_values(\n",
    "    ascending=False).reset_index()\n",
    "missing_rate.columns = [\"column_name\", \"missing_rate\"]\n",
    "missing_rate[\"missing_rate\"] = missing_rate[\"missing_rate\"].apply(\n",
    "    lambda x: f\"{x:.2%}\")\n",
    "missing_rate = missing_rate.set_index(\"column_name\")\n",
    "# Print the missing rate for each column in user_df\n",
    "print(\"Missing rate for each column in user_df:\")\n",
    "missing_rate"
   ]
  },
  {
   "cell_type": "markdown",
   "id": "a14f6a39",
   "metadata": {},
   "source": [
    "Loại bỏ tất cả các cột bị thiếu dữ liệu"
   ]
  },
  {
   "cell_type": "code",
   "execution_count": 8,
   "id": "5b081284",
   "metadata": {},
   "outputs": [],
   "source": [
    "# Remove all columns with more than 50% missing values\n",
    "user_df = user_df.dropna(thresh=len(user_df) * 0.5, axis=1)"
   ]
  },
  {
   "cell_type": "code",
   "execution_count": 9,
   "id": "03f6a721",
   "metadata": {},
   "outputs": [
    {
     "name": "stdout",
     "output_type": "stream",
     "text": [
      "Missing rate for each column in user_df:\n"
     ]
    },
    {
     "data": {
      "text/html": [
       "<div>\n",
       "<style scoped>\n",
       "    .dataframe tbody tr th:only-of-type {\n",
       "        vertical-align: middle;\n",
       "    }\n",
       "\n",
       "    .dataframe tbody tr th {\n",
       "        vertical-align: top;\n",
       "    }\n",
       "\n",
       "    .dataframe thead th {\n",
       "        text-align: right;\n",
       "    }\n",
       "</style>\n",
       "<table border=\"1\" class=\"dataframe\">\n",
       "  <thead>\n",
       "    <tr style=\"text-align: right;\">\n",
       "      <th></th>\n",
       "      <th>missing_rate</th>\n",
       "    </tr>\n",
       "    <tr>\n",
       "      <th>column_name</th>\n",
       "      <th></th>\n",
       "    </tr>\n",
       "  </thead>\n",
       "  <tbody>\n",
       "    <tr>\n",
       "      <th>user.nickNameModifyTime</th>\n",
       "      <td>6.44%</td>\n",
       "    </tr>\n",
       "    <tr>\n",
       "      <th>user.signature</th>\n",
       "      <td>1.89%</td>\n",
       "    </tr>\n",
       "  </tbody>\n",
       "</table>\n",
       "</div>"
      ],
      "text/plain": [
       "                        missing_rate\n",
       "column_name                         \n",
       "user.nickNameModifyTime        6.44%\n",
       "user.signature                 1.89%"
      ]
     },
     "execution_count": 9,
     "metadata": {},
     "output_type": "execute_result"
    }
   ],
   "source": [
    "# Calculate the missing rate for each column in user_df\n",
    "missing_rate = user_df.isnull().mean()\n",
    "missing_rate = missing_rate[missing_rate > 0].sort_values(\n",
    "    ascending=False).reset_index()\n",
    "missing_rate.columns = [\"column_name\", \"missing_rate\"]\n",
    "missing_rate[\"missing_rate\"] = missing_rate[\"missing_rate\"].apply(\n",
    "    lambda x: f\"{x:.2%}\")\n",
    "missing_rate = missing_rate.set_index(\"column_name\")\n",
    "# Print the missing rate for each column in user_df\n",
    "print(\"Missing rate for each column in user_df:\")\n",
    "missing_rate"
   ]
  },
  {
   "cell_type": "markdown",
   "id": "b797a19e",
   "metadata": {},
   "source": [
    "Loại bỏ các cột chỉ có duy nhất một giá trị"
   ]
  },
  {
   "cell_type": "code",
   "execution_count": 10,
   "id": "0ef3e3c6",
   "metadata": {},
   "outputs": [
    {
     "name": "stdout",
     "output_type": "stream",
     "text": [
      "<class 'pandas.core.frame.DataFrame'>\n",
      "RangeIndex: 264 entries, 0 to 263\n",
      "Data columns (total 22 columns):\n",
      " #   Column                              Non-Null Count  Dtype \n",
      "---  ------                              --------------  ----- \n",
      " 0   stats.diggCount                     264 non-null    int64 \n",
      " 1   stats.followerCount                 264 non-null    int64 \n",
      " 2   stats.followingCount                264 non-null    int64 \n",
      " 3   stats.friendCount                   264 non-null    int64 \n",
      " 4   stats.heart                         264 non-null    int64 \n",
      " 5   stats.heartCount                    264 non-null    int64 \n",
      " 6   stats.videoCount                    264 non-null    int64 \n",
      " 7   user.commerceUserInfo.commerceUser  264 non-null    bool  \n",
      " 8   user.downloadSetting                264 non-null    object\n",
      " 9   user.duetSetting                    264 non-null    object\n",
      " 10  user.followingVisibility            264 non-null    object\n",
      " 11  user.id                             264 non-null    object\n",
      " 12  user.nickNameModifyTime             247 non-null    object\n",
      " 13  user.nickname                       264 non-null    object\n",
      " 14  user.openFavorite                   264 non-null    bool  \n",
      " 15  user.profileTab.showPlayListTab     264 non-null    bool  \n",
      " 16  user.secUid                         264 non-null    object\n",
      " 17  user.signature                      259 non-null    object\n",
      " 18  user.stitchSetting                  264 non-null    object\n",
      " 19  user.ttSeller                       264 non-null    bool  \n",
      " 20  user.uniqueId                       264 non-null    object\n",
      " 21  user.verified                       264 non-null    bool  \n",
      "dtypes: bool(5), int64(7), object(10)\n",
      "memory usage: 36.5+ KB\n"
     ]
    }
   ],
   "source": [
    "# Loại bỏ các cột chỉ có một giá trị duy nhất\n",
    "user_df = user_df.loc[:, user_df.nunique() > 1]\n",
    "user_df.info()"
   ]
  },
  {
   "cell_type": "markdown",
   "id": "81eeb605",
   "metadata": {},
   "source": [
    "Điền giá trị \"others\" cho các cột có giá trị là \"unknown\""
   ]
  },
  {
   "cell_type": "code",
   "execution_count": 11,
   "id": "362c75a4",
   "metadata": {},
   "outputs": [],
   "source": [
    "# Điền giá trị \"others\" cho các cột không có kiểu dữ kiệu số \n",
    "non_numeric_columns = user_df.select_dtypes(exclude=[np.number]).columns\n",
    "for col in non_numeric_columns:\n",
    "    user_df[col] = user_df[col].fillna(\"others\")"
   ]
  },
  {
   "cell_type": "markdown",
   "id": "b72ffe95",
   "metadata": {},
   "source": [
    "## Kết quả sau khi tiền xử lý dữ liệu về user"
   ]
  },
  {
   "cell_type": "code",
   "execution_count": 12,
   "id": "c6c5976b",
   "metadata": {},
   "outputs": [
    {
     "name": "stdout",
     "output_type": "stream",
     "text": [
      "<class 'pandas.core.frame.DataFrame'>\n",
      "RangeIndex: 264 entries, 0 to 263\n",
      "Data columns (total 22 columns):\n",
      " #   Column                              Non-Null Count  Dtype \n",
      "---  ------                              --------------  ----- \n",
      " 0   stats.diggCount                     264 non-null    int64 \n",
      " 1   stats.followerCount                 264 non-null    int64 \n",
      " 2   stats.followingCount                264 non-null    int64 \n",
      " 3   stats.friendCount                   264 non-null    int64 \n",
      " 4   stats.heart                         264 non-null    int64 \n",
      " 5   stats.heartCount                    264 non-null    int64 \n",
      " 6   stats.videoCount                    264 non-null    int64 \n",
      " 7   user.commerceUserInfo.commerceUser  264 non-null    bool  \n",
      " 8   user.downloadSetting                264 non-null    object\n",
      " 9   user.duetSetting                    264 non-null    object\n",
      " 10  user.followingVisibility            264 non-null    object\n",
      " 11  user.id                             264 non-null    object\n",
      " 12  user.nickNameModifyTime             264 non-null    object\n",
      " 13  user.nickname                       264 non-null    object\n",
      " 14  user.openFavorite                   264 non-null    bool  \n",
      " 15  user.profileTab.showPlayListTab     264 non-null    bool  \n",
      " 16  user.secUid                         264 non-null    object\n",
      " 17  user.signature                      264 non-null    object\n",
      " 18  user.stitchSetting                  264 non-null    object\n",
      " 19  user.ttSeller                       264 non-null    bool  \n",
      " 20  user.uniqueId                       264 non-null    object\n",
      " 21  user.verified                       264 non-null    bool  \n",
      "dtypes: bool(5), int64(7), object(10)\n",
      "memory usage: 36.5+ KB\n"
     ]
    }
   ],
   "source": [
    "user_df.info()"
   ]
  },
  {
   "cell_type": "markdown",
   "id": "5a49e1be",
   "metadata": {},
   "source": [
    "## Feature Engineering cho dữ liệu về user"
   ]
  },
  {
   "cell_type": "markdown",
   "id": "e1933185",
   "metadata": {},
   "source": [
    "### Tính số lượng video trung bình mà 1 user đăng tải trong mỗi tuần"
   ]
  },
  {
   "cell_type": "code",
   "execution_count": 23,
   "id": "45d15795",
   "metadata": {},
   "outputs": [
    {
     "data": {
      "text/html": [
       "<div>\n",
       "<style scoped>\n",
       "    .dataframe tbody tr th:only-of-type {\n",
       "        vertical-align: middle;\n",
       "    }\n",
       "\n",
       "    .dataframe tbody tr th {\n",
       "        vertical-align: top;\n",
       "    }\n",
       "\n",
       "    .dataframe thead th {\n",
       "        text-align: right;\n",
       "    }\n",
       "</style>\n",
       "<table border=\"1\" class=\"dataframe\">\n",
       "  <thead>\n",
       "    <tr style=\"text-align: right;\">\n",
       "      <th></th>\n",
       "      <th>author.id</th>\n",
       "      <th>video_count</th>\n",
       "      <th>min</th>\n",
       "      <th>max</th>\n",
       "      <th>weeks_between</th>\n",
       "      <th>avg_videos_per_week</th>\n",
       "    </tr>\n",
       "  </thead>\n",
       "  <tbody>\n",
       "    <tr>\n",
       "      <th>0</th>\n",
       "      <td>15475469</td>\n",
       "      <td>235</td>\n",
       "      <td>2023-11-27 18:29:27+07:00</td>\n",
       "      <td>2025-03-18 18:49:09+07:00</td>\n",
       "      <td>68.142857</td>\n",
       "      <td>3.448637</td>\n",
       "    </tr>\n",
       "    <tr>\n",
       "      <th>1</th>\n",
       "      <td>27202912</td>\n",
       "      <td>184</td>\n",
       "      <td>2023-11-25 19:13:30+07:00</td>\n",
       "      <td>2025-03-08 14:31:28+07:00</td>\n",
       "      <td>66.857143</td>\n",
       "      <td>2.752137</td>\n",
       "    </tr>\n",
       "    <tr>\n",
       "      <th>2</th>\n",
       "      <td>63937172755</td>\n",
       "      <td>204</td>\n",
       "      <td>2023-11-26 20:16:51+07:00</td>\n",
       "      <td>2025-03-17 18:42:14+07:00</td>\n",
       "      <td>68.000000</td>\n",
       "      <td>3.000000</td>\n",
       "    </tr>\n",
       "    <tr>\n",
       "      <th>3</th>\n",
       "      <td>6514849123081355266</td>\n",
       "      <td>318</td>\n",
       "      <td>2023-11-26 12:37:27+07:00</td>\n",
       "      <td>2025-03-15 13:25:09+07:00</td>\n",
       "      <td>67.857143</td>\n",
       "      <td>4.686316</td>\n",
       "    </tr>\n",
       "    <tr>\n",
       "      <th>4</th>\n",
       "      <td>6520772993827733506</td>\n",
       "      <td>104</td>\n",
       "      <td>2023-11-27 20:53:10+07:00</td>\n",
       "      <td>2025-03-13 20:29:37+07:00</td>\n",
       "      <td>67.285714</td>\n",
       "      <td>1.545648</td>\n",
       "    </tr>\n",
       "  </tbody>\n",
       "</table>\n",
       "</div>"
      ],
      "text/plain": [
       "             author.id  video_count                       min  \\\n",
       "0             15475469          235 2023-11-27 18:29:27+07:00   \n",
       "1             27202912          184 2023-11-25 19:13:30+07:00   \n",
       "2          63937172755          204 2023-11-26 20:16:51+07:00   \n",
       "3  6514849123081355266          318 2023-11-26 12:37:27+07:00   \n",
       "4  6520772993827733506          104 2023-11-27 20:53:10+07:00   \n",
       "\n",
       "                        max  weeks_between  avg_videos_per_week  \n",
       "0 2025-03-18 18:49:09+07:00      68.142857             3.448637  \n",
       "1 2025-03-08 14:31:28+07:00      66.857143             2.752137  \n",
       "2 2025-03-17 18:42:14+07:00      68.000000             3.000000  \n",
       "3 2025-03-15 13:25:09+07:00      67.857143             4.686316  \n",
       "4 2025-03-13 20:29:37+07:00      67.285714             1.545648  "
      ]
     },
     "execution_count": 23,
     "metadata": {},
     "output_type": "execute_result"
    }
   ],
   "source": [
    "# Group DataFrame by author.id and count the number of videos for each author\n",
    "author_video_counts = video_df.groupby(\n",
    "    \"author.id\").size().reset_index(name=\"video_count\")\n",
    "\n",
    "# Get the time of the first and last video for each author\n",
    "author_first_last = video_df.groupby(\"author.id\")[\n",
    "    \"createTime\"].agg([\"min\", \"max\"]).reset_index()\n",
    "\n",
    "# Merge the two DataFrames to get the video count along with the first and last video times\n",
    "author_video_info = pd.merge(\n",
    "    author_video_counts, author_first_last, on=\"author.id\")\n",
    "\n",
    "# Calculate the number of weeks between the first and last video\n",
    "author_video_info[\"weeks_between\"] = (\n",
    "    author_video_info[\"max\"] - author_video_info[\"min\"]).dt.days / 7\n",
    "\n",
    "# Calculate the average number of videos per week for each author\n",
    "author_video_info[\"avg_videos_per_week\"] = (\n",
    "    author_video_info[\"video_count\"] / author_video_info[\"weeks_between\"]).fillna(0)\n",
    "\n",
    "author_video_info.head()"
   ]
  },
  {
   "cell_type": "code",
   "execution_count": 30,
   "id": "8b29d503",
   "metadata": {},
   "outputs": [
    {
     "data": {
      "text/plain": [
       "count    264.000000\n",
       "mean       4.541401\n",
       "std        3.021875\n",
       "min        0.192797\n",
       "25%        2.719030\n",
       "50%        4.052632\n",
       "75%        5.670334\n",
       "max       25.846154\n",
       "Name: avg_videos_per_week, dtype: float64"
      ]
     },
     "execution_count": 30,
     "metadata": {},
     "output_type": "execute_result"
    }
   ],
   "source": [
    "author_video_info[\"avg_videos_per_week\"].describe()"
   ]
  },
  {
   "cell_type": "markdown",
   "id": "3bf0c293",
   "metadata": {},
   "source": [
    "Chỉ giữ lại các cột cần thiết và đổi tên cột cho phù hợp"
   ]
  },
  {
   "cell_type": "code",
   "execution_count": 14,
   "id": "af2986b8",
   "metadata": {},
   "outputs": [],
   "source": [
    "# Rename the columns to match the user_df\n",
    "author_video_info = author_video_info.rename(\n",
    "    columns={\"author.id\": \"user.id\"})\n",
    "\n",
    "# Keep only the relevant columns\n",
    "author_video_info = author_video_info[[\"user.id\", \"avg_videos_per_week\"]]"
   ]
  },
  {
   "cell_type": "code",
   "execution_count": 15,
   "id": "38318651",
   "metadata": {},
   "outputs": [
    {
     "data": {
      "text/plain": [
       "(264, 2)"
      ]
     },
     "execution_count": 15,
     "metadata": {},
     "output_type": "execute_result"
    }
   ],
   "source": [
    "author_video_info.shape"
   ]
  },
  {
   "cell_type": "markdown",
   "id": "faa412d6",
   "metadata": {},
   "source": [
    "Merge dữ liệu về user với dữ liệu về video"
   ]
  },
  {
   "cell_type": "code",
   "execution_count": 16,
   "id": "0e50c765",
   "metadata": {},
   "outputs": [],
   "source": [
    "user_df = pd.merge(left=user_df, right=author_video_info, on=\"user.id\", how=\"left\")"
   ]
  },
  {
   "cell_type": "markdown",
   "id": "426003e8",
   "metadata": {},
   "source": [
    "### Tính một số giá trị trung bình khác trên mỗi video của user"
   ]
  },
  {
   "cell_type": "markdown",
   "id": "8574567e",
   "metadata": {},
   "source": [
    "Ta sẽ tính thêm một số giá trị khác như:\n",
    "\n",
    "- Số lượt lưu video trung bình trên mỗi video (video - `statsV2.collectCount`)\n",
    "- Số lượt bình luận trung bình trên mỗi video (video - `statsV2.commentCount`)\n",
    "- Số lượt thích trung bình trên mỗi video (video - `statsV2.diggCount`)\n",
    "- Số lượt xem trung bình trên mỗi video (video - `statsV2.playCount`)\n",
    "- Số lượt chia sẻ trung bình trên mỗi video (video - `statsV2.shareCount`)\n",
    "- Thời lượng trung bình của video (video - `video.duration`)\n",
    "- Số lượng hashtag trung bình trên mỗi video (video - `hashtag_count`)\n"
   ]
  },
  {
   "cell_type": "code",
   "execution_count": 17,
   "id": "3e436f74",
   "metadata": {},
   "outputs": [],
   "source": [
    "# Define interesting columns\n",
    "interesting_columns = [\n",
    "    \"statsV2.collectCount\", \"statsV2.commentCount\", \"statsV2.diggCount\",\n",
    "    \"statsV2.playCount\", \"statsV2.shareCount\", \"video.duration\",\n",
    "    \"hashtag_count\"\n",
    "]\n",
    "\n",
    "# Group DataFrame by `author.id` then calculate the mean\n",
    "# of some interesting columns\n",
    "avg_user_stats = video_df.groupby(\"author.id\")[interesting_columns]\\\n",
    "                         .mean().reset_index()\n",
    "\n",
    "# Rename the columns to match the user_df\n",
    "avg_user_stats = avg_user_stats.rename(\n",
    "    columns={\n",
    "        \"author.id\": \"user.id\",\n",
    "        \"statsV2.collectCount\": \"avg_collects_per_video\",\n",
    "        \"statsV2.commentCount\": \"avg_comments_per_video\",\n",
    "        \"statsV2.diggCount\": \"avg_diggs_per_video\",\n",
    "        \"statsV2.playCount\": \"avg_plays_per_video\",\n",
    "        \"statsV2.shareCount\": \"avg_shares_per_video\",\n",
    "        \"video.duration\": \"avg_video_duration\",\n",
    "        \"hashtag_count\": \"avg_hashtags_per_video\"\n",
    "    }\n",
    ")\n",
    "\n",
    "# Merge the two DataFrames to get the average stats along with the author video info\n",
    "user_df = pd.merge(\n",
    "    left=user_df, right=avg_user_stats, on=\"user.id\", how=\"left\")"
   ]
  },
  {
   "cell_type": "code",
   "execution_count": 18,
   "id": "d727b7cf",
   "metadata": {},
   "outputs": [
    {
     "data": {
      "text/plain": [
       "(264, 30)"
      ]
     },
     "execution_count": 18,
     "metadata": {},
     "output_type": "execute_result"
    }
   ],
   "source": [
    "user_df.shape"
   ]
  },
  {
   "cell_type": "markdown",
   "id": "b21a48e9",
   "metadata": {},
   "source": [
    "## Lữu dữ liệu thành file Parquet"
   ]
  },
  {
   "cell_type": "code",
   "execution_count": 19,
   "id": "66ad7682",
   "metadata": {},
   "outputs": [],
   "source": [
    "# Save the cleaned user_df to a new parquet file\n",
    "user_df.to_parquet(\"./data/processed/cleaned_user_info.parquet\", index=False)"
   ]
  },
  {
   "cell_type": "code",
   "execution_count": 21,
   "id": "13546c81",
   "metadata": {},
   "outputs": [
    {
     "name": "stdout",
     "output_type": "stream",
     "text": [
      "<class 'pandas.core.frame.DataFrame'>\n",
      "RangeIndex: 264 entries, 0 to 263\n",
      "Data columns (total 30 columns):\n",
      " #   Column                              Non-Null Count  Dtype  \n",
      "---  ------                              --------------  -----  \n",
      " 0   stats.diggCount                     264 non-null    int64  \n",
      " 1   stats.followerCount                 264 non-null    int64  \n",
      " 2   stats.followingCount                264 non-null    int64  \n",
      " 3   stats.friendCount                   264 non-null    int64  \n",
      " 4   stats.heart                         264 non-null    int64  \n",
      " 5   stats.heartCount                    264 non-null    int64  \n",
      " 6   stats.videoCount                    264 non-null    int64  \n",
      " 7   user.commerceUserInfo.commerceUser  264 non-null    bool   \n",
      " 8   user.downloadSetting                264 non-null    object \n",
      " 9   user.duetSetting                    264 non-null    object \n",
      " 10  user.followingVisibility            264 non-null    object \n",
      " 11  user.id                             264 non-null    object \n",
      " 12  user.nickNameModifyTime             264 non-null    object \n",
      " 13  user.nickname                       264 non-null    object \n",
      " 14  user.openFavorite                   264 non-null    bool   \n",
      " 15  user.profileTab.showPlayListTab     264 non-null    bool   \n",
      " 16  user.secUid                         264 non-null    object \n",
      " 17  user.signature                      264 non-null    object \n",
      " 18  user.stitchSetting                  264 non-null    object \n",
      " 19  user.ttSeller                       264 non-null    bool   \n",
      " 20  user.uniqueId                       264 non-null    object \n",
      " 21  user.verified                       264 non-null    bool   \n",
      " 22  avg_videos_per_week                 264 non-null    float64\n",
      " 23  avg_collects_per_video              264 non-null    float64\n",
      " 24  avg_comments_per_video              264 non-null    float64\n",
      " 25  avg_diggs_per_video                 264 non-null    float64\n",
      " 26  avg_plays_per_video                 264 non-null    float64\n",
      " 27  avg_shares_per_video                264 non-null    float64\n",
      " 28  avg_video_duration                  264 non-null    float64\n",
      " 29  avg_hashtags_per_video              264 non-null    float64\n",
      "dtypes: bool(5), float64(8), int64(7), object(10)\n",
      "memory usage: 53.0+ KB\n"
     ]
    }
   ],
   "source": [
    "pd.read_parquet(\n",
    "    \"./data/processed/cleaned_user_info.parquet\").info()"
   ]
  },
  {
   "cell_type": "markdown",
   "id": "d513841c",
   "metadata": {},
   "source": [
    "- `stats.diggCount`: Số lượng video hoặc bình luận mà 1 người dùng đã \"like\""
   ]
  },
  {
   "cell_type": "markdown",
   "id": "2be4ba81",
   "metadata": {},
   "source": [
    "# ----------------------\n",
    "\n",
    "# END\n",
    "\n",
    "# ----------------------\n"
   ]
  },
  {
   "cell_type": "code",
   "execution_count": 1,
   "id": "a40df52a",
   "metadata": {},
   "outputs": [],
   "source": [
    "import pandas as pd"
   ]
  },
  {
   "cell_type": "code",
   "execution_count": 2,
   "id": "4d6459fb",
   "metadata": {},
   "outputs": [
    {
     "name": "stdout",
     "output_type": "stream",
     "text": [
      "<class 'pandas.core.frame.DataFrame'>\n",
      "RangeIndex: 264 entries, 0 to 263\n",
      "Data columns (total 32 columns):\n",
      " #   Column                              Non-Null Count  Dtype  \n",
      "---  ------                              --------------  -----  \n",
      " 0   stats.diggCount                     264 non-null    int64  \n",
      " 1   stats.followerCount                 264 non-null    int64  \n",
      " 2   stats.followingCount                264 non-null    int64  \n",
      " 3   stats.friendCount                   264 non-null    int64  \n",
      " 4   stats.heart                         264 non-null    int64  \n",
      " 5   stats.heartCount                    264 non-null    int64  \n",
      " 6   stats.videoCount                    264 non-null    int64  \n",
      " 7   user.canExpPlaylist                 264 non-null    bool   \n",
      " 8   user.commentSetting                 264 non-null    int64  \n",
      " 9   user.commerceUserInfo.commerceUser  264 non-null    bool   \n",
      " 10  user.downloadSetting                264 non-null    object \n",
      " 11  user.duetSetting                    264 non-null    object \n",
      " 12  user.followingVisibility            264 non-null    object \n",
      " 13  user.ftc                            264 non-null    bool   \n",
      " 14  user.id                             264 non-null    object \n",
      " 15  user.isADVirtual                    264 non-null    bool   \n",
      " 16  user.isEmbedBanned                  264 non-null    bool   \n",
      " 17  user.nickNameModifyTime             247 non-null    object \n",
      " 18  user.nickname                       264 non-null    object \n",
      " 19  user.openFavorite                   264 non-null    bool   \n",
      " 20  user.privateAccount                 264 non-null    bool   \n",
      " 21  user.profileEmbedPermission         264 non-null    object \n",
      " 22  user.profileTab.showPlayListTab     264 non-null    bool   \n",
      " 23  user.relation                       264 non-null    object \n",
      " 24  user.secUid                         264 non-null    object \n",
      " 25  user.secret                         264 non-null    bool   \n",
      " 26  user.signature                      259 non-null    object \n",
      " 27  user.stitchSetting                  264 non-null    object \n",
      " 28  user.ttSeller                       264 non-null    bool   \n",
      " 29  user.uniqueId                       264 non-null    object \n",
      " 30  user.verified                       264 non-null    bool   \n",
      " 31  avg_videos_per_week                 264 non-null    float64\n",
      "dtypes: bool(11), float64(1), int64(8), object(12)\n",
      "memory usage: 46.3+ KB\n"
     ]
    }
   ],
   "source": [
    "df = pd.read_parquet(\n",
    "    \"data/processed/cleaned_user_info.parquet\")\n",
    "df.info()"
   ]
  },
  {
   "cell_type": "code",
   "execution_count": 3,
   "id": "e36e5b38",
   "metadata": {},
   "outputs": [
    {
     "data": {
      "text/plain": [
       "np.float64(4.541401010386333)"
      ]
     },
     "execution_count": 3,
     "metadata": {},
     "output_type": "execute_result"
    }
   ],
   "source": [
    "df['avg_videos_per_week'].mean()"
   ]
  },
  {
   "cell_type": "code",
   "execution_count": 4,
   "id": "f721a48d",
   "metadata": {},
   "outputs": [
    {
     "data": {
      "text/html": [
       "<div>\n",
       "<style scoped>\n",
       "    .dataframe tbody tr th:only-of-type {\n",
       "        vertical-align: middle;\n",
       "    }\n",
       "\n",
       "    .dataframe tbody tr th {\n",
       "        vertical-align: top;\n",
       "    }\n",
       "\n",
       "    .dataframe thead th {\n",
       "        text-align: right;\n",
       "    }\n",
       "</style>\n",
       "<table border=\"1\" class=\"dataframe\">\n",
       "  <thead>\n",
       "    <tr style=\"text-align: right;\">\n",
       "      <th></th>\n",
       "      <th>stats.diggCount</th>\n",
       "      <th>stats.followerCount</th>\n",
       "      <th>stats.followingCount</th>\n",
       "      <th>stats.friendCount</th>\n",
       "      <th>stats.heart</th>\n",
       "      <th>stats.heartCount</th>\n",
       "      <th>stats.videoCount</th>\n",
       "    </tr>\n",
       "  </thead>\n",
       "  <tbody>\n",
       "    <tr>\n",
       "      <th>count</th>\n",
       "      <td>264.000000</td>\n",
       "      <td>2.640000e+02</td>\n",
       "      <td>264.000000</td>\n",
       "      <td>264.000000</td>\n",
       "      <td>2.640000e+02</td>\n",
       "      <td>2.640000e+02</td>\n",
       "      <td>264.000000</td>\n",
       "    </tr>\n",
       "    <tr>\n",
       "      <th>mean</th>\n",
       "      <td>76.227273</td>\n",
       "      <td>3.364726e+05</td>\n",
       "      <td>250.295455</td>\n",
       "      <td>89.867424</td>\n",
       "      <td>1.021460e+07</td>\n",
       "      <td>1.021460e+07</td>\n",
       "      <td>549.643939</td>\n",
       "    </tr>\n",
       "    <tr>\n",
       "      <th>std</th>\n",
       "      <td>701.109046</td>\n",
       "      <td>4.995458e+05</td>\n",
       "      <td>760.305674</td>\n",
       "      <td>342.250983</td>\n",
       "      <td>1.707446e+07</td>\n",
       "      <td>1.707446e+07</td>\n",
       "      <td>409.126718</td>\n",
       "    </tr>\n",
       "    <tr>\n",
       "      <th>min</th>\n",
       "      <td>0.000000</td>\n",
       "      <td>3.927000e+03</td>\n",
       "      <td>0.000000</td>\n",
       "      <td>0.000000</td>\n",
       "      <td>7.100000e+04</td>\n",
       "      <td>7.100000e+04</td>\n",
       "      <td>13.000000</td>\n",
       "    </tr>\n",
       "    <tr>\n",
       "      <th>25%</th>\n",
       "      <td>0.000000</td>\n",
       "      <td>6.442500e+04</td>\n",
       "      <td>21.750000</td>\n",
       "      <td>7.000000</td>\n",
       "      <td>1.500000e+06</td>\n",
       "      <td>1.500000e+06</td>\n",
       "      <td>256.000000</td>\n",
       "    </tr>\n",
       "    <tr>\n",
       "      <th>50%</th>\n",
       "      <td>0.000000</td>\n",
       "      <td>1.469500e+05</td>\n",
       "      <td>76.000000</td>\n",
       "      <td>25.000000</td>\n",
       "      <td>3.600000e+06</td>\n",
       "      <td>3.600000e+06</td>\n",
       "      <td>460.000000</td>\n",
       "    </tr>\n",
       "    <tr>\n",
       "      <th>75%</th>\n",
       "      <td>0.000000</td>\n",
       "      <td>3.458750e+05</td>\n",
       "      <td>229.500000</td>\n",
       "      <td>66.250000</td>\n",
       "      <td>9.500000e+06</td>\n",
       "      <td>9.500000e+06</td>\n",
       "      <td>752.250000</td>\n",
       "    </tr>\n",
       "    <tr>\n",
       "      <th>max</th>\n",
       "      <td>9782.000000</td>\n",
       "      <td>3.000000e+06</td>\n",
       "      <td>9398.000000</td>\n",
       "      <td>4075.000000</td>\n",
       "      <td>1.002000e+08</td>\n",
       "      <td>1.002000e+08</td>\n",
       "      <td>2298.000000</td>\n",
       "    </tr>\n",
       "  </tbody>\n",
       "</table>\n",
       "</div>"
      ],
      "text/plain": [
       "       stats.diggCount  stats.followerCount  stats.followingCount  \\\n",
       "count       264.000000         2.640000e+02            264.000000   \n",
       "mean         76.227273         3.364726e+05            250.295455   \n",
       "std         701.109046         4.995458e+05            760.305674   \n",
       "min           0.000000         3.927000e+03              0.000000   \n",
       "25%           0.000000         6.442500e+04             21.750000   \n",
       "50%           0.000000         1.469500e+05             76.000000   \n",
       "75%           0.000000         3.458750e+05            229.500000   \n",
       "max        9782.000000         3.000000e+06           9398.000000   \n",
       "\n",
       "       stats.friendCount   stats.heart  stats.heartCount  stats.videoCount  \n",
       "count         264.000000  2.640000e+02      2.640000e+02        264.000000  \n",
       "mean           89.867424  1.021460e+07      1.021460e+07        549.643939  \n",
       "std           342.250983  1.707446e+07      1.707446e+07        409.126718  \n",
       "min             0.000000  7.100000e+04      7.100000e+04         13.000000  \n",
       "25%             7.000000  1.500000e+06      1.500000e+06        256.000000  \n",
       "50%            25.000000  3.600000e+06      3.600000e+06        460.000000  \n",
       "75%            66.250000  9.500000e+06      9.500000e+06        752.250000  \n",
       "max          4075.000000  1.002000e+08      1.002000e+08       2298.000000  "
      ]
     },
     "execution_count": 4,
     "metadata": {},
     "output_type": "execute_result"
    }
   ],
   "source": [
    "stats_cols = df.columns[df.columns.str.contains(\"stats\")]\n",
    "df[stats_cols].describe()"
   ]
  },
  {
   "cell_type": "code",
   "execution_count": 6,
   "id": "61afaf7f",
   "metadata": {},
   "outputs": [
    {
     "data": {
      "text/plain": [
       "stats.diggCount\n",
       "0       259\n",
       "4623      1\n",
       "9782      1\n",
       "3137      1\n",
       "1829      1\n",
       "753       1\n",
       "Name: count, dtype: int64"
      ]
     },
     "execution_count": 6,
     "metadata": {},
     "output_type": "execute_result"
    }
   ],
   "source": [
    "df[\"stats.diggCount\"].value_counts()"
   ]
  }
 ],
 "metadata": {
  "kernelspec": {
   "display_name": ".venv",
   "language": "python",
   "name": "python3"
  },
  "language_info": {
   "codemirror_mode": {
    "name": "ipython",
    "version": 3
   },
   "file_extension": ".py",
   "mimetype": "text/x-python",
   "name": "python",
   "nbconvert_exporter": "python",
   "pygments_lexer": "ipython3",
   "version": "3.11.10"
  }
 },
 "nbformat": 4,
 "nbformat_minor": 5
}
