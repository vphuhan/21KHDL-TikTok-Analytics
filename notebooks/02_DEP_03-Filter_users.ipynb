{
 "cells": [
  {
   "cell_type": "markdown",
   "metadata": {},
   "source": [
    "# Import libraries"
   ]
  },
  {
   "cell_type": "code",
   "execution_count": 1,
   "metadata": {},
   "outputs": [],
   "source": [
    "import pandas as pd\n",
    "import numpy as np\n",
    "import matplotlib.pyplot as plt\n",
    "import seaborn as sns"
   ]
  },
  {
   "cell_type": "markdown",
   "metadata": {},
   "source": [
    "# Đọc dữ liệu từ file "
   ]
  },
  {
   "cell_type": "code",
   "execution_count": 2,
   "metadata": {},
   "outputs": [
    {
     "name": "stdout",
     "output_type": "stream",
     "text": [
      "<class 'pandas.core.frame.DataFrame'>\n",
      "RangeIndex: 70996 entries, 0 to 70995\n",
      "Data columns (total 52 columns):\n",
      " #   Column                           Non-Null Count  Dtype         \n",
      "---  ------                           --------------  -----         \n",
      " 0   CategoryType                     70996 non-null  object        \n",
      " 1   author.downloadSetting           70996 non-null  object        \n",
      " 2   author.duetSetting               70996 non-null  object        \n",
      " 3   author.id                        70996 non-null  object        \n",
      " 4   author.nickname                  70996 non-null  object        \n",
      " 5   author.openFavorite              70996 non-null  bool          \n",
      " 6   author.secUid                    70996 non-null  object        \n",
      " 7   author.signature                 70996 non-null  object        \n",
      " 8   author.stitchSetting             70996 non-null  object        \n",
      " 9   author.uniqueId                  70996 non-null  object        \n",
      " 10  author.verified                  70996 non-null  bool          \n",
      " 11  authorStats.diggCount            70996 non-null  float64       \n",
      " 12  authorStats.followerCount        70996 non-null  float64       \n",
      " 13  authorStats.followingCount       70996 non-null  float64       \n",
      " 14  authorStats.heartCount           70996 non-null  float64       \n",
      " 15  authorStats.videoCount           70996 non-null  float64       \n",
      " 16  createTime                       70996 non-null  datetime64[ns]\n",
      " 17  desc                             70996 non-null  object        \n",
      " 18  diversificationId                70996 non-null  object        \n",
      " 19  isAd                             70996 non-null  bool          \n",
      " 20  itemCommentStatus                70996 non-null  object        \n",
      " 21  music.authorName                 70996 non-null  object        \n",
      " 22  music.duration                   70996 non-null  float64       \n",
      " 23  music.id                         70996 non-null  object        \n",
      " 24  music.isCopyrighted              70996 non-null  bool          \n",
      " 25  music.original                   70996 non-null  bool          \n",
      " 26  music.title                      70996 non-null  object        \n",
      " 27  statsV2.collectCount             70996 non-null  float64       \n",
      " 28  statsV2.commentCount             70996 non-null  float64       \n",
      " 29  statsV2.diggCount                70996 non-null  float64       \n",
      " 30  statsV2.playCount                70996 non-null  float64       \n",
      " 31  statsV2.shareCount               70996 non-null  float64       \n",
      " 32  textLanguage                     70996 non-null  object        \n",
      " 33  textTranslatable                 70996 non-null  bool          \n",
      " 34  video.VQScore                    70996 non-null  float64       \n",
      " 35  video.bitrate                    70996 non-null  float64       \n",
      " 36  video.claInfo.enableAutoCaption  70996 non-null  object        \n",
      " 37  video.claInfo.hasOriginalAudio   70996 non-null  object        \n",
      " 38  video.codecType                  70996 non-null  object        \n",
      " 39  video.definition                 70996 non-null  object        \n",
      " 40  video.duration                   70996 non-null  float64       \n",
      " 41  video.encodedType                70996 non-null  object        \n",
      " 42  video.height                     70996 non-null  float64       \n",
      " 43  video.id                         70996 non-null  object        \n",
      " 44  video.ratio                      70996 non-null  object        \n",
      " 45  video.videoQuality               70996 non-null  object        \n",
      " 46  video.volumeInfo.Loudness        70996 non-null  float64       \n",
      " 47  video.volumeInfo.Peak            70996 non-null  float64       \n",
      " 48  video.width                      70996 non-null  float64       \n",
      " 49  collectTime                      70996 non-null  datetime64[ns]\n",
      " 50  hashtags                         70996 non-null  object        \n",
      " 51  hashtag_count                    70996 non-null  int64         \n",
      "dtypes: bool(6), datetime64[ns](2), float64(18), int64(1), object(25)\n",
      "memory usage: 25.3+ MB\n"
     ]
    }
   ],
   "source": [
    "df = pd.read_parquet(\"./preprocessed_videos.parquet\")\n",
    "df.info()"
   ]
  },
  {
   "cell_type": "markdown",
   "metadata": {},
   "source": [
    "# Đọc danh sách filter cho author"
   ]
  },
  {
   "cell_type": "code",
   "execution_count": 3,
   "metadata": {},
   "outputs": [
    {
     "name": "stdout",
     "output_type": "stream",
     "text": [
      "Number of filtered authors: 6\n"
     ]
    }
   ],
   "source": [
    "filtered_authors = None\n",
    "with open(\"./data/filters/author_unique_ids.txt\", \"r\") as f:\n",
    "    filtered_authors = f.read().splitlines()\n",
    "\n",
    "print(f\"Number of filtered authors: {len(filtered_authors)}\")"
   ]
  },
  {
   "cell_type": "code",
   "execution_count": 4,
   "metadata": {},
   "outputs": [
    {
     "name": "stdout",
     "output_type": "stream",
     "text": [
      "Author: spicykim9386\n",
      "Number of videos: 298\n",
      "URL: https://www.tiktok.com/@spicykim9386\n",
      "\n",
      "Author: haidangrevieww\n",
      "Number of videos: 255\n",
      "URL: https://www.tiktok.com/@haidangrevieww\n",
      "\n",
      "Author: khaikhampha\n",
      "Number of videos: 104\n",
      "URL: https://www.tiktok.com/@khaikhampha\n",
      "\n",
      "Author: putaangi\n",
      "Number of videos: 258\n",
      "URL: https://www.tiktok.com/@putaangi\n",
      "\n",
      "Author: trangtam2607\n",
      "Number of videos: 169\n",
      "URL: https://www.tiktok.com/@trangtam2607\n",
      "\n",
      "Author: huynhanhtuan_dienvien\n",
      "Number of videos: 251\n",
      "URL: https://www.tiktok.com/@huynhanhtuan_dienvien\n",
      "\n"
     ]
    }
   ],
   "source": [
    "# Print number of videos per author\n",
    "for author_id in filtered_authors:\n",
    "    url = f\"https://www.tiktok.com/@{author_id}\"\n",
    "\n",
    "    # Print author_id, number of videos, and URL\n",
    "    print(f\"Author: {author_id}\")\n",
    "    print(\n",
    "        f\"Number of videos: {df[df['author.uniqueId'] == author_id].shape[0]}\")\n",
    "    print(f\"URL: {url}\")\n",
    "    print()"
   ]
  },
  {
   "cell_type": "markdown",
   "metadata": {},
   "source": [
    "# Lọc dữ liệu theo danh sách filter\n"
   ]
  },
  {
   "cell_type": "code",
   "execution_count": 5,
   "metadata": {},
   "outputs": [
    {
     "name": "stdout",
     "output_type": "stream",
     "text": [
      "Total number of videos: 1335\n"
     ]
    }
   ],
   "source": [
    "n_videos = 298 + 255 + 104 + 258 + 169 + 251\n",
    "print(f\"Total number of videos: {n_videos}\")"
   ]
  },
  {
   "cell_type": "code",
   "execution_count": 6,
   "metadata": {},
   "outputs": [
    {
     "name": "stdout",
     "output_type": "stream",
     "text": [
      "<class 'pandas.core.frame.DataFrame'>\n",
      "RangeIndex: 1335 entries, 0 to 1334\n",
      "Data columns (total 52 columns):\n",
      " #   Column                           Non-Null Count  Dtype         \n",
      "---  ------                           --------------  -----         \n",
      " 0   CategoryType                     1335 non-null   object        \n",
      " 1   author.downloadSetting           1335 non-null   object        \n",
      " 2   author.duetSetting               1335 non-null   object        \n",
      " 3   author.id                        1335 non-null   object        \n",
      " 4   author.nickname                  1335 non-null   object        \n",
      " 5   author.openFavorite              1335 non-null   bool          \n",
      " 6   author.secUid                    1335 non-null   object        \n",
      " 7   author.signature                 1335 non-null   object        \n",
      " 8   author.stitchSetting             1335 non-null   object        \n",
      " 9   author.uniqueId                  1335 non-null   object        \n",
      " 10  author.verified                  1335 non-null   bool          \n",
      " 11  authorStats.diggCount            1335 non-null   float64       \n",
      " 12  authorStats.followerCount        1335 non-null   float64       \n",
      " 13  authorStats.followingCount       1335 non-null   float64       \n",
      " 14  authorStats.heartCount           1335 non-null   float64       \n",
      " 15  authorStats.videoCount           1335 non-null   float64       \n",
      " 16  createTime                       1335 non-null   datetime64[ns]\n",
      " 17  desc                             1335 non-null   object        \n",
      " 18  diversificationId                1335 non-null   object        \n",
      " 19  isAd                             1335 non-null   bool          \n",
      " 20  itemCommentStatus                1335 non-null   object        \n",
      " 21  music.authorName                 1335 non-null   object        \n",
      " 22  music.duration                   1335 non-null   float64       \n",
      " 23  music.id                         1335 non-null   object        \n",
      " 24  music.isCopyrighted              1335 non-null   bool          \n",
      " 25  music.original                   1335 non-null   bool          \n",
      " 26  music.title                      1335 non-null   object        \n",
      " 27  statsV2.collectCount             1335 non-null   float64       \n",
      " 28  statsV2.commentCount             1335 non-null   float64       \n",
      " 29  statsV2.diggCount                1335 non-null   float64       \n",
      " 30  statsV2.playCount                1335 non-null   float64       \n",
      " 31  statsV2.shareCount               1335 non-null   float64       \n",
      " 32  textLanguage                     1335 non-null   object        \n",
      " 33  textTranslatable                 1335 non-null   bool          \n",
      " 34  video.VQScore                    1335 non-null   float64       \n",
      " 35  video.bitrate                    1335 non-null   float64       \n",
      " 36  video.claInfo.enableAutoCaption  1335 non-null   object        \n",
      " 37  video.claInfo.hasOriginalAudio   1335 non-null   object        \n",
      " 38  video.codecType                  1335 non-null   object        \n",
      " 39  video.definition                 1335 non-null   object        \n",
      " 40  video.duration                   1335 non-null   float64       \n",
      " 41  video.encodedType                1335 non-null   object        \n",
      " 42  video.height                     1335 non-null   float64       \n",
      " 43  video.id                         1335 non-null   object        \n",
      " 44  video.ratio                      1335 non-null   object        \n",
      " 45  video.videoQuality               1335 non-null   object        \n",
      " 46  video.volumeInfo.Loudness        1335 non-null   float64       \n",
      " 47  video.volumeInfo.Peak            1335 non-null   float64       \n",
      " 48  video.width                      1335 non-null   float64       \n",
      " 49  collectTime                      1335 non-null   datetime64[ns]\n",
      " 50  hashtags                         1335 non-null   object        \n",
      " 51  hashtag_count                    1335 non-null   int64         \n",
      "dtypes: bool(6), datetime64[ns](2), float64(18), int64(1), object(25)\n",
      "memory usage: 487.7+ KB\n"
     ]
    }
   ],
   "source": [
    "# Filter row with filtered authors\n",
    "# then reset index to avoid missing index\n",
    "filtered_authors_df = df[df[\"author.uniqueId\"].isin(filtered_authors)]\n",
    "filtered_authors_df = filtered_authors_df.reset_index(drop=True)\n",
    "assert filtered_authors_df.shape[0] == n_videos\n",
    "filtered_authors_df.info()"
   ]
  },
  {
   "cell_type": "code",
   "execution_count": 7,
   "metadata": {},
   "outputs": [],
   "source": [
    "# Save data to parquet, without index\n",
    "filtered_authors_df.to_parquet(\"./filtered_authors.parquet\", index=False)"
   ]
  },
  {
   "cell_type": "code",
   "execution_count": 8,
   "metadata": {},
   "outputs": [
    {
     "name": "stdout",
     "output_type": "stream",
     "text": [
      "<class 'pandas.core.frame.DataFrame'>\n",
      "RangeIndex: 1335 entries, 0 to 1334\n",
      "Data columns (total 52 columns):\n",
      " #   Column                           Non-Null Count  Dtype         \n",
      "---  ------                           --------------  -----         \n",
      " 0   CategoryType                     1335 non-null   object        \n",
      " 1   author.downloadSetting           1335 non-null   object        \n",
      " 2   author.duetSetting               1335 non-null   object        \n",
      " 3   author.id                        1335 non-null   object        \n",
      " 4   author.nickname                  1335 non-null   object        \n",
      " 5   author.openFavorite              1335 non-null   bool          \n",
      " 6   author.secUid                    1335 non-null   object        \n",
      " 7   author.signature                 1335 non-null   object        \n",
      " 8   author.stitchSetting             1335 non-null   object        \n",
      " 9   author.uniqueId                  1335 non-null   object        \n",
      " 10  author.verified                  1335 non-null   bool          \n",
      " 11  authorStats.diggCount            1335 non-null   float64       \n",
      " 12  authorStats.followerCount        1335 non-null   float64       \n",
      " 13  authorStats.followingCount       1335 non-null   float64       \n",
      " 14  authorStats.heartCount           1335 non-null   float64       \n",
      " 15  authorStats.videoCount           1335 non-null   float64       \n",
      " 16  createTime                       1335 non-null   datetime64[ns]\n",
      " 17  desc                             1335 non-null   object        \n",
      " 18  diversificationId                1335 non-null   object        \n",
      " 19  isAd                             1335 non-null   bool          \n",
      " 20  itemCommentStatus                1335 non-null   object        \n",
      " 21  music.authorName                 1335 non-null   object        \n",
      " 22  music.duration                   1335 non-null   float64       \n",
      " 23  music.id                         1335 non-null   object        \n",
      " 24  music.isCopyrighted              1335 non-null   bool          \n",
      " 25  music.original                   1335 non-null   bool          \n",
      " 26  music.title                      1335 non-null   object        \n",
      " 27  statsV2.collectCount             1335 non-null   float64       \n",
      " 28  statsV2.commentCount             1335 non-null   float64       \n",
      " 29  statsV2.diggCount                1335 non-null   float64       \n",
      " 30  statsV2.playCount                1335 non-null   float64       \n",
      " 31  statsV2.shareCount               1335 non-null   float64       \n",
      " 32  textLanguage                     1335 non-null   object        \n",
      " 33  textTranslatable                 1335 non-null   bool          \n",
      " 34  video.VQScore                    1335 non-null   float64       \n",
      " 35  video.bitrate                    1335 non-null   float64       \n",
      " 36  video.claInfo.enableAutoCaption  1335 non-null   object        \n",
      " 37  video.claInfo.hasOriginalAudio   1335 non-null   object        \n",
      " 38  video.codecType                  1335 non-null   object        \n",
      " 39  video.definition                 1335 non-null   object        \n",
      " 40  video.duration                   1335 non-null   float64       \n",
      " 41  video.encodedType                1335 non-null   object        \n",
      " 42  video.height                     1335 non-null   float64       \n",
      " 43  video.id                         1335 non-null   object        \n",
      " 44  video.ratio                      1335 non-null   object        \n",
      " 45  video.videoQuality               1335 non-null   object        \n",
      " 46  video.volumeInfo.Loudness        1335 non-null   float64       \n",
      " 47  video.volumeInfo.Peak            1335 non-null   float64       \n",
      " 48  video.width                      1335 non-null   float64       \n",
      " 49  collectTime                      1335 non-null   datetime64[ns]\n",
      " 50  hashtags                         1335 non-null   object        \n",
      " 51  hashtag_count                    1335 non-null   int64         \n",
      "dtypes: bool(6), datetime64[ns](2), float64(18), int64(1), object(25)\n",
      "memory usage: 487.7+ KB\n"
     ]
    }
   ],
   "source": [
    "pd.read_parquet(\"./filtered_authors.parquet\").info()"
   ]
  }
 ],
 "metadata": {
  "kernelspec": {
   "display_name": ".venv",
   "language": "python",
   "name": "python3"
  },
  "language_info": {
   "codemirror_mode": {
    "name": "ipython",
    "version": 3
   },
   "file_extension": ".py",
   "mimetype": "text/x-python",
   "name": "python",
   "nbconvert_exporter": "python",
   "pygments_lexer": "ipython3",
   "version": "3.11.10"
  }
 },
 "nbformat": 4,
 "nbformat_minor": 2
}
