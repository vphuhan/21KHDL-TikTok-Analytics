{
 "cells": [
  {
   "cell_type": "markdown",
   "id": "93c9d5a0",
   "metadata": {},
   "source": [
    "# Đọc các file JSON và chuyển thành dataframe"
   ]
  },
  {
   "cell_type": "code",
   "execution_count": 1,
   "id": "52f090f2",
   "metadata": {},
   "outputs": [],
   "source": [
    "import pandas as pd\n",
    "import numpy as np\n",
    "import os\n",
    "import json\n",
    "from typing import List\n",
    "from tqdm import tqdm\n",
    "import re"
   ]
  },
  {
   "cell_type": "markdown",
   "id": "188f09c9",
   "metadata": {},
   "source": [
    "## Tìm ra các file JSON trong thư mục"
   ]
  },
  {
   "cell_type": "code",
   "execution_count": 2,
   "id": "58e0cade",
   "metadata": {},
   "outputs": [],
   "source": [
    "def list_file_types(directory: str, file_extension: str) -> List[str]:\n",
    "    \"\"\" List all files with a specific extension in a directory.\n",
    "\n",
    "    Args:\n",
    "        directory (str): Directory path.\n",
    "        file_extension (str): File extension.\n",
    "\n",
    "    Returns:\n",
    "        List[str]: List of file paths.\n",
    "    \"\"\"\n",
    "\n",
    "    file_list: List[str] = []\n",
    "    for root, dirs, files in os.walk(directory):\n",
    "        for file in files:\n",
    "            if file.endswith(file_extension):\n",
    "                file_list.append(os.path.join(root, file))\n",
    "    return file_list"
   ]
  },
  {
   "cell_type": "code",
   "execution_count": 3,
   "id": "d123bc75",
   "metadata": {},
   "outputs": [
    {
     "name": "stdout",
     "output_type": "stream",
     "text": [
      "Number of JSON files found: 14252\n"
     ]
    }
   ],
   "source": [
    "json_files = list_file_types(\"food_location\", \".json\")\n",
    "print(f\"Number of JSON files found: {len(json_files)}\")\n",
    "# print(json_files[:5])"
   ]
  },
  {
   "cell_type": "markdown",
   "id": "e16aa360",
   "metadata": {},
   "source": [
    "## Đọc mỗi file JSON và chuyển thành dataframe"
   ]
  },
  {
   "cell_type": "code",
   "execution_count": 4,
   "id": "54a0a527",
   "metadata": {},
   "outputs": [
    {
     "name": "stderr",
     "output_type": "stream",
     "text": [
      "100%|██████████| 14252/14252 [00:27<00:00, 514.31it/s]"
     ]
    },
    {
     "name": "stdout",
     "output_type": "stream",
     "text": [
      "Number of records loaded: 14252\n"
     ]
    },
    {
     "name": "stderr",
     "output_type": "stream",
     "text": [
      "\n"
     ]
    }
   ],
   "source": [
    "# Read each JSON file, extract the fields, and store the data in a list\n",
    "# The data will be used to create a DataFrame\n",
    "\n",
    "# Valid data\n",
    "data: List[dict] = []\n",
    "# Files don't start with \"{\"\n",
    "files_not_start_with_curly_brace: List[str] = []\n",
    "# Files don't end with \"}\"\n",
    "files_not_end_with_curly_brace: List[str] = []\n",
    "# Files with \"no speech\"\n",
    "files_no_speech: List[str] = []\n",
    "# General errors\n",
    "error_files: List[str] = []\n",
    "\n",
    "for json_file in tqdm(json_files):\n",
    "    with open(json_file, 'r') as f:\n",
    "        # Remove redundant newlines and spaces\n",
    "        json_text: str = re.sub(r'\\n+', ' ', f.read()).strip()\n",
    "        # Replace `None` with `null`\n",
    "        json_text = json_text.replace(\"None\", \"null\")\n",
    "\n",
    "        # Find the first occurrence of \"{\"\n",
    "        start_index: int = json_text.find(\"{\")\n",
    "        if start_index > 0:\n",
    "            # Remove any text before the first \"{\"\n",
    "            json_text = json_text[start_index:]\n",
    "\n",
    "        # Check if the file starts with \"{\"\n",
    "        if not json_text.startswith(\"{\"):\n",
    "            # print(f\"File does not start with curly brace: {json_file}\")\n",
    "            files_not_start_with_curly_brace.append(json_file)\n",
    "            continue\n",
    "\n",
    "        # Check if the file ends with \"}\"\n",
    "        if not json_text.endswith(\"}\"):\n",
    "            # print(f\"File does not end with curly brace: {json_file}\")\n",
    "            files_not_end_with_curly_brace.append(json_file)\n",
    "            continue\n",
    "\n",
    "        try:\n",
    "            # Load the JSON data from the file\n",
    "            json_data: dict = json.loads(json_text)\n",
    "\n",
    "            # Extract the fields from the JSON data\n",
    "            foods: List[str] = json_data.get(\"foods\")\n",
    "\n",
    "            city: str = json_data.get(\"city\")\n",
    "            if city == \"None\":\n",
    "                city = None\n",
    "\n",
    "            district: str = json_data.get(\"district\")\n",
    "            if district == \"None\":\n",
    "                district = None\n",
    "\n",
    "            # Append the data to the list\n",
    "            # Lowercase all the text fields\n",
    "            data.append({\n",
    "                \"video.id\": os.path.basename(json_file).replace(\".json\", \"\").strip(),\n",
    "                \"foods\": [food.lower().strip() for food in foods] if foods else None,\n",
    "                \"city\": city.lower().strip() if city else None,\n",
    "                \"district\": district.lower().strip() if district else None,\n",
    "            })\n",
    "        except Exception as e:\n",
    "            # print(f\"Error processing file {json_file}: {e}\")\n",
    "            error_files.append(json_file)\n",
    "\n",
    "# Make sure the data is loaded correctly\n",
    "print(f\"Number of records loaded: {len(data)}\")  # 1382\n",
    "assert len(data) == len(json_files) - len(error_files) - \\\n",
    "    len(files_not_start_with_curly_brace) - \\\n",
    "    len(files_not_end_with_curly_brace) - len(files_no_speech)"
   ]
  },
  {
   "cell_type": "markdown",
   "id": "be42f115",
   "metadata": {},
   "source": [
    "Đảm bảo không có file nào gặp lỗi mà ta không kiểm soát được"
   ]
  },
  {
   "cell_type": "code",
   "execution_count": 5,
   "id": "4a03279f",
   "metadata": {},
   "outputs": [
    {
     "data": {
      "text/plain": [
       "(0, [])"
      ]
     },
     "execution_count": 5,
     "metadata": {},
     "output_type": "execute_result"
    }
   ],
   "source": [
    "# assert len(error_files) == 0\n",
    "len(error_files), error_files"
   ]
  },
  {
   "cell_type": "markdown",
   "id": "172b5315",
   "metadata": {},
   "source": [
    "Các file không có giọng nói"
   ]
  },
  {
   "cell_type": "code",
   "execution_count": 6,
   "id": "d79ebc66",
   "metadata": {},
   "outputs": [
    {
     "data": {
      "text/plain": [
       "0"
      ]
     },
     "execution_count": 6,
     "metadata": {},
     "output_type": "execute_result"
    }
   ],
   "source": [
    "len(files_no_speech)#, files_no_speech"
   ]
  },
  {
   "cell_type": "markdown",
   "id": "78f83217",
   "metadata": {},
   "source": [
    "Các file không bắt đầu bằng \"{\""
   ]
  },
  {
   "cell_type": "code",
   "execution_count": 7,
   "id": "1110bc09",
   "metadata": {},
   "outputs": [
    {
     "data": {
      "text/plain": [
       "0"
      ]
     },
     "execution_count": 7,
     "metadata": {},
     "output_type": "execute_result"
    }
   ],
   "source": [
    "len(files_not_start_with_curly_brace)#, files_not_start_with_curly_brace"
   ]
  },
  {
   "cell_type": "markdown",
   "id": "1fab02d2",
   "metadata": {},
   "source": [
    "Các file không kết thúc bằng \"}\""
   ]
  },
  {
   "cell_type": "code",
   "execution_count": 8,
   "id": "29050898",
   "metadata": {},
   "outputs": [
    {
     "data": {
      "text/plain": [
       "(0, [])"
      ]
     },
     "execution_count": 8,
     "metadata": {},
     "output_type": "execute_result"
    }
   ],
   "source": [
    "len(files_not_end_with_curly_brace), files_not_end_with_curly_brace"
   ]
  },
  {
   "cell_type": "markdown",
   "id": "c2746be9",
   "metadata": {},
   "source": [
    "Lưu id của các file gặp lỗi"
   ]
  },
  {
   "cell_type": "code",
   "execution_count": 9,
   "id": "c8856b1a",
   "metadata": {},
   "outputs": [],
   "source": [
    "# error_files = []\n",
    "# for file in files_not_start_with_curly_brace:\n",
    "#     error_files.append(os.path.basename(file).replace(\".json\", \"\"))\n",
    "# for file in files_not_end_with_curly_brace:\n",
    "#     error_files.append(os.path.basename(file).replace(\".json\", \"\"))\n",
    "\n",
    "# # Save the id data to a text file\n",
    "# with open(\"../data/error/error_files.txt\", 'w') as f:\n",
    "#     for item in error_files:\n",
    "#         f.write(\"%s\\n\" % item)"
   ]
  },
  {
   "cell_type": "markdown",
   "id": "baf4cbae",
   "metadata": {},
   "source": [
    "## Chuyển các file JSON thành dataframe"
   ]
  },
  {
   "cell_type": "code",
   "execution_count": 10,
   "id": "729fa942",
   "metadata": {},
   "outputs": [
    {
     "name": "stdout",
     "output_type": "stream",
     "text": [
      "<class 'pandas.core.frame.DataFrame'>\n",
      "RangeIndex: 14252 entries, 0 to 14251\n",
      "Data columns (total 4 columns):\n",
      " #   Column    Non-Null Count  Dtype \n",
      "---  ------    --------------  ----- \n",
      " 0   video.id  14252 non-null  object\n",
      " 1   foods     13526 non-null  object\n",
      " 2   city      4430 non-null   object\n",
      " 3   district  2374 non-null   object\n",
      "dtypes: object(4)\n",
      "memory usage: 445.5+ KB\n"
     ]
    }
   ],
   "source": [
    "# Convert the list of dictionaries to a DataFrame\n",
    "food_location_df = pd.DataFrame(data)\n",
    "food_location_df.info()"
   ]
  },
  {
   "cell_type": "markdown",
   "id": "c1196344",
   "metadata": {},
   "source": [
    "## Thống kê số lượng món ăn xuất hiện trong các file JSON"
   ]
  },
  {
   "cell_type": "markdown",
   "id": "583973b7",
   "metadata": {},
   "source": [
    "Các món ăn xuất hiện nhiều nhất trong tất cả các tuần"
   ]
  },
  {
   "cell_type": "code",
   "execution_count": 11,
   "id": "d1f12622",
   "metadata": {},
   "outputs": [
    {
     "data": {
      "text/plain": [
       "foods\n",
       "cơm           545\n",
       "tôm           272\n",
       "xúc xích      268\n",
       "bánh mì       257\n",
       "trà sữa       231\n",
       "mì cay        215\n",
       "thịt nướng    192\n",
       "gà rán        185\n",
       "mì            177\n",
       "thịt bò       171\n",
       "chân gà       165\n",
       "bún           164\n",
       "lẩu           163\n",
       "kim chi       161\n",
       "chả cá        155\n",
       "mực           146\n",
       "lạp xưởng     142\n",
       "kem           140\n",
       "trứng         135\n",
       "xoài          135\n",
       "Name: count, dtype: int64"
      ]
     },
     "execution_count": 11,
     "metadata": {},
     "output_type": "execute_result"
    }
   ],
   "source": [
    "food_location_df[\"foods\"].explode().value_counts().head(20)"
   ]
  },
  {
   "cell_type": "markdown",
   "id": "a2e3131b",
   "metadata": {},
   "source": [
    "## Lưu dữ liệu sau khi tổng hợp xuống 1 file Parquet"
   ]
  },
  {
   "cell_type": "code",
   "execution_count": 12,
   "id": "c51a097b",
   "metadata": {},
   "outputs": [],
   "source": [
    "# Save to parquet file\n",
    "food_location_df.to_parquet(\"./food_location_data.parquet\", index=False)\n",
    "del food_location_df"
   ]
  },
  {
   "cell_type": "markdown",
   "id": "fe4d13a4",
   "metadata": {},
   "source": [
    "# Tạo một file dữ liệu hoàn chỉnh để chuẩn bị cho các bước phân tích tiếp theo\n"
   ]
  },
  {
   "cell_type": "markdown",
   "id": "75803e5d",
   "metadata": {},
   "source": [
    "## Đọc file Parquet chứa dữ liệu về món ăn và địa điểm"
   ]
  },
  {
   "cell_type": "code",
   "execution_count": 13,
   "id": "5c379d3b",
   "metadata": {},
   "outputs": [
    {
     "name": "stdout",
     "output_type": "stream",
     "text": [
      "<class 'pandas.core.frame.DataFrame'>\n",
      "RangeIndex: 14252 entries, 0 to 14251\n",
      "Data columns (total 4 columns):\n",
      " #   Column    Non-Null Count  Dtype \n",
      "---  ------    --------------  ----- \n",
      " 0   video.id  14252 non-null  object\n",
      " 1   foods     13526 non-null  object\n",
      " 2   city      4430 non-null   object\n",
      " 3   district  2374 non-null   object\n",
      "dtypes: object(4)\n",
      "memory usage: 445.5+ KB\n"
     ]
    }
   ],
   "source": [
    "food_location_df = pd.read_parquet(\"./food_location_data.parquet\")\n",
    "food_location_df.info()"
   ]
  },
  {
   "cell_type": "markdown",
   "id": "d4e675fd",
   "metadata": {},
   "source": [
    "## Đọc file Parquet chứa đầy đủ dữ liệu về top 20% video theo mỗi tuần"
   ]
  },
  {
   "cell_type": "code",
   "execution_count": 14,
   "id": "28ab0681",
   "metadata": {},
   "outputs": [
    {
     "name": "stdout",
     "output_type": "stream",
     "text": [
      "<class 'pandas.core.frame.DataFrame'>\n",
      "RangeIndex: 14252 entries, 0 to 14251\n",
      "Data columns (total 61 columns):\n",
      " #   Column                           Non-Null Count  Dtype                           \n",
      "---  ------                           --------------  -----                           \n",
      " 0   CategoryType                     14252 non-null  object                          \n",
      " 1   author.downloadSetting           14252 non-null  object                          \n",
      " 2   author.duetSetting               14252 non-null  object                          \n",
      " 3   author.id                        14252 non-null  object                          \n",
      " 4   author.nickname                  14252 non-null  object                          \n",
      " 5   author.openFavorite              14252 non-null  object                          \n",
      " 6   author.secUid                    14252 non-null  object                          \n",
      " 7   author.signature                 14252 non-null  object                          \n",
      " 8   author.stitchSetting             14252 non-null  object                          \n",
      " 9   author.uniqueId                  14252 non-null  object                          \n",
      " 10  author.verified                  14252 non-null  object                          \n",
      " 11  authorStats.diggCount            14252 non-null  float64                         \n",
      " 12  authorStats.followerCount        14252 non-null  float64                         \n",
      " 13  authorStats.followingCount       14252 non-null  float64                         \n",
      " 14  authorStats.heartCount           14252 non-null  float64                         \n",
      " 15  authorStats.videoCount           14252 non-null  float64                         \n",
      " 16  createTime                       14252 non-null  datetime64[ns, Asia/Ho_Chi_Minh]\n",
      " 17  desc                             14252 non-null  object                          \n",
      " 18  diversificationId                14252 non-null  object                          \n",
      " 19  isAd                             14252 non-null  object                          \n",
      " 20  itemCommentStatus                14252 non-null  object                          \n",
      " 21  music.authorName                 14252 non-null  object                          \n",
      " 22  music.duration                   14252 non-null  float64                         \n",
      " 23  music.id                         14252 non-null  object                          \n",
      " 24  music.isCopyrighted              14252 non-null  object                          \n",
      " 25  music.original                   14252 non-null  object                          \n",
      " 26  music.title                      14252 non-null  object                          \n",
      " 27  statsV2.collectCount             14252 non-null  float64                         \n",
      " 28  statsV2.commentCount             14252 non-null  float64                         \n",
      " 29  statsV2.diggCount                14252 non-null  float64                         \n",
      " 30  statsV2.playCount                14252 non-null  float64                         \n",
      " 31  statsV2.shareCount               14252 non-null  float64                         \n",
      " 32  textLanguage                     14252 non-null  object                          \n",
      " 33  textTranslatable                 14252 non-null  object                          \n",
      " 34  video.VQScore                    14252 non-null  float64                         \n",
      " 35  video.bitrate                    14252 non-null  float64                         \n",
      " 36  video.claInfo.enableAutoCaption  14252 non-null  object                          \n",
      " 37  video.claInfo.hasOriginalAudio   14252 non-null  object                          \n",
      " 38  video.codecType                  14252 non-null  object                          \n",
      " 39  video.definition                 14252 non-null  object                          \n",
      " 40  video.duration                   14252 non-null  float64                         \n",
      " 41  video.encodedType                14252 non-null  object                          \n",
      " 42  video.height                     14252 non-null  float64                         \n",
      " 43  video.id                         14252 non-null  object                          \n",
      " 44  video.ratio                      14252 non-null  object                          \n",
      " 45  video.videoQuality               14252 non-null  object                          \n",
      " 46  video.volumeInfo.Loudness        14252 non-null  float64                         \n",
      " 47  video.volumeInfo.Peak            14252 non-null  float64                         \n",
      " 48  video.width                      14252 non-null  float64                         \n",
      " 49  collectTime                      14252 non-null  datetime64[ns, Asia/Ho_Chi_Minh]\n",
      " 50  hashtags                         14252 non-null  object                          \n",
      " 51  hashtag_count                    14252 non-null  int64                           \n",
      " 52  createTime_year                  14252 non-null  int32                           \n",
      " 53  createTime_week                  14252 non-null  UInt32                          \n",
      " 54  year_week                        14252 non-null  object                          \n",
      " 55  transcript                       13430 non-null  object                          \n",
      " 56  takeaway_1                       13205 non-null  object                          \n",
      " 57  takeaway_2                       13205 non-null  object                          \n",
      " 58  takeaway_3                       13205 non-null  object                          \n",
      " 59  transcript_call_to_action        13732 non-null  object                          \n",
      " 60  transcript_curiosity_gap         13732 non-null  object                          \n",
      "dtypes: UInt32(1), datetime64[ns, Asia/Ho_Chi_Minh](2), float64(18), int32(1), int64(1), object(38)\n",
      "memory usage: 6.5+ MB\n"
     ]
    }
   ],
   "source": [
    "weekly_video_df = pd.read_parquet(\n",
    "    \"./top_20_percent_weekly_videos_transcripts.parquet\")\n",
    "weekly_video_df.info()"
   ]
  },
  {
   "cell_type": "markdown",
   "id": "f20b29e7",
   "metadata": {},
   "source": [
    "## Merge các dataframe lại với nhau dựa trên `video.id`\n"
   ]
  },
  {
   "cell_type": "code",
   "execution_count": 15,
   "id": "9293fc22",
   "metadata": {},
   "outputs": [
    {
     "name": "stdout",
     "output_type": "stream",
     "text": [
      "<class 'pandas.core.frame.DataFrame'>\n",
      "RangeIndex: 14252 entries, 0 to 14251\n",
      "Data columns (total 64 columns):\n",
      " #   Column                           Non-Null Count  Dtype                           \n",
      "---  ------                           --------------  -----                           \n",
      " 0   CategoryType                     14252 non-null  object                          \n",
      " 1   author.downloadSetting           14252 non-null  object                          \n",
      " 2   author.duetSetting               14252 non-null  object                          \n",
      " 3   author.id                        14252 non-null  object                          \n",
      " 4   author.nickname                  14252 non-null  object                          \n",
      " 5   author.openFavorite              14252 non-null  object                          \n",
      " 6   author.secUid                    14252 non-null  object                          \n",
      " 7   author.signature                 14252 non-null  object                          \n",
      " 8   author.stitchSetting             14252 non-null  object                          \n",
      " 9   author.uniqueId                  14252 non-null  object                          \n",
      " 10  author.verified                  14252 non-null  object                          \n",
      " 11  authorStats.diggCount            14252 non-null  float64                         \n",
      " 12  authorStats.followerCount        14252 non-null  float64                         \n",
      " 13  authorStats.followingCount       14252 non-null  float64                         \n",
      " 14  authorStats.heartCount           14252 non-null  float64                         \n",
      " 15  authorStats.videoCount           14252 non-null  float64                         \n",
      " 16  createTime                       14252 non-null  datetime64[ns, Asia/Ho_Chi_Minh]\n",
      " 17  desc                             14252 non-null  object                          \n",
      " 18  diversificationId                14252 non-null  object                          \n",
      " 19  isAd                             14252 non-null  object                          \n",
      " 20  itemCommentStatus                14252 non-null  object                          \n",
      " 21  music.authorName                 14252 non-null  object                          \n",
      " 22  music.duration                   14252 non-null  float64                         \n",
      " 23  music.id                         14252 non-null  object                          \n",
      " 24  music.isCopyrighted              14252 non-null  object                          \n",
      " 25  music.original                   14252 non-null  object                          \n",
      " 26  music.title                      14252 non-null  object                          \n",
      " 27  statsV2.collectCount             14252 non-null  float64                         \n",
      " 28  statsV2.commentCount             14252 non-null  float64                         \n",
      " 29  statsV2.diggCount                14252 non-null  float64                         \n",
      " 30  statsV2.playCount                14252 non-null  float64                         \n",
      " 31  statsV2.shareCount               14252 non-null  float64                         \n",
      " 32  textLanguage                     14252 non-null  object                          \n",
      " 33  textTranslatable                 14252 non-null  object                          \n",
      " 34  video.VQScore                    14252 non-null  float64                         \n",
      " 35  video.bitrate                    14252 non-null  float64                         \n",
      " 36  video.claInfo.enableAutoCaption  14252 non-null  object                          \n",
      " 37  video.claInfo.hasOriginalAudio   14252 non-null  object                          \n",
      " 38  video.codecType                  14252 non-null  object                          \n",
      " 39  video.definition                 14252 non-null  object                          \n",
      " 40  video.duration                   14252 non-null  float64                         \n",
      " 41  video.encodedType                14252 non-null  object                          \n",
      " 42  video.height                     14252 non-null  float64                         \n",
      " 43  video.id                         14252 non-null  object                          \n",
      " 44  video.ratio                      14252 non-null  object                          \n",
      " 45  video.videoQuality               14252 non-null  object                          \n",
      " 46  video.volumeInfo.Loudness        14252 non-null  float64                         \n",
      " 47  video.volumeInfo.Peak            14252 non-null  float64                         \n",
      " 48  video.width                      14252 non-null  float64                         \n",
      " 49  collectTime                      14252 non-null  datetime64[ns, Asia/Ho_Chi_Minh]\n",
      " 50  hashtags                         14252 non-null  object                          \n",
      " 51  hashtag_count                    14252 non-null  int64                           \n",
      " 52  createTime_year                  14252 non-null  int32                           \n",
      " 53  createTime_week                  14252 non-null  UInt32                          \n",
      " 54  year_week                        14252 non-null  object                          \n",
      " 55  transcript                       13430 non-null  object                          \n",
      " 56  takeaway_1                       13205 non-null  object                          \n",
      " 57  takeaway_2                       13205 non-null  object                          \n",
      " 58  takeaway_3                       13205 non-null  object                          \n",
      " 59  transcript_call_to_action        13732 non-null  object                          \n",
      " 60  transcript_curiosity_gap         13732 non-null  object                          \n",
      " 61  foods                            13526 non-null  object                          \n",
      " 62  city                             4430 non-null   object                          \n",
      " 63  district                         2374 non-null   object                          \n",
      "dtypes: UInt32(1), datetime64[ns, Asia/Ho_Chi_Minh](2), float64(18), int32(1), int64(1), object(41)\n",
      "memory usage: 6.9+ MB\n"
     ]
    }
   ],
   "source": [
    "# Merge the weekly video DataFrame with the food location DataFrame\n",
    "# using left join to keep all video data\n",
    "final_weekly_video_df = pd.merge(\n",
    "    left=weekly_video_df, right=food_location_df,\n",
    "    on=\"video.id\", how=\"left\"\n",
    ")\n",
    "final_weekly_video_df.info()"
   ]
  },
  {
   "cell_type": "markdown",
   "id": "24c28d58",
   "metadata": {},
   "source": [
    "## Phân tích số lượng món ăn theo từng tuần và địa điểm\n"
   ]
  },
  {
   "cell_type": "code",
   "execution_count": 16,
   "id": "20f26e28",
   "metadata": {},
   "outputs": [
    {
     "data": {
      "text/html": [
       "<div>\n",
       "<style scoped>\n",
       "    .dataframe tbody tr th:only-of-type {\n",
       "        vertical-align: middle;\n",
       "    }\n",
       "\n",
       "    .dataframe tbody tr th {\n",
       "        vertical-align: top;\n",
       "    }\n",
       "\n",
       "    .dataframe thead th {\n",
       "        text-align: right;\n",
       "    }\n",
       "</style>\n",
       "<table border=\"1\" class=\"dataframe\">\n",
       "  <thead>\n",
       "    <tr style=\"text-align: right;\">\n",
       "      <th></th>\n",
       "      <th>year_week</th>\n",
       "      <th>total_videos</th>\n",
       "      <th>videos_with_food</th>\n",
       "      <th>videos_with_city</th>\n",
       "      <th>videos_with_district</th>\n",
       "      <th>food_percentage</th>\n",
       "      <th>city_percentage</th>\n",
       "      <th>district_percentage</th>\n",
       "    </tr>\n",
       "  </thead>\n",
       "  <tbody>\n",
       "    <tr>\n",
       "      <th>0</th>\n",
       "      <td>Y2023_W47</td>\n",
       "      <td>100</td>\n",
       "      <td>94</td>\n",
       "      <td>50</td>\n",
       "      <td>32</td>\n",
       "      <td>94.00</td>\n",
       "      <td>50.00</td>\n",
       "      <td>32.00</td>\n",
       "    </tr>\n",
       "    <tr>\n",
       "      <th>1</th>\n",
       "      <td>Y2023_W48</td>\n",
       "      <td>183</td>\n",
       "      <td>177</td>\n",
       "      <td>72</td>\n",
       "      <td>35</td>\n",
       "      <td>96.72</td>\n",
       "      <td>39.34</td>\n",
       "      <td>19.13</td>\n",
       "    </tr>\n",
       "    <tr>\n",
       "      <th>2</th>\n",
       "      <td>Y2023_W49</td>\n",
       "      <td>185</td>\n",
       "      <td>176</td>\n",
       "      <td>71</td>\n",
       "      <td>41</td>\n",
       "      <td>95.14</td>\n",
       "      <td>38.38</td>\n",
       "      <td>22.16</td>\n",
       "    </tr>\n",
       "    <tr>\n",
       "      <th>3</th>\n",
       "      <td>Y2023_W50</td>\n",
       "      <td>189</td>\n",
       "      <td>181</td>\n",
       "      <td>69</td>\n",
       "      <td>42</td>\n",
       "      <td>95.77</td>\n",
       "      <td>36.51</td>\n",
       "      <td>22.22</td>\n",
       "    </tr>\n",
       "    <tr>\n",
       "      <th>4</th>\n",
       "      <td>Y2023_W51</td>\n",
       "      <td>190</td>\n",
       "      <td>183</td>\n",
       "      <td>78</td>\n",
       "      <td>35</td>\n",
       "      <td>96.32</td>\n",
       "      <td>41.05</td>\n",
       "      <td>18.42</td>\n",
       "    </tr>\n",
       "    <tr>\n",
       "      <th>...</th>\n",
       "      <td>...</td>\n",
       "      <td>...</td>\n",
       "      <td>...</td>\n",
       "      <td>...</td>\n",
       "      <td>...</td>\n",
       "      <td>...</td>\n",
       "      <td>...</td>\n",
       "      <td>...</td>\n",
       "    </tr>\n",
       "    <tr>\n",
       "      <th>65</th>\n",
       "      <td>Y2025_W08</td>\n",
       "      <td>221</td>\n",
       "      <td>214</td>\n",
       "      <td>67</td>\n",
       "      <td>35</td>\n",
       "      <td>96.83</td>\n",
       "      <td>30.32</td>\n",
       "      <td>15.84</td>\n",
       "    </tr>\n",
       "    <tr>\n",
       "      <th>66</th>\n",
       "      <td>Y2025_W09</td>\n",
       "      <td>231</td>\n",
       "      <td>222</td>\n",
       "      <td>58</td>\n",
       "      <td>35</td>\n",
       "      <td>96.10</td>\n",
       "      <td>25.11</td>\n",
       "      <td>15.15</td>\n",
       "    </tr>\n",
       "    <tr>\n",
       "      <th>67</th>\n",
       "      <td>Y2025_W10</td>\n",
       "      <td>242</td>\n",
       "      <td>233</td>\n",
       "      <td>74</td>\n",
       "      <td>37</td>\n",
       "      <td>96.28</td>\n",
       "      <td>30.58</td>\n",
       "      <td>15.29</td>\n",
       "    </tr>\n",
       "    <tr>\n",
       "      <th>68</th>\n",
       "      <td>Y2025_W11</td>\n",
       "      <td>238</td>\n",
       "      <td>228</td>\n",
       "      <td>72</td>\n",
       "      <td>48</td>\n",
       "      <td>95.80</td>\n",
       "      <td>30.25</td>\n",
       "      <td>20.17</td>\n",
       "    </tr>\n",
       "    <tr>\n",
       "      <th>69</th>\n",
       "      <td>Y2025_W12</td>\n",
       "      <td>100</td>\n",
       "      <td>96</td>\n",
       "      <td>39</td>\n",
       "      <td>23</td>\n",
       "      <td>96.00</td>\n",
       "      <td>39.00</td>\n",
       "      <td>23.00</td>\n",
       "    </tr>\n",
       "  </tbody>\n",
       "</table>\n",
       "<p>70 rows × 8 columns</p>\n",
       "</div>"
      ],
      "text/plain": [
       "    year_week  total_videos  videos_with_food  videos_with_city  \\\n",
       "0   Y2023_W47           100                94                50   \n",
       "1   Y2023_W48           183               177                72   \n",
       "2   Y2023_W49           185               176                71   \n",
       "3   Y2023_W50           189               181                69   \n",
       "4   Y2023_W51           190               183                78   \n",
       "..        ...           ...               ...               ...   \n",
       "65  Y2025_W08           221               214                67   \n",
       "66  Y2025_W09           231               222                58   \n",
       "67  Y2025_W10           242               233                74   \n",
       "68  Y2025_W11           238               228                72   \n",
       "69  Y2025_W12           100                96                39   \n",
       "\n",
       "    videos_with_district  food_percentage  city_percentage  \\\n",
       "0                     32            94.00            50.00   \n",
       "1                     35            96.72            39.34   \n",
       "2                     41            95.14            38.38   \n",
       "3                     42            95.77            36.51   \n",
       "4                     35            96.32            41.05   \n",
       "..                   ...              ...              ...   \n",
       "65                    35            96.83            30.32   \n",
       "66                    35            96.10            25.11   \n",
       "67                    37            96.28            30.58   \n",
       "68                    48            95.80            30.25   \n",
       "69                    23            96.00            39.00   \n",
       "\n",
       "    district_percentage  \n",
       "0                 32.00  \n",
       "1                 19.13  \n",
       "2                 22.16  \n",
       "3                 22.22  \n",
       "4                 18.42  \n",
       "..                  ...  \n",
       "65                15.84  \n",
       "66                15.15  \n",
       "67                15.29  \n",
       "68                20.17  \n",
       "69                23.00  \n",
       "\n",
       "[70 rows x 8 columns]"
      ]
     },
     "metadata": {},
     "output_type": "display_data"
    },
    {
     "name": "stdout",
     "output_type": "stream",
     "text": [
      "Top 20 foods across all weeks:\n"
     ]
    },
    {
     "data": {
      "text/plain": [
       "Series([], Name: count, dtype: int64)"
      ]
     },
     "metadata": {},
     "output_type": "display_data"
    },
    {
     "name": "stdout",
     "output_type": "stream",
     "text": [
      "\n",
      "Top 10 cities across all weeks:\n"
     ]
    },
    {
     "data": {
      "text/plain": [
       "city\n",
       "hà nội                   1235\n",
       "sài gòn                   888\n",
       "hồ chí minh               514\n",
       "hải phòng                 113\n",
       "không có thông tin         98\n",
       "vũng tàu                   93\n",
       "đà lạt                     92\n",
       "thành phố hồ chí minh      74\n",
       "cần thơ                    68\n",
       "an giang                   54\n",
       "Name: count, dtype: int64"
      ]
     },
     "metadata": {},
     "output_type": "display_data"
    },
    {
     "name": "stdout",
     "output_type": "stream",
     "text": [
      "\n",
      "Top 10 districts across all weeks:\n"
     ]
    },
    {
     "data": {
      "text/plain": [
       "district\n",
       "đống đa         143\n",
       "quận 1          120\n",
       "hoàn kiếm       109\n",
       "bình thạnh      109\n",
       "hai bà trưng    101\n",
       "quận 5           92\n",
       "cầu giấy         88\n",
       "quận 7           86\n",
       "gò vấp           83\n",
       "quận 10          75\n",
       "Name: count, dtype: int64"
      ]
     },
     "metadata": {},
     "output_type": "display_data"
    },
    {
     "data": {
      "image/png": "[encoded data removed]",
      "text/plain": [
       "<Figure size 1200x600 with 1 Axes>"
      ]
     },
     "metadata": {},
     "output_type": "display_data"
    }
   ],
   "source": [
    "# Analyze food, city, and district data by week\n",
    "import matplotlib.pyplot as plt\n",
    "\n",
    "# Group by year_week and calculate basic statistics\n",
    "weekly_stats = final_weekly_video_df.groupby('year_week').agg({\n",
    "    'video.id': 'count',  # Total videos per week\n",
    "    'foods': lambda x: x.notna().sum(),  # Videos with food info\n",
    "    'city': lambda x: x.notna().sum(),  # Videos with city info\n",
    "    'district': lambda x: x.notna().sum()  # Videos with district info\n",
    "}).reset_index()\n",
    "\n",
    "# Rename columns for clarity\n",
    "weekly_stats.columns = ['year_week', 'total_videos', 'videos_with_food', 'videos_with_city', 'videos_with_district']\n",
    "\n",
    "# Calculate percentages\n",
    "weekly_stats['food_percentage'] = (weekly_stats['videos_with_food'] / weekly_stats['total_videos'] * 100).round(2)\n",
    "weekly_stats['city_percentage'] = (weekly_stats['videos_with_city'] / weekly_stats['total_videos'] * 100).round(2)\n",
    "weekly_stats['district_percentage'] = (weekly_stats['videos_with_district'] / weekly_stats['total_videos'] * 100).round(2)\n",
    "\n",
    "# Show the statistics by week\n",
    "display(weekly_stats.sort_values('year_week'))\n",
    "\n",
    "# Calculate overall top foods, cities, and districts\n",
    "all_foods = []\n",
    "for food_list in final_weekly_video_df['foods'].dropna():\n",
    "    if isinstance(food_list, list):\n",
    "        all_foods.extend(food_list)\n",
    "\n",
    "print(\"Top 20 foods across all weeks:\")\n",
    "display(pd.Series(all_foods).value_counts().head(20))\n",
    "\n",
    "print(\"\\nTop 10 cities across all weeks:\")\n",
    "display(final_weekly_video_df['city'].value_counts().head(10))\n",
    "\n",
    "print(\"\\nTop 10 districts across all weeks:\")\n",
    "display(final_weekly_video_df['district'].value_counts().head(10))\n",
    "\n",
    "# Plot percentage of videos with food, city, and district information by week\n",
    "plt.figure(figsize=(12, 6))\n",
    "plt.plot(weekly_stats['year_week'], weekly_stats['food_percentage'], 'b-o', label='Food')\n",
    "plt.plot(weekly_stats['year_week'], weekly_stats['city_percentage'], 'g-o', label='City')\n",
    "plt.plot(weekly_stats['year_week'], weekly_stats['district_percentage'], 'r-o', label='District')\n",
    "plt.title('Percentage of Videos with Food, City, and District Information by Week')\n",
    "plt.xlabel('Year-Week')\n",
    "plt.ylabel('Percentage (%)')\n",
    "plt.xticks(rotation=90)\n",
    "plt.legend()\n",
    "plt.tight_layout()\n",
    "plt.grid(True, alpha=0.3)\n",
    "plt.show()"
   ]
  },
  {
   "cell_type": "code",
   "execution_count": 17,
   "id": "1b3d9087",
   "metadata": {},
   "outputs": [],
   "source": [
    "# # Save the weekly statistics to a Parquet file\n",
    "# weekly_stats.to_parquet(\n",
    "#     \"../weekly_video_statistics.parquet\", index=False)"
   ]
  },
  {
   "cell_type": "markdown",
   "id": "27887d54",
   "metadata": {},
   "source": [
    "## Lưu dataframe cuối cùng thành file Parquet"
   ]
  },
  {
   "cell_type": "code",
   "execution_count": 18,
   "id": "5a0b4750",
   "metadata": {},
   "outputs": [],
   "source": [
    "# Save the merged data to a Parquet file\n",
    "# Top 20% weekly videos with food and location data\n",
    "final_weekly_video_df.to_parquet(\n",
    "    \"./top_20_percent_weekly_videos_with_food_location.parquet\", index=False)"
   ]
  },
  {
   "cell_type": "code",
   "execution_count": 20,
   "id": "360e29de",
   "metadata": {},
   "outputs": [
    {
     "name": "stdout",
     "output_type": "stream",
     "text": [
      "<class 'pandas.core.frame.DataFrame'>\n",
      "RangeIndex: 14252 entries, 0 to 14251\n",
      "Data columns (total 64 columns):\n",
      " #   Column                           Non-Null Count  Dtype                           \n",
      "---  ------                           --------------  -----                           \n",
      " 0   CategoryType                     14252 non-null  object                          \n",
      " 1   author.downloadSetting           14252 non-null  object                          \n",
      " 2   author.duetSetting               14252 non-null  object                          \n",
      " 3   author.id                        14252 non-null  object                          \n",
      " 4   author.nickname                  14252 non-null  object                          \n",
      " 5   author.openFavorite              14252 non-null  object                          \n",
      " 6   author.secUid                    14252 non-null  object                          \n",
      " 7   author.signature                 14252 non-null  object                          \n",
      " 8   author.stitchSetting             14252 non-null  object                          \n",
      " 9   author.uniqueId                  14252 non-null  object                          \n",
      " 10  author.verified                  14252 non-null  object                          \n",
      " 11  authorStats.diggCount            14252 non-null  float64                         \n",
      " 12  authorStats.followerCount        14252 non-null  float64                         \n",
      " 13  authorStats.followingCount       14252 non-null  float64                         \n",
      " 14  authorStats.heartCount           14252 non-null  float64                         \n",
      " 15  authorStats.videoCount           14252 non-null  float64                         \n",
      " 16  createTime                       14252 non-null  datetime64[ns, Asia/Ho_Chi_Minh]\n",
      " 17  desc                             14252 non-null  object                          \n",
      " 18  diversificationId                14252 non-null  object                          \n",
      " 19  isAd                             14252 non-null  object                          \n",
      " 20  itemCommentStatus                14252 non-null  object                          \n",
      " 21  music.authorName                 14252 non-null  object                          \n",
      " 22  music.duration                   14252 non-null  float64                         \n",
      " 23  music.id                         14252 non-null  object                          \n",
      " 24  music.isCopyrighted              14252 non-null  object                          \n",
      " 25  music.original                   14252 non-null  object                          \n",
      " 26  music.title                      14252 non-null  object                          \n",
      " 27  statsV2.collectCount             14252 non-null  float64                         \n",
      " 28  statsV2.commentCount             14252 non-null  float64                         \n",
      " 29  statsV2.diggCount                14252 non-null  float64                         \n",
      " 30  statsV2.playCount                14252 non-null  float64                         \n",
      " 31  statsV2.shareCount               14252 non-null  float64                         \n",
      " 32  textLanguage                     14252 non-null  object                          \n",
      " 33  textTranslatable                 14252 non-null  object                          \n",
      " 34  video.VQScore                    14252 non-null  float64                         \n",
      " 35  video.bitrate                    14252 non-null  float64                         \n",
      " 36  video.claInfo.enableAutoCaption  14252 non-null  object                          \n",
      " 37  video.claInfo.hasOriginalAudio   14252 non-null  object                          \n",
      " 38  video.codecType                  14252 non-null  object                          \n",
      " 39  video.definition                 14252 non-null  object                          \n",
      " 40  video.duration                   14252 non-null  float64                         \n",
      " 41  video.encodedType                14252 non-null  object                          \n",
      " 42  video.height                     14252 non-null  float64                         \n",
      " 43  video.id                         14252 non-null  object                          \n",
      " 44  video.ratio                      14252 non-null  object                          \n",
      " 45  video.videoQuality               14252 non-null  object                          \n",
      " 46  video.volumeInfo.Loudness        14252 non-null  float64                         \n",
      " 47  video.volumeInfo.Peak            14252 non-null  float64                         \n",
      " 48  video.width                      14252 non-null  float64                         \n",
      " 49  collectTime                      14252 non-null  datetime64[ns, Asia/Ho_Chi_Minh]\n",
      " 50  hashtags                         14252 non-null  object                          \n",
      " 51  hashtag_count                    14252 non-null  int64                           \n",
      " 52  createTime_year                  14252 non-null  int32                           \n",
      " 53  createTime_week                  14252 non-null  UInt32                          \n",
      " 54  year_week                        14252 non-null  object                          \n",
      " 55  transcript                       13430 non-null  object                          \n",
      " 56  takeaway_1                       13205 non-null  object                          \n",
      " 57  takeaway_2                       13205 non-null  object                          \n",
      " 58  takeaway_3                       13205 non-null  object                          \n",
      " 59  transcript_call_to_action        13732 non-null  object                          \n",
      " 60  transcript_curiosity_gap         13732 non-null  object                          \n",
      " 61  foods                            13526 non-null  object                          \n",
      " 62  city                             4430 non-null   object                          \n",
      " 63  district                         2374 non-null   object                          \n",
      "dtypes: UInt32(1), datetime64[ns, Asia/Ho_Chi_Minh](2), float64(18), int32(1), int64(1), object(41)\n",
      "memory usage: 6.9+ MB\n"
     ]
    }
   ],
   "source": [
    "pd.read_parquet(\n",
    "    \"./top_20_percent_weekly_videos_with_food_location.parquet\").info()"
   ]
  }
 ],
 "metadata": {
  "kernelspec": {
   "display_name": ".venv",
   "language": "python",
   "name": "python3"
  },
  "language_info": {
   "codemirror_mode": {
    "name": "ipython",
    "version": 3
   },
   "file_extension": ".py",
   "mimetype": "text/x-python",
   "name": "python",
   "nbconvert_exporter": "python",
   "pygments_lexer": "ipython3",
   "version": "3.11.10"
  }
 },
 "nbformat": 4,
 "nbformat_minor": 5
}
