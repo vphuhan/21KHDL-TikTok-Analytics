{
 "cells": [
  {
   "cell_type": "code",
   "execution_count": null,
   "metadata": {},
   "outputs": [],
   "source": [
    "import asyncio\n",
    "import json\n",
    "import os\n",
    "from utils import *\n",
    "from TikTokApi import TikTokApi\n",
    "from flatten_merge_data import *\n",
    "import pandas as pd\n",
    "os.chdir(\"/Users/vophuhan/Everything/University/Năm 4/Semester 2/Ứng dụng Phân tích dữ liệu thông minh/21KHDL-TikTok-Analytics\")\n",
    "# Define data directories\n",
    "USER_LISTS_DIR = \"src/crawler/test/data/user_lists/hashtags\"\n",
    "\n",
    "# Define filtering parameters\n",
    "MIN_LIKES = 0\n",
    "MIN_VIDEOS = 0\n",
    "MIN_FOLLOWERS = 0\n",
    "\n",
    "# # Define evaluation parameters\n",
    "# TIME_WINDOW_DAYS = 90\n",
    "# MIN_VIDEOS_PER_WEEK = 1\n",
    "\n",
    "# MIN_VIEWS = 200000\n",
    "# MIN_ENGAGEMENT_RATE = 0.05\n",
    "# MIN_VALID_VIDEOS = 4\n",
    "\n",
    "# Input file with hashtags\n",
    "hashtag_file = \"data/lists/handmade_hashtag_amthuc.txt\""
   ]
  },
  {
   "cell_type": "markdown",
   "metadata": {},
   "source": [
    "Lấy danh sách các hashtag đã crawl video.\n"
   ]
  },
  {
   "cell_type": "code",
   "execution_count": null,
   "metadata": {},
   "outputs": [
    {
     "name": "stdout",
     "output_type": "stream",
     "text": [
      "📌 Loaded 13 hashtags from data/lists/handmade_hashtag_amthuc.txt\n"
     ]
    }
   ],
   "source": [
    "# Read hashtags from a file\n",
    "crawled_hashtags = read_usernames_from_file(hashtag_file)\n",
    "crawled_hashtags = set(crawled_hashtags)\n",
    "\n",
    "if not crawled_hashtags:\n",
    "    print(\"No hashtags found in file.\")\n",
    "else:\n",
    "    print(f\"📌 Loaded {len(crawled_hashtags)} hashtags from {hashtag_file}\")\n",
    "d\n",
    "# Display loaded hashtags\n",
    "# crawled_hashtags"
   ]
  },
  {
   "cell_type": "markdown",
   "metadata": {},
   "source": [
    "Danh sách các hashtag mới.\n"
   ]
  },
  {
   "cell_type": "code",
   "execution_count": 3,
   "metadata": {},
   "outputs": [
    {
     "data": {
      "text/plain": [
       "61"
      ]
     },
     "execution_count": 3,
     "metadata": {},
     "output_type": "execute_result"
    }
   ],
   "source": [
    "new_hashtags = pd.read_csv(\"filtered_hashtag_list.csv\")\n",
    "new_hashtags = new_hashtags['hashtags'].unique()\n",
    "len(new_hashtags)"
   ]
  },
  {
   "cell_type": "markdown",
   "metadata": {},
   "source": [
    "Lọc ra các hashtag chưa crawl.\n"
   ]
  },
  {
   "cell_type": "code",
   "execution_count": null,
   "metadata": {},
   "outputs": [
    {
     "data": {
      "text/plain": [
       "53"
      ]
     },
     "execution_count": 4,
     "metadata": {},
     "output_type": "execute_result"
    }
   ],
   "source": [
    "hashtags = list(set(new_hashtags) - set(crawled_hashtags))\n",
    "len(hashtags)\n",
    "# hashtag1 = hashtags[:30]"
   ]
  },
  {
   "cell_type": "markdown",
   "metadata": {},
   "source": [
    "Crawl video của hashtag mới.\n"
   ]
  },
  {
   "cell_type": "code",
   "execution_count": 6,
   "metadata": {},
   "outputs": [
    {
     "name": "stdout",
     "output_type": "stream",
     "text": [
      "\n",
      "--- Attempt 1/2: 9 hashtags remaining ---\n",
      "\n",
      "📥 Processing batch 1 (9 hashtags)...\n",
      "✅ Total videos for #quan10angi: 0\n",
      "✅ Total videos for #anngonmoingay: 0\n",
      "✅ Total videos for #comnhangonnhat: 0\n",
      "✅ Total videos for #amthuctrunghoa: 0\n",
      "✅ Total videos for #comque: 0\n",
      "✅ Total videos for #reviewdoan: 0\n",
      "✅ Total videos for #buacomque: 0\n",
      "✅ Total videos for #comnha: 0\n",
      "✅ Total videos for #reviewanvat: 0\n",
      "No new unique records to add.\n",
      "No new unique records to add.\n",
      "No new unique records to add.\n",
      "No new unique records to add.\n",
      "No new unique records to add.\n",
      "No new unique records to add.\n",
      "No new unique records to add.\n",
      "No new unique records to add.\n",
      "No new unique records to add.\n",
      "\n",
      "✅ All hashtags processed successfully after 1 attempts!\n"
     ]
    }
   ],
   "source": [
    "# Fetch videos for each hashtag and save\n",
    "hashtag_videos = await get_videos_for_hashtags(hashtags[::-1], count=500, max_retries=2, batch_size=10, data_path=\"data/video_info/hashtags_new\")\n",
    "\n",
    "# Check the first few results\n",
    "# list(hashtag_videos.keys())[:5]"
   ]
  },
  {
   "cell_type": "code",
   "execution_count": null,
   "metadata": {},
   "outputs": [],
   "source": [
    "# # Define the directory containing user list files\n",
    "# DATA_DIR = \"data/test/hashtags\"\n",
    "\n",
    "# hashtag_videos = {}\n",
    "\n",
    "# # List all files in the directory\n",
    "# for filename in os.listdir(DATA_DIR):\n",
    "#     file_path = os.path.join(DATA_DIR, filename)\n",
    "#     # Read usernames from the file\n",
    "#     with open(file_path, \"r\") as file:\n",
    "#         json_data = json.load(file)\n",
    "\n",
    "#     hashtag_videos[filename[:-5]] = json_data"
   ]
  },
  {
   "cell_type": "code",
   "execution_count": null,
   "metadata": {},
   "outputs": [],
   "source": [
    "# # Create directory if not exists\n",
    "# os.makedirs(USER_LISTS_DIR, exist_ok=True)\n",
    "\n",
    "# filtered_users = {}\n",
    "\n",
    "# print(\"\\n🔍 Filtering users based on video criteria...\")\n",
    "# for hashtag, videos in hashtag_videos.items():\n",
    "#     filtered = filter_users_by_video_criteria(\n",
    "#         videos, MIN_LIKES, MIN_VIDEOS, MIN_FOLLOWERS)\n",
    "#     filtered_users[hashtag] = filtered\n",
    "\n",
    "#     # Save filtered users as text file\n",
    "#     user_list_file = os.path.join(USER_LISTS_DIR, f\"users_{hashtag}.txt\")\n",
    "#     write_list_to_file(user_list_file, filtered)\n",
    "#     print(f\"✅ Saved filtered users to {user_list_file}\")\n",
    "\n",
    "# # Display the first few filtered users\n",
    "# # len(filtered_users)"
   ]
  },
  {
   "cell_type": "code",
   "execution_count": null,
   "metadata": {},
   "outputs": [],
   "source": [
    "# # Define the directory containing user list files\n",
    "# USER_LISTS_DIR = \"src/crawler/test/data/user_lists/hashtags\"\n",
    "\n",
    "# # Initialize a set to store unique users\n",
    "# unique_users = set()\n",
    "\n",
    "# # List all files in the directory\n",
    "# for filename in os.listdir(USER_LISTS_DIR):\n",
    "#     if filename.startswith(\"users_\") and filename.endswith(\".txt\"):\n",
    "#         file_path = os.path.join(USER_LISTS_DIR, filename)\n",
    "\n",
    "#         # Read usernames from the file\n",
    "#         with open(file_path, \"r\", encoding=\"utf-8\") as file:\n",
    "#             users = file.read().splitlines()\n",
    "#             # Add users to the set to ensure uniqueness\n",
    "#             unique_users.update(users)\n",
    "\n",
    "# # Convert set to sorted list (optional)\n",
    "# unique_users_list = sorted(unique_users)\n",
    "\n",
    "# # Print results\n",
    "# print(f\"✅ Found {len(unique_users_list)} unique users.\")\n",
    "# print(unique_users_list[:10])  # Show first 10 users for preview"
   ]
  },
  {
   "cell_type": "code",
   "execution_count": null,
   "metadata": {},
   "outputs": [],
   "source": [
    "# # Split users into chunks of 30 per batch\n",
    "# BATCH_SIZE = 30\n",
    "# user_batches = [unique_users_list[i:i + BATCH_SIZE]\n",
    "#                 for i in range(0, len(unique_users_list), BATCH_SIZE)]\n",
    "\n",
    "# # Check the number of batches\n",
    "# print(f\"✅ Total batches: {len(user_batches)}\")\n",
    "# users_batch = [i for i in user_batches]\n",
    "# final_users_cell = [\"\" for _ in range(len(user_batches))]\n",
    "# user_video_stats_cell = [{} for _ in range(len(user_batches))]"
   ]
  },
  {
   "cell_type": "code",
   "execution_count": null,
   "metadata": {},
   "outputs": [],
   "source": [
    "# X = 0\n",
    "# print(f\"\\n📊 Evaluating user performance - Batch {X}\")\n",
    "\n",
    "# final_users_cell[X], user_video_stats_cell[X] = await evaluate_user_performance(\n",
    "#     users_batch[X],\n",
    "#     TIME_WINDOW_DAYS,\n",
    "#     MIN_VIDEOS_PER_WEEK,\n",
    "#     MIN_VIEWS,\n",
    "#     MIN_ENGAGEMENT_RATE,\n",
    "#     MIN_VALID_VIDEOS\n",
    "# )\n",
    "\n",
    "# print(f\"\\n✅ {len(final_users_cell[X])} users passed in Batch {X}.\")"
   ]
  },
  {
   "cell_type": "code",
   "execution_count": null,
   "metadata": {},
   "outputs": [],
   "source": [
    "# X = 1\n",
    "# print(f\"\\n📊 Evaluating user performance - Batch {X}\")\n",
    "\n",
    "# final_users_cell[X], user_video_stats_cell[X] = await evaluate_user_performance(\n",
    "#     users_batch[X],\n",
    "#     TIME_WINDOW_DAYS,\n",
    "#     MIN_VIDEOS_PER_WEEK,\n",
    "#     MIN_VIEWS,\n",
    "#     MIN_ENGAGEMENT_RATE,\n",
    "#     MIN_VALID_VIDEOS\n",
    "# )\n",
    "\n",
    "# print(f\"\\n✅ {len(final_users_cell[X])} users passed in Batch {X}.\")"
   ]
  },
  {
   "cell_type": "code",
   "execution_count": null,
   "metadata": {},
   "outputs": [],
   "source": [
    "# X = 2\n",
    "# print(f\"\\n📊 Evaluating user performance - Batch {X}\")\n",
    "\n",
    "# final_users_cell[X], user_video_stats_cell[X] = await evaluate_user_performance(\n",
    "#     users_batch[X],\n",
    "#     TIME_WINDOW_DAYS,\n",
    "#     MIN_VIDEOS_PER_WEEK,\n",
    "#     MIN_VIEWS,\n",
    "#     MIN_ENGAGEMENT_RATE,\n",
    "#     MIN_VALID_VIDEOS\n",
    "# )\n",
    "\n",
    "# print(f\"\\n✅ {len(final_users_cell[X])} users passed in Batch {X}.\")"
   ]
  },
  {
   "cell_type": "code",
   "execution_count": null,
   "metadata": {},
   "outputs": [],
   "source": [
    "# X = 3\n",
    "# print(f\"\\n📊 Evaluating user performance - Batch {X}\")\n",
    "\n",
    "# final_users_cell[X], user_video_stats_cell[X] = await evaluate_user_performance(\n",
    "#     users_batch[X],\n",
    "#     TIME_WINDOW_DAYS,\n",
    "#     MIN_VIDEOS_PER_WEEK,\n",
    "#     MIN_VIEWS,\n",
    "#     MIN_ENGAGEMENT_RATE,\n",
    "#     MIN_VALID_VIDEOS\n",
    "# )\n",
    "\n",
    "# print(f\"\\n✅ {len(final_users_cell[X])} users passed in Batch {X}.\")"
   ]
  },
  {
   "cell_type": "code",
   "execution_count": null,
   "metadata": {},
   "outputs": [],
   "source": [
    "# X = 4\n",
    "# print(f\"\\n📊 Evaluating user performance - Batch {X}\")\n",
    "\n",
    "# final_users_cell[X], user_video_stats_cell[X] = await evaluate_user_performance(\n",
    "#     users_batch[X],\n",
    "#     TIME_WINDOW_DAYS,\n",
    "#     MIN_VIDEOS_PER_WEEK,\n",
    "#     MIN_VIEWS,\n",
    "#     MIN_ENGAGEMENT_RATE,\n",
    "#     MIN_VALID_VIDEOS\n",
    "# )\n",
    "\n",
    "# print(f\"\\n✅ {len(final_users_cell[X])} users passed in Batch {X}.\")"
   ]
  },
  {
   "cell_type": "code",
   "execution_count": null,
   "metadata": {},
   "outputs": [],
   "source": [
    "# X = 5\n",
    "# print(f\"\\n📊 Evaluating user performance - Batch {X}\")\n",
    "\n",
    "# final_users_cell[X], user_video_stats_cell[X] = await evaluate_user_performance(\n",
    "#     users_batch[X],\n",
    "#     TIME_WINDOW_DAYS,\n",
    "#     MIN_VIDEOS_PER_WEEK,\n",
    "#     MIN_VIEWS,\n",
    "#     MIN_ENGAGEMENT_RATE,\n",
    "#     MIN_VALID_VIDEOS\n",
    "# )\n",
    "\n",
    "# print(f\"\\n✅ {len(final_users_cell[X])} users passed in Batch {X}.\")"
   ]
  },
  {
   "cell_type": "code",
   "execution_count": null,
   "metadata": {},
   "outputs": [],
   "source": [
    "# X = 6\n",
    "# print(f\"\\n📊 Evaluating user performance - Batch {X}\")\n",
    "\n",
    "# final_users_cell[X], user_video_stats_cell[X] = await evaluate_user_performance(\n",
    "#     users_batch[X],\n",
    "#     TIME_WINDOW_DAYS,\n",
    "#     MIN_VIDEOS_PER_WEEK,\n",
    "#     MIN_VIEWS,\n",
    "#     MIN_ENGAGEMENT_RATE,\n",
    "#     MIN_VALID_VIDEOS\n",
    "# )\n",
    "\n",
    "# print(f\"\\n✅ {len(final_users_cell[X])} users passed in Batch {X}.\")"
   ]
  },
  {
   "cell_type": "code",
   "execution_count": null,
   "metadata": {},
   "outputs": [],
   "source": [
    "# X = 7\n",
    "# print(f\"\\n📊 Evaluating user performance - Batch {X}\")\n",
    "\n",
    "# final_users_cell[X], user_video_stats_cell[X] = await evaluate_user_performance(\n",
    "#     users_batch[X],\n",
    "#     TIME_WINDOW_DAYS,\n",
    "#     MIN_VIDEOS_PER_WEEK,\n",
    "#     MIN_VIEWS,\n",
    "#     MIN_ENGAGEMENT_RATE,\n",
    "#     MIN_VALID_VIDEOS\n",
    "# )\n",
    "\n",
    "# print(f\"\\n✅ {len(final_users_cell[X])} users passed in Batch {X}.\")"
   ]
  },
  {
   "cell_type": "code",
   "execution_count": null,
   "metadata": {},
   "outputs": [],
   "source": [
    "# X = 8\n",
    "# print(f\"\\n📊 Evaluating user performance - Batch {X}\")\n",
    "\n",
    "# final_users_cell[X], user_video_stats_cell[X] = await evaluate_user_performance(\n",
    "#     users_batch[X],\n",
    "#     TIME_WINDOW_DAYS,\n",
    "#     MIN_VIDEOS_PER_WEEK,\n",
    "#     MIN_VIEWS,\n",
    "#     MIN_ENGAGEMENT_RATE,\n",
    "#     MIN_VALID_VIDEOS\n",
    "# )\n",
    "\n",
    "# print(f\"\\n✅ {len(final_users_cell[X])} users passed in Batch {X}.\")"
   ]
  },
  {
   "cell_type": "code",
   "execution_count": null,
   "metadata": {},
   "outputs": [],
   "source": [
    "# # Combine all final users\n",
    "# all_final_users = []\n",
    "# for i in final_users_cell:\n",
    "#     all_final_users.extend(i)\n",
    "\n",
    "# # Merge user video stats from all batches\n",
    "# all_user_video_stats = {}\n",
    "# for i in user_video_stats_cell:\n",
    "#     all_user_video_stats.update(i)\n",
    "\n",
    "# print(f\"\\n✅ Total final users after merging: {len(all_final_users)}\")"
   ]
  },
  {
   "cell_type": "code",
   "execution_count": null,
   "metadata": {},
   "outputs": [],
   "source": [
    "# # Define final output file paths\n",
    "# final_users_txt = os.path.join(USER_LISTS_DIR, \"final_filtered_users1.txt\")\n",
    "# final_users_json = os.path.join(USER_LISTS_DIR, \"final_filtered_users1.json\")\n",
    "\n",
    "# # Save the final list of users\n",
    "# write_list_to_file(final_users_txt, all_final_users)\n",
    "\n",
    "# # Save user performance data\n",
    "# with open(final_users_json, \"w\") as f:\n",
    "#     json.dump(all_user_video_stats, f, indent=4)\n",
    "\n",
    "# print(f\"✅ Final filtered users saved to {final_users_txt}\")\n",
    "# print(f\"✅ User performance data saved to {final_users_json}\")"
   ]
  },
  {
   "cell_type": "code",
   "execution_count": null,
   "metadata": {},
   "outputs": [],
   "source": [
    "# crawl_path1 = \"data/user_lists/hashtags/final_filtered_users1.txt\"\n",
    "# crawl_path = \"data/user_lists/hashtags/final_filtered_users.txt\"\n",
    "# my_path = \"data/user_lists/user_list_amthuc.txt\"\n",
    "\n",
    "# with open(crawl_path, \"r\") as file:\n",
    "#     crawl_users = file.read().splitlines()\n",
    "\n",
    "# with open(crawl_path1, \"r\") as file:\n",
    "#     crawl_users1 = file.read().splitlines()\n",
    "\n",
    "# with open(my_path, \"r\") as file:\n",
    "#     my_users = file.read().splitlines()\n",
    "\n",
    "# write_list_to_file(\"data/user_lists/user_list_amthuc.txt\",\n",
    "#                    list(set(crawl_users1 + my_users)))"
   ]
  }
 ],
 "metadata": {
  "kernelspec": {
   "display_name": ".venv",
   "language": "python",
   "name": "python3"
  },
  "language_info": {
   "codemirror_mode": {
    "name": "ipython",
    "version": 3
   },
   "file_extension": ".py",
   "mimetype": "text/x-python",
   "name": "python",
   "nbconvert_exporter": "python",
   "pygments_lexer": "ipython3",
   "version": "3.12.3"
  }
 },
 "nbformat": 4,
 "nbformat_minor": 2
}
