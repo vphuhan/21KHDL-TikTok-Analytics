{
  "nbformat": 4,
  "nbformat_minor": 0,
  "metadata": {
    "colab": {
      "provenance": []
    },
    "kernelspec": {
      "name": "python3",
      "display_name": "Python 3"
    },
    "language_info": {
      "name": "python"
    }
  },
  "cells": [
    {
      "cell_type": "markdown",
      "source": [
        "# Install package"
      ],
      "metadata": {
        "id": "NHWb1yKciXdR"
      }
    },
    {
      "cell_type": "code",
      "execution_count": 22,
      "metadata": {
        "colab": {
          "base_uri": "https://localhost:8080/"
        },
        "id": "R4teR9kRiMGi",
        "outputId": "b1c62c7e-d805-4efe-b613-8d11ea1debcc"
      },
      "outputs": [
        {
          "output_type": "stream",
          "name": "stdout",
          "text": [
            "Requirement already satisfied: yt-dlp in /usr/local/lib/python3.11/dist-packages (2025.2.19)\n",
            "Requirement already satisfied: SpeechRecognition in /usr/local/lib/python3.11/dist-packages (3.14.1)\n",
            "Requirement already satisfied: typing-extensions in /usr/local/lib/python3.11/dist-packages (from SpeechRecognition) (4.12.2)\n",
            "Collecting gradio_client\n",
            "  Downloading gradio_client-1.7.2-py3-none-any.whl.metadata (7.1 kB)\n",
            "Requirement already satisfied: fsspec in /usr/local/lib/python3.11/dist-packages (from gradio_client) (2024.10.0)\n",
            "Requirement already satisfied: httpx>=0.24.1 in /usr/local/lib/python3.11/dist-packages (from gradio_client) (0.28.1)\n",
            "Requirement already satisfied: huggingface-hub>=0.19.3 in /usr/local/lib/python3.11/dist-packages (from gradio_client) (0.28.1)\n",
            "Requirement already satisfied: packaging in /usr/local/lib/python3.11/dist-packages (from gradio_client) (24.2)\n",
            "Requirement already satisfied: typing-extensions~=4.0 in /usr/local/lib/python3.11/dist-packages (from gradio_client) (4.12.2)\n",
            "Requirement already satisfied: websockets<16.0,>=10.0 in /usr/local/lib/python3.11/dist-packages (from gradio_client) (14.2)\n",
            "Requirement already satisfied: anyio in /usr/local/lib/python3.11/dist-packages (from httpx>=0.24.1->gradio_client) (3.7.1)\n",
            "Requirement already satisfied: certifi in /usr/local/lib/python3.11/dist-packages (from httpx>=0.24.1->gradio_client) (2025.1.31)\n",
            "Requirement already satisfied: httpcore==1.* in /usr/local/lib/python3.11/dist-packages (from httpx>=0.24.1->gradio_client) (1.0.7)\n",
            "Requirement already satisfied: idna in /usr/local/lib/python3.11/dist-packages (from httpx>=0.24.1->gradio_client) (3.10)\n",
            "Requirement already satisfied: h11<0.15,>=0.13 in /usr/local/lib/python3.11/dist-packages (from httpcore==1.*->httpx>=0.24.1->gradio_client) (0.14.0)\n",
            "Requirement already satisfied: filelock in /usr/local/lib/python3.11/dist-packages (from huggingface-hub>=0.19.3->gradio_client) (3.17.0)\n",
            "Requirement already satisfied: pyyaml>=5.1 in /usr/local/lib/python3.11/dist-packages (from huggingface-hub>=0.19.3->gradio_client) (6.0.2)\n",
            "Requirement already satisfied: requests in /usr/local/lib/python3.11/dist-packages (from huggingface-hub>=0.19.3->gradio_client) (2.32.3)\n",
            "Requirement already satisfied: tqdm>=4.42.1 in /usr/local/lib/python3.11/dist-packages (from huggingface-hub>=0.19.3->gradio_client) (4.67.1)\n",
            "Requirement already satisfied: sniffio>=1.1 in /usr/local/lib/python3.11/dist-packages (from anyio->httpx>=0.24.1->gradio_client) (1.3.1)\n",
            "Requirement already satisfied: charset-normalizer<4,>=2 in /usr/local/lib/python3.11/dist-packages (from requests->huggingface-hub>=0.19.3->gradio_client) (3.4.1)\n",
            "Requirement already satisfied: urllib3<3,>=1.21.1 in /usr/local/lib/python3.11/dist-packages (from requests->huggingface-hub>=0.19.3->gradio_client) (2.3.0)\n",
            "Downloading gradio_client-1.7.2-py3-none-any.whl (322 kB)\n",
            "\u001b[2K   \u001b[90m━━━━━━━━━━━━━━━━━━━━━━━━━━━━━━━━━━━━━━━━\u001b[0m \u001b[32m322.1/322.1 kB\u001b[0m \u001b[31m8.7 MB/s\u001b[0m eta \u001b[36m0:00:00\u001b[0m\n",
            "\u001b[?25hInstalling collected packages: gradio_client\n",
            "Successfully installed gradio_client-1.7.2\n"
          ]
        }
      ],
      "source": [
        "!pip install yt-dlp\n",
        "!pip install SpeechRecognition\n",
        "!pip install gradio_client"
      ]
    },
    {
      "cell_type": "markdown",
      "source": [
        "# Import library"
      ],
      "metadata": {
        "id": "LIhB_GrejXKO"
      }
    },
    {
      "cell_type": "code",
      "source": [
        "import yt_dlp\n",
        "import uuid\n",
        "import os\n",
        "import speech_recognition as sr\n",
        "import pandas as pd\n",
        "from tqdm import tqdm"
      ],
      "metadata": {
        "id": "FAqZFP2jjZUk"
      },
      "execution_count": 28,
      "outputs": []
    },
    {
      "cell_type": "markdown",
      "source": [
        "# Main code"
      ],
      "metadata": {
        "id": "86dgPZG1jeEo"
      }
    },
    {
      "cell_type": "code",
      "source": [
        "def generate_unique_filename(extension):\n",
        "  return f\"{uuid.uuid4()}{extension}\"\n",
        "\n",
        "def download_youtube_audio(url):\n",
        "  print(f\"Downloading audio from YouTube: {url}\")\n",
        "  output_path = generate_unique_filename(\".wav\")\n",
        "  ydl_opts = {\n",
        "      'format': 'bestaudio/best',\n",
        "      'postprocessors': [{\n",
        "          'key': 'FFmpegExtractAudio',\n",
        "          'preferredcodec': 'wav',\n",
        "      }],\n",
        "      'outtmpl': output_path,\n",
        "      'keepvideo': True,\n",
        "  }\n",
        "  with yt_dlp.YoutubeDL(ydl_opts) as ydl:\n",
        "      try:\n",
        "        ydl.download([url])\n",
        "      except Exception as e:\n",
        "        print(f\"Error downloading audio: {e}\")\n",
        "        return None\n",
        "\n",
        "  # Check if the file was renamed to .wav.wav\n",
        "  if os.path.exists(output_path + \".wav\"):\n",
        "      os.rename(output_path + \".wav\", output_path)\n",
        "\n",
        "  if os.path.exists(output_path):\n",
        "      print(f\"Audio download completed. File saved at: {output_path}\")\n",
        "      print(f\"File size: {os.path.getsize(output_path)} bytes\")\n",
        "  else:\n",
        "      print(f\"Error: File {output_path} not found after download.\")\n",
        "\n",
        "  return output_path\n",
        "\n",
        "def process_audio(wav_file):\n",
        "  # Initialize the recognizer\n",
        "  recognizer = sr.Recognizer()\n",
        "\n",
        "  # Load the audio file\n",
        "  with sr.AudioFile(wav_file) as source:\n",
        "      # Listen for the data (load audio to memory)\n",
        "      audio = recognizer.record(source)\n",
        "\n",
        "      # Recognize the text in the audio file\n",
        "      # Now, we only support the Vietnamese language\n",
        "      try:\n",
        "          text = recognizer.recognize_google(audio, language=\"vi-VN\")\n",
        "      # Except all errors\n",
        "      except Exception as e:\n",
        "          print(f\"Error processing {wav_file}: {e}\")\n",
        "          text = None\n",
        "\n",
        "  return text"
      ],
      "metadata": {
        "id": "wMjnyyXBjVuK"
      },
      "execution_count": 36,
      "outputs": []
    },
    {
      "cell_type": "code",
      "source": [
        "df = pd.read_csv(\"./video_info.csv\")\n",
        "df.shape"
      ],
      "metadata": {
        "colab": {
          "base_uri": "https://localhost:8080/"
        },
        "id": "sg9P6osLmDXk",
        "outputId": "2bc7b3a2-d319-4c18-d22c-1175203c0cea"
      },
      "execution_count": 30,
      "outputs": [
        {
          "output_type": "stream",
          "name": "stderr",
          "text": [
            "<ipython-input-30-7f93d17edf6c>:1: DtypeWarning: Columns (128) have mixed types. Specify dtype option on import or set low_memory=False.\n",
            "  df = pd.read_csv(\"./video_info.csv\")\n"
          ]
        },
        {
          "output_type": "execute_result",
          "data": {
            "text/plain": [
              "(32603, 136)"
            ]
          },
          "metadata": {},
          "execution_count": 30
        }
      ]
    },
    {
      "cell_type": "code",
      "source": [
        "result = []"
      ],
      "metadata": {
        "id": "DSpOWm80tddk"
      },
      "execution_count": null,
      "outputs": []
    },
    {
      "cell_type": "code",
      "source": [
        "for row_id in tqdm(range(df.shape[0])[len(result):]):\n",
        "  username = df.loc[row_id, \"author.id\"]\n",
        "  video_id = df.loc[row_id, \"video.id\"]\n",
        "  url = f\"https://www.tiktok.com/@{username}/video/{video_id}\"\n",
        "\n",
        "  wav_file_path = download_youtube_audio(url=url)\n",
        "  if wav_file_path is None:\n",
        "    continue\n",
        "  text = process_audio(wav_file_path)\n",
        "\n",
        "  result.append({\n",
        "      \"author_id\": username,\n",
        "      \"video_id\": video_id,\n",
        "      \"video_transcription\": text\n",
        "  })"
      ],
      "metadata": {
        "colab": {
          "base_uri": "https://localhost:8080/"
        },
        "id": "CYq2eniymJ8w",
        "outputId": "21c0c906-2b49-4f1d-b714-3a4da6826efd"
      },
      "execution_count": null,
      "outputs": [
        {
          "output_type": "stream",
          "name": "stdout",
          "text": [
            "[info] 7475012970922151186: Downloading 1 format(s): bytevc1_1080p_5070580-1\n",
            "[download] Destination: ccab95dc-fdd0-48f9-a8b6-272862fcbb80.wav\n",
            "[download] 100% of   28.59MiB in 00:00:02 at 13.20MiB/s  \n",
            "[ExtractAudio] Destination: ccab95dc-fdd0-48f9-a8b6-272862fcbb80.wav.wav\n",
            "Audio download completed. File saved at: ccab95dc-fdd0-48f9-a8b6-272862fcbb80.wav\n",
            "File size: 8315500 bytes\n"
          ]
        },
        {
          "output_type": "stream",
          "name": "stderr",
          "text": [
            "\r  1%|          | 404/32528 [42:26<77:38:40,  8.70s/it]"
          ]
        },
        {
          "output_type": "stream",
          "name": "stdout",
          "text": [
            "Downloading audio from YouTube: https://www.tiktok.com/@6963937987944432642/video/7474983074137197831\n",
            "[TikTok] Extracting URL: https://www.tiktok.com/@6963937987944432642/video/7474983074137197831\n",
            "[TikTok] 7474983074137197831: Downloading webpage\n",
            "[info] 7474983074137197831: Downloading 1 format(s): bytevc1_1080p_1321474-1\n",
            "[download] Destination: 89ab1954-df99-42eb-ba29-9cbb099a5620.wav\n",
            "[download] 100% of   11.06MiB in 00:00:03 at 3.21MiB/s   \n",
            "[ExtractAudio] Destination: 89ab1954-df99-42eb-ba29-9cbb099a5620.wav.wav\n",
            "Audio download completed. File saved at: 89ab1954-df99-42eb-ba29-9cbb099a5620.wav\n",
            "File size: 12362348 bytes\n"
          ]
        },
        {
          "output_type": "stream",
          "name": "stderr",
          "text": [
            "\r  1%|          | 405/32528 [42:41<92:51:45, 10.41s/it]"
          ]
        },
        {
          "output_type": "stream",
          "name": "stdout",
          "text": [
            "Downloading audio from YouTube: https://www.tiktok.com/@6963937987944432642/video/7474954599607127304\n",
            "[TikTok] Extracting URL: https://www.tiktok.com/@6963937987944432642/video/7474954599607127304\n",
            "[TikTok] 7474954599607127304: Downloading webpage\n",
            "[info] 7474954599607127304: Downloading 1 format(s): bytevc1_1080p_2655855-1\n",
            "[download] Destination: ac198751-45ad-498d-8805-4c16c0689b8b.wav\n",
            "[download] 100% of    9.53MiB in 00:00:01 at 4.79MiB/s   \n",
            "[ExtractAudio] Destination: ac198751-45ad-498d-8805-4c16c0689b8b.wav.wav\n",
            "Audio download completed. File saved at: ac198751-45ad-498d-8805-4c16c0689b8b.wav\n",
            "File size: 5276268 bytes\n"
          ]
        },
        {
          "output_type": "stream",
          "name": "stderr",
          "text": [
            "\r  1%|          | 406/32528 [42:46<78:12:42,  8.77s/it]"
          ]
        },
        {
          "output_type": "stream",
          "name": "stdout",
          "text": [
            "Downloading audio from YouTube: https://www.tiktok.com/@6963937987944432642/video/7474883962511297799\n",
            "[TikTok] Extracting URL: https://www.tiktok.com/@6963937987944432642/video/7474883962511297799\n",
            "[TikTok] 7474883962511297799: Downloading webpage\n",
            "[info] 7474883962511297799: Downloading 1 format(s): bytevc1_1080p_1181591-1\n",
            "[download] Destination: 57683109-3b46-4c92-883c-82be12d22c22.wav\n",
            "[download] 100% of   11.07MiB in 00:00:00 at 11.26MiB/s  \n",
            "[ExtractAudio] Destination: 57683109-3b46-4c92-883c-82be12d22c22.wav.wav\n",
            "Audio download completed. File saved at: 57683109-3b46-4c92-883c-82be12d22c22.wav\n",
            "File size: 13836908 bytes\n"
          ]
        },
        {
          "output_type": "stream",
          "name": "stderr",
          "text": [
            "\r  1%|▏         | 407/32528 [43:02<99:16:26, 11.13s/it]"
          ]
        },
        {
          "output_type": "stream",
          "name": "stdout",
          "text": [
            "Downloading audio from YouTube: https://www.tiktok.com/@6963937987944432642/video/7474825836407966994\n",
            "[TikTok] Extracting URL: https://www.tiktok.com/@6963937987944432642/video/7474825836407966994\n",
            "[TikTok] 7474825836407966994: Downloading webpage\n",
            "[info] 7474825836407966994: Downloading 1 format(s): audio\n",
            "[download] Destination: bee583f3-1b7a-41ec-b1b6-1ca4e40ecd20.wav\n",
            "[download] 100% of  461.68KiB in 00:00:00 at 1.57MiB/s   \n",
            "[ExtractAudio] Destination: bee583f3-1b7a-41ec-b1b6-1ca4e40ecd20.wav.wav\n",
            "Audio download completed. File saved at: bee583f3-1b7a-41ec-b1b6-1ca4e40ecd20.wav\n",
            "File size: 5211726 bytes\n"
          ]
        },
        {
          "output_type": "stream",
          "name": "stderr",
          "text": [
            "\r  1%|▏         | 408/32528 [43:11<91:19:12, 10.24s/it]"
          ]
        },
        {
          "output_type": "stream",
          "name": "stdout",
          "text": [
            "Downloading audio from YouTube: https://www.tiktok.com/@6963937987944432642/video/7474800149290683656\n",
            "[TikTok] Extracting URL: https://www.tiktok.com/@6963937987944432642/video/7474800149290683656\n",
            "[TikTok] 7474800149290683656: Downloading webpage\n",
            "[info] 7474800149290683656: Downloading 1 format(s): bytevc1_1080p_2877913-1\n",
            "[download] Destination: 599f230a-c9e5-4857-82f8-cf9cf186500b.wav\n",
            "[download] 100% of    9.26MiB in 00:00:00 at 9.62MiB/s   \n",
            "[ExtractAudio] Destination: 599f230a-c9e5-4857-82f8-cf9cf186500b.wav.wav\n",
            "Audio download completed. File saved at: 599f230a-c9e5-4857-82f8-cf9cf186500b.wav\n",
            "File size: 4735596 bytes\n"
          ]
        },
        {
          "output_type": "stream",
          "name": "stderr",
          "text": [
            "\r  1%|▏         | 409/32528 [43:14<73:48:31,  8.27s/it]"
          ]
        },
        {
          "output_type": "stream",
          "name": "stdout",
          "text": [
            "Error processing 599f230a-c9e5-4857-82f8-cf9cf186500b.wav: \n",
            "Downloading audio from YouTube: https://www.tiktok.com/@6963937987944432642/video/7474656008741063954\n",
            "[TikTok] Extracting URL: https://www.tiktok.com/@6963937987944432642/video/7474656008741063954\n",
            "[TikTok] 7474656008741063954: Downloading webpage\n",
            "[info] 7474656008741063954: Downloading 1 format(s): bytevc1_1080p_1532789-1\n",
            "[download] Destination: d7cda860-0a73-4a4d-a244-11b50149b08d.wav\n",
            "[download] 100% of    5.98MiB in 00:00:00 at 7.15MiB/s   \n",
            "[ExtractAudio] Destination: d7cda860-0a73-4a4d-a244-11b50149b08d.wav.wav\n",
            "Audio download completed. File saved at: d7cda860-0a73-4a4d-a244-11b50149b08d.wav\n",
            "File size: 5735020 bytes\n"
          ]
        },
        {
          "output_type": "stream",
          "name": "stderr",
          "text": [
            "\r  1%|▏         | 410/32528 [43:30<93:06:59, 10.44s/it]"
          ]
        },
        {
          "output_type": "stream",
          "name": "stdout",
          "text": [
            "Downloading audio from YouTube: https://www.tiktok.com/@6963937987944432642/video/7474585722708577554\n",
            "[TikTok] Extracting URL: https://www.tiktok.com/@6963937987944432642/video/7474585722708577554\n",
            "[TikTok] 7474585722708577554: Downloading webpage\n",
            "[info] 7474585722708577554: Downloading 1 format(s): bytevc1_1080p_1814432-1\n",
            "[download] Destination: 9a27a967-dd2b-4113-b463-7a090ed3c9df.wav\n",
            "[download] 100% of   14.79MiB in 00:00:02 at 6.77MiB/s   \n",
            "[ExtractAudio] Destination: 9a27a967-dd2b-4113-b463-7a090ed3c9df.wav.wav\n",
            "Audio download completed. File saved at: 9a27a967-dd2b-4113-b463-7a090ed3c9df.wav\n",
            "File size: 12042860 bytes\n"
          ]
        },
        {
          "output_type": "stream",
          "name": "stderr",
          "text": [
            "\r  1%|▏         | 411/32528 [43:53<128:48:50, 14.44s/it]"
          ]
        },
        {
          "output_type": "stream",
          "name": "stdout",
          "text": [
            "Downloading audio from YouTube: https://www.tiktok.com/@6963937987944432642/video/7474503369869004039\n",
            "[TikTok] Extracting URL: https://www.tiktok.com/@6963937987944432642/video/7474503369869004039\n",
            "[TikTok] 7474503369869004039: Downloading webpage\n",
            "[info] 7474503369869004039: Downloading 1 format(s): bytevc1_1080p_1319087-1\n",
            "[download] Destination: 4b3fdb0b-5611-4d98-802b-b39c1047f6f7.wav\n",
            "[download] 100% of    7.73MiB in 00:00:01 at 6.74MiB/s   \n",
            "[ExtractAudio] Destination: 4b3fdb0b-5611-4d98-802b-b39c1047f6f7.wav.wav\n",
            "Audio download completed. File saved at: 4b3fdb0b-5611-4d98-802b-b39c1047f6f7.wav\n",
            "File size: 8643180 bytes\n"
          ]
        },
        {
          "output_type": "stream",
          "name": "stderr",
          "text": [
            "\r  1%|▏         | 412/32528 [44:03<116:26:07, 13.05s/it]"
          ]
        },
        {
          "output_type": "stream",
          "name": "stdout",
          "text": [
            "Downloading audio from YouTube: https://www.tiktok.com/@6963937987944432642/video/7474432227997191442\n",
            "[TikTok] Extracting URL: https://www.tiktok.com/@6963937987944432642/video/7474432227997191442\n",
            "[TikTok] 7474432227997191442: Downloading webpage\n",
            "[info] 7474432227997191442: Downloading 1 format(s): bytevc1_1080p_2664301-1\n",
            "[download] Destination: 790a7605-3a19-4398-b23d-e9b8070d137c.wav\n",
            "[download] 100% of    9.53MiB in 00:00:17 at 551.14KiB/s \n",
            "[ExtractAudio] Destination: 790a7605-3a19-4398-b23d-e9b8070d137c.wav.wav\n",
            "Audio download completed. File saved at: 790a7605-3a19-4398-b23d-e9b8070d137c.wav\n",
            "File size: 5268076 bytes\n"
          ]
        },
        {
          "output_type": "stream",
          "name": "stderr",
          "text": [
            "\r  1%|▏         | 413/32528 [44:26<141:37:42, 15.88s/it]"
          ]
        },
        {
          "output_type": "stream",
          "name": "stdout",
          "text": [
            "Downloading audio from YouTube: https://www.tiktok.com/@6963937987944432642/video/7474270594817592584\n",
            "[TikTok] Extracting URL: https://www.tiktok.com/@6963937987944432642/video/7474270594817592584\n",
            "[TikTok] 7474270594817592584: Downloading webpage\n",
            "[info] 7474270594817592584: Downloading 1 format(s): bytevc1_1080p_1998838-1\n",
            "[download] Destination: 1a1231d8-5e4d-4a5c-8dc8-e79f425992ed.wav\n",
            "[download] 100% of   13.67MiB in 00:00:00 at 14.37MiB/s  \n",
            "[ExtractAudio] Destination: 1a1231d8-5e4d-4a5c-8dc8-e79f425992ed.wav.wav\n",
            "Audio download completed. File saved at: 1a1231d8-5e4d-4a5c-8dc8-e79f425992ed.wav\n",
            "File size: 10093164 bytes\n"
          ]
        },
        {
          "output_type": "stream",
          "name": "stderr",
          "text": [
            "\r  1%|▏         | 414/32528 [44:40<138:11:05, 15.49s/it]"
          ]
        },
        {
          "output_type": "stream",
          "name": "stdout",
          "text": [
            "Downloading audio from YouTube: https://www.tiktok.com/@6963937987944432642/video/7474206756390931719\n",
            "[TikTok] Extracting URL: https://www.tiktok.com/@6963937987944432642/video/7474206756390931719\n",
            "[TikTok] 7474206756390931719: Downloading webpage\n",
            "[info] 7474206756390931719: Downloading 1 format(s): bytevc1_1080p_1661434-1\n",
            "[download] Destination: aacdf6eb-0ef0-4c8e-8049-587ce5427eb7.wav\n",
            "[download] 100% of   13.73MiB in 00:00:01 at 7.45MiB/s   \n",
            "[ExtractAudio] Destination: aacdf6eb-0ef0-4c8e-8049-587ce5427eb7.wav.wav\n",
            "Audio download completed. File saved at: aacdf6eb-0ef0-4c8e-8049-587ce5427eb7.wav\n",
            "File size: 12206700 bytes\n"
          ]
        },
        {
          "output_type": "stream",
          "name": "stderr",
          "text": [
            "\r  1%|▏         | 415/32528 [45:04<159:35:02, 17.89s/it]"
          ]
        },
        {
          "output_type": "stream",
          "name": "stdout",
          "text": [
            "Downloading audio from YouTube: https://www.tiktok.com/@6963937987944432642/video/7474139639469755656\n",
            "[TikTok] Extracting URL: https://www.tiktok.com/@6963937987944432642/video/7474139639469755656\n",
            "[TikTok] 7474139639469755656: Downloading webpage\n",
            "[info] 7474139639469755656: Downloading 1 format(s): bytevc1_1080p_2563602-1\n",
            "[download] Destination: 56537e12-d951-456b-906e-77e35c329723.wav\n",
            "[download] 100% of   19.85MiB in 00:00:01 at 11.25MiB/s  \n",
            "[ExtractAudio] Destination: 56537e12-d951-456b-906e-77e35c329723.wav.wav\n",
            "Audio download completed. File saved at: 56537e12-d951-456b-906e-77e35c329723.wav\n",
            "File size: 11444844 bytes\n"
          ]
        },
        {
          "output_type": "stream",
          "name": "stderr",
          "text": [
            "\r  1%|▏         | 416/32528 [45:14<138:00:24, 15.47s/it]"
          ]
        },
        {
          "output_type": "stream",
          "name": "stdout",
          "text": [
            "Downloading audio from YouTube: https://www.tiktok.com/@6963937987944432642/video/7474088400929246472\n",
            "[TikTok] Extracting URL: https://www.tiktok.com/@6963937987944432642/video/7474088400929246472\n",
            "[TikTok] 7474088400929246472: Downloading webpage\n",
            "[info] 7474088400929246472: Downloading 1 format(s): bytevc1_1080p_3089757-1\n",
            "[download] Destination: 9e56cb5f-87ef-4584-881c-20cc46d68f9d.wav\n",
            "[download] 100% of   16.22MiB in 00:00:01 at 8.56MiB/s   \n",
            "[ExtractAudio] Destination: 9e56cb5f-87ef-4584-881c-20cc46d68f9d.wav.wav\n",
            "Audio download completed. File saved at: 9e56cb5f-87ef-4584-881c-20cc46d68f9d.wav\n",
            "File size: 7742060 bytes\n"
          ]
        },
        {
          "output_type": "stream",
          "name": "stderr",
          "text": [
            "\r  1%|▏         | 417/32528 [45:20<114:13:11, 12.81s/it]"
          ]
        },
        {
          "output_type": "stream",
          "name": "stdout",
          "text": [
            "Downloading audio from YouTube: https://www.tiktok.com/@6963937987944432642/video/7474049176066657554\n",
            "[TikTok] Extracting URL: https://www.tiktok.com/@6963937987944432642/video/7474049176066657554\n",
            "[TikTok] 7474049176066657554: Downloading webpage\n",
            "[info] 7474049176066657554: Downloading 1 format(s): bytevc1_1080p_2940801-1\n",
            "[download] Destination: ed039af1-22de-4d8c-884f-9fb380c5ced9.wav\n",
            "[download] 100% of    9.49MiB in 00:00:01 at 6.79MiB/s   \n",
            "[ExtractAudio] Destination: ed039af1-22de-4d8c-884f-9fb380c5ced9.wav.wav\n",
            "Audio download completed. File saved at: ed039af1-22de-4d8c-884f-9fb380c5ced9.wav\n",
            "File size: 4751980 bytes\n"
          ]
        },
        {
          "output_type": "stream",
          "name": "stderr",
          "text": [
            "\r  1%|▏         | 418/32528 [45:26<94:44:25, 10.62s/it] "
          ]
        },
        {
          "output_type": "stream",
          "name": "stdout",
          "text": [
            "Downloading audio from YouTube: https://www.tiktok.com/@6963937987944432642/video/7473909649666821394\n",
            "[TikTok] Extracting URL: https://www.tiktok.com/@6963937987944432642/video/7473909649666821394\n",
            "[TikTok] 7473909649666821394: Downloading webpage\n",
            "[info] 7473909649666821394: Downloading 1 format(s): bytevc1_1080p_952728-1\n",
            "[download] Destination: f15f0fc9-96bd-4372-ae42-41619b449fa9.wav\n",
            "[download] 100% of    6.02MiB in 00:00:01 at 5.86MiB/s   \n",
            "[ExtractAudio] Destination: f15f0fc9-96bd-4372-ae42-41619b449fa9.wav.wav\n",
            "Audio download completed. File saved at: f15f0fc9-96bd-4372-ae42-41619b449fa9.wav\n",
            "File size: 9323116 bytes\n"
          ]
        },
        {
          "output_type": "stream",
          "name": "stderr",
          "text": [
            "\r  1%|▏         | 419/32528 [45:44<114:59:44, 12.89s/it]"
          ]
        },
        {
          "output_type": "stream",
          "name": "stdout",
          "text": [
            "Downloading audio from YouTube: https://www.tiktok.com/@6963937987944432642/video/7473811543013002514\n",
            "[TikTok] Extracting URL: https://www.tiktok.com/@6963937987944432642/video/7473811543013002514\n",
            "[TikTok] 7473811543013002514: Downloading webpage\n",
            "[info] 7473811543013002514: Downloading 1 format(s): bytevc1_720p_768687-1\n",
            "[download] Destination: 180c4783-3b2a-4c7c-aa3b-7c93c4d1b5c9.wav\n",
            "[download] 100% of    6.14MiB in 00:00:01 at 4.22MiB/s   \n",
            "[ExtractAudio] Destination: 180c4783-3b2a-4c7c-aa3b-7c93c4d1b5c9.wav.wav\n",
            "Audio download completed. File saved at: 180c4783-3b2a-4c7c-aa3b-7c93c4d1b5c9.wav\n",
            "File size: 11797100 bytes\n"
          ]
        },
        {
          "output_type": "stream",
          "name": "stderr",
          "text": [
            "\r  1%|▏         | 420/32528 [46:01<125:08:11, 14.03s/it]"
          ]
        },
        {
          "output_type": "stream",
          "name": "stdout",
          "text": [
            "Downloading audio from YouTube: https://www.tiktok.com/@6963937987944432642/video/7473765712163638546\n",
            "[TikTok] Extracting URL: https://www.tiktok.com/@6963937987944432642/video/7473765712163638546\n",
            "[TikTok] 7473765712163638546: Downloading webpage\n",
            "[info] 7473765712163638546: Downloading 1 format(s): bytevc1_1080p_2140136-1\n",
            "[download] Destination: ba0bc08f-1ebc-4286-81f8-b8b01057baf3.wav\n",
            "[download] 100% of   14.89MiB in 00:00:01 at 13.35MiB/s  \n",
            "[ExtractAudio] Destination: ba0bc08f-1ebc-4286-81f8-b8b01057baf3.wav.wav\n",
            "Audio download completed. File saved at: ba0bc08f-1ebc-4286-81f8-b8b01057baf3.wav\n",
            "File size: 10273388 bytes\n"
          ]
        },
        {
          "output_type": "stream",
          "name": "stderr",
          "text": [
            "\r  1%|▏         | 421/32528 [46:11<116:08:43, 13.02s/it]"
          ]
        },
        {
          "output_type": "stream",
          "name": "stdout",
          "text": [
            "Downloading audio from YouTube: https://www.tiktok.com/@6963937987944432642/video/7473695941913005319\n",
            "[TikTok] Extracting URL: https://www.tiktok.com/@6963937987944432642/video/7473695941913005319\n",
            "[TikTok] 7473695941913005319: Downloading webpage\n",
            "[info] 7473695941913005319: Downloading 1 format(s): bytevc1_1080p_1844396-1\n",
            "[download] Destination: b74c13cd-47dd-4b56-a607-7f5f60af10fc.wav\n",
            "[download] 100% of    5.73MiB in 00:00:00 at 6.45MiB/s   \n",
            "[ExtractAudio] Destination: b74c13cd-47dd-4b56-a607-7f5f60af10fc.wav.wav\n",
            "Audio download completed. File saved at: b74c13cd-47dd-4b56-a607-7f5f60af10fc.wav\n",
            "File size: 4571756 bytes\n"
          ]
        },
        {
          "output_type": "stream",
          "name": "stderr",
          "text": [
            "\r  1%|▏         | 422/32528 [46:17<97:16:43, 10.91s/it] "
          ]
        },
        {
          "output_type": "stream",
          "name": "stdout",
          "text": [
            "Downloading audio from YouTube: https://www.tiktok.com/@6963937987944432642/video/7473540570695109906\n",
            "[TikTok] Extracting URL: https://www.tiktok.com/@6963937987944432642/video/7473540570695109906\n",
            "[TikTok] 7473540570695109906: Downloading webpage\n",
            "[info] 7473540570695109906: Downloading 1 format(s): bytevc1_1080p_2027829-1\n",
            "[download] Destination: 8805a0de-e22f-46c0-81cc-8e04a5078934.wav\n",
            "[download] 100% of   21.86MiB in 00:00:09 at 2.19MiB/s   \n",
            "[ExtractAudio] Destination: 8805a0de-e22f-46c0-81cc-8e04a5078934.wav.wav\n",
            "Audio download completed. File saved at: 8805a0de-e22f-46c0-81cc-8e04a5078934.wav\n",
            "File size: 15925868 bytes\n"
          ]
        },
        {
          "output_type": "stream",
          "name": "stderr",
          "text": [
            "\r  1%|▏         | 423/32528 [46:48<148:53:04, 16.69s/it]"
          ]
        },
        {
          "output_type": "stream",
          "name": "stdout",
          "text": [
            "Downloading audio from YouTube: https://www.tiktok.com/@6963937987944432642/video/7473469436360461575\n",
            "[TikTok] Extracting URL: https://www.tiktok.com/@6963937987944432642/video/7473469436360461575\n",
            "[TikTok] 7473469436360461575: Downloading webpage\n",
            "[info] 7473469436360461575: Downloading 1 format(s): bytevc1_1080p_1648054-1\n",
            "[download] Destination: b21062fb-ffc2-4e49-8dab-e0e279c81dc0.wav\n",
            "[download] 100% of   15.36MiB in 00:00:01 at 12.37MiB/s  \n",
            "[ExtractAudio] Destination: b21062fb-ffc2-4e49-8dab-e0e279c81dc0.wav.wav\n",
            "Audio download completed. File saved at: b21062fb-ffc2-4e49-8dab-e0e279c81dc0.wav\n",
            "File size: 13763180 bytes\n"
          ]
        },
        {
          "output_type": "stream",
          "name": "stderr",
          "text": [
            "\r  1%|▏         | 424/32528 [47:07<155:11:20, 17.40s/it]"
          ]
        },
        {
          "output_type": "stream",
          "name": "stdout",
          "text": [
            "Downloading audio from YouTube: https://www.tiktok.com/@6963937987944432642/video/7473384684680940808\n",
            "[TikTok] Extracting URL: https://www.tiktok.com/@6963937987944432642/video/7473384684680940808\n",
            "[TikTok] 7473384684680940808: Downloading webpage\n",
            "[info] 7473384684680940808: Downloading 1 format(s): bytevc1_1080p_1833205-1\n",
            "[download] Destination: 2d477e10-ebea-4e09-8191-c7d7a7cb879c.wav\n",
            "[download] 100% of   24.33MiB in 00:00:23 at 1.05MiB/s   \n",
            "[ExtractAudio] Destination: 2d477e10-ebea-4e09-8191-c7d7a7cb879c.wav.wav\n",
            "Audio download completed. File saved at: 2d477e10-ebea-4e09-8191-c7d7a7cb879c.wav\n",
            "File size: 19612268 bytes\n"
          ]
        },
        {
          "output_type": "stream",
          "name": "stderr",
          "text": [
            "\r  1%|▏         | 425/32528 [47:59<248:38:29, 27.88s/it]"
          ]
        },
        {
          "output_type": "stream",
          "name": "stdout",
          "text": [
            "Downloading audio from YouTube: https://www.tiktok.com/@6963937987944432642/video/7473323018387836168\n",
            "[TikTok] Extracting URL: https://www.tiktok.com/@6963937987944432642/video/7473323018387836168\n",
            "[TikTok] 7473323018387836168: Downloading webpage\n",
            "[info] 7473323018387836168: Downloading 1 format(s): bytevc1_1080p_2573659-1\n",
            "[download] Destination: 7a5798fc-779e-4beb-bd4b-770678c6affb.wav\n",
            "[download] 100% of    9.48MiB in 00:00:01 at 6.87MiB/s   \n",
            "[ExtractAudio] Destination: 7a5798fc-779e-4beb-bd4b-770678c6affb.wav.wav\n",
            "Audio download completed. File saved at: 7a5798fc-779e-4beb-bd4b-770678c6affb.wav\n",
            "File size: 5423724 bytes\n"
          ]
        }
      ]
    },
    {
      "cell_type": "code",
      "source": [],
      "metadata": {
        "id": "6HL94oMQqwfy"
      },
      "execution_count": null,
      "outputs": []
    },
    {
      "cell_type": "code",
      "source": [
        "pd.DataFrame(result).to_csv(\"./audio_transcription.csv\", index=False)"
      ],
      "metadata": {
        "id": "CnSNK_JEmQTS"
      },
      "execution_count": 27,
      "outputs": []
    },
    {
      "cell_type": "code",
      "source": [
        "len(result)"
      ],
      "metadata": {
        "colab": {
          "base_uri": "https://localhost:8080/"
        },
        "id": "SfZsyva4nqM1",
        "outputId": "27ba3f3e-67e8-48fc-db01-420f43f32285"
      },
      "execution_count": 33,
      "outputs": [
        {
          "output_type": "execute_result",
          "data": {
            "text/plain": [
              "75"
            ]
          },
          "metadata": {},
          "execution_count": 33
        }
      ]
    },
    {
      "cell_type": "code",
      "source": [
        "\n"
      ],
      "metadata": {
        "id": "IwScNGJ6s9_Z"
      },
      "execution_count": null,
      "outputs": []
    }
  ]
}