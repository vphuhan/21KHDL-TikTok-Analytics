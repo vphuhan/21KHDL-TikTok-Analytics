{
  "cells": [
    {
      "cell_type": "code",
      "source": [
        "%%shell\n",
        "git clone --branch vmphat --single-branch https://github.com/vphuhan/21KHDL-TikTok-Analytics.git\n",
        "cd 21KHDL-TikTok-Analytics\n",
        "git sparse-checkout init --cone\n",
        "git sparse-checkout set data/interim\n",
        "git checkout"
      ],
      "metadata": {
        "colab": {
          "base_uri": "https://localhost:8080/"
        },
        "id": "-igE7q93ePGO",
        "outputId": "e7265998-9806-4f1e-fa04-53d9d6be3247"
      },
      "execution_count": 1,
      "outputs": [
        {
          "output_type": "stream",
          "name": "stdout",
          "text": [
            "fatal: destination path '21KHDL-TikTok-Analytics' already exists and is not an empty directory.\n",
            "Your branch is up to date with 'origin/vmphat'.\n"
          ]
        },
        {
          "output_type": "execute_result",
          "data": {
            "text/plain": []
          },
          "metadata": {},
          "execution_count": 1
        }
      ]
    },
    {
      "cell_type": "code",
      "execution_count": 2,
      "metadata": {
        "id": "VPdzTvA3Qx0t"
      },
      "outputs": [],
      "source": [
        "import pandas as pd\n",
        "\n",
        "# Load the dataset\n",
        "df = pd.read_csv(\"/content/21KHDL-TikTok-Analytics/data/interim/audio_text.csv\")\n",
        "# Drop rows with empty text\n",
        "df = df.dropna(subset=['text'])"
      ]
    },
    {
      "cell_type": "code",
      "source": [
        "# Function to check if text is too short\n",
        "def is_text_short(text, min_words=10):\n",
        "    if not isinstance(text, str):  # Handle non-string values (e.g., NaN)\n",
        "        return True\n",
        "    words = text.split()  # Split text into words\n",
        "    return len(words) < min_words\n",
        "\n",
        "# Drop rows where 'text' is too short (e.g., fewer than 10 words)\n",
        "min_words = 10  # Set your threshold here\n",
        "df = df[~df['text'].apply(is_text_short, min_words=min_words)]\n",
        "\n",
        "# Reset the index (optional)\n",
        "df = df.reset_index(drop=True).head(20)"
      ],
      "metadata": {
        "id": "fPm829qylkut"
      },
      "execution_count": 3,
      "outputs": []
    },
    {
      "cell_type": "code",
      "execution_count": 4,
      "metadata": {
        "id": "giHTh1ZrQx0t",
        "colab": {
          "base_uri": "https://localhost:8080/"
        },
        "outputId": "46d816d4-403d-47ab-a45f-cabcfa148aa2"
      },
      "outputs": [
        {
          "output_type": "stream",
          "name": "stderr",
          "text": [
            "/usr/local/lib/python3.11/dist-packages/huggingface_hub/utils/_auth.py:94: UserWarning: \n",
            "The secret `HF_TOKEN` does not exist in your Colab secrets.\n",
            "To authenticate with the Hugging Face Hub, create a token in your settings tab (https://huggingface.co/settings/tokens), set it as secret in your Google Colab and restart your session.\n",
            "You will be able to reuse this secret in all of your notebooks.\n",
            "Please note that authentication is recommended but still optional to access public models or datasets.\n",
            "  warnings.warn(\n"
          ]
        }
      ],
      "source": [
        "from transformers import AutoTokenizer, AutoModelForSeq2SeqLM\n",
        "\n",
        "# Load model and tokenizer\n",
        "tokenizer = AutoTokenizer.from_pretrained(\"VietAI/vit5-large-vietnews-summarization\")\n",
        "model = AutoModelForSeq2SeqLM.from_pretrained(\"VietAI/vit5-large-vietnews-summarization\")\n",
        "\n",
        "def summarize(text):\n",
        "    inputs = tokenizer(text, return_tensors=\"pt\", max_length=512, truncation=True)\n",
        "    outputs = model.generate(**inputs, max_length=128)\n",
        "    return tokenizer.decode(outputs[0], skip_special_tokens=True)\n",
        "\n",
        "# Add a summary column to the DataFrame\n",
        "df[\"summary\"] = df[\"text\"].apply(summarize)"
      ]
    },
    {
      "cell_type": "code",
      "source": [
        "from transformers import pipeline\n",
        "\n",
        "# Load NER pipeline\n",
        "ner_pipeline = pipeline(\"ner\", model=\"xlm-roberta-large-finetuned-conll03-english\", aggregation_strategy=\"simple\")\n",
        "\n",
        "def extract_entities(text):\n",
        "    entities = ner_pipeline(text)\n",
        "    return [{\"entity\": entity[\"word\"], \"type\": entity[\"entity_group\"]} for entity in entities]\n",
        "\n",
        "# Add an entities column to the DataFrame\n",
        "df[\"entities\"] = df[\"text\"].apply(extract_entities)"
      ],
      "metadata": {
        "id": "xS3zU8exQz6v",
        "colab": {
          "base_uri": "https://localhost:8080/"
        },
        "outputId": "fb6f7e79-543c-49da-aac0-149f4f766295"
      },
      "execution_count": 5,
      "outputs": [
        {
          "output_type": "stream",
          "name": "stderr",
          "text": [
            "Some weights of the model checkpoint at xlm-roberta-large-finetuned-conll03-english were not used when initializing XLMRobertaForTokenClassification: ['roberta.pooler.dense.bias', 'roberta.pooler.dense.weight']\n",
            "- This IS expected if you are initializing XLMRobertaForTokenClassification from the checkpoint of a model trained on another task or with another architecture (e.g. initializing a BertForSequenceClassification model from a BertForPreTraining model).\n",
            "- This IS NOT expected if you are initializing XLMRobertaForTokenClassification from the checkpoint of a model that you expect to be exactly identical (initializing a BertForSequenceClassification model from a BertForSequenceClassification model).\n",
            "Device set to use cpu\n"
          ]
        }
      ]
    },
    {
      "cell_type": "code",
      "source": [
        "from transformers import pipeline\n",
        "\n",
        "# Define your candidate labels (customize these)\n",
        "candidate_labels = [\"đồ ăn\", \"nấu nướng\", \"công nghệ\", \"đất nước\"]\n",
        "\n",
        "# Load zero-shot pipeline\n",
        "classifier = pipeline(\"zero-shot-classification\", model=\"MoritzLaurer/mDeBERTa-v3-base-mnli-xnli\")\n",
        "\n",
        "def classify_text(text):\n",
        "    result = classifier(text, candidate_labels)\n",
        "    return result[\"labels\"][0]  # Return the top predicted label\n",
        "\n",
        "# Add a topic column to the DataFrame\n",
        "df[\"topic\"] = df[\"text\"].apply(classify_text)"
      ],
      "metadata": {
        "id": "YGq4V8g3Qz3j",
        "colab": {
          "base_uri": "https://localhost:8080/"
        },
        "outputId": "3b54fe8c-670f-429c-d8b5-afc9ff2145a7"
      },
      "execution_count": 6,
      "outputs": [
        {
          "output_type": "stream",
          "name": "stderr",
          "text": [
            "Device set to use cpu\n"
          ]
        }
      ]
    },
    {
      "cell_type": "code",
      "execution_count": 7,
      "metadata": {
        "id": "AfOV__gzQx0u"
      },
      "outputs": [],
      "source": [
        "df.to_csv(\"audio_text_processed.csv\", index=False)"
      ]
    }
  ],
  "metadata": {
    "kernelspec": {
      "display_name": "AppliedDataProject",
      "language": "python",
      "name": "python3"
    },
    "language_info": {
      "codemirror_mode": {
        "name": "ipython",
        "version": 3
      },
      "file_extension": ".py",
      "mimetype": "text/x-python",
      "name": "python",
      "nbconvert_exporter": "python",
      "pygments_lexer": "ipython3",
      "version": "3.11.11"
    },
    "colab": {
      "provenance": [],
      "history_visible": true
    }
  },
  "nbformat": 4,
  "nbformat_minor": 0
}