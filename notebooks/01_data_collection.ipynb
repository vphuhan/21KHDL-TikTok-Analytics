{
 "cells": [
  {
   "cell_type": "code",
   "execution_count": 1,
   "metadata": {},
   "outputs": [],
   "source": [
    "import argparse\n",
    "import asyncio\n",
    "import json\n",
    "import os\n",
    "import time\n",
    "\n",
    "from yt_dlp import YoutubeDL\n",
    "\n",
    "from TikTokApi import TikTokApi\n",
    "\n",
    "# * Define raw data directory\n",
    "RAW_DATA_DIR = \"data/\"\n",
    "\n",
    "ms_token = os.environ.get(\"ms_token\", None)  # set your own ms_token\n",
    "VIDEO_DIR = RAW_DATA_DIR + \"videos\""
   ]
  },
  {
   "cell_type": "code",
   "execution_count": 2,
   "metadata": {},
   "outputs": [],
   "source": [
    "def get_current_timestamp():\n",
    "    return int(time.time())\n",
    "\n",
    "def update_json_file(file_path, new_data):\n",
    "    try:\n",
    "        # Read existing data\n",
    "        with open(file_path, \"r\", encoding=\"utf-8\") as file:\n",
    "            existing_data = json.load(file)\n",
    "\n",
    "        # Ensure it's a list\n",
    "        if not isinstance(existing_data, list):\n",
    "            raise ValueError(\"JSON file does not contain a list.\")\n",
    "\n",
    "    except (FileNotFoundError, json.JSONDecodeError):\n",
    "        # If file doesn't exist or is empty, start with an empty list\n",
    "        existing_data = []\n",
    "\n",
    "    print(\"Number of existing videos: \", len(existing_data))\n",
    "    print(\"Number of new videos: \", len(new_data))\n",
    "    # Append new data (should be a list of dictionaries)\n",
    "    existing_data.extend(new_data)\n",
    "\n",
    "    # Write back the updated data\n",
    "    with open(file_path, \"w\") as file:\n",
    "        json.dump(existing_data, file, indent=3)\n",
    "\n",
    "async def get_hashtag_videos(hashtag, count):\n",
    "    path = os.path.join(VIDEO_DIR, hashtag)\n",
    "    os.makedirs(path, exist_ok=True)\n",
    "\n",
    "    async with TikTokApi() as api:\n",
    "        await api.create_sessions(headless=False, ms_tokens=[ms_token], num_sessions=1, sleep_after=3,\n",
    "                                  browser=os.getenv(\"TIKTOK_BROWSER\", \"chromium\"))\n",
    "        tag = api.hashtag(name=hashtag)\n",
    "        videos = []\n",
    "        downloaded = 0\n",
    "        async for video in tag.videos(count=200):\n",
    "            if downloaded >= count:\n",
    "                break\n",
    "\n",
    "            try:\n",
    "                video_url = f\"https://www.tiktok.com/@{video.author.username}/video/{video.id}\"\n",
    "                print(f\"Video url: {video_url}\")\n",
    "                filename = f\"{video.id}.mp4\"\n",
    "                filepath = os.path.join(path, filename)\n",
    "                if os.path.exists(filepath):\n",
    "                    print(f\"Video already downloaded: {filename}\")\n",
    "                    continue\n",
    "                else:\n",
    "                    ydl_opts = {\n",
    "                        'outtmpl': f'{path}/%(uploader)s_%(id)s.%(ext)s'}\n",
    "\n",
    "                    with YoutubeDL(ydl_opts) as ydl:\n",
    "                        ydl.download([video_url])\n",
    "\n",
    "                    video_info = video.as_dict\n",
    "                    new_data = {\"collectedTime\": get_current_timestamp()}\n",
    "                    video_info.update(new_data)\n",
    "                    videos.append(video_info)\n",
    "                    downloaded += 1\n",
    "\n",
    "            except Exception as e:\n",
    "                print(\n",
    "                    f\"Error downloading @{video.author.username}/video/{video.id}: {e}\")\n",
    "\n",
    "        if len(videos) > 0:\n",
    "            filename = \"videos_info.json\"\n",
    "            filepath = os.path.join(path, filename)\n",
    "            update_json_file(filepath, videos)\n"
   ]
  },
  {
   "cell_type": "code",
   "execution_count": 3,
   "metadata": {},
   "outputs": [
    {
     "ename": "RuntimeError",
     "evalue": "asyncio.run() cannot be called from a running event loop",
     "output_type": "error",
     "traceback": [
      "\u001b[0;31m---------------------------------------------------------------------------\u001b[0m",
      "\u001b[0;31mRuntimeError\u001b[0m                              Traceback (most recent call last)",
      "Cell \u001b[0;32mIn[3], line 3\u001b[0m\n\u001b[1;32m      1\u001b[0m num_videos \u001b[38;5;241m=\u001b[39m \u001b[38;5;241m1\u001b[39m\n\u001b[1;32m      2\u001b[0m hashtag \u001b[38;5;241m=\u001b[39m \u001b[38;5;124m\"\u001b[39m\u001b[38;5;124mbongda\u001b[39m\u001b[38;5;124m\"\u001b[39m\n\u001b[0;32m----> 3\u001b[0m \u001b[43masyncio\u001b[49m\u001b[38;5;241;43m.\u001b[39;49m\u001b[43mrun\u001b[49m\u001b[43m(\u001b[49m\u001b[43mget_hashtag_videos\u001b[49m\u001b[43m(\u001b[49m\u001b[43mhashtag\u001b[49m\u001b[38;5;241;43m=\u001b[39;49m\u001b[43mhashtag\u001b[49m\u001b[43m,\u001b[49m\u001b[43m \u001b[49m\u001b[43mcount\u001b[49m\u001b[38;5;241;43m=\u001b[39;49m\u001b[43mnum_videos\u001b[49m\u001b[43m)\u001b[49m\u001b[43m)\u001b[49m\n",
      "File \u001b[0;32m~/miniconda3/envs/ds-env/lib/python3.11/asyncio/runners.py:186\u001b[0m, in \u001b[0;36mrun\u001b[0;34m(main, debug)\u001b[0m\n\u001b[1;32m    161\u001b[0m \u001b[38;5;250m\u001b[39m\u001b[38;5;124;03m\"\"\"Execute the coroutine and return the result.\u001b[39;00m\n\u001b[1;32m    162\u001b[0m \n\u001b[1;32m    163\u001b[0m \u001b[38;5;124;03mThis function runs the passed coroutine, taking care of\u001b[39;00m\n\u001b[0;32m   (...)\u001b[0m\n\u001b[1;32m    182\u001b[0m \u001b[38;5;124;03m    asyncio.run(main())\u001b[39;00m\n\u001b[1;32m    183\u001b[0m \u001b[38;5;124;03m\"\"\"\u001b[39;00m\n\u001b[1;32m    184\u001b[0m \u001b[38;5;28;01mif\u001b[39;00m events\u001b[38;5;241m.\u001b[39m_get_running_loop() \u001b[38;5;129;01mis\u001b[39;00m \u001b[38;5;129;01mnot\u001b[39;00m \u001b[38;5;28;01mNone\u001b[39;00m:\n\u001b[1;32m    185\u001b[0m     \u001b[38;5;66;03m# fail fast with short traceback\u001b[39;00m\n\u001b[0;32m--> 186\u001b[0m     \u001b[38;5;28;01mraise\u001b[39;00m \u001b[38;5;167;01mRuntimeError\u001b[39;00m(\n\u001b[1;32m    187\u001b[0m         \u001b[38;5;124m\"\u001b[39m\u001b[38;5;124masyncio.run() cannot be called from a running event loop\u001b[39m\u001b[38;5;124m\"\u001b[39m)\n\u001b[1;32m    189\u001b[0m \u001b[38;5;28;01mwith\u001b[39;00m Runner(debug\u001b[38;5;241m=\u001b[39mdebug) \u001b[38;5;28;01mas\u001b[39;00m runner:\n\u001b[1;32m    190\u001b[0m     \u001b[38;5;28;01mreturn\u001b[39;00m runner\u001b[38;5;241m.\u001b[39mrun(main)\n",
      "\u001b[0;31mRuntimeError\u001b[0m: asyncio.run() cannot be called from a running event loop"
     ]
    }
   ],
   "source": [
    "num_videos = 1\n",
    "hashtag = \"bongda\"\n",
    "asyncio.run(get_hashtag_videos(hashtag=hashtag, count=num_videos))"
   ]
  },
  {
   "cell_type": "code",
   "execution_count": null,
   "metadata": {},
   "outputs": [],
   "source": []
  }
 ],
 "metadata": {
  "kernelspec": {
   "display_name": ".venv",
   "language": "python",
   "name": "python3"
  },
  "language_info": {
   "codemirror_mode": {
    "name": "ipython",
    "version": 3
   },
   "file_extension": ".py",
   "mimetype": "text/x-python",
   "name": "python",
   "nbconvert_exporter": "python",
   "pygments_lexer": "ipython3",
   "version": "3.11.10"
  }
 },
 "nbformat": 4,
 "nbformat_minor": 2
}
