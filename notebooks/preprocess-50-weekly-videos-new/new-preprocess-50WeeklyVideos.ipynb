{
 "cells": [
  {
   "cell_type": "code",
   "execution_count": 1,
   "metadata": {},
   "outputs": [],
   "source": [
    "import pandas as pd\n",
    "import os\n",
    "import json\n",
    "import numpy as np\n",
    "from types import NoneType\n",
    "import re\n",
    "from IPython.display import Markdown, display\n",
    "import ast\n",
    "# Cho phép hiển thị toàn bộ nội dung transcript\n",
    "# pd.set_option('display.max_colwidth', None)\n",
    "\n",
    "os.chdir(\"/Users/vophuhan/Everything/University/Năm 4/Semester 2/Ứng dụng Phân tích dữ liệu thông minh/21KHDL-TikTok-Analytics\")"
   ]
  },
  {
   "cell_type": "markdown",
   "metadata": {},
   "source": [
    "# Load json files to df\n"
   ]
  },
  {
   "cell_type": "code",
   "execution_count": 2,
   "metadata": {},
   "outputs": [],
   "source": [
    "# # @title Concat json files to df\n",
    "# # Đường dẫn folder chứa JSON\n",
    "# json_folder = 'data/content-features-50weekly-new'\n",
    "\n",
    "# # Danh sách lưu kết quả\n",
    "# json_data_list = []\n",
    "\n",
    "# # Lặp qua tất cả các file JSON trong thư mục\n",
    "# for filename in os.listdir(json_folder):\n",
    "#     if not filename.endswith('.json'):\n",
    "#         continue\n",
    "\n",
    "#     file_path = os.path.join(json_folder, filename)\n",
    "#     # loại bỏ phần .json để lấy video_id\n",
    "#     video_id = os.path.splitext(filename)[0]\n",
    "\n",
    "#     try:\n",
    "#         with open(file_path, 'r', encoding='utf-8') as f:\n",
    "#             content = f.read()\n",
    "#         # loại bỏ ký tự điều khiển\n",
    "#         content = re.sub(r'[\\x00-\\x1F\\x7F]', '', content)\n",
    "#         content = json.loads(content)\n",
    "#         content['video.id'] = video_id  # thêm video.id vào để merge\n",
    "#         json_data_list.append(content)\n",
    "#     except Exception as e:\n",
    "#         # print(f\"❌ Lỗi khi đọc file {file_path}: {e}\")\n",
    "#         continue\n",
    "\n",
    "# # Chuyển thành DataFrame từ danh sách JSON\n",
    "# json_df = pd.DataFrame(json_data_list)\n",
    "# json_df.info()"
   ]
  },
  {
   "cell_type": "code",
   "execution_count": 3,
   "metadata": {},
   "outputs": [],
   "source": [
    "# json_df.to_parquet(\n",
    "#     \"data/content-features-dataset/content_features-new-raw-top50WeeklyVideos.parquet\", index=False)"
   ]
  },
  {
   "cell_type": "code",
   "execution_count": 4,
   "metadata": {},
   "outputs": [
    {
     "name": "stdout",
     "output_type": "stream",
     "text": [
      "<class 'pandas.core.frame.DataFrame'>\n",
      "RangeIndex: 3004 entries, 0 to 3003\n",
      "Data columns (total 16 columns):\n",
      " #   Column             Non-Null Count  Dtype \n",
      "---  ------             --------------  ----- \n",
      " 0   categories         3004 non-null   object\n",
      " 1   audience_target    2733 non-null   object\n",
      " 2   body_analysis      2719 non-null   object\n",
      " 3   content_style      2723 non-null   object\n",
      " 4   cta_content        2722 non-null   object\n",
      " 5   cta_type           2722 non-null   object\n",
      " 6   emotion_keywords   2732 non-null   object\n",
      " 7   has_cta            2733 non-null   object\n",
      " 8   highlight_phrases  2727 non-null   object\n",
      " 9   hook_content       2733 non-null   object\n",
      " 10  hook_type          2724 non-null   object\n",
      " 11  pacing             2728 non-null   object\n",
      " 12  structure_style    2724 non-null   object\n",
      " 13  summarization      2745 non-null   object\n",
      " 14  tone_of_voice      2744 non-null   object\n",
      " 15  video.id           3004 non-null   object\n",
      "dtypes: object(16)\n",
      "memory usage: 375.6+ KB\n"
     ]
    }
   ],
   "source": [
    "raw_content_df = pd.read_parquet(\n",
    "    \"data/content-features-dataset/content_features-new-raw-top50WeeklyVideos.parquet\")\n",
    "raw_content_df.info()"
   ]
  },
  {
   "cell_type": "markdown",
   "metadata": {},
   "source": [
    "Xử lý None value\n"
   ]
  },
  {
   "cell_type": "code",
   "execution_count": 5,
   "metadata": {},
   "outputs": [
    {
     "name": "stdout",
     "output_type": "stream",
     "text": [
      "categories: [<class 'str'>]\n",
      "audience_target: [<class 'numpy.ndarray'> <class 'NoneType'>]\n",
      "body_analysis: [<class 'numpy.ndarray'> <class 'NoneType'>]\n",
      "content_style: [<class 'numpy.ndarray'> <class 'NoneType'>]\n",
      "cta_content: [<class 'numpy.ndarray'> <class 'NoneType'>]\n",
      "cta_type: [<class 'numpy.ndarray'> <class 'NoneType'>]\n",
      "emotion_keywords: [<class 'numpy.ndarray'> <class 'NoneType'>]\n",
      "has_cta: [<class 'str'> <class 'NoneType'>]\n",
      "highlight_phrases: [<class 'numpy.ndarray'> <class 'NoneType'>]\n",
      "hook_content: [<class 'str'> <class 'NoneType'>]\n",
      "hook_type: [<class 'numpy.ndarray'> <class 'NoneType'>]\n",
      "pacing: [<class 'numpy.ndarray'> <class 'NoneType'>]\n",
      "structure_style: [<class 'numpy.ndarray'> <class 'NoneType'>]\n",
      "summarization: [<class 'str'> <class 'NoneType'>]\n",
      "tone_of_voice: [<class 'numpy.ndarray'> <class 'NoneType'>]\n",
      "video.id: [<class 'str'>]\n"
     ]
    },
    {
     "data": {
      "text/plain": [
       "['categories', 'has_cta', 'hook_content', 'summarization', 'video.id']"
      ]
     },
     "execution_count": 5,
     "metadata": {},
     "output_type": "execute_result"
    }
   ],
   "source": [
    "# features_df['pacing'].astype('str').unique()\n",
    "str_cols = []\n",
    "for col in raw_content_df.columns:\n",
    "    print(f\"{col}: {raw_content_df[col].apply(type).unique()}\")\n",
    "\n",
    "    str_flag = raw_content_df[col].apply(lambda x: isinstance(x, str)).any()\n",
    "    if str_flag:\n",
    "        str_cols.append(col)\n",
    "\n",
    "str_cols"
   ]
  },
  {
   "cell_type": "code",
   "execution_count": 6,
   "metadata": {},
   "outputs": [],
   "source": [
    "content_df = raw_content_df.copy()"
   ]
  },
  {
   "cell_type": "code",
   "execution_count": 7,
   "metadata": {},
   "outputs": [],
   "source": [
    "content_df['has_cta'] = raw_content_df['has_cta'].str.lower().map(\n",
    "    {'true': True, 'false': False})\n",
    "content_df['has_cta'] = raw_content_df['has_cta'].fillna(False).astype('bool')"
   ]
  },
  {
   "cell_type": "code",
   "execution_count": 8,
   "metadata": {},
   "outputs": [],
   "source": [
    "def parse_list(x):\n",
    "    if isinstance(x, np.ndarray):\n",
    "        return list(x)\n",
    "    if isinstance(x, NoneType):\n",
    "        return []\n",
    "\n",
    "\n",
    "def parse_string(x):\n",
    "    if isinstance(x, str):\n",
    "        return x\n",
    "    if isinstance(x, NoneType):\n",
    "        return \"\"\n",
    "\n",
    "\n",
    "list_cols = set(raw_content_df.columns)-set(str_cols)-set(['video.id'])\n",
    "str_cols = set(str_cols)-set(['has_cta'])\n",
    "\n",
    "for col in raw_content_df.columns:\n",
    "    if col in list_cols:\n",
    "        content_df[col] = raw_content_df[col].apply(parse_list)\n",
    "    elif col in str_cols:\n",
    "        content_df[col] = raw_content_df[col].apply(parse_string)"
   ]
  },
  {
   "cell_type": "code",
   "execution_count": null,
   "metadata": {},
   "outputs": [
    {
     "name": "stdout",
     "output_type": "stream",
     "text": [
      "highlight_phrases\n",
      "Tôi tò mò, bạn cũng thế.                                                                 5\n",
      "Ngon quá.                                                                                5\n",
      "Ngon.                                                                                    4\n",
      "Quá ngon.                                                                                4\n",
      "Bạn thân ơi, đừng giấu tôi nữa, công khai mình giàu có đi nuôi tôi đi.                   3\n",
      "                                                                                        ..\n",
      "Đem về thì để tủ đông tầm cả tuần này kia thì mới đem ra hấp.                            1\n",
      "Ăn hải sản mà có cảm thấy ngán ngán thì quay qua húp miếng nước lẩu thì nó cũng ngon.    1\n",
      "Nghe danh đã lâu là cái con cua này thì dưới lớp vỏ nó là siêu gạch luôn.                1\n",
      "Nhìn cái tô mỡ hành thơm thôi mà nướng lên á không chịu nổi luôn á.                      1\n",
      "Laura cà phê vừa ngon vừa khỏe, bảo sao nhiều người thích uống.                          1\n",
      "Name: count, Length: 6914, dtype: int64\n",
      "\n",
      "emotion_keywords\n",
      "ngon                   1797\n",
      "thơm                    686\n",
      "ngọt                    363\n",
      "béo                     334\n",
      "đã                      296\n",
      "                       ... \n",
      "chân thực                 1\n",
      "thiếu tinh tế             1\n",
      "ngọt gắt                  1\n",
      "lạy                       1\n",
      "an khen thượng loại       1\n",
      "Name: count, Length: 2263, dtype: int64\n",
      "\n",
      "hook_type\n",
      "Vào thẳng vấn đề          1571\n",
      "Gây tò mò                  759\n",
      "Đặt câu hỏi                265\n",
      "Kể chuyện                  255\n",
      "Cho thấy kết quả trước     161\n",
      "Phản hồi bình luận          82\n",
      "Gây tranh cãi               30\n",
      "Khuyến mãi                  30\n",
      "So sánh                     22\n",
      "Tạo sự đồng cảm             16\n",
      "Giật tít                    15\n",
      "Name: count, dtype: int64\n",
      "\n",
      "pacing\n",
      "Nhanh       1900\n",
      "Thay đổi     560\n",
      "Chậm         212\n",
      "Name: count, dtype: int64\n",
      "\n",
      "tone_of_voice\n",
      "Thân thiện     2572\n",
      "Hào hứng       1642\n",
      "Chân thành      710\n",
      "Hài hước        462\n",
      "Ngạc nhiên      212\n",
      "Khó chịu         55\n",
      "Trung lập        37\n",
      "Châm biếm        11\n",
      "Trang trọng       5\n",
      "Bí ẩn             3\n",
      "Nghiêm túc        3\n",
      "Bốc phốt          2\n",
      "Name: count, dtype: int64\n",
      "\n",
      "audience_target\n",
      "Người trẻ (Gen Z)                              2198\n",
      "Người thích khám phá ẩm thực tại địa phương    1283\n",
      "Người thích ăn vặt, đồ ngọt                    1282\n",
      "Người nội trợ, yêu thích nấu ăn tại nhà         866\n",
      "Học sinh, sinh viên                             462\n",
      "Người yêu thích ẩm thực nước ngoài              289\n",
      "Phụ huynh, gia đình có trẻ nhỏ                  210\n",
      "Người đi làm, dân văn phòng                     133\n",
      "Khách du lịch, người Việt ở nước ngoài          121\n",
      "Người ăn chay, ăn healthy                        38\n",
      "Name: count, dtype: int64\n",
      "\n",
      "body_analysis\n",
      "{'desc': 'Cảm ơn người xem và hẹn gặp lại ở video sau.', 'impact_level': '1', 'step': 'Kết thúc', 'viewer_emotion': 'Bình thường.'}                                  5\n",
      "{'desc': 'Mời mọi người cùng ăn.', 'impact_level': '1', 'step': 'Mời ăn', 'viewer_emotion': 'Cảm thấy thân thiện.'}                                                  2\n",
      "{'desc': 'Cảm ơn người xem và hẹn gặp lại.', 'impact_level': '1', 'step': 'Kết thúc', 'viewer_emotion': 'Bình thường.'}                                              2\n",
      "{'desc': 'Chào mừng đến với kênh và giới thiệu món ăn hôm nay.', 'impact_level': '2', 'step': 'Giới thiệu', 'viewer_emotion': 'Tò mò về món ăn được giới thiệu.'}    2\n",
      "{'desc': 'Cảm ơn người xem và hẹn gặp lại ở các video sau.', 'impact_level': '1', 'step': 'Kết thúc', 'viewer_emotion': 'Bình thường'}                               2\n",
      "                                                                                                                                                                    ..\n",
      "{'desc': 'Nhận xét về độ mềm, thơm ngon và sự đặc biệt.', 'impact_level': '2', 'step': 'Đánh giá hương vị', 'viewer_emotion': 'Thích thú'}                           1\n",
      "{'desc': 'Bàn luận về sở thích cá nhân và trải nghiệm.', 'impact_level': '1', 'step': 'Thảo luận về món ăn', 'viewer_emotion': 'Bình thường'}                        1\n",
      "{'desc': 'Uống rượu và cảm nhận sự kết hợp với món ăn.', 'impact_level': '2', 'step': 'Uống rượu và ăn món', 'viewer_emotion': 'Vui vẻ'}                             1\n",
      "{'desc': 'Kết thúc bữa ăn một cách đơn giản và thoải mái.', 'impact_level': '1', 'step': 'Kết thúc bữa ăn', 'viewer_emotion': 'Bình thường'}                         1\n",
      "{'desc': 'Mời mọi người cùng ăn trái cây và uống cà phê.', 'impact_level': '1', 'step': 'Mời dùng thử', 'viewer_emotion': 'Cảm thấy được mời gọi.'}                  1\n",
      "Name: count, Length: 14133, dtype: int64\n",
      "\n",
      "cta_content\n",
      "Giờ thì mời mọi người ăn chung với tôi nghe.                                                        30\n",
      "Giờ thì mời mọi người ăn chung với tôi nghen.                                                       23\n",
      "Hẹn gặp lại bạn vào video lần sau.                                                                  18\n",
      "Giờ thì mời mọi người ăn chung với tôi.                                                             14\n",
      "Giờ thì mời mọi người ăn chung với tôi nhen.                                                        13\n",
      "                                                                                                    ..\n",
      "Cảm ơn mọi người nha.                                                                                1\n",
      "Và nhớ xem đến cuối để xem phản ứng của gia đình mình khi lần đầu ăn mắm tôm sẽ như thế nào nhá.     1\n",
      "Túm lại mấy bà mà muốn có một cô bé khỏe mạnh ấy thì cứ thử tìm hiểu qua em này nhá.                 1\n",
      "Mọi người đã luôn theo dõi và ủng hộ gia đình của mình nha.                                          1\n",
      "Giờ Thanh mời mọi người cùng ăn trái cây và uống cà phê với Thanh nha.                               1\n",
      "Name: count, Length: 1533, dtype: int64\n",
      "\n",
      "content_style\n",
      "Đời thường       2666\n",
      "Nhanh gọn        2190\n",
      "Gen Z             827\n",
      "Chi tiết          368\n",
      "Sáng tạo          177\n",
      "Truyền thống       62\n",
      "Chuyên nghiệp      31\n",
      "Drama              28\n",
      "Kiến thức          23\n",
      "Sang trọng          5\n",
      "Name: count, dtype: int64\n",
      "\n",
      "structure_style\n",
      "Chia sẻ trải nghiệm cá nhân    2242\n",
      "Mô tả đặc điểm                  908\n",
      "Hướng dẫn                       815\n",
      "So sánh                         196\n",
      "Đối thoại                       139\n",
      "Liệt kê                         136\n",
      "Kể chuyện                       112\n",
      "Kịch hóa                         39\n",
      "Chia sẻ kiến thức                 3\n",
      "Name: count, dtype: int64\n",
      "\n",
      "cta_type\n",
      "Ăn cùng                   419\n",
      "Ghé thăm địa điểm         352\n",
      "Thử làm theo công thức    284\n",
      "Xem video tiếp theo       214\n",
      "Bình luận                 157\n",
      "Truy cập link sản phẩm    127\n",
      "Chia sẻ công thức          79\n",
      "Follow kênh                75\n",
      "Lưu video                  74\n",
      "Chia sẻ                    66\n",
      "Thích video                62\n",
      "Truy cập trang cá nhân     49\n",
      "Đặt câu hỏi                45\n",
      "So sánh                    18\n",
      "Name: count, dtype: int64\n",
      "\n"
     ]
    }
   ],
   "source": [
    "for col in list_cols:\n",
    "    print(f\"{raw_content_df[col].explode().value_counts()}\\n\")"
   ]
  },
  {
   "cell_type": "code",
   "execution_count": null,
   "metadata": {},
   "outputs": [],
   "source": []
  },
  {
   "cell_type": "code",
   "execution_count": null,
   "metadata": {},
   "outputs": [
    {
     "name": "stdout",
     "output_type": "stream",
     "text": [
      "categories: [<class 'str'>]\n",
      "audience_target: [<class 'list'>]\n",
      "body_analysis: [<class 'list'>]\n",
      "content_style: [<class 'list'>]\n",
      "cta_content: [<class 'list'>]\n",
      "cta_type: [<class 'list'>]\n",
      "emotion_keywords: [<class 'list'>]\n",
      "has_cta: [<class 'bool'>]\n",
      "highlight_phrases: [<class 'list'>]\n",
      "hook_content: [<class 'str'>]\n",
      "hook_type: [<class 'list'>]\n",
      "pacing: [<class 'list'>]\n",
      "structure_style: [<class 'list'>]\n",
      "summarization: [<class 'str'>]\n",
      "tone_of_voice: [<class 'list'>]\n",
      "video.id: [<class 'str'>]\n"
     ]
    },
    {
     "data": {
      "text/plain": [
       "['categories', 'hook_content', 'summarization', 'video.id']"
      ]
     },
     "execution_count": 9,
     "metadata": {},
     "output_type": "execute_result"
    }
   ],
   "source": [
    "# features_df['pacing'].astype('str').unique()\n",
    "# str_cols = []\n",
    "for col in content_df.columns:\n",
    "    print(f\"{col}: {content_df[col].apply(type).unique()}\")\n",
    "\n",
    "#     str_flag = content_df[col].apply(lambda x: isinstance(x, str)).any()\n",
    "#     if str_flag:\n",
    "#         str_cols.append(col)\n",
    "\n",
    "# str_cols"
   ]
  },
  {
   "cell_type": "code",
   "execution_count": 10,
   "metadata": {},
   "outputs": [
    {
     "name": "stdout",
     "output_type": "stream",
     "text": [
      "<class 'pandas.core.frame.DataFrame'>\n",
      "RangeIndex: 3005 entries, 0 to 3004\n",
      "Data columns (total 9 columns):\n",
      " #   Column              Non-Null Count  Dtype  \n",
      "---  ------              --------------  -----  \n",
      " 0   transcript          2940 non-null   object \n",
      " 1   takeaways           2992 non-null   object \n",
      " 2   has_call_to_action  3005 non-null   bool   \n",
      " 3   has_curiosity_gap   3005 non-null   bool   \n",
      " 4   video.id            3005 non-null   object \n",
      " 5   year                3005 non-null   int64  \n",
      " 6   week                3005 non-null   int64  \n",
      " 7   weekly_score_rank   3005 non-null   float64\n",
      " 8   desc                3004 non-null   object \n",
      "dtypes: bool(2), float64(1), int64(2), object(4)\n",
      "memory usage: 170.3+ KB\n"
     ]
    }
   ],
   "source": [
    "raw_transcript_df = pd.read_parquet(\n",
    "    \"data/transcripts-dataset/top_50_weekly_video_transcripts.parquet\")\n",
    "raw_transcript_df.info()"
   ]
  },
  {
   "cell_type": "code",
   "execution_count": 11,
   "metadata": {},
   "outputs": [],
   "source": [
    "transcript_df = raw_transcript_df.copy()\n",
    "transcript_df[['desc', 'transcript']] = transcript_df[[\n",
    "    'desc', 'transcript']].fillna(\"\")\n",
    "transcript_df['takeaways'] = transcript_df['takeaways'].apply(parse_list)"
   ]
  },
  {
   "cell_type": "code",
   "execution_count": 12,
   "metadata": {},
   "outputs": [],
   "source": [
    "transcript_df_to_merge = transcript_df[[\n",
    "    'video.id', 'desc', 'transcript', 'takeaways', 'weekly_score_rank']]"
   ]
  },
  {
   "cell_type": "code",
   "execution_count": 13,
   "metadata": {},
   "outputs": [
    {
     "name": "stdout",
     "output_type": "stream",
     "text": [
      "<class 'pandas.core.frame.DataFrame'>\n",
      "RangeIndex: 70996 entries, 0 to 70995\n",
      "Data columns (total 52 columns):\n",
      " #   Column                           Non-Null Count  Dtype                           \n",
      "---  ------                           --------------  -----                           \n",
      " 0   CategoryType                     70996 non-null  object                          \n",
      " 1   author.downloadSetting           70996 non-null  object                          \n",
      " 2   author.duetSetting               70996 non-null  object                          \n",
      " 3   author.id                        70996 non-null  object                          \n",
      " 4   author.nickname                  70996 non-null  object                          \n",
      " 5   author.openFavorite              70996 non-null  bool                            \n",
      " 6   author.secUid                    70996 non-null  object                          \n",
      " 7   author.signature                 70996 non-null  object                          \n",
      " 8   author.stitchSetting             70996 non-null  object                          \n",
      " 9   author.uniqueId                  70996 non-null  object                          \n",
      " 10  author.verified                  70996 non-null  bool                            \n",
      " 11  authorStats.diggCount            70996 non-null  float64                         \n",
      " 12  authorStats.followerCount        70996 non-null  float64                         \n",
      " 13  authorStats.followingCount       70996 non-null  float64                         \n",
      " 14  authorStats.heartCount           70996 non-null  float64                         \n",
      " 15  authorStats.videoCount           70996 non-null  float64                         \n",
      " 16  createTime                       70996 non-null  datetime64[ns, Asia/Ho_Chi_Minh]\n",
      " 17  desc                             70996 non-null  object                          \n",
      " 18  diversificationId                70996 non-null  object                          \n",
      " 19  isAd                             70996 non-null  bool                            \n",
      " 20  itemCommentStatus                70996 non-null  object                          \n",
      " 21  music.authorName                 70996 non-null  object                          \n",
      " 22  music.duration                   70996 non-null  float64                         \n",
      " 23  music.id                         70996 non-null  object                          \n",
      " 24  music.isCopyrighted              70996 non-null  bool                            \n",
      " 25  music.original                   70996 non-null  bool                            \n",
      " 26  music.title                      70996 non-null  object                          \n",
      " 27  statsV2.collectCount             70996 non-null  float64                         \n",
      " 28  statsV2.commentCount             70996 non-null  float64                         \n",
      " 29  statsV2.diggCount                70996 non-null  float64                         \n",
      " 30  statsV2.playCount                70996 non-null  float64                         \n",
      " 31  statsV2.shareCount               70996 non-null  float64                         \n",
      " 32  textLanguage                     70996 non-null  object                          \n",
      " 33  textTranslatable                 70996 non-null  bool                            \n",
      " 34  video.VQScore                    70996 non-null  float64                         \n",
      " 35  video.bitrate                    70996 non-null  float64                         \n",
      " 36  video.claInfo.enableAutoCaption  70996 non-null  object                          \n",
      " 37  video.claInfo.hasOriginalAudio   70996 non-null  object                          \n",
      " 38  video.codecType                  70996 non-null  object                          \n",
      " 39  video.definition                 70996 non-null  object                          \n",
      " 40  video.duration                   70996 non-null  float64                         \n",
      " 41  video.encodedType                70996 non-null  object                          \n",
      " 42  video.height                     70996 non-null  float64                         \n",
      " 43  video.id                         70996 non-null  object                          \n",
      " 44  video.ratio                      70996 non-null  object                          \n",
      " 45  video.videoQuality               70996 non-null  object                          \n",
      " 46  video.volumeInfo.Loudness        70996 non-null  float64                         \n",
      " 47  video.volumeInfo.Peak            70996 non-null  float64                         \n",
      " 48  video.width                      70996 non-null  float64                         \n",
      " 49  collectTime                      70996 non-null  datetime64[ns, Asia/Ho_Chi_Minh]\n",
      " 50  hashtags                         70996 non-null  object                          \n",
      " 51  hashtag_count                    70996 non-null  int64                           \n",
      "dtypes: bool(6), datetime64[ns, Asia/Ho_Chi_Minh](2), float64(18), int64(1), object(25)\n",
      "memory usage: 25.3+ MB\n"
     ]
    }
   ],
   "source": [
    "full_df = pd.read_parquet('data/preprocessed_videos.parquet')\n",
    "full_df.info()"
   ]
  },
  {
   "cell_type": "code",
   "execution_count": 14,
   "metadata": {},
   "outputs": [],
   "source": [
    "renamed_cols = {\n",
    "    # 'author.uniqueId': 'username',\n",
    "    'video.id': 'video.id',\n",
    "    # \"id\": \"id\",\n",
    "    \"isAd\": \"isAd\",\n",
    "    \"video.duration\": \"duration\",\n",
    "    \"statsV2.playCount\": \"views\",  # Lượt xem video\n",
    "    \"statsV2.diggCount\": \"likes\",  # Lượt thích video\n",
    "    \"statsV2.commentCount\": \"comments\",  # Lượt bình luận video\n",
    "    \"statsV2.shareCount\": \"shares\",  # Lượt chia sẻ video\n",
    "    'statsV2.collectCount': \"collects\",\n",
    "    # \"statsV2.playCount_rank\": \"views_rank\",  # Lượt xem video\n",
    "    # \"statsV2.diggCount_rank\": \"likes_rank\",  # Lượt thích video\n",
    "    # \"statsV2.commentCount_rank\": \"comments_rank\",  # Lượt bình luận video\n",
    "    # \"statsV2.shareCount_rank\": \"shares_rank\",  # Lượt chia sẻ video\n",
    "    # 'statsV2.collectCount_rank': \"collects_rank\",\n",
    "    'authorStats.diggCount': \"user.likes\",\n",
    "    'authorStats.followerCount': \"user.followers\",\n",
    "    'authorStats.followingCount': \"user.followings\",\n",
    "    'authorStats.heartCount': \"user.hearts\",\n",
    "    'authorStats.videoCount': \"user.videos\",\n",
    "    'createTime': 'createTime',\n",
    "    'hashtags': 'hashtags',\n",
    "    'hashtag_count': 'hashtag_count'\n",
    "}"
   ]
  },
  {
   "cell_type": "code",
   "execution_count": 15,
   "metadata": {},
   "outputs": [],
   "source": [
    "full_df_to_merge = full_df[renamed_cols.keys()]"
   ]
  },
  {
   "cell_type": "code",
   "execution_count": 16,
   "metadata": {},
   "outputs": [],
   "source": [
    "merge_df = content_df.merge(transcript_df_to_merge, on='video.id', how='left').merge(\n",
    "    full_df_to_merge, on='video.id', how='left')"
   ]
  },
  {
   "cell_type": "code",
   "execution_count": 17,
   "metadata": {},
   "outputs": [
    {
     "name": "stdout",
     "output_type": "stream",
     "text": [
      "<class 'pandas.core.frame.DataFrame'>\n",
      "RangeIndex: 3004 entries, 0 to 3003\n",
      "Data columns (total 35 columns):\n",
      " #   Column                      Non-Null Count  Dtype                           \n",
      "---  ------                      --------------  -----                           \n",
      " 0   categories                  3004 non-null   object                          \n",
      " 1   audience_target             3004 non-null   object                          \n",
      " 2   body_analysis               3004 non-null   object                          \n",
      " 3   content_style               3004 non-null   object                          \n",
      " 4   cta_content                 3004 non-null   object                          \n",
      " 5   cta_type                    3004 non-null   object                          \n",
      " 6   emotion_keywords            3004 non-null   object                          \n",
      " 7   has_cta                     3004 non-null   bool                            \n",
      " 8   highlight_phrases           3004 non-null   object                          \n",
      " 9   hook_content                3004 non-null   object                          \n",
      " 10  hook_type                   3004 non-null   object                          \n",
      " 11  pacing                      3004 non-null   object                          \n",
      " 12  structure_style             3004 non-null   object                          \n",
      " 13  summarization               3004 non-null   object                          \n",
      " 14  tone_of_voice               3004 non-null   object                          \n",
      " 15  video.id                    3004 non-null   object                          \n",
      " 16  desc                        3004 non-null   object                          \n",
      " 17  transcript                  3004 non-null   object                          \n",
      " 18  takeaways                   3004 non-null   object                          \n",
      " 19  weekly_score_rank           3004 non-null   float64                         \n",
      " 20  isAd                        3004 non-null   bool                            \n",
      " 21  video.duration              3004 non-null   float64                         \n",
      " 22  statsV2.playCount           3004 non-null   float64                         \n",
      " 23  statsV2.diggCount           3004 non-null   float64                         \n",
      " 24  statsV2.commentCount        3004 non-null   float64                         \n",
      " 25  statsV2.shareCount          3004 non-null   float64                         \n",
      " 26  statsV2.collectCount        3004 non-null   float64                         \n",
      " 27  authorStats.diggCount       3004 non-null   float64                         \n",
      " 28  authorStats.followerCount   3004 non-null   float64                         \n",
      " 29  authorStats.followingCount  3004 non-null   float64                         \n",
      " 30  authorStats.heartCount      3004 non-null   float64                         \n",
      " 31  authorStats.videoCount      3004 non-null   float64                         \n",
      " 32  createTime                  3004 non-null   datetime64[ns, Asia/Ho_Chi_Minh]\n",
      " 33  hashtags                    3004 non-null   object                          \n",
      " 34  hashtag_count               3004 non-null   int64                           \n",
      "dtypes: bool(2), datetime64[ns, Asia/Ho_Chi_Minh](1), float64(12), int64(1), object(19)\n",
      "memory usage: 780.5+ KB\n"
     ]
    }
   ],
   "source": [
    "merge_df.info()"
   ]
  },
  {
   "cell_type": "code",
   "execution_count": null,
   "metadata": {},
   "outputs": [],
   "source": [
    "# merge_df.to_parquet(\n",
    "#     \"data/content-features-dataset/content_features-new-with-stats-top50WeeklyVideos.parquet\", index=False)"
   ]
  }
 ],
 "metadata": {
  "kernelspec": {
   "display_name": ".venv",
   "language": "python",
   "name": "python3"
  },
  "language_info": {
   "codemirror_mode": {
    "name": "ipython",
    "version": 3
   },
   "file_extension": ".py",
   "mimetype": "text/x-python",
   "name": "python",
   "nbconvert_exporter": "python",
   "pygments_lexer": "ipython3",
   "version": "3.10.11"
  }
 },
 "nbformat": 4,
 "nbformat_minor": 2
}
