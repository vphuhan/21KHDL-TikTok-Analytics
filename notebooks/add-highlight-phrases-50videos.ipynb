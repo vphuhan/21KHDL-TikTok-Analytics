{
 "cells": [
  {
   "cell_type": "code",
   "execution_count": 1,
   "metadata": {},
   "outputs": [],
   "source": [
    "import pandas as pd\n",
    "import os\n",
    "import json\n",
    "import numpy as np\n",
    "from IPython.display import Markdown, display\n",
    "import ast\n",
    "import re\n",
    "# Cho phép hiển thị toàn bộ nội dung transcript\n",
    "# pd.set_option('display.max_colwidth', None)\n",
    "\n",
    "# Explode cột category để mỗi\n",
    "\n",
    "os.chdir(\"/Users/vophuhan/Everything/University/Năm 4/Semester 2/Ứng dụng Phân tích dữ liệu thông minh/21KHDL-TikTok-Analytics\")"
   ]
  },
  {
   "cell_type": "code",
   "execution_count": 2,
   "metadata": {},
   "outputs": [
    {
     "name": "stdout",
     "output_type": "stream",
     "text": [
      "<class 'pandas.core.frame.DataFrame'>\n",
      "RangeIndex: 3004 entries, 0 to 3003\n",
      "Data columns (total 36 columns):\n",
      " #   Column                      Non-Null Count  Dtype                           \n",
      "---  ------                      --------------  -----                           \n",
      " 0   categories                  3004 non-null   object                          \n",
      " 1   audience_target             3004 non-null   object                          \n",
      " 2   body_analysis               3004 non-null   object                          \n",
      " 3   content_style               3004 non-null   object                          \n",
      " 4   cta_content                 3004 non-null   object                          \n",
      " 5   cta_type                    3004 non-null   object                          \n",
      " 6   emotion_keywords            3004 non-null   object                          \n",
      " 7   has_cta                     3004 non-null   bool                            \n",
      " 8   highlight_sentences         3004 non-null   object                          \n",
      " 9   hook_content                3004 non-null   object                          \n",
      " 10  hook_type                   3004 non-null   object                          \n",
      " 11  pacing                      3004 non-null   object                          \n",
      " 12  structure_style             3004 non-null   object                          \n",
      " 13  summarization               3004 non-null   object                          \n",
      " 14  tone_of_voice               3004 non-null   object                          \n",
      " 15  video.id                    3004 non-null   object                          \n",
      " 16  desc                        3004 non-null   object                          \n",
      " 17  transcript                  3004 non-null   object                          \n",
      " 18  takeaways                   3004 non-null   object                          \n",
      " 19  weekly_score_rank           3004 non-null   float64                         \n",
      " 20  isAd                        3004 non-null   bool                            \n",
      " 21  video.duration              3004 non-null   float64                         \n",
      " 22  statsV2.playCount           3004 non-null   float64                         \n",
      " 23  statsV2.diggCount           3004 non-null   float64                         \n",
      " 24  statsV2.commentCount        3004 non-null   float64                         \n",
      " 25  statsV2.shareCount          3004 non-null   float64                         \n",
      " 26  statsV2.collectCount        3004 non-null   float64                         \n",
      " 27  authorStats.diggCount       3004 non-null   float64                         \n",
      " 28  authorStats.followerCount   3004 non-null   float64                         \n",
      " 29  authorStats.followingCount  3004 non-null   float64                         \n",
      " 30  authorStats.heartCount      3004 non-null   float64                         \n",
      " 31  authorStats.videoCount      3004 non-null   float64                         \n",
      " 32  createTime                  3004 non-null   datetime64[ns, Asia/Ho_Chi_Minh]\n",
      " 33  hashtags                    3004 non-null   object                          \n",
      " 34  hashtag_count               3004 non-null   int64                           \n",
      " 35  highlight_phrases           3004 non-null   object                          \n",
      "dtypes: bool(2), datetime64[ns, Asia/Ho_Chi_Minh](1), float64(12), int64(1), object(20)\n",
      "memory usage: 803.9+ KB\n"
     ]
    }
   ],
   "source": [
    "raw_df = pd.read_parquet(\n",
    "    \"data/content-features-dataset/content_features-new-with-stats-top50WeeklyVideos.parquet\")\n",
    "raw_df.info()"
   ]
  },
  {
   "cell_type": "code",
   "execution_count": 3,
   "metadata": {},
   "outputs": [
    {
     "name": "stdout",
     "output_type": "stream",
     "text": [
      "categories: [<class 'str'>]\n",
      "audience_target: [<class 'numpy.ndarray'>]\n",
      "body_analysis: [<class 'numpy.ndarray'>]\n",
      "content_style: [<class 'numpy.ndarray'>]\n",
      "cta_content: [<class 'numpy.ndarray'>]\n",
      "cta_type: [<class 'numpy.ndarray'>]\n",
      "emotion_keywords: [<class 'numpy.ndarray'>]\n",
      "has_cta: [<class 'bool'>]\n",
      "highlight_sentences: [<class 'numpy.ndarray'>]\n",
      "hook_content: [<class 'str'>]\n",
      "hook_type: [<class 'numpy.ndarray'>]\n",
      "pacing: [<class 'numpy.ndarray'>]\n",
      "structure_style: [<class 'numpy.ndarray'>]\n",
      "summarization: [<class 'str'>]\n",
      "tone_of_voice: [<class 'numpy.ndarray'>]\n",
      "video.id: [<class 'str'>]\n",
      "desc: [<class 'str'>]\n",
      "transcript: [<class 'str'>]\n",
      "takeaways: [<class 'numpy.ndarray'>]\n",
      "weekly_score_rank: [<class 'float'>]\n",
      "isAd: [<class 'bool'>]\n",
      "video.duration: [<class 'float'>]\n",
      "statsV2.playCount: [<class 'float'>]\n",
      "statsV2.diggCount: [<class 'float'>]\n",
      "statsV2.commentCount: [<class 'float'>]\n",
      "statsV2.shareCount: [<class 'float'>]\n",
      "statsV2.collectCount: [<class 'float'>]\n",
      "authorStats.diggCount: [<class 'float'>]\n",
      "authorStats.followerCount: [<class 'float'>]\n",
      "authorStats.followingCount: [<class 'float'>]\n",
      "authorStats.heartCount: [<class 'float'>]\n",
      "authorStats.videoCount: [<class 'float'>]\n",
      "createTime: [<class 'pandas._libs.tslibs.timestamps.Timestamp'>]\n",
      "hashtags: [<class 'numpy.ndarray'>]\n",
      "hashtag_count: [<class 'int'>]\n",
      "highlight_phrases: [<class 'numpy.ndarray'>]\n"
     ]
    },
    {
     "data": {
      "text/plain": [
       "['categories',\n",
       " 'hook_content',\n",
       " 'summarization',\n",
       " 'video.id',\n",
       " 'desc',\n",
       " 'transcript']"
      ]
     },
     "execution_count": 3,
     "metadata": {},
     "output_type": "execute_result"
    }
   ],
   "source": [
    "# features_df['pacing'].astype('str').unique()\n",
    "str_cols = []\n",
    "for col in raw_df.columns:\n",
    "    print(f\"{col}: {raw_df[col].apply(type).unique()}\")\n",
    "\n",
    "    str_flag = raw_df[col].apply(lambda x: isinstance(x, str)).any()\n",
    "    if str_flag:\n",
    "        str_cols.append(col)\n",
    "\n",
    "str_cols"
   ]
  },
  {
   "cell_type": "code",
   "execution_count": 4,
   "metadata": {},
   "outputs": [
    {
     "name": "stdout",
     "output_type": "stream",
     "text": [
      "<class 'pandas.core.frame.DataFrame'>\n",
      "RangeIndex: 3004 entries, 0 to 3003\n",
      "Data columns (total 36 columns):\n",
      " #   Column                      Non-Null Count  Dtype                           \n",
      "---  ------                      --------------  -----                           \n",
      " 0   categories                  3004 non-null   object                          \n",
      " 1   audience_target             3004 non-null   object                          \n",
      " 2   body_analysis               3004 non-null   object                          \n",
      " 3   content_style               3004 non-null   object                          \n",
      " 4   cta_content                 3004 non-null   object                          \n",
      " 5   cta_type                    3004 non-null   object                          \n",
      " 6   emotion_keywords            3004 non-null   object                          \n",
      " 7   has_cta                     3004 non-null   bool                            \n",
      " 8   highlight_sentences         3004 non-null   object                          \n",
      " 9   hook_content                3004 non-null   object                          \n",
      " 10  hook_type                   3004 non-null   object                          \n",
      " 11  pacing                      3004 non-null   object                          \n",
      " 12  structure_style             3004 non-null   object                          \n",
      " 13  summarization               3004 non-null   object                          \n",
      " 14  tone_of_voice               3004 non-null   object                          \n",
      " 15  video.id                    3004 non-null   object                          \n",
      " 16  desc                        3004 non-null   object                          \n",
      " 17  transcript                  3004 non-null   object                          \n",
      " 18  takeaways                   3004 non-null   object                          \n",
      " 19  weekly_score_rank           3004 non-null   float64                         \n",
      " 20  isAd                        3004 non-null   bool                            \n",
      " 21  video.duration              3004 non-null   float64                         \n",
      " 22  statsV2.playCount           3004 non-null   float64                         \n",
      " 23  statsV2.diggCount           3004 non-null   float64                         \n",
      " 24  statsV2.commentCount        3004 non-null   float64                         \n",
      " 25  statsV2.shareCount          3004 non-null   float64                         \n",
      " 26  statsV2.collectCount        3004 non-null   float64                         \n",
      " 27  authorStats.diggCount       3004 non-null   float64                         \n",
      " 28  authorStats.followerCount   3004 non-null   float64                         \n",
      " 29  authorStats.followingCount  3004 non-null   float64                         \n",
      " 30  authorStats.heartCount      3004 non-null   float64                         \n",
      " 31  authorStats.videoCount      3004 non-null   float64                         \n",
      " 32  createTime                  3004 non-null   datetime64[ns, Asia/Ho_Chi_Minh]\n",
      " 33  hashtags                    3004 non-null   object                          \n",
      " 34  hashtag_count               3004 non-null   int64                           \n",
      " 35  highlight_sentences         3004 non-null   object                          \n",
      "dtypes: bool(2), datetime64[ns, Asia/Ho_Chi_Minh](1), float64(12), int64(1), object(20)\n",
      "memory usage: 803.9+ KB\n"
     ]
    }
   ],
   "source": [
    "df = raw_df.copy()\n",
    "df = df.rename(columns={\"highlight_phrases\": \"highlight_sentences\"})\n",
    "df.info()"
   ]
  },
  {
   "cell_type": "code",
   "execution_count": 5,
   "metadata": {},
   "outputs": [
    {
     "name": "stdout",
     "output_type": "stream",
     "text": [
      "<class 'pandas.core.frame.DataFrame'>\n",
      "RangeIndex: 3005 entries, 0 to 3004\n",
      "Data columns (total 2 columns):\n",
      " #   Column             Non-Null Count  Dtype \n",
      "---  ------             --------------  ----- \n",
      " 0   highlight_phrases  3005 non-null   object\n",
      " 1   video.id           3005 non-null   object\n",
      "dtypes: object(2)\n",
      "memory usage: 47.1+ KB\n"
     ]
    }
   ],
   "source": [
    "# @title Concat json files to df\n",
    "# Đường dẫn folder chứa JSON\n",
    "json_folder = 'data/transcripts-highlight_phrases-new'\n",
    "\n",
    "# Danh sách lưu kết quả\n",
    "json_data_list = []\n",
    "\n",
    "# Lặp qua tất cả các file JSON trong thư mục\n",
    "for filename in os.listdir(json_folder):\n",
    "    if not filename.endswith('.json'):\n",
    "        continue\n",
    "\n",
    "    file_path = os.path.join(json_folder, filename)\n",
    "    # loại bỏ phần .json để lấy video_id\n",
    "    video_id = os.path.splitext(filename)[0]\n",
    "\n",
    "    try:\n",
    "        with open(file_path, 'r', encoding='utf-8') as f:\n",
    "            content = f.read()\n",
    "        # loại bỏ ký tự điều khiển\n",
    "        content = re.sub(r'[\\x00-\\x1F\\x7F]', '', content)\n",
    "        content = json.loads(content)\n",
    "        content['video.id'] = video_id  # thêm video.id vào để merge\n",
    "        json_data_list.append(content)\n",
    "    except Exception as e:\n",
    "        # print(f\"❌ Lỗi khi đọc file {file_path}: {e}\")\n",
    "        continue\n",
    "\n",
    "# Chuyển thành DataFrame từ danh sách JSON\n",
    "json_df = pd.DataFrame(json_data_list)\n",
    "json_df.info()"
   ]
  },
  {
   "cell_type": "code",
   "execution_count": 6,
   "metadata": {},
   "outputs": [],
   "source": [
    "df = df.merge(json_df, how='left', on='video.id')"
   ]
  },
  {
   "cell_type": "code",
   "execution_count": 7,
   "metadata": {},
   "outputs": [
    {
     "name": "stdout",
     "output_type": "stream",
     "text": [
      "<class 'pandas.core.frame.DataFrame'>\n",
      "RangeIndex: 3004 entries, 0 to 3003\n",
      "Data columns (total 37 columns):\n",
      " #   Column                      Non-Null Count  Dtype                           \n",
      "---  ------                      --------------  -----                           \n",
      " 0   categories                  3004 non-null   object                          \n",
      " 1   audience_target             3004 non-null   object                          \n",
      " 2   body_analysis               3004 non-null   object                          \n",
      " 3   content_style               3004 non-null   object                          \n",
      " 4   cta_content                 3004 non-null   object                          \n",
      " 5   cta_type                    3004 non-null   object                          \n",
      " 6   emotion_keywords            3004 non-null   object                          \n",
      " 7   has_cta                     3004 non-null   bool                            \n",
      " 8   highlight_sentences         3004 non-null   object                          \n",
      " 9   hook_content                3004 non-null   object                          \n",
      " 10  hook_type                   3004 non-null   object                          \n",
      " 11  pacing                      3004 non-null   object                          \n",
      " 12  structure_style             3004 non-null   object                          \n",
      " 13  summarization               3004 non-null   object                          \n",
      " 14  tone_of_voice               3004 non-null   object                          \n",
      " 15  video.id                    3004 non-null   object                          \n",
      " 16  desc                        3004 non-null   object                          \n",
      " 17  transcript                  3004 non-null   object                          \n",
      " 18  takeaways                   3004 non-null   object                          \n",
      " 19  weekly_score_rank           3004 non-null   float64                         \n",
      " 20  isAd                        3004 non-null   bool                            \n",
      " 21  video.duration              3004 non-null   float64                         \n",
      " 22  statsV2.playCount           3004 non-null   float64                         \n",
      " 23  statsV2.diggCount           3004 non-null   float64                         \n",
      " 24  statsV2.commentCount        3004 non-null   float64                         \n",
      " 25  statsV2.shareCount          3004 non-null   float64                         \n",
      " 26  statsV2.collectCount        3004 non-null   float64                         \n",
      " 27  authorStats.diggCount       3004 non-null   float64                         \n",
      " 28  authorStats.followerCount   3004 non-null   float64                         \n",
      " 29  authorStats.followingCount  3004 non-null   float64                         \n",
      " 30  authorStats.heartCount      3004 non-null   float64                         \n",
      " 31  authorStats.videoCount      3004 non-null   float64                         \n",
      " 32  createTime                  3004 non-null   datetime64[ns, Asia/Ho_Chi_Minh]\n",
      " 33  hashtags                    3004 non-null   object                          \n",
      " 34  hashtag_count               3004 non-null   int64                           \n",
      " 35  highlight_sentences         3004 non-null   object                          \n",
      " 36  highlight_phrases           3004 non-null   object                          \n",
      "dtypes: bool(2), datetime64[ns, Asia/Ho_Chi_Minh](1), float64(12), int64(1), object(21)\n",
      "memory usage: 827.4+ KB\n"
     ]
    }
   ],
   "source": [
    "df.info()"
   ]
  },
  {
   "cell_type": "code",
   "execution_count": 8,
   "metadata": {},
   "outputs": [
    {
     "name": "stdout",
     "output_type": "stream",
     "text": [
      "categories: [<class 'str'>]\n",
      "audience_target: [<class 'numpy.ndarray'>]\n",
      "body_analysis: [<class 'numpy.ndarray'>]\n",
      "content_style: [<class 'numpy.ndarray'>]\n",
      "cta_content: [<class 'numpy.ndarray'>]\n",
      "cta_type: [<class 'numpy.ndarray'>]\n",
      "emotion_keywords: [<class 'numpy.ndarray'>]\n",
      "has_cta: [<class 'bool'>]\n",
      "highlight_sentences: [<class 'pandas.core.series.Series'>]\n",
      "hook_content: [<class 'str'>]\n",
      "hook_type: [<class 'numpy.ndarray'>]\n",
      "pacing: [<class 'numpy.ndarray'>]\n",
      "structure_style: [<class 'numpy.ndarray'>]\n",
      "summarization: [<class 'str'>]\n",
      "tone_of_voice: [<class 'numpy.ndarray'>]\n",
      "video.id: [<class 'str'>]\n",
      "desc: [<class 'str'>]\n",
      "transcript: [<class 'str'>]\n",
      "takeaways: [<class 'numpy.ndarray'>]\n",
      "weekly_score_rank: [<class 'float'>]\n",
      "isAd: [<class 'bool'>]\n",
      "video.duration: [<class 'float'>]\n",
      "statsV2.playCount: [<class 'float'>]\n",
      "statsV2.diggCount: [<class 'float'>]\n",
      "statsV2.commentCount: [<class 'float'>]\n",
      "statsV2.shareCount: [<class 'float'>]\n",
      "statsV2.collectCount: [<class 'float'>]\n",
      "authorStats.diggCount: [<class 'float'>]\n",
      "authorStats.followerCount: [<class 'float'>]\n",
      "authorStats.followingCount: [<class 'float'>]\n",
      "authorStats.heartCount: [<class 'float'>]\n",
      "authorStats.videoCount: [<class 'float'>]\n",
      "createTime: [<class 'pandas._libs.tslibs.timestamps.Timestamp'>]\n",
      "hashtags: [<class 'numpy.ndarray'>]\n",
      "hashtag_count: [<class 'int'>]\n",
      "highlight_sentences: [<class 'pandas.core.series.Series'>]\n",
      "highlight_phrases: [<class 'list'>]\n"
     ]
    },
    {
     "data": {
      "text/plain": [
       "['categories',\n",
       " 'hook_content',\n",
       " 'summarization',\n",
       " 'video.id',\n",
       " 'desc',\n",
       " 'transcript']"
      ]
     },
     "execution_count": 8,
     "metadata": {},
     "output_type": "execute_result"
    }
   ],
   "source": [
    "# features_df['pacing'].astype('str').unique()\n",
    "str_cols = []\n",
    "for col in df.columns:\n",
    "    print(f\"{col}: {df[col].apply(type).unique()}\")\n",
    "\n",
    "    str_flag = df[col].apply(lambda x: isinstance(x, str)).any()\n",
    "    if str_flag:\n",
    "        str_cols.append(col)\n",
    "\n",
    "str_cols"
   ]
  },
  {
   "cell_type": "code",
   "execution_count": 9,
   "metadata": {},
   "outputs": [],
   "source": [
    "# df.to_parquet(\n",
    "#     \"data/content-features-dataset/content_features-new-with-stats-top50WeeklyVideos.parquet\", index=False)"
   ]
  }
 ],
 "metadata": {
  "kernelspec": {
   "display_name": ".venv",
   "language": "python",
   "name": "python3"
  },
  "language_info": {
   "codemirror_mode": {
    "name": "ipython",
    "version": 3
   },
   "file_extension": ".py",
   "mimetype": "text/x-python",
   "name": "python",
   "nbconvert_exporter": "python",
   "pygments_lexer": "ipython3",
   "version": "3.10.11"
  }
 },
 "nbformat": 4,
 "nbformat_minor": 2
}
