{
 "cells": [
  {
   "cell_type": "code",
   "execution_count": 1,
   "metadata": {},
   "outputs": [],
   "source": [
    "import pandas as pd\n",
    "import os\n",
    "import json\n",
    "import numpy as np\n",
    "from types import NoneType\n",
    "import re\n",
    "from IPython.display import Markdown, display\n",
    "import ast\n",
    "# Cho phép hiển thị toàn bộ nội dung transcript\n",
    "# pd.set_option('display.max_colwidth', None)\n",
    "\n",
    "os.chdir(\"/Users/vophuhan/Everything/University/Năm 4/Semester 2/Ứng dụng Phân tích dữ liệu thông minh/21KHDL-TikTok-Analytics\")"
   ]
  },
  {
   "cell_type": "code",
   "execution_count": null,
   "metadata": {},
   "outputs": [],
   "source": [
    "import pandas as pd\n",
    "\n",
    "# Giả sử bạn đã có DataFrame df với các cột 'video.id' và 'transcript'\n",
    "# Ví dụ:\n",
    "# df = pd.DataFrame({\n",
    "#     'video.id': ['abc123', 'def456'],\n",
    "#     'transcript': ['Đây là transcript 1', 'Đây là transcript 2']\n",
    "# })\n",
    "\n",
    "df = pd.read_parquet(\n",
    "    \"data/content-features-dataset/content_features-new-with-stats-top50WeeklyVideos.parquet\")\n",
    "df = df[df['transcript'] != \"\"]\n",
    "# Ghi từng transcript ra file\n",
    "for _, row in df.iterrows():\n",
    "    file_name = f\"data/transcripts-md/{row['video.id']}.md\"\n",
    "    with open(file_name, \"w\", encoding=\"utf-8\") as f:\n",
    "        f.write(row['transcript'])"
   ]
  }
 ],
 "metadata": {
  "kernelspec": {
   "display_name": ".venv",
   "language": "python",
   "name": "python3"
  },
  "language_info": {
   "codemirror_mode": {
    "name": "ipython",
    "version": 3
   },
   "file_extension": ".py",
   "mimetype": "text/x-python",
   "name": "python",
   "nbconvert_exporter": "python",
   "pygments_lexer": "ipython3",
   "version": "3.10.11"
  }
 },
 "nbformat": 4,
 "nbformat_minor": 2
}
