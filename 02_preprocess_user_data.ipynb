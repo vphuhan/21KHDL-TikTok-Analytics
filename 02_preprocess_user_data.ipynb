{
 "cells": [
  {
   "cell_type": "markdown",
   "id": "9c59bca7",
   "metadata": {},
   "source": [
    "# Import thư viện cần thiết"
   ]
  },
  {
   "cell_type": "code",
   "execution_count": 1,
   "id": "9c91777d",
   "metadata": {},
   "outputs": [],
   "source": [
    "import pandas as pd\n",
    "import numpy as np\n",
    "import os\n",
    "import sys"
   ]
  },
  {
   "cell_type": "markdown",
   "id": "7f40b1a1",
   "metadata": {},
   "source": [
    "# Khám phá dữ liệu về video"
   ]
  },
  {
   "cell_type": "markdown",
   "id": "68858ac9",
   "metadata": {},
   "source": [
    "## Đọc dữ liệu video sau khi đã được xử lý"
   ]
  },
  {
   "cell_type": "code",
   "execution_count": 5,
   "id": "0189dc91",
   "metadata": {},
   "outputs": [
    {
     "name": "stdout",
     "output_type": "stream",
     "text": [
      "<class 'pandas.core.frame.DataFrame'>\n",
      "RangeIndex: 70996 entries, 0 to 70995\n",
      "Data columns (total 55 columns):\n",
      " #   Column                           Non-Null Count  Dtype                           \n",
      "---  ------                           --------------  -----                           \n",
      " 0   CategoryType                     70996 non-null  object                          \n",
      " 1   author.downloadSetting           70996 non-null  object                          \n",
      " 2   author.duetSetting               70996 non-null  object                          \n",
      " 3   author.id                        70996 non-null  object                          \n",
      " 4   author.nickname                  70996 non-null  object                          \n",
      " 5   author.openFavorite              70996 non-null  object                          \n",
      " 6   author.secUid                    70996 non-null  object                          \n",
      " 7   author.signature                 70996 non-null  object                          \n",
      " 8   author.stitchSetting             70996 non-null  object                          \n",
      " 9   author.uniqueId                  70996 non-null  object                          \n",
      " 10  author.verified                  70996 non-null  object                          \n",
      " 11  authorStats.diggCount            70996 non-null  float64                         \n",
      " 12  authorStats.followerCount        70996 non-null  float64                         \n",
      " 13  authorStats.followingCount       70996 non-null  float64                         \n",
      " 14  authorStats.heartCount           70996 non-null  float64                         \n",
      " 15  authorStats.videoCount           70996 non-null  float64                         \n",
      " 16  createTime                       70996 non-null  datetime64[ns, Asia/Ho_Chi_Minh]\n",
      " 17  desc                             70996 non-null  object                          \n",
      " 18  diversificationId                70996 non-null  object                          \n",
      " 19  isAd                             70996 non-null  object                          \n",
      " 20  itemCommentStatus                70996 non-null  object                          \n",
      " 21  music.authorName                 70996 non-null  object                          \n",
      " 22  music.duration                   70996 non-null  float64                         \n",
      " 23  music.id                         70996 non-null  object                          \n",
      " 24  music.isCopyrighted              70996 non-null  object                          \n",
      " 25  music.original                   70996 non-null  object                          \n",
      " 26  music.title                      70996 non-null  object                          \n",
      " 27  statsV2.collectCount             70996 non-null  float64                         \n",
      " 28  statsV2.commentCount             70996 non-null  float64                         \n",
      " 29  statsV2.diggCount                70996 non-null  float64                         \n",
      " 30  statsV2.playCount                70996 non-null  float64                         \n",
      " 31  statsV2.shareCount               70996 non-null  float64                         \n",
      " 32  textLanguage                     70996 non-null  object                          \n",
      " 33  textTranslatable                 70996 non-null  object                          \n",
      " 34  video.VQScore                    70996 non-null  float64                         \n",
      " 35  video.bitrate                    70996 non-null  float64                         \n",
      " 36  video.claInfo.enableAutoCaption  70996 non-null  object                          \n",
      " 37  video.claInfo.hasOriginalAudio   70996 non-null  object                          \n",
      " 38  video.codecType                  70996 non-null  object                          \n",
      " 39  video.definition                 70996 non-null  object                          \n",
      " 40  video.duration                   70996 non-null  float64                         \n",
      " 41  video.encodedType                70996 non-null  object                          \n",
      " 42  video.height                     70996 non-null  float64                         \n",
      " 43  video.id                         70996 non-null  object                          \n",
      " 44  video.ratio                      70996 non-null  object                          \n",
      " 45  video.videoQuality               70996 non-null  object                          \n",
      " 46  video.volumeInfo.Loudness        70996 non-null  float64                         \n",
      " 47  video.volumeInfo.Peak            70996 non-null  float64                         \n",
      " 48  video.width                      70996 non-null  float64                         \n",
      " 49  collectTime                      70996 non-null  datetime64[ns, Asia/Ho_Chi_Minh]\n",
      " 50  hashtags                         70996 non-null  object                          \n",
      " 51  hashtag_count                    70996 non-null  int64                           \n",
      " 52  createTime_year                  70996 non-null  int32                           \n",
      " 53  createTime_week                  70996 non-null  UInt32                          \n",
      " 54  year_week                        70996 non-null  object                          \n",
      "dtypes: UInt32(1), datetime64[ns, Asia/Ho_Chi_Minh](2), float64(18), int32(1), int64(1), object(32)\n",
      "memory usage: 29.3+ MB\n"
     ]
    }
   ],
   "source": [
    "video_df = pd.read_parquet(\"preprocessed_videos.parquet\")\n",
    "video_df.info()"
   ]
  },
  {
   "cell_type": "markdown",
   "id": "61b88298",
   "metadata": {},
   "source": [
    "## Danh sách các user được đề cập trong dữ liệu về video"
   ]
  },
  {
   "cell_type": "code",
   "execution_count": 9,
   "id": "12259af7",
   "metadata": {},
   "outputs": [
    {
     "name": "stdout",
     "output_type": "stream",
     "text": [
      "Number of unique author ids: 264\n"
     ]
    }
   ],
   "source": [
    "unique_author_ids = video_df[\"author.id\"].unique()\n",
    "print(f\"Number of unique author ids: {len(unique_author_ids)}\")"
   ]
  },
  {
   "cell_type": "markdown",
   "id": "137817c6",
   "metadata": {},
   "source": [
    "# Tiền xử lý dữ liệu về user"
   ]
  },
  {
   "cell_type": "markdown",
   "id": "d823102a",
   "metadata": {},
   "source": [
    "## Đọc dữ liệu user"
   ]
  },
  {
   "cell_type": "markdown",
   "id": "1cb12d6d",
   "metadata": {},
   "source": [
    "Xác định trước kiểu dữ liệu phù hợp cho các cột trong dữ liệu về người dùng"
   ]
  },
  {
   "cell_type": "code",
   "execution_count": 20,
   "id": "f53abef0",
   "metadata": {},
   "outputs": [],
   "source": [
    "user_dtypes = {\n",
    "    \"user.bioLink.risk\": np.object_,\n",
    "    \"user.commerceUserInfo.category\": np.object_,\n",
    "    \"user.commerceUserInfo.categoryButton\": np.object_,\n",
    "    \"user.downloadSetting\": np.object_,\n",
    "    \"user.duetSetting\": np.object_,\n",
    "    \"user.followingVisibility\": np.object_,\n",
    "    \"user.id\": np.object_,\n",
    "    \"user.nickNameModifyTime\": np.object_,\n",
    "    \"user.nickname\": np.object_,\n",
    "    \"user.profileEmbedPermission\": np.object_,\n",
    "    \"user.profileTab.showQuestionTab\": np.object_,\n",
    "    \"user.relation\": np.object_,\n",
    "    \"user.secUid\": np.object_,\n",
    "    \"user.signature\": np.object_,\n",
    "    \"user.stitchSetting\": np.object_,\n",
    "    \"user.uniqueId\": np.object_,\n",
    "    \"user.bioLink.link\": np.object_,\n",
    "    \"user.roomId\": np.object_,\n",
    "}"
   ]
  },
  {
   "cell_type": "code",
   "execution_count": 21,
   "id": "6ef4886e",
   "metadata": {},
   "outputs": [
    {
     "name": "stdout",
     "output_type": "stream",
     "text": [
      "<class 'pandas.core.frame.DataFrame'>\n",
      "RangeIndex: 264 entries, 0 to 263\n",
      "Data columns (total 39 columns):\n",
      " #   Column                                      Non-Null Count  Dtype  \n",
      "---  ------                                      --------------  -----  \n",
      " 0   stats.diggCount                             264 non-null    int64  \n",
      " 1   stats.followerCount                         264 non-null    int64  \n",
      " 2   stats.followingCount                        264 non-null    int64  \n",
      " 3   stats.friendCount                           264 non-null    int64  \n",
      " 4   stats.heart                                 264 non-null    int64  \n",
      " 5   stats.heartCount                            264 non-null    int64  \n",
      " 6   stats.videoCount                            264 non-null    int64  \n",
      " 7   user.bioLink.risk                           119 non-null    object \n",
      " 8   user.canExpPlaylist                         264 non-null    bool   \n",
      " 9   user.commentSetting                         264 non-null    int64  \n",
      " 10  user.commerceUserInfo.category              44 non-null     object \n",
      " 11  user.commerceUserInfo.categoryButton        44 non-null     object \n",
      " 12  user.commerceUserInfo.commerceUser          264 non-null    bool   \n",
      " 13  user.commerceUserInfo.downLoadLink.android  0 non-null      float64\n",
      " 14  user.commerceUserInfo.downLoadLink.ios      0 non-null      float64\n",
      " 15  user.downloadSetting                        264 non-null    object \n",
      " 16  user.duetSetting                            264 non-null    object \n",
      " 17  user.followingVisibility                    264 non-null    object \n",
      " 18  user.ftc                                    264 non-null    bool   \n",
      " 19  user.id                                     264 non-null    object \n",
      " 20  user.isADVirtual                            264 non-null    bool   \n",
      " 21  user.isEmbedBanned                          264 non-null    bool   \n",
      " 22  user.nickNameModifyTime                     247 non-null    object \n",
      " 23  user.nickname                               264 non-null    object \n",
      " 24  user.openFavorite                           264 non-null    bool   \n",
      " 25  user.privateAccount                         264 non-null    bool   \n",
      " 26  user.profileEmbedPermission                 264 non-null    object \n",
      " 27  user.profileTab.showPlayListTab             264 non-null    bool   \n",
      " 28  user.profileTab.showQuestionTab             77 non-null     object \n",
      " 29  user.relation                               264 non-null    object \n",
      " 30  user.secUid                                 264 non-null    object \n",
      " 31  user.secret                                 264 non-null    bool   \n",
      " 32  user.signature                              259 non-null    object \n",
      " 33  user.stitchSetting                          264 non-null    object \n",
      " 34  user.ttSeller                               264 non-null    bool   \n",
      " 35  user.uniqueId                               264 non-null    object \n",
      " 36  user.verified                               264 non-null    bool   \n",
      " 37  user.bioLink.link                           12 non-null     object \n",
      " 38  user.roomId                                 1 non-null      object \n",
      "dtypes: bool(11), float64(2), int64(8), object(18)\n",
      "memory usage: 60.7+ KB\n"
     ]
    }
   ],
   "source": [
    "user_df = pd.read_csv(\"data/interim/final_raw_users.csv\", dtype=user_dtypes)\n",
    "user_df.info()"
   ]
  },
  {
   "cell_type": "markdown",
   "id": "5f7ef6f3",
   "metadata": {},
   "source": [
    "## Chỉ giữ lại các user có trong dữ liệu về video"
   ]
  },
  {
   "cell_type": "code",
   "execution_count": 22,
   "id": "ee06f171",
   "metadata": {},
   "outputs": [
    {
     "name": "stdout",
     "output_type": "stream",
     "text": [
      "All user ids in video_df are present in user_df.\n"
     ]
    }
   ],
   "source": [
    "# Check if the user ids in the video_df are present in the user_df\n",
    "missing_user_ids = set(video_df[\"author.id\"]) - set(user_df[\"user.id\"])\n",
    "if missing_user_ids:\n",
    "    print(f\"Missing user ids in user_df: {missing_user_ids}\")\n",
    "else:\n",
    "    print(\"All user ids in video_df are present in user_df.\")"
   ]
  },
  {
   "cell_type": "markdown",
   "id": "52c67165",
   "metadata": {},
   "source": [
    "## Loại bỏ các cột bị thiếu quá nhiều dữ liệu"
   ]
  },
  {
   "cell_type": "markdown",
   "id": "d66bd365",
   "metadata": {},
   "source": [
    "Tính tỷ lệ thiếu giá trị của các cột"
   ]
  },
  {
   "cell_type": "code",
   "execution_count": 25,
   "id": "a40dd811",
   "metadata": {},
   "outputs": [
    {
     "name": "stdout",
     "output_type": "stream",
     "text": [
      "Missing rate for each column in user_df:\n"
     ]
    },
    {
     "data": {
      "text/html": [
       "<div>\n",
       "<style scoped>\n",
       "    .dataframe tbody tr th:only-of-type {\n",
       "        vertical-align: middle;\n",
       "    }\n",
       "\n",
       "    .dataframe tbody tr th {\n",
       "        vertical-align: top;\n",
       "    }\n",
       "\n",
       "    .dataframe thead th {\n",
       "        text-align: right;\n",
       "    }\n",
       "</style>\n",
       "<table border=\"1\" class=\"dataframe\">\n",
       "  <thead>\n",
       "    <tr style=\"text-align: right;\">\n",
       "      <th></th>\n",
       "      <th>missing_rate</th>\n",
       "    </tr>\n",
       "    <tr>\n",
       "      <th>column_name</th>\n",
       "      <th></th>\n",
       "    </tr>\n",
       "  </thead>\n",
       "  <tbody>\n",
       "    <tr>\n",
       "      <th>user.commerceUserInfo.downLoadLink.ios</th>\n",
       "      <td>100.00%</td>\n",
       "    </tr>\n",
       "    <tr>\n",
       "      <th>user.commerceUserInfo.downLoadLink.android</th>\n",
       "      <td>100.00%</td>\n",
       "    </tr>\n",
       "    <tr>\n",
       "      <th>user.roomId</th>\n",
       "      <td>99.62%</td>\n",
       "    </tr>\n",
       "    <tr>\n",
       "      <th>user.bioLink.link</th>\n",
       "      <td>95.45%</td>\n",
       "    </tr>\n",
       "    <tr>\n",
       "      <th>user.commerceUserInfo.categoryButton</th>\n",
       "      <td>83.33%</td>\n",
       "    </tr>\n",
       "    <tr>\n",
       "      <th>user.commerceUserInfo.category</th>\n",
       "      <td>83.33%</td>\n",
       "    </tr>\n",
       "    <tr>\n",
       "      <th>user.profileTab.showQuestionTab</th>\n",
       "      <td>70.83%</td>\n",
       "    </tr>\n",
       "    <tr>\n",
       "      <th>user.bioLink.risk</th>\n",
       "      <td>54.92%</td>\n",
       "    </tr>\n",
       "    <tr>\n",
       "      <th>user.nickNameModifyTime</th>\n",
       "      <td>6.44%</td>\n",
       "    </tr>\n",
       "    <tr>\n",
       "      <th>user.signature</th>\n",
       "      <td>1.89%</td>\n",
       "    </tr>\n",
       "  </tbody>\n",
       "</table>\n",
       "</div>"
      ],
      "text/plain": [
       "                                           missing_rate\n",
       "column_name                                            \n",
       "user.commerceUserInfo.downLoadLink.ios          100.00%\n",
       "user.commerceUserInfo.downLoadLink.android      100.00%\n",
       "user.roomId                                      99.62%\n",
       "user.bioLink.link                                95.45%\n",
       "user.commerceUserInfo.categoryButton             83.33%\n",
       "user.commerceUserInfo.category                   83.33%\n",
       "user.profileTab.showQuestionTab                  70.83%\n",
       "user.bioLink.risk                                54.92%\n",
       "user.nickNameModifyTime                           6.44%\n",
       "user.signature                                    1.89%"
      ]
     },
     "execution_count": 25,
     "metadata": {},
     "output_type": "execute_result"
    }
   ],
   "source": [
    "# Calculate the missing rate for each column in user_df\n",
    "missing_rate = user_df.isnull().mean()\n",
    "missing_rate = missing_rate[missing_rate > 0].sort_values(\n",
    "    ascending=False).reset_index()\n",
    "missing_rate.columns = [\"column_name\", \"missing_rate\"]\n",
    "missing_rate[\"missing_rate\"] = missing_rate[\"missing_rate\"].apply(\n",
    "    lambda x: f\"{x:.2%}\")\n",
    "missing_rate = missing_rate.set_index(\"column_name\")\n",
    "# Print the missing rate for each column in user_df\n",
    "print(\"Missing rate for each column in user_df:\")\n",
    "missing_rate"
   ]
  },
  {
   "cell_type": "markdown",
   "id": "a14f6a39",
   "metadata": {},
   "source": [
    "Loại bỏ tất cả các cột bị thiếu dữ liệu"
   ]
  },
  {
   "cell_type": "code",
   "execution_count": 26,
   "id": "5b081284",
   "metadata": {},
   "outputs": [],
   "source": [
    "# Remove all columns with more than 50% missing values\n",
    "user_df = user_df.dropna(thresh=len(user_df) * 0.5, axis=1)"
   ]
  },
  {
   "cell_type": "code",
   "execution_count": 27,
   "id": "03f6a721",
   "metadata": {},
   "outputs": [
    {
     "name": "stdout",
     "output_type": "stream",
     "text": [
      "Missing rate for each column in user_df:\n"
     ]
    },
    {
     "data": {
      "text/html": [
       "<div>\n",
       "<style scoped>\n",
       "    .dataframe tbody tr th:only-of-type {\n",
       "        vertical-align: middle;\n",
       "    }\n",
       "\n",
       "    .dataframe tbody tr th {\n",
       "        vertical-align: top;\n",
       "    }\n",
       "\n",
       "    .dataframe thead th {\n",
       "        text-align: right;\n",
       "    }\n",
       "</style>\n",
       "<table border=\"1\" class=\"dataframe\">\n",
       "  <thead>\n",
       "    <tr style=\"text-align: right;\">\n",
       "      <th></th>\n",
       "      <th>missing_rate</th>\n",
       "    </tr>\n",
       "    <tr>\n",
       "      <th>column_name</th>\n",
       "      <th></th>\n",
       "    </tr>\n",
       "  </thead>\n",
       "  <tbody>\n",
       "    <tr>\n",
       "      <th>user.nickNameModifyTime</th>\n",
       "      <td>6.44%</td>\n",
       "    </tr>\n",
       "    <tr>\n",
       "      <th>user.signature</th>\n",
       "      <td>1.89%</td>\n",
       "    </tr>\n",
       "  </tbody>\n",
       "</table>\n",
       "</div>"
      ],
      "text/plain": [
       "                        missing_rate\n",
       "column_name                         \n",
       "user.nickNameModifyTime        6.44%\n",
       "user.signature                 1.89%"
      ]
     },
     "execution_count": 27,
     "metadata": {},
     "output_type": "execute_result"
    }
   ],
   "source": [
    "# Calculate the missing rate for each column in user_df\n",
    "missing_rate = user_df.isnull().mean()\n",
    "missing_rate = missing_rate[missing_rate > 0].sort_values(\n",
    "    ascending=False).reset_index()\n",
    "missing_rate.columns = [\"column_name\", \"missing_rate\"]\n",
    "missing_rate[\"missing_rate\"] = missing_rate[\"missing_rate\"].apply(\n",
    "    lambda x: f\"{x:.2%}\")\n",
    "missing_rate = missing_rate.set_index(\"column_name\")\n",
    "# Print the missing rate for each column in user_df\n",
    "print(\"Missing rate for each column in user_df:\")\n",
    "missing_rate"
   ]
  },
  {
   "cell_type": "markdown",
   "id": "b797a19e",
   "metadata": {},
   "source": [
    "Loại bỏ các cột chỉ có duy nhất một giá trị"
   ]
  },
  {
   "cell_type": "code",
   "execution_count": 31,
   "id": "0ef3e3c6",
   "metadata": {},
   "outputs": [
    {
     "name": "stdout",
     "output_type": "stream",
     "text": [
      "<class 'pandas.core.frame.DataFrame'>\n",
      "RangeIndex: 264 entries, 0 to 263\n",
      "Data columns (total 22 columns):\n",
      " #   Column                              Non-Null Count  Dtype \n",
      "---  ------                              --------------  ----- \n",
      " 0   stats.diggCount                     264 non-null    int64 \n",
      " 1   stats.followerCount                 264 non-null    int64 \n",
      " 2   stats.followingCount                264 non-null    int64 \n",
      " 3   stats.friendCount                   264 non-null    int64 \n",
      " 4   stats.heart                         264 non-null    int64 \n",
      " 5   stats.heartCount                    264 non-null    int64 \n",
      " 6   stats.videoCount                    264 non-null    int64 \n",
      " 7   user.commerceUserInfo.commerceUser  264 non-null    bool  \n",
      " 8   user.downloadSetting                264 non-null    object\n",
      " 9   user.duetSetting                    264 non-null    object\n",
      " 10  user.followingVisibility            264 non-null    object\n",
      " 11  user.id                             264 non-null    object\n",
      " 12  user.nickNameModifyTime             247 non-null    object\n",
      " 13  user.nickname                       264 non-null    object\n",
      " 14  user.openFavorite                   264 non-null    bool  \n",
      " 15  user.profileTab.showPlayListTab     264 non-null    bool  \n",
      " 16  user.secUid                         264 non-null    object\n",
      " 17  user.signature                      259 non-null    object\n",
      " 18  user.stitchSetting                  264 non-null    object\n",
      " 19  user.ttSeller                       264 non-null    bool  \n",
      " 20  user.uniqueId                       264 non-null    object\n",
      " 21  user.verified                       264 non-null    bool  \n",
      "dtypes: bool(5), int64(7), object(10)\n",
      "memory usage: 36.5+ KB\n"
     ]
    }
   ],
   "source": [
    "# Loại bỏ các cột chỉ có một giá trị duy nhất\n",
    "user_df = user_df.loc[:, user_df.nunique() > 1]\n",
    "user_df.info()"
   ]
  },
  {
   "cell_type": "markdown",
   "id": "81eeb605",
   "metadata": {},
   "source": [
    "Điền giá trị \"others\" cho các cột có giá trị là \"unknown\""
   ]
  },
  {
   "cell_type": "code",
   "execution_count": 32,
   "id": "362c75a4",
   "metadata": {},
   "outputs": [],
   "source": [
    "# Điền giá trị \"others\" cho các cột không có kiểu dữ kiệu số \n",
    "non_numeric_columns = user_df.select_dtypes(exclude=[np.number]).columns\n",
    "for col in non_numeric_columns:\n",
    "    user_df[col] = user_df[col].fillna(\"others\")"
   ]
  },
  {
   "cell_type": "markdown",
   "id": "b72ffe95",
   "metadata": {},
   "source": [
    "## Kết quả sau khi tiền xử lý dữ liệu về user"
   ]
  },
  {
   "cell_type": "code",
   "execution_count": 34,
   "id": "c6c5976b",
   "metadata": {},
   "outputs": [
    {
     "name": "stdout",
     "output_type": "stream",
     "text": [
      "<class 'pandas.core.frame.DataFrame'>\n",
      "RangeIndex: 264 entries, 0 to 263\n",
      "Data columns (total 22 columns):\n",
      " #   Column                              Non-Null Count  Dtype \n",
      "---  ------                              --------------  ----- \n",
      " 0   stats.diggCount                     264 non-null    int64 \n",
      " 1   stats.followerCount                 264 non-null    int64 \n",
      " 2   stats.followingCount                264 non-null    int64 \n",
      " 3   stats.friendCount                   264 non-null    int64 \n",
      " 4   stats.heart                         264 non-null    int64 \n",
      " 5   stats.heartCount                    264 non-null    int64 \n",
      " 6   stats.videoCount                    264 non-null    int64 \n",
      " 7   user.commerceUserInfo.commerceUser  264 non-null    bool  \n",
      " 8   user.downloadSetting                264 non-null    object\n",
      " 9   user.duetSetting                    264 non-null    object\n",
      " 10  user.followingVisibility            264 non-null    object\n",
      " 11  user.id                             264 non-null    object\n",
      " 12  user.nickNameModifyTime             264 non-null    object\n",
      " 13  user.nickname                       264 non-null    object\n",
      " 14  user.openFavorite                   264 non-null    bool  \n",
      " 15  user.profileTab.showPlayListTab     264 non-null    bool  \n",
      " 16  user.secUid                         264 non-null    object\n",
      " 17  user.signature                      264 non-null    object\n",
      " 18  user.stitchSetting                  264 non-null    object\n",
      " 19  user.ttSeller                       264 non-null    bool  \n",
      " 20  user.uniqueId                       264 non-null    object\n",
      " 21  user.verified                       264 non-null    bool  \n",
      "dtypes: bool(5), int64(7), object(10)\n",
      "memory usage: 36.5+ KB\n"
     ]
    }
   ],
   "source": [
    "user_df.info()"
   ]
  },
  {
   "cell_type": "markdown",
   "id": "b21a48e9",
   "metadata": {},
   "source": [
    "## Lữu dữ liệu thành file Parquet"
   ]
  },
  {
   "cell_type": "code",
   "execution_count": 35,
   "id": "66ad7682",
   "metadata": {},
   "outputs": [],
   "source": [
    "# Save the cleaned user_df to a new parquet file\n",
    "user_df.to_parquet(\"./data/processed/cleaned_user_info.parquet\", index=False)"
   ]
  },
  {
   "cell_type": "code",
   "execution_count": 38,
   "id": "13546c81",
   "metadata": {},
   "outputs": [
    {
     "name": "stdout",
     "output_type": "stream",
     "text": [
      "<class 'pandas.core.frame.DataFrame'>\n",
      "RangeIndex: 264 entries, 0 to 263\n",
      "Data columns (total 22 columns):\n",
      " #   Column                              Non-Null Count  Dtype \n",
      "---  ------                              --------------  ----- \n",
      " 0   stats.diggCount                     264 non-null    int64 \n",
      " 1   stats.followerCount                 264 non-null    int64 \n",
      " 2   stats.followingCount                264 non-null    int64 \n",
      " 3   stats.friendCount                   264 non-null    int64 \n",
      " 4   stats.heart                         264 non-null    int64 \n",
      " 5   stats.heartCount                    264 non-null    int64 \n",
      " 6   stats.videoCount                    264 non-null    int64 \n",
      " 7   user.commerceUserInfo.commerceUser  264 non-null    bool  \n",
      " 8   user.downloadSetting                264 non-null    object\n",
      " 9   user.duetSetting                    264 non-null    object\n",
      " 10  user.followingVisibility            264 non-null    object\n",
      " 11  user.id                             264 non-null    object\n",
      " 12  user.nickNameModifyTime             264 non-null    object\n",
      " 13  user.nickname                       264 non-null    object\n",
      " 14  user.openFavorite                   264 non-null    bool  \n",
      " 15  user.profileTab.showPlayListTab     264 non-null    bool  \n",
      " 16  user.secUid                         264 non-null    object\n",
      " 17  user.signature                      264 non-null    object\n",
      " 18  user.stitchSetting                  264 non-null    object\n",
      " 19  user.ttSeller                       264 non-null    bool  \n",
      " 20  user.uniqueId                       264 non-null    object\n",
      " 21  user.verified                       264 non-null    bool  \n",
      "dtypes: bool(5), int64(7), object(10)\n",
      "memory usage: 36.5+ KB\n"
     ]
    }
   ],
   "source": [
    "pd.read_parquet(\n",
    "    \"./data/processed/cleaned_user_info.parquet\").info()"
   ]
  }
 ],
 "metadata": {
  "kernelspec": {
   "display_name": ".venv",
   "language": "python",
   "name": "python3"
  },
  "language_info": {
   "codemirror_mode": {
    "name": "ipython",
    "version": 3
   },
   "file_extension": ".py",
   "mimetype": "text/x-python",
   "name": "python",
   "nbconvert_exporter": "python",
   "pygments_lexer": "ipython3",
   "version": "3.11.10"
  }
 },
 "nbformat": 4,
 "nbformat_minor": 5
}
