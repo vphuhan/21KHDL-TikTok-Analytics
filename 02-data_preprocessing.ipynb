{
 "cells": [
  {
   "cell_type": "markdown",
   "metadata": {},
   "source": [
    "# Import các thư viện cần thiết"
   ]
  },
  {
   "cell_type": "code",
   "execution_count": null,
   "metadata": {},
   "outputs": [],
   "source": [
    "import os\n",
    "from tqdm import tqdm\n",
    "from typing import List\n",
    "import pandas as pd\n",
    "\n",
    "# Display all columns\n",
    "pd.set_option('display.max_columns', None)"
   ]
  },
  {
   "cell_type": "markdown",
   "metadata": {},
   "source": [
    "# 2. Tiền xử lý dữ liệu thống kê từ video"
   ]
  },
  {
   "cell_type": "markdown",
   "metadata": {},
   "source": [
    "Đọc dữ liệu thống kê video thành DataFrame."
   ]
  },
  {
   "cell_type": "code",
   "execution_count": 18,
   "metadata": {},
   "outputs": [
    {
     "name": "stdout",
     "output_type": "stream",
     "text": [
      "<class 'pandas.core.frame.DataFrame'>\n",
      "RangeIndex: 32603 entries, 0 to 32602\n",
      "Columns: 136 entries, AIGCDescription to audio_to_text\n",
      "dtypes: bool(20), float64(37), int64(36), object(43)\n",
      "memory usage: 29.5+ MB\n"
     ]
    }
   ],
   "source": [
    "video_info_df = pd.read_csv(\"data/interim/video_info.csv\", low_memory=False)\n",
    "video_info_df.info()"
   ]
  },
  {
   "cell_type": "markdown",
   "metadata": {},
   "source": [
    "Loại bỏ các cột có tỷ lệ thiếu dữ liệu lớn hơn 50%"
   ]
  },
  {
   "cell_type": "code",
   "execution_count": 19,
   "metadata": {},
   "outputs": [
    {
     "data": {
      "text/plain": [
       "AIGCDescription      1.0\n",
       "music.coverThumb     1.0\n",
       "music.coverMedium    1.0\n",
       "music.coverLarge     1.0\n",
       "audio_to_text        1.0\n",
       "dtype: float64"
      ]
     },
     "execution_count": 19,
     "metadata": {},
     "output_type": "execute_result"
    }
   ],
   "source": [
    "# Calculate the missing ratio\n",
    "missing_ratio = video_info_df.isna().sum() / len(video_info_df)\n",
    "\n",
    "# Sort the missing ratio in descending order\n",
    "missing_ratio = missing_ratio.sort_values(ascending=False)\n",
    "\n",
    "# Display first 5 rows\n",
    "missing_ratio.head()"
   ]
  },
  {
   "cell_type": "code",
   "execution_count": 20,
   "metadata": {},
   "outputs": [],
   "source": [
    "# Remove columns with missing ratios greater than 0.50\n",
    "video_info_df = video_info_df.dropna(\n",
    "    axis='columns', thresh=0.50 * len(video_info_df)\n",
    ")"
   ]
  },
  {
   "cell_type": "code",
   "execution_count": 23,
   "metadata": {},
   "outputs": [
    {
     "name": "stdout",
     "output_type": "stream",
     "text": [
      "duetEnabled                                       :  20.29%\n",
      "stitchEnabled                                     :  19.87%\n",
      "video.claInfo.originalLanguageInfo.language       :  18.91%\n",
      "video.claInfo.originalLanguageInfo.canTranslateRealTimeNoCheck:  18.91%\n",
      "video.claInfo.originalLanguageInfo.languageID     :  18.91%\n"
     ]
    }
   ],
   "source": [
    "# Calculate the missing ratio\n",
    "missing_ratio = video_info_df.isna().sum() / len(video_info_df)\n",
    "\n",
    "# Sort the missing ratio in descending order\n",
    "missing_ratio = missing_ratio.sort_values(ascending=False)\n",
    "\n",
    "# Display the missing ratio\n",
    "for column, ratio in missing_ratio[:5].items():\n",
    "    print(f\"{column:50}:{ratio:8.2%}\")"
   ]
  },
  {
   "cell_type": "code",
   "execution_count": 24,
   "metadata": {},
   "outputs": [],
   "source": [
    "# video_info_df.info()"
   ]
  },
  {
   "cell_type": "markdown",
   "metadata": {},
   "source": [
    "Vì các cột có tên bắt đầu với `stats.*` chứa cùng thông tin với các cột có tên bắt đầu với `statsV2.*`, nhưng không có thông tin về `repostCount` như `statsV2.*`. Nên ta sẽ loại bỏ các cột có tên bắt đầu với `stats.*`.\n"
   ]
  },
  {
   "cell_type": "code",
   "execution_count": 25,
   "metadata": {},
   "outputs": [],
   "source": [
    "# Remove columns starting with \"stats.\"\n",
    "video_info_df = video_info_df[\n",
    "    [column for column in video_info_df.columns\n",
    "            if not column.startswith(\"stats.\")]\n",
    "]\n",
    "\n",
    "# video_info_df.info()"
   ]
  },
  {
   "cell_type": "markdown",
   "metadata": {},
   "source": [
    "Xóa các cột bắt đầu với `video.claInfo.originalLanguageInfo.*` vì chúng chứa thông tin không cần thiết.\n"
   ]
  },
  {
   "cell_type": "code",
   "execution_count": 26,
   "metadata": {},
   "outputs": [],
   "source": [
    "# Remove columns starting with \"video.claInfo.originalLanguageInfo.\"\n",
    "video_info_df = video_info_df[\n",
    "    [column for column in video_info_df.columns\n",
    "            if not column.startswith(\"video.claInfo.originalLanguageInfo.\")]\n",
    "]\n",
    "\n",
    "# video_info_df.info()"
   ]
  },
  {
   "cell_type": "markdown",
   "metadata": {},
   "source": [
    "Tạo một cột chứa danh sách các `hashtag` được trích xuất từ mô tả video. Và tính số lượng hashtag trong mỗi video."
   ]
  },
  {
   "cell_type": "code",
   "execution_count": 27,
   "metadata": {},
   "outputs": [
    {
     "name": "stderr",
     "output_type": "stream",
     "text": [
      "100%|██████████| 32603/32603 [00:07<00:00, 4202.30it/s]\n"
     ]
    }
   ],
   "source": [
    "# Replace missing values in \"desc\" column with an empty string\n",
    "video_info_df[\"desc\"] = video_info_df[\"desc\"].fillna(\"\")\n",
    "video_info_df[\"desc\"] = video_info_df[\"desc\"].astype(str)\n",
    "video_info_df[\"desc\"] = video_info_df[\"desc\"].str.strip()\n",
    "\n",
    "# Create a new column for the hashtags\n",
    "# and the number of hashtags in each video\n",
    "video_info_df[\"hashtags\"] = [\"\"] * len(video_info_df)\n",
    "video_info_df[\"num_hashtags\"] = [0] * len(video_info_df)\n",
    "\n",
    "# Extract hashtags from the \"desc\" column\n",
    "# and Get the number of hashtags in each video\n",
    "for index in tqdm(range(len(video_info_df))):\n",
    "    # Get the description of the video\n",
    "    description = video_info_df.loc[index, \"desc\"].strip().lower()\n",
    "\n",
    "    if description:\n",
    "        # Remove emojis\n",
    "        description = description.encode('ascii', 'ignore').decode('ascii')\n",
    "\n",
    "        # Add a space before all \"#\" characters\n",
    "        description = description.replace(\"#\", \" #\")\n",
    "\n",
    "        # Find all strings starting with \"#\" and followed by a word\n",
    "        hashtags = [word[1:] for word in description.split()\n",
    "                    if word.startswith(\"#\")]\n",
    "\n",
    "        # Extract hashtags from the description\n",
    "        video_info_df.loc[index, \"hashtags\"] = \",\".join(hashtags).strip()\n",
    "\n",
    "        # Get the number of hashtags\n",
    "        video_info_df.loc[index, \"num_hashtags\"] = len(hashtags)\n",
    "    else:\n",
    "        video_info_df.loc[index, \"hashtags\"] = \"\"\n",
    "        video_info_df.loc[index, \"num_hashtags\"] = 0"
   ]
  },
  {
   "cell_type": "code",
   "execution_count": 35,
   "metadata": {},
   "outputs": [
    {
     "data": {
      "text/html": [
       "<div>\n",
       "<style scoped>\n",
       "    .dataframe tbody tr th:only-of-type {\n",
       "        vertical-align: middle;\n",
       "    }\n",
       "\n",
       "    .dataframe tbody tr th {\n",
       "        vertical-align: top;\n",
       "    }\n",
       "\n",
       "    .dataframe thead th {\n",
       "        text-align: right;\n",
       "    }\n",
       "</style>\n",
       "<table border=\"1\" class=\"dataframe\">\n",
       "  <thead>\n",
       "    <tr style=\"text-align: right;\">\n",
       "      <th></th>\n",
       "      <th>hashtags</th>\n",
       "      <th>num_hashtags</th>\n",
       "    </tr>\n",
       "  </thead>\n",
       "  <tbody>\n",
       "    <tr>\n",
       "      <th>3118</th>\n",
       "      <td>angithuongoi,mukbang,xuhuongtiktok,ancungtikto...</td>\n",
       "      <td>5</td>\n",
       "    </tr>\n",
       "    <tr>\n",
       "      <th>2591</th>\n",
       "      <td>ancungdaune,reviewanngon,ancungtiktok,octrungm...</td>\n",
       "      <td>5</td>\n",
       "    </tr>\n",
       "    <tr>\n",
       "      <th>30084</th>\n",
       "      <td>ancungtiktok,learnontiktok,eatcleanhong</td>\n",
       "      <td>3</td>\n",
       "    </tr>\n",
       "    <tr>\n",
       "      <th>22194</th>\n",
       "      <td>nhanxphanh,ancungtiktok,nuoctuongchinsu,thomng...</td>\n",
       "      <td>5</td>\n",
       "    </tr>\n",
       "    <tr>\n",
       "      <th>32325</th>\n",
       "      <td>ngayquockhanh,happyvietnam,khatvonghungcuong,s...</td>\n",
       "      <td>6</td>\n",
       "    </tr>\n",
       "  </tbody>\n",
       "</table>\n",
       "</div>"
      ],
      "text/plain": [
       "                                                hashtags  num_hashtags\n",
       "3118   angithuongoi,mukbang,xuhuongtiktok,ancungtikto...             5\n",
       "2591   ancungdaune,reviewanngon,ancungtiktok,octrungm...             5\n",
       "30084            ancungtiktok,learnontiktok,eatcleanhong             3\n",
       "22194  nhanxphanh,ancungtiktok,nuoctuongchinsu,thomng...             5\n",
       "32325  ngayquockhanh,happyvietnam,khatvonghungcuong,s...             6"
      ]
     },
     "execution_count": 35,
     "metadata": {},
     "output_type": "execute_result"
    }
   ],
   "source": [
    "video_info_df[[\"hashtags\", \"num_hashtags\"]].sample(n=5)"
   ]
  },
  {
   "cell_type": "code",
   "execution_count": null,
   "metadata": {},
   "outputs": [],
   "source": [
    "video_info_df['hashtags'] = video_info_df['hashtags'].apply(lambda x: x.split(',') if isinstance(x, str) and x.strip() else [])\n",
    "video_info_df[\"hashtags\"] = video_info_df[\"hashtags\"].apply(lambda x: x if isinstance(x, list) else [])\n"
   ]
  },
  {
   "cell_type": "code",
   "execution_count": null,
   "metadata": {},
   "outputs": [],
   "source": [
    "video_info_df['createTime'] = pd.to_datetime(video_info_df['createTime'], unit='s')\n"
   ]
  },
  {
   "cell_type": "markdown",
   "metadata": {},
   "source": [
    "Lưu DataFrame đã xử lý vào file `merged_data.csv`."
   ]
  },
  {
   "cell_type": "code",
   "execution_count": null,
   "metadata": {},
   "outputs": [],
   "source": [
    "# merged_df.to_csv(\"data/processed/merged_data.csv\", index=False)"
   ]
  },
  {
   "cell_type": "code",
   "execution_count": 54,
   "metadata": {},
   "outputs": [],
   "source": [
    "# merged_df.to_parquet(\"data/processed/merged_data.parquet\", index=False)"
   ]
  },
  {
   "cell_type": "markdown",
   "metadata": {},
   "source": [
    "# ========================================"
   ]
  }
 ],
 "metadata": {
  "kernelspec": {
   "display_name": ".venv",
   "language": "python",
   "name": "python3"
  },
  "language_info": {
   "codemirror_mode": {
    "name": "ipython",
    "version": 3
   },
   "file_extension": ".py",
   "mimetype": "text/x-python",
   "name": "python",
   "nbconvert_exporter": "python",
   "pygments_lexer": "ipython3",
   "version": "3.11.10"
  }
 },
 "nbformat": 4,
 "nbformat_minor": 2
}
