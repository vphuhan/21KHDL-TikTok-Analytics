{
 "cells": [
  {
   "cell_type": "code",
   "execution_count": 1,
   "metadata": {},
   "outputs": [
    {
     "name": "stdout",
     "output_type": "stream",
     "text": [
      "Requirement already satisfied: pyngrok in c:\\users\\029at\\appdata\\local\\programs\\python\\python310\\lib\\site-packages (7.2.3)\n",
      "Requirement already satisfied: PyYAML>=5.1 in c:\\users\\029at\\appdata\\local\\programs\\python\\python310\\lib\\site-packages (from pyngrok) (6.0)\n",
      "Note: you may need to restart the kernel to use updated packages.\n"
     ]
    }
   ],
   "source": [
    "%pip install pyngrok"
   ]
  },
  {
   "cell_type": "code",
   "execution_count": 2,
   "metadata": {},
   "outputs": [
    {
     "name": "stdout",
     "output_type": "stream",
     "text": [
      "Authtoken saved to configuration file: C:\\Users\\029at\\AppData\\Local/ngrok/ngrok.yml\n"
     ]
    }
   ],
   "source": [
    "ngrok_config_add_authtoken = \"ngrok config add-authtoken 2uUnL6qFwvVpSzoo8ZS5Hxre5QL_2tndpRRLv23z6GPr5yX3W\" # @param {\"type\":\"string\",\"placeholder\":\"Ex: ngrok config add-authtoken 2uGReNm0gnN6Rhmn7Ho\"}\n",
    "!{ngrok_config_add_authtoken}"
   ]
  },
  {
   "cell_type": "code",
   "execution_count": 3,
   "metadata": {},
   "outputs": [
    {
     "name": "stdout",
     "output_type": "stream",
     "text": [
      "Streamlit App URL: NgrokTunnel: \"https://f644-2405-4800-5714-35b0-b51c-22e2-b03a-c3c6.ngrok-free.app\" -> \"http://localhost:8501\"\n"
     ]
    },
    {
     "name": "stderr",
     "output_type": "stream",
     "text": [
      "t=2025-03-28T17:58:57+0700 lvl=eror msg=\"heartbeat timeout, terminating session\" obj=tunnels.session obj=csess id=3d2735a92762 clientid=30a09e990b00db2edce7dc071f011e01\n",
      "t=2025-03-28T17:58:57+0700 lvl=eror msg=\"session closed, starting reconnect loop\" obj=tunnels.session obj=csess id=1032edaac344 err=\"session closed\"\n",
      "t=2025-03-28T18:03:01+0700 lvl=eror msg=\"heartbeat timeout, terminating session\" obj=tunnels.session obj=csess id=86d6dae2003e clientid=30a09e990b00db2edce7dc071f011e01\n",
      "t=2025-03-28T18:03:01+0700 lvl=eror msg=\"session closed, starting reconnect loop\" obj=tunnels.session obj=csess id=1032edaac344 err=\"session closed\"\n",
      "t=2025-03-28T18:12:57+0700 lvl=eror msg=\"heartbeat timeout, terminating session\" obj=tunnels.session obj=csess id=c3673b76b0ea clientid=30a09e990b00db2edce7dc071f011e01\n",
      "t=2025-03-28T18:12:57+0700 lvl=eror msg=\"session closed, starting reconnect loop\" obj=tunnels.session obj=csess id=1032edaac344 err=\"session closed\"\n",
      "t=2025-03-28T19:05:09+0700 lvl=eror msg=\"heartbeat timeout, terminating session\" obj=tunnels.session obj=csess id=7742946ec717 clientid=30a09e990b00db2edce7dc071f011e01\n",
      "t=2025-03-28T19:05:09+0700 lvl=eror msg=\"session closed, starting reconnect loop\" obj=tunnels.session obj=csess id=1032edaac344 err=\"session closed\"\n",
      "t=2025-03-28T19:13:39+0700 lvl=warn msg=\"failed to open private leg\" id=f29e556bd503 privaddr=localhost:8501 err=\"dial tcp [::1]:8501: connectex: No connection could be made because the target machine actively refused it.\"\n",
      "t=2025-03-28T19:13:39+0700 lvl=warn msg=\"failed to open private leg\" id=ec2e92ddd92f privaddr=localhost:8501 err=\"dial tcp [::1]:8501: connectex: No connection could be made because the target machine actively refused it.\"\n",
      "t=2025-03-28T19:13:41+0700 lvl=warn msg=\"failed to open private leg\" id=45ed4a8e2a65 privaddr=localhost:8501 err=\"dial tcp [::1]:8501: connectex: No connection could be made because the target machine actively refused it.\"\n",
      "t=2025-03-28T19:13:41+0700 lvl=warn msg=\"failed to open private leg\" id=e1f29525b4bc privaddr=localhost:8501 err=\"dial tcp [::1]:8501: connectex: No connection could be made because the target machine actively refused it.\"\n",
      "t=2025-03-28T19:38:46+0700 lvl=eror msg=\"heartbeat timeout, terminating session\" obj=tunnels.session obj=csess id=5e0f49589a5b clientid=30a09e990b00db2edce7dc071f011e01\n",
      "t=2025-03-28T19:38:46+0700 lvl=eror msg=\"session closed, starting reconnect loop\" obj=tunnels.session obj=csess id=1032edaac344 err=\"session closed\"\n",
      "t=2025-03-28T19:46:14+0700 lvl=eror msg=\"heartbeat timeout, terminating session\" obj=tunnels.session obj=csess id=485c37f2488b clientid=30a09e990b00db2edce7dc071f011e01\n",
      "t=2025-03-28T19:46:14+0700 lvl=eror msg=\"session closed, starting reconnect loop\" obj=tunnels.session obj=csess id=1032edaac344 err=\"read EOF from remote peer\"\n"
     ]
    }
   ],
   "source": [
    "from pyngrok import ngrok\n",
    "\n",
    "ngrok.kill()  # Kill previous tunnels if needed\n",
    "\n",
    "# Correct syntax to start the tunnel\n",
    "public_url = ngrok.connect(8501, \"http\")  # Specify \"http\" as the protocol\n",
    "print(\"Streamlit App URL:\", public_url)"
   ]
  },
  {
   "cell_type": "code",
   "execution_count": 4,
   "metadata": {},
   "outputs": [
    {
     "name": "stdout",
     "output_type": "stream",
     "text": [
      "Collecting wordcloud\n",
      "  Downloading wordcloud-1.9.4-cp310-cp310-win_amd64.whl.metadata (3.5 kB)\n",
      "Requirement already satisfied: numpy>=1.6.1 in c:\\users\\029at\\appdata\\local\\programs\\python\\python310\\lib\\site-packages (from wordcloud) (1.26.4)\n",
      "Requirement already satisfied: pillow in c:\\users\\029at\\appdata\\local\\programs\\python\\python310\\lib\\site-packages (from wordcloud) (9.2.0)\n",
      "Requirement already satisfied: matplotlib in c:\\users\\029at\\appdata\\local\\programs\\python\\python310\\lib\\site-packages (from wordcloud) (3.5.2)\n",
      "Requirement already satisfied: cycler>=0.10 in c:\\users\\029at\\appdata\\local\\programs\\python\\python310\\lib\\site-packages (from matplotlib->wordcloud) (0.11.0)\n",
      "Requirement already satisfied: fonttools>=4.22.0 in c:\\users\\029at\\appdata\\local\\programs\\python\\python310\\lib\\site-packages (from matplotlib->wordcloud) (4.34.4)\n",
      "Requirement already satisfied: kiwisolver>=1.0.1 in c:\\users\\029at\\appdata\\local\\programs\\python\\python310\\lib\\site-packages (from matplotlib->wordcloud) (1.4.3)\n",
      "Requirement already satisfied: packaging>=20.0 in c:\\users\\029at\\appdata\\local\\programs\\python\\python310\\lib\\site-packages (from matplotlib->wordcloud) (21.3)\n",
      "Requirement already satisfied: pyparsing>=2.2.1 in c:\\users\\029at\\appdata\\local\\programs\\python\\python310\\lib\\site-packages (from matplotlib->wordcloud) (3.0.9)\n",
      "Requirement already satisfied: python-dateutil>=2.7 in c:\\users\\029at\\appdata\\local\\programs\\python\\python310\\lib\\site-packages (from matplotlib->wordcloud) (2.8.2)\n",
      "Requirement already satisfied: six>=1.5 in c:\\users\\029at\\appdata\\local\\programs\\python\\python310\\lib\\site-packages (from python-dateutil>=2.7->matplotlib->wordcloud) (1.16.0)\n",
      "Downloading wordcloud-1.9.4-cp310-cp310-win_amd64.whl (299 kB)\n",
      "Installing collected packages: wordcloud\n",
      "Successfully installed wordcloud-1.9.4\n",
      "Note: you may need to restart the kernel to use updated packages.\n"
     ]
    }
   ],
   "source": [
    "%pip install wordcloud"
   ]
  },
  {
   "cell_type": "code",
   "execution_count": null,
   "metadata": {},
   "outputs": [],
   "source": []
  }
 ],
 "metadata": {
  "kernelspec": {
   "display_name": "Python 3",
   "language": "python",
   "name": "python3"
  },
  "language_info": {
   "codemirror_mode": {
    "name": "ipython",
    "version": 3
   },
   "file_extension": ".py",
   "mimetype": "text/x-python",
   "name": "python",
   "nbconvert_exporter": "python",
   "pygments_lexer": "ipython3",
   "version": "3.10.5"
  }
 },
 "nbformat": 4,
 "nbformat_minor": 2
}
