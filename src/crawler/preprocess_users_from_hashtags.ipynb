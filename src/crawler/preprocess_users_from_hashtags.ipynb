{
 "cells": [
  {
   "cell_type": "markdown",
   "metadata": {},
   "source": [
    "# Import các thư viện cần thiết\n"
   ]
  },
  {
   "cell_type": "code",
   "execution_count": 1,
   "metadata": {},
   "outputs": [],
   "source": [
    "import warnings\n",
    "import os\n",
    "from tqdm import tqdm\n",
    "from typing import List\n",
    "import pandas as pd\n",
    "from unidecode import unidecode\n",
    "import plotly.express as px\n",
    "import unicodedata\n",
    "import math\n",
    "import json\n",
    "import numpy as np\n",
    "os.chdir(\"/Users/vophuhan/Everything/University/Năm 4/Semester 2/Ứng dụng Phân tích dữ liệu thông minh/21KHDL-TikTok-Analytics\")\n",
    "\n",
    "\n",
    "# from langdetect import detect\n",
    "# from langdetect import DetectorFactory\n",
    "\n",
    "warnings.filterwarnings(\"ignore\")\n",
    "\n",
    "pd.set_option('display.max_columns', None)"
   ]
  },
  {
   "cell_type": "markdown",
   "metadata": {},
   "source": [
    "# 2. Tiền xử lý dữ liệu thống kê từ video\n"
   ]
  },
  {
   "cell_type": "markdown",
   "metadata": {},
   "source": [
    "Đọc dữ liệu thống kê video thành DataFrame.\n"
   ]
  },
  {
   "cell_type": "code",
   "execution_count": 2,
   "metadata": {},
   "outputs": [],
   "source": [
    "# raw_df1 = pd.read_csv(\"data/old_users_amthuc.csv\", low_memory=False)\n",
    "# raw_df1.info()"
   ]
  },
  {
   "cell_type": "code",
   "execution_count": 3,
   "metadata": {},
   "outputs": [],
   "source": [
    "# raw_df2 = pd.read_csv(\"data/new_users_amthuc_1_handmade.csv\", low_memory=False)\n",
    "# raw_df2.info()"
   ]
  },
  {
   "cell_type": "code",
   "execution_count": 4,
   "metadata": {},
   "outputs": [],
   "source": [
    "# raw_df3 = pd.read_csv(\"data/new_usrs_amthuc_250319_0033.csv\", low_memory=False)\n",
    "# raw_df3.info()"
   ]
  },
  {
   "cell_type": "code",
   "execution_count": 5,
   "metadata": {},
   "outputs": [
    {
     "name": "stdout",
     "output_type": "stream",
     "text": [
      "<class 'pandas.core.frame.DataFrame'>\n",
      "RangeIndex: 254197 entries, 0 to 254196\n",
      "Columns: 185 entries, Unnamed: 0 to video.zoomCover.960\n",
      "dtypes: float64(97), int64(2), object(86)\n",
      "memory usage: 358.8+ MB\n"
     ]
    }
   ],
   "source": [
    "video_info_df = pd.read_csv(\"data/final_raw_videos.csv\", low_memory=False)\n",
    "video_info_df.info()\n",
    "# video_info_df = pd.concat([raw_df1, raw_df2, raw_df3], ignore_index=True)\n",
    "# video_info_df.info()\n",
    "# video_info_df.to_csv('data/final_raw_videos.csv')"
   ]
  },
  {
   "cell_type": "code",
   "execution_count": 6,
   "metadata": {},
   "outputs": [],
   "source": [
    "# save_df = video_info_df[~video_info_df['author.uniqueId'].isna()]\n",
    "# save_list = list(save_df['author.uniqueId'].unique())\n",
    "# len(save_list)\n",
    "\n",
    "\n",
    "# def write_list_to_file(file_path, data_list):\n",
    "#     try:\n",
    "#         with open(file_path, \"w\", encoding=\"utf-8\") as file:\n",
    "#             for item in data_list:\n",
    "#                 file.write(str(item) + \"\\n\")\n",
    "#         print(f\"Successfully wrote {len(data_list)} items to {file_path}\")\n",
    "#     except Exception as e:\n",
    "#         print(f\"Error writing to file: {e}\")\n",
    "\n",
    "\n",
    "# write_list_to_file(\"data/lists/users_from_new_old_csv.txt\", save_list)"
   ]
  },
  {
   "cell_type": "markdown",
   "metadata": {},
   "source": [
    "Loại bỏ các cột có tỷ lệ thiếu dữ liệu lớn hơn 50%\n"
   ]
  },
  {
   "cell_type": "code",
   "execution_count": 7,
   "metadata": {},
   "outputs": [
    {
     "data": {
      "text/plain": [
       "video.zoomCover.960                       1.0\n",
       "user.commerceUserInfo.downLoadLink.ios    1.0\n",
       "video.encodeUserTag                       1.0\n",
       "poi.country                               1.0\n",
       "poi.fatherPoiId                           1.0\n",
       "dtype: float64"
      ]
     },
     "execution_count": 7,
     "metadata": {},
     "output_type": "execute_result"
    }
   ],
   "source": [
    "# Calculate the missing ratio\n",
    "missing_ratio = video_info_df.isna().sum() / len(video_info_df)\n",
    "\n",
    "# Sort the missing ratio in descending order\n",
    "missing_ratio = missing_ratio.sort_values(ascending=False)\n",
    "\n",
    "# Display first 5 rows\n",
    "missing_ratio.head()"
   ]
  },
  {
   "cell_type": "code",
   "execution_count": 8,
   "metadata": {},
   "outputs": [],
   "source": [
    "# Remove columns with missing ratios greater than 0.50\n",
    "video_info_df = video_info_df.dropna(\n",
    "    axis='columns', thresh=0.50 * len(video_info_df)\n",
    ")"
   ]
  },
  {
   "cell_type": "code",
   "execution_count": 9,
   "metadata": {},
   "outputs": [
    {
     "name": "stdout",
     "output_type": "stream",
     "text": [
      "video.claInfo.originalLanguageInfo.languageID     :  44.36%\n",
      "video.claInfo.originalLanguageInfo.languageCode   :  44.36%\n",
      "video.claInfo.originalLanguageInfo.language       :  44.36%\n",
      "video.claInfo.originalLanguageInfo.canTranslateRealTimeNoCheck:  44.36%\n",
      "video.claInfo.captionsType                        :  44.36%\n"
     ]
    }
   ],
   "source": [
    "# Calculate the missing ratio\n",
    "missing_ratio = video_info_df.isna().sum() / len(video_info_df)\n",
    "\n",
    "# Sort the missing ratio in descending order\n",
    "missing_ratio = missing_ratio.sort_values(ascending=False)\n",
    "\n",
    "# Display the missing ratio\n",
    "for column, ratio in missing_ratio[:5].items():\n",
    "    print(f\"{column:50}:{ratio:8.2%}\")"
   ]
  },
  {
   "cell_type": "code",
   "execution_count": 10,
   "metadata": {},
   "outputs": [
    {
     "name": "stdout",
     "output_type": "stream",
     "text": [
      "<class 'pandas.core.frame.DataFrame'>\n",
      "RangeIndex: 254197 entries, 0 to 254196\n",
      "Data columns (total 88 columns):\n",
      " #   Column                                                          Non-Null Count   Dtype  \n",
      "---  ------                                                          --------------   -----  \n",
      " 0   Unnamed: 0                                                      254197 non-null  int64  \n",
      " 1   stats.diggCount                                                 254197 non-null  int64  \n",
      " 2   CategoryType                                                    253333 non-null  float64\n",
      " 3   author.commentSetting                                           253333 non-null  float64\n",
      " 4   author.downloadSetting                                          253333 non-null  float64\n",
      " 5   author.duetSetting                                              253333 non-null  float64\n",
      " 6   author.ftc                                                      253333 non-null  object \n",
      " 7   author.id                                                       253333 non-null  float64\n",
      " 8   author.isADVirtual                                              253333 non-null  object \n",
      " 9   author.isEmbedBanned                                            253333 non-null  object \n",
      " 10  author.nickname                                                 253333 non-null  object \n",
      " 11  author.openFavorite                                             253333 non-null  object \n",
      " 12  author.privateAccount                                           253333 non-null  object \n",
      " 13  author.relation                                                 253333 non-null  float64\n",
      " 14  author.secUid                                                   253333 non-null  object \n",
      " 15  author.secret                                                   253333 non-null  object \n",
      " 16  author.signature                                                247680 non-null  object \n",
      " 17  author.stitchSetting                                            253333 non-null  float64\n",
      " 18  author.uniqueId                                                 253333 non-null  object \n",
      " 19  author.verified                                                 253333 non-null  object \n",
      " 20  authorStats.diggCount                                           253333 non-null  float64\n",
      " 21  authorStats.followerCount                                       253333 non-null  float64\n",
      " 22  authorStats.followingCount                                      253333 non-null  float64\n",
      " 23  authorStats.friendCount                                         253333 non-null  float64\n",
      " 24  authorStats.heart                                               253333 non-null  float64\n",
      " 25  authorStats.heartCount                                          253333 non-null  float64\n",
      " 26  authorStats.videoCount                                          253333 non-null  float64\n",
      " 27  collected                                                       253333 non-null  object \n",
      " 28  createTime                                                      253333 non-null  float64\n",
      " 29  desc                                                            249914 non-null  object \n",
      " 30  digged                                                          253333 non-null  object \n",
      " 31  diversificationId                                               231607 non-null  float64\n",
      " 32  duetDisplay                                                     253333 non-null  float64\n",
      " 33  duetEnabled                                                     200577 non-null  object \n",
      " 34  forFriend                                                       253333 non-null  object \n",
      " 35  id                                                              253333 non-null  float64\n",
      " 36  isAd                                                            253333 non-null  object \n",
      " 37  itemCommentStatus                                               253333 non-null  float64\n",
      " 38  item_control.can_repost                                         253333 non-null  object \n",
      " 39  music.authorName                                                252584 non-null  object \n",
      " 40  music.duration                                                  252646 non-null  float64\n",
      " 41  music.id                                                        253333 non-null  float64\n",
      " 42  music.isCopyrighted                                             253333 non-null  object \n",
      " 43  music.original                                                  253333 non-null  object \n",
      " 44  music.private                                                   253262 non-null  object \n",
      " 45  music.title                                                     252725 non-null  object \n",
      " 46  officalItem                                                     253333 non-null  object \n",
      " 47  originalItem                                                    253333 non-null  object \n",
      " 48  privateItem                                                     253333 non-null  object \n",
      " 49  secret                                                          253333 non-null  object \n",
      " 50  shareEnabled                                                    253333 non-null  object \n",
      " 51  stats.collectCount                                              253333 non-null  float64\n",
      " 52  stats.commentCount                                              253333 non-null  float64\n",
      " 53  stats.playCount                                                 253333 non-null  float64\n",
      " 54  stats.shareCount                                                253333 non-null  float64\n",
      " 55  statsV2.collectCount                                            253333 non-null  float64\n",
      " 56  statsV2.commentCount                                            253333 non-null  float64\n",
      " 57  statsV2.diggCount                                               253333 non-null  float64\n",
      " 58  statsV2.playCount                                               253333 non-null  float64\n",
      " 59  statsV2.repostCount                                             253333 non-null  float64\n",
      " 60  statsV2.shareCount                                              253333 non-null  float64\n",
      " 61  stitchDisplay                                                   253333 non-null  float64\n",
      " 62  stitchEnabled                                                   198904 non-null  object \n",
      " 63  textLanguage                                                    253332 non-null  object \n",
      " 64  textTranslatable                                                253333 non-null  object \n",
      " 65  video.VQScore                                                   233946 non-null  float64\n",
      " 66  video.bitrate                                                   233946 non-null  float64\n",
      " 67  video.claInfo.enableAutoCaption                                 233863 non-null  object \n",
      " 68  video.claInfo.hasOriginalAudio                                  233863 non-null  object \n",
      " 69  video.codecType                                                 233943 non-null  object \n",
      " 70  video.definition                                                233946 non-null  object \n",
      " 71  video.duration                                                  253333 non-null  float64\n",
      " 72  video.encodedType                                               233943 non-null  object \n",
      " 73  video.format                                                    233946 non-null  object \n",
      " 74  video.height                                                    253333 non-null  float64\n",
      " 75  video.id                                                        253333 non-null  float64\n",
      " 76  video.ratio                                                     233946 non-null  object \n",
      " 77  video.videoID                                                   233946 non-null  object \n",
      " 78  video.videoQuality                                              233943 non-null  object \n",
      " 79  video.volumeInfo.Loudness                                       233895 non-null  float64\n",
      " 80  video.volumeInfo.Peak                                           233895 non-null  float64\n",
      " 81  video.width                                                     253333 non-null  float64\n",
      " 82  collectTime                                                     253333 non-null  float64\n",
      " 83  video.claInfo.captionsType                                      141438 non-null  float64\n",
      " 84  video.claInfo.originalLanguageInfo.canTranslateRealTimeNoCheck  141438 non-null  object \n",
      " 85  video.claInfo.originalLanguageInfo.language                     141438 non-null  object \n",
      " 86  video.claInfo.originalLanguageInfo.languageCode                 141438 non-null  object \n",
      " 87  video.claInfo.originalLanguageInfo.languageID                   141438 non-null  float64\n",
      "dtypes: float64(43), int64(2), object(43)\n",
      "memory usage: 170.7+ MB\n"
     ]
    }
   ],
   "source": [
    "video_info_df.info()"
   ]
  },
  {
   "cell_type": "markdown",
   "metadata": {},
   "source": [
    "Vì các cột có tên bắt đầu với `stats.*` chứa cùng thông tin với các cột có tên bắt đầu với `statsV2.*`, nhưng không có thông tin về `repostCount` như `statsV2.*`. Nên ta sẽ loại bỏ các cột có tên bắt đầu với `stats.*`.\n"
   ]
  },
  {
   "cell_type": "code",
   "execution_count": 11,
   "metadata": {},
   "outputs": [],
   "source": [
    "# Remove columns starting with \"stats.\"\n",
    "video_info_df = video_info_df[\n",
    "    [column for column in video_info_df.columns\n",
    "     if not column.startswith(\"stats.\")]\n",
    "]\n",
    "\n",
    "# video_info_df.info()"
   ]
  },
  {
   "cell_type": "markdown",
   "metadata": {},
   "source": [
    "Xóa các cột bắt đầu với `video.claInfo.originalLanguageInfo.*` vì chúng chứa thông tin không cần thiết.\n"
   ]
  },
  {
   "cell_type": "code",
   "execution_count": 12,
   "metadata": {},
   "outputs": [],
   "source": [
    "# Remove columns starting with \"video.claInfo.originalLanguageInfo.\"\n",
    "video_info_df = video_info_df[\n",
    "    [column for column in video_info_df.columns\n",
    "     if not column.startswith(\"video.claInfo.originalLanguageInfo.\")]\n",
    "]\n",
    "\n",
    "# video_info_df.info()"
   ]
  },
  {
   "cell_type": "markdown",
   "metadata": {},
   "source": [
    "Chuyển timestamp sang datetime và chuyển sang giờ VN.\n"
   ]
  },
  {
   "cell_type": "code",
   "execution_count": 13,
   "metadata": {},
   "outputs": [],
   "source": [
    "# Chuyển timestamp sang dạng datetime UTC\n",
    "video_info_df[\"createTime\"] = pd.to_datetime(\n",
    "    video_info_df[\"createTime\"], unit=\"s\", utc=True)\n",
    "\n",
    "# Chuyển sang múi giờ Việt Nam (UTC+7)\n",
    "video_info_df[\"createTime\"] = video_info_df[\"createTime\"].dt.tz_convert(\n",
    "    \"Asia/Ho_Chi_Minh\")"
   ]
  },
  {
   "cell_type": "markdown",
   "metadata": {},
   "source": [
    "Tạo một cột chứa danh sách các `hashtag` được trích xuất từ mô tả video. Và tính số lượng hashtag trong mỗi video.\n"
   ]
  },
  {
   "cell_type": "code",
   "execution_count": 14,
   "metadata": {},
   "outputs": [
    {
     "name": "stderr",
     "output_type": "stream",
     "text": [
      "100%|██████████| 254197/254197 [00:36<00:00, 6903.65it/s]\n"
     ]
    }
   ],
   "source": [
    "# Replace missing values in \"desc\" column with an empty string\n",
    "video_info_df[\"desc\"] = video_info_df[\"desc\"].fillna(\"\")\n",
    "video_info_df[\"desc\"] = video_info_df[\"desc\"].astype(str)\n",
    "video_info_df[\"desc\"] = video_info_df[\"desc\"].str.strip()\n",
    "\n",
    "# Create a new column for the hashtags\n",
    "# and the number of hashtags in each video\n",
    "video_info_df[\"hashtags\"] = [\"\"] * len(video_info_df)\n",
    "video_info_df[\"num_hashtags\"] = [0] * len(video_info_df)\n",
    "\n",
    "# Extract hashtags from the \"desc\" column\n",
    "# and Get the number of hashtags in each video\n",
    "for index in tqdm(range(len(video_info_df))):\n",
    "    # Get the description of the video\n",
    "    description = video_info_df.loc[index, \"desc\"].strip().lower()\n",
    "\n",
    "    if description:\n",
    "        # # Remove emojis\n",
    "        # description = description.encode('ascii', 'ignore').decode('ascii')\n",
    "        # Chuyển tiếng Việt có dấu thành không dấu\n",
    "        description = unidecode(description)\n",
    "\n",
    "        # Add a space before all \"#\" characters\n",
    "        description = description.replace(\"#\", \" #\")\n",
    "\n",
    "        # Find all strings starting with \"#\" and followed by a word\n",
    "        hashtags = [word[1:] for word in description.split()\n",
    "                    if word.startswith(\"#\")]\n",
    "\n",
    "        # Extract hashtags from the description\n",
    "        video_info_df.loc[index, \"hashtags\"] = \",\".join(hashtags).strip()\n",
    "\n",
    "        # Get the number of hashtags\n",
    "        video_info_df.loc[index, \"num_hashtags\"] = len(hashtags)\n",
    "    else:\n",
    "        video_info_df.loc[index, \"hashtags\"] = \"\"\n",
    "        video_info_df.loc[index, \"num_hashtags\"] = 0"
   ]
  },
  {
   "cell_type": "code",
   "execution_count": 15,
   "metadata": {},
   "outputs": [],
   "source": [
    "# Bước 1: Chuyển hashtags thành danh sách\n",
    "video_info_df[\"hashtags\"] = video_info_df[\"hashtags\"].apply(\n",
    "    lambda x: x.split(\",\") if x else [])"
   ]
  },
  {
   "cell_type": "markdown",
   "metadata": {},
   "source": [
    "### Chọn ra một số cột để kiểm tra thông số.\n"
   ]
  },
  {
   "cell_type": "code",
   "execution_count": 16,
   "metadata": {},
   "outputs": [
    {
     "data": {
      "application/vnd.microsoft.datawrangler.viewer.v0+json": {
       "columns": [
        {
         "name": "index",
         "rawType": "int64",
         "type": "integer"
        },
        {
         "name": "id",
         "rawType": "float64",
         "type": "float"
        },
        {
         "name": "username",
         "rawType": "object",
         "type": "string"
        },
        {
         "name": "views",
         "rawType": "float64",
         "type": "float"
        },
        {
         "name": "likes",
         "rawType": "float64",
         "type": "float"
        },
        {
         "name": "comments",
         "rawType": "float64",
         "type": "float"
        },
        {
         "name": "shares",
         "rawType": "float64",
         "type": "float"
        },
        {
         "name": "collects",
         "rawType": "float64",
         "type": "float"
        },
        {
         "name": "user.likes",
         "rawType": "float64",
         "type": "float"
        },
        {
         "name": "user.followers",
         "rawType": "float64",
         "type": "float"
        },
        {
         "name": "user.followings",
         "rawType": "float64",
         "type": "float"
        },
        {
         "name": "user.hearts",
         "rawType": "float64",
         "type": "float"
        },
        {
         "name": "user.videos",
         "rawType": "float64",
         "type": "float"
        },
        {
         "name": "hashtags",
         "rawType": "object",
         "type": "unknown"
        },
        {
         "name": "createTime",
         "rawType": "datetime64[ns, Asia/Ho_Chi_Minh]",
         "type": "unknown"
        },
        {
         "name": "desc",
         "rawType": "object",
         "type": "string"
        },
        {
         "name": "textLang",
         "rawType": "object",
         "type": "string"
        }
       ],
       "conversionMethod": "pd.DataFrame",
       "ref": "e4e8b091-de29-4c65-a963-29567ddca3ea",
       "rows": [
        [
         "225739",
         "7.351050599753846e+18",
         "kem19995",
         "2100000.0",
         "171700.0",
         "249.0",
         "406.0",
         "2218.0",
         "1156.0",
         "4100000.0",
         "5.0",
         "200400000.0",
         "998.0",
         "['kemtiktok']",
         "2024-03-27 21:30:48+07:00",
         "Anh chị chơi kỳ 😆#kemtiktok",
         "vi"
        ],
        [
         "135931",
         "7.404950479861566e+18",
         "alexiaeatsboba",
         "344300.0",
         "24700.0",
         "56.0",
         "679.0",
         "1358.0",
         "7202.0",
         "973700.0",
         "280.0",
         "80400000.0",
         "333.0",
         "['eatwithme', 'mukbang', 'mukbangeatingshow', 'eatingasmr', 'foodasmr', 'mukbangasmr', 'asmreating', 'foryou', 'fyp', 'foryoupage', 'eatingshow', 'eatingshowasmr', 'eatingsounds', 'mukbangs', 'mukbangvideo', 'letseat', 'watchmeeat', 'eatingsounds', 'crunchy', 'tiktok', 'cookies', 'bites', 'eating', 'asmr', 'crumbl', 'cookie', 'cookiesandmilk', 'eating', 'foodie', 'asmrfood', 'mukbang', 'mukbangeatingshow', 'fypviral', 'fypy', 'fypviralshi', 'foodie', 'food']",
         "2024-08-20 03:29:56+07:00",
         "I couldn’t say no to this weeks lineup 😍😋 love love loveeeeee the banana pudding, and the Waffle could have gotten a 10 too! @Crumbl Cookies  #eatwithme #mukbang #mukbangeatingshow #eatingasmr #foodasmr #mukbangasmr #asmreating #foryou #fyp #foryoupage #eatingshow #eatingshowasmr #eatingsounds #mukbangs #mukbangvideo #letseat #watchmeeat #eatingsounds #crunchy #tiktok#cookies #bites #eating #asmr #crumbl #cookie #cookiesandmilk #eating #Foodie #asmrfood #mukbang #mukbangeatingshow #fypviral #fypy #fypviralシ #foodie #food",
         "en"
        ],
        [
         "147357",
         "7.445634805716291e+18",
         "hai88tk",
         "118100.0",
         "2527.0",
         "74.0",
         "65.0",
         "71.0",
         "5.0",
         "55500.0",
         "11.0",
         "2600000.0",
         "403.0",
         "['giadinh', 'anuong', 'danong', 'vochong', 'vochongson', 'giaitri', 'leminhhai', 'bovacongai']",
         "2024-12-07 18:45:47+07:00",
         "Quá sai lầm rồi #giadinh #anuong #danong #vochong #vochongson #giaitri #leminhhai #bovacongai",
         "vi"
        ],
        [
         "164364",
         "7.474231973842652e+18",
         "dullmis",
         "838400.0",
         "47300.0",
         "223.0",
         "1585.0",
         "1399.0",
         "3353.0",
         "607900.0",
         "274.0",
         "31500000.0",
         "865.0",
         "['xuhuong', 'mukbang', 'dullmis', 'ancungtiktok']",
         "2025-02-22 20:17:26+07:00",
         "Mọi người còn nhớ xôi chiên hong #xuhuong #mukbang #dullmis #ancungtiktok",
         "vi"
        ],
        [
         "53799",
         "7.307858949171056e+18",
         "longquandui",
         "226800.0",
         "3983.0",
         "179.0",
         "955.0",
         "1077.0",
         "43.0",
         "135500.0",
         "84.0",
         "4200000.0",
         "827.0",
         "['longquandui', 'ancungtiktok', 'learnontiktok', 'viral', 'trasuadatnung', 'trasuong', 'reviewanngon', 'trasuadatnungvannam', 'ngon', 'tanphu', 'quantanphu', 'trasua']",
         "2023-12-02 12:05:08+07:00",
         "Trà sữa đất nung Vân Nam đã có ở Tân Phú rồi nè mấy bà! #longquandui #ancungtiktok #learnontiktok #viral #trasuadatnung#trasuong #reviewanngon #trasuadatnungvannam #ngon #tanphu #quantanphu #trasua",
         "vi"
        ]
       ],
       "shape": {
        "columns": 16,
        "rows": 5
       }
      },
      "text/html": [
       "<div>\n",
       "<style scoped>\n",
       "    .dataframe tbody tr th:only-of-type {\n",
       "        vertical-align: middle;\n",
       "    }\n",
       "\n",
       "    .dataframe tbody tr th {\n",
       "        vertical-align: top;\n",
       "    }\n",
       "\n",
       "    .dataframe thead th {\n",
       "        text-align: right;\n",
       "    }\n",
       "</style>\n",
       "<table border=\"1\" class=\"dataframe\">\n",
       "  <thead>\n",
       "    <tr style=\"text-align: right;\">\n",
       "      <th></th>\n",
       "      <th>id</th>\n",
       "      <th>username</th>\n",
       "      <th>views</th>\n",
       "      <th>likes</th>\n",
       "      <th>comments</th>\n",
       "      <th>shares</th>\n",
       "      <th>collects</th>\n",
       "      <th>user.likes</th>\n",
       "      <th>user.followers</th>\n",
       "      <th>user.followings</th>\n",
       "      <th>user.hearts</th>\n",
       "      <th>user.videos</th>\n",
       "      <th>hashtags</th>\n",
       "      <th>createTime</th>\n",
       "      <th>desc</th>\n",
       "      <th>textLang</th>\n",
       "    </tr>\n",
       "  </thead>\n",
       "  <tbody>\n",
       "    <tr>\n",
       "      <th>225739</th>\n",
       "      <td>7.351051e+18</td>\n",
       "      <td>kem19995</td>\n",
       "      <td>2100000.0</td>\n",
       "      <td>171700.0</td>\n",
       "      <td>249.0</td>\n",
       "      <td>406.0</td>\n",
       "      <td>2218.0</td>\n",
       "      <td>1156.0</td>\n",
       "      <td>4100000.0</td>\n",
       "      <td>5.0</td>\n",
       "      <td>200400000.0</td>\n",
       "      <td>998.0</td>\n",
       "      <td>[kemtiktok]</td>\n",
       "      <td>2024-03-27 21:30:48+07:00</td>\n",
       "      <td>Anh chị chơi kỳ 😆#kemtiktok</td>\n",
       "      <td>vi</td>\n",
       "    </tr>\n",
       "    <tr>\n",
       "      <th>135931</th>\n",
       "      <td>7.404950e+18</td>\n",
       "      <td>alexiaeatsboba</td>\n",
       "      <td>344300.0</td>\n",
       "      <td>24700.0</td>\n",
       "      <td>56.0</td>\n",
       "      <td>679.0</td>\n",
       "      <td>1358.0</td>\n",
       "      <td>7202.0</td>\n",
       "      <td>973700.0</td>\n",
       "      <td>280.0</td>\n",
       "      <td>80400000.0</td>\n",
       "      <td>333.0</td>\n",
       "      <td>[eatwithme, mukbang, mukbangeatingshow, eating...</td>\n",
       "      <td>2024-08-20 03:29:56+07:00</td>\n",
       "      <td>I couldn’t say no to this weeks lineup 😍😋 love...</td>\n",
       "      <td>en</td>\n",
       "    </tr>\n",
       "    <tr>\n",
       "      <th>147357</th>\n",
       "      <td>7.445635e+18</td>\n",
       "      <td>hai88tk</td>\n",
       "      <td>118100.0</td>\n",
       "      <td>2527.0</td>\n",
       "      <td>74.0</td>\n",
       "      <td>65.0</td>\n",
       "      <td>71.0</td>\n",
       "      <td>5.0</td>\n",
       "      <td>55500.0</td>\n",
       "      <td>11.0</td>\n",
       "      <td>2600000.0</td>\n",
       "      <td>403.0</td>\n",
       "      <td>[giadinh, anuong, danong, vochong, vochongson,...</td>\n",
       "      <td>2024-12-07 18:45:47+07:00</td>\n",
       "      <td>Quá sai lầm rồi #giadinh #anuong #danong #voch...</td>\n",
       "      <td>vi</td>\n",
       "    </tr>\n",
       "    <tr>\n",
       "      <th>164364</th>\n",
       "      <td>7.474232e+18</td>\n",
       "      <td>dullmis</td>\n",
       "      <td>838400.0</td>\n",
       "      <td>47300.0</td>\n",
       "      <td>223.0</td>\n",
       "      <td>1585.0</td>\n",
       "      <td>1399.0</td>\n",
       "      <td>3353.0</td>\n",
       "      <td>607900.0</td>\n",
       "      <td>274.0</td>\n",
       "      <td>31500000.0</td>\n",
       "      <td>865.0</td>\n",
       "      <td>[xuhuong, mukbang, dullmis, ancungtiktok]</td>\n",
       "      <td>2025-02-22 20:17:26+07:00</td>\n",
       "      <td>Mọi người còn nhớ xôi chiên hong #xuhuong #muk...</td>\n",
       "      <td>vi</td>\n",
       "    </tr>\n",
       "    <tr>\n",
       "      <th>53799</th>\n",
       "      <td>7.307859e+18</td>\n",
       "      <td>longquandui</td>\n",
       "      <td>226800.0</td>\n",
       "      <td>3983.0</td>\n",
       "      <td>179.0</td>\n",
       "      <td>955.0</td>\n",
       "      <td>1077.0</td>\n",
       "      <td>43.0</td>\n",
       "      <td>135500.0</td>\n",
       "      <td>84.0</td>\n",
       "      <td>4200000.0</td>\n",
       "      <td>827.0</td>\n",
       "      <td>[longquandui, ancungtiktok, learnontiktok, vir...</td>\n",
       "      <td>2023-12-02 12:05:08+07:00</td>\n",
       "      <td>Trà sữa đất nung Vân Nam đã có ở Tân Phú rồi n...</td>\n",
       "      <td>vi</td>\n",
       "    </tr>\n",
       "  </tbody>\n",
       "</table>\n",
       "</div>"
      ],
      "text/plain": [
       "                  id        username      views     likes  comments  shares  \\\n",
       "225739  7.351051e+18        kem19995  2100000.0  171700.0     249.0   406.0   \n",
       "135931  7.404950e+18  alexiaeatsboba   344300.0   24700.0      56.0   679.0   \n",
       "147357  7.445635e+18         hai88tk   118100.0    2527.0      74.0    65.0   \n",
       "164364  7.474232e+18         dullmis   838400.0   47300.0     223.0  1585.0   \n",
       "53799   7.307859e+18     longquandui   226800.0    3983.0     179.0   955.0   \n",
       "\n",
       "        collects  user.likes  user.followers  user.followings  user.hearts  \\\n",
       "225739    2218.0      1156.0       4100000.0              5.0  200400000.0   \n",
       "135931    1358.0      7202.0        973700.0            280.0   80400000.0   \n",
       "147357      71.0         5.0         55500.0             11.0    2600000.0   \n",
       "164364    1399.0      3353.0        607900.0            274.0   31500000.0   \n",
       "53799     1077.0        43.0        135500.0             84.0    4200000.0   \n",
       "\n",
       "        user.videos                                           hashtags  \\\n",
       "225739        998.0                                        [kemtiktok]   \n",
       "135931        333.0  [eatwithme, mukbang, mukbangeatingshow, eating...   \n",
       "147357        403.0  [giadinh, anuong, danong, vochong, vochongson,...   \n",
       "164364        865.0          [xuhuong, mukbang, dullmis, ancungtiktok]   \n",
       "53799         827.0  [longquandui, ancungtiktok, learnontiktok, vir...   \n",
       "\n",
       "                      createTime  \\\n",
       "225739 2024-03-27 21:30:48+07:00   \n",
       "135931 2024-08-20 03:29:56+07:00   \n",
       "147357 2024-12-07 18:45:47+07:00   \n",
       "164364 2025-02-22 20:17:26+07:00   \n",
       "53799  2023-12-02 12:05:08+07:00   \n",
       "\n",
       "                                                     desc textLang  \n",
       "225739                        Anh chị chơi kỳ 😆#kemtiktok       vi  \n",
       "135931  I couldn’t say no to this weeks lineup 😍😋 love...       en  \n",
       "147357  Quá sai lầm rồi #giadinh #anuong #danong #voch...       vi  \n",
       "164364  Mọi người còn nhớ xôi chiên hong #xuhuong #muk...       vi  \n",
       "53799   Trà sữa đất nung Vân Nam đã có ở Tân Phú rồi n...       vi  "
      ]
     },
     "execution_count": 16,
     "metadata": {},
     "output_type": "execute_result"
    }
   ],
   "source": [
    "selected_cols = {\n",
    "    'id': 'id',\n",
    "    'author.uniqueId': 'username',\n",
    "    \"statsV2.playCount\": \"views\",  # Lượt xem video\n",
    "    \"statsV2.diggCount\": \"likes\",  # Lượt thích video\n",
    "    \"statsV2.commentCount\": \"comments\",  # Lượt bình luận video\n",
    "    \"statsV2.shareCount\": \"shares\",  # Lượt chia sẻ video\n",
    "    'statsV2.collectCount': \"collects\",\n",
    "    'authorStats.diggCount': \"user.likes\",\n",
    "    'authorStats.followerCount': \"user.followers\",\n",
    "    'authorStats.followingCount': \"user.followings\",\n",
    "    # 'authorStats.friendCount': \"user.friends\",\n",
    "    'authorStats.heartCount': \"user.hearts\",\n",
    "    'authorStats.videoCount': \"user.videos\",\n",
    "    'hashtags': 'hashtags',\n",
    "    'createTime': 'createTime',\n",
    "    'desc': 'desc',\n",
    "    'textLanguage': 'textLang'\n",
    "}\n",
    "stats_df = video_info_df[list(selected_cols.keys())].rename(\n",
    "    columns=selected_cols)\n",
    "stats_df.sample(5)"
   ]
  },
  {
   "cell_type": "markdown",
   "metadata": {},
   "source": [
    "Drop các dòng có thiếu hơn 50% số cột.\n"
   ]
  },
  {
   "cell_type": "code",
   "execution_count": 17,
   "metadata": {},
   "outputs": [
    {
     "data": {
      "text/plain": [
       "(253333, 16)"
      ]
     },
     "execution_count": 17,
     "metadata": {},
     "output_type": "execute_result"
    }
   ],
   "source": [
    "stats_df[\"missing_count\"] = stats_df.isnull().sum(axis=1)\n",
    "# Xóa các dòng có hơn 50% giá trị bị thiếu\n",
    "threshold = stats_df.shape[1] * 0.5\n",
    "\n",
    "# Lọc bỏ các dòng có số lượng giá trị thiếu vượt quá ngưỡng\n",
    "stats_df = stats_df[stats_df[\"missing_count\"] <= threshold].drop(\n",
    "    columns=[\"missing_count\"])\n",
    "stats_df.shape"
   ]
  },
  {
   "cell_type": "markdown",
   "metadata": {},
   "source": [
    "# 3. Lọc lại danh sách user\n"
   ]
  },
  {
   "cell_type": "code",
   "execution_count": 18,
   "metadata": {},
   "outputs": [
    {
     "name": "stdout",
     "output_type": "stream",
     "text": [
      "Number of users:  841\n"
     ]
    }
   ],
   "source": [
    "print(\"Number of users: \", stats_df['username'].nunique())"
   ]
  },
  {
   "cell_type": "markdown",
   "metadata": {},
   "source": [
    "Lọc các video đăng trong năm 2025 (loại bỏ người dùng không hoạt động).\n"
   ]
  },
  {
   "cell_type": "code",
   "execution_count": 93,
   "metadata": {},
   "outputs": [
    {
     "name": "stdout",
     "output_type": "stream",
     "text": [
      "Number of users:  771\n"
     ]
    }
   ],
   "source": [
    "# time_thres = pd.to_datetime(\"2025-01-01\").tz_localize(\"Asia/Ho_Chi_Minh\")\n",
    "# users_in_2025 = stats_df[stats_df['createTime']\n",
    "#                          >= time_thres]['username'].unique()\n",
    "# filt_stats_df = stats_df[stats_df['username'].isin(users_in_2025)]\n",
    "\n",
    "time_thres = pd.to_datetime(\"2025-01-01\").tz_localize(\"Asia/Ho_Chi_Minh\")\n",
    "filt_stats_df = stats_df[stats_df['createTime'] >= time_thres]\n",
    "# filt_stats_df = stats_df\n",
    "\n",
    "print(\"Number of users: \", filt_stats_df['username'].nunique())"
   ]
  },
  {
   "cell_type": "markdown",
   "metadata": {},
   "source": [
    "### Các thông số thống kê theo từng user về lượt xem và độ tương tác.\n"
   ]
  },
  {
   "cell_type": "code",
   "execution_count": 94,
   "metadata": {},
   "outputs": [
    {
     "data": {
      "application/vnd.microsoft.datawrangler.viewer.v0+json": {
       "columns": [
        {
         "name": "index",
         "rawType": "int64",
         "type": "integer"
        },
        {
         "name": "username",
         "rawType": "object",
         "type": "string"
        },
        {
         "name": "total_views",
         "rawType": "float64",
         "type": "float"
        },
        {
         "name": "avg_views",
         "rawType": "float64",
         "type": "float"
        },
        {
         "name": "total_likes",
         "rawType": "float64",
         "type": "float"
        },
        {
         "name": "avg_likes",
         "rawType": "float64",
         "type": "float"
        },
        {
         "name": "total_comments",
         "rawType": "float64",
         "type": "float"
        },
        {
         "name": "total_shares",
         "rawType": "float64",
         "type": "float"
        },
        {
         "name": "total_collects",
         "rawType": "float64",
         "type": "float"
        },
        {
         "name": "total_videos",
         "rawType": "int64",
         "type": "integer"
        },
        {
         "name": "followers",
         "rawType": "float64",
         "type": "float"
        },
        {
         "name": "likes",
         "rawType": "float64",
         "type": "float"
        },
        {
         "name": "engagement_rate",
         "rawType": "float64",
         "type": "float"
        },
        {
         "name": "total_engagement",
         "rawType": "float64",
         "type": "float"
        }
       ],
       "conversionMethod": "pd.DataFrame",
       "ref": "35833de6-0e04-4dd9-8cb9-4842bbd346f5",
       "rows": [
        [
         "471",
         "narrmulayofficial",
         "14166400.0",
         "708320.0",
         "907662.0",
         "45383.1",
         "6972.0",
         "7640.0",
         "26026.0",
         "20",
         "300300.0",
         "19.0",
         "0.06694008357804382",
         "948300.0"
        ],
        [
         "260",
         "giadinhzozo",
         "52805900.0",
         "851708.0645161291",
         "2494442.0",
         "40232.93548387097",
         "10892.0",
         "22421.0",
         "64717.0",
         "62",
         "661800.0",
         "5567.0",
         "0.0490943625617592",
         "2592472.0"
        ],
        [
         "374",
         "kun_thich_nauan",
         "27628043.0",
         "476345.5689655172",
         "392189.0",
         "6761.879310344828",
         "4283.0",
         "37496.0",
         "65481.0",
         "58",
         "21800.0",
         "3627.0",
         "0.018077610491629828",
         "499449.0"
        ],
        [
         "556",
         "phuongoanh.daily",
         "59900157.0",
         "530089.8849557522",
         "1372425.0",
         "12145.353982300885",
         "29800.0",
         "38824.0",
         "47456.0",
         "113",
         "939400.0",
         "5118.0",
         "0.0248497679229789",
         "1488505.0"
        ],
        [
         "94",
         "bayashi.tiktok",
         "166989800.0",
         "6679592.0",
         "10321700.0",
         "412868.0",
         "76420.0",
         "241226.0",
         "513957.0",
         "25",
         "55400000.0",
         "1192.0",
         "0.06679032491804889",
         "11153303.0"
        ]
       ],
       "shape": {
        "columns": 13,
        "rows": 5
       }
      },
      "text/html": [
       "<div>\n",
       "<style scoped>\n",
       "    .dataframe tbody tr th:only-of-type {\n",
       "        vertical-align: middle;\n",
       "    }\n",
       "\n",
       "    .dataframe tbody tr th {\n",
       "        vertical-align: top;\n",
       "    }\n",
       "\n",
       "    .dataframe thead th {\n",
       "        text-align: right;\n",
       "    }\n",
       "</style>\n",
       "<table border=\"1\" class=\"dataframe\">\n",
       "  <thead>\n",
       "    <tr style=\"text-align: right;\">\n",
       "      <th></th>\n",
       "      <th>username</th>\n",
       "      <th>total_views</th>\n",
       "      <th>avg_views</th>\n",
       "      <th>total_likes</th>\n",
       "      <th>avg_likes</th>\n",
       "      <th>total_comments</th>\n",
       "      <th>total_shares</th>\n",
       "      <th>total_collects</th>\n",
       "      <th>total_videos</th>\n",
       "      <th>followers</th>\n",
       "      <th>likes</th>\n",
       "      <th>engagement_rate</th>\n",
       "      <th>total_engagement</th>\n",
       "    </tr>\n",
       "  </thead>\n",
       "  <tbody>\n",
       "    <tr>\n",
       "      <th>471</th>\n",
       "      <td>narrmulayofficial</td>\n",
       "      <td>14166400.0</td>\n",
       "      <td>7.083200e+05</td>\n",
       "      <td>907662.0</td>\n",
       "      <td>45383.100000</td>\n",
       "      <td>6972.0</td>\n",
       "      <td>7640.0</td>\n",
       "      <td>26026.0</td>\n",
       "      <td>20</td>\n",
       "      <td>300300.0</td>\n",
       "      <td>19.0</td>\n",
       "      <td>0.066940</td>\n",
       "      <td>948300.0</td>\n",
       "    </tr>\n",
       "    <tr>\n",
       "      <th>260</th>\n",
       "      <td>giadinhzozo</td>\n",
       "      <td>52805900.0</td>\n",
       "      <td>8.517081e+05</td>\n",
       "      <td>2494442.0</td>\n",
       "      <td>40232.935484</td>\n",
       "      <td>10892.0</td>\n",
       "      <td>22421.0</td>\n",
       "      <td>64717.0</td>\n",
       "      <td>62</td>\n",
       "      <td>661800.0</td>\n",
       "      <td>5567.0</td>\n",
       "      <td>0.049094</td>\n",
       "      <td>2592472.0</td>\n",
       "    </tr>\n",
       "    <tr>\n",
       "      <th>374</th>\n",
       "      <td>kun_thich_nauan</td>\n",
       "      <td>27628043.0</td>\n",
       "      <td>4.763456e+05</td>\n",
       "      <td>392189.0</td>\n",
       "      <td>6761.879310</td>\n",
       "      <td>4283.0</td>\n",
       "      <td>37496.0</td>\n",
       "      <td>65481.0</td>\n",
       "      <td>58</td>\n",
       "      <td>21800.0</td>\n",
       "      <td>3627.0</td>\n",
       "      <td>0.018078</td>\n",
       "      <td>499449.0</td>\n",
       "    </tr>\n",
       "    <tr>\n",
       "      <th>556</th>\n",
       "      <td>phuongoanh.daily</td>\n",
       "      <td>59900157.0</td>\n",
       "      <td>5.300899e+05</td>\n",
       "      <td>1372425.0</td>\n",
       "      <td>12145.353982</td>\n",
       "      <td>29800.0</td>\n",
       "      <td>38824.0</td>\n",
       "      <td>47456.0</td>\n",
       "      <td>113</td>\n",
       "      <td>939400.0</td>\n",
       "      <td>5118.0</td>\n",
       "      <td>0.024850</td>\n",
       "      <td>1488505.0</td>\n",
       "    </tr>\n",
       "    <tr>\n",
       "      <th>94</th>\n",
       "      <td>bayashi.tiktok</td>\n",
       "      <td>166989800.0</td>\n",
       "      <td>6.679592e+06</td>\n",
       "      <td>10321700.0</td>\n",
       "      <td>412868.000000</td>\n",
       "      <td>76420.0</td>\n",
       "      <td>241226.0</td>\n",
       "      <td>513957.0</td>\n",
       "      <td>25</td>\n",
       "      <td>55400000.0</td>\n",
       "      <td>1192.0</td>\n",
       "      <td>0.066790</td>\n",
       "      <td>11153303.0</td>\n",
       "    </tr>\n",
       "  </tbody>\n",
       "</table>\n",
       "</div>"
      ],
      "text/plain": [
       "              username  total_views     avg_views  total_likes      avg_likes  \\\n",
       "471  narrmulayofficial   14166400.0  7.083200e+05     907662.0   45383.100000   \n",
       "260        giadinhzozo   52805900.0  8.517081e+05    2494442.0   40232.935484   \n",
       "374    kun_thich_nauan   27628043.0  4.763456e+05     392189.0    6761.879310   \n",
       "556   phuongoanh.daily   59900157.0  5.300899e+05    1372425.0   12145.353982   \n",
       "94      bayashi.tiktok  166989800.0  6.679592e+06   10321700.0  412868.000000   \n",
       "\n",
       "     total_comments  total_shares  total_collects  total_videos   followers  \\\n",
       "471          6972.0        7640.0         26026.0            20    300300.0   \n",
       "260         10892.0       22421.0         64717.0            62    661800.0   \n",
       "374          4283.0       37496.0         65481.0            58     21800.0   \n",
       "556         29800.0       38824.0         47456.0           113    939400.0   \n",
       "94          76420.0      241226.0        513957.0            25  55400000.0   \n",
       "\n",
       "      likes  engagement_rate  total_engagement  \n",
       "471    19.0         0.066940          948300.0  \n",
       "260  5567.0         0.049094         2592472.0  \n",
       "374  3627.0         0.018078          499449.0  \n",
       "556  5118.0         0.024850         1488505.0  \n",
       "94   1192.0         0.066790        11153303.0  "
      ]
     },
     "metadata": {},
     "output_type": "display_data"
    }
   ],
   "source": [
    "# Lọc lại các cột quan trọng liên quan đến user và các chỉ số tương tác của video\n",
    "df_selected = filt_stats_df[[\n",
    "    # \"author.id\",  # ID của user\n",
    "    \"username\",  # Tên hiển thị của user\n",
    "    \"views\",  # Lượt xem video\n",
    "    \"likes\",  # Lượt thích video\n",
    "    \"comments\",  # Lượt bình luận video\n",
    "    \"shares\",  # Lượt chia sẻ video\n",
    "    'collects',\n",
    "    'user.followers',\n",
    "    'user.likes'\n",
    "]]\n",
    "\n",
    "# Kiểm tra dữ liệu bị thiếu\n",
    "df_selected = df_selected.dropna()\n",
    "\n",
    "# Tổng hợp dữ liệu theo user\n",
    "user_stats_df_0 = df_selected.groupby([\"username\"]).agg(\n",
    "    total_views=(\"views\", \"sum\"),\n",
    "    avg_views=(\"views\", \"mean\"),\n",
    "    total_likes=(\"likes\", \"sum\"),\n",
    "    avg_likes=(\"likes\", \"mean\"),\n",
    "    total_comments=(\"comments\", \"sum\"),\n",
    "    total_shares=(\"shares\", \"sum\"),\n",
    "    total_collects=(\"collects\", \"sum\"),\n",
    "    total_videos=(\"views\", \"count\"),  # Số lượng video của user\n",
    "    followers=('user.followers', 'max'),\n",
    "    likes=('user.likes', 'max'),\n",
    ").reset_index()\n",
    "\n",
    "user_stats_df_0 = user_stats_df_0.rename(columns={'username': 'username'})\n",
    "# Tính Engagement Rate (ER) trung bình\n",
    "user_stats_df_0[\"engagement_rate\"] = (user_stats_df_0[\"total_likes\"] + user_stats_df_0[\"total_comments\"] +\n",
    "                                      user_stats_df_0[\"total_shares\"]+user_stats_df_0[\"total_collects\"]) / user_stats_df_0[\"total_views\"]\n",
    "user_stats_df_0[\"total_engagement\"] = (user_stats_df_0[\"total_likes\"] + user_stats_df_0[\"total_comments\"] +\n",
    "                                       user_stats_df_0[\"total_shares\"]+user_stats_df_0[\"total_collects\"])\n",
    "# user_stats_df_0[\"avg_engagement\"] = user_stats_df_0[\"total_engagement\"] / \\\n",
    "#     user_stats_df_0[\"total_videos\"]\n",
    "# Loại bỏ những user có tổng lượt xem bằng 0 (tránh lỗi chia cho 0)\n",
    "user_stats_df_0 = user_stats_df_0[user_stats_df_0[\"total_views\"] > 0]\n",
    "display(user_stats_df_0.sample(5))\n",
    "# display(user_stats_df_0.describe())"
   ]
  },
  {
   "cell_type": "markdown",
   "metadata": {},
   "source": [
    "### Phần trăm video có caption bằng tiếng Việt\n"
   ]
  },
  {
   "cell_type": "code",
   "execution_count": 154,
   "metadata": {},
   "outputs": [
    {
     "data": {
      "application/vnd.microsoft.datawrangler.viewer.v0+json": {
       "columns": [
        {
         "name": "index",
         "rawType": "int64",
         "type": "integer"
        },
        {
         "name": "username",
         "rawType": "object",
         "type": "string"
        },
        {
         "name": "vi_video_percentage",
         "rawType": "float64",
         "type": "float"
        }
       ],
       "conversionMethod": "pd.DataFrame",
       "ref": "2151cbdf-5f75-41b8-9acd-8a3ebefc7de0",
       "rows": [
        [
         "0",
         ".banhsukem",
         "1.0"
        ],
        [
         "463",
         "lyluclac28",
         "1.0"
        ],
        [
         "192",
         "chuyennhauttinh",
         "1.0"
        ],
        [
         "191",
         "chuvuongdimorua",
         "1.0"
        ],
        [
         "190",
         "chutunghamvui66988",
         "1.0"
        ],
        [
         "460",
         "luongveangi",
         "1.0"
        ],
        [
         "188",
         "chuppywithropie",
         "1.0"
        ],
        [
         "461",
         "lyhealthy",
         "1.0"
        ],
        [
         "464",
         "mahu.an.gi",
         "1.0"
        ],
        [
         "456",
         "loveoffoods",
         "1.0"
        ],
        [
         "465",
         "mai_pham_95",
         "1.0"
        ],
        [
         "468",
         "manhoangcao",
         "1.0"
        ],
        [
         "469",
         "manman0712",
         "1.0"
        ],
        [
         "471",
         "matbu2828",
         "1.0"
        ],
        [
         "473",
         "me_sua_coca",
         "1.0"
        ],
        [
         "479",
         "mhon.vbep",
         "1.0"
        ],
        [
         "193",
         "clubmediple",
         "1.0"
        ],
        [
         "455",
         "lontodagi",
         "1.0"
        ],
        [
         "283",
         "giadinhdidi",
         "1.0"
        ],
        [
         "440",
         "lenkycungkhoa",
         "1.0"
        ],
        [
         "210",
         "cuoideyyy",
         "1.0"
        ],
        [
         "209",
         "cundaily216",
         "1.0"
        ],
        [
         "208",
         "cudamthepreview",
         "1.0"
        ],
        [
         "434",
         "lavaangiday",
         "1.0"
        ],
        [
         "436",
         "lee.haydi",
         "1.0"
        ],
        [
         "438",
         "legiang9922",
         "1.0"
        ],
        [
         "441",
         "lethanhtuan4999",
         "1.0"
        ],
        [
         "454",
         "longquandui",
         "1.0"
        ],
        [
         "202",
         "comnhain",
         "1.0"
        ],
        [
         "442",
         "letuanvu20",
         "1.0"
        ],
        [
         "443",
         "lieten91th",
         "1.0"
        ],
        [
         "448",
         "linhduyen171",
         "1.0"
        ],
        [
         "198",
         "coffeetimeofhang",
         "1.0"
        ],
        [
         "449",
         "linhluoinauu",
         "1.0"
        ],
        [
         "481",
         "miainkorea",
         "1.0"
        ],
        [
         "176",
         "chensach.hanoi",
         "1.0"
        ],
        [
         "483",
         "mienmanhanoi",
         "1.0"
        ],
        [
         "534",
         "nghetrinhhh",
         "1.0"
        ],
        [
         "521",
         "nauancungn",
         "1.0"
        ],
        [
         "155",
         "camona.net",
         "1.0"
        ],
        [
         "526",
         "naucunghang",
         "1.0"
        ],
        [
         "153",
         "camap.duu",
         "1.0"
        ],
        [
         "529",
         "neooididau",
         "1.0"
        ],
        [
         "533",
         "nghesinganquynh",
         "1.0"
        ],
        [
         "149",
         "buanaodian",
         "1.0"
        ],
        [
         "484",
         "minhlavuong0709",
         "1.0"
        ],
        [
         "148",
         "boytubynv02",
         "1.0"
        ],
        [
         "535",
         "nghia2302",
         "1.0"
        ],
        [
         "538",
         "ngoafood_",
         "1.0"
        ],
        [
         "540",
         "ngockhanhday",
         "1.0"
        ]
       ],
       "shape": {
        "columns": 2,
        "rows": 841
       }
      },
      "text/html": [
       "<div>\n",
       "<style scoped>\n",
       "    .dataframe tbody tr th:only-of-type {\n",
       "        vertical-align: middle;\n",
       "    }\n",
       "\n",
       "    .dataframe tbody tr th {\n",
       "        vertical-align: top;\n",
       "    }\n",
       "\n",
       "    .dataframe thead th {\n",
       "        text-align: right;\n",
       "    }\n",
       "</style>\n",
       "<table border=\"1\" class=\"dataframe\">\n",
       "  <thead>\n",
       "    <tr style=\"text-align: right;\">\n",
       "      <th></th>\n",
       "      <th>username</th>\n",
       "      <th>vi_video_percentage</th>\n",
       "    </tr>\n",
       "  </thead>\n",
       "  <tbody>\n",
       "    <tr>\n",
       "      <th>0</th>\n",
       "      <td>.banhsukem</td>\n",
       "      <td>1.0</td>\n",
       "    </tr>\n",
       "    <tr>\n",
       "      <th>463</th>\n",
       "      <td>lyluclac28</td>\n",
       "      <td>1.0</td>\n",
       "    </tr>\n",
       "    <tr>\n",
       "      <th>192</th>\n",
       "      <td>chuyennhauttinh</td>\n",
       "      <td>1.0</td>\n",
       "    </tr>\n",
       "    <tr>\n",
       "      <th>191</th>\n",
       "      <td>chuvuongdimorua</td>\n",
       "      <td>1.0</td>\n",
       "    </tr>\n",
       "    <tr>\n",
       "      <th>190</th>\n",
       "      <td>chutunghamvui66988</td>\n",
       "      <td>1.0</td>\n",
       "    </tr>\n",
       "    <tr>\n",
       "      <th>...</th>\n",
       "      <td>...</td>\n",
       "      <td>...</td>\n",
       "    </tr>\n",
       "    <tr>\n",
       "      <th>35</th>\n",
       "      <td>amthucth841</td>\n",
       "      <td>0.0</td>\n",
       "    </tr>\n",
       "    <tr>\n",
       "      <th>206</th>\n",
       "      <td>crustys_mtl</td>\n",
       "      <td>0.0</td>\n",
       "    </tr>\n",
       "    <tr>\n",
       "      <th>445</th>\n",
       "      <td>lifeofcian</td>\n",
       "      <td>0.0</td>\n",
       "    </tr>\n",
       "    <tr>\n",
       "      <th>446</th>\n",
       "      <td>lilah.eats</td>\n",
       "      <td>0.0</td>\n",
       "    </tr>\n",
       "    <tr>\n",
       "      <th>840</th>\n",
       "      <td>zermattneo</td>\n",
       "      <td>0.0</td>\n",
       "    </tr>\n",
       "  </tbody>\n",
       "</table>\n",
       "<p>841 rows × 2 columns</p>\n",
       "</div>"
      ],
      "text/plain": [
       "               username  vi_video_percentage\n",
       "0            .banhsukem                  1.0\n",
       "463          lyluclac28                  1.0\n",
       "192     chuyennhauttinh                  1.0\n",
       "191     chuvuongdimorua                  1.0\n",
       "190  chutunghamvui66988                  1.0\n",
       "..                  ...                  ...\n",
       "35          amthucth841                  0.0\n",
       "206         crustys_mtl                  0.0\n",
       "445          lifeofcian                  0.0\n",
       "446          lilah.eats                  0.0\n",
       "840          zermattneo                  0.0\n",
       "\n",
       "[841 rows x 2 columns]"
      ]
     },
     "execution_count": 154,
     "metadata": {},
     "output_type": "execute_result"
    }
   ],
   "source": [
    "# Tổng số video theo từng user\n",
    "total_videos = stats_df.groupby('username')['textLang'].count()\n",
    "\n",
    "# Số video có textLang là 'vi'\n",
    "vi_videos = stats_df[stats_df['textLang'] == 'vi'].groupby('username')[\n",
    "    'textLang'].count()\n",
    "\n",
    "# Ghép hai bảng, thay NaN bằng 0 (nếu user không có video tiếng Việt)\n",
    "percent_vi = (vi_videos / total_videos).fillna(0).reset_index()\n",
    "\n",
    "# Đổi tên cột\n",
    "percent_vi.columns = ['username', 'vi_video_percentage']\n",
    "percent_vi.sort_values('vi_video_percentage', ascending=False)"
   ]
  },
  {
   "cell_type": "markdown",
   "metadata": {},
   "source": [
    "### Khoảng thời gian giữa 2 bài đăng của user mà 75% bài đăng thoả ngưỡng đó.\n",
    "\n",
    "Tức là 75% các video của có khoảng cách giữa các lần đăng dưới ngưỡng này.\n"
   ]
  },
  {
   "cell_type": "code",
   "execution_count": 155,
   "metadata": {},
   "outputs": [
    {
     "data": {
      "application/vnd.microsoft.datawrangler.viewer.v0+json": {
       "columns": [
        {
         "name": "index",
         "rawType": "int64",
         "type": "integer"
        },
        {
         "name": "username",
         "rawType": "object",
         "type": "string"
        },
        {
         "name": "days_between_videos",
         "rawType": "float64",
         "type": "float"
        },
        {
         "name": "frequency",
         "rawType": "float64",
         "type": "float"
        }
       ],
       "conversionMethod": "pd.DataFrame",
       "ref": "57059ea0-224e-4089-ba30-611283d730f2",
       "rows": [
        [
         "0",
         ".banhsukem",
         "2.0669618055555556",
         "0.4838018764121387"
        ],
        [
         "1",
         "05061993chomthao",
         "8.379496527777777",
         "0.11933891215122894"
        ],
        [
         "2",
         "1108ng",
         "1.0170775462962964",
         "0.9832091993786662"
        ],
        [
         "3",
         "1phutsaigon",
         "1.0577951388888889",
         "0.9453626351983456"
        ],
        [
         "4",
         "30days__giamcanlanhmanh",
         "0.8131076388888889",
         "1.229849471549055"
        ]
       ],
       "shape": {
        "columns": 3,
        "rows": 5
       }
      },
      "text/html": [
       "<div>\n",
       "<style scoped>\n",
       "    .dataframe tbody tr th:only-of-type {\n",
       "        vertical-align: middle;\n",
       "    }\n",
       "\n",
       "    .dataframe tbody tr th {\n",
       "        vertical-align: top;\n",
       "    }\n",
       "\n",
       "    .dataframe thead th {\n",
       "        text-align: right;\n",
       "    }\n",
       "</style>\n",
       "<table border=\"1\" class=\"dataframe\">\n",
       "  <thead>\n",
       "    <tr style=\"text-align: right;\">\n",
       "      <th></th>\n",
       "      <th>username</th>\n",
       "      <th>days_between_videos</th>\n",
       "      <th>frequency</th>\n",
       "    </tr>\n",
       "  </thead>\n",
       "  <tbody>\n",
       "    <tr>\n",
       "      <th>0</th>\n",
       "      <td>.banhsukem</td>\n",
       "      <td>2.066962</td>\n",
       "      <td>0.483802</td>\n",
       "    </tr>\n",
       "    <tr>\n",
       "      <th>1</th>\n",
       "      <td>05061993chomthao</td>\n",
       "      <td>8.379497</td>\n",
       "      <td>0.119339</td>\n",
       "    </tr>\n",
       "    <tr>\n",
       "      <th>2</th>\n",
       "      <td>1108ng</td>\n",
       "      <td>1.017078</td>\n",
       "      <td>0.983209</td>\n",
       "    </tr>\n",
       "    <tr>\n",
       "      <th>3</th>\n",
       "      <td>1phutsaigon</td>\n",
       "      <td>1.057795</td>\n",
       "      <td>0.945363</td>\n",
       "    </tr>\n",
       "    <tr>\n",
       "      <th>4</th>\n",
       "      <td>30days__giamcanlanhmanh</td>\n",
       "      <td>0.813108</td>\n",
       "      <td>1.229849</td>\n",
       "    </tr>\n",
       "  </tbody>\n",
       "</table>\n",
       "</div>"
      ],
      "text/plain": [
       "                  username  days_between_videos  frequency\n",
       "0               .banhsukem             2.066962   0.483802\n",
       "1         05061993chomthao             8.379497   0.119339\n",
       "2                   1108ng             1.017078   0.983209\n",
       "3              1phutsaigon             1.057795   0.945363\n",
       "4  30days__giamcanlanhmanh             0.813108   1.229849"
      ]
     },
     "execution_count": 155,
     "metadata": {},
     "output_type": "execute_result"
    }
   ],
   "source": [
    "select_df = filt_stats_df\n",
    "select_df = select_df.sort_values(by=[\"username\", \"createTime\"])\n",
    "\n",
    "# Tính khoảng cách thời gian giữa các video liên tiếp của mỗi user\n",
    "select_df[\"time_diff\"] = select_df.groupby(\"username\")[\"createTime\"].diff()\n",
    "\n",
    "# Xử lý trường hợp user chỉ có 1 video, không tính được diff\n",
    "select_df[\"time_diff\"] = select_df[\"time_diff\"].fillna(pd.Timedelta(seconds=0))\n",
    "\n",
    "# Tính trung bình khoảng cách giữa các video cho mỗi user\n",
    "frequency_df = select_df.groupby(\"username\")[\"time_diff\"].quantile(\n",
    "    0.75).dt.total_seconds() / 3600 / 24  # Đổi ra ngày\n",
    "\n",
    "# Nếu chỉ có 1 video, gán giá trị 'inf' cho 'days_between_videos'\n",
    "frequency_df = frequency_df.reset_index(name=\"days_between_videos\")\n",
    "\n",
    "# Xử lý trường hợp user có 1 video\n",
    "single_video_users = frequency_df[frequency_df[\"days_between_videos\"] == 0]\n",
    "frequency_df.loc[single_video_users.index, \"days_between_videos\"] = float(\n",
    "    'inf')  # Gán giá trị 'inf' cho những người chỉ có 1 video\n",
    "frequency_df['frequency'] = 1 / frequency_df['days_between_videos']\n",
    "\n",
    "# Kiểm tra kết quả\n",
    "frequency_df.head()"
   ]
  },
  {
   "cell_type": "markdown",
   "metadata": {},
   "source": [
    "### Tính phần trăm cái bài đăng có liên quan đến ẩm thực (dựa trên hashtag)\n"
   ]
  },
  {
   "cell_type": "markdown",
   "metadata": {},
   "source": [
    "Danh sách các hashtag, số video tương ứng và số user sử dụng hashtag đó.\n"
   ]
  },
  {
   "cell_type": "code",
   "execution_count": 156,
   "metadata": {},
   "outputs": [
    {
     "data": {
      "application/vnd.microsoft.datawrangler.viewer.v0+json": {
       "columns": [
        {
         "name": "index",
         "rawType": "int64",
         "type": "integer"
        },
        {
         "name": "hashtags",
         "rawType": "object",
         "type": "string"
        },
        {
         "name": "videos_count",
         "rawType": "int64",
         "type": "integer"
        },
        {
         "name": "users_count",
         "rawType": "int64",
         "type": "integer"
        },
        {
         "name": "avg_videos_per_user",
         "rawType": "float64",
         "type": "float"
        }
       ],
       "conversionMethod": "pd.DataFrame",
       "ref": "bcfcbfe3-aea4-41e1-867f-5b7985692223",
       "rows": [
        [
         "0",
         "ancungtiktok",
         "72397",
         "506",
         "143.07707509881422"
        ],
        [
         "14",
         "",
         "9293",
         "468",
         "19.85683760683761"
        ],
        [
         "1",
         "xuhuong",
         "55936",
         "466",
         "120.0343347639485"
        ],
        [
         "2",
         "learnontiktok",
         "51133",
         "415",
         "123.21204819277108"
        ],
        [
         "34",
         "thanhthoiluottet",
         "5918",
         "384",
         "15.411458333333334"
        ],
        [
         "4",
         "fyp",
         "29026",
         "335",
         "86.64477611940299"
        ],
        [
         "5",
         "mukbang",
         "22170",
         "248",
         "89.39516129032258"
        ],
        [
         "6",
         "viral",
         "20915",
         "247",
         "84.67611336032388"
        ],
        [
         "7",
         "capcut",
         "15960",
         "244",
         "65.40983606557377"
        ],
        [
         "69",
         "tet2025",
         "2315",
         "240",
         "9.645833333333334"
        ],
        [
         "3",
         "reviewanngon",
         "29737",
         "239",
         "124.42259414225941"
        ],
        [
         "8",
         "food",
         "15632",
         "225",
         "69.47555555555556"
        ],
        [
         "15",
         "trending",
         "8902",
         "215",
         "41.4046511627907"
        ],
        [
         "9",
         "xuhuongtiktok",
         "12735",
         "208",
         "61.22596153846154"
        ],
        [
         "37",
         "anvat",
         "5306",
         "206",
         "25.75728155339806"
        ],
        [
         "159",
         "tet",
         "1002",
         "202",
         "4.96039603960396"
        ],
        [
         "139",
         "xmas2023",
         "1157",
         "192",
         "6.026041666666667"
        ],
        [
         "230",
         "banhmi",
         "701",
         "169",
         "4.14792899408284"
        ],
        [
         "21",
         "review",
         "6800",
         "163",
         "41.717791411042946"
        ],
        [
         "97",
         "trasua",
         "1702",
         "159",
         "10.70440251572327"
        ],
        [
         "184",
         "vanmonngonbungvi",
         "851",
         "152",
         "5.598684210526316"
        ],
        [
         "92",
         "dalat",
         "1788",
         "140",
         "12.771428571428572"
        ],
        [
         "275",
         "thomcaydungthayottrai",
         "601",
         "133",
         "4.518796992481203"
        ],
        [
         "154",
         "tet2024",
         "1040",
         "133",
         "7.819548872180451"
        ],
        [
         "28",
         "foodtiktok",
         "6488",
         "132",
         "49.15151515151515"
        ],
        [
         "271",
         "buffet",
         "605",
         "130",
         "4.653846153846154"
        ],
        [
         "299",
         "micay",
         "557",
         "129",
         "4.317829457364341"
        ],
        [
         "484",
         "pizza",
         "352",
         "126",
         "2.7936507936507935"
        ],
        [
         "22",
         "foodreview",
         "6785",
         "124",
         "54.71774193548387"
        ],
        [
         "13",
         "saigon",
         "10854",
         "123",
         "88.2439024390244"
        ],
        [
         "44",
         "cooking",
         "4058",
         "122",
         "33.26229508196721"
        ],
        [
         "72",
         "travel",
         "2237",
         "120",
         "18.641666666666666"
        ],
        [
         "17",
         "asmr",
         "8316",
         "119",
         "69.88235294117646"
        ],
        [
         "38",
         "nauancungtiktok",
         "5001",
         "119",
         "42.02521008403362"
        ],
        [
         "346",
         "garan",
         "477",
         "118",
         "4.0423728813559325"
        ],
        [
         "80",
         "comnha",
         "2105",
         "118",
         "17.838983050847457"
        ],
        [
         "81",
         "coffee",
         "2084",
         "118",
         "17.661016949152543"
        ],
        [
         "148",
         "tiktokawardsvn2023",
         "1087",
         "117",
         "9.290598290598291"
        ],
        [
         "57",
         "cafe",
         "2926",
         "117",
         "25.00854700854701"
        ],
        [
         "18",
         "monngonmoingay",
         "8150",
         "117",
         "69.65811965811966"
        ],
        [
         "393",
         "christmas",
         "428",
         "116",
         "3.689655172413793"
        ],
        [
         "117",
         "vietnam",
         "1403",
         "116",
         "12.094827586206897"
        ],
        [
         "258",
         "banhtrang",
         "629",
         "116",
         "5.422413793103448"
        ],
        [
         "515",
         "sushi",
         "335",
         "114",
         "2.93859649122807"
        ],
        [
         "574",
         "chinsu",
         "312",
         "114",
         "2.736842105263158"
        ],
        [
         "489",
         "noel",
         "348",
         "114",
         "3.0526315789473686"
        ],
        [
         "988",
         "bundaumamtom",
         "188",
         "112",
         "1.6785714285714286"
        ],
        [
         "542",
         "changa",
         "325",
         "109",
         "2.981651376146789"
        ],
        [
         "388",
         "anchay",
         "430",
         "109",
         "3.944954128440367"
        ],
        [
         "613",
         "thitnuong",
         "300",
         "108",
         "2.7777777777777777"
        ]
       ],
       "shape": {
        "columns": 4,
        "rows": 88726
       }
      },
      "text/html": [
       "<div>\n",
       "<style scoped>\n",
       "    .dataframe tbody tr th:only-of-type {\n",
       "        vertical-align: middle;\n",
       "    }\n",
       "\n",
       "    .dataframe tbody tr th {\n",
       "        vertical-align: top;\n",
       "    }\n",
       "\n",
       "    .dataframe thead th {\n",
       "        text-align: right;\n",
       "    }\n",
       "</style>\n",
       "<table border=\"1\" class=\"dataframe\">\n",
       "  <thead>\n",
       "    <tr style=\"text-align: right;\">\n",
       "      <th></th>\n",
       "      <th>hashtags</th>\n",
       "      <th>videos_count</th>\n",
       "      <th>users_count</th>\n",
       "      <th>avg_videos_per_user</th>\n",
       "    </tr>\n",
       "  </thead>\n",
       "  <tbody>\n",
       "    <tr>\n",
       "      <th>0</th>\n",
       "      <td>ancungtiktok</td>\n",
       "      <td>72397</td>\n",
       "      <td>506</td>\n",
       "      <td>143.077075</td>\n",
       "    </tr>\n",
       "    <tr>\n",
       "      <th>14</th>\n",
       "      <td></td>\n",
       "      <td>9293</td>\n",
       "      <td>468</td>\n",
       "      <td>19.856838</td>\n",
       "    </tr>\n",
       "    <tr>\n",
       "      <th>1</th>\n",
       "      <td>xuhuong</td>\n",
       "      <td>55936</td>\n",
       "      <td>466</td>\n",
       "      <td>120.034335</td>\n",
       "    </tr>\n",
       "    <tr>\n",
       "      <th>2</th>\n",
       "      <td>learnontiktok</td>\n",
       "      <td>51133</td>\n",
       "      <td>415</td>\n",
       "      <td>123.212048</td>\n",
       "    </tr>\n",
       "    <tr>\n",
       "      <th>34</th>\n",
       "      <td>thanhthoiluottet</td>\n",
       "      <td>5918</td>\n",
       "      <td>384</td>\n",
       "      <td>15.411458</td>\n",
       "    </tr>\n",
       "    <tr>\n",
       "      <th>...</th>\n",
       "      <td>...</td>\n",
       "      <td>...</td>\n",
       "      <td>...</td>\n",
       "      <td>...</td>\n",
       "    </tr>\n",
       "    <tr>\n",
       "      <th>44474</th>\n",
       "      <td>xuhaoxaocuonghong</td>\n",
       "      <td>1</td>\n",
       "      <td>1</td>\n",
       "      <td>1.000000</td>\n",
       "    </tr>\n",
       "    <tr>\n",
       "      <th>44475</th>\n",
       "      <td>ensaio.</td>\n",
       "      <td>1</td>\n",
       "      <td>1</td>\n",
       "      <td>1.000000</td>\n",
       "    </tr>\n",
       "    <tr>\n",
       "      <th>44476</th>\n",
       "      <td>buncavietnam</td>\n",
       "      <td>1</td>\n",
       "      <td>1</td>\n",
       "      <td>1.000000</td>\n",
       "    </tr>\n",
       "    <tr>\n",
       "      <th>44477</th>\n",
       "      <td>rumble</td>\n",
       "      <td>1</td>\n",
       "      <td>1</td>\n",
       "      <td>1.000000</td>\n",
       "    </tr>\n",
       "    <tr>\n",
       "      <th>88725</th>\n",
       "      <td>salehoinhasangtao</td>\n",
       "      <td>1</td>\n",
       "      <td>1</td>\n",
       "      <td>1.000000</td>\n",
       "    </tr>\n",
       "  </tbody>\n",
       "</table>\n",
       "<p>88726 rows × 4 columns</p>\n",
       "</div>"
      ],
      "text/plain": [
       "                hashtags  videos_count  users_count  avg_videos_per_user\n",
       "0           ancungtiktok         72397          506           143.077075\n",
       "14                                9293          468            19.856838\n",
       "1                xuhuong         55936          466           120.034335\n",
       "2          learnontiktok         51133          415           123.212048\n",
       "34      thanhthoiluottet          5918          384            15.411458\n",
       "...                  ...           ...          ...                  ...\n",
       "44474  xuhaoxaocuonghong             1            1             1.000000\n",
       "44475            ensaio.             1            1             1.000000\n",
       "44476       buncavietnam             1            1             1.000000\n",
       "44477             rumble             1            1             1.000000\n",
       "88725  salehoinhasangtao             1            1             1.000000\n",
       "\n",
       "[88726 rows x 4 columns]"
      ]
     },
     "metadata": {},
     "output_type": "display_data"
    }
   ],
   "source": [
    "# Tách hashtag thành từng dòng riêng biệt\n",
    "exploded_df = stats_df.explode(\"hashtags\")\n",
    "\n",
    "# Đếm số lượng video chứa mỗi hashtag\n",
    "hashtag_video_counts = exploded_df[\"hashtags\"].value_counts().reset_index()\n",
    "hashtag_video_counts.columns = [\"hashtags\", \"videos_count\"]\n",
    "\n",
    "# Đếm số tài khoản sử dụng mỗi hashtag (số user duy nhất)\n",
    "hashtag_user_counts = exploded_df.groupby(\n",
    "    \"hashtags\")[\"username\"].nunique().reset_index()\n",
    "hashtag_user_counts.columns = [\"hashtags\", \"users_count\"]\n",
    "\n",
    "# Gộp cả 2 thông tin vào cùng 1 DataFrame\n",
    "hashtags_df = hashtag_video_counts.merge(hashtag_user_counts, on=\"hashtags\")\n",
    "hashtags_df[\"avg_videos_per_user\"] = hashtags_df[\"videos_count\"] / \\\n",
    "    hashtags_df[\"users_count\"]\n",
    "hashtags_df = hashtags_df.sort_values('users_count', ascending=False)\n",
    "display(hashtags_df)\n",
    "# px.bar(hashtags_df.head(50), x='users_count', y='hashtags')"
   ]
  },
  {
   "cell_type": "markdown",
   "metadata": {},
   "source": [
    "Lọc ra các hashtag có liên quan đến ẩm thực.\n"
   ]
  },
  {
   "cell_type": "code",
   "execution_count": 157,
   "metadata": {},
   "outputs": [
    {
     "data": {
      "application/vnd.microsoft.datawrangler.viewer.v0+json": {
       "columns": [
        {
         "name": "index",
         "rawType": "int64",
         "type": "integer"
        },
        {
         "name": "hashtags",
         "rawType": "object",
         "type": "string"
        },
        {
         "name": "videos_count",
         "rawType": "int64",
         "type": "integer"
        },
        {
         "name": "users_count",
         "rawType": "int64",
         "type": "integer"
        },
        {
         "name": "avg_videos_per_user",
         "rawType": "float64",
         "type": "float"
        }
       ],
       "conversionMethod": "pd.DataFrame",
       "ref": "42ff376a-440b-4a2b-9005-6d18b72bcefa",
       "rows": [
        [
         "0",
         "ancungtiktok",
         "72397",
         "506",
         "143.07707509881422"
        ],
        [
         "1",
         "mukbang",
         "22170",
         "248",
         "89.39516129032258"
        ],
        [
         "2",
         "reviewanngon",
         "29737",
         "239",
         "124.42259414225941"
        ],
        [
         "3",
         "food",
         "15632",
         "225",
         "69.47555555555556"
        ],
        [
         "4",
         "anvat",
         "5306",
         "206",
         "25.75728155339806"
        ],
        [
         "5",
         "banhmi",
         "701",
         "169",
         "4.14792899408284"
        ],
        [
         "6",
         "trasua",
         "1702",
         "159",
         "10.70440251572327"
        ],
        [
         "7",
         "vanmonngonbungvi",
         "851",
         "152",
         "5.598684210526316"
        ],
        [
         "8",
         "foodtiktok",
         "6488",
         "132",
         "49.15151515151515"
        ],
        [
         "9",
         "buffet",
         "605",
         "130",
         "4.653846153846154"
        ],
        [
         "10",
         "micay",
         "557",
         "129",
         "4.317829457364341"
        ],
        [
         "11",
         "foodreview",
         "6785",
         "124",
         "54.71774193548387"
        ],
        [
         "12",
         "cooking",
         "4058",
         "122",
         "33.26229508196721"
        ],
        [
         "13",
         "nauancungtiktok",
         "5001",
         "119",
         "42.02521008403362"
        ],
        [
         "14",
         "comnha",
         "2105",
         "118",
         "17.838983050847457"
        ],
        [
         "15",
         "monngonmoingay",
         "8150",
         "117",
         "69.65811965811966"
        ],
        [
         "16",
         "banhtrang",
         "629",
         "116",
         "5.422413793103448"
        ],
        [
         "17",
         "bundaumamtom",
         "188",
         "112",
         "1.6785714285714286"
        ],
        [
         "18",
         "anchay",
         "430",
         "109",
         "3.944954128440367"
        ],
        [
         "19",
         "nauan",
         "3438",
         "107",
         "32.13084112149533"
        ],
        [
         "20",
         "koreanfood",
         "816",
         "97",
         "8.412371134020619"
        ],
        [
         "21",
         "banhtrungthu",
         "201",
         "92",
         "2.1847826086956523"
        ],
        [
         "22",
         "banhxeo",
         "125",
         "86",
         "1.4534883720930232"
        ],
        [
         "23",
         "amthuc",
         "3995",
         "86",
         "46.45348837209303"
        ],
        [
         "24",
         "comtam",
         "182",
         "85",
         "2.1411764705882352"
        ],
        [
         "25",
         "bunbohue",
         "214",
         "85",
         "2.5176470588235293"
        ],
        [
         "26",
         "monngon",
         "3595",
         "83",
         "43.31325301204819"
        ],
        [
         "27",
         "japanesefood",
         "612",
         "83",
         "7.373493975903615"
        ],
        [
         "28",
         "foodie",
         "4552",
         "82",
         "55.51219512195122"
        ],
        [
         "29",
         "banhtrangtron",
         "235",
         "81",
         "2.9012345679012346"
        ],
        [
         "30",
         "anngon",
         "4369",
         "80",
         "54.6125"
        ],
        [
         "31",
         "bunrieu",
         "202",
         "80",
         "2.525"
        ],
        [
         "32",
         "banhmichao",
         "146",
         "80",
         "1.825"
        ],
        [
         "33",
         "banhcanh",
         "177",
         "78",
         "2.269230769230769"
        ],
        [
         "34",
         "haisan",
         "467",
         "77",
         "6.064935064935065"
        ],
        [
         "35",
         "nuocmam",
         "186",
         "76",
         "2.4473684210526314"
        ],
        [
         "36",
         "ganuong",
         "182",
         "76",
         "2.3947368421052633"
        ],
        [
         "37",
         "mituongden",
         "152",
         "74",
         "2.054054054054054"
        ],
        [
         "38",
         "caphe",
         "1221",
         "74",
         "16.5"
        ],
        [
         "39",
         "tiktokfood",
         "4639",
         "71",
         "65.33802816901408"
        ],
        [
         "40",
         "bunbo",
         "210",
         "70",
         "3.0"
        ],
        [
         "41",
         "banhngot",
         "403",
         "68",
         "5.926470588235294"
        ],
        [
         "42",
         "namngudacsan",
         "87",
         "67",
         "1.2985074626865671"
        ],
        [
         "43",
         "hutieu",
         "178",
         "67",
         "2.656716417910448"
        ],
        [
         "44",
         "buncha",
         "115",
         "67",
         "1.7164179104477613"
        ],
        [
         "45",
         "streetfood",
         "2433",
         "64",
         "38.015625"
        ],
        [
         "46",
         "banhtrangphoisuong",
         "205",
         "63",
         "3.253968253968254"
        ],
        [
         "47",
         "homnayangi",
         "3525",
         "62",
         "56.854838709677416"
        ],
        [
         "48",
         "banhcuon",
         "114",
         "62",
         "1.8387096774193548"
        ],
        [
         "49",
         "ancungbatuyet",
         "270",
         "60",
         "4.5"
        ]
       ],
       "shape": {
        "columns": 4,
        "rows": 11258
       }
      },
      "text/html": [
       "<div>\n",
       "<style scoped>\n",
       "    .dataframe tbody tr th:only-of-type {\n",
       "        vertical-align: middle;\n",
       "    }\n",
       "\n",
       "    .dataframe tbody tr th {\n",
       "        vertical-align: top;\n",
       "    }\n",
       "\n",
       "    .dataframe thead th {\n",
       "        text-align: right;\n",
       "    }\n",
       "</style>\n",
       "<table border=\"1\" class=\"dataframe\">\n",
       "  <thead>\n",
       "    <tr style=\"text-align: right;\">\n",
       "      <th></th>\n",
       "      <th>hashtags</th>\n",
       "      <th>videos_count</th>\n",
       "      <th>users_count</th>\n",
       "      <th>avg_videos_per_user</th>\n",
       "    </tr>\n",
       "  </thead>\n",
       "  <tbody>\n",
       "    <tr>\n",
       "      <th>0</th>\n",
       "      <td>ancungtiktok</td>\n",
       "      <td>72397</td>\n",
       "      <td>506</td>\n",
       "      <td>143.077075</td>\n",
       "    </tr>\n",
       "    <tr>\n",
       "      <th>1</th>\n",
       "      <td>mukbang</td>\n",
       "      <td>22170</td>\n",
       "      <td>248</td>\n",
       "      <td>89.395161</td>\n",
       "    </tr>\n",
       "    <tr>\n",
       "      <th>2</th>\n",
       "      <td>reviewanngon</td>\n",
       "      <td>29737</td>\n",
       "      <td>239</td>\n",
       "      <td>124.422594</td>\n",
       "    </tr>\n",
       "    <tr>\n",
       "      <th>3</th>\n",
       "      <td>food</td>\n",
       "      <td>15632</td>\n",
       "      <td>225</td>\n",
       "      <td>69.475556</td>\n",
       "    </tr>\n",
       "    <tr>\n",
       "      <th>4</th>\n",
       "      <td>anvat</td>\n",
       "      <td>5306</td>\n",
       "      <td>206</td>\n",
       "      <td>25.757282</td>\n",
       "    </tr>\n",
       "    <tr>\n",
       "      <th>...</th>\n",
       "      <td>...</td>\n",
       "      <td>...</td>\n",
       "      <td>...</td>\n",
       "      <td>...</td>\n",
       "    </tr>\n",
       "    <tr>\n",
       "      <th>11253</th>\n",
       "      <td>tulambanhmi</td>\n",
       "      <td>1</td>\n",
       "      <td>1</td>\n",
       "      <td>1.000000</td>\n",
       "    </tr>\n",
       "    <tr>\n",
       "      <th>11254</th>\n",
       "      <td>banheiradegelo</td>\n",
       "      <td>1</td>\n",
       "      <td>1</td>\n",
       "      <td>1.000000</td>\n",
       "    </tr>\n",
       "    <tr>\n",
       "      <th>11255</th>\n",
       "      <td>steaktartare</td>\n",
       "      <td>1</td>\n",
       "      <td>1</td>\n",
       "      <td>1.000000</td>\n",
       "    </tr>\n",
       "    <tr>\n",
       "      <th>11256</th>\n",
       "      <td>takafoods</td>\n",
       "      <td>1</td>\n",
       "      <td>1</td>\n",
       "      <td>1.000000</td>\n",
       "    </tr>\n",
       "    <tr>\n",
       "      <th>11257</th>\n",
       "      <td>buncavietnam</td>\n",
       "      <td>1</td>\n",
       "      <td>1</td>\n",
       "      <td>1.000000</td>\n",
       "    </tr>\n",
       "  </tbody>\n",
       "</table>\n",
       "<p>11258 rows × 4 columns</p>\n",
       "</div>"
      ],
      "text/plain": [
       "             hashtags  videos_count  users_count  avg_videos_per_user\n",
       "0        ancungtiktok         72397          506           143.077075\n",
       "1             mukbang         22170          248            89.395161\n",
       "2        reviewanngon         29737          239           124.422594\n",
       "3                food         15632          225            69.475556\n",
       "4               anvat          5306          206            25.757282\n",
       "...               ...           ...          ...                  ...\n",
       "11253     tulambanhmi             1            1             1.000000\n",
       "11254  banheiradegelo             1            1             1.000000\n",
       "11255    steaktartare             1            1             1.000000\n",
       "11256       takafoods             1            1             1.000000\n",
       "11257    buncavietnam             1            1             1.000000\n",
       "\n",
       "[11258 rows x 4 columns]"
      ]
     },
     "metadata": {},
     "output_type": "display_data"
    }
   ],
   "source": [
    "food_keywords = [\n",
    "    \"food\", \"eat\", \"drink\", \"chef\", \"cook\", \"cooking\", \"recipe\", \"baking\", \"buffet\", \"steak\", \"grill\", \"vegan\",\n",
    "    \"anvat\",  \"anuong\",  \"angi\",  \"anngon\", \"doan\", \"ancung\", 'nauan', 'anchay',\n",
    "    \"douong\", \"nuocuong\",\n",
    "    \"monngon\", 'monchay',\n",
    "    \"ancom\", \"anvat\",  \"moncom\", \"buacom\", 'comnha', 'buacom', 'comtam', 'comchay',\n",
    "    \"hutieu\", \"banhmi\", \"haisan\", 'micay', 'mituongden', 'mycay', 'mytuongden',\n",
    "    \"trasua\", \"nuoc\", \"caphe\", \"sinhto\", \"ruou\", 'latte', 'cacao', 'caffe', 'bun', 'banh',\n",
    "    \"amthuc\",  \"nhahang\", \"thucdon\", \"dacsan\", \"mukbang\",\n",
    "]\n",
    "\n",
    "# food_keywords = [\n",
    "#     \"food\", \"eat\", \"drink\", \"chef\", \"cook\", \"cooking\", \"recipe\", \"baking\", \"buffet\", \"steak\", \"grill\", \"vegan\",\n",
    "#     \"amthuc\", \"an\",  \"nhahang\", \"mon\", \"ngon\", \"uong\", \"thucdon\", \"dacsan\", \"tiem\",\n",
    "#     # \"ancom\", \"anvat\",  \"moncom\", \"buacom\", 'comnha', 'buacom',\n",
    "#     \"hutieu\", \"banhmi\", \"haisan\", \"com\", 'bun', 'canh',\n",
    "#     \"tra\", \"sua\", \"nuoc\", \"caphe\", \"sinhto\", \"ruou\", 'latte', 'cacao', 'caffe',\n",
    "#     'banh',\n",
    "# ]\n",
    "\n",
    "food_related_hashtags_df = hashtags_df[hashtags_df[\"hashtags\"].apply(\n",
    "    lambda x: any(kw in x for kw in food_keywords))]\n",
    "food_related_hashtags_df = food_related_hashtags_df.sort_values(\n",
    "    'users_count', ascending=False, ignore_index=True)\n",
    "\n",
    "# with pd.option_context(\"display.max_rows\", None):\n",
    "display(food_related_hashtags_df)"
   ]
  },
  {
   "cell_type": "code",
   "execution_count": 158,
   "metadata": {},
   "outputs": [
    {
     "data": {
      "application/vnd.plotly.v1+json": {
       "config": {
        "plotlyServerURL": "https://plot.ly"
       },
       "data": [
        {
         "hovertemplate": "users_count=%{x}<br>hashtags=%{y}<extra></extra>",
         "legendgroup": "",
         "marker": {
          "color": "#636efa",
          "pattern": {
           "shape": ""
          }
         },
         "name": "",
         "orientation": "h",
         "showlegend": false,
         "textposition": "auto",
         "type": "bar",
         "x": {
          "bdata": "+gH4AO8A4QDOAKkAnwCYAIQAggCBAHwAegB3AHYAdQB0AHAAbQBrAGEAXABWAFYAVQBVAFMAUwBSAFEA",
          "dtype": "i2"
         },
         "xaxis": "x",
         "y": [
          "ancungtiktok",
          "mukbang",
          "reviewanngon",
          "food",
          "anvat",
          "banhmi",
          "trasua",
          "vanmonngonbungvi",
          "foodtiktok",
          "buffet",
          "micay",
          "foodreview",
          "cooking",
          "nauancungtiktok",
          "comnha",
          "monngonmoingay",
          "banhtrang",
          "bundaumamtom",
          "anchay",
          "nauan",
          "koreanfood",
          "banhtrungthu",
          "banhxeo",
          "amthuc",
          "comtam",
          "bunbohue",
          "monngon",
          "japanesefood",
          "foodie",
          "banhtrangtron"
         ],
         "yaxis": "y"
        }
       ],
       "layout": {
        "barmode": "relative",
        "height": 700,
        "legend": {
         "tracegroupgap": 0
        },
        "margin": {
         "t": 60
        },
        "template": {
         "data": {
          "bar": [
           {
            "error_x": {
             "color": "#2a3f5f"
            },
            "error_y": {
             "color": "#2a3f5f"
            },
            "marker": {
             "line": {
              "color": "#E5ECF6",
              "width": 0.5
             },
             "pattern": {
              "fillmode": "overlay",
              "size": 10,
              "solidity": 0.2
             }
            },
            "type": "bar"
           }
          ],
          "barpolar": [
           {
            "marker": {
             "line": {
              "color": "#E5ECF6",
              "width": 0.5
             },
             "pattern": {
              "fillmode": "overlay",
              "size": 10,
              "solidity": 0.2
             }
            },
            "type": "barpolar"
           }
          ],
          "carpet": [
           {
            "aaxis": {
             "endlinecolor": "#2a3f5f",
             "gridcolor": "white",
             "linecolor": "white",
             "minorgridcolor": "white",
             "startlinecolor": "#2a3f5f"
            },
            "baxis": {
             "endlinecolor": "#2a3f5f",
             "gridcolor": "white",
             "linecolor": "white",
             "minorgridcolor": "white",
             "startlinecolor": "#2a3f5f"
            },
            "type": "carpet"
           }
          ],
          "choropleth": [
           {
            "colorbar": {
             "outlinewidth": 0,
             "ticks": ""
            },
            "type": "choropleth"
           }
          ],
          "contour": [
           {
            "colorbar": {
             "outlinewidth": 0,
             "ticks": ""
            },
            "colorscale": [
             [
              0,
              "#0d0887"
             ],
             [
              0.1111111111111111,
              "#46039f"
             ],
             [
              0.2222222222222222,
              "#7201a8"
             ],
             [
              0.3333333333333333,
              "#9c179e"
             ],
             [
              0.4444444444444444,
              "#bd3786"
             ],
             [
              0.5555555555555556,
              "#d8576b"
             ],
             [
              0.6666666666666666,
              "#ed7953"
             ],
             [
              0.7777777777777778,
              "#fb9f3a"
             ],
             [
              0.8888888888888888,
              "#fdca26"
             ],
             [
              1,
              "#f0f921"
             ]
            ],
            "type": "contour"
           }
          ],
          "contourcarpet": [
           {
            "colorbar": {
             "outlinewidth": 0,
             "ticks": ""
            },
            "type": "contourcarpet"
           }
          ],
          "heatmap": [
           {
            "colorbar": {
             "outlinewidth": 0,
             "ticks": ""
            },
            "colorscale": [
             [
              0,
              "#0d0887"
             ],
             [
              0.1111111111111111,
              "#46039f"
             ],
             [
              0.2222222222222222,
              "#7201a8"
             ],
             [
              0.3333333333333333,
              "#9c179e"
             ],
             [
              0.4444444444444444,
              "#bd3786"
             ],
             [
              0.5555555555555556,
              "#d8576b"
             ],
             [
              0.6666666666666666,
              "#ed7953"
             ],
             [
              0.7777777777777778,
              "#fb9f3a"
             ],
             [
              0.8888888888888888,
              "#fdca26"
             ],
             [
              1,
              "#f0f921"
             ]
            ],
            "type": "heatmap"
           }
          ],
          "histogram": [
           {
            "marker": {
             "pattern": {
              "fillmode": "overlay",
              "size": 10,
              "solidity": 0.2
             }
            },
            "type": "histogram"
           }
          ],
          "histogram2d": [
           {
            "colorbar": {
             "outlinewidth": 0,
             "ticks": ""
            },
            "colorscale": [
             [
              0,
              "#0d0887"
             ],
             [
              0.1111111111111111,
              "#46039f"
             ],
             [
              0.2222222222222222,
              "#7201a8"
             ],
             [
              0.3333333333333333,
              "#9c179e"
             ],
             [
              0.4444444444444444,
              "#bd3786"
             ],
             [
              0.5555555555555556,
              "#d8576b"
             ],
             [
              0.6666666666666666,
              "#ed7953"
             ],
             [
              0.7777777777777778,
              "#fb9f3a"
             ],
             [
              0.8888888888888888,
              "#fdca26"
             ],
             [
              1,
              "#f0f921"
             ]
            ],
            "type": "histogram2d"
           }
          ],
          "histogram2dcontour": [
           {
            "colorbar": {
             "outlinewidth": 0,
             "ticks": ""
            },
            "colorscale": [
             [
              0,
              "#0d0887"
             ],
             [
              0.1111111111111111,
              "#46039f"
             ],
             [
              0.2222222222222222,
              "#7201a8"
             ],
             [
              0.3333333333333333,
              "#9c179e"
             ],
             [
              0.4444444444444444,
              "#bd3786"
             ],
             [
              0.5555555555555556,
              "#d8576b"
             ],
             [
              0.6666666666666666,
              "#ed7953"
             ],
             [
              0.7777777777777778,
              "#fb9f3a"
             ],
             [
              0.8888888888888888,
              "#fdca26"
             ],
             [
              1,
              "#f0f921"
             ]
            ],
            "type": "histogram2dcontour"
           }
          ],
          "mesh3d": [
           {
            "colorbar": {
             "outlinewidth": 0,
             "ticks": ""
            },
            "type": "mesh3d"
           }
          ],
          "parcoords": [
           {
            "line": {
             "colorbar": {
              "outlinewidth": 0,
              "ticks": ""
             }
            },
            "type": "parcoords"
           }
          ],
          "pie": [
           {
            "automargin": true,
            "type": "pie"
           }
          ],
          "scatter": [
           {
            "fillpattern": {
             "fillmode": "overlay",
             "size": 10,
             "solidity": 0.2
            },
            "type": "scatter"
           }
          ],
          "scatter3d": [
           {
            "line": {
             "colorbar": {
              "outlinewidth": 0,
              "ticks": ""
             }
            },
            "marker": {
             "colorbar": {
              "outlinewidth": 0,
              "ticks": ""
             }
            },
            "type": "scatter3d"
           }
          ],
          "scattercarpet": [
           {
            "marker": {
             "colorbar": {
              "outlinewidth": 0,
              "ticks": ""
             }
            },
            "type": "scattercarpet"
           }
          ],
          "scattergeo": [
           {
            "marker": {
             "colorbar": {
              "outlinewidth": 0,
              "ticks": ""
             }
            },
            "type": "scattergeo"
           }
          ],
          "scattergl": [
           {
            "marker": {
             "colorbar": {
              "outlinewidth": 0,
              "ticks": ""
             }
            },
            "type": "scattergl"
           }
          ],
          "scattermap": [
           {
            "marker": {
             "colorbar": {
              "outlinewidth": 0,
              "ticks": ""
             }
            },
            "type": "scattermap"
           }
          ],
          "scattermapbox": [
           {
            "marker": {
             "colorbar": {
              "outlinewidth": 0,
              "ticks": ""
             }
            },
            "type": "scattermapbox"
           }
          ],
          "scatterpolar": [
           {
            "marker": {
             "colorbar": {
              "outlinewidth": 0,
              "ticks": ""
             }
            },
            "type": "scatterpolar"
           }
          ],
          "scatterpolargl": [
           {
            "marker": {
             "colorbar": {
              "outlinewidth": 0,
              "ticks": ""
             }
            },
            "type": "scatterpolargl"
           }
          ],
          "scatterternary": [
           {
            "marker": {
             "colorbar": {
              "outlinewidth": 0,
              "ticks": ""
             }
            },
            "type": "scatterternary"
           }
          ],
          "surface": [
           {
            "colorbar": {
             "outlinewidth": 0,
             "ticks": ""
            },
            "colorscale": [
             [
              0,
              "#0d0887"
             ],
             [
              0.1111111111111111,
              "#46039f"
             ],
             [
              0.2222222222222222,
              "#7201a8"
             ],
             [
              0.3333333333333333,
              "#9c179e"
             ],
             [
              0.4444444444444444,
              "#bd3786"
             ],
             [
              0.5555555555555556,
              "#d8576b"
             ],
             [
              0.6666666666666666,
              "#ed7953"
             ],
             [
              0.7777777777777778,
              "#fb9f3a"
             ],
             [
              0.8888888888888888,
              "#fdca26"
             ],
             [
              1,
              "#f0f921"
             ]
            ],
            "type": "surface"
           }
          ],
          "table": [
           {
            "cells": {
             "fill": {
              "color": "#EBF0F8"
             },
             "line": {
              "color": "white"
             }
            },
            "header": {
             "fill": {
              "color": "#C8D4E3"
             },
             "line": {
              "color": "white"
             }
            },
            "type": "table"
           }
          ]
         },
         "layout": {
          "annotationdefaults": {
           "arrowcolor": "#2a3f5f",
           "arrowhead": 0,
           "arrowwidth": 1
          },
          "autotypenumbers": "strict",
          "coloraxis": {
           "colorbar": {
            "outlinewidth": 0,
            "ticks": ""
           }
          },
          "colorscale": {
           "diverging": [
            [
             0,
             "#8e0152"
            ],
            [
             0.1,
             "#c51b7d"
            ],
            [
             0.2,
             "#de77ae"
            ],
            [
             0.3,
             "#f1b6da"
            ],
            [
             0.4,
             "#fde0ef"
            ],
            [
             0.5,
             "#f7f7f7"
            ],
            [
             0.6,
             "#e6f5d0"
            ],
            [
             0.7,
             "#b8e186"
            ],
            [
             0.8,
             "#7fbc41"
            ],
            [
             0.9,
             "#4d9221"
            ],
            [
             1,
             "#276419"
            ]
           ],
           "sequential": [
            [
             0,
             "#0d0887"
            ],
            [
             0.1111111111111111,
             "#46039f"
            ],
            [
             0.2222222222222222,
             "#7201a8"
            ],
            [
             0.3333333333333333,
             "#9c179e"
            ],
            [
             0.4444444444444444,
             "#bd3786"
            ],
            [
             0.5555555555555556,
             "#d8576b"
            ],
            [
             0.6666666666666666,
             "#ed7953"
            ],
            [
             0.7777777777777778,
             "#fb9f3a"
            ],
            [
             0.8888888888888888,
             "#fdca26"
            ],
            [
             1,
             "#f0f921"
            ]
           ],
           "sequentialminus": [
            [
             0,
             "#0d0887"
            ],
            [
             0.1111111111111111,
             "#46039f"
            ],
            [
             0.2222222222222222,
             "#7201a8"
            ],
            [
             0.3333333333333333,
             "#9c179e"
            ],
            [
             0.4444444444444444,
             "#bd3786"
            ],
            [
             0.5555555555555556,
             "#d8576b"
            ],
            [
             0.6666666666666666,
             "#ed7953"
            ],
            [
             0.7777777777777778,
             "#fb9f3a"
            ],
            [
             0.8888888888888888,
             "#fdca26"
            ],
            [
             1,
             "#f0f921"
            ]
           ]
          },
          "colorway": [
           "#636efa",
           "#EF553B",
           "#00cc96",
           "#ab63fa",
           "#FFA15A",
           "#19d3f3",
           "#FF6692",
           "#B6E880",
           "#FF97FF",
           "#FECB52"
          ],
          "font": {
           "color": "#2a3f5f"
          },
          "geo": {
           "bgcolor": "white",
           "lakecolor": "white",
           "landcolor": "#E5ECF6",
           "showlakes": true,
           "showland": true,
           "subunitcolor": "white"
          },
          "hoverlabel": {
           "align": "left"
          },
          "hovermode": "closest",
          "mapbox": {
           "style": "light"
          },
          "paper_bgcolor": "white",
          "plot_bgcolor": "#E5ECF6",
          "polar": {
           "angularaxis": {
            "gridcolor": "white",
            "linecolor": "white",
            "ticks": ""
           },
           "bgcolor": "#E5ECF6",
           "radialaxis": {
            "gridcolor": "white",
            "linecolor": "white",
            "ticks": ""
           }
          },
          "scene": {
           "xaxis": {
            "backgroundcolor": "#E5ECF6",
            "gridcolor": "white",
            "gridwidth": 2,
            "linecolor": "white",
            "showbackground": true,
            "ticks": "",
            "zerolinecolor": "white"
           },
           "yaxis": {
            "backgroundcolor": "#E5ECF6",
            "gridcolor": "white",
            "gridwidth": 2,
            "linecolor": "white",
            "showbackground": true,
            "ticks": "",
            "zerolinecolor": "white"
           },
           "zaxis": {
            "backgroundcolor": "#E5ECF6",
            "gridcolor": "white",
            "gridwidth": 2,
            "linecolor": "white",
            "showbackground": true,
            "ticks": "",
            "zerolinecolor": "white"
           }
          },
          "shapedefaults": {
           "line": {
            "color": "#2a3f5f"
           }
          },
          "ternary": {
           "aaxis": {
            "gridcolor": "white",
            "linecolor": "white",
            "ticks": ""
           },
           "baxis": {
            "gridcolor": "white",
            "linecolor": "white",
            "ticks": ""
           },
           "bgcolor": "#E5ECF6",
           "caxis": {
            "gridcolor": "white",
            "linecolor": "white",
            "ticks": ""
           }
          },
          "title": {
           "x": 0.05
          },
          "xaxis": {
           "automargin": true,
           "gridcolor": "white",
           "linecolor": "white",
           "ticks": "",
           "title": {
            "standoff": 15
           },
           "zerolinecolor": "white",
           "zerolinewidth": 2
          },
          "yaxis": {
           "automargin": true,
           "gridcolor": "white",
           "linecolor": "white",
           "ticks": "",
           "title": {
            "standoff": 15
           },
           "zerolinecolor": "white",
           "zerolinewidth": 2
          }
         }
        },
        "xaxis": {
         "anchor": "y",
         "domain": [
          0,
          1
         ],
         "title": {
          "text": "users_count"
         }
        },
        "yaxis": {
         "anchor": "x",
         "domain": [
          0,
          1
         ],
         "title": {
          "text": "hashtags"
         }
        }
       }
      }
     },
     "metadata": {},
     "output_type": "display_data"
    }
   ],
   "source": [
    "px.bar(food_related_hashtags_df.head(30),\n",
    "       y='hashtags', x='users_count', height=700)"
   ]
  },
  {
   "cell_type": "code",
   "execution_count": 159,
   "metadata": {},
   "outputs": [],
   "source": [
    "# food_related_hashtags_df.to_csv(\"hashtag_list.csv\", index=False)"
   ]
  },
  {
   "cell_type": "markdown",
   "metadata": {},
   "source": [
    "Tính phần trăm các video có hashtag về ẩm thực của từng user.\n"
   ]
  },
  {
   "cell_type": "code",
   "execution_count": 160,
   "metadata": {},
   "outputs": [
    {
     "data": {
      "application/vnd.microsoft.datawrangler.viewer.v0+json": {
       "columns": [
        {
         "name": "index",
         "rawType": "int64",
         "type": "integer"
        },
        {
         "name": "username",
         "rawType": "object",
         "type": "string"
        },
        {
         "name": "total_videos",
         "rawType": "int64",
         "type": "integer"
        },
        {
         "name": "food_related_videos",
         "rawType": "int64",
         "type": "integer"
        },
        {
         "name": "food_video_percentage",
         "rawType": "float64",
         "type": "float"
        }
       ],
       "conversionMethod": "pd.DataFrame",
       "ref": "7c95e466-7fb2-47b8-948d-14de9414cdbc",
       "rows": [
        [
         "0",
         ".banhsukem",
         "34",
         "0",
         "0.0"
        ],
        [
         "1",
         "05061993chomthao",
         "11",
         "0",
         "0.0"
        ],
        [
         "2",
         "1108ng",
         "66",
         "66",
         "1.0"
        ],
        [
         "3",
         "1phutsaigon",
         "63",
         "8",
         "0.12698412698412698"
        ],
        [
         "4",
         "30days__giamcanlanhmanh",
         "51",
         "0",
         "0.0"
        ]
       ],
       "shape": {
        "columns": 4,
        "rows": 5
       }
      },
      "text/html": [
       "<div>\n",
       "<style scoped>\n",
       "    .dataframe tbody tr th:only-of-type {\n",
       "        vertical-align: middle;\n",
       "    }\n",
       "\n",
       "    .dataframe tbody tr th {\n",
       "        vertical-align: top;\n",
       "    }\n",
       "\n",
       "    .dataframe thead th {\n",
       "        text-align: right;\n",
       "    }\n",
       "</style>\n",
       "<table border=\"1\" class=\"dataframe\">\n",
       "  <thead>\n",
       "    <tr style=\"text-align: right;\">\n",
       "      <th></th>\n",
       "      <th>username</th>\n",
       "      <th>total_videos</th>\n",
       "      <th>food_related_videos</th>\n",
       "      <th>food_video_percentage</th>\n",
       "    </tr>\n",
       "  </thead>\n",
       "  <tbody>\n",
       "    <tr>\n",
       "      <th>0</th>\n",
       "      <td>.banhsukem</td>\n",
       "      <td>34</td>\n",
       "      <td>0</td>\n",
       "      <td>0.000000</td>\n",
       "    </tr>\n",
       "    <tr>\n",
       "      <th>1</th>\n",
       "      <td>05061993chomthao</td>\n",
       "      <td>11</td>\n",
       "      <td>0</td>\n",
       "      <td>0.000000</td>\n",
       "    </tr>\n",
       "    <tr>\n",
       "      <th>2</th>\n",
       "      <td>1108ng</td>\n",
       "      <td>66</td>\n",
       "      <td>66</td>\n",
       "      <td>1.000000</td>\n",
       "    </tr>\n",
       "    <tr>\n",
       "      <th>3</th>\n",
       "      <td>1phutsaigon</td>\n",
       "      <td>63</td>\n",
       "      <td>8</td>\n",
       "      <td>0.126984</td>\n",
       "    </tr>\n",
       "    <tr>\n",
       "      <th>4</th>\n",
       "      <td>30days__giamcanlanhmanh</td>\n",
       "      <td>51</td>\n",
       "      <td>0</td>\n",
       "      <td>0.000000</td>\n",
       "    </tr>\n",
       "  </tbody>\n",
       "</table>\n",
       "</div>"
      ],
      "text/plain": [
       "                  username  total_videos  food_related_videos  \\\n",
       "0               .banhsukem            34                    0   \n",
       "1         05061993chomthao            11                    0   \n",
       "2                   1108ng            66                   66   \n",
       "3              1phutsaigon            63                    8   \n",
       "4  30days__giamcanlanhmanh            51                    0   \n",
       "\n",
       "   food_video_percentage  \n",
       "0               0.000000  \n",
       "1               0.000000  \n",
       "2               1.000000  \n",
       "3               0.126984  \n",
       "4               0.000000  "
      ]
     },
     "execution_count": 160,
     "metadata": {},
     "output_type": "execute_result"
    }
   ],
   "source": [
    "# Danh sách các hashtag liên quan đến ẩm thực\n",
    "# food_related_hashtags = {\n",
    "#     \"reviewanngon\", \"ancungtiktok\", \"foodreview\", \"monngon\", \"anvat\",\n",
    "#     \"foodtour\", \"eatclean\", \"buacomgiadinh\", \"amthuc\", \"diadiemanuong\",\n",
    "#     \"reviewanuongsaigon\", \"anvatsaigon\", \"saigonfood\"\n",
    "# }\n",
    "\n",
    "# Bước 1: Lấy ra 100 hashtag ẩm thực có nhiều video nhất\n",
    "food_related_hashtags = food_related_hashtags_df.head(50)[\n",
    "    'hashtags'].to_list()\n",
    "# Bước 2: Tạo cột mới để đánh dấu video có chứa ít nhất một hashtag liên quan đến ẩm thực\n",
    "filt_stats_df[\"is_food_related\"] = filt_stats_df[\"hashtags\"].apply(\n",
    "    lambda tags: any(tag in food_related_hashtags for tag in tags)\n",
    ")\n",
    "\n",
    "# Bước 3: Tính tổng số video & số video liên quan đến ẩm thực của mỗi user\n",
    "food_user_df = filt_stats_df.groupby(\"username\").agg(\n",
    "    total_videos=(\"username\", \"count\"),\n",
    "    food_related_videos=(\"is_food_related\", \"sum\")\n",
    ").reset_index()\n",
    "\n",
    "# Bước 4: Tính phần trăm số video ẩm thực\n",
    "food_user_df[\"food_video_percentage\"] = (\n",
    "    food_user_df[\"food_related_videos\"] / food_user_df[\"total_videos\"])\n",
    "\n",
    "food_user_df = food_user_df.rename(columns={\"username\": \"username\"})\n",
    "food_user_df.head()"
   ]
  },
  {
   "cell_type": "markdown",
   "metadata": {},
   "source": [
    "Merge với `user_stats_df_0`.\n"
   ]
  },
  {
   "cell_type": "code",
   "execution_count": 161,
   "metadata": {},
   "outputs": [
    {
     "data": {
      "application/vnd.microsoft.datawrangler.viewer.v0+json": {
       "columns": [
        {
         "name": "index",
         "rawType": "int64",
         "type": "integer"
        },
        {
         "name": "username",
         "rawType": "object",
         "type": "string"
        },
        {
         "name": "total_views",
         "rawType": "float64",
         "type": "float"
        },
        {
         "name": "avg_views",
         "rawType": "float64",
         "type": "float"
        },
        {
         "name": "total_likes",
         "rawType": "float64",
         "type": "float"
        },
        {
         "name": "avg_likes",
         "rawType": "float64",
         "type": "float"
        },
        {
         "name": "total_comments",
         "rawType": "float64",
         "type": "float"
        },
        {
         "name": "total_shares",
         "rawType": "float64",
         "type": "float"
        },
        {
         "name": "total_collects",
         "rawType": "float64",
         "type": "float"
        },
        {
         "name": "total_videos",
         "rawType": "int64",
         "type": "integer"
        },
        {
         "name": "followers",
         "rawType": "float64",
         "type": "float"
        },
        {
         "name": "likes",
         "rawType": "float64",
         "type": "float"
        },
        {
         "name": "engagement_rate",
         "rawType": "float64",
         "type": "float"
        },
        {
         "name": "total_engagement",
         "rawType": "float64",
         "type": "float"
        },
        {
         "name": "vi_video_percentage",
         "rawType": "float64",
         "type": "float"
        },
        {
         "name": "days_between_videos",
         "rawType": "float64",
         "type": "float"
        },
        {
         "name": "frequency",
         "rawType": "float64",
         "type": "float"
        },
        {
         "name": "food_related_videos",
         "rawType": "int64",
         "type": "integer"
        },
        {
         "name": "food_video_percentage",
         "rawType": "float64",
         "type": "float"
        }
       ],
       "conversionMethod": "pd.DataFrame",
       "ref": "741304f9-7436-47df-b7f1-9ef36ed1634d",
       "rows": [
        [
         "103",
         "beohayanvat",
         "1301753.0",
         "30994.119047619046",
         "44847.0",
         "1067.7857142857142",
         "921.0",
         "10837.0",
         "14170.0",
         "42",
         "61700.0",
         "14500.0",
         "0.05436899319609788",
         "70775.0",
         "0.9973684210526316",
         "2.0642100694444445",
         "0.48444681808433243",
         "41",
         "0.9761904761904762"
        ],
        [
         "571",
         "quinnyandfelipene",
         "3132527.0",
         "62650.54",
         "218876.0",
         "4377.52",
         "1897.0",
         "20261.0",
         "5547.0",
         "50",
         "15300.0",
         "111.0",
         "0.07871632072125795",
         "246581.0",
         "0.9846153846153847",
         "1.508208912037037",
         "0.6630381189362996",
         "1",
         "0.02"
        ],
        [
         "335",
         "huygatuyen1",
         "2907.0",
         "581.4",
         "81.0",
         "16.2",
         "1.0",
         "1.0",
         "8.0",
         "5",
         "161200.0",
         "68.0",
         "0.03130374957000344",
         "91.0",
         "0.5645161290322581",
         "17.02605324074074",
         "0.05873351773663864",
         "0",
         "0.0"
        ],
        [
         "540",
         "phamtrang.2401",
         "3772489.0",
         "121693.19354838709",
         "170097.0",
         "5487.0",
         "718.0",
         "11323.0",
         "15550.0",
         "31",
         "304800.0",
         "48600.0",
         "0.0524025384832136",
         "197688.0",
         "1.0",
         "1.9944791666666666",
         "0.5013840288295817",
         "27",
         "0.8709677419354839"
        ],
        [
         "156",
         "cheducanh04",
         "31745500.0",
         "721488.6363636364",
         "1524315.0",
         "34643.52272727273",
         "24748.0",
         "75373.0",
         "62786.0",
         "44",
         "116400.0",
         "7461.0",
         "0.05314838323541919",
         "1687222.0",
         "0.9936305732484076",
         "2.418454861111111",
         "0.41348714672332976",
         "19",
         "0.4318181818181818"
        ]
       ],
       "shape": {
        "columns": 18,
        "rows": 5
       }
      },
      "text/html": [
       "<div>\n",
       "<style scoped>\n",
       "    .dataframe tbody tr th:only-of-type {\n",
       "        vertical-align: middle;\n",
       "    }\n",
       "\n",
       "    .dataframe tbody tr th {\n",
       "        vertical-align: top;\n",
       "    }\n",
       "\n",
       "    .dataframe thead th {\n",
       "        text-align: right;\n",
       "    }\n",
       "</style>\n",
       "<table border=\"1\" class=\"dataframe\">\n",
       "  <thead>\n",
       "    <tr style=\"text-align: right;\">\n",
       "      <th></th>\n",
       "      <th>username</th>\n",
       "      <th>total_views</th>\n",
       "      <th>avg_views</th>\n",
       "      <th>total_likes</th>\n",
       "      <th>avg_likes</th>\n",
       "      <th>total_comments</th>\n",
       "      <th>total_shares</th>\n",
       "      <th>total_collects</th>\n",
       "      <th>total_videos</th>\n",
       "      <th>followers</th>\n",
       "      <th>likes</th>\n",
       "      <th>engagement_rate</th>\n",
       "      <th>total_engagement</th>\n",
       "      <th>vi_video_percentage</th>\n",
       "      <th>days_between_videos</th>\n",
       "      <th>frequency</th>\n",
       "      <th>food_related_videos</th>\n",
       "      <th>food_video_percentage</th>\n",
       "    </tr>\n",
       "  </thead>\n",
       "  <tbody>\n",
       "    <tr>\n",
       "      <th>103</th>\n",
       "      <td>beohayanvat</td>\n",
       "      <td>1301753.0</td>\n",
       "      <td>30994.119048</td>\n",
       "      <td>44847.0</td>\n",
       "      <td>1067.785714</td>\n",
       "      <td>921.0</td>\n",
       "      <td>10837.0</td>\n",
       "      <td>14170.0</td>\n",
       "      <td>42</td>\n",
       "      <td>61700.0</td>\n",
       "      <td>14500.0</td>\n",
       "      <td>0.054369</td>\n",
       "      <td>70775.0</td>\n",
       "      <td>0.997368</td>\n",
       "      <td>2.064210</td>\n",
       "      <td>0.484447</td>\n",
       "      <td>41</td>\n",
       "      <td>0.976190</td>\n",
       "    </tr>\n",
       "    <tr>\n",
       "      <th>571</th>\n",
       "      <td>quinnyandfelipene</td>\n",
       "      <td>3132527.0</td>\n",
       "      <td>62650.540000</td>\n",
       "      <td>218876.0</td>\n",
       "      <td>4377.520000</td>\n",
       "      <td>1897.0</td>\n",
       "      <td>20261.0</td>\n",
       "      <td>5547.0</td>\n",
       "      <td>50</td>\n",
       "      <td>15300.0</td>\n",
       "      <td>111.0</td>\n",
       "      <td>0.078716</td>\n",
       "      <td>246581.0</td>\n",
       "      <td>0.984615</td>\n",
       "      <td>1.508209</td>\n",
       "      <td>0.663038</td>\n",
       "      <td>1</td>\n",
       "      <td>0.020000</td>\n",
       "    </tr>\n",
       "    <tr>\n",
       "      <th>335</th>\n",
       "      <td>huygatuyen1</td>\n",
       "      <td>2907.0</td>\n",
       "      <td>581.400000</td>\n",
       "      <td>81.0</td>\n",
       "      <td>16.200000</td>\n",
       "      <td>1.0</td>\n",
       "      <td>1.0</td>\n",
       "      <td>8.0</td>\n",
       "      <td>5</td>\n",
       "      <td>161200.0</td>\n",
       "      <td>68.0</td>\n",
       "      <td>0.031304</td>\n",
       "      <td>91.0</td>\n",
       "      <td>0.564516</td>\n",
       "      <td>17.026053</td>\n",
       "      <td>0.058734</td>\n",
       "      <td>0</td>\n",
       "      <td>0.000000</td>\n",
       "    </tr>\n",
       "    <tr>\n",
       "      <th>540</th>\n",
       "      <td>phamtrang.2401</td>\n",
       "      <td>3772489.0</td>\n",
       "      <td>121693.193548</td>\n",
       "      <td>170097.0</td>\n",
       "      <td>5487.000000</td>\n",
       "      <td>718.0</td>\n",
       "      <td>11323.0</td>\n",
       "      <td>15550.0</td>\n",
       "      <td>31</td>\n",
       "      <td>304800.0</td>\n",
       "      <td>48600.0</td>\n",
       "      <td>0.052403</td>\n",
       "      <td>197688.0</td>\n",
       "      <td>1.000000</td>\n",
       "      <td>1.994479</td>\n",
       "      <td>0.501384</td>\n",
       "      <td>27</td>\n",
       "      <td>0.870968</td>\n",
       "    </tr>\n",
       "    <tr>\n",
       "      <th>156</th>\n",
       "      <td>cheducanh04</td>\n",
       "      <td>31745500.0</td>\n",
       "      <td>721488.636364</td>\n",
       "      <td>1524315.0</td>\n",
       "      <td>34643.522727</td>\n",
       "      <td>24748.0</td>\n",
       "      <td>75373.0</td>\n",
       "      <td>62786.0</td>\n",
       "      <td>44</td>\n",
       "      <td>116400.0</td>\n",
       "      <td>7461.0</td>\n",
       "      <td>0.053148</td>\n",
       "      <td>1687222.0</td>\n",
       "      <td>0.993631</td>\n",
       "      <td>2.418455</td>\n",
       "      <td>0.413487</td>\n",
       "      <td>19</td>\n",
       "      <td>0.431818</td>\n",
       "    </tr>\n",
       "  </tbody>\n",
       "</table>\n",
       "</div>"
      ],
      "text/plain": [
       "              username  total_views      avg_views  total_likes     avg_likes  \\\n",
       "103        beohayanvat    1301753.0   30994.119048      44847.0   1067.785714   \n",
       "571  quinnyandfelipene    3132527.0   62650.540000     218876.0   4377.520000   \n",
       "335        huygatuyen1       2907.0     581.400000         81.0     16.200000   \n",
       "540     phamtrang.2401    3772489.0  121693.193548     170097.0   5487.000000   \n",
       "156        cheducanh04   31745500.0  721488.636364    1524315.0  34643.522727   \n",
       "\n",
       "     total_comments  total_shares  total_collects  total_videos  followers  \\\n",
       "103           921.0       10837.0         14170.0            42    61700.0   \n",
       "571          1897.0       20261.0          5547.0            50    15300.0   \n",
       "335             1.0           1.0             8.0             5   161200.0   \n",
       "540           718.0       11323.0         15550.0            31   304800.0   \n",
       "156         24748.0       75373.0         62786.0            44   116400.0   \n",
       "\n",
       "       likes  engagement_rate  total_engagement  vi_video_percentage  \\\n",
       "103  14500.0         0.054369           70775.0             0.997368   \n",
       "571    111.0         0.078716          246581.0             0.984615   \n",
       "335     68.0         0.031304              91.0             0.564516   \n",
       "540  48600.0         0.052403          197688.0             1.000000   \n",
       "156   7461.0         0.053148         1687222.0             0.993631   \n",
       "\n",
       "     days_between_videos  frequency  food_related_videos  \\\n",
       "103             2.064210   0.484447                   41   \n",
       "571             1.508209   0.663038                    1   \n",
       "335            17.026053   0.058734                    0   \n",
       "540             1.994479   0.501384                   27   \n",
       "156             2.418455   0.413487                   19   \n",
       "\n",
       "     food_video_percentage  \n",
       "103               0.976190  \n",
       "571               0.020000  \n",
       "335               0.000000  \n",
       "540               0.870968  \n",
       "156               0.431818  "
      ]
     },
     "metadata": {},
     "output_type": "display_data"
    }
   ],
   "source": [
    "user_stats_df = user_stats_df_0.merge(percent_vi, on='username').merge(frequency_df, on=\"username\").merge(\n",
    "    food_user_df, on=['username', 'total_videos'])\n",
    "user_stats_df = user_stats_df[user_stats_df['frequency'] != 0]\n",
    "user_stats_df.head()\n",
    "\n",
    "display(user_stats_df.sample(5))"
   ]
  },
  {
   "cell_type": "markdown",
   "metadata": {},
   "source": [
    "### Lọc user theo các ngưỡng\n"
   ]
  },
  {
   "cell_type": "markdown",
   "metadata": {},
   "source": [
    "#### Visualization\n"
   ]
  },
  {
   "cell_type": "code",
   "execution_count": 162,
   "metadata": {},
   "outputs": [
    {
     "data": {
      "application/vnd.plotly.v1+json": {
       "config": {
        "plotlyServerURL": "https://plot.ly"
       },
       "data": [
        {
         "bingroup": "x",
         "hovertemplate": "vi_video_percentage=%{x}<br>count=%{y}<extra></extra>",
         "legendgroup": "",
         "marker": {
          "color": "#636efa",
          "pattern": {
           "shape": ""
          }
         },
         "name": "",
         "orientation": "v",
         "showlegend": false,
         "type": "histogram",
         "x": {
          "bdata": "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",
          "dtype": "f8"
         },
         "xaxis": "x",
         "yaxis": "y"
        }
       ],
       "layout": {
        "barmode": "relative",
        "legend": {
         "tracegroupgap": 0
        },
        "template": {
         "data": {
          "bar": [
           {
            "error_x": {
             "color": "#2a3f5f"
            },
            "error_y": {
             "color": "#2a3f5f"
            },
            "marker": {
             "line": {
              "color": "#E5ECF6",
              "width": 0.5
             },
             "pattern": {
              "fillmode": "overlay",
              "size": 10,
              "solidity": 0.2
             }
            },
            "type": "bar"
           }
          ],
          "barpolar": [
           {
            "marker": {
             "line": {
              "color": "#E5ECF6",
              "width": 0.5
             },
             "pattern": {
              "fillmode": "overlay",
              "size": 10,
              "solidity": 0.2
             }
            },
            "type": "barpolar"
           }
          ],
          "carpet": [
           {
            "aaxis": {
             "endlinecolor": "#2a3f5f",
             "gridcolor": "white",
             "linecolor": "white",
             "minorgridcolor": "white",
             "startlinecolor": "#2a3f5f"
            },
            "baxis": {
             "endlinecolor": "#2a3f5f",
             "gridcolor": "white",
             "linecolor": "white",
             "minorgridcolor": "white",
             "startlinecolor": "#2a3f5f"
            },
            "type": "carpet"
           }
          ],
          "choropleth": [
           {
            "colorbar": {
             "outlinewidth": 0,
             "ticks": ""
            },
            "type": "choropleth"
           }
          ],
          "contour": [
           {
            "colorbar": {
             "outlinewidth": 0,
             "ticks": ""
            },
            "colorscale": [
             [
              0,
              "#0d0887"
             ],
             [
              0.1111111111111111,
              "#46039f"
             ],
             [
              0.2222222222222222,
              "#7201a8"
             ],
             [
              0.3333333333333333,
              "#9c179e"
             ],
             [
              0.4444444444444444,
              "#bd3786"
             ],
             [
              0.5555555555555556,
              "#d8576b"
             ],
             [
              0.6666666666666666,
              "#ed7953"
             ],
             [
              0.7777777777777778,
              "#fb9f3a"
             ],
             [
              0.8888888888888888,
              "#fdca26"
             ],
             [
              1,
              "#f0f921"
             ]
            ],
            "type": "contour"
           }
          ],
          "contourcarpet": [
           {
            "colorbar": {
             "outlinewidth": 0,
             "ticks": ""
            },
            "type": "contourcarpet"
           }
          ],
          "heatmap": [
           {
            "colorbar": {
             "outlinewidth": 0,
             "ticks": ""
            },
            "colorscale": [
             [
              0,
              "#0d0887"
             ],
             [
              0.1111111111111111,
              "#46039f"
             ],
             [
              0.2222222222222222,
              "#7201a8"
             ],
             [
              0.3333333333333333,
              "#9c179e"
             ],
             [
              0.4444444444444444,
              "#bd3786"
             ],
             [
              0.5555555555555556,
              "#d8576b"
             ],
             [
              0.6666666666666666,
              "#ed7953"
             ],
             [
              0.7777777777777778,
              "#fb9f3a"
             ],
             [
              0.8888888888888888,
              "#fdca26"
             ],
             [
              1,
              "#f0f921"
             ]
            ],
            "type": "heatmap"
           }
          ],
          "histogram": [
           {
            "marker": {
             "pattern": {
              "fillmode": "overlay",
              "size": 10,
              "solidity": 0.2
             }
            },
            "type": "histogram"
           }
          ],
          "histogram2d": [
           {
            "colorbar": {
             "outlinewidth": 0,
             "ticks": ""
            },
            "colorscale": [
             [
              0,
              "#0d0887"
             ],
             [
              0.1111111111111111,
              "#46039f"
             ],
             [
              0.2222222222222222,
              "#7201a8"
             ],
             [
              0.3333333333333333,
              "#9c179e"
             ],
             [
              0.4444444444444444,
              "#bd3786"
             ],
             [
              0.5555555555555556,
              "#d8576b"
             ],
             [
              0.6666666666666666,
              "#ed7953"
             ],
             [
              0.7777777777777778,
              "#fb9f3a"
             ],
             [
              0.8888888888888888,
              "#fdca26"
             ],
             [
              1,
              "#f0f921"
             ]
            ],
            "type": "histogram2d"
           }
          ],
          "histogram2dcontour": [
           {
            "colorbar": {
             "outlinewidth": 0,
             "ticks": ""
            },
            "colorscale": [
             [
              0,
              "#0d0887"
             ],
             [
              0.1111111111111111,
              "#46039f"
             ],
             [
              0.2222222222222222,
              "#7201a8"
             ],
             [
              0.3333333333333333,
              "#9c179e"
             ],
             [
              0.4444444444444444,
              "#bd3786"
             ],
             [
              0.5555555555555556,
              "#d8576b"
             ],
             [
              0.6666666666666666,
              "#ed7953"
             ],
             [
              0.7777777777777778,
              "#fb9f3a"
             ],
             [
              0.8888888888888888,
              "#fdca26"
             ],
             [
              1,
              "#f0f921"
             ]
            ],
            "type": "histogram2dcontour"
           }
          ],
          "mesh3d": [
           {
            "colorbar": {
             "outlinewidth": 0,
             "ticks": ""
            },
            "type": "mesh3d"
           }
          ],
          "parcoords": [
           {
            "line": {
             "colorbar": {
              "outlinewidth": 0,
              "ticks": ""
             }
            },
            "type": "parcoords"
           }
          ],
          "pie": [
           {
            "automargin": true,
            "type": "pie"
           }
          ],
          "scatter": [
           {
            "fillpattern": {
             "fillmode": "overlay",
             "size": 10,
             "solidity": 0.2
            },
            "type": "scatter"
           }
          ],
          "scatter3d": [
           {
            "line": {
             "colorbar": {
              "outlinewidth": 0,
              "ticks": ""
             }
            },
            "marker": {
             "colorbar": {
              "outlinewidth": 0,
              "ticks": ""
             }
            },
            "type": "scatter3d"
           }
          ],
          "scattercarpet": [
           {
            "marker": {
             "colorbar": {
              "outlinewidth": 0,
              "ticks": ""
             }
            },
            "type": "scattercarpet"
           }
          ],
          "scattergeo": [
           {
            "marker": {
             "colorbar": {
              "outlinewidth": 0,
              "ticks": ""
             }
            },
            "type": "scattergeo"
           }
          ],
          "scattergl": [
           {
            "marker": {
             "colorbar": {
              "outlinewidth": 0,
              "ticks": ""
             }
            },
            "type": "scattergl"
           }
          ],
          "scattermap": [
           {
            "marker": {
             "colorbar": {
              "outlinewidth": 0,
              "ticks": ""
             }
            },
            "type": "scattermap"
           }
          ],
          "scattermapbox": [
           {
            "marker": {
             "colorbar": {
              "outlinewidth": 0,
              "ticks": ""
             }
            },
            "type": "scattermapbox"
           }
          ],
          "scatterpolar": [
           {
            "marker": {
             "colorbar": {
              "outlinewidth": 0,
              "ticks": ""
             }
            },
            "type": "scatterpolar"
           }
          ],
          "scatterpolargl": [
           {
            "marker": {
             "colorbar": {
              "outlinewidth": 0,
              "ticks": ""
             }
            },
            "type": "scatterpolargl"
           }
          ],
          "scatterternary": [
           {
            "marker": {
             "colorbar": {
              "outlinewidth": 0,
              "ticks": ""
             }
            },
            "type": "scatterternary"
           }
          ],
          "surface": [
           {
            "colorbar": {
             "outlinewidth": 0,
             "ticks": ""
            },
            "colorscale": [
             [
              0,
              "#0d0887"
             ],
             [
              0.1111111111111111,
              "#46039f"
             ],
             [
              0.2222222222222222,
              "#7201a8"
             ],
             [
              0.3333333333333333,
              "#9c179e"
             ],
             [
              0.4444444444444444,
              "#bd3786"
             ],
             [
              0.5555555555555556,
              "#d8576b"
             ],
             [
              0.6666666666666666,
              "#ed7953"
             ],
             [
              0.7777777777777778,
              "#fb9f3a"
             ],
             [
              0.8888888888888888,
              "#fdca26"
             ],
             [
              1,
              "#f0f921"
             ]
            ],
            "type": "surface"
           }
          ],
          "table": [
           {
            "cells": {
             "fill": {
              "color": "#EBF0F8"
             },
             "line": {
              "color": "white"
             }
            },
            "header": {
             "fill": {
              "color": "#C8D4E3"
             },
             "line": {
              "color": "white"
             }
            },
            "type": "table"
           }
          ]
         },
         "layout": {
          "annotationdefaults": {
           "arrowcolor": "#2a3f5f",
           "arrowhead": 0,
           "arrowwidth": 1
          },
          "autotypenumbers": "strict",
          "coloraxis": {
           "colorbar": {
            "outlinewidth": 0,
            "ticks": ""
           }
          },
          "colorscale": {
           "diverging": [
            [
             0,
             "#8e0152"
            ],
            [
             0.1,
             "#c51b7d"
            ],
            [
             0.2,
             "#de77ae"
            ],
            [
             0.3,
             "#f1b6da"
            ],
            [
             0.4,
             "#fde0ef"
            ],
            [
             0.5,
             "#f7f7f7"
            ],
            [
             0.6,
             "#e6f5d0"
            ],
            [
             0.7,
             "#b8e186"
            ],
            [
             0.8,
             "#7fbc41"
            ],
            [
             0.9,
             "#4d9221"
            ],
            [
             1,
             "#276419"
            ]
           ],
           "sequential": [
            [
             0,
             "#0d0887"
            ],
            [
             0.1111111111111111,
             "#46039f"
            ],
            [
             0.2222222222222222,
             "#7201a8"
            ],
            [
             0.3333333333333333,
             "#9c179e"
            ],
            [
             0.4444444444444444,
             "#bd3786"
            ],
            [
             0.5555555555555556,
             "#d8576b"
            ],
            [
             0.6666666666666666,
             "#ed7953"
            ],
            [
             0.7777777777777778,
             "#fb9f3a"
            ],
            [
             0.8888888888888888,
             "#fdca26"
            ],
            [
             1,
             "#f0f921"
            ]
           ],
           "sequentialminus": [
            [
             0,
             "#0d0887"
            ],
            [
             0.1111111111111111,
             "#46039f"
            ],
            [
             0.2222222222222222,
             "#7201a8"
            ],
            [
             0.3333333333333333,
             "#9c179e"
            ],
            [
             0.4444444444444444,
             "#bd3786"
            ],
            [
             0.5555555555555556,
             "#d8576b"
            ],
            [
             0.6666666666666666,
             "#ed7953"
            ],
            [
             0.7777777777777778,
             "#fb9f3a"
            ],
            [
             0.8888888888888888,
             "#fdca26"
            ],
            [
             1,
             "#f0f921"
            ]
           ]
          },
          "colorway": [
           "#636efa",
           "#EF553B",
           "#00cc96",
           "#ab63fa",
           "#FFA15A",
           "#19d3f3",
           "#FF6692",
           "#B6E880",
           "#FF97FF",
           "#FECB52"
          ],
          "font": {
           "color": "#2a3f5f"
          },
          "geo": {
           "bgcolor": "white",
           "lakecolor": "white",
           "landcolor": "#E5ECF6",
           "showlakes": true,
           "showland": true,
           "subunitcolor": "white"
          },
          "hoverlabel": {
           "align": "left"
          },
          "hovermode": "closest",
          "mapbox": {
           "style": "light"
          },
          "paper_bgcolor": "white",
          "plot_bgcolor": "#E5ECF6",
          "polar": {
           "angularaxis": {
            "gridcolor": "white",
            "linecolor": "white",
            "ticks": ""
           },
           "bgcolor": "#E5ECF6",
           "radialaxis": {
            "gridcolor": "white",
            "linecolor": "white",
            "ticks": ""
           }
          },
          "scene": {
           "xaxis": {
            "backgroundcolor": "#E5ECF6",
            "gridcolor": "white",
            "gridwidth": 2,
            "linecolor": "white",
            "showbackground": true,
            "ticks": "",
            "zerolinecolor": "white"
           },
           "yaxis": {
            "backgroundcolor": "#E5ECF6",
            "gridcolor": "white",
            "gridwidth": 2,
            "linecolor": "white",
            "showbackground": true,
            "ticks": "",
            "zerolinecolor": "white"
           },
           "zaxis": {
            "backgroundcolor": "#E5ECF6",
            "gridcolor": "white",
            "gridwidth": 2,
            "linecolor": "white",
            "showbackground": true,
            "ticks": "",
            "zerolinecolor": "white"
           }
          },
          "shapedefaults": {
           "line": {
            "color": "#2a3f5f"
           }
          },
          "ternary": {
           "aaxis": {
            "gridcolor": "white",
            "linecolor": "white",
            "ticks": ""
           },
           "baxis": {
            "gridcolor": "white",
            "linecolor": "white",
            "ticks": ""
           },
           "bgcolor": "#E5ECF6",
           "caxis": {
            "gridcolor": "white",
            "linecolor": "white",
            "ticks": ""
           }
          },
          "title": {
           "x": 0.05
          },
          "xaxis": {
           "automargin": true,
           "gridcolor": "white",
           "linecolor": "white",
           "ticks": "",
           "title": {
            "standoff": 15
           },
           "zerolinecolor": "white",
           "zerolinewidth": 2
          },
          "yaxis": {
           "automargin": true,
           "gridcolor": "white",
           "linecolor": "white",
           "ticks": "",
           "title": {
            "standoff": 15
           },
           "zerolinecolor": "white",
           "zerolinewidth": 2
          }
         }
        },
        "title": {
         "text": "Phân phối User theo Phần trăm video có caption tiếng Việt"
        },
        "xaxis": {
         "anchor": "y",
         "domain": [
          0,
          1
         ],
         "title": {
          "text": "vi_video_percentage"
         }
        },
        "yaxis": {
         "anchor": "x",
         "domain": [
          0,
          1
         ],
         "title": {
          "text": "count"
         }
        }
       }
      }
     },
     "metadata": {},
     "output_type": "display_data"
    }
   ],
   "source": [
    "px.histogram(user_stats_df, x='vi_video_percentage',\n",
    "             title=\"Phân phối User theo Phần trăm video có caption tiếng Việt\")"
   ]
  },
  {
   "cell_type": "code",
   "execution_count": 163,
   "metadata": {},
   "outputs": [
    {
     "data": {
      "application/vnd.plotly.v1+json": {
       "config": {
        "plotlyServerURL": "https://plot.ly"
       },
       "data": [
        {
         "bingroup": "x",
         "hovertemplate": "food_video_percentage=%{x}<br>count=%{y}<extra></extra>",
         "legendgroup": "",
         "marker": {
          "color": "#636efa",
          "pattern": {
           "shape": ""
          }
         },
         "name": "",
         "nbinsx": 20,
         "orientation": "v",
         "showlegend": false,
         "type": "histogram",
         "x": {
          "bdata": "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",
          "dtype": "f8"
         },
         "xaxis": "x",
         "yaxis": "y"
        }
       ],
       "layout": {
        "barmode": "relative",
        "legend": {
         "tracegroupgap": 0
        },
        "template": {
         "data": {
          "bar": [
           {
            "error_x": {
             "color": "#2a3f5f"
            },
            "error_y": {
             "color": "#2a3f5f"
            },
            "marker": {
             "line": {
              "color": "#E5ECF6",
              "width": 0.5
             },
             "pattern": {
              "fillmode": "overlay",
              "size": 10,
              "solidity": 0.2
             }
            },
            "type": "bar"
           }
          ],
          "barpolar": [
           {
            "marker": {
             "line": {
              "color": "#E5ECF6",
              "width": 0.5
             },
             "pattern": {
              "fillmode": "overlay",
              "size": 10,
              "solidity": 0.2
             }
            },
            "type": "barpolar"
           }
          ],
          "carpet": [
           {
            "aaxis": {
             "endlinecolor": "#2a3f5f",
             "gridcolor": "white",
             "linecolor": "white",
             "minorgridcolor": "white",
             "startlinecolor": "#2a3f5f"
            },
            "baxis": {
             "endlinecolor": "#2a3f5f",
             "gridcolor": "white",
             "linecolor": "white",
             "minorgridcolor": "white",
             "startlinecolor": "#2a3f5f"
            },
            "type": "carpet"
           }
          ],
          "choropleth": [
           {
            "colorbar": {
             "outlinewidth": 0,
             "ticks": ""
            },
            "type": "choropleth"
           }
          ],
          "contour": [
           {
            "colorbar": {
             "outlinewidth": 0,
             "ticks": ""
            },
            "colorscale": [
             [
              0,
              "#0d0887"
             ],
             [
              0.1111111111111111,
              "#46039f"
             ],
             [
              0.2222222222222222,
              "#7201a8"
             ],
             [
              0.3333333333333333,
              "#9c179e"
             ],
             [
              0.4444444444444444,
              "#bd3786"
             ],
             [
              0.5555555555555556,
              "#d8576b"
             ],
             [
              0.6666666666666666,
              "#ed7953"
             ],
             [
              0.7777777777777778,
              "#fb9f3a"
             ],
             [
              0.8888888888888888,
              "#fdca26"
             ],
             [
              1,
              "#f0f921"
             ]
            ],
            "type": "contour"
           }
          ],
          "contourcarpet": [
           {
            "colorbar": {
             "outlinewidth": 0,
             "ticks": ""
            },
            "type": "contourcarpet"
           }
          ],
          "heatmap": [
           {
            "colorbar": {
             "outlinewidth": 0,
             "ticks": ""
            },
            "colorscale": [
             [
              0,
              "#0d0887"
             ],
             [
              0.1111111111111111,
              "#46039f"
             ],
             [
              0.2222222222222222,
              "#7201a8"
             ],
             [
              0.3333333333333333,
              "#9c179e"
             ],
             [
              0.4444444444444444,
              "#bd3786"
             ],
             [
              0.5555555555555556,
              "#d8576b"
             ],
             [
              0.6666666666666666,
              "#ed7953"
             ],
             [
              0.7777777777777778,
              "#fb9f3a"
             ],
             [
              0.8888888888888888,
              "#fdca26"
             ],
             [
              1,
              "#f0f921"
             ]
            ],
            "type": "heatmap"
           }
          ],
          "histogram": [
           {
            "marker": {
             "pattern": {
              "fillmode": "overlay",
              "size": 10,
              "solidity": 0.2
             }
            },
            "type": "histogram"
           }
          ],
          "histogram2d": [
           {
            "colorbar": {
             "outlinewidth": 0,
             "ticks": ""
            },
            "colorscale": [
             [
              0,
              "#0d0887"
             ],
             [
              0.1111111111111111,
              "#46039f"
             ],
             [
              0.2222222222222222,
              "#7201a8"
             ],
             [
              0.3333333333333333,
              "#9c179e"
             ],
             [
              0.4444444444444444,
              "#bd3786"
             ],
             [
              0.5555555555555556,
              "#d8576b"
             ],
             [
              0.6666666666666666,
              "#ed7953"
             ],
             [
              0.7777777777777778,
              "#fb9f3a"
             ],
             [
              0.8888888888888888,
              "#fdca26"
             ],
             [
              1,
              "#f0f921"
             ]
            ],
            "type": "histogram2d"
           }
          ],
          "histogram2dcontour": [
           {
            "colorbar": {
             "outlinewidth": 0,
             "ticks": ""
            },
            "colorscale": [
             [
              0,
              "#0d0887"
             ],
             [
              0.1111111111111111,
              "#46039f"
             ],
             [
              0.2222222222222222,
              "#7201a8"
             ],
             [
              0.3333333333333333,
              "#9c179e"
             ],
             [
              0.4444444444444444,
              "#bd3786"
             ],
             [
              0.5555555555555556,
              "#d8576b"
             ],
             [
              0.6666666666666666,
              "#ed7953"
             ],
             [
              0.7777777777777778,
              "#fb9f3a"
             ],
             [
              0.8888888888888888,
              "#fdca26"
             ],
             [
              1,
              "#f0f921"
             ]
            ],
            "type": "histogram2dcontour"
           }
          ],
          "mesh3d": [
           {
            "colorbar": {
             "outlinewidth": 0,
             "ticks": ""
            },
            "type": "mesh3d"
           }
          ],
          "parcoords": [
           {
            "line": {
             "colorbar": {
              "outlinewidth": 0,
              "ticks": ""
             }
            },
            "type": "parcoords"
           }
          ],
          "pie": [
           {
            "automargin": true,
            "type": "pie"
           }
          ],
          "scatter": [
           {
            "fillpattern": {
             "fillmode": "overlay",
             "size": 10,
             "solidity": 0.2
            },
            "type": "scatter"
           }
          ],
          "scatter3d": [
           {
            "line": {
             "colorbar": {
              "outlinewidth": 0,
              "ticks": ""
             }
            },
            "marker": {
             "colorbar": {
              "outlinewidth": 0,
              "ticks": ""
             }
            },
            "type": "scatter3d"
           }
          ],
          "scattercarpet": [
           {
            "marker": {
             "colorbar": {
              "outlinewidth": 0,
              "ticks": ""
             }
            },
            "type": "scattercarpet"
           }
          ],
          "scattergeo": [
           {
            "marker": {
             "colorbar": {
              "outlinewidth": 0,
              "ticks": ""
             }
            },
            "type": "scattergeo"
           }
          ],
          "scattergl": [
           {
            "marker": {
             "colorbar": {
              "outlinewidth": 0,
              "ticks": ""
             }
            },
            "type": "scattergl"
           }
          ],
          "scattermap": [
           {
            "marker": {
             "colorbar": {
              "outlinewidth": 0,
              "ticks": ""
             }
            },
            "type": "scattermap"
           }
          ],
          "scattermapbox": [
           {
            "marker": {
             "colorbar": {
              "outlinewidth": 0,
              "ticks": ""
             }
            },
            "type": "scattermapbox"
           }
          ],
          "scatterpolar": [
           {
            "marker": {
             "colorbar": {
              "outlinewidth": 0,
              "ticks": ""
             }
            },
            "type": "scatterpolar"
           }
          ],
          "scatterpolargl": [
           {
            "marker": {
             "colorbar": {
              "outlinewidth": 0,
              "ticks": ""
             }
            },
            "type": "scatterpolargl"
           }
          ],
          "scatterternary": [
           {
            "marker": {
             "colorbar": {
              "outlinewidth": 0,
              "ticks": ""
             }
            },
            "type": "scatterternary"
           }
          ],
          "surface": [
           {
            "colorbar": {
             "outlinewidth": 0,
             "ticks": ""
            },
            "colorscale": [
             [
              0,
              "#0d0887"
             ],
             [
              0.1111111111111111,
              "#46039f"
             ],
             [
              0.2222222222222222,
              "#7201a8"
             ],
             [
              0.3333333333333333,
              "#9c179e"
             ],
             [
              0.4444444444444444,
              "#bd3786"
             ],
             [
              0.5555555555555556,
              "#d8576b"
             ],
             [
              0.6666666666666666,
              "#ed7953"
             ],
             [
              0.7777777777777778,
              "#fb9f3a"
             ],
             [
              0.8888888888888888,
              "#fdca26"
             ],
             [
              1,
              "#f0f921"
             ]
            ],
            "type": "surface"
           }
          ],
          "table": [
           {
            "cells": {
             "fill": {
              "color": "#EBF0F8"
             },
             "line": {
              "color": "white"
             }
            },
            "header": {
             "fill": {
              "color": "#C8D4E3"
             },
             "line": {
              "color": "white"
             }
            },
            "type": "table"
           }
          ]
         },
         "layout": {
          "annotationdefaults": {
           "arrowcolor": "#2a3f5f",
           "arrowhead": 0,
           "arrowwidth": 1
          },
          "autotypenumbers": "strict",
          "coloraxis": {
           "colorbar": {
            "outlinewidth": 0,
            "ticks": ""
           }
          },
          "colorscale": {
           "diverging": [
            [
             0,
             "#8e0152"
            ],
            [
             0.1,
             "#c51b7d"
            ],
            [
             0.2,
             "#de77ae"
            ],
            [
             0.3,
             "#f1b6da"
            ],
            [
             0.4,
             "#fde0ef"
            ],
            [
             0.5,
             "#f7f7f7"
            ],
            [
             0.6,
             "#e6f5d0"
            ],
            [
             0.7,
             "#b8e186"
            ],
            [
             0.8,
             "#7fbc41"
            ],
            [
             0.9,
             "#4d9221"
            ],
            [
             1,
             "#276419"
            ]
           ],
           "sequential": [
            [
             0,
             "#0d0887"
            ],
            [
             0.1111111111111111,
             "#46039f"
            ],
            [
             0.2222222222222222,
             "#7201a8"
            ],
            [
             0.3333333333333333,
             "#9c179e"
            ],
            [
             0.4444444444444444,
             "#bd3786"
            ],
            [
             0.5555555555555556,
             "#d8576b"
            ],
            [
             0.6666666666666666,
             "#ed7953"
            ],
            [
             0.7777777777777778,
             "#fb9f3a"
            ],
            [
             0.8888888888888888,
             "#fdca26"
            ],
            [
             1,
             "#f0f921"
            ]
           ],
           "sequentialminus": [
            [
             0,
             "#0d0887"
            ],
            [
             0.1111111111111111,
             "#46039f"
            ],
            [
             0.2222222222222222,
             "#7201a8"
            ],
            [
             0.3333333333333333,
             "#9c179e"
            ],
            [
             0.4444444444444444,
             "#bd3786"
            ],
            [
             0.5555555555555556,
             "#d8576b"
            ],
            [
             0.6666666666666666,
             "#ed7953"
            ],
            [
             0.7777777777777778,
             "#fb9f3a"
            ],
            [
             0.8888888888888888,
             "#fdca26"
            ],
            [
             1,
             "#f0f921"
            ]
           ]
          },
          "colorway": [
           "#636efa",
           "#EF553B",
           "#00cc96",
           "#ab63fa",
           "#FFA15A",
           "#19d3f3",
           "#FF6692",
           "#B6E880",
           "#FF97FF",
           "#FECB52"
          ],
          "font": {
           "color": "#2a3f5f"
          },
          "geo": {
           "bgcolor": "white",
           "lakecolor": "white",
           "landcolor": "#E5ECF6",
           "showlakes": true,
           "showland": true,
           "subunitcolor": "white"
          },
          "hoverlabel": {
           "align": "left"
          },
          "hovermode": "closest",
          "mapbox": {
           "style": "light"
          },
          "paper_bgcolor": "white",
          "plot_bgcolor": "#E5ECF6",
          "polar": {
           "angularaxis": {
            "gridcolor": "white",
            "linecolor": "white",
            "ticks": ""
           },
           "bgcolor": "#E5ECF6",
           "radialaxis": {
            "gridcolor": "white",
            "linecolor": "white",
            "ticks": ""
           }
          },
          "scene": {
           "xaxis": {
            "backgroundcolor": "#E5ECF6",
            "gridcolor": "white",
            "gridwidth": 2,
            "linecolor": "white",
            "showbackground": true,
            "ticks": "",
            "zerolinecolor": "white"
           },
           "yaxis": {
            "backgroundcolor": "#E5ECF6",
            "gridcolor": "white",
            "gridwidth": 2,
            "linecolor": "white",
            "showbackground": true,
            "ticks": "",
            "zerolinecolor": "white"
           },
           "zaxis": {
            "backgroundcolor": "#E5ECF6",
            "gridcolor": "white",
            "gridwidth": 2,
            "linecolor": "white",
            "showbackground": true,
            "ticks": "",
            "zerolinecolor": "white"
           }
          },
          "shapedefaults": {
           "line": {
            "color": "#2a3f5f"
           }
          },
          "ternary": {
           "aaxis": {
            "gridcolor": "white",
            "linecolor": "white",
            "ticks": ""
           },
           "baxis": {
            "gridcolor": "white",
            "linecolor": "white",
            "ticks": ""
           },
           "bgcolor": "#E5ECF6",
           "caxis": {
            "gridcolor": "white",
            "linecolor": "white",
            "ticks": ""
           }
          },
          "title": {
           "x": 0.05
          },
          "xaxis": {
           "automargin": true,
           "gridcolor": "white",
           "linecolor": "white",
           "ticks": "",
           "title": {
            "standoff": 15
           },
           "zerolinecolor": "white",
           "zerolinewidth": 2
          },
          "yaxis": {
           "automargin": true,
           "gridcolor": "white",
           "linecolor": "white",
           "ticks": "",
           "title": {
            "standoff": 15
           },
           "zerolinecolor": "white",
           "zerolinewidth": 2
          }
         }
        },
        "title": {
         "text": "Phân phối User theo Phần trăm video liên quan đến Ẩm thực"
        },
        "xaxis": {
         "anchor": "y",
         "domain": [
          0,
          1
         ],
         "title": {
          "text": "food_video_percentage"
         }
        },
        "yaxis": {
         "anchor": "x",
         "domain": [
          0,
          1
         ],
         "title": {
          "text": "count"
         }
        }
       }
      }
     },
     "metadata": {},
     "output_type": "display_data"
    }
   ],
   "source": [
    "px.histogram(user_stats_df, x='food_video_percentage',\n",
    "             title=\"Phân phối User theo Phần trăm video liên quan đến Ẩm thực\", nbins=20)"
   ]
  },
  {
   "cell_type": "code",
   "execution_count": 164,
   "metadata": {},
   "outputs": [
    {
     "data": {
      "application/vnd.plotly.v1+json": {
       "config": {
        "plotlyServerURL": "https://plot.ly"
       },
       "data": [
        {
         "bingroup": "x",
         "hovertemplate": "days_between_videos=%{x}<br>count=%{y}<extra></extra>",
         "legendgroup": "",
         "marker": {
          "color": "#636efa",
          "pattern": {
           "shape": ""
          }
         },
         "name": "",
         "orientation": "v",
         "showlegend": false,
         "type": "histogram",
         "x": {
          "bdata": "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",
          "dtype": "f8"
         },
         "xaxis": "x",
         "yaxis": "y"
        }
       ],
       "layout": {
        "barmode": "relative",
        "legend": {
         "tracegroupgap": 0
        },
        "template": {
         "data": {
          "bar": [
           {
            "error_x": {
             "color": "#2a3f5f"
            },
            "error_y": {
             "color": "#2a3f5f"
            },
            "marker": {
             "line": {
              "color": "#E5ECF6",
              "width": 0.5
             },
             "pattern": {
              "fillmode": "overlay",
              "size": 10,
              "solidity": 0.2
             }
            },
            "type": "bar"
           }
          ],
          "barpolar": [
           {
            "marker": {
             "line": {
              "color": "#E5ECF6",
              "width": 0.5
             },
             "pattern": {
              "fillmode": "overlay",
              "size": 10,
              "solidity": 0.2
             }
            },
            "type": "barpolar"
           }
          ],
          "carpet": [
           {
            "aaxis": {
             "endlinecolor": "#2a3f5f",
             "gridcolor": "white",
             "linecolor": "white",
             "minorgridcolor": "white",
             "startlinecolor": "#2a3f5f"
            },
            "baxis": {
             "endlinecolor": "#2a3f5f",
             "gridcolor": "white",
             "linecolor": "white",
             "minorgridcolor": "white",
             "startlinecolor": "#2a3f5f"
            },
            "type": "carpet"
           }
          ],
          "choropleth": [
           {
            "colorbar": {
             "outlinewidth": 0,
             "ticks": ""
            },
            "type": "choropleth"
           }
          ],
          "contour": [
           {
            "colorbar": {
             "outlinewidth": 0,
             "ticks": ""
            },
            "colorscale": [
             [
              0,
              "#0d0887"
             ],
             [
              0.1111111111111111,
              "#46039f"
             ],
             [
              0.2222222222222222,
              "#7201a8"
             ],
             [
              0.3333333333333333,
              "#9c179e"
             ],
             [
              0.4444444444444444,
              "#bd3786"
             ],
             [
              0.5555555555555556,
              "#d8576b"
             ],
             [
              0.6666666666666666,
              "#ed7953"
             ],
             [
              0.7777777777777778,
              "#fb9f3a"
             ],
             [
              0.8888888888888888,
              "#fdca26"
             ],
             [
              1,
              "#f0f921"
             ]
            ],
            "type": "contour"
           }
          ],
          "contourcarpet": [
           {
            "colorbar": {
             "outlinewidth": 0,
             "ticks": ""
            },
            "type": "contourcarpet"
           }
          ],
          "heatmap": [
           {
            "colorbar": {
             "outlinewidth": 0,
             "ticks": ""
            },
            "colorscale": [
             [
              0,
              "#0d0887"
             ],
             [
              0.1111111111111111,
              "#46039f"
             ],
             [
              0.2222222222222222,
              "#7201a8"
             ],
             [
              0.3333333333333333,
              "#9c179e"
             ],
             [
              0.4444444444444444,
              "#bd3786"
             ],
             [
              0.5555555555555556,
              "#d8576b"
             ],
             [
              0.6666666666666666,
              "#ed7953"
             ],
             [
              0.7777777777777778,
              "#fb9f3a"
             ],
             [
              0.8888888888888888,
              "#fdca26"
             ],
             [
              1,
              "#f0f921"
             ]
            ],
            "type": "heatmap"
           }
          ],
          "histogram": [
           {
            "marker": {
             "pattern": {
              "fillmode": "overlay",
              "size": 10,
              "solidity": 0.2
             }
            },
            "type": "histogram"
           }
          ],
          "histogram2d": [
           {
            "colorbar": {
             "outlinewidth": 0,
             "ticks": ""
            },
            "colorscale": [
             [
              0,
              "#0d0887"
             ],
             [
              0.1111111111111111,
              "#46039f"
             ],
             [
              0.2222222222222222,
              "#7201a8"
             ],
             [
              0.3333333333333333,
              "#9c179e"
             ],
             [
              0.4444444444444444,
              "#bd3786"
             ],
             [
              0.5555555555555556,
              "#d8576b"
             ],
             [
              0.6666666666666666,
              "#ed7953"
             ],
             [
              0.7777777777777778,
              "#fb9f3a"
             ],
             [
              0.8888888888888888,
              "#fdca26"
             ],
             [
              1,
              "#f0f921"
             ]
            ],
            "type": "histogram2d"
           }
          ],
          "histogram2dcontour": [
           {
            "colorbar": {
             "outlinewidth": 0,
             "ticks": ""
            },
            "colorscale": [
             [
              0,
              "#0d0887"
             ],
             [
              0.1111111111111111,
              "#46039f"
             ],
             [
              0.2222222222222222,
              "#7201a8"
             ],
             [
              0.3333333333333333,
              "#9c179e"
             ],
             [
              0.4444444444444444,
              "#bd3786"
             ],
             [
              0.5555555555555556,
              "#d8576b"
             ],
             [
              0.6666666666666666,
              "#ed7953"
             ],
             [
              0.7777777777777778,
              "#fb9f3a"
             ],
             [
              0.8888888888888888,
              "#fdca26"
             ],
             [
              1,
              "#f0f921"
             ]
            ],
            "type": "histogram2dcontour"
           }
          ],
          "mesh3d": [
           {
            "colorbar": {
             "outlinewidth": 0,
             "ticks": ""
            },
            "type": "mesh3d"
           }
          ],
          "parcoords": [
           {
            "line": {
             "colorbar": {
              "outlinewidth": 0,
              "ticks": ""
             }
            },
            "type": "parcoords"
           }
          ],
          "pie": [
           {
            "automargin": true,
            "type": "pie"
           }
          ],
          "scatter": [
           {
            "fillpattern": {
             "fillmode": "overlay",
             "size": 10,
             "solidity": 0.2
            },
            "type": "scatter"
           }
          ],
          "scatter3d": [
           {
            "line": {
             "colorbar": {
              "outlinewidth": 0,
              "ticks": ""
             }
            },
            "marker": {
             "colorbar": {
              "outlinewidth": 0,
              "ticks": ""
             }
            },
            "type": "scatter3d"
           }
          ],
          "scattercarpet": [
           {
            "marker": {
             "colorbar": {
              "outlinewidth": 0,
              "ticks": ""
             }
            },
            "type": "scattercarpet"
           }
          ],
          "scattergeo": [
           {
            "marker": {
             "colorbar": {
              "outlinewidth": 0,
              "ticks": ""
             }
            },
            "type": "scattergeo"
           }
          ],
          "scattergl": [
           {
            "marker": {
             "colorbar": {
              "outlinewidth": 0,
              "ticks": ""
             }
            },
            "type": "scattergl"
           }
          ],
          "scattermap": [
           {
            "marker": {
             "colorbar": {
              "outlinewidth": 0,
              "ticks": ""
             }
            },
            "type": "scattermap"
           }
          ],
          "scattermapbox": [
           {
            "marker": {
             "colorbar": {
              "outlinewidth": 0,
              "ticks": ""
             }
            },
            "type": "scattermapbox"
           }
          ],
          "scatterpolar": [
           {
            "marker": {
             "colorbar": {
              "outlinewidth": 0,
              "ticks": ""
             }
            },
            "type": "scatterpolar"
           }
          ],
          "scatterpolargl": [
           {
            "marker": {
             "colorbar": {
              "outlinewidth": 0,
              "ticks": ""
             }
            },
            "type": "scatterpolargl"
           }
          ],
          "scatterternary": [
           {
            "marker": {
             "colorbar": {
              "outlinewidth": 0,
              "ticks": ""
             }
            },
            "type": "scatterternary"
           }
          ],
          "surface": [
           {
            "colorbar": {
             "outlinewidth": 0,
             "ticks": ""
            },
            "colorscale": [
             [
              0,
              "#0d0887"
             ],
             [
              0.1111111111111111,
              "#46039f"
             ],
             [
              0.2222222222222222,
              "#7201a8"
             ],
             [
              0.3333333333333333,
              "#9c179e"
             ],
             [
              0.4444444444444444,
              "#bd3786"
             ],
             [
              0.5555555555555556,
              "#d8576b"
             ],
             [
              0.6666666666666666,
              "#ed7953"
             ],
             [
              0.7777777777777778,
              "#fb9f3a"
             ],
             [
              0.8888888888888888,
              "#fdca26"
             ],
             [
              1,
              "#f0f921"
             ]
            ],
            "type": "surface"
           }
          ],
          "table": [
           {
            "cells": {
             "fill": {
              "color": "#EBF0F8"
             },
             "line": {
              "color": "white"
             }
            },
            "header": {
             "fill": {
              "color": "#C8D4E3"
             },
             "line": {
              "color": "white"
             }
            },
            "type": "table"
           }
          ]
         },
         "layout": {
          "annotationdefaults": {
           "arrowcolor": "#2a3f5f",
           "arrowhead": 0,
           "arrowwidth": 1
          },
          "autotypenumbers": "strict",
          "coloraxis": {
           "colorbar": {
            "outlinewidth": 0,
            "ticks": ""
           }
          },
          "colorscale": {
           "diverging": [
            [
             0,
             "#8e0152"
            ],
            [
             0.1,
             "#c51b7d"
            ],
            [
             0.2,
             "#de77ae"
            ],
            [
             0.3,
             "#f1b6da"
            ],
            [
             0.4,
             "#fde0ef"
            ],
            [
             0.5,
             "#f7f7f7"
            ],
            [
             0.6,
             "#e6f5d0"
            ],
            [
             0.7,
             "#b8e186"
            ],
            [
             0.8,
             "#7fbc41"
            ],
            [
             0.9,
             "#4d9221"
            ],
            [
             1,
             "#276419"
            ]
           ],
           "sequential": [
            [
             0,
             "#0d0887"
            ],
            [
             0.1111111111111111,
             "#46039f"
            ],
            [
             0.2222222222222222,
             "#7201a8"
            ],
            [
             0.3333333333333333,
             "#9c179e"
            ],
            [
             0.4444444444444444,
             "#bd3786"
            ],
            [
             0.5555555555555556,
             "#d8576b"
            ],
            [
             0.6666666666666666,
             "#ed7953"
            ],
            [
             0.7777777777777778,
             "#fb9f3a"
            ],
            [
             0.8888888888888888,
             "#fdca26"
            ],
            [
             1,
             "#f0f921"
            ]
           ],
           "sequentialminus": [
            [
             0,
             "#0d0887"
            ],
            [
             0.1111111111111111,
             "#46039f"
            ],
            [
             0.2222222222222222,
             "#7201a8"
            ],
            [
             0.3333333333333333,
             "#9c179e"
            ],
            [
             0.4444444444444444,
             "#bd3786"
            ],
            [
             0.5555555555555556,
             "#d8576b"
            ],
            [
             0.6666666666666666,
             "#ed7953"
            ],
            [
             0.7777777777777778,
             "#fb9f3a"
            ],
            [
             0.8888888888888888,
             "#fdca26"
            ],
            [
             1,
             "#f0f921"
            ]
           ]
          },
          "colorway": [
           "#636efa",
           "#EF553B",
           "#00cc96",
           "#ab63fa",
           "#FFA15A",
           "#19d3f3",
           "#FF6692",
           "#B6E880",
           "#FF97FF",
           "#FECB52"
          ],
          "font": {
           "color": "#2a3f5f"
          },
          "geo": {
           "bgcolor": "white",
           "lakecolor": "white",
           "landcolor": "#E5ECF6",
           "showlakes": true,
           "showland": true,
           "subunitcolor": "white"
          },
          "hoverlabel": {
           "align": "left"
          },
          "hovermode": "closest",
          "mapbox": {
           "style": "light"
          },
          "paper_bgcolor": "white",
          "plot_bgcolor": "#E5ECF6",
          "polar": {
           "angularaxis": {
            "gridcolor": "white",
            "linecolor": "white",
            "ticks": ""
           },
           "bgcolor": "#E5ECF6",
           "radialaxis": {
            "gridcolor": "white",
            "linecolor": "white",
            "ticks": ""
           }
          },
          "scene": {
           "xaxis": {
            "backgroundcolor": "#E5ECF6",
            "gridcolor": "white",
            "gridwidth": 2,
            "linecolor": "white",
            "showbackground": true,
            "ticks": "",
            "zerolinecolor": "white"
           },
           "yaxis": {
            "backgroundcolor": "#E5ECF6",
            "gridcolor": "white",
            "gridwidth": 2,
            "linecolor": "white",
            "showbackground": true,
            "ticks": "",
            "zerolinecolor": "white"
           },
           "zaxis": {
            "backgroundcolor": "#E5ECF6",
            "gridcolor": "white",
            "gridwidth": 2,
            "linecolor": "white",
            "showbackground": true,
            "ticks": "",
            "zerolinecolor": "white"
           }
          },
          "shapedefaults": {
           "line": {
            "color": "#2a3f5f"
           }
          },
          "ternary": {
           "aaxis": {
            "gridcolor": "white",
            "linecolor": "white",
            "ticks": ""
           },
           "baxis": {
            "gridcolor": "white",
            "linecolor": "white",
            "ticks": ""
           },
           "bgcolor": "#E5ECF6",
           "caxis": {
            "gridcolor": "white",
            "linecolor": "white",
            "ticks": ""
           }
          },
          "title": {
           "x": 0.05
          },
          "xaxis": {
           "automargin": true,
           "gridcolor": "white",
           "linecolor": "white",
           "ticks": "",
           "title": {
            "standoff": 15
           },
           "zerolinecolor": "white",
           "zerolinewidth": 2
          },
          "yaxis": {
           "automargin": true,
           "gridcolor": "white",
           "linecolor": "white",
           "ticks": "",
           "title": {
            "standoff": 15
           },
           "zerolinecolor": "white",
           "zerolinewidth": 2
          }
         }
        },
        "title": {
         "text": "Phân phối User theo Khoảng thời gian giữa các bài đăng"
        },
        "xaxis": {
         "anchor": "y",
         "domain": [
          0,
          1
         ],
         "title": {
          "text": "days_between_videos"
         }
        },
        "yaxis": {
         "anchor": "x",
         "domain": [
          0,
          1
         ],
         "title": {
          "text": "count"
         }
        }
       }
      }
     },
     "metadata": {},
     "output_type": "display_data"
    }
   ],
   "source": [
    "px.histogram(user_stats_df, x='days_between_videos',\n",
    "             title=\"Phân phối User theo Khoảng thời gian giữa các bài đăng\")"
   ]
  },
  {
   "cell_type": "code",
   "execution_count": 165,
   "metadata": {},
   "outputs": [
    {
     "data": {
      "application/vnd.plotly.v1+json": {
       "config": {
        "plotlyServerURL": "https://plot.ly"
       },
       "data": [
        {
         "bingroup": "x",
         "hovertemplate": "engagement_rate=%{x}<br>count=%{y}<extra></extra>",
         "legendgroup": "",
         "marker": {
          "color": "#636efa",
          "pattern": {
           "shape": ""
          }
         },
         "name": "",
         "orientation": "v",
         "showlegend": false,
         "type": "histogram",
         "x": {
          "bdata": "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",
          "dtype": "f8"
         },
         "xaxis": "x",
         "yaxis": "y"
        }
       ],
       "layout": {
        "barmode": "relative",
        "legend": {
         "tracegroupgap": 0
        },
        "template": {
         "data": {
          "bar": [
           {
            "error_x": {
             "color": "#2a3f5f"
            },
            "error_y": {
             "color": "#2a3f5f"
            },
            "marker": {
             "line": {
              "color": "#E5ECF6",
              "width": 0.5
             },
             "pattern": {
              "fillmode": "overlay",
              "size": 10,
              "solidity": 0.2
             }
            },
            "type": "bar"
           }
          ],
          "barpolar": [
           {
            "marker": {
             "line": {
              "color": "#E5ECF6",
              "width": 0.5
             },
             "pattern": {
              "fillmode": "overlay",
              "size": 10,
              "solidity": 0.2
             }
            },
            "type": "barpolar"
           }
          ],
          "carpet": [
           {
            "aaxis": {
             "endlinecolor": "#2a3f5f",
             "gridcolor": "white",
             "linecolor": "white",
             "minorgridcolor": "white",
             "startlinecolor": "#2a3f5f"
            },
            "baxis": {
             "endlinecolor": "#2a3f5f",
             "gridcolor": "white",
             "linecolor": "white",
             "minorgridcolor": "white",
             "startlinecolor": "#2a3f5f"
            },
            "type": "carpet"
           }
          ],
          "choropleth": [
           {
            "colorbar": {
             "outlinewidth": 0,
             "ticks": ""
            },
            "type": "choropleth"
           }
          ],
          "contour": [
           {
            "colorbar": {
             "outlinewidth": 0,
             "ticks": ""
            },
            "colorscale": [
             [
              0,
              "#0d0887"
             ],
             [
              0.1111111111111111,
              "#46039f"
             ],
             [
              0.2222222222222222,
              "#7201a8"
             ],
             [
              0.3333333333333333,
              "#9c179e"
             ],
             [
              0.4444444444444444,
              "#bd3786"
             ],
             [
              0.5555555555555556,
              "#d8576b"
             ],
             [
              0.6666666666666666,
              "#ed7953"
             ],
             [
              0.7777777777777778,
              "#fb9f3a"
             ],
             [
              0.8888888888888888,
              "#fdca26"
             ],
             [
              1,
              "#f0f921"
             ]
            ],
            "type": "contour"
           }
          ],
          "contourcarpet": [
           {
            "colorbar": {
             "outlinewidth": 0,
             "ticks": ""
            },
            "type": "contourcarpet"
           }
          ],
          "heatmap": [
           {
            "colorbar": {
             "outlinewidth": 0,
             "ticks": ""
            },
            "colorscale": [
             [
              0,
              "#0d0887"
             ],
             [
              0.1111111111111111,
              "#46039f"
             ],
             [
              0.2222222222222222,
              "#7201a8"
             ],
             [
              0.3333333333333333,
              "#9c179e"
             ],
             [
              0.4444444444444444,
              "#bd3786"
             ],
             [
              0.5555555555555556,
              "#d8576b"
             ],
             [
              0.6666666666666666,
              "#ed7953"
             ],
             [
              0.7777777777777778,
              "#fb9f3a"
             ],
             [
              0.8888888888888888,
              "#fdca26"
             ],
             [
              1,
              "#f0f921"
             ]
            ],
            "type": "heatmap"
           }
          ],
          "histogram": [
           {
            "marker": {
             "pattern": {
              "fillmode": "overlay",
              "size": 10,
              "solidity": 0.2
             }
            },
            "type": "histogram"
           }
          ],
          "histogram2d": [
           {
            "colorbar": {
             "outlinewidth": 0,
             "ticks": ""
            },
            "colorscale": [
             [
              0,
              "#0d0887"
             ],
             [
              0.1111111111111111,
              "#46039f"
             ],
             [
              0.2222222222222222,
              "#7201a8"
             ],
             [
              0.3333333333333333,
              "#9c179e"
             ],
             [
              0.4444444444444444,
              "#bd3786"
             ],
             [
              0.5555555555555556,
              "#d8576b"
             ],
             [
              0.6666666666666666,
              "#ed7953"
             ],
             [
              0.7777777777777778,
              "#fb9f3a"
             ],
             [
              0.8888888888888888,
              "#fdca26"
             ],
             [
              1,
              "#f0f921"
             ]
            ],
            "type": "histogram2d"
           }
          ],
          "histogram2dcontour": [
           {
            "colorbar": {
             "outlinewidth": 0,
             "ticks": ""
            },
            "colorscale": [
             [
              0,
              "#0d0887"
             ],
             [
              0.1111111111111111,
              "#46039f"
             ],
             [
              0.2222222222222222,
              "#7201a8"
             ],
             [
              0.3333333333333333,
              "#9c179e"
             ],
             [
              0.4444444444444444,
              "#bd3786"
             ],
             [
              0.5555555555555556,
              "#d8576b"
             ],
             [
              0.6666666666666666,
              "#ed7953"
             ],
             [
              0.7777777777777778,
              "#fb9f3a"
             ],
             [
              0.8888888888888888,
              "#fdca26"
             ],
             [
              1,
              "#f0f921"
             ]
            ],
            "type": "histogram2dcontour"
           }
          ],
          "mesh3d": [
           {
            "colorbar": {
             "outlinewidth": 0,
             "ticks": ""
            },
            "type": "mesh3d"
           }
          ],
          "parcoords": [
           {
            "line": {
             "colorbar": {
              "outlinewidth": 0,
              "ticks": ""
             }
            },
            "type": "parcoords"
           }
          ],
          "pie": [
           {
            "automargin": true,
            "type": "pie"
           }
          ],
          "scatter": [
           {
            "fillpattern": {
             "fillmode": "overlay",
             "size": 10,
             "solidity": 0.2
            },
            "type": "scatter"
           }
          ],
          "scatter3d": [
           {
            "line": {
             "colorbar": {
              "outlinewidth": 0,
              "ticks": ""
             }
            },
            "marker": {
             "colorbar": {
              "outlinewidth": 0,
              "ticks": ""
             }
            },
            "type": "scatter3d"
           }
          ],
          "scattercarpet": [
           {
            "marker": {
             "colorbar": {
              "outlinewidth": 0,
              "ticks": ""
             }
            },
            "type": "scattercarpet"
           }
          ],
          "scattergeo": [
           {
            "marker": {
             "colorbar": {
              "outlinewidth": 0,
              "ticks": ""
             }
            },
            "type": "scattergeo"
           }
          ],
          "scattergl": [
           {
            "marker": {
             "colorbar": {
              "outlinewidth": 0,
              "ticks": ""
             }
            },
            "type": "scattergl"
           }
          ],
          "scattermap": [
           {
            "marker": {
             "colorbar": {
              "outlinewidth": 0,
              "ticks": ""
             }
            },
            "type": "scattermap"
           }
          ],
          "scattermapbox": [
           {
            "marker": {
             "colorbar": {
              "outlinewidth": 0,
              "ticks": ""
             }
            },
            "type": "scattermapbox"
           }
          ],
          "scatterpolar": [
           {
            "marker": {
             "colorbar": {
              "outlinewidth": 0,
              "ticks": ""
             }
            },
            "type": "scatterpolar"
           }
          ],
          "scatterpolargl": [
           {
            "marker": {
             "colorbar": {
              "outlinewidth": 0,
              "ticks": ""
             }
            },
            "type": "scatterpolargl"
           }
          ],
          "scatterternary": [
           {
            "marker": {
             "colorbar": {
              "outlinewidth": 0,
              "ticks": ""
             }
            },
            "type": "scatterternary"
           }
          ],
          "surface": [
           {
            "colorbar": {
             "outlinewidth": 0,
             "ticks": ""
            },
            "colorscale": [
             [
              0,
              "#0d0887"
             ],
             [
              0.1111111111111111,
              "#46039f"
             ],
             [
              0.2222222222222222,
              "#7201a8"
             ],
             [
              0.3333333333333333,
              "#9c179e"
             ],
             [
              0.4444444444444444,
              "#bd3786"
             ],
             [
              0.5555555555555556,
              "#d8576b"
             ],
             [
              0.6666666666666666,
              "#ed7953"
             ],
             [
              0.7777777777777778,
              "#fb9f3a"
             ],
             [
              0.8888888888888888,
              "#fdca26"
             ],
             [
              1,
              "#f0f921"
             ]
            ],
            "type": "surface"
           }
          ],
          "table": [
           {
            "cells": {
             "fill": {
              "color": "#EBF0F8"
             },
             "line": {
              "color": "white"
             }
            },
            "header": {
             "fill": {
              "color": "#C8D4E3"
             },
             "line": {
              "color": "white"
             }
            },
            "type": "table"
           }
          ]
         },
         "layout": {
          "annotationdefaults": {
           "arrowcolor": "#2a3f5f",
           "arrowhead": 0,
           "arrowwidth": 1
          },
          "autotypenumbers": "strict",
          "coloraxis": {
           "colorbar": {
            "outlinewidth": 0,
            "ticks": ""
           }
          },
          "colorscale": {
           "diverging": [
            [
             0,
             "#8e0152"
            ],
            [
             0.1,
             "#c51b7d"
            ],
            [
             0.2,
             "#de77ae"
            ],
            [
             0.3,
             "#f1b6da"
            ],
            [
             0.4,
             "#fde0ef"
            ],
            [
             0.5,
             "#f7f7f7"
            ],
            [
             0.6,
             "#e6f5d0"
            ],
            [
             0.7,
             "#b8e186"
            ],
            [
             0.8,
             "#7fbc41"
            ],
            [
             0.9,
             "#4d9221"
            ],
            [
             1,
             "#276419"
            ]
           ],
           "sequential": [
            [
             0,
             "#0d0887"
            ],
            [
             0.1111111111111111,
             "#46039f"
            ],
            [
             0.2222222222222222,
             "#7201a8"
            ],
            [
             0.3333333333333333,
             "#9c179e"
            ],
            [
             0.4444444444444444,
             "#bd3786"
            ],
            [
             0.5555555555555556,
             "#d8576b"
            ],
            [
             0.6666666666666666,
             "#ed7953"
            ],
            [
             0.7777777777777778,
             "#fb9f3a"
            ],
            [
             0.8888888888888888,
             "#fdca26"
            ],
            [
             1,
             "#f0f921"
            ]
           ],
           "sequentialminus": [
            [
             0,
             "#0d0887"
            ],
            [
             0.1111111111111111,
             "#46039f"
            ],
            [
             0.2222222222222222,
             "#7201a8"
            ],
            [
             0.3333333333333333,
             "#9c179e"
            ],
            [
             0.4444444444444444,
             "#bd3786"
            ],
            [
             0.5555555555555556,
             "#d8576b"
            ],
            [
             0.6666666666666666,
             "#ed7953"
            ],
            [
             0.7777777777777778,
             "#fb9f3a"
            ],
            [
             0.8888888888888888,
             "#fdca26"
            ],
            [
             1,
             "#f0f921"
            ]
           ]
          },
          "colorway": [
           "#636efa",
           "#EF553B",
           "#00cc96",
           "#ab63fa",
           "#FFA15A",
           "#19d3f3",
           "#FF6692",
           "#B6E880",
           "#FF97FF",
           "#FECB52"
          ],
          "font": {
           "color": "#2a3f5f"
          },
          "geo": {
           "bgcolor": "white",
           "lakecolor": "white",
           "landcolor": "#E5ECF6",
           "showlakes": true,
           "showland": true,
           "subunitcolor": "white"
          },
          "hoverlabel": {
           "align": "left"
          },
          "hovermode": "closest",
          "mapbox": {
           "style": "light"
          },
          "paper_bgcolor": "white",
          "plot_bgcolor": "#E5ECF6",
          "polar": {
           "angularaxis": {
            "gridcolor": "white",
            "linecolor": "white",
            "ticks": ""
           },
           "bgcolor": "#E5ECF6",
           "radialaxis": {
            "gridcolor": "white",
            "linecolor": "white",
            "ticks": ""
           }
          },
          "scene": {
           "xaxis": {
            "backgroundcolor": "#E5ECF6",
            "gridcolor": "white",
            "gridwidth": 2,
            "linecolor": "white",
            "showbackground": true,
            "ticks": "",
            "zerolinecolor": "white"
           },
           "yaxis": {
            "backgroundcolor": "#E5ECF6",
            "gridcolor": "white",
            "gridwidth": 2,
            "linecolor": "white",
            "showbackground": true,
            "ticks": "",
            "zerolinecolor": "white"
           },
           "zaxis": {
            "backgroundcolor": "#E5ECF6",
            "gridcolor": "white",
            "gridwidth": 2,
            "linecolor": "white",
            "showbackground": true,
            "ticks": "",
            "zerolinecolor": "white"
           }
          },
          "shapedefaults": {
           "line": {
            "color": "#2a3f5f"
           }
          },
          "ternary": {
           "aaxis": {
            "gridcolor": "white",
            "linecolor": "white",
            "ticks": ""
           },
           "baxis": {
            "gridcolor": "white",
            "linecolor": "white",
            "ticks": ""
           },
           "bgcolor": "#E5ECF6",
           "caxis": {
            "gridcolor": "white",
            "linecolor": "white",
            "ticks": ""
           }
          },
          "title": {
           "x": 0.05
          },
          "xaxis": {
           "automargin": true,
           "gridcolor": "white",
           "linecolor": "white",
           "ticks": "",
           "title": {
            "standoff": 15
           },
           "zerolinecolor": "white",
           "zerolinewidth": 2
          },
          "yaxis": {
           "automargin": true,
           "gridcolor": "white",
           "linecolor": "white",
           "ticks": "",
           "title": {
            "standoff": 15
           },
           "zerolinecolor": "white",
           "zerolinewidth": 2
          }
         }
        },
        "title": {
         "text": "Phân phối User theo Tỷ lệ tương tác"
        },
        "xaxis": {
         "anchor": "y",
         "domain": [
          0,
          1
         ],
         "title": {
          "text": "engagement_rate"
         }
        },
        "yaxis": {
         "anchor": "x",
         "domain": [
          0,
          1
         ],
         "title": {
          "text": "count"
         }
        }
       }
      }
     },
     "metadata": {},
     "output_type": "display_data"
    }
   ],
   "source": [
    "px.histogram(user_stats_df, x='engagement_rate',\n",
    "             title=\"Phân phối User theo Tỷ lệ tương tác\")"
   ]
  },
  {
   "cell_type": "code",
   "execution_count": 166,
   "metadata": {},
   "outputs": [
    {
     "data": {
      "application/vnd.plotly.v1+json": {
       "config": {
        "plotlyServerURL": "https://plot.ly"
       },
       "data": [
        {
         "bingroup": "x",
         "hovertemplate": "avg_views=%{x}<br>count=%{y}<extra></extra>",
         "legendgroup": "",
         "marker": {
          "color": "#636efa",
          "pattern": {
           "shape": ""
          }
         },
         "name": "",
         "orientation": "v",
         "showlegend": false,
         "type": "histogram",
         "x": {
          "bdata": "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",
          "dtype": "f8"
         },
         "xaxis": "x",
         "yaxis": "y"
        }
       ],
       "layout": {
        "barmode": "relative",
        "legend": {
         "tracegroupgap": 0
        },
        "template": {
         "data": {
          "bar": [
           {
            "error_x": {
             "color": "#2a3f5f"
            },
            "error_y": {
             "color": "#2a3f5f"
            },
            "marker": {
             "line": {
              "color": "#E5ECF6",
              "width": 0.5
             },
             "pattern": {
              "fillmode": "overlay",
              "size": 10,
              "solidity": 0.2
             }
            },
            "type": "bar"
           }
          ],
          "barpolar": [
           {
            "marker": {
             "line": {
              "color": "#E5ECF6",
              "width": 0.5
             },
             "pattern": {
              "fillmode": "overlay",
              "size": 10,
              "solidity": 0.2
             }
            },
            "type": "barpolar"
           }
          ],
          "carpet": [
           {
            "aaxis": {
             "endlinecolor": "#2a3f5f",
             "gridcolor": "white",
             "linecolor": "white",
             "minorgridcolor": "white",
             "startlinecolor": "#2a3f5f"
            },
            "baxis": {
             "endlinecolor": "#2a3f5f",
             "gridcolor": "white",
             "linecolor": "white",
             "minorgridcolor": "white",
             "startlinecolor": "#2a3f5f"
            },
            "type": "carpet"
           }
          ],
          "choropleth": [
           {
            "colorbar": {
             "outlinewidth": 0,
             "ticks": ""
            },
            "type": "choropleth"
           }
          ],
          "contour": [
           {
            "colorbar": {
             "outlinewidth": 0,
             "ticks": ""
            },
            "colorscale": [
             [
              0,
              "#0d0887"
             ],
             [
              0.1111111111111111,
              "#46039f"
             ],
             [
              0.2222222222222222,
              "#7201a8"
             ],
             [
              0.3333333333333333,
              "#9c179e"
             ],
             [
              0.4444444444444444,
              "#bd3786"
             ],
             [
              0.5555555555555556,
              "#d8576b"
             ],
             [
              0.6666666666666666,
              "#ed7953"
             ],
             [
              0.7777777777777778,
              "#fb9f3a"
             ],
             [
              0.8888888888888888,
              "#fdca26"
             ],
             [
              1,
              "#f0f921"
             ]
            ],
            "type": "contour"
           }
          ],
          "contourcarpet": [
           {
            "colorbar": {
             "outlinewidth": 0,
             "ticks": ""
            },
            "type": "contourcarpet"
           }
          ],
          "heatmap": [
           {
            "colorbar": {
             "outlinewidth": 0,
             "ticks": ""
            },
            "colorscale": [
             [
              0,
              "#0d0887"
             ],
             [
              0.1111111111111111,
              "#46039f"
             ],
             [
              0.2222222222222222,
              "#7201a8"
             ],
             [
              0.3333333333333333,
              "#9c179e"
             ],
             [
              0.4444444444444444,
              "#bd3786"
             ],
             [
              0.5555555555555556,
              "#d8576b"
             ],
             [
              0.6666666666666666,
              "#ed7953"
             ],
             [
              0.7777777777777778,
              "#fb9f3a"
             ],
             [
              0.8888888888888888,
              "#fdca26"
             ],
             [
              1,
              "#f0f921"
             ]
            ],
            "type": "heatmap"
           }
          ],
          "histogram": [
           {
            "marker": {
             "pattern": {
              "fillmode": "overlay",
              "size": 10,
              "solidity": 0.2
             }
            },
            "type": "histogram"
           }
          ],
          "histogram2d": [
           {
            "colorbar": {
             "outlinewidth": 0,
             "ticks": ""
            },
            "colorscale": [
             [
              0,
              "#0d0887"
             ],
             [
              0.1111111111111111,
              "#46039f"
             ],
             [
              0.2222222222222222,
              "#7201a8"
             ],
             [
              0.3333333333333333,
              "#9c179e"
             ],
             [
              0.4444444444444444,
              "#bd3786"
             ],
             [
              0.5555555555555556,
              "#d8576b"
             ],
             [
              0.6666666666666666,
              "#ed7953"
             ],
             [
              0.7777777777777778,
              "#fb9f3a"
             ],
             [
              0.8888888888888888,
              "#fdca26"
             ],
             [
              1,
              "#f0f921"
             ]
            ],
            "type": "histogram2d"
           }
          ],
          "histogram2dcontour": [
           {
            "colorbar": {
             "outlinewidth": 0,
             "ticks": ""
            },
            "colorscale": [
             [
              0,
              "#0d0887"
             ],
             [
              0.1111111111111111,
              "#46039f"
             ],
             [
              0.2222222222222222,
              "#7201a8"
             ],
             [
              0.3333333333333333,
              "#9c179e"
             ],
             [
              0.4444444444444444,
              "#bd3786"
             ],
             [
              0.5555555555555556,
              "#d8576b"
             ],
             [
              0.6666666666666666,
              "#ed7953"
             ],
             [
              0.7777777777777778,
              "#fb9f3a"
             ],
             [
              0.8888888888888888,
              "#fdca26"
             ],
             [
              1,
              "#f0f921"
             ]
            ],
            "type": "histogram2dcontour"
           }
          ],
          "mesh3d": [
           {
            "colorbar": {
             "outlinewidth": 0,
             "ticks": ""
            },
            "type": "mesh3d"
           }
          ],
          "parcoords": [
           {
            "line": {
             "colorbar": {
              "outlinewidth": 0,
              "ticks": ""
             }
            },
            "type": "parcoords"
           }
          ],
          "pie": [
           {
            "automargin": true,
            "type": "pie"
           }
          ],
          "scatter": [
           {
            "fillpattern": {
             "fillmode": "overlay",
             "size": 10,
             "solidity": 0.2
            },
            "type": "scatter"
           }
          ],
          "scatter3d": [
           {
            "line": {
             "colorbar": {
              "outlinewidth": 0,
              "ticks": ""
             }
            },
            "marker": {
             "colorbar": {
              "outlinewidth": 0,
              "ticks": ""
             }
            },
            "type": "scatter3d"
           }
          ],
          "scattercarpet": [
           {
            "marker": {
             "colorbar": {
              "outlinewidth": 0,
              "ticks": ""
             }
            },
            "type": "scattercarpet"
           }
          ],
          "scattergeo": [
           {
            "marker": {
             "colorbar": {
              "outlinewidth": 0,
              "ticks": ""
             }
            },
            "type": "scattergeo"
           }
          ],
          "scattergl": [
           {
            "marker": {
             "colorbar": {
              "outlinewidth": 0,
              "ticks": ""
             }
            },
            "type": "scattergl"
           }
          ],
          "scattermap": [
           {
            "marker": {
             "colorbar": {
              "outlinewidth": 0,
              "ticks": ""
             }
            },
            "type": "scattermap"
           }
          ],
          "scattermapbox": [
           {
            "marker": {
             "colorbar": {
              "outlinewidth": 0,
              "ticks": ""
             }
            },
            "type": "scattermapbox"
           }
          ],
          "scatterpolar": [
           {
            "marker": {
             "colorbar": {
              "outlinewidth": 0,
              "ticks": ""
             }
            },
            "type": "scatterpolar"
           }
          ],
          "scatterpolargl": [
           {
            "marker": {
             "colorbar": {
              "outlinewidth": 0,
              "ticks": ""
             }
            },
            "type": "scatterpolargl"
           }
          ],
          "scatterternary": [
           {
            "marker": {
             "colorbar": {
              "outlinewidth": 0,
              "ticks": ""
             }
            },
            "type": "scatterternary"
           }
          ],
          "surface": [
           {
            "colorbar": {
             "outlinewidth": 0,
             "ticks": ""
            },
            "colorscale": [
             [
              0,
              "#0d0887"
             ],
             [
              0.1111111111111111,
              "#46039f"
             ],
             [
              0.2222222222222222,
              "#7201a8"
             ],
             [
              0.3333333333333333,
              "#9c179e"
             ],
             [
              0.4444444444444444,
              "#bd3786"
             ],
             [
              0.5555555555555556,
              "#d8576b"
             ],
             [
              0.6666666666666666,
              "#ed7953"
             ],
             [
              0.7777777777777778,
              "#fb9f3a"
             ],
             [
              0.8888888888888888,
              "#fdca26"
             ],
             [
              1,
              "#f0f921"
             ]
            ],
            "type": "surface"
           }
          ],
          "table": [
           {
            "cells": {
             "fill": {
              "color": "#EBF0F8"
             },
             "line": {
              "color": "white"
             }
            },
            "header": {
             "fill": {
              "color": "#C8D4E3"
             },
             "line": {
              "color": "white"
             }
            },
            "type": "table"
           }
          ]
         },
         "layout": {
          "annotationdefaults": {
           "arrowcolor": "#2a3f5f",
           "arrowhead": 0,
           "arrowwidth": 1
          },
          "autotypenumbers": "strict",
          "coloraxis": {
           "colorbar": {
            "outlinewidth": 0,
            "ticks": ""
           }
          },
          "colorscale": {
           "diverging": [
            [
             0,
             "#8e0152"
            ],
            [
             0.1,
             "#c51b7d"
            ],
            [
             0.2,
             "#de77ae"
            ],
            [
             0.3,
             "#f1b6da"
            ],
            [
             0.4,
             "#fde0ef"
            ],
            [
             0.5,
             "#f7f7f7"
            ],
            [
             0.6,
             "#e6f5d0"
            ],
            [
             0.7,
             "#b8e186"
            ],
            [
             0.8,
             "#7fbc41"
            ],
            [
             0.9,
             "#4d9221"
            ],
            [
             1,
             "#276419"
            ]
           ],
           "sequential": [
            [
             0,
             "#0d0887"
            ],
            [
             0.1111111111111111,
             "#46039f"
            ],
            [
             0.2222222222222222,
             "#7201a8"
            ],
            [
             0.3333333333333333,
             "#9c179e"
            ],
            [
             0.4444444444444444,
             "#bd3786"
            ],
            [
             0.5555555555555556,
             "#d8576b"
            ],
            [
             0.6666666666666666,
             "#ed7953"
            ],
            [
             0.7777777777777778,
             "#fb9f3a"
            ],
            [
             0.8888888888888888,
             "#fdca26"
            ],
            [
             1,
             "#f0f921"
            ]
           ],
           "sequentialminus": [
            [
             0,
             "#0d0887"
            ],
            [
             0.1111111111111111,
             "#46039f"
            ],
            [
             0.2222222222222222,
             "#7201a8"
            ],
            [
             0.3333333333333333,
             "#9c179e"
            ],
            [
             0.4444444444444444,
             "#bd3786"
            ],
            [
             0.5555555555555556,
             "#d8576b"
            ],
            [
             0.6666666666666666,
             "#ed7953"
            ],
            [
             0.7777777777777778,
             "#fb9f3a"
            ],
            [
             0.8888888888888888,
             "#fdca26"
            ],
            [
             1,
             "#f0f921"
            ]
           ]
          },
          "colorway": [
           "#636efa",
           "#EF553B",
           "#00cc96",
           "#ab63fa",
           "#FFA15A",
           "#19d3f3",
           "#FF6692",
           "#B6E880",
           "#FF97FF",
           "#FECB52"
          ],
          "font": {
           "color": "#2a3f5f"
          },
          "geo": {
           "bgcolor": "white",
           "lakecolor": "white",
           "landcolor": "#E5ECF6",
           "showlakes": true,
           "showland": true,
           "subunitcolor": "white"
          },
          "hoverlabel": {
           "align": "left"
          },
          "hovermode": "closest",
          "mapbox": {
           "style": "light"
          },
          "paper_bgcolor": "white",
          "plot_bgcolor": "#E5ECF6",
          "polar": {
           "angularaxis": {
            "gridcolor": "white",
            "linecolor": "white",
            "ticks": ""
           },
           "bgcolor": "#E5ECF6",
           "radialaxis": {
            "gridcolor": "white",
            "linecolor": "white",
            "ticks": ""
           }
          },
          "scene": {
           "xaxis": {
            "backgroundcolor": "#E5ECF6",
            "gridcolor": "white",
            "gridwidth": 2,
            "linecolor": "white",
            "showbackground": true,
            "ticks": "",
            "zerolinecolor": "white"
           },
           "yaxis": {
            "backgroundcolor": "#E5ECF6",
            "gridcolor": "white",
            "gridwidth": 2,
            "linecolor": "white",
            "showbackground": true,
            "ticks": "",
            "zerolinecolor": "white"
           },
           "zaxis": {
            "backgroundcolor": "#E5ECF6",
            "gridcolor": "white",
            "gridwidth": 2,
            "linecolor": "white",
            "showbackground": true,
            "ticks": "",
            "zerolinecolor": "white"
           }
          },
          "shapedefaults": {
           "line": {
            "color": "#2a3f5f"
           }
          },
          "ternary": {
           "aaxis": {
            "gridcolor": "white",
            "linecolor": "white",
            "ticks": ""
           },
           "baxis": {
            "gridcolor": "white",
            "linecolor": "white",
            "ticks": ""
           },
           "bgcolor": "#E5ECF6",
           "caxis": {
            "gridcolor": "white",
            "linecolor": "white",
            "ticks": ""
           }
          },
          "title": {
           "x": 0.05
          },
          "xaxis": {
           "automargin": true,
           "gridcolor": "white",
           "linecolor": "white",
           "ticks": "",
           "title": {
            "standoff": 15
           },
           "zerolinecolor": "white",
           "zerolinewidth": 2
          },
          "yaxis": {
           "automargin": true,
           "gridcolor": "white",
           "linecolor": "white",
           "ticks": "",
           "title": {
            "standoff": 15
           },
           "zerolinecolor": "white",
           "zerolinewidth": 2
          }
         }
        },
        "title": {
         "text": "Phân phối User theo Lượt xem trung bình"
        },
        "xaxis": {
         "anchor": "y",
         "domain": [
          0,
          1
         ],
         "title": {
          "text": "avg_views"
         }
        },
        "yaxis": {
         "anchor": "x",
         "domain": [
          0,
          1
         ],
         "title": {
          "text": "count"
         }
        }
       }
      }
     },
     "metadata": {},
     "output_type": "display_data"
    }
   ],
   "source": [
    "px.histogram(user_stats_df, x='avg_views',\n",
    "             title=\"Phân phối User theo Lượt xem trung bình\")"
   ]
  },
  {
   "cell_type": "code",
   "execution_count": 167,
   "metadata": {},
   "outputs": [
    {
     "data": {
      "application/vnd.plotly.v1+json": {
       "config": {
        "plotlyServerURL": "https://plot.ly"
       },
       "data": [
        {
         "bingroup": "x",
         "hovertemplate": "followers=%{x}<br>count=%{y}<extra></extra>",
         "legendgroup": "",
         "marker": {
          "color": "#636efa",
          "pattern": {
           "shape": ""
          }
         },
         "name": "",
         "orientation": "v",
         "showlegend": false,
         "type": "histogram",
         "x": {
          "bdata": "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",
          "dtype": "f8"
         },
         "xaxis": "x",
         "yaxis": "y"
        }
       ],
       "layout": {
        "barmode": "relative",
        "legend": {
         "tracegroupgap": 0
        },
        "template": {
         "data": {
          "bar": [
           {
            "error_x": {
             "color": "#2a3f5f"
            },
            "error_y": {
             "color": "#2a3f5f"
            },
            "marker": {
             "line": {
              "color": "#E5ECF6",
              "width": 0.5
             },
             "pattern": {
              "fillmode": "overlay",
              "size": 10,
              "solidity": 0.2
             }
            },
            "type": "bar"
           }
          ],
          "barpolar": [
           {
            "marker": {
             "line": {
              "color": "#E5ECF6",
              "width": 0.5
             },
             "pattern": {
              "fillmode": "overlay",
              "size": 10,
              "solidity": 0.2
             }
            },
            "type": "barpolar"
           }
          ],
          "carpet": [
           {
            "aaxis": {
             "endlinecolor": "#2a3f5f",
             "gridcolor": "white",
             "linecolor": "white",
             "minorgridcolor": "white",
             "startlinecolor": "#2a3f5f"
            },
            "baxis": {
             "endlinecolor": "#2a3f5f",
             "gridcolor": "white",
             "linecolor": "white",
             "minorgridcolor": "white",
             "startlinecolor": "#2a3f5f"
            },
            "type": "carpet"
           }
          ],
          "choropleth": [
           {
            "colorbar": {
             "outlinewidth": 0,
             "ticks": ""
            },
            "type": "choropleth"
           }
          ],
          "contour": [
           {
            "colorbar": {
             "outlinewidth": 0,
             "ticks": ""
            },
            "colorscale": [
             [
              0,
              "#0d0887"
             ],
             [
              0.1111111111111111,
              "#46039f"
             ],
             [
              0.2222222222222222,
              "#7201a8"
             ],
             [
              0.3333333333333333,
              "#9c179e"
             ],
             [
              0.4444444444444444,
              "#bd3786"
             ],
             [
              0.5555555555555556,
              "#d8576b"
             ],
             [
              0.6666666666666666,
              "#ed7953"
             ],
             [
              0.7777777777777778,
              "#fb9f3a"
             ],
             [
              0.8888888888888888,
              "#fdca26"
             ],
             [
              1,
              "#f0f921"
             ]
            ],
            "type": "contour"
           }
          ],
          "contourcarpet": [
           {
            "colorbar": {
             "outlinewidth": 0,
             "ticks": ""
            },
            "type": "contourcarpet"
           }
          ],
          "heatmap": [
           {
            "colorbar": {
             "outlinewidth": 0,
             "ticks": ""
            },
            "colorscale": [
             [
              0,
              "#0d0887"
             ],
             [
              0.1111111111111111,
              "#46039f"
             ],
             [
              0.2222222222222222,
              "#7201a8"
             ],
             [
              0.3333333333333333,
              "#9c179e"
             ],
             [
              0.4444444444444444,
              "#bd3786"
             ],
             [
              0.5555555555555556,
              "#d8576b"
             ],
             [
              0.6666666666666666,
              "#ed7953"
             ],
             [
              0.7777777777777778,
              "#fb9f3a"
             ],
             [
              0.8888888888888888,
              "#fdca26"
             ],
             [
              1,
              "#f0f921"
             ]
            ],
            "type": "heatmap"
           }
          ],
          "histogram": [
           {
            "marker": {
             "pattern": {
              "fillmode": "overlay",
              "size": 10,
              "solidity": 0.2
             }
            },
            "type": "histogram"
           }
          ],
          "histogram2d": [
           {
            "colorbar": {
             "outlinewidth": 0,
             "ticks": ""
            },
            "colorscale": [
             [
              0,
              "#0d0887"
             ],
             [
              0.1111111111111111,
              "#46039f"
             ],
             [
              0.2222222222222222,
              "#7201a8"
             ],
             [
              0.3333333333333333,
              "#9c179e"
             ],
             [
              0.4444444444444444,
              "#bd3786"
             ],
             [
              0.5555555555555556,
              "#d8576b"
             ],
             [
              0.6666666666666666,
              "#ed7953"
             ],
             [
              0.7777777777777778,
              "#fb9f3a"
             ],
             [
              0.8888888888888888,
              "#fdca26"
             ],
             [
              1,
              "#f0f921"
             ]
            ],
            "type": "histogram2d"
           }
          ],
          "histogram2dcontour": [
           {
            "colorbar": {
             "outlinewidth": 0,
             "ticks": ""
            },
            "colorscale": [
             [
              0,
              "#0d0887"
             ],
             [
              0.1111111111111111,
              "#46039f"
             ],
             [
              0.2222222222222222,
              "#7201a8"
             ],
             [
              0.3333333333333333,
              "#9c179e"
             ],
             [
              0.4444444444444444,
              "#bd3786"
             ],
             [
              0.5555555555555556,
              "#d8576b"
             ],
             [
              0.6666666666666666,
              "#ed7953"
             ],
             [
              0.7777777777777778,
              "#fb9f3a"
             ],
             [
              0.8888888888888888,
              "#fdca26"
             ],
             [
              1,
              "#f0f921"
             ]
            ],
            "type": "histogram2dcontour"
           }
          ],
          "mesh3d": [
           {
            "colorbar": {
             "outlinewidth": 0,
             "ticks": ""
            },
            "type": "mesh3d"
           }
          ],
          "parcoords": [
           {
            "line": {
             "colorbar": {
              "outlinewidth": 0,
              "ticks": ""
             }
            },
            "type": "parcoords"
           }
          ],
          "pie": [
           {
            "automargin": true,
            "type": "pie"
           }
          ],
          "scatter": [
           {
            "fillpattern": {
             "fillmode": "overlay",
             "size": 10,
             "solidity": 0.2
            },
            "type": "scatter"
           }
          ],
          "scatter3d": [
           {
            "line": {
             "colorbar": {
              "outlinewidth": 0,
              "ticks": ""
             }
            },
            "marker": {
             "colorbar": {
              "outlinewidth": 0,
              "ticks": ""
             }
            },
            "type": "scatter3d"
           }
          ],
          "scattercarpet": [
           {
            "marker": {
             "colorbar": {
              "outlinewidth": 0,
              "ticks": ""
             }
            },
            "type": "scattercarpet"
           }
          ],
          "scattergeo": [
           {
            "marker": {
             "colorbar": {
              "outlinewidth": 0,
              "ticks": ""
             }
            },
            "type": "scattergeo"
           }
          ],
          "scattergl": [
           {
            "marker": {
             "colorbar": {
              "outlinewidth": 0,
              "ticks": ""
             }
            },
            "type": "scattergl"
           }
          ],
          "scattermap": [
           {
            "marker": {
             "colorbar": {
              "outlinewidth": 0,
              "ticks": ""
             }
            },
            "type": "scattermap"
           }
          ],
          "scattermapbox": [
           {
            "marker": {
             "colorbar": {
              "outlinewidth": 0,
              "ticks": ""
             }
            },
            "type": "scattermapbox"
           }
          ],
          "scatterpolar": [
           {
            "marker": {
             "colorbar": {
              "outlinewidth": 0,
              "ticks": ""
             }
            },
            "type": "scatterpolar"
           }
          ],
          "scatterpolargl": [
           {
            "marker": {
             "colorbar": {
              "outlinewidth": 0,
              "ticks": ""
             }
            },
            "type": "scatterpolargl"
           }
          ],
          "scatterternary": [
           {
            "marker": {
             "colorbar": {
              "outlinewidth": 0,
              "ticks": ""
             }
            },
            "type": "scatterternary"
           }
          ],
          "surface": [
           {
            "colorbar": {
             "outlinewidth": 0,
             "ticks": ""
            },
            "colorscale": [
             [
              0,
              "#0d0887"
             ],
             [
              0.1111111111111111,
              "#46039f"
             ],
             [
              0.2222222222222222,
              "#7201a8"
             ],
             [
              0.3333333333333333,
              "#9c179e"
             ],
             [
              0.4444444444444444,
              "#bd3786"
             ],
             [
              0.5555555555555556,
              "#d8576b"
             ],
             [
              0.6666666666666666,
              "#ed7953"
             ],
             [
              0.7777777777777778,
              "#fb9f3a"
             ],
             [
              0.8888888888888888,
              "#fdca26"
             ],
             [
              1,
              "#f0f921"
             ]
            ],
            "type": "surface"
           }
          ],
          "table": [
           {
            "cells": {
             "fill": {
              "color": "#EBF0F8"
             },
             "line": {
              "color": "white"
             }
            },
            "header": {
             "fill": {
              "color": "#C8D4E3"
             },
             "line": {
              "color": "white"
             }
            },
            "type": "table"
           }
          ]
         },
         "layout": {
          "annotationdefaults": {
           "arrowcolor": "#2a3f5f",
           "arrowhead": 0,
           "arrowwidth": 1
          },
          "autotypenumbers": "strict",
          "coloraxis": {
           "colorbar": {
            "outlinewidth": 0,
            "ticks": ""
           }
          },
          "colorscale": {
           "diverging": [
            [
             0,
             "#8e0152"
            ],
            [
             0.1,
             "#c51b7d"
            ],
            [
             0.2,
             "#de77ae"
            ],
            [
             0.3,
             "#f1b6da"
            ],
            [
             0.4,
             "#fde0ef"
            ],
            [
             0.5,
             "#f7f7f7"
            ],
            [
             0.6,
             "#e6f5d0"
            ],
            [
             0.7,
             "#b8e186"
            ],
            [
             0.8,
             "#7fbc41"
            ],
            [
             0.9,
             "#4d9221"
            ],
            [
             1,
             "#276419"
            ]
           ],
           "sequential": [
            [
             0,
             "#0d0887"
            ],
            [
             0.1111111111111111,
             "#46039f"
            ],
            [
             0.2222222222222222,
             "#7201a8"
            ],
            [
             0.3333333333333333,
             "#9c179e"
            ],
            [
             0.4444444444444444,
             "#bd3786"
            ],
            [
             0.5555555555555556,
             "#d8576b"
            ],
            [
             0.6666666666666666,
             "#ed7953"
            ],
            [
             0.7777777777777778,
             "#fb9f3a"
            ],
            [
             0.8888888888888888,
             "#fdca26"
            ],
            [
             1,
             "#f0f921"
            ]
           ],
           "sequentialminus": [
            [
             0,
             "#0d0887"
            ],
            [
             0.1111111111111111,
             "#46039f"
            ],
            [
             0.2222222222222222,
             "#7201a8"
            ],
            [
             0.3333333333333333,
             "#9c179e"
            ],
            [
             0.4444444444444444,
             "#bd3786"
            ],
            [
             0.5555555555555556,
             "#d8576b"
            ],
            [
             0.6666666666666666,
             "#ed7953"
            ],
            [
             0.7777777777777778,
             "#fb9f3a"
            ],
            [
             0.8888888888888888,
             "#fdca26"
            ],
            [
             1,
             "#f0f921"
            ]
           ]
          },
          "colorway": [
           "#636efa",
           "#EF553B",
           "#00cc96",
           "#ab63fa",
           "#FFA15A",
           "#19d3f3",
           "#FF6692",
           "#B6E880",
           "#FF97FF",
           "#FECB52"
          ],
          "font": {
           "color": "#2a3f5f"
          },
          "geo": {
           "bgcolor": "white",
           "lakecolor": "white",
           "landcolor": "#E5ECF6",
           "showlakes": true,
           "showland": true,
           "subunitcolor": "white"
          },
          "hoverlabel": {
           "align": "left"
          },
          "hovermode": "closest",
          "mapbox": {
           "style": "light"
          },
          "paper_bgcolor": "white",
          "plot_bgcolor": "#E5ECF6",
          "polar": {
           "angularaxis": {
            "gridcolor": "white",
            "linecolor": "white",
            "ticks": ""
           },
           "bgcolor": "#E5ECF6",
           "radialaxis": {
            "gridcolor": "white",
            "linecolor": "white",
            "ticks": ""
           }
          },
          "scene": {
           "xaxis": {
            "backgroundcolor": "#E5ECF6",
            "gridcolor": "white",
            "gridwidth": 2,
            "linecolor": "white",
            "showbackground": true,
            "ticks": "",
            "zerolinecolor": "white"
           },
           "yaxis": {
            "backgroundcolor": "#E5ECF6",
            "gridcolor": "white",
            "gridwidth": 2,
            "linecolor": "white",
            "showbackground": true,
            "ticks": "",
            "zerolinecolor": "white"
           },
           "zaxis": {
            "backgroundcolor": "#E5ECF6",
            "gridcolor": "white",
            "gridwidth": 2,
            "linecolor": "white",
            "showbackground": true,
            "ticks": "",
            "zerolinecolor": "white"
           }
          },
          "shapedefaults": {
           "line": {
            "color": "#2a3f5f"
           }
          },
          "ternary": {
           "aaxis": {
            "gridcolor": "white",
            "linecolor": "white",
            "ticks": ""
           },
           "baxis": {
            "gridcolor": "white",
            "linecolor": "white",
            "ticks": ""
           },
           "bgcolor": "#E5ECF6",
           "caxis": {
            "gridcolor": "white",
            "linecolor": "white",
            "ticks": ""
           }
          },
          "title": {
           "x": 0.05
          },
          "xaxis": {
           "automargin": true,
           "gridcolor": "white",
           "linecolor": "white",
           "ticks": "",
           "title": {
            "standoff": 15
           },
           "zerolinecolor": "white",
           "zerolinewidth": 2
          },
          "yaxis": {
           "automargin": true,
           "gridcolor": "white",
           "linecolor": "white",
           "ticks": "",
           "title": {
            "standoff": 15
           },
           "zerolinecolor": "white",
           "zerolinewidth": 2
          }
         }
        },
        "title": {
         "text": "Phân phối User theo Followers"
        },
        "xaxis": {
         "anchor": "y",
         "domain": [
          0,
          1
         ],
         "title": {
          "text": "followers"
         }
        },
        "yaxis": {
         "anchor": "x",
         "domain": [
          0,
          1
         ],
         "title": {
          "text": "count"
         }
        }
       }
      }
     },
     "metadata": {},
     "output_type": "display_data"
    }
   ],
   "source": [
    "px.histogram(user_stats_df, x='followers',\n",
    "             title=\"Phân phối User theo Followers\")"
   ]
  },
  {
   "cell_type": "code",
   "execution_count": 168,
   "metadata": {},
   "outputs": [
    {
     "data": {
      "application/vnd.plotly.v1+json": {
       "config": {
        "plotlyServerURL": "https://plot.ly"
       },
       "data": [
        {
         "bingroup": "x",
         "hovertemplate": "likes=%{x}<br>count=%{y}<extra></extra>",
         "legendgroup": "",
         "marker": {
          "color": "#636efa",
          "pattern": {
           "shape": ""
          }
         },
         "name": "",
         "orientation": "v",
         "showlegend": false,
         "type": "histogram",
         "x": {
          "bdata": "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",
          "dtype": "f8"
         },
         "xaxis": "x",
         "yaxis": "y"
        }
       ],
       "layout": {
        "barmode": "relative",
        "legend": {
         "tracegroupgap": 0
        },
        "template": {
         "data": {
          "bar": [
           {
            "error_x": {
             "color": "#2a3f5f"
            },
            "error_y": {
             "color": "#2a3f5f"
            },
            "marker": {
             "line": {
              "color": "#E5ECF6",
              "width": 0.5
             },
             "pattern": {
              "fillmode": "overlay",
              "size": 10,
              "solidity": 0.2
             }
            },
            "type": "bar"
           }
          ],
          "barpolar": [
           {
            "marker": {
             "line": {
              "color": "#E5ECF6",
              "width": 0.5
             },
             "pattern": {
              "fillmode": "overlay",
              "size": 10,
              "solidity": 0.2
             }
            },
            "type": "barpolar"
           }
          ],
          "carpet": [
           {
            "aaxis": {
             "endlinecolor": "#2a3f5f",
             "gridcolor": "white",
             "linecolor": "white",
             "minorgridcolor": "white",
             "startlinecolor": "#2a3f5f"
            },
            "baxis": {
             "endlinecolor": "#2a3f5f",
             "gridcolor": "white",
             "linecolor": "white",
             "minorgridcolor": "white",
             "startlinecolor": "#2a3f5f"
            },
            "type": "carpet"
           }
          ],
          "choropleth": [
           {
            "colorbar": {
             "outlinewidth": 0,
             "ticks": ""
            },
            "type": "choropleth"
           }
          ],
          "contour": [
           {
            "colorbar": {
             "outlinewidth": 0,
             "ticks": ""
            },
            "colorscale": [
             [
              0,
              "#0d0887"
             ],
             [
              0.1111111111111111,
              "#46039f"
             ],
             [
              0.2222222222222222,
              "#7201a8"
             ],
             [
              0.3333333333333333,
              "#9c179e"
             ],
             [
              0.4444444444444444,
              "#bd3786"
             ],
             [
              0.5555555555555556,
              "#d8576b"
             ],
             [
              0.6666666666666666,
              "#ed7953"
             ],
             [
              0.7777777777777778,
              "#fb9f3a"
             ],
             [
              0.8888888888888888,
              "#fdca26"
             ],
             [
              1,
              "#f0f921"
             ]
            ],
            "type": "contour"
           }
          ],
          "contourcarpet": [
           {
            "colorbar": {
             "outlinewidth": 0,
             "ticks": ""
            },
            "type": "contourcarpet"
           }
          ],
          "heatmap": [
           {
            "colorbar": {
             "outlinewidth": 0,
             "ticks": ""
            },
            "colorscale": [
             [
              0,
              "#0d0887"
             ],
             [
              0.1111111111111111,
              "#46039f"
             ],
             [
              0.2222222222222222,
              "#7201a8"
             ],
             [
              0.3333333333333333,
              "#9c179e"
             ],
             [
              0.4444444444444444,
              "#bd3786"
             ],
             [
              0.5555555555555556,
              "#d8576b"
             ],
             [
              0.6666666666666666,
              "#ed7953"
             ],
             [
              0.7777777777777778,
              "#fb9f3a"
             ],
             [
              0.8888888888888888,
              "#fdca26"
             ],
             [
              1,
              "#f0f921"
             ]
            ],
            "type": "heatmap"
           }
          ],
          "histogram": [
           {
            "marker": {
             "pattern": {
              "fillmode": "overlay",
              "size": 10,
              "solidity": 0.2
             }
            },
            "type": "histogram"
           }
          ],
          "histogram2d": [
           {
            "colorbar": {
             "outlinewidth": 0,
             "ticks": ""
            },
            "colorscale": [
             [
              0,
              "#0d0887"
             ],
             [
              0.1111111111111111,
              "#46039f"
             ],
             [
              0.2222222222222222,
              "#7201a8"
             ],
             [
              0.3333333333333333,
              "#9c179e"
             ],
             [
              0.4444444444444444,
              "#bd3786"
             ],
             [
              0.5555555555555556,
              "#d8576b"
             ],
             [
              0.6666666666666666,
              "#ed7953"
             ],
             [
              0.7777777777777778,
              "#fb9f3a"
             ],
             [
              0.8888888888888888,
              "#fdca26"
             ],
             [
              1,
              "#f0f921"
             ]
            ],
            "type": "histogram2d"
           }
          ],
          "histogram2dcontour": [
           {
            "colorbar": {
             "outlinewidth": 0,
             "ticks": ""
            },
            "colorscale": [
             [
              0,
              "#0d0887"
             ],
             [
              0.1111111111111111,
              "#46039f"
             ],
             [
              0.2222222222222222,
              "#7201a8"
             ],
             [
              0.3333333333333333,
              "#9c179e"
             ],
             [
              0.4444444444444444,
              "#bd3786"
             ],
             [
              0.5555555555555556,
              "#d8576b"
             ],
             [
              0.6666666666666666,
              "#ed7953"
             ],
             [
              0.7777777777777778,
              "#fb9f3a"
             ],
             [
              0.8888888888888888,
              "#fdca26"
             ],
             [
              1,
              "#f0f921"
             ]
            ],
            "type": "histogram2dcontour"
           }
          ],
          "mesh3d": [
           {
            "colorbar": {
             "outlinewidth": 0,
             "ticks": ""
            },
            "type": "mesh3d"
           }
          ],
          "parcoords": [
           {
            "line": {
             "colorbar": {
              "outlinewidth": 0,
              "ticks": ""
             }
            },
            "type": "parcoords"
           }
          ],
          "pie": [
           {
            "automargin": true,
            "type": "pie"
           }
          ],
          "scatter": [
           {
            "fillpattern": {
             "fillmode": "overlay",
             "size": 10,
             "solidity": 0.2
            },
            "type": "scatter"
           }
          ],
          "scatter3d": [
           {
            "line": {
             "colorbar": {
              "outlinewidth": 0,
              "ticks": ""
             }
            },
            "marker": {
             "colorbar": {
              "outlinewidth": 0,
              "ticks": ""
             }
            },
            "type": "scatter3d"
           }
          ],
          "scattercarpet": [
           {
            "marker": {
             "colorbar": {
              "outlinewidth": 0,
              "ticks": ""
             }
            },
            "type": "scattercarpet"
           }
          ],
          "scattergeo": [
           {
            "marker": {
             "colorbar": {
              "outlinewidth": 0,
              "ticks": ""
             }
            },
            "type": "scattergeo"
           }
          ],
          "scattergl": [
           {
            "marker": {
             "colorbar": {
              "outlinewidth": 0,
              "ticks": ""
             }
            },
            "type": "scattergl"
           }
          ],
          "scattermap": [
           {
            "marker": {
             "colorbar": {
              "outlinewidth": 0,
              "ticks": ""
             }
            },
            "type": "scattermap"
           }
          ],
          "scattermapbox": [
           {
            "marker": {
             "colorbar": {
              "outlinewidth": 0,
              "ticks": ""
             }
            },
            "type": "scattermapbox"
           }
          ],
          "scatterpolar": [
           {
            "marker": {
             "colorbar": {
              "outlinewidth": 0,
              "ticks": ""
             }
            },
            "type": "scatterpolar"
           }
          ],
          "scatterpolargl": [
           {
            "marker": {
             "colorbar": {
              "outlinewidth": 0,
              "ticks": ""
             }
            },
            "type": "scatterpolargl"
           }
          ],
          "scatterternary": [
           {
            "marker": {
             "colorbar": {
              "outlinewidth": 0,
              "ticks": ""
             }
            },
            "type": "scatterternary"
           }
          ],
          "surface": [
           {
            "colorbar": {
             "outlinewidth": 0,
             "ticks": ""
            },
            "colorscale": [
             [
              0,
              "#0d0887"
             ],
             [
              0.1111111111111111,
              "#46039f"
             ],
             [
              0.2222222222222222,
              "#7201a8"
             ],
             [
              0.3333333333333333,
              "#9c179e"
             ],
             [
              0.4444444444444444,
              "#bd3786"
             ],
             [
              0.5555555555555556,
              "#d8576b"
             ],
             [
              0.6666666666666666,
              "#ed7953"
             ],
             [
              0.7777777777777778,
              "#fb9f3a"
             ],
             [
              0.8888888888888888,
              "#fdca26"
             ],
             [
              1,
              "#f0f921"
             ]
            ],
            "type": "surface"
           }
          ],
          "table": [
           {
            "cells": {
             "fill": {
              "color": "#EBF0F8"
             },
             "line": {
              "color": "white"
             }
            },
            "header": {
             "fill": {
              "color": "#C8D4E3"
             },
             "line": {
              "color": "white"
             }
            },
            "type": "table"
           }
          ]
         },
         "layout": {
          "annotationdefaults": {
           "arrowcolor": "#2a3f5f",
           "arrowhead": 0,
           "arrowwidth": 1
          },
          "autotypenumbers": "strict",
          "coloraxis": {
           "colorbar": {
            "outlinewidth": 0,
            "ticks": ""
           }
          },
          "colorscale": {
           "diverging": [
            [
             0,
             "#8e0152"
            ],
            [
             0.1,
             "#c51b7d"
            ],
            [
             0.2,
             "#de77ae"
            ],
            [
             0.3,
             "#f1b6da"
            ],
            [
             0.4,
             "#fde0ef"
            ],
            [
             0.5,
             "#f7f7f7"
            ],
            [
             0.6,
             "#e6f5d0"
            ],
            [
             0.7,
             "#b8e186"
            ],
            [
             0.8,
             "#7fbc41"
            ],
            [
             0.9,
             "#4d9221"
            ],
            [
             1,
             "#276419"
            ]
           ],
           "sequential": [
            [
             0,
             "#0d0887"
            ],
            [
             0.1111111111111111,
             "#46039f"
            ],
            [
             0.2222222222222222,
             "#7201a8"
            ],
            [
             0.3333333333333333,
             "#9c179e"
            ],
            [
             0.4444444444444444,
             "#bd3786"
            ],
            [
             0.5555555555555556,
             "#d8576b"
            ],
            [
             0.6666666666666666,
             "#ed7953"
            ],
            [
             0.7777777777777778,
             "#fb9f3a"
            ],
            [
             0.8888888888888888,
             "#fdca26"
            ],
            [
             1,
             "#f0f921"
            ]
           ],
           "sequentialminus": [
            [
             0,
             "#0d0887"
            ],
            [
             0.1111111111111111,
             "#46039f"
            ],
            [
             0.2222222222222222,
             "#7201a8"
            ],
            [
             0.3333333333333333,
             "#9c179e"
            ],
            [
             0.4444444444444444,
             "#bd3786"
            ],
            [
             0.5555555555555556,
             "#d8576b"
            ],
            [
             0.6666666666666666,
             "#ed7953"
            ],
            [
             0.7777777777777778,
             "#fb9f3a"
            ],
            [
             0.8888888888888888,
             "#fdca26"
            ],
            [
             1,
             "#f0f921"
            ]
           ]
          },
          "colorway": [
           "#636efa",
           "#EF553B",
           "#00cc96",
           "#ab63fa",
           "#FFA15A",
           "#19d3f3",
           "#FF6692",
           "#B6E880",
           "#FF97FF",
           "#FECB52"
          ],
          "font": {
           "color": "#2a3f5f"
          },
          "geo": {
           "bgcolor": "white",
           "lakecolor": "white",
           "landcolor": "#E5ECF6",
           "showlakes": true,
           "showland": true,
           "subunitcolor": "white"
          },
          "hoverlabel": {
           "align": "left"
          },
          "hovermode": "closest",
          "mapbox": {
           "style": "light"
          },
          "paper_bgcolor": "white",
          "plot_bgcolor": "#E5ECF6",
          "polar": {
           "angularaxis": {
            "gridcolor": "white",
            "linecolor": "white",
            "ticks": ""
           },
           "bgcolor": "#E5ECF6",
           "radialaxis": {
            "gridcolor": "white",
            "linecolor": "white",
            "ticks": ""
           }
          },
          "scene": {
           "xaxis": {
            "backgroundcolor": "#E5ECF6",
            "gridcolor": "white",
            "gridwidth": 2,
            "linecolor": "white",
            "showbackground": true,
            "ticks": "",
            "zerolinecolor": "white"
           },
           "yaxis": {
            "backgroundcolor": "#E5ECF6",
            "gridcolor": "white",
            "gridwidth": 2,
            "linecolor": "white",
            "showbackground": true,
            "ticks": "",
            "zerolinecolor": "white"
           },
           "zaxis": {
            "backgroundcolor": "#E5ECF6",
            "gridcolor": "white",
            "gridwidth": 2,
            "linecolor": "white",
            "showbackground": true,
            "ticks": "",
            "zerolinecolor": "white"
           }
          },
          "shapedefaults": {
           "line": {
            "color": "#2a3f5f"
           }
          },
          "ternary": {
           "aaxis": {
            "gridcolor": "white",
            "linecolor": "white",
            "ticks": ""
           },
           "baxis": {
            "gridcolor": "white",
            "linecolor": "white",
            "ticks": ""
           },
           "bgcolor": "#E5ECF6",
           "caxis": {
            "gridcolor": "white",
            "linecolor": "white",
            "ticks": ""
           }
          },
          "title": {
           "x": 0.05
          },
          "xaxis": {
           "automargin": true,
           "gridcolor": "white",
           "linecolor": "white",
           "ticks": "",
           "title": {
            "standoff": 15
           },
           "zerolinecolor": "white",
           "zerolinewidth": 2
          },
          "yaxis": {
           "automargin": true,
           "gridcolor": "white",
           "linecolor": "white",
           "ticks": "",
           "title": {
            "standoff": 15
           },
           "zerolinecolor": "white",
           "zerolinewidth": 2
          }
         }
        },
        "title": {
         "text": "Phân phối User theo Likes"
        },
        "xaxis": {
         "anchor": "y",
         "domain": [
          0,
          1
         ],
         "title": {
          "text": "likes"
         }
        },
        "yaxis": {
         "anchor": "x",
         "domain": [
          0,
          1
         ],
         "title": {
          "text": "count"
         }
        }
       }
      }
     },
     "metadata": {},
     "output_type": "display_data"
    }
   ],
   "source": [
    "px.histogram(user_stats_df, x='likes',\n",
    "             title=\"Phân phối User theo Likes\")"
   ]
  },
  {
   "cell_type": "markdown",
   "metadata": {},
   "source": [
    "#### Lọc\n"
   ]
  },
  {
   "cell_type": "code",
   "execution_count": null,
   "metadata": {},
   "outputs": [
    {
     "name": "stdout",
     "output_type": "stream",
     "text": [
      "(758, 18)\n"
     ]
    },
    {
     "data": {
      "application/vnd.microsoft.datawrangler.viewer.v0+json": {
       "columns": [
        {
         "name": "index",
         "rawType": "object",
         "type": "string"
        },
        {
         "name": "avg_views",
         "rawType": "float64",
         "type": "float"
        },
        {
         "name": "total_videos",
         "rawType": "float64",
         "type": "float"
        },
        {
         "name": "followers",
         "rawType": "float64",
         "type": "float"
        },
        {
         "name": "engagement_rate",
         "rawType": "float64",
         "type": "float"
        },
        {
         "name": "frequency",
         "rawType": "float64",
         "type": "float"
        },
        {
         "name": "food_video_percentage",
         "rawType": "float64",
         "type": "float"
        },
        {
         "name": "vi_video_percentage",
         "rawType": "float64",
         "type": "float"
        }
       ],
       "conversionMethod": "pd.DataFrame",
       "ref": "4fc32b65-1ffe-4c10-b519-91fd059ef695",
       "rows": [
        [
         "count",
         "758.0",
         "758.0",
         "758.0",
         "758.0",
         "758.0",
         "758.0",
         "758.0"
        ],
        [
         "mean",
         "493312.2989005744",
         "62.93007915567282",
         "713635.6649076517",
         "0.04440699155079936",
         "1.187098468274946",
         "0.48422754825455316",
         "0.8544905786748731"
        ],
        [
         "std",
         "850881.0939488735",
         "218.58955008372686",
         "2393492.989094671",
         "0.04024955116398552",
         "8.44551138781406",
         "0.4197488475202527",
         "0.3112813823962617"
        ],
        [
         "min",
         "220.84615384615384",
         "2.0",
         "610.0",
         "0.0021403152008134213",
         "0.03150007628924726",
         "0.0",
         "0.0"
        ],
        [
         "25%",
         "66957.38541666667",
         "20.0",
         "68950.0",
         "0.02651512384328781",
         "0.24994336385024196",
         "0.0",
         "0.9471157339016298"
        ],
        [
         "50%",
         "203976.97794117648",
         "36.0",
         "203150.0",
         "0.03858202912076303",
         "0.46150887953220987",
         "0.4843597262952102",
         "0.9916839557399724"
        ],
        [
         "75%",
         "521474.65034965036",
         "61.0",
         "618575.0",
         "0.05512192278939701",
         "0.8350909901553966",
         "0.9466374269005847",
         "1.0"
        ],
        [
         "max",
         "9288571.42857143",
         "4745.0",
         "55400000.0",
         "0.9210397034522799",
         "194.81397970687712",
         "1.0",
         "1.0"
        ]
       ],
       "shape": {
        "columns": 7,
        "rows": 8
       }
      },
      "text/html": [
       "<div>\n",
       "<style scoped>\n",
       "    .dataframe tbody tr th:only-of-type {\n",
       "        vertical-align: middle;\n",
       "    }\n",
       "\n",
       "    .dataframe tbody tr th {\n",
       "        vertical-align: top;\n",
       "    }\n",
       "\n",
       "    .dataframe thead th {\n",
       "        text-align: right;\n",
       "    }\n",
       "</style>\n",
       "<table border=\"1\" class=\"dataframe\">\n",
       "  <thead>\n",
       "    <tr style=\"text-align: right;\">\n",
       "      <th></th>\n",
       "      <th>avg_views</th>\n",
       "      <th>total_videos</th>\n",
       "      <th>followers</th>\n",
       "      <th>engagement_rate</th>\n",
       "      <th>frequency</th>\n",
       "      <th>food_video_percentage</th>\n",
       "      <th>vi_video_percentage</th>\n",
       "    </tr>\n",
       "  </thead>\n",
       "  <tbody>\n",
       "    <tr>\n",
       "      <th>count</th>\n",
       "      <td>7.580000e+02</td>\n",
       "      <td>758.000000</td>\n",
       "      <td>7.580000e+02</td>\n",
       "      <td>758.000000</td>\n",
       "      <td>758.000000</td>\n",
       "      <td>758.000000</td>\n",
       "      <td>758.000000</td>\n",
       "    </tr>\n",
       "    <tr>\n",
       "      <th>mean</th>\n",
       "      <td>4.933123e+05</td>\n",
       "      <td>62.930079</td>\n",
       "      <td>7.136357e+05</td>\n",
       "      <td>0.044407</td>\n",
       "      <td>1.187098</td>\n",
       "      <td>0.484228</td>\n",
       "      <td>0.854491</td>\n",
       "    </tr>\n",
       "    <tr>\n",
       "      <th>std</th>\n",
       "      <td>8.508811e+05</td>\n",
       "      <td>218.589550</td>\n",
       "      <td>2.393493e+06</td>\n",
       "      <td>0.040250</td>\n",
       "      <td>8.445511</td>\n",
       "      <td>0.419749</td>\n",
       "      <td>0.311281</td>\n",
       "    </tr>\n",
       "    <tr>\n",
       "      <th>min</th>\n",
       "      <td>2.208462e+02</td>\n",
       "      <td>2.000000</td>\n",
       "      <td>6.100000e+02</td>\n",
       "      <td>0.002140</td>\n",
       "      <td>0.031500</td>\n",
       "      <td>0.000000</td>\n",
       "      <td>0.000000</td>\n",
       "    </tr>\n",
       "    <tr>\n",
       "      <th>25%</th>\n",
       "      <td>6.695739e+04</td>\n",
       "      <td>20.000000</td>\n",
       "      <td>6.895000e+04</td>\n",
       "      <td>0.026515</td>\n",
       "      <td>0.249943</td>\n",
       "      <td>0.000000</td>\n",
       "      <td>0.947116</td>\n",
       "    </tr>\n",
       "    <tr>\n",
       "      <th>50%</th>\n",
       "      <td>2.039770e+05</td>\n",
       "      <td>36.000000</td>\n",
       "      <td>2.031500e+05</td>\n",
       "      <td>0.038582</td>\n",
       "      <td>0.461509</td>\n",
       "      <td>0.484360</td>\n",
       "      <td>0.991684</td>\n",
       "    </tr>\n",
       "    <tr>\n",
       "      <th>75%</th>\n",
       "      <td>5.214747e+05</td>\n",
       "      <td>61.000000</td>\n",
       "      <td>6.185750e+05</td>\n",
       "      <td>0.055122</td>\n",
       "      <td>0.835091</td>\n",
       "      <td>0.946637</td>\n",
       "      <td>1.000000</td>\n",
       "    </tr>\n",
       "    <tr>\n",
       "      <th>max</th>\n",
       "      <td>9.288571e+06</td>\n",
       "      <td>4745.000000</td>\n",
       "      <td>5.540000e+07</td>\n",
       "      <td>0.921040</td>\n",
       "      <td>194.813980</td>\n",
       "      <td>1.000000</td>\n",
       "      <td>1.000000</td>\n",
       "    </tr>\n",
       "  </tbody>\n",
       "</table>\n",
       "</div>"
      ],
      "text/plain": [
       "          avg_views  total_videos     followers  engagement_rate   frequency  \\\n",
       "count  7.580000e+02    758.000000  7.580000e+02       758.000000  758.000000   \n",
       "mean   4.933123e+05     62.930079  7.136357e+05         0.044407    1.187098   \n",
       "std    8.508811e+05    218.589550  2.393493e+06         0.040250    8.445511   \n",
       "min    2.208462e+02      2.000000  6.100000e+02         0.002140    0.031500   \n",
       "25%    6.695739e+04     20.000000  6.895000e+04         0.026515    0.249943   \n",
       "50%    2.039770e+05     36.000000  2.031500e+05         0.038582    0.461509   \n",
       "75%    5.214747e+05     61.000000  6.185750e+05         0.055122    0.835091   \n",
       "max    9.288571e+06   4745.000000  5.540000e+07         0.921040  194.813980   \n",
       "\n",
       "       food_video_percentage  vi_video_percentage  \n",
       "count             758.000000           758.000000  \n",
       "mean                0.484228             0.854491  \n",
       "std                 0.419749             0.311281  \n",
       "min                 0.000000             0.000000  \n",
       "25%                 0.000000             0.947116  \n",
       "50%                 0.484360             0.991684  \n",
       "75%                 0.946637             1.000000  \n",
       "max                 1.000000             1.000000  "
      ]
     },
     "execution_count": 192,
     "metadata": {},
     "output_type": "execute_result"
    }
   ],
   "source": [
    "print(user_stats_df.shape)\n",
    "user_stats_df[['username', 'avg_views', 'total_videos', 'followers',\n",
    "               'engagement_rate', 'frequency',\n",
    "               'food_video_percentage', 'vi_video_percentage']].describe()"
   ]
  },
  {
   "cell_type": "code",
   "execution_count": 201,
   "metadata": {},
   "outputs": [
    {
     "name": "stdout",
     "output_type": "stream",
     "text": [
      "(758, 18)\n",
      "Min Vietnamese Video Percentage Threshold: 0.9\n",
      "(601, 18)\n",
      "Min Food Video Percentage Threshold: 0.75\n",
      "(264, 18)\n"
     ]
    },
    {
     "data": {
      "application/vnd.microsoft.datawrangler.viewer.v0+json": {
       "columns": [
        {
         "name": "index",
         "rawType": "int64",
         "type": "integer"
        },
        {
         "name": "username",
         "rawType": "object",
         "type": "string"
        },
        {
         "name": "total_views",
         "rawType": "float64",
         "type": "float"
        },
        {
         "name": "avg_views",
         "rawType": "float64",
         "type": "float"
        },
        {
         "name": "total_likes",
         "rawType": "float64",
         "type": "float"
        },
        {
         "name": "avg_likes",
         "rawType": "float64",
         "type": "float"
        },
        {
         "name": "total_comments",
         "rawType": "float64",
         "type": "float"
        },
        {
         "name": "total_shares",
         "rawType": "float64",
         "type": "float"
        },
        {
         "name": "total_collects",
         "rawType": "float64",
         "type": "float"
        },
        {
         "name": "total_videos",
         "rawType": "int64",
         "type": "integer"
        },
        {
         "name": "followers",
         "rawType": "float64",
         "type": "float"
        },
        {
         "name": "likes",
         "rawType": "float64",
         "type": "float"
        },
        {
         "name": "engagement_rate",
         "rawType": "float64",
         "type": "float"
        },
        {
         "name": "total_engagement",
         "rawType": "float64",
         "type": "float"
        },
        {
         "name": "vi_video_percentage",
         "rawType": "float64",
         "type": "float"
        },
        {
         "name": "days_between_videos",
         "rawType": "float64",
         "type": "float"
        },
        {
         "name": "frequency",
         "rawType": "float64",
         "type": "float"
        },
        {
         "name": "food_related_videos",
         "rawType": "int64",
         "type": "integer"
        },
        {
         "name": "food_video_percentage",
         "rawType": "float64",
         "type": "float"
        }
       ],
       "conversionMethod": "pd.DataFrame",
       "ref": "9052625f-365d-43c2-b7fd-3ff5054ade43",
       "rows": [
        [
         "95",
         "be_mup1",
         "2487000.0",
         "1243500.0",
         "74100.0",
         "37050.0",
         "2392.0",
         "6406.0",
         "3805.0",
         "2",
         "23900.0",
         "862.0",
         "0.03486248492159228",
         "86703.0",
         "1.0",
         "15.751171874999999",
         "0.0634873397316668",
         "2",
         "1.0"
        ],
        [
         "625",
         "tebetravelmade",
         "3695.0",
         "1847.5",
         "81.0",
         "40.5",
         "0.0",
         "13.0",
         "20.0",
         "2",
         "55100.0",
         "398.0",
         "0.030852503382949932",
         "114.0",
         "0.9840637450199203",
         "7.479331597222223",
         "0.13370178698473453",
         "2",
         "1.0"
        ],
        [
         "596",
         "seonguk_vn",
         "332300.0",
         "166150.0",
         "12438.0",
         "6219.0",
         "136.0",
         "79.0",
         "169.0",
         "2",
         "310500.0",
         "2449.0",
         "0.03858561540776407",
         "12822.0",
         "1.0",
         "2.1669444444444443",
         "0.46147929752595823",
         "2",
         "1.0"
        ],
        [
         "313",
         "homnay_tuiangi",
         "165500.0",
         "82750.0",
         "2074.0",
         "1037.0",
         "48.0",
         "312.0",
         "158.0",
         "2",
         "146900.0",
         "19800.0",
         "0.01566163141993958",
         "2592.0",
         "1.0",
         "24.85876736111111",
         "0.04022725606115102",
         "2",
         "1.0"
        ],
        [
         "613",
         "sun111992",
         "3720.0",
         "1240.0",
         "83.0",
         "27.666666666666668",
         "13.0",
         "11.0",
         "11.0",
         "3",
         "13300.0",
         "886.0",
         "0.031720430107526884",
         "118.0",
         "1.0",
         "26.82347222222222",
         "0.03728078123948242",
         "3",
         "1.0"
        ],
        [
         "272",
         "haiduaminhvuighe",
         "107800.0",
         "35933.333333333336",
         "5346.0",
         "1782.0",
         "50.0",
         "643.0",
         "1394.0",
         "3",
         "68800.0",
         "15500.0",
         "0.0689517625231911",
         "7433.0",
         "1.0",
         "24.040792824074074",
         "0.04159596596159739",
         "3",
         "1.0"
        ],
        [
         "222",
         "doiquatroioiii",
         "543400.0",
         "181133.33333333334",
         "22181.0",
         "7393.666666666667",
         "313.0",
         "462.0",
         "620.0",
         "3",
         "102200.0",
         "11900.0",
         "0.043386087596613915",
         "23576.0",
         "0.9736842105263158",
         "2.0073321759259257",
         "0.49817365157250476",
         "3",
         "1.0"
        ],
        [
         "203",
         "datvaingang",
         "4499600.0",
         "1499866.6666666667",
         "206164.0",
         "68721.33333333333",
         "1315.0",
         "5229.0",
         "9154.0",
         "3",
         "154200.0",
         "488.0",
         "0.04930704951551249",
         "221862.0",
         "1.0",
         "5.9647048611111115",
         "0.16765288866509298",
         "3",
         "1.0"
        ],
        [
         "76",
         "bahisaigon",
         "69459.0",
         "17364.75",
         "1105.0",
         "276.25",
         "18.0",
         "288.0",
         "321.0",
         "4",
         "17100.0",
         "78.0",
         "0.024935573503793603",
         "1732.0",
         "1.0",
         "19.692708333333332",
         "0.050780216873842904",
         "4",
         "1.0"
        ],
        [
         "643",
         "thenguyen_kitchen",
         "816917.0",
         "204229.25",
         "11937.0",
         "2984.25",
         "215.0",
         "998.0",
         "443.0",
         "4",
         "547000.0",
         "2784.0",
         "0.01663938931372465",
         "13593.0",
         "0.9916666666666667",
         "24.789308449074074",
         "0.04033997164762988",
         "3",
         "0.75"
        ],
        [
         "553",
         "phuongmenauan0102",
         "1343985.0",
         "335996.25",
         "19079.0",
         "4769.75",
         "196.0",
         "2696.0",
         "7259.0",
         "4",
         "7743.0",
         "1150.0",
         "0.02174875463639847",
         "29230.0",
         "0.9705882352941176",
         "18.510662615740742",
         "0.054022917534547854",
         "3",
         "0.75"
        ],
        [
         "396",
         "lethanhtuan4999",
         "4385300.0",
         "877060.0",
         "148689.0",
         "29737.8",
         "4007.0",
         "28451.0",
         "7489.0",
         "5",
         "127600.0",
         "34.0",
         "0.04301552915421978",
         "188636.0",
         "1.0",
         "7.001111111111111",
         "0.1428344707189335",
         "5",
         "1.0"
        ],
        [
         "757",
         "xo_bep",
         "7686500.0",
         "1537300.0",
         "163559.0",
         "32711.8",
         "1375.0",
         "23384.0",
         "54716.0",
         "5",
         "385700.0",
         "1608.0",
         "0.03161829181031679",
         "243034.0",
         "1.0",
         "13.934409722222222",
         "0.07176479089783236",
         "5",
         "1.0"
        ],
        [
         "414",
         "luongveangi",
         "178466.0",
         "29744.333333333332",
         "2905.0",
         "484.1666666666667",
         "86.0",
         "1319.0",
         "1701.0",
         "6",
         "22600.0",
         "1387.0",
         "0.03368148554906817",
         "6011.0",
         "1.0",
         "15.006869212962963",
         "0.06663615080593879",
         "5",
         "0.8333333333333334"
        ],
        [
         "5",
         "3tl.team",
         "4071700.0",
         "678616.6666666666",
         "103976.0",
         "17329.333333333332",
         "1015.0",
         "1140.0",
         "3273.0",
         "6",
         "2100000.0",
         "5048.0",
         "0.026869366603629933",
         "109404.0",
         "1.0",
         "3.7348206018518515",
         "0.2677504776278052",
         "6",
         "1.0"
        ],
        [
         "278",
         "halongtrongbung",
         "265900.0",
         "44316.666666666664",
         "7764.0",
         "1294.0",
         "344.0",
         "1635.0",
         "1385.0",
         "6",
         "119000.0",
         "48500.0",
         "0.041850319669048515",
         "11128.0",
         "0.9761904761904762",
         "13.030896990740741",
         "0.07674068797493848",
         "5",
         "0.8333333333333334"
        ],
        [
         "472",
         "nartman.review",
         "1588616.0",
         "264769.3333333333",
         "50773.0",
         "8462.166666666666",
         "277.0",
         "717.0",
         "2988.0",
         "6",
         "69900.0",
         "3290.0",
         "0.03446710847681252",
         "54755.0",
         "1.0",
         "3.477453703703704",
         "0.28756673278926415",
         "5",
         "0.8333333333333334"
        ],
        [
         "495",
         "ngocnhungdaily",
         "73931.0",
         "10561.57142857143",
         "1655.0",
         "236.42857142857142",
         "82.0",
         "234.0",
         "232.0",
         "7",
         "25000.0",
         "10200.0",
         "0.02979805494312264",
         "2203.0",
         "1.0",
         "10.685896990740742",
         "0.09358128764169196",
         "7",
         "1.0"
        ],
        [
         "221",
         "dohaman181526",
         "262760.0",
         "32845.0",
         "3953.0",
         "494.125",
         "140.0",
         "312.0",
         "146.0",
         "8",
         "4562.0",
         "509.0",
         "0.01731998782158624",
         "4551.0",
         "1.0",
         "7.508148148148148",
         "0.13318863456985003",
         "6",
         "0.75"
        ],
        [
         "447",
         "mokhoet_hanoi",
         "1276067.0",
         "159508.375",
         "34430.0",
         "4303.75",
         "329.0",
         "4780.0",
         "4272.0",
         "8",
         "994600.0",
         "1728.0",
         "0.03433283675543682",
         "43811.0",
         "0.9931506849315068",
         "8.179890046296295",
         "0.12225103202368616",
         "8",
         "1.0"
        ],
        [
         "17",
         "aan_ne8",
         "998028.0",
         "110892.0",
         "48132.0",
         "5348.0",
         "612.0",
         "12313.0",
         "1824.0",
         "9",
         "78900.0",
         "1004.0",
         "0.06300524634579391",
         "62881.0",
         "0.9559228650137741",
         "5.995972222222222",
         "0.1667786245396215",
         "8",
         "0.8888888888888888"
        ],
        [
         "709",
         "tuhu_bread",
         "253876.0",
         "28208.444444444445",
         "4105.0",
         "456.1111111111111",
         "130.0",
         "69.0",
         "296.0",
         "9",
         "141600.0",
         "581.0",
         "0.01811908175644803",
         "4600.0",
         "0.9811320754716981",
         "8.65236111111111",
         "0.11557538886302712",
         "9",
         "1.0"
        ],
        [
         "216",
         "dieumi2019",
         "5474882.0",
         "608320.2222222222",
         "164044.0",
         "18227.11111111111",
         "1550.0",
         "26488.0",
         "60159.0",
         "9",
         "199400.0",
         "1664.0",
         "0.04607240850122432",
         "252241.0",
         "0.9789473684210527",
         "4.095185185185185",
         "0.24418920141087094",
         "8",
         "0.8888888888888888"
        ],
        [
         "734",
         "vaobepcungthanh",
         "77321.0",
         "8591.222222222223",
         "845.0",
         "93.88888888888889",
         "61.0",
         "72.0",
         "145.0",
         "9",
         "94000.0",
         "1215.0",
         "0.014523868030677307",
         "1123.0",
         "0.9620853080568721",
         "5.0398148148148145",
         "0.1984199889766673",
         "7",
         "0.7777777777777778"
        ],
        [
         "276",
         "halacamukbang",
         "18536525.0",
         "2059613.888888889",
         "625906.0",
         "69545.11111111111",
         "6008.0",
         "78027.0",
         "22332.0",
         "9",
         "259700.0",
         "846.0",
         "0.039504329964758764",
         "732273.0",
         "0.9821428571428571",
         "14.154641203703704",
         "0.07064820546198938",
         "9",
         "1.0"
        ],
        [
         "188",
         "cothanquan",
         "477410.0",
         "47741.0",
         "10213.0",
         "1021.3",
         "245.0",
         "5737.0",
         "5299.0",
         "10",
         "16200.0",
         "300.0",
         "0.04502209840598228",
         "21494.0",
         "0.9850746268656716",
         "5.70910011574074",
         "0.17515895320225133",
         "10",
         "1.0"
        ],
        [
         "574",
         "rcy_milk_tea_danang",
         "2316000.0",
         "231600.0",
         "80680.0",
         "8068.0",
         "1776.0",
         "13294.0",
         "8740.0",
         "10",
         "4145.0",
         "3136.0",
         "0.04511658031088083",
         "104490.0",
         "1.0",
         "8.998197337962962",
         "0.11113337065648117",
         "8",
         "0.8"
        ],
        [
         "487",
         "nghia2302",
         "532316.0",
         "53231.6",
         "9854.0",
         "985.4",
         "291.0",
         "5535.0",
         "7345.0",
         "10",
         "114200.0",
         "7372.0",
         "0.04325438273506714",
         "23025.0",
         "1.0",
         "7.4577054398148155",
         "0.13408950086192079",
         "10",
         "1.0"
        ],
        [
         "417",
         "lyluclac28",
         "272085.0",
         "27208.5",
         "6593.0",
         "659.3",
         "371.0",
         "184.0",
         "575.0",
         "10",
         "56100.0",
         "4603.0",
         "0.028384512192880903",
         "7723.0",
         "1.0",
         "10.995422453703704",
         "0.09094693761976917",
         "10",
         "1.0"
        ],
        [
         "612",
         "sukiii00129",
         "78236.0",
         "7823.6",
         "1419.0",
         "141.9",
         "103.0",
         "620.0",
         "772.0",
         "10",
         "66600.0",
         "4483.0",
         "0.03724628048468736",
         "2914.0",
         "0.9423076923076923",
         "2.4092534722222223",
         "0.4150663313468758",
         "9",
         "0.9"
        ],
        [
         "137",
         "boytubynv02",
         "13437500.0",
         "1221590.9090909092",
         "414880.0",
         "37716.36363636364",
         "4636.0",
         "7684.0",
         "34509.0",
         "11",
         "89100.0",
         "6636.0",
         "0.03435973953488372",
         "461709.0",
         "1.0",
         "6.503894675925927",
         "0.15375402736786095",
         "11",
         "1.0"
        ],
        [
         "331",
         "huunhankhoai",
         "3197200.0",
         "290654.54545454547",
         "78374.0",
         "7124.909090909091",
         "1740.0",
         "6055.0",
         "9815.0",
         "11",
         "804300.0",
         "18300.0",
         "0.03002126861003378",
         "95984.0",
         "1.0",
         "7.932430555555555",
         "0.1260647657734161",
         "9",
         "0.8181818181818182"
        ],
        [
         "199",
         "dangmukbangbo",
         "11437300.0",
         "953108.3333333334",
         "321552.0",
         "26796.0",
         "3744.0",
         "12724.0",
         "11486.0",
         "12",
         "18100.0",
         "65.0",
         "0.030558435994509192",
         "349506.0",
         "1.0",
         "6.90449363425926",
         "0.1448332134072977",
         "11",
         "0.9166666666666666"
        ],
        [
         "465",
         "nai.nguyen",
         "2742900.0",
         "228575.0",
         "114146.0",
         "9512.166666666666",
         "2070.0",
         "14975.0",
         "20290.0",
         "12",
         "604300.0",
         "3084.0",
         "0.05522658500127602",
         "151481.0",
         "1.0",
         "9.048388310185185",
         "0.1105169192257548",
         "10",
         "0.8333333333333334"
        ],
        [
         "172",
         "chuppywithropie",
         "3080700.0",
         "236976.92307692306",
         "134940.0",
         "10380.0",
         "1682.0",
         "16763.0",
         "16642.0",
         "13",
         "101800.0",
         "15500.0",
         "0.0551910280131139",
         "170027.0",
         "1.0",
         "7.208877314814814",
         "0.13871785526782662",
         "13",
         "1.0"
        ],
        [
         "560",
         "ptkn220604",
         "2071800.0",
         "159369.23076923078",
         "77391.0",
         "5953.153846153846",
         "586.0",
         "2541.0",
         "2457.0",
         "13",
         "72500.0",
         "22500.0",
         "0.04004971522347717",
         "82975.0",
         "0.9841269841269841",
         "7.870289351851852",
         "0.12706013150135367",
         "13",
         "1.0"
        ],
        [
         "536",
         "panhpeoxigon",
         "731272.0",
         "56251.692307692305",
         "7411.0",
         "570.0769230769231",
         "154.0",
         "387.0",
         "555.0",
         "13",
         "111600.0",
         "2827.0",
         "0.011633154284589045",
         "8507.0",
         "1.0",
         "5.018703703703704",
         "0.19925464005018265",
         "10",
         "0.7692307692307693"
        ],
        [
         "87",
         "baothemann",
         "3553800.0",
         "273369.23076923075",
         "109302.0",
         "8407.846153846154",
         "638.0",
         "8973.0",
         "4921.0",
         "13",
         "74400.0",
         "200.0",
         "0.034845517474252914",
         "123834.0",
         "0.9905660377358491",
         "8.801319444444443",
         "0.1136193279101145",
         "13",
         "1.0"
        ],
        [
         "361",
         "khoasheep",
         "538472.0",
         "41420.92307692308",
         "35481.0",
         "2729.3076923076924",
         "287.0",
         "4915.0",
         "8161.0",
         "13",
         "19200.0",
         "3142.0",
         "0.0907085233772601",
         "48844.0",
         "1.0",
         "5.082858796296296",
         "0.1967396774289039",
         "13",
         "1.0"
        ],
        [
         "741",
         "vitaminkk",
         "21557400.0",
         "1539814.2857142857",
         "1004200.0",
         "71728.57142857143",
         "3479.0",
         "26129.0",
         "55194.0",
         "14",
         "1900000.0",
         "1349.0",
         "0.05051638880384462",
         "1089002.0",
         "0.9935483870967742",
         "6.022876157407407",
         "0.16603363141879005",
         "14",
         "1.0"
        ],
        [
         "60",
         "ansaphanoi",
         "8700200.0",
         "621442.8571428572",
         "188004.0",
         "13428.857142857143",
         "2666.0",
         "23735.0",
         "34402.0",
         "14",
         "1600000.0",
         "3171.0",
         "0.028597848325325855",
         "248807.0",
         "1.0",
         "7.671299189814815",
         "0.1303560160093482",
         "13",
         "0.9285714285714286"
        ],
        [
         "518",
         "nhatlinh160519",
         "1481354.0",
         "98756.93333333333",
         "15445.0",
         "1029.6666666666667",
         "436.0",
         "2369.0",
         "2578.0",
         "15",
         "74500.0",
         "1825.0",
         "0.014060109872454525",
         "20828.0",
         "0.9959016393442623",
         "7.55597800925926",
         "0.13234554134151505",
         "14",
         "0.9333333333333333"
        ],
        [
         "726",
         "uynkitchen",
         "696777.0",
         "46451.8",
         "13689.0",
         "912.6",
         "130.0",
         "588.0",
         "2325.0",
         "15",
         "52600.0",
         "2532.0",
         "0.024013421797791833",
         "16732.0",
         "0.9807692307692307",
         "5.042048611111111",
         "0.19833208228026802",
         "12",
         "0.8"
        ],
        [
         "630",
         "thanh3189",
         "4647200.0",
         "309813.3333333333",
         "26827.0",
         "1788.4666666666667",
         "651.0",
         "3848.0",
         "7309.0",
         "15",
         "447400.0",
         "1194.0",
         "0.008313608194181442",
         "38635.0",
         "1.0",
         "4.808883101851852",
         "0.2079484942386955",
         "14",
         "0.9333333333333333"
        ],
        [
         "66",
         "anvattuoithoo1",
         "5100200.0",
         "340013.3333333333",
         "73100.0",
         "4873.333333333333",
         "1427.0",
         "2215.0",
         "9014.0",
         "15",
         "373800.0",
         "35.0",
         "0.016814242578722403",
         "85756.0",
         "1.0",
         "3.0050405092592594",
         "0.332774216160733",
         "15",
         "1.0"
        ],
        [
         "250",
         "gadilinhtinh",
         "1015651.0",
         "67710.06666666667",
         "92589.0",
         "6172.6",
         "634.0",
         "9606.0",
         "5615.0",
         "15",
         "81100.0",
         "3763.0",
         "0.10677289738305776",
         "108444.0",
         "0.9568965517241379",
         "3.9955729166666667",
         "0.2502769992830607",
         "15",
         "1.0"
        ],
        [
         "433",
         "mhon.vbep",
         "637671.0",
         "42511.4",
         "16992.0",
         "1132.8",
         "72.0",
         "1682.0",
         "5706.0",
         "15",
         "22300.0",
         "3819.0",
         "0.03834579273637973",
         "24452.0",
         "1.0",
         "6.079288194444445",
         "0.1644929419391319",
         "15",
         "1.0"
        ],
        [
         "474",
         "nauancungtuan.27",
         "4871580.0",
         "324772.0",
         "105068.0",
         "7004.533333333334",
         "1778.0",
         "5481.0",
         "8399.0",
         "15",
         "41900.0",
         "5684.0",
         "0.0247816930030914",
         "120726.0",
         "0.9891304347826086",
         "7.01957175925926",
         "0.14245883285984456",
         "15",
         "1.0"
        ],
        [
         "160",
         "chensach.hanoi",
         "2961000.0",
         "185062.5",
         "98882.0",
         "6180.125",
         "2252.0",
         "32321.0",
         "31546.0",
         "16",
         "32900.0",
         "3260.0",
         "0.05572475515028707",
         "165001.0",
         "1.0",
         "6.311212384259259",
         "0.15844816163913156",
         "14",
         "0.875"
        ],
        [
         "186",
         "comnhawithme.official",
         "1503685.0",
         "93980.3125",
         "41584.0",
         "2599.0",
         "366.0",
         "4940.0",
         "13628.0",
         "16",
         "64100.0",
         "2165.0",
         "0.04024646119366756",
         "60518.0",
         "0.9736842105263158",
         "3.0012586805555554",
         "0.33319353859057976",
         "15",
         "0.9375"
        ]
       ],
       "shape": {
        "columns": 18,
        "rows": 264
       }
      },
      "text/html": [
       "<div>\n",
       "<style scoped>\n",
       "    .dataframe tbody tr th:only-of-type {\n",
       "        vertical-align: middle;\n",
       "    }\n",
       "\n",
       "    .dataframe tbody tr th {\n",
       "        vertical-align: top;\n",
       "    }\n",
       "\n",
       "    .dataframe thead th {\n",
       "        text-align: right;\n",
       "    }\n",
       "</style>\n",
       "<table border=\"1\" class=\"dataframe\">\n",
       "  <thead>\n",
       "    <tr style=\"text-align: right;\">\n",
       "      <th></th>\n",
       "      <th>username</th>\n",
       "      <th>total_views</th>\n",
       "      <th>avg_views</th>\n",
       "      <th>total_likes</th>\n",
       "      <th>avg_likes</th>\n",
       "      <th>total_comments</th>\n",
       "      <th>total_shares</th>\n",
       "      <th>total_collects</th>\n",
       "      <th>total_videos</th>\n",
       "      <th>followers</th>\n",
       "      <th>likes</th>\n",
       "      <th>engagement_rate</th>\n",
       "      <th>total_engagement</th>\n",
       "      <th>vi_video_percentage</th>\n",
       "      <th>days_between_videos</th>\n",
       "      <th>frequency</th>\n",
       "      <th>food_related_videos</th>\n",
       "      <th>food_video_percentage</th>\n",
       "    </tr>\n",
       "  </thead>\n",
       "  <tbody>\n",
       "    <tr>\n",
       "      <th>95</th>\n",
       "      <td>be_mup1</td>\n",
       "      <td>2487000.0</td>\n",
       "      <td>1.243500e+06</td>\n",
       "      <td>74100.0</td>\n",
       "      <td>37050.000000</td>\n",
       "      <td>2392.0</td>\n",
       "      <td>6406.0</td>\n",
       "      <td>3805.0</td>\n",
       "      <td>2</td>\n",
       "      <td>23900.0</td>\n",
       "      <td>862.0</td>\n",
       "      <td>0.034862</td>\n",
       "      <td>86703.0</td>\n",
       "      <td>1.000000</td>\n",
       "      <td>15.751172</td>\n",
       "      <td>0.063487</td>\n",
       "      <td>2</td>\n",
       "      <td>1.000000</td>\n",
       "    </tr>\n",
       "    <tr>\n",
       "      <th>625</th>\n",
       "      <td>tebetravelmade</td>\n",
       "      <td>3695.0</td>\n",
       "      <td>1.847500e+03</td>\n",
       "      <td>81.0</td>\n",
       "      <td>40.500000</td>\n",
       "      <td>0.0</td>\n",
       "      <td>13.0</td>\n",
       "      <td>20.0</td>\n",
       "      <td>2</td>\n",
       "      <td>55100.0</td>\n",
       "      <td>398.0</td>\n",
       "      <td>0.030853</td>\n",
       "      <td>114.0</td>\n",
       "      <td>0.984064</td>\n",
       "      <td>7.479332</td>\n",
       "      <td>0.133702</td>\n",
       "      <td>2</td>\n",
       "      <td>1.000000</td>\n",
       "    </tr>\n",
       "    <tr>\n",
       "      <th>596</th>\n",
       "      <td>seonguk_vn</td>\n",
       "      <td>332300.0</td>\n",
       "      <td>1.661500e+05</td>\n",
       "      <td>12438.0</td>\n",
       "      <td>6219.000000</td>\n",
       "      <td>136.0</td>\n",
       "      <td>79.0</td>\n",
       "      <td>169.0</td>\n",
       "      <td>2</td>\n",
       "      <td>310500.0</td>\n",
       "      <td>2449.0</td>\n",
       "      <td>0.038586</td>\n",
       "      <td>12822.0</td>\n",
       "      <td>1.000000</td>\n",
       "      <td>2.166944</td>\n",
       "      <td>0.461479</td>\n",
       "      <td>2</td>\n",
       "      <td>1.000000</td>\n",
       "    </tr>\n",
       "    <tr>\n",
       "      <th>313</th>\n",
       "      <td>homnay_tuiangi</td>\n",
       "      <td>165500.0</td>\n",
       "      <td>8.275000e+04</td>\n",
       "      <td>2074.0</td>\n",
       "      <td>1037.000000</td>\n",
       "      <td>48.0</td>\n",
       "      <td>312.0</td>\n",
       "      <td>158.0</td>\n",
       "      <td>2</td>\n",
       "      <td>146900.0</td>\n",
       "      <td>19800.0</td>\n",
       "      <td>0.015662</td>\n",
       "      <td>2592.0</td>\n",
       "      <td>1.000000</td>\n",
       "      <td>24.858767</td>\n",
       "      <td>0.040227</td>\n",
       "      <td>2</td>\n",
       "      <td>1.000000</td>\n",
       "    </tr>\n",
       "    <tr>\n",
       "      <th>613</th>\n",
       "      <td>sun111992</td>\n",
       "      <td>3720.0</td>\n",
       "      <td>1.240000e+03</td>\n",
       "      <td>83.0</td>\n",
       "      <td>27.666667</td>\n",
       "      <td>13.0</td>\n",
       "      <td>11.0</td>\n",
       "      <td>11.0</td>\n",
       "      <td>3</td>\n",
       "      <td>13300.0</td>\n",
       "      <td>886.0</td>\n",
       "      <td>0.031720</td>\n",
       "      <td>118.0</td>\n",
       "      <td>1.000000</td>\n",
       "      <td>26.823472</td>\n",
       "      <td>0.037281</td>\n",
       "      <td>3</td>\n",
       "      <td>1.000000</td>\n",
       "    </tr>\n",
       "    <tr>\n",
       "      <th>...</th>\n",
       "      <td>...</td>\n",
       "      <td>...</td>\n",
       "      <td>...</td>\n",
       "      <td>...</td>\n",
       "      <td>...</td>\n",
       "      <td>...</td>\n",
       "      <td>...</td>\n",
       "      <td>...</td>\n",
       "      <td>...</td>\n",
       "      <td>...</td>\n",
       "      <td>...</td>\n",
       "      <td>...</td>\n",
       "      <td>...</td>\n",
       "      <td>...</td>\n",
       "      <td>...</td>\n",
       "      <td>...</td>\n",
       "      <td>...</td>\n",
       "      <td>...</td>\n",
       "    </tr>\n",
       "    <tr>\n",
       "      <th>230</th>\n",
       "      <td>dung.thch.n</td>\n",
       "      <td>47589200.0</td>\n",
       "      <td>3.837839e+05</td>\n",
       "      <td>1289188.0</td>\n",
       "      <td>10396.677419</td>\n",
       "      <td>11668.0</td>\n",
       "      <td>82123.0</td>\n",
       "      <td>53940.0</td>\n",
       "      <td>124</td>\n",
       "      <td>148100.0</td>\n",
       "      <td>415.0</td>\n",
       "      <td>0.030194</td>\n",
       "      <td>1436919.0</td>\n",
       "      <td>0.996109</td>\n",
       "      <td>0.676288</td>\n",
       "      <td>1.478661</td>\n",
       "      <td>121</td>\n",
       "      <td>0.975806</td>\n",
       "    </tr>\n",
       "    <tr>\n",
       "      <th>753</th>\n",
       "      <td>wottueat</td>\n",
       "      <td>34471500.0</td>\n",
       "      <td>2.223968e+05</td>\n",
       "      <td>643043.0</td>\n",
       "      <td>4148.664516</td>\n",
       "      <td>12243.0</td>\n",
       "      <td>105954.0</td>\n",
       "      <td>34381.0</td>\n",
       "      <td>155</td>\n",
       "      <td>37200.0</td>\n",
       "      <td>2616.0</td>\n",
       "      <td>0.023081</td>\n",
       "      <td>795621.0</td>\n",
       "      <td>0.994226</td>\n",
       "      <td>0.719329</td>\n",
       "      <td>1.390185</td>\n",
       "      <td>155</td>\n",
       "      <td>1.000000</td>\n",
       "    </tr>\n",
       "    <tr>\n",
       "      <th>671</th>\n",
       "      <td>tinhtungtangvn</td>\n",
       "      <td>44916300.0</td>\n",
       "      <td>2.673589e+05</td>\n",
       "      <td>1387075.0</td>\n",
       "      <td>8256.398810</td>\n",
       "      <td>33578.0</td>\n",
       "      <td>628544.0</td>\n",
       "      <td>344698.0</td>\n",
       "      <td>168</td>\n",
       "      <td>296000.0</td>\n",
       "      <td>5446.0</td>\n",
       "      <td>0.053297</td>\n",
       "      <td>2393895.0</td>\n",
       "      <td>1.000000</td>\n",
       "      <td>0.651698</td>\n",
       "      <td>1.534452</td>\n",
       "      <td>164</td>\n",
       "      <td>0.976190</td>\n",
       "    </tr>\n",
       "    <tr>\n",
       "      <th>712</th>\n",
       "      <td>tunauan68</td>\n",
       "      <td>74496668.0</td>\n",
       "      <td>3.156638e+05</td>\n",
       "      <td>1842283.0</td>\n",
       "      <td>7806.283898</td>\n",
       "      <td>119717.0</td>\n",
       "      <td>51243.0</td>\n",
       "      <td>127426.0</td>\n",
       "      <td>236</td>\n",
       "      <td>275400.0</td>\n",
       "      <td>18.0</td>\n",
       "      <td>0.028735</td>\n",
       "      <td>2140669.0</td>\n",
       "      <td>0.991859</td>\n",
       "      <td>0.609479</td>\n",
       "      <td>1.640745</td>\n",
       "      <td>226</td>\n",
       "      <td>0.957627</td>\n",
       "    </tr>\n",
       "    <tr>\n",
       "      <th>627</th>\n",
       "      <td>th.gii.gia.v</td>\n",
       "      <td>13859746.0</td>\n",
       "      <td>5.435195e+04</td>\n",
       "      <td>138307.0</td>\n",
       "      <td>542.380392</td>\n",
       "      <td>2155.0</td>\n",
       "      <td>48674.0</td>\n",
       "      <td>56777.0</td>\n",
       "      <td>255</td>\n",
       "      <td>52400.0</td>\n",
       "      <td>94.0</td>\n",
       "      <td>0.017743</td>\n",
       "      <td>245913.0</td>\n",
       "      <td>1.000000</td>\n",
       "      <td>0.327807</td>\n",
       "      <td>3.050578</td>\n",
       "      <td>255</td>\n",
       "      <td>1.000000</td>\n",
       "    </tr>\n",
       "  </tbody>\n",
       "</table>\n",
       "<p>264 rows × 18 columns</p>\n",
       "</div>"
      ],
      "text/plain": [
       "           username  total_views     avg_views  total_likes     avg_likes  \\\n",
       "95          be_mup1    2487000.0  1.243500e+06      74100.0  37050.000000   \n",
       "625  tebetravelmade       3695.0  1.847500e+03         81.0     40.500000   \n",
       "596      seonguk_vn     332300.0  1.661500e+05      12438.0   6219.000000   \n",
       "313  homnay_tuiangi     165500.0  8.275000e+04       2074.0   1037.000000   \n",
       "613       sun111992       3720.0  1.240000e+03         83.0     27.666667   \n",
       "..              ...          ...           ...          ...           ...   \n",
       "230     dung.thch.n   47589200.0  3.837839e+05    1289188.0  10396.677419   \n",
       "753        wottueat   34471500.0  2.223968e+05     643043.0   4148.664516   \n",
       "671  tinhtungtangvn   44916300.0  2.673589e+05    1387075.0   8256.398810   \n",
       "712       tunauan68   74496668.0  3.156638e+05    1842283.0   7806.283898   \n",
       "627    th.gii.gia.v   13859746.0  5.435195e+04     138307.0    542.380392   \n",
       "\n",
       "     total_comments  total_shares  total_collects  total_videos  followers  \\\n",
       "95           2392.0        6406.0          3805.0             2    23900.0   \n",
       "625             0.0          13.0            20.0             2    55100.0   \n",
       "596           136.0          79.0           169.0             2   310500.0   \n",
       "313            48.0         312.0           158.0             2   146900.0   \n",
       "613            13.0          11.0            11.0             3    13300.0   \n",
       "..              ...           ...             ...           ...        ...   \n",
       "230         11668.0       82123.0         53940.0           124   148100.0   \n",
       "753         12243.0      105954.0         34381.0           155    37200.0   \n",
       "671         33578.0      628544.0        344698.0           168   296000.0   \n",
       "712        119717.0       51243.0        127426.0           236   275400.0   \n",
       "627          2155.0       48674.0         56777.0           255    52400.0   \n",
       "\n",
       "       likes  engagement_rate  total_engagement  vi_video_percentage  \\\n",
       "95     862.0         0.034862           86703.0             1.000000   \n",
       "625    398.0         0.030853             114.0             0.984064   \n",
       "596   2449.0         0.038586           12822.0             1.000000   \n",
       "313  19800.0         0.015662            2592.0             1.000000   \n",
       "613    886.0         0.031720             118.0             1.000000   \n",
       "..       ...              ...               ...                  ...   \n",
       "230    415.0         0.030194         1436919.0             0.996109   \n",
       "753   2616.0         0.023081          795621.0             0.994226   \n",
       "671   5446.0         0.053297         2393895.0             1.000000   \n",
       "712     18.0         0.028735         2140669.0             0.991859   \n",
       "627     94.0         0.017743          245913.0             1.000000   \n",
       "\n",
       "     days_between_videos  frequency  food_related_videos  \\\n",
       "95             15.751172   0.063487                    2   \n",
       "625             7.479332   0.133702                    2   \n",
       "596             2.166944   0.461479                    2   \n",
       "313            24.858767   0.040227                    2   \n",
       "613            26.823472   0.037281                    3   \n",
       "..                   ...        ...                  ...   \n",
       "230             0.676288   1.478661                  121   \n",
       "753             0.719329   1.390185                  155   \n",
       "671             0.651698   1.534452                  164   \n",
       "712             0.609479   1.640745                  226   \n",
       "627             0.327807   3.050578                  255   \n",
       "\n",
       "     food_video_percentage  \n",
       "95                1.000000  \n",
       "625               1.000000  \n",
       "596               1.000000  \n",
       "313               1.000000  \n",
       "613               1.000000  \n",
       "..                     ...  \n",
       "230               0.975806  \n",
       "753               1.000000  \n",
       "671               0.976190  \n",
       "712               0.957627  \n",
       "627               1.000000  \n",
       "\n",
       "[264 rows x 18 columns]"
      ]
     },
     "execution_count": 201,
     "metadata": {},
     "output_type": "execute_result"
    }
   ],
   "source": [
    "# Lọc lại danh sách user\n",
    "# users_by_threshold = user_stats_df[\n",
    "#     # (df_grouped[\"total_videos\"] >= 4) &\n",
    "#     (\n",
    "#         (user_stats_df[\"food_video_percentage\"]\n",
    "#          >= min_food_perc_threshold)\n",
    "#         &\n",
    "#         (user_stats_df[\"frequency\"]\n",
    "#          >= min_freq_threshold)\n",
    "#         &\n",
    "#         (user_stats_df[\"engagement_rate\"]\n",
    "#          >= min_eng_rate_threshold)\n",
    "#         &\n",
    "#         (user_stats_df[\"avg_views\"]\n",
    "#          >= min_avg_views_threshold)\n",
    "#     )\n",
    "# ]\n",
    "\n",
    "print(user_stats_df.shape)\n",
    "\n",
    "# Bước 0: Lọc theo vi_video_percentage\n",
    "min_vi_perc_threshold = 0.90\n",
    "users_by_threshold = user_stats_df[\n",
    "    user_stats_df[\"vi_video_percentage\"] >= min_vi_perc_threshold\n",
    "]\n",
    "print(f\"Min Vietnamese Video Percentage Threshold: {min_vi_perc_threshold}\")\n",
    "print(users_by_threshold.shape)\n",
    "\n",
    "# Bước 1: Lọc theo food_video_percentage\n",
    "# min_food_perc_threshold = users_by_threshold[\"food_video_percentage\"].quantile(\n",
    "#     0.6)\n",
    "min_food_perc_threshold = 0.75\n",
    "users_by_threshold = users_by_threshold[\n",
    "    users_by_threshold[\"food_video_percentage\"] >= min_food_perc_threshold\n",
    "]\n",
    "print(f\"Min Food Video Percentage Threshold: {min_food_perc_threshold}\")\n",
    "print(users_by_threshold.shape)\n",
    "\n",
    "# # Bước 2: Lọc tiếp theo avg_views\n",
    "# min_avg_views_threshold = users_by_threshold[\"avg_views\"].quantile(0.1)\n",
    "# users_by_threshold = users_by_threshold[\n",
    "#     users_by_threshold[\"avg_views\"] >= min_avg_views_threshold\n",
    "# ]\n",
    "# print(f\"Min Average Views Threshold: {min_avg_views_threshold}\")\n",
    "# print(users_by_threshold.shape)\n",
    "\n",
    "# # Bước 3: Lọc tiếp theo engagement_rate\n",
    "# min_eng_rate_threshold = users_by_threshold[\"engagement_rate\"].quantile(0.1)\n",
    "# users_by_threshold = users_by_threshold[\n",
    "#     users_by_threshold[\"engagement_rate\"] >= min_eng_rate_threshold\n",
    "# ]\n",
    "# print(f\"Min Engagement Rate Threshold: {min_eng_rate_threshold}\")\n",
    "# print(users_by_threshold.shape)\n",
    "\n",
    "# # Bước 4: Lọc cuối cùng theo frequency\n",
    "# min_freq_threshold = users_by_threshold[\"frequency\"].quantile(0.1)\n",
    "# users_by_threshold = users_by_threshold[\n",
    "#     users_by_threshold[\"frequency\"] >= min_freq_threshold\n",
    "# ]\n",
    "# print(f\"Min Frequency Threshold: {min_freq_threshold}\")\n",
    "# print(users_by_threshold.shape)\n",
    "\n",
    "users_by_threshold.sort_values(by=\"total_videos\", ascending=True)"
   ]
  },
  {
   "cell_type": "code",
   "execution_count": 197,
   "metadata": {},
   "outputs": [
    {
     "data": {
      "text/plain": [
       "(71504, 81)"
      ]
     },
     "execution_count": 197,
     "metadata": {},
     "output_type": "execute_result"
    }
   ],
   "source": [
    "video_info_df[video_info_df['author.uniqueId'].isin(\n",
    "    users_by_threshold['username'])].shape"
   ]
  },
  {
   "cell_type": "code",
   "execution_count": null,
   "metadata": {},
   "outputs": [
    {
     "name": "stdout",
     "output_type": "stream",
     "text": [
      "Successfully wrote 264 items to data/lists/final_users_list.txt\n"
     ]
    }
   ],
   "source": [
    "def write_list_to_file(file_path, data_list):\n",
    "    try:\n",
    "        with open(file_path, \"w\", encoding=\"utf-8\") as file:\n",
    "            for item in data_list:\n",
    "                file.write(str(item) + \"\\n\")\n",
    "        print(f\"Successfully wrote {len(data_list)} items to {file_path}\")\n",
    "    except Exception as e:\n",
    "        print(f\"Error writing to file: {e}\")\n",
    "\n",
    "\n",
    "write_list_to_file('data/lists/final_users_list.txt',\n",
    "                   list(users_by_threshold['username'].unique()))"
   ]
  },
  {
   "cell_type": "markdown",
   "metadata": {},
   "source": [
    "### Lọc bằng cách tính điểm\n"
   ]
  },
  {
   "cell_type": "code",
   "execution_count": 173,
   "metadata": {},
   "outputs": [],
   "source": [
    "\n",
    "def compute_score(df, columns_weights):\n",
    "    \"\"\"\n",
    "    Tính điểm tổng hợp cho DataFrame user_stats_df với các cột và trọng số linh hoạt.\n",
    "\n",
    "    Công thức tính điểm: \n",
    "      score = sum(weight_i * norm_column_i)\n",
    "    \"\"\"\n",
    "    df_copy = df.copy()\n",
    "\n",
    "    for col in columns_weights.keys():\n",
    "        df_copy[col] = df_copy[col].fillna(0).clip(lower=0)\n",
    "\n",
    "    max_values = {col: df_copy[col].max(\n",
    "    ) or 1 for col in columns_weights.keys()}\n",
    "\n",
    "    for col in columns_weights.keys():\n",
    "        df_copy[f\"norm_{col}\"] = df_copy[col] / max_values[col]\n",
    "\n",
    "    df_copy[\"score\"] = sum(\n",
    "        columns_weights[col] * df_copy[f\"norm_{col}\"]*100\n",
    "        for col in columns_weights.keys()\n",
    "    )\n",
    "\n",
    "    return df_copy"
   ]
  },
  {
   "cell_type": "code",
   "execution_count": 174,
   "metadata": {},
   "outputs": [
    {
     "data": {
      "application/vnd.microsoft.datawrangler.viewer.v0+json": {
       "columns": [
        {
         "name": "index",
         "rawType": "int64",
         "type": "integer"
        },
        {
         "name": "username",
         "rawType": "object",
         "type": "string"
        },
        {
         "name": "score",
         "rawType": "float64",
         "type": "float"
        },
        {
         "name": "followers",
         "rawType": "float64",
         "type": "float"
        },
        {
         "name": "avg_views",
         "rawType": "float64",
         "type": "float"
        },
        {
         "name": "frequency",
         "rawType": "float64",
         "type": "float"
        },
        {
         "name": "engagement_rate",
         "rawType": "float64",
         "type": "float"
        }
       ],
       "conversionMethod": "pd.DataFrame",
       "ref": "8e99c03f-8658-4538-92ab-bb6a4d3b2dba",
       "rows": [
        [
         "0",
         "tocvang.hoe",
         "101.1456896312543",
         "2400000.0",
         "2207667.6470588236",
         "0.49903759098844386",
         "0.02552788609751841"
        ],
        [
         "1",
         "haidangrevieww",
         "90.65363314651516",
         "2300000.0",
         "1948041.3793103448",
         "0.3277332918609106",
         "0.04330648644438623"
        ],
        [
         "2",
         "eatwpeach",
         "88.33085956480838",
         "3000000.0",
         "711232.6923076923",
         "0.7558426902400938",
         "0.05270989425185418"
        ],
        [
         "3",
         "bon.tq1",
         "87.30786409762436",
         "1300000.0",
         "2152925.0",
         "0.5149048260408349",
         "0.025223275975043917"
        ],
        [
         "4",
         "hoanganhdeptrailam",
         "85.37316127515655",
         "909900.0",
         "2211576.3157894737",
         "0.464030892427005",
         "0.04120344027063336"
        ],
        [
         "5",
         "matbu2828",
         "84.67802256586262",
         "848200.0",
         "2048564.4736842106",
         "0.9987140400814921",
         "0.02723130253598637"
        ],
        [
         "6",
         "spicykim9386",
         "83.24831147454813",
         "2900000.0",
         "701716.6666666666",
         "0.5405625228753672",
         "0.028004813592063908"
        ],
        [
         "7",
         "phansanh96",
         "82.84974981202065",
         "1400000.0",
         "1774903.7037037036",
         "0.24792534692331536",
         "0.04091673205014774"
        ],
        [
         "8",
         "genjadao",
         "77.27586111831602",
         "2800000.0",
         "784335.2941176471",
         "0.49187257426123043",
         "0.029991862723775096"
        ],
        [
         "9",
         "3tl.team",
         "73.12979438256555",
         "2100000.0",
         "678616.6666666666",
         "0.2677504776278052",
         "0.026869366603629933"
        ],
        [
         "10",
         "sammy.becool",
         "68.79626913385924",
         "1900000.0",
         "516711.29032258067",
         "0.9275885114297906",
         "0.04943360771130069"
        ],
        [
         "11",
         "donghyeontv",
         "68.51160082544774",
         "1000000.0",
         "1323303.2258064516",
         "0.32948489384217905",
         "0.04872123522758298"
        ],
        [
         "12",
         "huynhanhtuan_dienvien",
         "68.4454420564051",
         "1400000.0",
         "999552.7777777778",
         "0.3344543101154041",
         "0.025612371088181103"
        ],
        [
         "13",
         "ngocthanh_90",
         "67.40070832324469",
         "775100.0",
         "1308445.4545454546",
         "0.20000925968794853",
         "0.06454533137866587"
        ],
        [
         "14",
         "angithuongoi",
         "66.81034788992793",
         "409600.0",
         "1238977.9220779222",
         "0.9980362712255978",
         "0.028636947295267466"
        ],
        [
         "15",
         "binbunne",
         "66.72361219199993",
         "1600000.0",
         "711074.5762711865",
         "0.5951458417284027",
         "0.03706390900379945"
        ],
        [
         "16",
         "bepnhano",
         "66.6086833981384",
         "1900000.0",
         "373702.32558139536",
         "0.5",
         "0.027642010803275833"
        ],
        [
         "17",
         "khaikhampha",
         "65.78392784753366",
         "1700000.0",
         "340142.22222222225",
         "0.5010467469655936",
         "0.0536809439188836"
        ],
        [
         "18",
         "homnayangi9804",
         "65.41371878057578",
         "216500.0",
         "1389125.0",
         "0.7212832831746483",
         "0.0321979513482708"
        ],
        [
         "19",
         "bethanh117_",
         "64.19313556729834",
         "1100000.0",
         "532501.4084507042",
         "0.9999594923816744",
         "0.03924946307091696"
        ],
        [
         "20",
         "comnhain",
         "63.24226308987685",
         "395600.0",
         "1051372.3684210526",
         "0.9695718285518705",
         "0.03287093435522243"
        ],
        [
         "21",
         "duyet.hay.an",
         "62.55550819338191",
         "250400.0",
         "1138582.608695652",
         "0.9958621007618806",
         "0.03331520756801617"
        ],
        [
         "22",
         "bepnhalinh",
         "61.9740767334485",
         "1100000.0",
         "788304.0",
         "0.2505800464037123",
         "0.032842405975359756"
        ],
        [
         "23",
         "ansongnoigio",
         "61.211715874241854",
         "139200.0",
         "1224298.0",
         "0.502219735666175",
         "0.04593959967262872"
        ],
        [
         "24",
         "nguyenhimatto",
         "61.17178076321897",
         "597800.0",
         "964040.0",
         "0.5060888818598767",
         "0.03489336542052197"
        ],
        [
         "25",
         "lontodagi",
         "61.0959794479877",
         "329100.0",
         "1266132.0",
         "0.25",
         "0.07463872645190232"
        ],
        [
         "26",
         "vihovlife",
         "59.28970555975499",
         "311000.0",
         "913505.4794520548",
         "0.9873495834618944",
         "0.03470265828308533"
        ],
        [
         "27",
         "hellosolsol",
         "58.863326260518264",
         "1100000.0",
         "694554.1666666666",
         "0.29139401175188",
         "0.05631460229283773"
        ],
        [
         "28",
         "nha.emmy.dayo",
         "58.68010672292906",
         "182400.0",
         "1233709.0909090908",
         "0.249935816540168",
         "0.04474330916379285"
        ],
        [
         "29",
         "trangtam2607",
         "58.386124272000984",
         "666800.0",
         "992452.1739130435",
         "0.2500611405277043",
         "0.06281603757053236"
        ],
        [
         "30",
         "chi.lam.0129",
         "57.889347222614234",
         "533500.0",
         "1097629.6296296297",
         "0.28094363243208087",
         "0.031410278040221354"
        ],
        [
         "31",
         "nauandelam.kongnc",
         "57.75984137555794",
         "300900.0",
         "778148.2159090909",
         "0.9978230365464237",
         "0.02670848389291576"
        ],
        [
         "32",
         "mythuanpham7",
         "57.68256082078665",
         "1000000.0",
         "395200.0",
         "0.6193470691227888",
         "0.033126428431500585"
        ],
        [
         "33",
         "amthuccohuong",
         "57.592577886317486",
         "460500.0",
         "797707.5",
         "0.4992654037678936",
         "0.03315911533989589"
        ],
        [
         "34",
         "_tidofood",
         "57.361585624892044",
         "323800.0",
         "900931.1111111111",
         "0.5",
         "0.0273029631073038"
        ],
        [
         "35",
         "bihuyyy",
         "57.06764351745029",
         "590200.0",
         "836168.4210526316",
         "0.2861585696045944",
         "0.04371191902915555"
        ],
        [
         "36",
         "minn.cookie",
         "57.02460697981855",
         "790100.0",
         "436473.3333333333",
         "0.49141446601334327",
         "0.06201707626277283"
        ],
        [
         "37",
         "ongduymukbang",
         "56.826698878738064",
         "409900.0",
         "781976.2711864407",
         "0.6645770436320981",
         "0.025879215200079762"
        ],
        [
         "38",
         "utphungkim_",
         "56.79515697189372",
         "281200.0",
         "922323.3333333334",
         "0.3328245304005739",
         "0.040348937646595376"
        ],
        [
         "39",
         "titbeolaocai",
         "56.73744209296353",
         "619700.0",
         "425366.6666666667",
         "0.9993233747983136",
         "0.035986018823516694"
        ],
        [
         "40",
         "anvedem",
         "56.282355735712095",
         "827400.0",
         "753492.6829268293",
         "0.48245785473774727",
         "0.04027879921795088"
        ],
        [
         "41",
         "phuongoanh.daily",
         "56.12362864610115",
         "939400.0",
         "530089.8849557522",
         "1.0658508302287137",
         "0.0248497679229789"
        ],
        [
         "42",
         "dullmis",
         "55.54461422372505",
         "607900.0",
         "638866.6666666666",
         "0.49123355625519705",
         "0.04302011746992442"
        ],
        [
         "43",
         "putaangi",
         "55.48311733387362",
         "1600000.0",
         "312637.5",
         "0.1954616253855786",
         "0.032261271707115534"
        ],
        [
         "44",
         "thachthuyhuong_88",
         "53.89045891041717",
         "668600.0",
         "435961.90476190473",
         "0.497581202487906",
         "0.024729006466270534"
        ],
        [
         "45",
         "monngonguiban",
         "53.77353723262133",
         "332500.0",
         "352408.2947368421",
         "1.3537969774602205",
         "0.02276635581909357"
        ],
        [
         "46",
         "ot.revieww",
         "53.709868463606725",
         "618200.0",
         "495892.5",
         "0.48325728836169346",
         "0.052410098962980885"
        ],
        [
         "47",
         "tinhtungtangvn",
         "53.699139771598965",
         "296000.0",
         "267358.9285714286",
         "1.5344519085189607",
         "0.05329679871227149"
        ],
        [
         "48",
         "tunauan68",
         "53.07120470832653",
         "275400.0",
         "315663.8474576271",
         "1.6407451717655102",
         "0.028735097252940225"
        ],
        [
         "49",
         "nuchuu.0401",
         "52.924485670810256",
         "758000.0",
         "182899.2857142857",
         "0.5005888001946734",
         "0.06696021880373924"
        ]
       ],
       "shape": {
        "columns": 6,
        "rows": 183
       }
      },
      "text/html": [
       "<div>\n",
       "<style scoped>\n",
       "    .dataframe tbody tr th:only-of-type {\n",
       "        vertical-align: middle;\n",
       "    }\n",
       "\n",
       "    .dataframe tbody tr th {\n",
       "        vertical-align: top;\n",
       "    }\n",
       "\n",
       "    .dataframe thead th {\n",
       "        text-align: right;\n",
       "    }\n",
       "</style>\n",
       "<table border=\"1\" class=\"dataframe\">\n",
       "  <thead>\n",
       "    <tr style=\"text-align: right;\">\n",
       "      <th></th>\n",
       "      <th>username</th>\n",
       "      <th>score</th>\n",
       "      <th>followers</th>\n",
       "      <th>avg_views</th>\n",
       "      <th>frequency</th>\n",
       "      <th>engagement_rate</th>\n",
       "    </tr>\n",
       "  </thead>\n",
       "  <tbody>\n",
       "    <tr>\n",
       "      <th>0</th>\n",
       "      <td>tocvang.hoe</td>\n",
       "      <td>101.145690</td>\n",
       "      <td>2400000.0</td>\n",
       "      <td>2.207668e+06</td>\n",
       "      <td>0.499038</td>\n",
       "      <td>0.025528</td>\n",
       "    </tr>\n",
       "    <tr>\n",
       "      <th>1</th>\n",
       "      <td>haidangrevieww</td>\n",
       "      <td>90.653633</td>\n",
       "      <td>2300000.0</td>\n",
       "      <td>1.948041e+06</td>\n",
       "      <td>0.327733</td>\n",
       "      <td>0.043306</td>\n",
       "    </tr>\n",
       "    <tr>\n",
       "      <th>2</th>\n",
       "      <td>eatwpeach</td>\n",
       "      <td>88.330860</td>\n",
       "      <td>3000000.0</td>\n",
       "      <td>7.112327e+05</td>\n",
       "      <td>0.755843</td>\n",
       "      <td>0.052710</td>\n",
       "    </tr>\n",
       "    <tr>\n",
       "      <th>3</th>\n",
       "      <td>bon.tq1</td>\n",
       "      <td>87.307864</td>\n",
       "      <td>1300000.0</td>\n",
       "      <td>2.152925e+06</td>\n",
       "      <td>0.514905</td>\n",
       "      <td>0.025223</td>\n",
       "    </tr>\n",
       "    <tr>\n",
       "      <th>4</th>\n",
       "      <td>hoanganhdeptrailam</td>\n",
       "      <td>85.373161</td>\n",
       "      <td>909900.0</td>\n",
       "      <td>2.211576e+06</td>\n",
       "      <td>0.464031</td>\n",
       "      <td>0.041203</td>\n",
       "    </tr>\n",
       "    <tr>\n",
       "      <th>...</th>\n",
       "      <td>...</td>\n",
       "      <td>...</td>\n",
       "      <td>...</td>\n",
       "      <td>...</td>\n",
       "      <td>...</td>\n",
       "      <td>...</td>\n",
       "    </tr>\n",
       "    <tr>\n",
       "      <th>178</th>\n",
       "      <td>cundaily216</td>\n",
       "      <td>37.930596</td>\n",
       "      <td>9140.0</td>\n",
       "      <td>1.945481e+05</td>\n",
       "      <td>0.640267</td>\n",
       "      <td>0.051364</td>\n",
       "    </tr>\n",
       "    <tr>\n",
       "      <th>179</th>\n",
       "      <td>nunloangquang</td>\n",
       "      <td>37.924290</td>\n",
       "      <td>51300.0</td>\n",
       "      <td>8.537100e+04</td>\n",
       "      <td>0.336914</td>\n",
       "      <td>0.067560</td>\n",
       "    </tr>\n",
       "    <tr>\n",
       "      <th>180</th>\n",
       "      <td>thuntuoither</td>\n",
       "      <td>37.858267</td>\n",
       "      <td>254100.0</td>\n",
       "      <td>1.160400e+05</td>\n",
       "      <td>0.438054</td>\n",
       "      <td>0.069669</td>\n",
       "    </tr>\n",
       "    <tr>\n",
       "      <th>181</th>\n",
       "      <td>nartman.review</td>\n",
       "      <td>37.539055</td>\n",
       "      <td>69900.0</td>\n",
       "      <td>2.647693e+05</td>\n",
       "      <td>0.287567</td>\n",
       "      <td>0.034467</td>\n",
       "    </tr>\n",
       "    <tr>\n",
       "      <th>182</th>\n",
       "      <td>uynkitchen</td>\n",
       "      <td>31.682106</td>\n",
       "      <td>52600.0</td>\n",
       "      <td>4.645180e+04</td>\n",
       "      <td>0.198332</td>\n",
       "      <td>0.024013</td>\n",
       "    </tr>\n",
       "  </tbody>\n",
       "</table>\n",
       "<p>183 rows × 6 columns</p>\n",
       "</div>"
      ],
      "text/plain": [
       "               username       score  followers     avg_views  frequency  \\\n",
       "0           tocvang.hoe  101.145690  2400000.0  2.207668e+06   0.499038   \n",
       "1        haidangrevieww   90.653633  2300000.0  1.948041e+06   0.327733   \n",
       "2             eatwpeach   88.330860  3000000.0  7.112327e+05   0.755843   \n",
       "3               bon.tq1   87.307864  1300000.0  2.152925e+06   0.514905   \n",
       "4    hoanganhdeptrailam   85.373161   909900.0  2.211576e+06   0.464031   \n",
       "..                  ...         ...        ...           ...        ...   \n",
       "178         cundaily216   37.930596     9140.0  1.945481e+05   0.640267   \n",
       "179       nunloangquang   37.924290    51300.0  8.537100e+04   0.336914   \n",
       "180        thuntuoither   37.858267   254100.0  1.160400e+05   0.438054   \n",
       "181      nartman.review   37.539055    69900.0  2.647693e+05   0.287567   \n",
       "182          uynkitchen   31.682106    52600.0  4.645180e+04   0.198332   \n",
       "\n",
       "     engagement_rate  \n",
       "0           0.025528  \n",
       "1           0.043306  \n",
       "2           0.052710  \n",
       "3           0.025223  \n",
       "4           0.041203  \n",
       "..               ...  \n",
       "178         0.051364  \n",
       "179         0.067560  \n",
       "180         0.069669  \n",
       "181         0.034467  \n",
       "182         0.024013  \n",
       "\n",
       "[183 rows x 6 columns]"
      ]
     },
     "metadata": {},
     "output_type": "display_data"
    }
   ],
   "source": [
    "\n",
    "# Ví dụ sử dụng:\n",
    "columns_weights = {\n",
    "    \"food_video_percentage\": 0.35,\n",
    "    \"engagement_rate\": 0.05,\n",
    "    \"avg_views\": 0.35,\n",
    "    \"frequency\": 0.1,\n",
    "    \"followers\": 0.35\n",
    "}\n",
    "# columns_weights = {\n",
    "#     \"avg_views\": 0.35,\n",
    "#     \"engagement_rate\": 0.25,\n",
    "#     \"followers\": 0.35,\n",
    "#     \"frequency\": 0.05\n",
    "# }\n",
    "\n",
    "# Tính điểm cho DataFrame\n",
    "# users_by_score = compute_score(\n",
    "#     user_stats_df[user_stats_df['vi_video_percentage'] >= 0.8], columns_weights)\n",
    "# users_by_score = compute_score(users_by_threshold, columns_weights)\n",
    "users_by_score = compute_score(\n",
    "    users_by_threshold, columns_weights)\n",
    "\n",
    "# In kết quả\n",
    "users_by_score.sort_values('score', ascending=False)\n",
    "\n",
    "# Sau đó bạn có thể:\n",
    "users_by_score = users_by_score.sort_values(\n",
    "    \"score\", ascending=False, ignore_index=True)\n",
    "\n",
    "uesr_by_score_top = users_by_score.head(len(users_by_threshold))\n",
    "display(users_by_score[[\"username\", \"score\"]].merge(user_stats_df[[\n",
    "        'followers', 'username', 'avg_views', 'frequency', 'engagement_rate']]))"
   ]
  },
  {
   "cell_type": "code",
   "execution_count": 175,
   "metadata": {},
   "outputs": [
    {
     "data": {
      "text/plain": [
       "Index(['username', 'total_views', 'avg_views', 'total_likes', 'avg_likes',\n",
       "       'total_comments', 'total_shares', 'total_collects', 'total_videos',\n",
       "       'followers', 'likes', 'engagement_rate', 'total_engagement',\n",
       "       'vi_video_percentage', 'days_between_videos', 'frequency',\n",
       "       'food_related_videos', 'food_video_percentage'],\n",
       "      dtype='object')"
      ]
     },
     "execution_count": 175,
     "metadata": {},
     "output_type": "execute_result"
    }
   ],
   "source": [
    "user_stats_df.columns"
   ]
  },
  {
   "cell_type": "code",
   "execution_count": 176,
   "metadata": {},
   "outputs": [
    {
     "data": {
      "application/vnd.microsoft.datawrangler.viewer.v0+json": {
       "columns": [
        {
         "name": "index",
         "rawType": "object",
         "type": "string"
        },
        {
         "name": "weight",
         "rawType": "float64",
         "type": "float"
        }
       ],
       "conversionMethod": "pd.DataFrame",
       "ref": "ff59a1fa-10ed-48c2-bcde-77846e7f9337",
       "rows": [
        [
         "engagement_rate",
         "0.019139357367008517"
        ],
        [
         "food_video_percentage",
         "0.04474905289549074"
        ],
        [
         "food_related_videos",
         "0.07153475011035418"
        ],
        [
         "avg_views",
         "0.07395874254071041"
        ],
        [
         "total_videos",
         "0.09455047644631566"
        ],
        [
         "followers",
         "0.11252425713270874"
        ],
        [
         "total_views",
         "0.18163303914346757"
        ],
        [
         "frequency",
         "0.19673725817701954"
        ],
        [
         "total_engagement",
         "0.20517306618692477"
        ]
       ],
       "shape": {
        "columns": 1,
        "rows": 9
       }
      },
      "text/html": [
       "<div>\n",
       "<style scoped>\n",
       "    .dataframe tbody tr th:only-of-type {\n",
       "        vertical-align: middle;\n",
       "    }\n",
       "\n",
       "    .dataframe tbody tr th {\n",
       "        vertical-align: top;\n",
       "    }\n",
       "\n",
       "    .dataframe thead th {\n",
       "        text-align: right;\n",
       "    }\n",
       "</style>\n",
       "<table border=\"1\" class=\"dataframe\">\n",
       "  <thead>\n",
       "    <tr style=\"text-align: right;\">\n",
       "      <th></th>\n",
       "      <th>weight</th>\n",
       "    </tr>\n",
       "  </thead>\n",
       "  <tbody>\n",
       "    <tr>\n",
       "      <th>engagement_rate</th>\n",
       "      <td>0.019139</td>\n",
       "    </tr>\n",
       "    <tr>\n",
       "      <th>food_video_percentage</th>\n",
       "      <td>0.044749</td>\n",
       "    </tr>\n",
       "    <tr>\n",
       "      <th>food_related_videos</th>\n",
       "      <td>0.071535</td>\n",
       "    </tr>\n",
       "    <tr>\n",
       "      <th>avg_views</th>\n",
       "      <td>0.073959</td>\n",
       "    </tr>\n",
       "    <tr>\n",
       "      <th>total_videos</th>\n",
       "      <td>0.094550</td>\n",
       "    </tr>\n",
       "    <tr>\n",
       "      <th>followers</th>\n",
       "      <td>0.112524</td>\n",
       "    </tr>\n",
       "    <tr>\n",
       "      <th>total_views</th>\n",
       "      <td>0.181633</td>\n",
       "    </tr>\n",
       "    <tr>\n",
       "      <th>frequency</th>\n",
       "      <td>0.196737</td>\n",
       "    </tr>\n",
       "    <tr>\n",
       "      <th>total_engagement</th>\n",
       "      <td>0.205173</td>\n",
       "    </tr>\n",
       "  </tbody>\n",
       "</table>\n",
       "</div>"
      ],
      "text/plain": [
       "                         weight\n",
       "engagement_rate        0.019139\n",
       "food_video_percentage  0.044749\n",
       "food_related_videos    0.071535\n",
       "avg_views              0.073959\n",
       "total_videos           0.094550\n",
       "followers              0.112524\n",
       "total_views            0.181633\n",
       "frequency              0.196737\n",
       "total_engagement       0.205173"
      ]
     },
     "metadata": {},
     "output_type": "display_data"
    }
   ],
   "source": [
    "import json\n",
    "\n",
    "\n",
    "def calculate_entropy_weights(df, columns_to_maximize):\n",
    "    \"\"\"\n",
    "    Tính trọng số (weights) cho mỗi cột trong DataFrame df dựa trên phương pháp Entropy Weighting.\n",
    "    \"\"\"\n",
    "    # 1) Chuẩn hóa dữ liệu về [0..1]\n",
    "    df_normalized = df[columns_to_maximize].copy()\n",
    "    for col in columns_to_maximize:\n",
    "        df_normalized[col] = (df[col] - df[col].min()) / \\\n",
    "            (df[col].max() - df[col].min())\n",
    "\n",
    "    # 2) Tính entropy cho mỗi cột\n",
    "    n = len(df)  # số lượng user\n",
    "    p = df_normalized / df_normalized.sum(axis=0)  # xác suất\n",
    "    entropy = - (p * np.log(p + 1e-9)).sum(axis=0) / np.log(n)  # tránh log(0)\n",
    "\n",
    "    # 3) Tính trọng số (weights) cho mỗi cột\n",
    "    weights = (1 - entropy) / (1 - entropy).sum()\n",
    "\n",
    "    # Trả về DataFrame với trọng số\n",
    "    weights_df = pd.DataFrame(\n",
    "        weights, columns=['weight'], index=columns_to_maximize)\n",
    "\n",
    "    return weights_df\n",
    "\n",
    "\n",
    "columns_to_maximize = ['total_views', 'avg_views', 'total_videos', 'total_engagement', 'followers',\n",
    "                       # 'total_likes', 'avg_likes', 'total_comments', 'total_shares', 'total_collects', 'cluster', 'days_between_videos',\n",
    "                       'engagement_rate', 'frequency', 'food_related_videos', 'food_video_percentage']\n",
    "\n",
    "\n",
    "# Tính trọng số cho mỗi cột\n",
    "weights_df = calculate_entropy_weights(\n",
    "    user_stats_df, columns_to_maximize).sort_values(\"weight\")\n",
    "display(weights_df)\n",
    "# Xem kết quả\n",
    "columns_weights = json.loads(weights_df.to_json())['weight']"
   ]
  },
  {
   "cell_type": "code",
   "execution_count": 177,
   "metadata": {},
   "outputs": [
    {
     "data": {
      "application/vnd.microsoft.datawrangler.viewer.v0+json": {
       "columns": [
        {
         "name": "index",
         "rawType": "int64",
         "type": "integer"
        },
        {
         "name": "username",
         "rawType": "object",
         "type": "string"
        },
        {
         "name": "score",
         "rawType": "float64",
         "type": "float"
        }
       ],
       "conversionMethod": "pd.DataFrame",
       "ref": "376760bc-30d5-4c81-8e59-fc5f7775093b",
       "rows": [
        [
         "432",
         "metropolesoficial",
         "58.9537320039147"
        ],
        [
         "480",
         "neko.nailstudio",
         "33.07222646530642"
        ],
        [
         "6",
         "60giay.com",
         "32.849960961548355"
        ],
        [
         "637",
         "thao_denn",
         "22.590488916211346"
        ],
        [
         "94",
         "bayashi.tiktok",
         "21.672103299345906"
        ],
        [
         "323",
         "huayang2025",
         "17.311349499939432"
        ],
        [
         "702",
         "truonggiangchannel",
         "15.545671671923404"
        ],
        [
         "349",
         "juniamatou",
         "15.434366645801017"
        ],
        [
         "343",
         "janemukbangs",
         "14.370269561100445"
        ],
        [
         "677",
         "tommywinkler",
         "13.767443084072182"
        ],
        [
         "597",
         "shhhhimeating",
         "12.734546450803242"
        ],
        [
         "373",
         "kudog_5339",
         "11.83126695609218"
        ],
        [
         "507",
         "nguyentruonggver2",
         "11.811502460222561"
        ],
        [
         "627",
         "th.gii.gia.v",
         "11.655149310738905"
        ],
        [
         "712",
         "tunauan68",
         "11.21644850831579"
        ],
        [
         "737",
         "vietphuongthoa98",
         "11.021819050372796"
        ],
        [
         "237",
         "ebi_chicken0",
         "10.963436297901284"
        ],
        [
         "370",
         "kookmutsjes",
         "9.69274170045144"
        ],
        [
         "324",
         "hughabroad",
         "9.613309892226155"
        ],
        [
         "671",
         "tinhtungtangvn",
         "9.571759588456828"
        ],
        [
         "425",
         "matbu2828",
         "9.316428103829429"
        ],
        [
         "753",
         "wottueat",
         "9.1125182902681"
        ],
        [
         "132",
         "bon.tq1",
         "8.487027467104983"
        ],
        [
         "230",
         "dung.thch.n",
         "8.38488757998924"
        ],
        [
         "400",
         "lifeofcian",
         "8.384199826073083"
        ],
        [
         "45",
         "angithuongoi",
         "8.280931969836827"
        ],
        [
         "304",
         "hoanganhdeptrailam",
         "8.114394784549571"
        ],
        [
         "457",
         "muoidian",
         "8.073953741543363"
        ],
        [
         "675",
         "tocvang.hoe",
         "7.977630207849884"
        ],
        [
         "185",
         "comnhain",
         "7.960664105695526"
        ],
        [
         "476",
         "nauandelam.kongnc",
         "7.937661778149084"
        ],
        [
         "133",
         "bonggil.eating.show",
         "7.845023818985213"
        ],
        [
         "232",
         "duyet.hay.an",
         "7.719176235505131"
        ],
        [
         "449",
         "monngonguiban",
         "7.686159081467121"
        ],
        [
         "669",
         "tieusanhanuong",
         "7.657002361010229"
        ],
        [
         "211",
         "dicungphuc",
         "7.656219023176425"
        ],
        [
         "672",
         "titbeolaocai",
         "7.638251013382749"
        ],
        [
         "738",
         "vihovlife",
         "7.51542041461103"
        ],
        [
         "236",
         "eatwpeach",
         "7.483267360815274"
        ],
        [
         "193",
         "cuong10yen",
         "7.476615669716135"
        ],
        [
         "315",
         "homnayangi9804",
         "7.429377637429757"
        ],
        [
         "121",
         "bethanh117_",
         "7.420835858130958"
        ],
        [
         "184",
         "comnhacungthu",
         "7.410049816983909"
        ],
        [
         "290",
         "hasibkhan1171",
         "7.388271278464344"
        ],
        [
         "62",
         "ansongnoigio",
         "7.37020343947431"
        ],
        [
         "78",
         "bang.bang.oi",
         "7.3604333782664755"
        ],
        [
         "43",
         "andy_cooks",
         "7.3459847803423335"
        ],
        [
         "556",
         "phuongoanh.daily",
         "7.335115886030591"
        ],
        [
         "542",
         "phansanh96",
         "7.31218081603392"
        ],
        [
         "235",
         "eatwithhoen_",
         "7.281247457512277"
        ]
       ],
       "shape": {
        "columns": 2,
        "rows": 100
       }
      },
      "text/html": [
       "<div>\n",
       "<style scoped>\n",
       "    .dataframe tbody tr th:only-of-type {\n",
       "        vertical-align: middle;\n",
       "    }\n",
       "\n",
       "    .dataframe tbody tr th {\n",
       "        vertical-align: top;\n",
       "    }\n",
       "\n",
       "    .dataframe thead th {\n",
       "        text-align: right;\n",
       "    }\n",
       "</style>\n",
       "<table border=\"1\" class=\"dataframe\">\n",
       "  <thead>\n",
       "    <tr style=\"text-align: right;\">\n",
       "      <th></th>\n",
       "      <th>username</th>\n",
       "      <th>score</th>\n",
       "    </tr>\n",
       "  </thead>\n",
       "  <tbody>\n",
       "    <tr>\n",
       "      <th>432</th>\n",
       "      <td>metropolesoficial</td>\n",
       "      <td>58.953732</td>\n",
       "    </tr>\n",
       "    <tr>\n",
       "      <th>480</th>\n",
       "      <td>neko.nailstudio</td>\n",
       "      <td>33.072226</td>\n",
       "    </tr>\n",
       "    <tr>\n",
       "      <th>6</th>\n",
       "      <td>60giay.com</td>\n",
       "      <td>32.849961</td>\n",
       "    </tr>\n",
       "    <tr>\n",
       "      <th>637</th>\n",
       "      <td>thao_denn</td>\n",
       "      <td>22.590489</td>\n",
       "    </tr>\n",
       "    <tr>\n",
       "      <th>94</th>\n",
       "      <td>bayashi.tiktok</td>\n",
       "      <td>21.672103</td>\n",
       "    </tr>\n",
       "    <tr>\n",
       "      <th>...</th>\n",
       "      <td>...</td>\n",
       "      <td>...</td>\n",
       "    </tr>\n",
       "    <tr>\n",
       "      <th>337</th>\n",
       "      <td>huynhanhtuan_dienvien</td>\n",
       "      <td>6.491673</td>\n",
       "    </tr>\n",
       "    <tr>\n",
       "      <th>403</th>\n",
       "      <td>linhduyen171</td>\n",
       "      <td>6.472876</td>\n",
       "    </tr>\n",
       "    <tr>\n",
       "      <th>223</th>\n",
       "      <td>donghyeontv</td>\n",
       "      <td>6.472573</td>\n",
       "    </tr>\n",
       "    <tr>\n",
       "      <th>261</th>\n",
       "      <td>giang.ghin.chill</td>\n",
       "      <td>6.465658</td>\n",
       "    </tr>\n",
       "    <tr>\n",
       "      <th>528</th>\n",
       "      <td>ohanoi.vn</td>\n",
       "      <td>6.458637</td>\n",
       "    </tr>\n",
       "  </tbody>\n",
       "</table>\n",
       "<p>100 rows × 2 columns</p>\n",
       "</div>"
      ],
      "text/plain": [
       "                  username      score\n",
       "432      metropolesoficial  58.953732\n",
       "480        neko.nailstudio  33.072226\n",
       "6               60giay.com  32.849961\n",
       "637              thao_denn  22.590489\n",
       "94          bayashi.tiktok  21.672103\n",
       "..                     ...        ...\n",
       "337  huynhanhtuan_dienvien   6.491673\n",
       "403           linhduyen171   6.472876\n",
       "223            donghyeontv   6.472573\n",
       "261       giang.ghin.chill   6.465658\n",
       "528              ohanoi.vn   6.458637\n",
       "\n",
       "[100 rows x 2 columns]"
      ]
     },
     "execution_count": 177,
     "metadata": {},
     "output_type": "execute_result"
    }
   ],
   "source": [
    "# Tính điểm cho DataFrame\n",
    "df_with_scores = compute_score(user_stats_df, columns_weights)\n",
    "\n",
    "# In kết quả\n",
    "df_with_scores.sort_values('score', ascending=False)\n",
    "\n",
    "# Sau đó bạn có thể:\n",
    "user_stats_df_scored = df_with_scores.sort_values(\n",
    "    \"score\", ascending=False)\n",
    "user_stats_df_scored[[\"username\", \"score\"]].head(100)  # Xem top 20"
   ]
  },
  {
   "cell_type": "code",
   "execution_count": 178,
   "metadata": {},
   "outputs": [],
   "source": [
    "# from sklearn.cluster import KMeans\n",
    "# columns_to_consider = ['total_views', 'avg_views', 'total_likes', 'avg_likes',\n",
    "#                        'total_comments', 'total_shares', 'total_collects',\n",
    "#                        'total_videos', 'engagement_rate', 'days_between_videos',\n",
    "#                        'food_related_videos', 'food_video_percentage', 'frequency']\n",
    "# # Sử dụng các cột để phân nhóm (có thể chuẩn hóa dữ liệu nếu cần)\n",
    "# X = user_stats_df[columns_to_consider]\n",
    "\n",
    "# # Áp dụng KMeans (giả sử chia thành 3 nhóm)\n",
    "# kmeans = KMeans(n_clusters=3)\n",
    "# user_stats_df['cluster'] = kmeans.fit_predict(X)\n",
    "\n",
    "# # Lấy các centroid của mỗi nhóm\n",
    "# centroids = kmeans.cluster_centers_\n",
    "\n",
    "# # Các cột quan trọng có thể được xác định từ các giá trị lớn trong centroids\n",
    "# centroid_df = pd.DataFrame(centroids, columns=columns_to_consider)\n",
    "# centroid_df"
   ]
  },
  {
   "cell_type": "code",
   "execution_count": 179,
   "metadata": {},
   "outputs": [],
   "source": [
    "# def get_pareto_front(df, columns_maximize):\n",
    "#     \"\"\"\n",
    "#     Tìm Pareto front trong DataFrame df, coi tất cả cột trong columns_maximize\n",
    "#     đều là \"càng lớn càng tốt\".\n",
    "\n",
    "#     Trả về sub-DataFrame gồm các hàng không bị chi phối bởi bất kỳ hàng nào khác.\n",
    "#     \"\"\"\n",
    "#     dominated = set()\n",
    "#     n = len(df)\n",
    "\n",
    "#     for i in range(n):\n",
    "#         if i in dominated:\n",
    "#             # Hàng này đã bị chi phối, không cần check nữa\n",
    "#             continue\n",
    "\n",
    "#         # Kiểm tra xem có hàng j nào chi phối i không\n",
    "#         for j in range(n):\n",
    "#             if i == j:\n",
    "#                 continue\n",
    "#             # Nếu j >= i trên toàn bộ columns,\n",
    "#             # và j > i trên ít nhất 1 cột => i bị chi phối\n",
    "#             if (df.iloc[j][columns_maximize] >= df.iloc[i][columns_maximize]).all() \\\n",
    "#                and (df.iloc[j][columns_maximize] > df.iloc[i][columns_maximize]).any():\n",
    "#                 dominated.add(i)\n",
    "#                 break\n",
    "\n",
    "#     # Các hàng không bị chi phối -> Pareto front\n",
    "#     indices_front = [idx for idx in range(n) if idx not in dominated]\n",
    "#     return df.iloc[indices_front].copy()"
   ]
  },
  {
   "cell_type": "code",
   "execution_count": 180,
   "metadata": {},
   "outputs": [],
   "source": [
    "# # Tìm Pareto front\n",
    "# pareto_df = get_pareto_front(user_stats_df, columns_to_maximize)\n",
    "\n",
    "# print(f\"Số user trên Pareto front: {len(pareto_df)}\")\n",
    "# pareto_df.head()"
   ]
  },
  {
   "cell_type": "code",
   "execution_count": 181,
   "metadata": {},
   "outputs": [],
   "source": [
    "# pareto_df.columns"
   ]
  }
 ],
 "metadata": {
  "kernelspec": {
   "display_name": ".venv",
   "language": "python",
   "name": "python3"
  },
  "language_info": {
   "codemirror_mode": {
    "name": "ipython",
    "version": 3
   },
   "file_extension": ".py",
   "mimetype": "text/x-python",
   "name": "python",
   "nbconvert_exporter": "python",
   "pygments_lexer": "ipython3",
   "version": "3.10.11"
  }
 },
 "nbformat": 4,
 "nbformat_minor": 2
}
