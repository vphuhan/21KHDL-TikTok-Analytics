{
 "cells": [
  {
   "cell_type": "markdown",
   "metadata": {},
   "source": [
    "# 1. Core Video Metadata\n",
    "\n",
    "| Thuộc tính | Mô tả |\n",
    "|------------|--------|\n",
    "| `id` | Định danh duy nhất cho video (quan trọng để loại bỏ trùng lặp) |\n",
    "| `createTime` | Thời gian tạo video (chuyển đổi UNIX epoch sang datetime) |\n",
    "| `desc` | Mô tả/chú thích video (phân tích văn bản để tìm từ khóa, hashtag, xu hướng) |\n",
    "| `textLanguage` | Ngôn ngữ của mô tả video (hữu ích cho phân đoạn) |\n",
    "| `playlistId` | Nếu video thuộc về một playlist hoặc series |"
   ]
  },
  {
   "cell_type": "markdown",
   "metadata": {},
   "source": [
    "# 2. Chi tiết Tác giả/Người dùng\n",
    "\n",
    "| Thuộc tính | Mô tả |\n",
    "|------------|--------|\n",
    "| `author.id` | ID duy nhất của người tạo video |\n",
    "| `author.nickname` | Tên người dùng của người tạo |\n",
    "| `author.uniqueId` | Handle duy nhất của người tạo (ví dụ: `@kicap.official`) |\n",
    "| `author.signature` | Bio/mô tả của người tạo (phân tích cảm xúc hoặc từ khóa) |\n",
    "| `author.verified` | Người tạo có được xác minh hay không |\n",
    "| `authorStats.followerCount` | Tổng số người theo dõi của người tạo |\n",
    "| `authorStats.followingCount` | Số tài khoản mà người tạo đang theo dõi |\n",
    "| `authorStats.videoCount` | Tổng số video đã đăng bởi người tạo |"
   ]
  },
  {
   "cell_type": "markdown",
   "metadata": {},
   "source": [
    "# 3. Chỉ số Tương tác\n",
    "\n",
    "| Thuộc tính | Mô tả |\n",
    "|------------|--------|\n",
    "| `stats.playCount` | Tổng số lượt xem video |\n",
    "| `stats.diggCount` | Số lượt thích (\"diggs\") |\n",
    "| `stats.shareCount` | Số lượt chia sẻ |\n",
    "| `stats.commentCount` | Số lượt bình luận |\n",
    "| `stats.collectCount` | Số lần video được lưu/đánh dấu |\n",
    "| `statsV2.playCount` | Nguồn thứ cấp cho lượt xem (xác nhận tính nhất quán) |"
   ]
  },
  {
   "cell_type": "markdown",
   "metadata": {},
   "source": [
    "# 4. Chi tiết Nội dung\n",
    "\n",
    "| Thuộc tính | Mô tả |\n",
    "|------------|--------|\n",
    "| `video.duration` | Độ dài của video tính bằng giây |\n",
    "| `video.height` & `video.width` | Độ phân giải video (phân tích tỷ lệ khung hình) |\n",
    "| `video.ratio` | Định dạng video (ví dụ: `540p`) |\n",
    "| `music.title` | Tên của âm thanh/nhạc được sử dụng |\n",
    "| `music.authorName` | Nghệ sĩ/nhạc sĩ của âm thanh |\n",
    "| `stickersOnItem.stickerText` | Văn bản chồng lên/sticker trên video |"
   ]
  },
  {
   "cell_type": "markdown",
   "metadata": {},
   "source": [
    "# 5. Hashtag & Thử thách\n",
    "\n",
    "| Thuộc tính | Mô tả |\n",
    "|------------|--------|\n",
    "| `challenges` | Danh sách các thử thách hashtag mà video tham gia (trích xuất `title`) |\n",
    "| `textExtra` | Hashtag trong video và đề cập (trích xuất `hashtagName`) |"
   ]
  },
  {
   "cell_type": "markdown",
   "metadata": {},
   "source": [
    "# 6. Metadata Kỹ thuật/Quảng cáo\n",
    "\n",
    "| Thuộc tính | Mô tả |\n",
    "|------------|--------|\n",
    "| `isAd` | Video có phải là quảng cáo hay không |\n",
    "| `adAuthorization` | Nếu video được ủy quyền làm quảng cáo |\n",
    "| `video.bitrate` | Chất lượng/băng thông của video |"
   ]
  },
  {
   "cell_type": "markdown",
   "metadata": {},
   "source": [
    "# 7. Ngữ cảnh Bổ sung\n",
    "\n",
    "| Thuộc tính | Mô tả |\n",
    "|------------|--------|\n",
    "| `duetEnabled` & `stitchEnabled` | Người dùng có thể duet/stitch video hay không |\n",
    "| `video.cover` | URL hình thu nhỏ (để phân tích hình ảnh) |\n",
    "| `video.downloadAddr` | URL tải trực tiếp (nếu cần để xử lý thêm) |"
   ]
  }
 ],
 "metadata": {
  "kernelspec": {
   "display_name": "Python 3",
   "language": "python",
   "name": "python3"
  },
  "language_info": {
   "codemirror_mode": {
    "name": "ipython",
    "version": 3
   },
   "file_extension": ".py",
   "mimetype": "text/x-python",
   "name": "python",
   "nbconvert_exporter": "python",
   "pygments_lexer": "ipython3",
   "version": "3.8.0"
  }
 },
 "nbformat": 4,
 "nbformat_minor": 4
}
