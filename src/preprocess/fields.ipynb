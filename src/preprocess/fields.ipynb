{
 "cells": [
  {
   "cell_type": "markdown",
   "metadata": {},
   "source": [
    "# 1. Core Video Metadata\n",
    "\n",
    "| Thuộc tính | Mô tả | Liên quan đến Phân tích |\n",
    "|------------|--------|----------------------|\n",
    "| `id` | Định danh video duy nhất | Quan trọng cho việc loại bỏ trùng lặp và theo dõi video cụ thể |\n",
    "| `createTime` | Thời gian tạo video dạng UNIX | Chuyển đổi sang datetime để phân tích xu hướng theo thời gian |\n",
    "| `desc` | Mô tả/chú thích video | Phân tích văn bản cho hashtag, từ khóa, hoặc cảm xúc |\n",
    "| `textLanguage` | Ngôn ngữ của mô tả video (ví dụ: vi cho Tiếng Việt) | Phân đoạn khán giả theo ngôn ngữ |\n",
    "| `playlistId` | ID của playlist mà video thuộc về (nếu có) | Theo dõi nội dung theo chuỗi hoặc chủ đề |\n",
    "| `CategoryType` | Mã số danh mục (ví dụ: 120) | Có thể chỉ ra phân loại nội bộ của TikTok (cần giải mã) |\n",
    "| `video.duration` | Độ dài video tính bằng giây | Phân tích độ dài video tối ưu cho tương tác |"
   ]
  },
  {
   "cell_type": "markdown",
   "metadata": {},
   "source": [
    "# 2. Chi tiết Tác giả/Người dùng\n",
    "\n",
    "| Thuộc tính | Mô tả | Liên quan đến Phân tích |\n",
    "|------------|--------|----------------------|\n",
    "| `author.id` | ID duy nhất của người tạo | Theo dõi hiệu suất của từng người tạo |\n",
    "| `author.nickname` | Tên hiển thị của người tạo (ví dụ: kicap.official) | Nhận diện thương hiệu/cá nhân |\n",
    "| `author.uniqueId` | Handle duy nhất của người tạo (ví dụ: @username) | Dùng cho URL hồ sơ |\n",
    "| `author.signature` | Bio/mô tả trên hồ sơ người tạo | Phân tích cảm xúc hoặc từ khóa |\n",
    "| `author.verified` | Người tạo có được xác minh hay không (true/false) | So sánh hiệu suất giữa tài khoản xác minh và chưa xác minh |\n",
    "| `authorStats.followerCount` | Tổng số người theo dõi của người tạo | Đo lường ảnh hưởng của người tạo |\n",
    "| `authorStats.videoCount` | Tổng số video đã đăng của người tạo | Phân tích mức độ hoạt động của người tạo |"
   ]
  },
  {
   "cell_type": "markdown",
   "metadata": {},
   "source": [
    "# 3. Chỉ số Tương tác\n",
    "\n",
    "| Thuộc tính | Mô tả | Liên quan đến Phân tích |\n",
    "|------------|--------|----------------------|\n",
    "| `stats.playCount` | Tổng lượt xem video | Chỉ số chính cho độ phủ sóng |\n",
    "| `stats.diggCount` | Số lượt thích | Đo lường sự hài lòng của khán giả |\n",
    "| `stats.shareCount` | Số lượt chia sẻ | Chỉ số tiềm năng viral |\n",
    "| `stats.commentCount` | Số lượt bình luận | Chỉ số tương tác của khán giả |\n",
    "| `stats.collectCount` | Số lần video được lưu/đánh dấu | Độ hữu ích/cộng hưởng của nội dung |\n",
    "| `statsV2 fields` | Chỉ số tương tác thay thế | Xác nhận tính nhất quán với các trường stats |"
   ]
  },
  {
   "cell_type": "markdown",
   "metadata": {},
   "source": [
    "# 4. Chi tiết Nội dung & Kỹ thuật\n",
    "\n",
    "| Thuộc tính | Mô tả | Liên quan đến Phân tích |\n",
    "|------------|--------|----------------------|\n",
    "| `music.title` | Tên của âm thanh/nhạc được sử dụng | Phân tích xu hướng (âm thanh phổ biến) |\n",
    "| `music.playUrl` | URL đến file âm thanh | Ít hữu ích trừ khi phân tích âm thanh trực tiếp |\n",
    "| `video.bitrate` | Chất lượng/băng thông video | Bitrate cao hơn = chất lượng tốt hơn (có thể liên quan đến tương tác) |\n",
    "| `video.height & video.width` | Độ phân giải video | Tối ưu hóa tỷ lệ khung hình (dọc vs ngang) |\n",
    "| `video.codecType` | Định dạng mã hóa video | Gỡ lỗi kỹ thuật (ít liên quan đến phân tích) |"
   ]
  },
  {
   "cell_type": "markdown",
   "metadata": {},
   "source": [
    "# 5. Hashtag & Thử thách\n",
    "\n",
    "| Thuộc tính | Mô tả | Liên quan đến Phân tích |\n",
    "|------------|--------|----------------------|\n",
    "| `challenges` | Danh sách các thử thách hashtag | Trích xuất tên thử thách (ví dụ: #banphimco) để theo dõi xu hướng |\n",
    "| `textExtra` | Hashtag và đề cập trong video | Trích xuất hashtagName để phân loại nội dung |"
   ]
  },
  {
   "cell_type": "markdown",
   "metadata": {},
   "source": [
    "# 6. Quảng cáo & Kiếm tiền\n",
    "\n",
    "| Thuộc tính | Mô tả | Liên quan đến Phân tích |\n",
    "|------------|--------|----------------------|\n",
    "| `isAd` | Video có phải là quảng cáo không | Lọc quảng cáo khỏi nội dung hữu cơ |\n",
    "| `adAuthorization` | Video có được ủy quyền làm quảng cáo không | Kiểm tra tuân thủ/pháp lý |"
   ]
  },
  {
   "cell_type": "markdown",
   "metadata": {},
   "source": [
    "# 7. Điều khiển Tương tác Người dùng\n",
    "\n",
    "| Thuộc tính | Mô tả | Liên quan đến Phân tích |\n",
    "|------------|--------|----------------------|\n",
    "| `duetEnabled` | Có cho phép người dùng duet video không | Đo lường tiềm năng hợp tác |\n",
    "| `stitchEnabled` | Có cho phép người dùng stitch video không | Tương tự như duets (tính năng remix của TikTok) |\n",
    "| `item_control.can_comment` | Có cho phép bình luận không | Phân tích chiến lược kiểm duyệt |\n",
    "| `item_control.can_share` | Có cho phép chia sẻ không | Ít thay đổi, nhưng hữu ích cho nội dung hạn chế |"
   ]
  },
  {
   "cell_type": "markdown",
   "metadata": {},
   "source": [
    "# 8. Điểm Quan tâm (POI)\n",
    "\n",
    "| Thuộc tính | Mô tả | Liên quan đến Phân tích |\n",
    "|------------|--------|----------------------|\n",
    "| `poi.address` | Địa chỉ được gắn thẻ trong video | Phân tích địa lý (xu hướng địa phương) |\n",
    "| `poi.city / poi.country` | Thành phố/quốc gia của vị trí được gắn thẻ | Hiểu biết về khán giả theo khu vực |"
   ]
  },
  {
   "cell_type": "markdown",
   "metadata": {},
   "source": [
    "# 9. Trường Không còn sử dụng/Nhiễu\n",
    "\n",
    "| Thuộc tính | Mô tả | Khuyến nghị |\n",
    "|------------|--------|-------------|\n",
    "| `AIGCDescription` | Có thể là metadata nội dung tạo bởi AI (trống trong mẫu) | Bỏ qua - không có dữ liệu có ý nghĩa |\n",
    "| `BAInfo` | Mục đích không rõ ràng (trống trong mẫu) | Bỏ qua - có thể là nội bộ/không còn sử dụng |\n",
    "| `author.ftc` | Từ viết tắt không rõ (có thể liên quan đến \"FTC\" về tuân thủ) | Điều tra - độ liên quan không rõ ràng |\n",
    "| `vl1` | Cờ không có tài liệu (không có ngữ cảnh) | Bỏ qua - có thể là nội bộ |\n",
    "| `video.claInfo fields` | Metadata phụ đề | Chỉ liên quan đến phân tích khả năng tiếp cận |\n",
    "| `collectedTime` | Thời gian khi dữ liệu được thu thập | Bỏ qua - không phải là metadata gốc của TikTok |"
   ]
  }
 ],
 "metadata": {
  "kernelspec": {
   "display_name": "Python 3",
   "language": "python",
   "name": "python3"
  },
  "language_info": {
   "codemirror_mode": {
    "name": "ipython",
    "version": 3
   },
   "file_extension": ".py",
   "mimetype": "text/x-python",
   "name": "python",
   "nbconvert_exporter": "python",
   "pygments_lexer": "ipython3",
   "version": "3.8.0"
  }
 },
 "nbformat": 4,
 "nbformat_minor": 4
}
